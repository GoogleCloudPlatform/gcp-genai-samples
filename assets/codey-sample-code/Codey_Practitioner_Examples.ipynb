{
  "nbformat": 4,
  "nbformat_minor": 0,
  "metadata": {
    "colab": {
      "provenance": []
    },
    "kernelspec": {
      "name": "python3",
      "display_name": "Python 3"
    },
    "language_info": {
      "name": "python"
    }
  },
  "cells": [
    {
      "cell_type": "markdown",
      "source": [
        "## Overview\n",
        "\n",
        "Codey models are text-to-code models from Google AI, trained on a massive code related dataset. You can generate code related responses for different scenarios such as writing functions, unit tests, debugging, autocompleting and etc. This notebook is to show you how to use Code-bison and Codechat-bison Python SDKs to explain code and translate code.\n",
        "\n",
        "The notebook is structured as follows:\n",
        "\n",
        "1. We will show how to use Code-bison and Codechat-bison Python SDKs to explain Cobol code.\n",
        "2. We will show how to use Code-bison to translate code from R to Python.\n",
        "\n",
        "Refer to the doc for the latest codey model overview: https://cloud.google.com/vertex-ai/docs/generative-ai/code/code-models-overview\n"
      ],
      "metadata": {
        "id": "qhqOkOsjgJ1f"
      }
    },
    {
      "cell_type": "markdown",
      "source": [
        "* Author: [leip@](https://moma.corp.google.com/person/leip)\n",
        "* Date: 09/22/23"
      ],
      "metadata": {
        "id": "6KRow482_RCb"
      }
    },
    {
      "cell_type": "markdown",
      "source": [
        "## Prep Work"
      ],
      "metadata": {
        "id": "Zw9NzqCg6Wff"
      }
    },
    {
      "cell_type": "code",
      "source": [
        "# @title Install Libraries\n",
        "import sys\n",
        "\n",
        "if 'google.colab' in sys.modules:\n",
        "    ! pip install google-cloud-aiplatform\n",
        "    ! pip install google-cloud-discoveryengine\n",
        "    from google.colab import auth as google_auth\n",
        "    google_auth.authenticate_user()"
      ],
      "metadata": {
        "id": "LWo-Dxmx6F26"
      },
      "execution_count": null,
      "outputs": []
    },
    {
      "cell_type": "code",
      "source": [
        "# @title Initialize Vertex AI\n",
        "import vertexai\n",
        "from vertexai.language_models import CodeGenerationModel\n",
        "\n",
        "VERTEX_API_PROJECT = 'certain-haiku-391918'\n",
        "VERTEX_API_LOCATION = 'us-central1'\n",
        "\n",
        "vertexai.init(project=VERTEX_API_PROJECT, location=VERTEX_API_LOCATION)\n",
        "code_generation_model = CodeGenerationModel.from_pretrained(\"code-bison@001\")"
      ],
      "metadata": {
        "id": "PKzpbtZ4EFqS"
      },
      "execution_count": null,
      "outputs": []
    },
    {
      "cell_type": "markdown",
      "source": [
        "## Cobol Code Explanation with Code-bison\n",
        "\n",
        "#### Quote from a customer - \"Code-bison did a good job at explaining Cobol.\"\n",
        "\n"
      ],
      "metadata": {
        "id": "mUZEf28uEKz4"
      }
    },
    {
      "cell_type": "code",
      "source": [
        "# @title Set Up Cobol Explanation Prompt\n",
        "\n",
        "prefix = \"\"\"You're an expert Cobol programmer and great at explaining Cobol code to non-technical audience. please explain the code below to a non-technical c-level executive:\n",
        "\n",
        "IDENTIFICATION DIVISION.\n",
        "           PROGRAM-ID. SORT-PROGRAM.\n",
        "       ENVIRONMENT DIVISION.\n",
        "       INPUT-OUTPUT SECTION.\n",
        "       FILE-CONTROL.\n",
        "       SELECT IN-FILE ASSIGN TO\n",
        "       \"/Users/leip/UNSORTED.txt\"\n",
        "       ORGANISATION IS LINE SEQUENTIAL.\n",
        "       SELECT OUT-FILE ASSIGN TO\n",
        "       \"/Users/leip/SORTED.txt\"\n",
        "       ORGANISATION IS LINE SEQUENTIAL.\n",
        "       SELECT WORK-FILE ASSIGN TO DISK.\n",
        "       DATA DIVISION.\n",
        "       FILE SECTION.\n",
        "       FD IN-FILE\n",
        "       RECORD CONTAINS 7 CHARACTERS.\n",
        "       01 IN-REC.\n",
        "           02 ITEM-NO-IN PIC XXX.\n",
        "           02 ITEM-QTY-IN PIC 9999.\n",
        "       FD OUT-FILE\n",
        "       RECORD CONTAINS 132 CHARACTERS.\n",
        "       01 OUT-REC PIC X(132).\n",
        "       SD WORK-FILE.\n",
        "       01 WORK-REC.\n",
        "           02 ITEM-NO-WORK PIC XXX.\n",
        "           02 ITEM-QTY-WORK PIC 9999.\n",
        "       WORKING-STORAGE SECTION.\n",
        "      * 01 ARE-THERE-MORE-RECORDS PIC XXX VALUE \"YES\".\n",
        "       PROCEDURE DIVISION.\n",
        "       000-MAIN-PROCEDURE.\n",
        "           SORT WORK-FILE\n",
        "               ON ASCENDING KEY ITEM-NO-IN\n",
        "                            USING IN-FILE\n",
        "                            GIVING OUT-FILE\n",
        "            STOP RUN.\n",
        "\n",
        "\"\"\""
      ],
      "metadata": {
        "id": "qtoGc2a0EdMo"
      },
      "execution_count": null,
      "outputs": []
    },
    {
      "cell_type": "code",
      "source": [
        "# @title Invoke Code-bison model with Parameters and Prompt\n",
        "parameters = {\n",
        "    \"temperature\": 0.2,\n",
        "    \"max_output_tokens\": 512\n",
        "}\n",
        "\n",
        "response = code_generation_model.predict(\n",
        "        prefix=prefix, **parameters\n",
        ")\n",
        "\n",
        "print(type(response))"
      ],
      "metadata": {
        "id": "xlIrFS2BEJNA"
      },
      "execution_count": null,
      "outputs": []
    },
    {
      "cell_type": "code",
      "source": [
        "print(response.text)"
      ],
      "metadata": {
        "colab": {
          "base_uri": "https://localhost:8080/"
        },
        "id": "m2QULB0RGWv_",
        "outputId": "d866c8e3-4ad1-45b0-e2cd-d31eb0abe223"
      },
      "execution_count": null,
      "outputs": [
        {
          "output_type": "stream",
          "name": "stdout",
          "text": [
            "This program sorts the data in the file \"/Users/gaetanodorsi/Desktop/COBOL/lesson5/UNSORTED.txt\" and writes the sorted data to the file \"/Users/gaetanodorsi/Desktop/COBOL/lesson5/SORTED.txt\".\n",
            "\n",
            "The program first opens the two files and creates a work file. The work file is used to store the data from the input file in a temporary location.\n",
            "\n",
            "The program then sorts the data in the work file by the item number. The item number is a three-digit number that is stored in the first two fields of the record.\n",
            "\n",
            "Once the data is sorted, the program writes the sorted data to the output file.\n",
            "\n",
            "The program ends by closing the two files.\n"
          ]
        }
      ]
    },
    {
      "cell_type": "markdown",
      "source": [
        "## Follow-up Code Explanation Questions with Code-chat"
      ],
      "metadata": {
        "id": "ilZYru0RKMSl"
      }
    },
    {
      "cell_type": "code",
      "source": [
        "# @title Initialize CodeChat-bison\n",
        "\n",
        "from vertexai.language_models import CodeChatModel\n",
        "\n",
        "code_chat_model = CodeChatModel.from_pretrained(\"codechat-bison@001\")\n",
        "chat = code_chat_model.start_chat()"
      ],
      "metadata": {
        "id": "5eD9AAY2Kdi-"
      },
      "execution_count": null,
      "outputs": []
    },
    {
      "cell_type": "code",
      "source": [
        "# @title Set Up Cobol Explanation Prompt\n",
        "message_1 = \"\"\"You're an expert Cobol programmer and great at explaining Cobol code to non-technical audience. please explain the code line by line below:\n",
        "\n",
        "IDENTIFICATION DIVISION.\n",
        "           PROGRAM-ID. SORT-PROGRAM.\n",
        "       ENVIRONMENT DIVISION.\n",
        "       INPUT-OUTPUT SECTION.\n",
        "       FILE-CONTROL.\n",
        "       SELECT IN-FILE ASSIGN TO\n",
        "       \"/Users/leip/UNSORTED.txt\"\n",
        "       ORGANISATION IS LINE SEQUENTIAL.\n",
        "       SELECT OUT-FILE ASSIGN TO\n",
        "       \"/Users/leip/SORTED.txt\"\n",
        "       ORGANISATION IS LINE SEQUENTIAL.\n",
        "       SELECT WORK-FILE ASSIGN TO DISK.\n",
        "       DATA DIVISION.\n",
        "       FILE SECTION.\n",
        "       FD IN-FILE\n",
        "       RECORD CONTAINS 7 CHARACTERS.\n",
        "       01 IN-REC.\n",
        "           02 ITEM-NO-IN PIC XXX.\n",
        "           02 ITEM-QTY-IN PIC 9999.\n",
        "       FD OUT-FILE\n",
        "       RECORD CONTAINS 132 CHARACTERS.\n",
        "       01 OUT-REC PIC X(132).\n",
        "       SD WORK-FILE.\n",
        "       01 WORK-REC.\n",
        "           02 ITEM-NO-WORK PIC XXX.\n",
        "           02 ITEM-QTY-WORK PIC 9999.\n",
        "       WORKING-STORAGE SECTION.\n",
        "      * 01 ARE-THERE-MORE-RECORDS PIC XXX VALUE \"YES\".\n",
        "       PROCEDURE DIVISION.\n",
        "       000-MAIN-PROCEDURE.\n",
        "           SORT WORK-FILE\n",
        "               ON ASCENDING KEY ITEM-NO-IN\n",
        "                            USING IN-FILE\n",
        "                            GIVING OUT-FILE\n",
        "            STOP RUN.\n",
        "\n",
        "\"\"\""
      ],
      "metadata": {
        "id": "mKpfjZ7PIaR5"
      },
      "execution_count": null,
      "outputs": []
    },
    {
      "cell_type": "code",
      "source": [
        "# @title Invoke CodeChat-bison model with Parameters and Prompt\n",
        "parameters = {\n",
        "    \"temperature\": 0.2,\n",
        "    \"max_output_tokens\": 1024\n",
        "}\n",
        "\n",
        "response_1 = chat.send_message(message_1)\n",
        "\n",
        "print(response_1)"
      ],
      "metadata": {
        "colab": {
          "base_uri": "https://localhost:8080/"
        },
        "id": "VJvw7wL5IlmC",
        "outputId": "9a9c22a3-97df-4261-eb27-c926ce2dd091"
      },
      "execution_count": null,
      "outputs": [
        {
          "output_type": "stream",
          "name": "stdout",
          "text": [
            "The first line of code, IDENTIFICATION DIVISION., identifies the program as SORT-PROGRAM.\n",
            "\n",
            "The next section, ENVIRONMENT DIVISION, specifies the input and output files for the program. The IN-FILE file is assigned to the file \"/Users/gaetanodorsi/Desktop/COBOL/lesson5/UNSORTED.txt\" and is organized in a line sequential format. The OUT-FILE file is assigned to the file \"/Users/gaetanodorsi/Desktop/COBOL/lesson5/SORTED.txt\" and is also organized in a line sequential format.\n",
            "\n",
            "The DATA DIVISION section defines the data structures that will be used by the program. The IN-FILE file is defined as a record that contains 7 characters. The OUT-FILE file is defined as a record that contains 132 characters. The WORK-FILE file is defined as a record that contains two fields: ITEM-NO-WORK and ITEM-QTY-WORK.\n",
            "\n",
            "The WORKING-STORAGE SECTION defines a variable named ARE-THERE-MORE-RECORDS. This variable will be used to keep track of whether there are more records to be read from the IN-FILE file.\n",
            "\n",
            "The PROCEDURE DIVISION section contains the main logic of the program. The first statement in this section, SORT WORK-FILE, sorts the records in the WORK-FILE file on the ascending key ITEM-NO-WORK. The next statement, USING IN-FILE, specifies that the IN-FILE file will be used as the source of data for the sort. The final statement, GIVING OUT-FILE, specifies that the OUT-FILE file will be used as the destination for the sorted data.\n",
            "\n",
            "The last statement in the program, STOP RUN, terminates the program.\n"
          ]
        }
      ]
    },
    {
      "cell_type": "code",
      "source": [
        "# @title Set Up Follow-up Question Prompt\n",
        "\n",
        "message_2 = \"\"\" Ok. Can you explain that what the code below does in the contex of the code block above?\n",
        "\n",
        "01 IN-REC.\n",
        "           02 ITEM-NO-IN PIC XXX.\n",
        "           02 ITEM-QTY-IN PIC 9999.\n",
        "\"\"\""
      ],
      "metadata": {
        "id": "HPm6Q_P5LcqI"
      },
      "execution_count": null,
      "outputs": []
    },
    {
      "cell_type": "code",
      "source": [
        "# @title Invoke CodeChat-bison model with Parameters and Follow-up Question Prompt\n",
        "\n",
        "response_2 = chat.send_message(message_2)\n",
        "\n",
        "print(response_2)"
      ],
      "metadata": {
        "colab": {
          "base_uri": "https://localhost:8080/"
        },
        "id": "fKvC4mi5Mcqw",
        "outputId": "0590bc5d-3be2-4aba-8772-15daef135f24"
      },
      "execution_count": null,
      "outputs": [
        {
          "output_type": "stream",
          "name": "stdout",
          "text": [
            "The code you provided defines the IN-REC record. This record is used to store the data from the IN-FILE file. The ITEM-NO-IN field is a three-character field that stores the item number. The ITEM-QTY-IN field is a four-digit field that stores the item quantity.\n"
          ]
        }
      ]
    },
    {
      "cell_type": "markdown",
      "source": [
        "## Code Translation from R to Python with Code-bison\n"
      ],
      "metadata": {
        "id": "CUWeb8hdQ5WR"
      }
    },
    {
      "cell_type": "code",
      "source": [
        "# @title Set Up Code Translation Prompt\n",
        "\n",
        "## Translate code fromc c++ to python\n",
        "prompt = \"\"\"You're an expert R and Python programmer and great at translating R code to Python. please translate R code below to Python:\n",
        "\n",
        "# Load libraries\n",
        "library(dplyr)\n",
        "library(bigrquery)\n",
        "\n",
        "# Prepare training and evaluation data from BigQuery\n",
        "sample_size <- 10000\n",
        "sql_query <- sprintf(sql_query, sample_size)\n",
        "\n",
        "train_query <- paste('SELECT * FROM (', sql_query,\n",
        "  ') WHERE MOD(CAST(key AS INT64), 100) <= 75')\n",
        "eval_query <- paste('SELECT * FROM (', sql_query,\n",
        "  ') WHERE MOD(CAST(key AS INT64), 100) > 75')\n",
        "\n",
        "# Load training data to data frame\n",
        "train_data <- bq_table_download(\n",
        "    bq_project_query(\"\n",
        "        PROJECT_ID,\n",
        "        query = train_query\n",
        "    )\n",
        ")\n",
        "\n",
        "# Load evaluation data to data frame\n",
        "eval_data <- bq_table_download(\n",
        "    bq_project_query(\n",
        "        PROJECT_ID,\n",
        "        query = eval_query\n",
        "    )\n",
        ")\n",
        "\"\"\""
      ],
      "metadata": {
        "id": "4h6QQa8bGbFH"
      },
      "execution_count": null,
      "outputs": []
    },
    {
      "cell_type": "code",
      "source": [
        "# @title Invoke CodeChat-bison with Parameters and Code Translation Prompt\n",
        "parameters = {\n",
        "    \"temperature\": 0.2,\n",
        "    \"max_output_tokens\": 512\n",
        "}\n",
        "\n",
        "response = code_generation_model.predict(\n",
        "        prefix=prompt, **parameters\n",
        ")\n",
        "\n",
        "print(response.text)"
      ],
      "metadata": {
        "id": "7C0VW7aDPXxd",
        "colab": {
          "base_uri": "https://localhost:8080/"
        },
        "outputId": "af60ec72-1c9b-4838-eb2a-bbd5a3e737be"
      },
      "execution_count": null,
      "outputs": [
        {
          "output_type": "stream",
          "name": "stdout",
          "text": [
            "```python\n",
            "# Load libraries\n",
            "import pandas as pd\n",
            "from google.cloud import bigquery\n",
            "\n",
            "# Prepare training and evaluation data from BigQuery\n",
            "sample_size = 10000\n",
            "sql_query = \"\"\"\n",
            "SELECT *\n",
            "FROM `PROJECT_ID.DATASET_ID.TABLE_ID`\n",
            "LIMIT {0}\n",
            "\"\"\".format(sample_size)\n",
            "\n",
            "train_query = \"\"\"\n",
            "SELECT *\n",
            "FROM (\n",
            "  {0}\n",
            ")\n",
            "WHERE MOD(CAST(key AS INT64), 100) <= 75\n",
            "\"\"\".format(sql_query)\n",
            "\n",
            "eval_query = \"\"\"\n",
            "SELECT *\n",
            "FROM (\n",
            "  {0}\n",
            ")\n",
            "WHERE MOD(CAST(key AS INT64), 100) > 75\n",
            "\"\"\".format(sql_query)\n",
            "\n",
            "# Load training data to data frame\n",
            "train_data = pd.read_gbq(train_query)\n",
            "\n",
            "# Load evaluation data to data frame\n",
            "eval_data = pd.read_gbq(eval_query)\n",
            "```\n"
          ]
        }
      ]
    }
  ]
}