{
  "cells": [
    {
      "cell_type": "code",
      "execution_count": null,
      "metadata": {
        "id": "Js_h8jjWM1mu"
      },
      "outputs": [],
      "source": [
        "# Copyright 2024 Google LLC\n",
        "#\n",
        "# Licensed under the Apache License, Version 2.0 (the \"License\");\n",
        "# you may not use this file except in compliance with the License.\n",
        "# You may obtain a copy of the License at\n",
        "#\n",
        "#     https://www.apache.org/licenses/LICENSE-2.0\n",
        "#\n",
        "# Unless required by applicable law or agreed to in writing, software\n",
        "# distributed under the License is distributed on an \"AS IS\" BASIS,\n",
        "# WITHOUT WARRANTIES OR CONDITIONS OF ANY KIND, either express or implied.\n",
        "# See the License for the specific language governing permissions and\n",
        "# limitations under the License."
      ]
    },
    {
      "cell_type": "markdown",
      "source": [
        "See [Google Cloud Marketplace](https://console.cloud.google.com/marketplace/product/city-of-new-york/nyc-311) for terms of use of the dataset featured in this notebook."
      ],
      "metadata": {
        "id": "si1MarbUIZ_k"
      }
    },
    {
      "cell_type": "markdown",
      "source": [
        "# Working with Pandas Using the Vertex AI Extensions Code Interpreter Extension\n"
      ],
      "metadata": {
        "id": "ZJ5caKL2Ff2B"
      }
    },
    {
      "cell_type": "markdown",
      "source": [
        "<table align=\"left\">\n",
        "  <td style=\"text-align: center\">\n",
        "    <a href=\"https://colab.research.google.com/github/GoogleCloudPlatform/generative-ai/blob/main/notebook_template.ipynb\">\n",
        "      <img src=\"https://cloud.google.com/ml-engine/images/colab-logo-32px.png\" alt=\"Google Colaboratory logo\"><br> Open in Colab\n",
        "    </a>\n",
        "  </td>\n",
        "  <td style=\"text-align: center\">\n",
        "    <a href=\"https://console.cloud.google.com/vertex-ai/colab/import/https:%2F%2Fraw.githubusercontent.com%2FGoogleCloudPlatform%2Fgenerative-ai%2Fmain%2Fnotebook_template.ipynb\">\n",
        "      <img width=\"32px\" src=\"https://lh3.googleusercontent.com/JmcxdQi-qOpctIvWKgPtrzZdJJK-J3sWE1RsfjZNwshCFgE_9fULcNpuXYTilIR2hjwN\" alt=\"Google Cloud Colab Enterprise logo\"><br> Open in Colab Enterprise\n",
        "    </a>\n",
        "  </td>    \n",
        "  <td style=\"text-align: center\">\n",
        "    <a href=\"https://console.cloud.google.com/vertex-ai/workbench/deploy-notebook?download_url=https://raw.githubusercontent.com/GoogleCloudPlatform/generative-ai/main/notebook_template.ipynb\">\n",
        "      <img src=\"https://lh3.googleusercontent.com/UiNooY4LUgW_oTvpsNhPpQzsstV5W8F7rYgxgGBD85cWJoLmrOzhVs_ksK_vgx40SHs7jCqkTkCk=e14-rj-sc0xffffff-h130-w32\" alt=\"Vertex AI logo\"><br> Open in Vertex AI Workbench\n",
        "    </a>\n",
        "  </td>\n",
        "  <td style=\"text-align: center\">\n",
        "    <a href=\"https://github.com/GoogleCloudPlatform/generative-ai/blob/main/notebook_template.ipynb\">\n",
        "      <img src=\"https://cloud.google.com/ml-engine/images/github-logo-32px.png\" alt=\"GitHub logo\"><br> View on GitHub\n",
        "    </a>\n",
        "  </td>\n",
        "</table>"
      ],
      "metadata": {
        "id": "5Qj-TzSNGUii"
      }
    },
    {
      "cell_type": "markdown",
      "source": [
        "| | |\n",
        "|----------|-------------|\n",
        "| Author(s)   | Michael W. Sherman |\n",
        "| Reviewers(s) | YOU |\n",
        "| Last updated | 2024 03 28: Initial examples |\n",
        "| | 2024 04 07: Complete draft |"
      ],
      "metadata": {
        "id": "ocycMnwJGUii"
      }
    },
    {
      "cell_type": "markdown",
      "source": [
        "# Overview\n",
        "\n",
        "This notebook shows how to use the [Vertex AI Extensions](https://cloud.google.com/vertex-ai/generative-ai/docs/extensions/overview) Google-provided [Code Interpreter Extension](https://console.cloud.google.com/vertex-ai/generative-ai/docs/extensions/google-extensions.md#google_code_interpreter_extension) with [pandas](https://pandas.pydata.org/pandas-docs/stable/index.html) DataFrame.\n",
        "\n",
        "When your datasets is small, you can send the entire dataset to Code Interpreter by attaching a file. But what if your dataset is too large?\n",
        "\n",
        "One workaround is to send Code Interpreter relevant information about your dataset and then ask it to generate pandas code. Pandas DataFrames are only limited in size by the memory of your working environment, and [other frameworks](https://cloud.google.com/python/docs/reference/bigframes/latest) that support pandas code let you work with even larger datasets.\n",
        "\n",
        "In this notebook you will work with a real-world dataset 10s of megabytes in size and use the Vertex AI Extensions Code Interpreter Extension to:\n",
        "- Create a pandas dataframe.\n",
        "- Identify and set column types.\n",
        "- Visualize and analyze the dataset.\n",
        "- Perform some data manipulation operations.\n",
        "- Save the data."
      ],
      "metadata": {
        "id": "FlkJDD0nGUij"
      }
    },
    {
      "cell_type": "markdown",
      "source": [
        "**If you're already familiar with Google Cloud and the Vertex Extensions Code Interpreter Extension**, you can skip reading between here and the \"All Your Cool Notebook Stuff Here\" section, but make sure to run the code cells."
      ],
      "metadata": {
        "id": "ZIBXCGNGfPKL"
      }
    },
    {
      "cell_type": "markdown",
      "source": [
        "## Vertex AI Extensions\n",
        "\n",
        "[Vertex AI Extensions](https://cloud.google.com/vertex-ai/generative-ai/docs/extensions/overview) is a platform for creating and managing extensions that connect large language models to external systems via APIs. These external systems can provide LLMs with real-time data and perform data processing actions on their behalf. You can use pre-built or third-party extensions in Vertex AI Extensions."
      ],
      "metadata": {
        "id": "KUXzlvfpn513"
      }
    },
    {
      "cell_type": "markdown",
      "source": [
        "## Vertex AI Extensions Code Interpreter Extension\n",
        "\n",
        "The [Code Interpreter](https://console.cloud.google.com/vertex-ai/generative-ai/docs/extensions/google-extensions.md#google_code_interpreter_extension) extension provides access to a Python interpreter with a sandboxed, secure execution environment that can be used with any model in the Vertex AI Model Garden. This extension can generate and execute code in response to a user query or workflow. It allows the user or LLM agent to perform various tasks such as data analysis and visualization on new or existing data files.\n",
        "\n",
        "You can use the Code Interpreter extension to:\n",
        "\n",
        "* Generate and execute code.\n",
        "* Perform a wide variety of mathematical calculations.\n",
        "* Sort, filter, select the top results, and otherwise analyze data (including data acquired from other tools and APIs).\n",
        "* Create visualizations, plot charts, draw graphs, shapes, print results, etc."
      ],
      "metadata": {
        "id": "3r29fUEFn8JH"
      }
    },
    {
      "cell_type": "markdown",
      "source": [
        "## Using this Notebook\n",
        "\n",
        "Colab is recommended for running this notebook, but it can run in any iPython environment where you can connect to Google Cloud, install pip packages, etc.\n",
        "\n",
        "If you're running outside of Colab, depending on your environment you may need to install pip packages (like pandas) that are included in the Colab environment by default but are not part of the Python Standard Library. You'll also notice some comments in code cells that look like #@something -- these may contain informative text\n",
        "\n",
        "This tutorial uses the following Google Cloud services and resources:\n",
        "\n",
        "* Vertex AI Extensions\n",
        "* BigQuery\n",
        "\n",
        "This notebook has been tested in the following environment:\n",
        "\n",
        "* Python version = 3.10.12\n",
        "* [pandas](https://pypi.org/project/pandas/2.0.3/) version = 2.0.3\n",
        "* [google-cloud-aiplatform](https://pypi.org/project/google-cloud-aiplatform/) version = 1.47.0"
      ],
      "metadata": {
        "id": "uNriTZl70OdV"
      }
    },
    {
      "cell_type": "markdown",
      "source": [
        "## Useful Tips\n",
        "\n",
        "1. This notebook uses Generative AI cababilities. Re-running a cell that uses Generative AI capabilities may produce similar but not identical results.\n",
        "2. Because of #1, it is possible that an output from Code Interpreter producess errors. If that happens re-run the cell that produced the coding error. The different generated code will likely be bug free. The `run_code_interpreter` method below helps automate this.\n",
        "3. The use of Extensions and other Generative AI capabilities is subject to service quotas. Running the notebook using \"Run All\" may exceed  your Queries per minute (QPM) limitations. Run the notebook manually and if you get a quota error pause for up to 1 minute before retrying that cell. Code Interpreter uses Gemini on the backend and is subject to the Gemini quotas, [view your Gemini quotas here](https://console.cloud.google.com/iam-admin/quotas?pageState=(%22allQuotasTable%22:(%22f%22:%22%255B%257B_22k_22_3A_22_22_2C_22t_22_3A10_2C_22v_22_3A_22_5C_22base_model_5C_22_22%257D_2C%257B_22k_22_3A_22_22_2C_22t_22_3A10_2C_22v_22_3A_22_5C_22gemini_5C_22_22%257D%255D%22%29%29&e=13802955&mods=logs_tg_staging).\n"
      ],
      "metadata": {
        "id": "Ar0aDcql1dxl"
      }
    },
    {
      "cell_type": "markdown",
      "source": [
        "# Getting Started\n",
        "\n",
        "The following steps are necessary to run this notebook, no matter what notebook environment you're using.\n",
        "\n",
        "If you're entirely new to Google Cloud, [get started here](https://cloud.google.com/docs/get-started)."
      ],
      "metadata": {
        "id": "PO_tnShTGUik"
      }
    },
    {
      "cell_type": "markdown",
      "source": [
        "## Google Cloud Project Setup\n",
        "\n",
        "1. [Select or create a Google Cloud project](https://console.cloud.google.com/cloud-resource-manager). When you first create an account, you get a $300 free credit towards your compute/storage costs.\n",
        "1. [Make sure that billing is enabled for your project](https://cloud.google.com/billing/docs/how-to/modify-project).\n",
        "1. [Enable the Vertex AI API](https://console.cloud.google.com/flows/enableapi?apiid=aiplatform.googleapis.com).\n",
        "1. [Enable the BigQuery API](https://console.cloud.google.com/apis/library/bigquery.googleapis.com)."
      ],
      "metadata": {
        "id": "XLf5oGqHn_DH"
      }
    },
    {
      "cell_type": "markdown",
      "source": [
        "## Google Cloud Permissions\n",
        "Make sure you have been [granted the following roles](https://cloud.google.com/iam/docs/granting-changing-revoking-access) for the GCP project you'll access from this notebook:\n",
        "* [`roles/aiplatform.user`](https://cloud.google.com/vertex-ai/docs/general/access-control#aiplatform.user)\n",
        "* [`roles/bigquery.jobUser`](https://cloud.google.com/bigquery/docs/access-control#bigquery.jobUser) or [`roles/bigquery.User`](https://cloud.google.com/bigquery/docs/access-control#bigquery.user)"
      ],
      "metadata": {
        "id": "PTuXDJ2qn-8W"
      }
    },
    {
      "cell_type": "markdown",
      "source": [
        "## Outside of Colab: Install the Google Cloud CLI\n",
        "\n",
        "If you are running this notebook in your own environment, you need to install the [Cloud SDK](https://cloud.google.com/sdk) (aka `gcloud`)."
      ],
      "metadata": {
        "id": "YE5wS2uzoDsk"
      }
    },
    {
      "cell_type": "markdown",
      "source": [
        "## Install the Google Cloud Vertex AI Python SDK\n",
        "\n",
        "If you already have the Google Cloud Vertex AI Python SDK installed, upgrade to the latest version."
      ],
      "metadata": {
        "id": "JdU-qMmbpR8r"
      }
    },
    {
      "cell_type": "code",
      "source": [
        "!pip install google-cloud-aiplatform --upgrade"
      ],
      "metadata": {
        "colab": {
          "base_uri": "https://localhost:8080/",
          "height": 976
        },
        "id": "lHEI7wZMhZPd",
        "outputId": "91533c93-9704-4a9d-fcc3-e3770bd5f445"
      },
      "execution_count": 2,
      "outputs": [
        {
          "output_type": "stream",
          "name": "stdout",
          "text": [
            "Requirement already satisfied: google-cloud-aiplatform in /usr/local/lib/python3.10/dist-packages (1.46.0)\n",
            "Collecting google-cloud-aiplatform\n",
            "  Downloading google_cloud_aiplatform-1.47.0-py2.py3-none-any.whl (4.8 MB)\n",
            "\u001b[2K     \u001b[90m━━━━━━━━━━━━━━━━━━━━━━━━━━━━━━━━━━━━━━━━\u001b[0m \u001b[32m4.8/4.8 MB\u001b[0m \u001b[31m13.8 MB/s\u001b[0m eta \u001b[36m0:00:00\u001b[0m\n",
            "\u001b[?25hRequirement already satisfied: google-api-core[grpc]!=2.0.*,!=2.1.*,!=2.2.*,!=2.3.*,!=2.4.*,!=2.5.*,!=2.6.*,!=2.7.*,<3.0.0dev,>=1.34.1 in /usr/local/lib/python3.10/dist-packages (from google-cloud-aiplatform) (2.11.1)\n",
            "Requirement already satisfied: google-auth<3.0.0dev,>=2.14.1 in /usr/local/lib/python3.10/dist-packages (from google-cloud-aiplatform) (2.27.0)\n",
            "Requirement already satisfied: proto-plus<2.0.0dev,>=1.22.0 in /usr/local/lib/python3.10/dist-packages (from google-cloud-aiplatform) (1.23.0)\n",
            "Requirement already satisfied: protobuf!=3.20.0,!=3.20.1,!=4.21.0,!=4.21.1,!=4.21.2,!=4.21.3,!=4.21.4,!=4.21.5,<5.0.0dev,>=3.19.5 in /usr/local/lib/python3.10/dist-packages (from google-cloud-aiplatform) (3.20.3)\n",
            "Requirement already satisfied: packaging>=14.3 in /usr/local/lib/python3.10/dist-packages (from google-cloud-aiplatform) (24.0)\n",
            "Requirement already satisfied: google-cloud-storage<3.0.0dev,>=1.32.0 in /usr/local/lib/python3.10/dist-packages (from google-cloud-aiplatform) (2.8.0)\n",
            "Requirement already satisfied: google-cloud-bigquery!=3.20.0,<4.0.0dev,>=1.15.0 in /usr/local/lib/python3.10/dist-packages (from google-cloud-aiplatform) (3.12.0)\n",
            "Requirement already satisfied: google-cloud-resource-manager<3.0.0dev,>=1.3.3 in /usr/local/lib/python3.10/dist-packages (from google-cloud-aiplatform) (1.12.3)\n",
            "Requirement already satisfied: shapely<3.0.0dev in /usr/local/lib/python3.10/dist-packages (from google-cloud-aiplatform) (2.0.3)\n",
            "Requirement already satisfied: pydantic<3 in /usr/local/lib/python3.10/dist-packages (from google-cloud-aiplatform) (2.6.4)\n",
            "Requirement already satisfied: docstring-parser<1 in /usr/local/lib/python3.10/dist-packages (from google-cloud-aiplatform) (0.16)\n",
            "Requirement already satisfied: googleapis-common-protos<2.0.dev0,>=1.56.2 in /usr/local/lib/python3.10/dist-packages (from google-api-core[grpc]!=2.0.*,!=2.1.*,!=2.2.*,!=2.3.*,!=2.4.*,!=2.5.*,!=2.6.*,!=2.7.*,<3.0.0dev,>=1.34.1->google-cloud-aiplatform) (1.63.0)\n",
            "Requirement already satisfied: requests<3.0.0.dev0,>=2.18.0 in /usr/local/lib/python3.10/dist-packages (from google-api-core[grpc]!=2.0.*,!=2.1.*,!=2.2.*,!=2.3.*,!=2.4.*,!=2.5.*,!=2.6.*,!=2.7.*,<3.0.0dev,>=1.34.1->google-cloud-aiplatform) (2.31.0)\n",
            "Requirement already satisfied: grpcio<2.0dev,>=1.33.2 in /usr/local/lib/python3.10/dist-packages (from google-api-core[grpc]!=2.0.*,!=2.1.*,!=2.2.*,!=2.3.*,!=2.4.*,!=2.5.*,!=2.6.*,!=2.7.*,<3.0.0dev,>=1.34.1->google-cloud-aiplatform) (1.62.1)\n",
            "Requirement already satisfied: grpcio-status<2.0.dev0,>=1.33.2 in /usr/local/lib/python3.10/dist-packages (from google-api-core[grpc]!=2.0.*,!=2.1.*,!=2.2.*,!=2.3.*,!=2.4.*,!=2.5.*,!=2.6.*,!=2.7.*,<3.0.0dev,>=1.34.1->google-cloud-aiplatform) (1.48.2)\n",
            "Requirement already satisfied: cachetools<6.0,>=2.0.0 in /usr/local/lib/python3.10/dist-packages (from google-auth<3.0.0dev,>=2.14.1->google-cloud-aiplatform) (5.3.3)\n",
            "Requirement already satisfied: pyasn1-modules>=0.2.1 in /usr/local/lib/python3.10/dist-packages (from google-auth<3.0.0dev,>=2.14.1->google-cloud-aiplatform) (0.4.0)\n",
            "Requirement already satisfied: rsa<5,>=3.1.4 in /usr/local/lib/python3.10/dist-packages (from google-auth<3.0.0dev,>=2.14.1->google-cloud-aiplatform) (4.9)\n",
            "Requirement already satisfied: google-cloud-core<3.0.0dev,>=1.6.0 in /usr/local/lib/python3.10/dist-packages (from google-cloud-bigquery!=3.20.0,<4.0.0dev,>=1.15.0->google-cloud-aiplatform) (2.3.3)\n",
            "Requirement already satisfied: google-resumable-media<3.0dev,>=0.6.0 in /usr/local/lib/python3.10/dist-packages (from google-cloud-bigquery!=3.20.0,<4.0.0dev,>=1.15.0->google-cloud-aiplatform) (2.7.0)\n",
            "Requirement already satisfied: python-dateutil<3.0dev,>=2.7.2 in /usr/local/lib/python3.10/dist-packages (from google-cloud-bigquery!=3.20.0,<4.0.0dev,>=1.15.0->google-cloud-aiplatform) (2.8.2)\n",
            "Requirement already satisfied: grpc-google-iam-v1<1.0.0dev,>=0.12.4 in /usr/local/lib/python3.10/dist-packages (from google-cloud-resource-manager<3.0.0dev,>=1.3.3->google-cloud-aiplatform) (0.13.0)\n",
            "Requirement already satisfied: annotated-types>=0.4.0 in /usr/local/lib/python3.10/dist-packages (from pydantic<3->google-cloud-aiplatform) (0.6.0)\n",
            "Requirement already satisfied: pydantic-core==2.16.3 in /usr/local/lib/python3.10/dist-packages (from pydantic<3->google-cloud-aiplatform) (2.16.3)\n",
            "Requirement already satisfied: typing-extensions>=4.6.1 in /usr/local/lib/python3.10/dist-packages (from pydantic<3->google-cloud-aiplatform) (4.10.0)\n",
            "Requirement already satisfied: numpy<2,>=1.14 in /usr/local/lib/python3.10/dist-packages (from shapely<3.0.0dev->google-cloud-aiplatform) (1.25.2)\n",
            "Requirement already satisfied: google-crc32c<2.0dev,>=1.0 in /usr/local/lib/python3.10/dist-packages (from google-resumable-media<3.0dev,>=0.6.0->google-cloud-bigquery!=3.20.0,<4.0.0dev,>=1.15.0->google-cloud-aiplatform) (1.5.0)\n",
            "Requirement already satisfied: pyasn1<0.7.0,>=0.4.6 in /usr/local/lib/python3.10/dist-packages (from pyasn1-modules>=0.2.1->google-auth<3.0.0dev,>=2.14.1->google-cloud-aiplatform) (0.6.0)\n",
            "Requirement already satisfied: six>=1.5 in /usr/local/lib/python3.10/dist-packages (from python-dateutil<3.0dev,>=2.7.2->google-cloud-bigquery!=3.20.0,<4.0.0dev,>=1.15.0->google-cloud-aiplatform) (1.16.0)\n",
            "Requirement already satisfied: charset-normalizer<4,>=2 in /usr/local/lib/python3.10/dist-packages (from requests<3.0.0.dev0,>=2.18.0->google-api-core[grpc]!=2.0.*,!=2.1.*,!=2.2.*,!=2.3.*,!=2.4.*,!=2.5.*,!=2.6.*,!=2.7.*,<3.0.0dev,>=1.34.1->google-cloud-aiplatform) (3.3.2)\n",
            "Requirement already satisfied: idna<4,>=2.5 in /usr/local/lib/python3.10/dist-packages (from requests<3.0.0.dev0,>=2.18.0->google-api-core[grpc]!=2.0.*,!=2.1.*,!=2.2.*,!=2.3.*,!=2.4.*,!=2.5.*,!=2.6.*,!=2.7.*,<3.0.0dev,>=1.34.1->google-cloud-aiplatform) (3.6)\n",
            "Requirement already satisfied: urllib3<3,>=1.21.1 in /usr/local/lib/python3.10/dist-packages (from requests<3.0.0.dev0,>=2.18.0->google-api-core[grpc]!=2.0.*,!=2.1.*,!=2.2.*,!=2.3.*,!=2.4.*,!=2.5.*,!=2.6.*,!=2.7.*,<3.0.0dev,>=1.34.1->google-cloud-aiplatform) (2.0.7)\n",
            "Requirement already satisfied: certifi>=2017.4.17 in /usr/local/lib/python3.10/dist-packages (from requests<3.0.0.dev0,>=2.18.0->google-api-core[grpc]!=2.0.*,!=2.1.*,!=2.2.*,!=2.3.*,!=2.4.*,!=2.5.*,!=2.6.*,!=2.7.*,<3.0.0dev,>=1.34.1->google-cloud-aiplatform) (2024.2.2)\n",
            "Installing collected packages: google-cloud-aiplatform\n",
            "  Attempting uninstall: google-cloud-aiplatform\n",
            "    Found existing installation: google-cloud-aiplatform 1.46.0\n",
            "    Uninstalling google-cloud-aiplatform-1.46.0:\n",
            "      Successfully uninstalled google-cloud-aiplatform-1.46.0\n",
            "Successfully installed google-cloud-aiplatform-1.47.0\n"
          ]
        },
        {
          "output_type": "display_data",
          "data": {
            "application/vnd.colab-display-data+json": {
              "pip_warning": {
                "packages": [
                  "google"
                ]
              },
              "id": "c0670255c2714506a5c0b72c0dc4241c"
            }
          },
          "metadata": {}
        }
      ]
    },
    {
      "cell_type": "markdown",
      "metadata": {
        "id": "R5Xep4W9lq-Z"
      },
      "source": [
        "### Restart runtime\n",
        "\n",
        "You may need to restart your notebook runtime to use the Vertex AI SDK. You can do this by running the cell below, which restarts the current kernel.\n",
        "\n",
        "You may see the restart reported as a crash, but it is working as-intended -- you are merely restarting the runtime.\n",
        "\n",
        "The restart might take a minute or longer. After its restarted, continue to the next step."
      ]
    },
    {
      "cell_type": "code",
      "execution_count": null,
      "metadata": {
        "id": "XRvKdaPDTznN",
        "colab": {
          "base_uri": "https://localhost:8080/"
        },
        "outputId": "96d57b84-745b-4151-f3f2-a08ea9e4a9a2"
      },
      "outputs": [
        {
          "output_type": "execute_result",
          "data": {
            "text/plain": [
              "{'status': 'ok', 'restart': True}"
            ]
          },
          "metadata": {},
          "execution_count": 7
        }
      ],
      "source": [
        "import IPython\n",
        "\n",
        "app = IPython.Application.instance()\n",
        "app.kernel.do_shutdown(True)"
      ]
    },
    {
      "cell_type": "markdown",
      "metadata": {
        "id": "SbmM4z7FOBpM"
      },
      "source": [
        "<div class=\"alert alert-block alert-warning\">\n",
        "<b>⚠️ The kernel is going to restart. Please wait until it is finished before continuing to the next step. ⚠️</b>\n",
        "</div>\n"
      ]
    },
    {
      "cell_type": "markdown",
      "source": [
        "If you're using Colab, as long the notebook runtime isn't deleted (even if it restarts) you don't need to re-run the previous cell.\n",
        "\n",
        "If you're running this notebook in your own environment you shouldn't need to run the previous cell again unless you delete your IPython kernel."
      ],
      "metadata": {
        "id": "mCG23ih_sJr9"
      }
    },
    {
      "cell_type": "markdown",
      "source": [
        "## Authenticate\n",
        "\n",
        "If you're using Colab, run the code in the next cell. Follow the popups and authenticate with an account that has access to your Google Cloud [project](https://cloud.google.com/resource-manager/docs/creating-managing-projects#identifying_projects).\n",
        "\n",
        "If you're running this notebook somewhere besides Colab, make sure your environment has the right Google Cloud access. If that's a new concept to you, consider looking into [Application Default Credentials for your local environment](https://cloud.google.com/docs/authentication/provide-credentials-adc#local-dev) and [initializing the Google Cloud CLI](https://cloud.google.com/docs/authentication/gcloud). More authentication options are discussed [here](https://cloud.google.com/docs/authentication)."
      ],
      "metadata": {
        "id": "7plalcaLGUik"
      }
    },
    {
      "cell_type": "code",
      "source": [
        "# Colab authentication.\n",
        "import sys\n",
        "\n",
        "if \"google.colab\" in sys.modules:\n",
        "    from google.colab import auth\n",
        "    auth.authenticate_user()\n",
        "    print('Authenticated')"
      ],
      "metadata": {
        "colab": {
          "base_uri": "https://localhost:8080/"
        },
        "outputId": "0e8b5041-4549-4f5d-c1e0-43f226b16f3f",
        "id": "THYfMKWMGUil"
      },
      "execution_count": 3,
      "outputs": [
        {
          "output_type": "stream",
          "name": "stdout",
          "text": [
            "Authenticated\n"
          ]
        }
      ]
    },
    {
      "cell_type": "markdown",
      "metadata": {
        "id": "init_aip:mbsdk,all"
      },
      "source": [
        "# Initialize the Google Cloud Vertex AI Python SDK\n",
        "\n",
        "Start here if your Notebook kernel restarts (but isn't deleted), though if it's been a few hours you may need to run the Authentication steps above again.\n",
        "\n",
        "To initialize the SDK, you need to set your Google Cloud project ID and region.\n",
        "\n",
        "If you don't know your project  ID, try the [Google Cloud CLI](https://cloud.google.com/sdk) commands [`gcloud config list`](https://cloud.google.com/sdk/gcloud/reference/config/list) or [`gcloud projects list`](https://cloud.google.com/sdk/gcloud/reference/projects/list). See the support page [Locate the project ID](https://support.google.com/googleapi/answer/7014113) for more information.\n"
      ]
    },
    {
      "cell_type": "markdown",
      "metadata": {
        "id": "WReHDGG5g0XY"
      },
      "source": [
        "### Set Your Project ID\n",
        "\n"
      ]
    },
    {
      "cell_type": "code",
      "execution_count": 4,
      "metadata": {
        "id": "oM1iC_MfAts1",
        "colab": {
          "base_uri": "https://localhost:8080/"
        },
        "outputId": "74e23686-686b-4351-a5fb-903737481fe5"
      },
      "outputs": [
        {
          "output_type": "stream",
          "name": "stdout",
          "text": [
            "Updated property [core/project].\n"
          ]
        }
      ],
      "source": [
        "PROJECT_ID = \"YOUR_PROJECT_ID_ HERE\"  # @param {type:\"string\"}\n",
        "\n",
        "# Set the project for CLI commands.\n",
        "!gcloud config set project {PROJECT_ID}"
      ]
    },
    {
      "cell_type": "markdown",
      "metadata": {
        "id": "region"
      },
      "source": [
        "### Set the Region\n",
        "\n",
        "You can also change the `REGION` variable used by Vertex AI. Learn more about [Vertex AI regions](https://cloud.google.com/vertex-ai/docs/general/locations)."
      ]
    },
    {
      "cell_type": "code",
      "execution_count": 5,
      "metadata": {
        "id": "Cg9uNa6rlyWx"
      },
      "outputs": [],
      "source": [
        "REGION = \"us-central1\"  # @param {type: \"string\"}"
      ]
    },
    {
      "cell_type": "markdown",
      "source": [
        "### Import the Vertex AI Python SDK"
      ],
      "metadata": {
        "id": "6-NbHLWtu-iW"
      }
    },
    {
      "cell_type": "code",
      "source": [
        "import vertexai\n",
        "from vertexai.preview import extensions\n",
        "\n",
        "vertexai.init(\n",
        "    project=PROJECT_ID,\n",
        "    location=REGION\n",
        ")"
      ],
      "metadata": {
        "id": "KhnzTqS8iOJC"
      },
      "execution_count": 6,
      "outputs": []
    },
    {
      "cell_type": "markdown",
      "source": [
        "# Import Additional Libraries"
      ],
      "metadata": {
        "id": "i1acCewrgFgY"
      }
    },
    {
      "cell_type": "code",
      "source": [
        "import pandas as pd\n",
        "pd.set_option('display.max_columns', None)\n",
        "import pprint  # For better formatting when printing raw Code Intepreter output."
      ],
      "metadata": {
        "id": "lfobYRV1gEVm"
      },
      "execution_count": 7,
      "outputs": []
    },
    {
      "cell_type": "markdown",
      "source": [
        "# Setup and Test the Code Interpreter Extension\n",
        "\n",
        "Code Interpreter is provided by Google, so you can load it directly."
      ],
      "metadata": {
        "id": "NIZnIItkxeb-"
      }
    },
    {
      "cell_type": "code",
      "source": [
        "extension_code_interpreter = extensions.Extension.from_hub(\"code_interpreter\")\n",
        "extension_code_interpreter"
      ],
      "metadata": {
        "colab": {
          "base_uri": "https://localhost:8080/"
        },
        "id": "6zAMy-Ndinbz",
        "outputId": "3d2e08a0-ac2b-4f6f-c398-6d43e6c75638"
      },
      "execution_count": 8,
      "outputs": [
        {
          "output_type": "stream",
          "name": "stderr",
          "text": [
            "INFO:vertexai.extensions._extensions:Creating Extension\n",
            "INFO:vertexai.extensions._extensions:Create Extension backing LRO: projects/333698871702/locations/us-central1/extensions/842665711527526400/operations/3712961740917440512\n",
            "INFO:vertexai.extensions._extensions:Extension created. Resource name: projects/333698871702/locations/us-central1/extensions/842665711527526400\n",
            "INFO:vertexai.extensions._extensions:To use this Extension in another session:\n",
            "INFO:vertexai.extensions._extensions:extension = vertexai.preview.extensions.Extension('projects/333698871702/locations/us-central1/extensions/842665711527526400')\n"
          ]
        },
        {
          "output_type": "execute_result",
          "data": {
            "text/plain": [
              "<vertexai.extensions._extensions.Extension object at 0x7b4a2bf05630> \n",
              "resource name: projects/333698871702/locations/us-central1/extensions/842665711527526400"
            ]
          },
          "metadata": {},
          "execution_count": 8
        }
      ]
    },
    {
      "cell_type": "markdown",
      "metadata": {
        "id": "oXzY2nqRlyWy"
      },
      "source": [
        "Confirm your Code Interpreter extension is registered:"
      ]
    },
    {
      "cell_type": "code",
      "execution_count": 9,
      "metadata": {
        "id": "nPSe7IQtlyWz",
        "colab": {
          "base_uri": "https://localhost:8080/"
        },
        "outputId": "a782f001-8c60-4b57-ee97-e99e7ea1a835"
      },
      "outputs": [
        {
          "output_type": "stream",
          "name": "stdout",
          "text": [
            "Name: projects/333698871702/locations/us-central1/extensions/842665711527526400\n",
            "Display Name: Code Interpreter\n",
            "Description: This extension generates and executes code in the specified language\n"
          ]
        }
      ],
      "source": [
        "print(\"Name:\", extension_code_interpreter.gca_resource.name)\n",
        "print(\"Display Name:\", extension_code_interpreter.gca_resource.display_name)\n",
        "print(\"Description:\", extension_code_interpreter.gca_resource.description)"
      ]
    },
    {
      "cell_type": "markdown",
      "source": [
        "## Test Code Interpreter\n",
        "\n",
        "To test Code Interpreter, ask it to generate a basic plot from a small dataset. If you're already familiar with Code Interpreter you can skip this section."
      ],
      "metadata": {
        "id": "MejOedOYxc1O"
      }
    },
    {
      "cell_type": "code",
      "execution_count": 10,
      "metadata": {
        "id": "QkgY1Ji-lyWz",
        "colab": {
          "base_uri": "https://localhost:8080/"
        },
        "outputId": "5f0385ba-decc-4147-b44b-2675cfe85c23"
      },
      "outputs": [
        {
          "output_type": "stream",
          "name": "stdout",
          "text": [
            "{'output_files': [{'contents': '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', 'name': 'code_execution_image_1_nG8VZoPDNf6BybgP8Z-NwAU.png'}], 'execution_error': '', 'generated_code': '```python\\nimport matplotlib.pyplot as plt\\nimport pandas as pd\\n\\ntree_heights_prices = {\\n  \"Pine\": {\"height\": 100, \"price\": 100},\\n  \"Oak\": {\"height\": 65, \"price\": 135},\\n  \"Birch\": {\"height\": 45, \"price\": 80},\\n  \"Redwood\": {\"height\": 200, \"price\": 200},\\n  \"Fir\": {\"height\": 180, \"price\": 162},\\n}\\n\\ntree_heights = pd.DataFrame(tree_heights_prices).T[\\'height\\']\\n\\ntree_heights.plot(kind=\\'bar\\', color=[\\'red\\', \\'blue\\', \\'green\\', \\'yellow\\', \\'orange\\'])\\nplt.show()\\n```', 'execution_result': ''}\n"
          ]
        }
      ],
      "source": [
        "QUERY = \"\"\"\n",
        "Using the data below, construct a bar chart that includes only the height values with different colors for the bars:\n",
        "\n",
        "tree_heights_prices = {\n",
        "  \\\"Pine\\\": {\\\"height\\\": 100, \\\"price\\\": 100},\n",
        "  \\\"Oak\\\": {\\\"height\\\": 65, \\\"price\\\": 135},\n",
        "  \\\"Birch\\\": {\\\"height\\\": 45, \\\"price\\\": 80},\n",
        "  \\\"Redwood\\\": {\\\"height\\\": 200, \\\"price\\\": 200},\n",
        "  \\\"Fir\\\": {\\\"height\\\": 180, \\\"price\\\": 162},\n",
        "}\n",
        "\n",
        "Please include the data in the generated code.\n",
        "\"\"\"\n",
        "\n",
        "response = extension_code_interpreter.execute(\n",
        "    operation_id = \"generate_and_execute\",\n",
        "    operation_params = {\"query\": QUERY},\n",
        ")\n",
        "\n",
        "print(response)"
      ]
    },
    {
      "cell_type": "markdown",
      "source": [
        "Now, dig deeper into the returned `response` object. `pprint` more clearly shows the generated code:"
      ],
      "metadata": {
        "id": "9zfhZvJrzh8F"
      }
    },
    {
      "cell_type": "code",
      "source": [
        "pprint.pprint(response)"
      ],
      "metadata": {
        "colab": {
          "base_uri": "https://localhost:8080/"
        },
        "id": "eEwauD0Xyzru",
        "outputId": "b23010e0-b531-43d7-d374-aa0366fbb387"
      },
      "execution_count": 11,
      "outputs": [
        {
          "output_type": "stream",
          "name": "stdout",
          "text": [
            "{'execution_error': '',\n",
            " 'execution_result': '',\n",
            " 'generated_code': '```python\\n'\n",
            "                   'import matplotlib.pyplot as plt\\n'\n",
            "                   'import pandas as pd\\n'\n",
            "                   '\\n'\n",
            "                   'tree_heights_prices = {\\n'\n",
            "                   '  \"Pine\": {\"height\": 100, \"price\": 100},\\n'\n",
            "                   '  \"Oak\": {\"height\": 65, \"price\": 135},\\n'\n",
            "                   '  \"Birch\": {\"height\": 45, \"price\": 80},\\n'\n",
            "                   '  \"Redwood\": {\"height\": 200, \"price\": 200},\\n'\n",
            "                   '  \"Fir\": {\"height\": 180, \"price\": 162},\\n'\n",
            "                   '}\\n'\n",
            "                   '\\n'\n",
            "                   'tree_heights = '\n",
            "                   \"pd.DataFrame(tree_heights_prices).T['height']\\n\"\n",
            "                   '\\n'\n",
            "                   \"tree_heights.plot(kind='bar', color=['red', 'blue', \"\n",
            "                   \"'green', 'yellow', 'orange'])\\n\"\n",
            "                   'plt.show()\\n'\n",
            "                   '```',\n",
            " 'output_files': [{'contents': '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',\n",
            "                   'name': 'code_execution_image_1_nG8VZoPDNf6BybgP8Z-NwAU.png'}]}\n"
          ]
        }
      ]
    },
    {
      "cell_type": "markdown",
      "source": [
        "You'll notice the `response` object has an `output_files` object that contains files you'll want to extract.\n",
        "\n",
        "In the next section you'll create some helper functions that make it easier to work with Code Interpreter's `response` object."
      ],
      "metadata": {
        "id": "aZB4ZDEmyzLm"
      }
    },
    {
      "cell_type": "markdown",
      "source": [
        "# Code Interpreter Helper Functions\n",
        "\n",
        "These functions are optional when using Code Interpreter but make it easier to inspect Code Interpreter's output, assemble Code Interprer requests, and run generated code."
      ],
      "metadata": {
        "id": "NLE3wb5VfhJv"
      }
    },
    {
      "cell_type": "markdown",
      "source": [
        "## `process_response`\n",
        "\n",
        "`process_response` displays the generated code and any output files, shows the output from code execution, surfaces code execution errors, and saves output files.\n",
        "\n",
        "**To use this functionality** call `process_response(response)` \\\n",
        "where `response` is the Code Interpreter `response` object.\n"
      ],
      "metadata": {
        "id": "9NnhQmFLAHXs"
      }
    },
    {
      "cell_type": "code",
      "source": [
        "import base64\n",
        "import json\n",
        "import pprint\n",
        "import pandas\n",
        "import sys\n",
        "import IPython\n",
        "if sys.version_info[0] < 3:\n",
        "    from StringIO import StringIO\n",
        "else:\n",
        "    from io import StringIO\n",
        "\n",
        "css_styles = \"\"\"\n",
        "<style>\n",
        ".main_summary {\n",
        "  font-weight: bold;\n",
        "  font-size: 14px; color: #4285F4;\n",
        "  background-color:rgba(221, 221, 221, 0.5); padding:8px;}\n",
        ".main_summary:hover {background-color: rgba(221, 221, 221, 1);}\n",
        "details {\n",
        "  background-color:#fff;\n",
        "  border: 1px solid #E8EAED;\n",
        "  padding:0px;\n",
        "  margin-bottom:2px; }\n",
        "details img {width:50%}\n",
        "details > div {padding:10px; }\n",
        "div#left > details:first-of-type > div {\n",
        "    overflow:auto;\n",
        "    max-height:400px; }\n",
        "\n",
        "div#right > pre {\n",
        "    overflow:auto;\n",
        "    max-height:600px;\n",
        "    background-color: ghostwhite;\n",
        "    padding: 10px; }\n",
        "details details > div { overflow: scroll; max-height:400px}\n",
        "details details {\n",
        "  background-color:rgba(246, 231, 217, 0.2);\n",
        "  border: 1px solid #FBBC04;}\n",
        "details details > summary {\n",
        "  padding: 8px;\n",
        "  background-color:rgba(255, 228, 196, 0.6); }\n",
        "details details > summary:hover { background-color:rgba(255, 228, 196, 0.9); }\n",
        "div#left {width: 64%; padding:0 1%;  }\n",
        "div#right {\n",
        "  border-left: 1px solid silver;\n",
        "  width: 30%;\n",
        "  float: right;\n",
        "  padding:0 1%; }\n",
        "body {color: #000; background-color: white; padding:10px 10px 40px 10px; }\n",
        "#main { border: 1px solid #FBBC04; padding:10px 0; display: flow-root; }\n",
        "h3 {color: #000; }\n",
        "code  { font-family: monospace; color: #900; padding: 0 2px; font-size: 105%; }\n",
        "</style>\n",
        "        \"\"\"\n",
        "\n",
        "# Parser to visualise the content of returned files as HTML.\n",
        "def parse_files_to_html(outputFiles, save_files_locally = True):\n",
        "    IMAGE_FILE_EXTENSIONS = set([\"jpg\", \"jpeg\", \"png\"])\n",
        "    file_list = []\n",
        "    details_tml = \"\"\"<details><summary>{name}</summary><div>{html_content}</div></details>\"\"\"\n",
        "\n",
        "    if not outputFiles:\n",
        "      return \"No Files generated from the code\"\n",
        "    # Sort output_files so images are displayed before other files such as JSON.\n",
        "    for output_file in sorted(\n",
        "        outputFiles,\n",
        "        key=lambda x: x[\"name\"].split(\".\")[-1] not in IMAGE_FILE_EXTENSIONS,\n",
        "    ):\n",
        "        file_name = output_file.get(\"name\")\n",
        "        file_contents = base64.b64decode(output_file.get(\"contents\"))\n",
        "        if save_files_locally:\n",
        "          open(file_name,\"wb\").write(file_contents)\n",
        "\n",
        "        if file_name.split(\".\")[-1] in IMAGE_FILE_EXTENSIONS:\n",
        "            # Render Image\n",
        "            file_html_content = ('<img src=\"data:image/png;base64, '\n",
        "                                f'{output_file.get(\"contents\")}\" />')\n",
        "        elif file_name.endswith(\".json\"):\n",
        "            # Pretty print JSON\n",
        "            json_pp = pprint.pformat(\n",
        "                        json.loads(file_contents.decode()),\n",
        "                        compact=False,\n",
        "                        width=160)\n",
        "            file_html_content =  (f'<span>{json_pp}</span>')\n",
        "        elif file_name.endswith(\".csv\"):\n",
        "            # CSV\n",
        "            csv_md = pandas.read_csv(\n",
        "                  StringIO(file_contents.decode())).to_markdown(index=False)\n",
        "            file_html_content = f'<span>{csv_md}</span>'\n",
        "        elif file_name.endswith(\".pkl\"):\n",
        "            # PKL\n",
        "            file_html_content = f'<span>Preview N/A</span>'\n",
        "        else:\n",
        "            file_html_content = f\"<span>{file_contents.decode()}</span>\"\n",
        "\n",
        "        file_list.append({'name': file_name, \"html_content\": file_html_content})\n",
        "\n",
        "    buffer_html = [ details_tml.format(**_file) for _file in file_list ]\n",
        "    return \"\".join(buffer_html)\n",
        "\n",
        "# Processing code interpreter response to html visualization.\n",
        "def process_response(response: dict, save_files_locally = True) -> None:\n",
        "\n",
        "  result_template = \"\"\"\n",
        "  <details open>\n",
        "    <summary class='main_summary'>{summary}:</summary>\n",
        "    <div><pre>{content}</pre></div>\n",
        "  </details>\n",
        "  \"\"\"\n",
        "\n",
        "  result = \"\"\n",
        "  code = response.get('generated_code')\n",
        "  if response.get('execution_error', None):\n",
        "    result = result_template.format(\n",
        "        summary=\"An error occured when executing code\",\n",
        "        content=response.get('execution_error', None))\n",
        "  else:\n",
        "    if 'execution_result' in response and response['execution_result']!=\"\":\n",
        "      result = result_template.format(\n",
        "          summary=\"Executed Code Output\",\n",
        "          content=response.get('execution_result'))\n",
        "    else:\n",
        "      result = result_template.format(\n",
        "        summary=\"Executed Code Output\",\n",
        "        content=\"Code does not produced printable output\")\n",
        "\n",
        "    result += result_template.format(\n",
        "      summary=\"Files Created <u>(Click on filename to view content)</u>\",\n",
        "      content=parse_files_to_html(\n",
        "          response.get('output_files', []),\n",
        "          save_files_locally = True))\n",
        "\n",
        "  display(\n",
        "      IPython.display.HTML(\n",
        "        ( f\"{css_styles}\"\n",
        "f\"\"\"\n",
        "<div id='main'>\n",
        "    <div id=\"right\">\n",
        "      <h3>Generated Code by Code Interpreter</h3>\n",
        "      <pre><code>{code}</code></pre>\n",
        "    </div>\n",
        "    <div id=\"left\">\n",
        "      <h3>Code Execution Results</h3>\n",
        "      {result}\n",
        "    </div>\n",
        "</div>\n",
        "\"\"\"\n",
        "        )\n",
        "      )\n",
        "  )\n"
      ],
      "metadata": {
        "id": "Md76P2cH_qMO"
      },
      "execution_count": 12,
      "outputs": []
    },
    {
      "cell_type": "markdown",
      "source": [
        "## `run_code_interpreter`\n",
        "`run_code_interpreter` eases calling Code Interpreter by encoding files to base 64 (a Code Interpreter requirement) and submitting the files alongside the instructions. It also automates retries (5 by default) if the generated code doesn't execute or if Code Interpreter fails due to exceeding Gemini (time-based) quotas.\n",
        "\n",
        "**To use this functionality**  call `run_code_interpreter(instructions, filenames, retry_num)`\n",
        "where `instructions` is the prompt for Code Interpreter, `filenames` is a list of local files in the working directory to submit to Code Interpreter, and optionally `retry_num` if you want to change the default number of retries from 5."
      ],
      "metadata": {
        "id": "9UYWV1OYEYz2"
      }
    },
    {
      "cell_type": "code",
      "source": [
        "from time import sleep\n",
        "\n",
        "def run_code_interpreter(instructions: str,\n",
        "                         filenames: list[dict] = [],\n",
        "                         retry_num: int = 5) -> dict['str', 'str']:\n",
        "\n",
        "  file_arr = [\n",
        "      {\n",
        "          \"name\": filename,\n",
        "          \"contents\":  base64.b64encode(open(filename, \"rb\").read()).decode()\n",
        "      }\n",
        "      for filename in filenames\n",
        "  ]\n",
        "\n",
        "  attempts = 0\n",
        "  retry_wait_time = 15\n",
        "  res = {}\n",
        "  while attempts <= retry_num:\n",
        "    attempts += 1\n",
        "    try:\n",
        "      res = extension_code_interpreter.execute(\n",
        "          operation_id = \"generate_and_execute\",\n",
        "          operation_params = {\n",
        "              \"query\": instructions,\n",
        "              \"files\": file_arr\n",
        "          },\n",
        "      )\n",
        "    except Exception as e:  # Exception due to service issue (i.e quotas reached or timeout etc. We want to retry unless attempts already exceted rety_num)\n",
        "      if attempts > retry_num:\n",
        "        print('Retries exceeded, raising exception from last attempt.')\n",
        "        raise e  # Retry attempts exhausted.\n",
        "      else:\n",
        "        print(\n",
        "            f\"An error occured {e} \\n \"\n",
        "            f\"Automatic retry attempt # {attempts}/{retry_num} in\"\n",
        "            f\" {retry_wait_time} seconds...\")\n",
        "        sleep(retry_wait_time) # Wait 15 seconds before retry.\n",
        "        continue\n",
        "\n",
        "    if not res.get('execution_error', None):\n",
        "      return res\n",
        "    elif attempts <= retry_num:\n",
        "      print(f\"The generated code produced an error {res.get('execution_error')}\"\n",
        "            f\" -Automatic retry attempt # {attempts}/{retry_num}\")\n",
        "\n",
        "  return res\n"
      ],
      "metadata": {
        "id": "L2xJ63r2EZGU"
      },
      "execution_count": 13,
      "outputs": []
    },
    {
      "cell_type": "code",
      "source": [
        "from time import sleep\n",
        "\n",
        "def run_code_interpreter2(instructions: str,\n",
        "                         filenames: list[dict] = [],\n",
        "                         retry_num: int = 5) -> dict['str', 'str']:\n",
        "\n",
        "  file_arr = [\n",
        "      {\n",
        "          \"name\": filename,\n",
        "          \"contents\":  base64.b64encode(open(filename, \"rb\").read()).decode()\n",
        "      }\n",
        "      for filename in filenames\n",
        "  ]\n",
        "\n",
        "\n",
        "  res = {}\n",
        "  res = extension_code_interpreter.execute(\n",
        "      operation_id = \"generate_and_execute\",\n",
        "      operation_params = {\n",
        "          \"query\": instructions,\n",
        "          \"files\": file_arr\n",
        "          },\n",
        "      )\n",
        "  return res\n"
      ],
      "metadata": {
        "id": "9nNdpiCRYXhN"
      },
      "execution_count": 14,
      "outputs": []
    },
    {
      "cell_type": "markdown",
      "source": [
        "## `run_locally`\n",
        "`run_locally` executes code generated by Code Interpreter.\n",
        "\n",
        "**To use this functionality**  call `run_locally(response)` with the `response` object returned by Code Interpreter.\n",
        "\n",
        "Note, while issues with Code Interpreter code are unlikely, to avoid unexpected issues you should always inspect generated code before you run it locally.\n"
      ],
      "metadata": {
        "id": "s-T0SwZbNxmL"
      }
    },
    {
      "cell_type": "code",
      "source": [
        "def run_locally(response):\n",
        "  my_code = \"\\n\".join(response['generated_code'].split('\\n')[1:-1])\n",
        "  exec(my_code)\n"
      ],
      "metadata": {
        "id": "m6pn9muMNx6L"
      },
      "execution_count": 15,
      "outputs": []
    },
    {
      "cell_type": "markdown",
      "source": [
        "## Using the Helper Functions\n",
        "\n",
        "To demonstrate the helper functions, write a CSV of data, send the CSV with a prompt to Code Interpreter, examine the response, and run the code locally."
      ],
      "metadata": {
        "id": "Wq71jPJ7dMOd"
      }
    },
    {
      "cell_type": "code",
      "source": [
        "import csv\n",
        "\n",
        "tree_heights_prices = {\n",
        "  \"Pine\": {\"height\": 100, \"price\": 100},\n",
        "  \"Oak\": {\"height\": 65, \"price\": 135},\n",
        "  \"Birch\": {\"height\": 45, \"price\": 80},\n",
        "  \"Redwood\": {\"height\": 200, \"price\": 200},\n",
        "  \"Fir\": {\"height\": 180, \"price\": 162},\n",
        "}\n",
        "\n",
        "with open('tree_data.csv', 'w', newline='') as csvfile:\n",
        "    fieldnames = ['Tree', 'Height', 'Price']\n",
        "    writer = csv.DictWriter(csvfile, fieldnames=fieldnames)\n",
        "\n",
        "    writer.writeheader()\n",
        "    for tree, data in tree_heights_prices.items():\n",
        "        writer.writerow({'Tree': tree, 'Height': data['height'], 'Price': data['price']})"
      ],
      "metadata": {
        "id": "4FQ1s3YxfL4f"
      },
      "execution_count": 16,
      "outputs": []
    },
    {
      "cell_type": "code",
      "source": [
        "response = run_code_interpreter(\"Make a bar chart of the heights of the trees.\",\n",
        "                                ['tree_data.csv'])"
      ],
      "metadata": {
        "id": "ZEIADEAXjMuY"
      },
      "execution_count": 17,
      "outputs": []
    },
    {
      "cell_type": "code",
      "source": [
        "process_response(response)"
      ],
      "metadata": {
        "colab": {
          "base_uri": "https://localhost:8080/",
          "height": 415
        },
        "id": "MaLwhE6kjrQL",
        "outputId": "51985c36-d702-45b8-ab8c-8d3fe86caf94"
      },
      "execution_count": 18,
      "outputs": [
        {
          "output_type": "display_data",
          "data": {
            "text/plain": [
              "<IPython.core.display.HTML object>"
            ],
            "text/html": [
              "\n",
              "<style>\n",
              ".main_summary {\n",
              "  font-weight: bold;\n",
              "  font-size: 14px; color: #4285F4;\n",
              "  background-color:rgba(221, 221, 221, 0.5); padding:8px;}\n",
              ".main_summary:hover {background-color: rgba(221, 221, 221, 1);}\n",
              "details {\n",
              "  background-color:#fff;\n",
              "  border: 1px solid #E8EAED;\n",
              "  padding:0px;\n",
              "  margin-bottom:2px; }\n",
              "details img {width:50%}\n",
              "details > div {padding:10px; }\n",
              "div#left > details:first-of-type > div {\n",
              "    overflow:auto;\n",
              "    max-height:400px; }\n",
              "\n",
              "div#right > pre {\n",
              "    overflow:auto;\n",
              "    max-height:600px;\n",
              "    background-color: ghostwhite;\n",
              "    padding: 10px; }\n",
              "details details > div { overflow: scroll; max-height:400px}\n",
              "details details {\n",
              "  background-color:rgba(246, 231, 217, 0.2);\n",
              "  border: 1px solid #FBBC04;}\n",
              "details details > summary {\n",
              "  padding: 8px;\n",
              "  background-color:rgba(255, 228, 196, 0.6); }\n",
              "details details > summary:hover { background-color:rgba(255, 228, 196, 0.9); }\n",
              "div#left {width: 64%; padding:0 1%;  }\n",
              "div#right {\n",
              "  border-left: 1px solid silver;\n",
              "  width: 30%;\n",
              "  float: right;\n",
              "  padding:0 1%; }\n",
              "body {color: #000; background-color: white; padding:10px 10px 40px 10px; }\n",
              "#main { border: 1px solid #FBBC04; padding:10px 0; display: flow-root; }\n",
              "h3 {color: #000; }\n",
              "code  { font-family: monospace; color: #900; padding: 0 2px; font-size: 105%; }\n",
              "</style>\n",
              "        \n",
              "<div id='main'>\n",
              "    <div id=\"right\">\n",
              "      <h3>Generated Code by Code Interpreter</h3>\n",
              "      <pre><code>```python\n",
              "import matplotlib.pyplot as plt\n",
              "import pandas as pd\n",
              "\n",
              "# Read the data from the CSV file\n",
              "data = pd.read_csv(\"tree_data.csv\")\n",
              "\n",
              "# Create a bar chart of the heights of the trees\n",
              "plt.bar(data[\"Tree\"], data[\"Height\"])\n",
              "plt.xlabel(\"Tree\")\n",
              "plt.ylabel(\"Height\")\n",
              "plt.title(\"Heights of the Trees\")\n",
              "plt.show()\n",
              "```</code></pre>\n",
              "    </div>\n",
              "    <div id=\"left\">\n",
              "      <h3>Code Execution Results</h3>\n",
              "      \n",
              "  <details open>\n",
              "    <summary class='main_summary'>Executed Code Output:</summary>\n",
              "    <div><pre>Code does not produced printable output</pre></div>\n",
              "  </details>\n",
              "  \n",
              "  <details open>\n",
              "    <summary class='main_summary'>Files Created <u>(Click on filename to view content)</u>:</summary>\n",
              "    <div><pre><details><summary>code_execution_image_1_DXAVZuauEv6BybgP8Z-NwAU.png</summary><div><img src=\"data:image/png;base64, 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\" /></div></details></pre></div>\n",
              "  </details>\n",
              "  \n",
              "    </div>\n",
              "</div>\n"
            ]
          },
          "metadata": {}
        }
      ]
    },
    {
      "cell_type": "code",
      "source": [
        "run_locally(response)"
      ],
      "metadata": {
        "colab": {
          "base_uri": "https://localhost:8080/",
          "height": 472
        },
        "id": "pxC6iec0jzSl",
        "outputId": "a95a387a-106f-47a4-e395-43087305ddf5"
      },
      "execution_count": 19,
      "outputs": [
        {
          "output_type": "display_data",
          "data": {
            "text/plain": [
              "<Figure size 640x480 with 1 Axes>"
            ],
            "image/png": "[encoded data removed]"
          },
          "metadata": {}
        }
      ]
    },
    {
      "cell_type": "markdown",
      "source": [
        "# Retrieve the Data\n",
        "\n",
        "You'll be using the New York City 311 dataset, which contains citizen [complaints and reports](https://portal.311.nyc.gov/report-problems/) of non-emergency issues (e.g., illegal parking, noise, parties, leaking fire hydrants, damaged buildings, broken streetlights, etc.)."
      ],
      "metadata": {
        "id": "AmHlKV61v72l"
      }
    },
    {
      "cell_type": "code",
      "source": [
        "from google.cloud import bigquery\n",
        "\n",
        "client = bigquery.Client(project=PROJECT_ID)\n",
        "\n",
        "# Perform a query.\n",
        "QUERY = (\"\"\"\n",
        "  SELECT\n",
        "    unique_key,\n",
        "    created_date,\n",
        "    closed_date,\n",
        "    agency,\n",
        "    agency_name,\n",
        "    complaint_type,\n",
        "    descriptor,\n",
        "    location_type,\n",
        "    incident_zip,\n",
        "    incident_address,\n",
        "    street_name,\n",
        "    cross_street_1,\n",
        "    cross_street_2,\n",
        "    intersection_street_1,\n",
        "    intersection_street_2,\n",
        "    address_type,\n",
        "    status,\n",
        "    resolution_description,\n",
        "    community_board,\n",
        "    borough,\n",
        "    park_facility_name,\n",
        "    open_data_channel_type,\n",
        "    taxi_pickup_location,\n",
        "    bridge_highway_name,\n",
        "    bridge_highway_direction,\n",
        "    bridge_highway_segment\n",
        "  FROM `bigquery-public-data.new_york_311.311_service_requests`\n",
        "  WHERE rand() < .0015\n",
        "  \"\"\")\n",
        "query_job = client.query(QUERY)\n",
        "df_311 = query_job.to_dataframe()"
      ],
      "metadata": {
        "id": "IG-hJqUYqxQN"
      },
      "execution_count": 20,
      "outputs": []
    },
    {
      "cell_type": "code",
      "source": [
        "len(df_311)"
      ],
      "metadata": {
        "colab": {
          "base_uri": "https://localhost:8080/"
        },
        "id": "jU3DQm8gfDlS",
        "outputId": "6cefa088-cee8-496c-f9f6-588a763bfddc"
      },
      "execution_count": 21,
      "outputs": [
        {
          "output_type": "execute_result",
          "data": {
            "text/plain": [
              "40703"
            ]
          },
          "metadata": {},
          "execution_count": 21
        }
      ]
    },
    {
      "cell_type": "code",
      "source": [
        "df_311.to_pickle('311_dataframe.pkl', compression=\"zip\")"
      ],
      "metadata": {
        "id": "jbzKXz-gqWU6"
      },
      "execution_count": 22,
      "outputs": []
    },
    {
      "cell_type": "markdown",
      "source": [
        "# Clean up types"
      ],
      "metadata": {
        "id": "-uCRG5q_5GiK"
      }
    },
    {
      "cell_type": "code",
      "source": [
        "table = client.get_table('bigquery-public-data.new_york_311.311_service_requests')  # Make an API request.\n",
        "import io\n",
        "foo = open(\"schema.json\", \"w\") #io.StringIO(\"\")\n",
        "client.schema_to_json(table.schema, foo)\n",
        "#print(foo.getvalue())\n",
        "foo.close()"
      ],
      "metadata": {
        "id": "q--7DA9InfO7"
      },
      "execution_count": 23,
      "outputs": []
    },
    {
      "cell_type": "code",
      "source": [
        "response = run_code_interpreter(\"\"\"\n",
        "The attached pkl file has a dataframe where some of the column types are wrong.\n",
        "First, load the pickled dataframe. The pickled dataframe was saved with the compression set to zip.\n",
        "Use the attached BigQuery schema JSON file to set the columns to a pandas dtype that corresponds to the type of the column in BigQuery.\n",
        "The JSON is a list of columns, where name is the name of the column and type is the type.\n",
        "Not all the columns in the schema are columns in the dataframe, don't set the types of columns not in the dataframe.\n",
        "Columns that are string should be set explicitly to /\"string/\", not /\"str\"/.\n",
        "String columns with fewer than 200 unique values should be set as category types.\n",
        "Then return a pickle of the dataframe in a file called \"311_dataframe_typed.pkl\", save the pickle with zip compression.\n",
        "\"\"\",['311_dataframe.pkl', 'schema.json'], retry_num=1)\n",
        "process_response(response)"
      ],
      "metadata": {
        "colab": {
          "base_uri": "https://localhost:8080/",
          "height": 792
        },
        "id": "no0Zkicrmf_D",
        "outputId": "1a8e3007-cd8d-45a5-bfee-8a1bc74f7859"
      },
      "execution_count": 24,
      "outputs": [
        {
          "output_type": "stream",
          "name": "stdout",
          "text": [
            "The generated code produced an error data type 'TIMESTAMP' not understood -Automatic retry attempt # 1/1\n"
          ]
        },
        {
          "output_type": "display_data",
          "data": {
            "text/plain": [
              "<IPython.core.display.HTML object>"
            ],
            "text/html": [
              "\n",
              "<style>\n",
              ".main_summary {\n",
              "  font-weight: bold;\n",
              "  font-size: 14px; color: #4285F4;\n",
              "  background-color:rgba(221, 221, 221, 0.5); padding:8px;}\n",
              ".main_summary:hover {background-color: rgba(221, 221, 221, 1);}\n",
              "details {\n",
              "  background-color:#fff;\n",
              "  border: 1px solid #E8EAED;\n",
              "  padding:0px;\n",
              "  margin-bottom:2px; }\n",
              "details img {width:50%}\n",
              "details > div {padding:10px; }\n",
              "div#left > details:first-of-type > div {\n",
              "    overflow:auto;\n",
              "    max-height:400px; }\n",
              "\n",
              "div#right > pre {\n",
              "    overflow:auto;\n",
              "    max-height:600px;\n",
              "    background-color: ghostwhite;\n",
              "    padding: 10px; }\n",
              "details details > div { overflow: scroll; max-height:400px}\n",
              "details details {\n",
              "  background-color:rgba(246, 231, 217, 0.2);\n",
              "  border: 1px solid #FBBC04;}\n",
              "details details > summary {\n",
              "  padding: 8px;\n",
              "  background-color:rgba(255, 228, 196, 0.6); }\n",
              "details details > summary:hover { background-color:rgba(255, 228, 196, 0.9); }\n",
              "div#left {width: 64%; padding:0 1%;  }\n",
              "div#right {\n",
              "  border-left: 1px solid silver;\n",
              "  width: 30%;\n",
              "  float: right;\n",
              "  padding:0 1%; }\n",
              "body {color: #000; background-color: white; padding:10px 10px 40px 10px; }\n",
              "#main { border: 1px solid #FBBC04; padding:10px 0; display: flow-root; }\n",
              "h3 {color: #000; }\n",
              "code  { font-family: monospace; color: #900; padding: 0 2px; font-size: 105%; }\n",
              "</style>\n",
              "        \n",
              "<div id='main'>\n",
              "    <div id=\"right\">\n",
              "      <h3>Generated Code by Code Interpreter</h3>\n",
              "      <pre><code>```python\n",
              "import pandas as pd\n",
              "import json\n",
              "\n",
              "# Load the pickled dataframe\n",
              "df = pd.read_pickle(\"311_dataframe.pkl\", compression=\"zip\")\n",
              "\n",
              "# Load the BigQuery schema JSON file\n",
              "with open(\"schema.json\", \"r\") as f:\n",
              "    schema = json.load(f)\n",
              "\n",
              "# Set the columns to a pandas dtype that corresponds to the type of the column in BigQuery\n",
              "for column in schema:\n",
              "    name = column[\"name\"]\n",
              "    type = column[\"type\"]\n",
              "    if name in df.columns:\n",
              "        if type == \"STRING\":\n",
              "            if df[name].nunique() < 200:\n",
              "                df[name] = df[name].astype(\"category\")\n",
              "            else:\n",
              "                df[name] = df[name].astype(\"string\")\n",
              "        elif type == \"INTEGER\":\n",
              "            df[name] = df[name].astype(\"Int64\")\n",
              "        elif type == \"FLOAT\":\n",
              "            df[name] = df[name].astype(\"float\")\n",
              "        elif type == \"BOOLEAN\":\n",
              "            df[name] = df[name].astype(\"bool\")\n",
              "        elif type == \"DATE\":\n",
              "            df[name] = pd.to_datetime(df[name], errors=\"coerce\")\n",
              "        elif type == \"DATETIME\":\n",
              "            df[name] = pd.to_datetime(df[name], errors=\"coerce\")\n",
              "        elif type == \"TIME\":\n",
              "            df[name] = pd.to_datetime(df[name], errors=\"coerce\").dt.time\n",
              "        elif type == \"TIMESTAMP\":\n",
              "            df[name] = pd.to_datetime(df[name], errors=\"coerce\")\n",
              "\n",
              "# Save the pickle of the dataframe in a file called \"311_dataframe_typed.pkl\"\n",
              "df.to_pickle(\"311_dataframe_typed.pkl\", compression=\"zip\")\n",
              "```</code></pre>\n",
              "    </div>\n",
              "    <div id=\"left\">\n",
              "      <h3>Code Execution Results</h3>\n",
              "      \n",
              "  <details open>\n",
              "    <summary class='main_summary'>Executed Code Output:</summary>\n",
              "    <div><pre>Code does not produced printable output</pre></div>\n",
              "  </details>\n",
              "  \n",
              "  <details open>\n",
              "    <summary class='main_summary'>Files Created <u>(Click on filename to view content)</u>:</summary>\n",
              "    <div><pre><details><summary>311_dataframe_typed.pkl</summary><div><span>Preview N/A</span></div></details></pre></div>\n",
              "  </details>\n",
              "  \n",
              "    </div>\n",
              "</div>\n"
            ]
          },
          "metadata": {}
        }
      ]
    },
    {
      "cell_type": "code",
      "source": [
        "df_311_typed = pd.read_pickle('311_dataframe_typed.pkl', compression='zip')"
      ],
      "metadata": {
        "id": "1Yyv3mfCdbyB"
      },
      "execution_count": 25,
      "outputs": []
    },
    {
      "cell_type": "code",
      "source": [
        "df_311.dtypes"
      ],
      "metadata": {
        "colab": {
          "base_uri": "https://localhost:8080/"
        },
        "id": "hr3Jk7oXspTq",
        "outputId": "8889d9b9-094a-47e6-8a20-f2efd14a4c6a"
      },
      "execution_count": 26,
      "outputs": [
        {
          "output_type": "execute_result",
          "data": {
            "text/plain": [
              "unique_key                                Int64\n",
              "created_date                datetime64[us, UTC]\n",
              "closed_date                 datetime64[us, UTC]\n",
              "agency                                   object\n",
              "agency_name                              object\n",
              "complaint_type                           object\n",
              "descriptor                               object\n",
              "location_type                            object\n",
              "incident_zip                             object\n",
              "incident_address                         object\n",
              "street_name                              object\n",
              "cross_street_1                           object\n",
              "cross_street_2                           object\n",
              "intersection_street_1                    object\n",
              "intersection_street_2                    object\n",
              "address_type                             object\n",
              "status                                   object\n",
              "resolution_description                   object\n",
              "community_board                          object\n",
              "borough                                  object\n",
              "park_facility_name                       object\n",
              "open_data_channel_type                   object\n",
              "taxi_pickup_location                     object\n",
              "bridge_highway_name                      object\n",
              "bridge_highway_direction                 object\n",
              "bridge_highway_segment                   object\n",
              "dtype: object"
            ]
          },
          "metadata": {},
          "execution_count": 26
        }
      ]
    },
    {
      "cell_type": "code",
      "source": [
        "df_311_typed.dtypes"
      ],
      "metadata": {
        "colab": {
          "base_uri": "https://localhost:8080/"
        },
        "id": "T-J0DA_AslHm",
        "outputId": "db63abbb-c22c-4c87-c887-657761cdd73c"
      },
      "execution_count": 27,
      "outputs": [
        {
          "output_type": "execute_result",
          "data": {
            "text/plain": [
              "unique_key                                Int64\n",
              "created_date                datetime64[us, UTC]\n",
              "closed_date                 datetime64[us, UTC]\n",
              "agency                                 category\n",
              "agency_name                            category\n",
              "complaint_type                   string[python]\n",
              "descriptor                       string[python]\n",
              "location_type                          category\n",
              "incident_zip                     string[python]\n",
              "incident_address                 string[python]\n",
              "street_name                      string[python]\n",
              "cross_street_1                   string[python]\n",
              "cross_street_2                   string[python]\n",
              "intersection_street_1            string[python]\n",
              "intersection_street_2            string[python]\n",
              "address_type                           category\n",
              "status                                 category\n",
              "resolution_description           string[python]\n",
              "community_board                        category\n",
              "borough                                category\n",
              "park_facility_name               string[python]\n",
              "open_data_channel_type                 category\n",
              "taxi_pickup_location                   category\n",
              "bridge_highway_name                    category\n",
              "bridge_highway_direction               category\n",
              "bridge_highway_segment                 category\n",
              "dtype: object"
            ]
          },
          "metadata": {},
          "execution_count": 27
        }
      ]
    },
    {
      "cell_type": "code",
      "source": [
        "df_311_typed"
      ],
      "metadata": {
        "colab": {
          "base_uri": "https://localhost:8080/",
          "height": 721
        },
        "id": "7CPW5sTCMHSZ",
        "outputId": "da33de34-20f2-4656-957b-e738d388dbf3"
      },
      "execution_count": 28,
      "outputs": [
        {
          "output_type": "execute_result",
          "data": {
            "text/plain": [
              "       unique_key              created_date               closed_date agency  \\\n",
              "0        19807213 2011-02-10 17:53:27+00:00 2011-02-11 12:36:13+00:00   DFTA   \n",
              "1        20084523 2011-03-22 13:59:19+00:00 2011-03-24 16:58:28+00:00   DFTA   \n",
              "2        20939553 2011-07-30 14:56:55+00:00 2011-08-01 12:57:08+00:00   DFTA   \n",
              "3        21229895 2011-08-31 16:10:24+00:00 2011-09-01 17:24:54+00:00   DFTA   \n",
              "4        36140443 2017-05-08 15:21:45+00:00 2017-05-11 02:12:26+00:00    HPD   \n",
              "...           ...                       ...                       ...    ...   \n",
              "40698    16649587 2010-05-13 17:10:00+00:00 2010-05-13 17:23:22+00:00   NYPD   \n",
              "40699    16735447 2010-05-26 12:45:29+00:00 2010-05-26 14:38:38+00:00    DPR   \n",
              "40700    18238426 2010-07-11 07:16:00+00:00 2010-07-12 08:10:00+00:00    DEP   \n",
              "40701    49943646 2021-03-05 12:00:00+00:00 2021-03-09 12:00:00+00:00   DSNY   \n",
              "40702    18941547 2010-10-20 16:45:00+00:00 2010-10-20 17:00:00+00:00    DEP   \n",
              "\n",
              "                                             agency_name  \\\n",
              "0                               Department for the Aging   \n",
              "1                               Department for the Aging   \n",
              "2                               Department for the Aging   \n",
              "3                               Department for the Aging   \n",
              "4      Department of Housing Preservation and Develop...   \n",
              "...                                                  ...   \n",
              "40698                    New York City Police Department   \n",
              "40699                 Department of Parks and Recreation   \n",
              "40700             Department of Environmental Protection   \n",
              "40701                           Department of Sanitation   \n",
              "40702             Department of Environmental Protection   \n",
              "\n",
              "                    complaint_type  \\\n",
              "0      Housing - Low Income Senior   \n",
              "1      Housing - Low Income Senior   \n",
              "2      Housing - Low Income Senior   \n",
              "3                  HEAP Assistance   \n",
              "4                      DOOR/WINDOW   \n",
              "...                            ...   \n",
              "40698              Noise - Vehicle   \n",
              "40699      Overgrown Tree/Branches   \n",
              "40700           Water Conservation   \n",
              "40701            Derelict Vehicles   \n",
              "40702                 Water System   \n",
              "\n",
              "                                              descriptor  \\\n",
              "0                                                    N/A   \n",
              "1                                                    N/A   \n",
              "2                                                    N/A   \n",
              "3                                                    N/A   \n",
              "4                                                   DOOR   \n",
              "...                                                  ...   \n",
              "40698                                      Engine Idling   \n",
              "40699                                    Blocking Street   \n",
              "40700  Wasting Faucets,Sinks,Flushometer,Urinal,Etc. ...   \n",
              "40701                                  Derelict Vehicles   \n",
              "40702                              Hydrant Running (WC3)   \n",
              "\n",
              "              location_type incident_zip               incident_address  \\\n",
              "0            Senior Address        10456                           <NA>   \n",
              "1            Senior Address        10457                           <NA>   \n",
              "2            Senior Address        10473                           <NA>   \n",
              "3            Senior Address        10468                           <NA>   \n",
              "4      RESIDENTIAL BUILDING        10453  1652 DR M L KING JR BOULEVARD   \n",
              "...                     ...          ...                            ...   \n",
              "40698       Street/Sidewalk        11413              121-02 198 STREET   \n",
              "40699                Street        11413              182-08 144 AVENUE   \n",
              "40700                   NaN        11419              105-13 130 STREET   \n",
              "40701                Street        11413          122-50 MILBURN STREET   \n",
              "40702                   NaN        11413            137-52 SLOAN STREET   \n",
              "\n",
              "                    street_name cross_street_1 cross_street_2  \\\n",
              "0                          <NA>           <NA>           <NA>   \n",
              "1                          <NA>           <NA>           <NA>   \n",
              "2                          <NA>           <NA>           <NA>   \n",
              "3                          <NA>           <NA>           <NA>   \n",
              "4      DR M L KING JR BOULEVARD           <NA>           <NA>   \n",
              "...                         ...            ...            ...   \n",
              "40698                198 STREET     120 AVENUE     122 AVENUE   \n",
              "40699                144 AVENUE      182 PLACE     183 STREET   \n",
              "40700                130 STREET           BEND        107 AVE   \n",
              "40701            MILBURN STREET     122 AVENUE       DEAD END   \n",
              "40702              SLOAN STREET        137 AVE        139 AVE   \n",
              "\n",
              "      intersection_street_1 intersection_street_2 address_type  status  \\\n",
              "0                      <NA>                  <NA>      ADDRESS  Closed   \n",
              "1                      <NA>                  <NA>      ADDRESS  Closed   \n",
              "2                      <NA>                  <NA>      ADDRESS  Closed   \n",
              "3                      <NA>                  <NA>      ADDRESS  Closed   \n",
              "4                      <NA>                  <NA>      ADDRESS  Closed   \n",
              "...                     ...                   ...          ...     ...   \n",
              "40698                  <NA>                  <NA>      ADDRESS  Closed   \n",
              "40699                  <NA>                  <NA>      ADDRESS  Closed   \n",
              "40700                  <NA>                  <NA>      ADDRESS  Closed   \n",
              "40701                  <NA>                  <NA>      ADDRESS  Closed   \n",
              "40702                  <NA>                  <NA>      ADDRESS  Closed   \n",
              "\n",
              "                                  resolution_description community_board  \\\n",
              "0      The Department for the Aging contacted you and...        04 BRONX   \n",
              "1      The Department for the Aging contacted you and...        04 BRONX   \n",
              "2      The Department for the Aging contacted you and...        09 BRONX   \n",
              "3      The Department for the Aging contacted you and...        07 BRONX   \n",
              "4      The Department of Housing Preservation and Dev...        05 BRONX   \n",
              "...                                                  ...             ...   \n",
              "40698  The Police Department responded to the complai...       12 QUEENS   \n",
              "40699  The condition was inspected and it was determi...       12 QUEENS   \n",
              "40700  The Department of Environmental Protection att...       10 QUEENS   \n",
              "40701  The Department of Sanitation Investigated and ...       12 QUEENS   \n",
              "40702  The Department of Environmental Protection det...       12 QUEENS   \n",
              "\n",
              "      borough park_facility_name open_data_channel_type taxi_pickup_location  \\\n",
              "0       BRONX        Unspecified                  PHONE                  NaN   \n",
              "1       BRONX        Unspecified                  PHONE                  NaN   \n",
              "2       BRONX        Unspecified                  PHONE                  NaN   \n",
              "3       BRONX        Unspecified                  PHONE                  NaN   \n",
              "4       BRONX        Unspecified                  PHONE                  NaN   \n",
              "...       ...                ...                    ...                  ...   \n",
              "40698  QUEENS        Unspecified                  PHONE                  NaN   \n",
              "40699  QUEENS        Unspecified                  PHONE                  NaN   \n",
              "40700  QUEENS        Unspecified                UNKNOWN                  NaN   \n",
              "40701  QUEENS        Unspecified                  PHONE                  NaN   \n",
              "40702  QUEENS        Unspecified                UNKNOWN                  NaN   \n",
              "\n",
              "      bridge_highway_name bridge_highway_direction bridge_highway_segment  \n",
              "0                     NaN                      NaN                    NaN  \n",
              "1                     NaN                      NaN                    NaN  \n",
              "2                     NaN                      NaN                    NaN  \n",
              "3                     NaN                      NaN                    NaN  \n",
              "4                     NaN                      NaN                    NaN  \n",
              "...                   ...                      ...                    ...  \n",
              "40698                 NaN                      NaN                    NaN  \n",
              "40699                 NaN                      NaN                    NaN  \n",
              "40700                 NaN                      NaN                    NaN  \n",
              "40701                 NaN                      NaN                    NaN  \n",
              "40702                 NaN                      NaN                    NaN  \n",
              "\n",
              "[40703 rows x 26 columns]"
            ],
            "text/html": [
              "\n",
              "  <div id=\"df-99a08ae8-42d9-4d68-adaf-b6835db25b1d\" class=\"colab-df-container\">\n",
              "    <div>\n",
              "<style scoped>\n",
              "    .dataframe tbody tr th:only-of-type {\n",
              "        vertical-align: middle;\n",
              "    }\n",
              "\n",
              "    .dataframe tbody tr th {\n",
              "        vertical-align: top;\n",
              "    }\n",
              "\n",
              "    .dataframe thead th {\n",
              "        text-align: right;\n",
              "    }\n",
              "</style>\n",
              "<table border=\"1\" class=\"dataframe\">\n",
              "  <thead>\n",
              "    <tr style=\"text-align: right;\">\n",
              "      <th></th>\n",
              "      <th>unique_key</th>\n",
              "      <th>created_date</th>\n",
              "      <th>closed_date</th>\n",
              "      <th>agency</th>\n",
              "      <th>agency_name</th>\n",
              "      <th>complaint_type</th>\n",
              "      <th>descriptor</th>\n",
              "      <th>location_type</th>\n",
              "      <th>incident_zip</th>\n",
              "      <th>incident_address</th>\n",
              "      <th>street_name</th>\n",
              "      <th>cross_street_1</th>\n",
              "      <th>cross_street_2</th>\n",
              "      <th>intersection_street_1</th>\n",
              "      <th>intersection_street_2</th>\n",
              "      <th>address_type</th>\n",
              "      <th>status</th>\n",
              "      <th>resolution_description</th>\n",
              "      <th>community_board</th>\n",
              "      <th>borough</th>\n",
              "      <th>park_facility_name</th>\n",
              "      <th>open_data_channel_type</th>\n",
              "      <th>taxi_pickup_location</th>\n",
              "      <th>bridge_highway_name</th>\n",
              "      <th>bridge_highway_direction</th>\n",
              "      <th>bridge_highway_segment</th>\n",
              "    </tr>\n",
              "  </thead>\n",
              "  <tbody>\n",
              "    <tr>\n",
              "      <th>0</th>\n",
              "      <td>19807213</td>\n",
              "      <td>2011-02-10 17:53:27+00:00</td>\n",
              "      <td>2011-02-11 12:36:13+00:00</td>\n",
              "      <td>DFTA</td>\n",
              "      <td>Department for the Aging</td>\n",
              "      <td>Housing - Low Income Senior</td>\n",
              "      <td>N/A</td>\n",
              "      <td>Senior Address</td>\n",
              "      <td>10456</td>\n",
              "      <td>&lt;NA&gt;</td>\n",
              "      <td>&lt;NA&gt;</td>\n",
              "      <td>&lt;NA&gt;</td>\n",
              "      <td>&lt;NA&gt;</td>\n",
              "      <td>&lt;NA&gt;</td>\n",
              "      <td>&lt;NA&gt;</td>\n",
              "      <td>ADDRESS</td>\n",
              "      <td>Closed</td>\n",
              "      <td>The Department for the Aging contacted you and...</td>\n",
              "      <td>04 BRONX</td>\n",
              "      <td>BRONX</td>\n",
              "      <td>Unspecified</td>\n",
              "      <td>PHONE</td>\n",
              "      <td>NaN</td>\n",
              "      <td>NaN</td>\n",
              "      <td>NaN</td>\n",
              "      <td>NaN</td>\n",
              "    </tr>\n",
              "    <tr>\n",
              "      <th>1</th>\n",
              "      <td>20084523</td>\n",
              "      <td>2011-03-22 13:59:19+00:00</td>\n",
              "      <td>2011-03-24 16:58:28+00:00</td>\n",
              "      <td>DFTA</td>\n",
              "      <td>Department for the Aging</td>\n",
              "      <td>Housing - Low Income Senior</td>\n",
              "      <td>N/A</td>\n",
              "      <td>Senior Address</td>\n",
              "      <td>10457</td>\n",
              "      <td>&lt;NA&gt;</td>\n",
              "      <td>&lt;NA&gt;</td>\n",
              "      <td>&lt;NA&gt;</td>\n",
              "      <td>&lt;NA&gt;</td>\n",
              "      <td>&lt;NA&gt;</td>\n",
              "      <td>&lt;NA&gt;</td>\n",
              "      <td>ADDRESS</td>\n",
              "      <td>Closed</td>\n",
              "      <td>The Department for the Aging contacted you and...</td>\n",
              "      <td>04 BRONX</td>\n",
              "      <td>BRONX</td>\n",
              "      <td>Unspecified</td>\n",
              "      <td>PHONE</td>\n",
              "      <td>NaN</td>\n",
              "      <td>NaN</td>\n",
              "      <td>NaN</td>\n",
              "      <td>NaN</td>\n",
              "    </tr>\n",
              "    <tr>\n",
              "      <th>2</th>\n",
              "      <td>20939553</td>\n",
              "      <td>2011-07-30 14:56:55+00:00</td>\n",
              "      <td>2011-08-01 12:57:08+00:00</td>\n",
              "      <td>DFTA</td>\n",
              "      <td>Department for the Aging</td>\n",
              "      <td>Housing - Low Income Senior</td>\n",
              "      <td>N/A</td>\n",
              "      <td>Senior Address</td>\n",
              "      <td>10473</td>\n",
              "      <td>&lt;NA&gt;</td>\n",
              "      <td>&lt;NA&gt;</td>\n",
              "      <td>&lt;NA&gt;</td>\n",
              "      <td>&lt;NA&gt;</td>\n",
              "      <td>&lt;NA&gt;</td>\n",
              "      <td>&lt;NA&gt;</td>\n",
              "      <td>ADDRESS</td>\n",
              "      <td>Closed</td>\n",
              "      <td>The Department for the Aging contacted you and...</td>\n",
              "      <td>09 BRONX</td>\n",
              "      <td>BRONX</td>\n",
              "      <td>Unspecified</td>\n",
              "      <td>PHONE</td>\n",
              "      <td>NaN</td>\n",
              "      <td>NaN</td>\n",
              "      <td>NaN</td>\n",
              "      <td>NaN</td>\n",
              "    </tr>\n",
              "    <tr>\n",
              "      <th>3</th>\n",
              "      <td>21229895</td>\n",
              "      <td>2011-08-31 16:10:24+00:00</td>\n",
              "      <td>2011-09-01 17:24:54+00:00</td>\n",
              "      <td>DFTA</td>\n",
              "      <td>Department for the Aging</td>\n",
              "      <td>HEAP Assistance</td>\n",
              "      <td>N/A</td>\n",
              "      <td>Senior Address</td>\n",
              "      <td>10468</td>\n",
              "      <td>&lt;NA&gt;</td>\n",
              "      <td>&lt;NA&gt;</td>\n",
              "      <td>&lt;NA&gt;</td>\n",
              "      <td>&lt;NA&gt;</td>\n",
              "      <td>&lt;NA&gt;</td>\n",
              "      <td>&lt;NA&gt;</td>\n",
              "      <td>ADDRESS</td>\n",
              "      <td>Closed</td>\n",
              "      <td>The Department for the Aging contacted you and...</td>\n",
              "      <td>07 BRONX</td>\n",
              "      <td>BRONX</td>\n",
              "      <td>Unspecified</td>\n",
              "      <td>PHONE</td>\n",
              "      <td>NaN</td>\n",
              "      <td>NaN</td>\n",
              "      <td>NaN</td>\n",
              "      <td>NaN</td>\n",
              "    </tr>\n",
              "    <tr>\n",
              "      <th>4</th>\n",
              "      <td>36140443</td>\n",
              "      <td>2017-05-08 15:21:45+00:00</td>\n",
              "      <td>2017-05-11 02:12:26+00:00</td>\n",
              "      <td>HPD</td>\n",
              "      <td>Department of Housing Preservation and Develop...</td>\n",
              "      <td>DOOR/WINDOW</td>\n",
              "      <td>DOOR</td>\n",
              "      <td>RESIDENTIAL BUILDING</td>\n",
              "      <td>10453</td>\n",
              "      <td>1652 DR M L KING JR BOULEVARD</td>\n",
              "      <td>DR M L KING JR BOULEVARD</td>\n",
              "      <td>&lt;NA&gt;</td>\n",
              "      <td>&lt;NA&gt;</td>\n",
              "      <td>&lt;NA&gt;</td>\n",
              "      <td>&lt;NA&gt;</td>\n",
              "      <td>ADDRESS</td>\n",
              "      <td>Closed</td>\n",
              "      <td>The Department of Housing Preservation and Dev...</td>\n",
              "      <td>05 BRONX</td>\n",
              "      <td>BRONX</td>\n",
              "      <td>Unspecified</td>\n",
              "      <td>PHONE</td>\n",
              "      <td>NaN</td>\n",
              "      <td>NaN</td>\n",
              "      <td>NaN</td>\n",
              "      <td>NaN</td>\n",
              "    </tr>\n",
              "    <tr>\n",
              "      <th>...</th>\n",
              "      <td>...</td>\n",
              "      <td>...</td>\n",
              "      <td>...</td>\n",
              "      <td>...</td>\n",
              "      <td>...</td>\n",
              "      <td>...</td>\n",
              "      <td>...</td>\n",
              "      <td>...</td>\n",
              "      <td>...</td>\n",
              "      <td>...</td>\n",
              "      <td>...</td>\n",
              "      <td>...</td>\n",
              "      <td>...</td>\n",
              "      <td>...</td>\n",
              "      <td>...</td>\n",
              "      <td>...</td>\n",
              "      <td>...</td>\n",
              "      <td>...</td>\n",
              "      <td>...</td>\n",
              "      <td>...</td>\n",
              "      <td>...</td>\n",
              "      <td>...</td>\n",
              "      <td>...</td>\n",
              "      <td>...</td>\n",
              "      <td>...</td>\n",
              "      <td>...</td>\n",
              "    </tr>\n",
              "    <tr>\n",
              "      <th>40698</th>\n",
              "      <td>16649587</td>\n",
              "      <td>2010-05-13 17:10:00+00:00</td>\n",
              "      <td>2010-05-13 17:23:22+00:00</td>\n",
              "      <td>NYPD</td>\n",
              "      <td>New York City Police Department</td>\n",
              "      <td>Noise - Vehicle</td>\n",
              "      <td>Engine Idling</td>\n",
              "      <td>Street/Sidewalk</td>\n",
              "      <td>11413</td>\n",
              "      <td>121-02 198 STREET</td>\n",
              "      <td>198 STREET</td>\n",
              "      <td>120 AVENUE</td>\n",
              "      <td>122 AVENUE</td>\n",
              "      <td>&lt;NA&gt;</td>\n",
              "      <td>&lt;NA&gt;</td>\n",
              "      <td>ADDRESS</td>\n",
              "      <td>Closed</td>\n",
              "      <td>The Police Department responded to the complai...</td>\n",
              "      <td>12 QUEENS</td>\n",
              "      <td>QUEENS</td>\n",
              "      <td>Unspecified</td>\n",
              "      <td>PHONE</td>\n",
              "      <td>NaN</td>\n",
              "      <td>NaN</td>\n",
              "      <td>NaN</td>\n",
              "      <td>NaN</td>\n",
              "    </tr>\n",
              "    <tr>\n",
              "      <th>40699</th>\n",
              "      <td>16735447</td>\n",
              "      <td>2010-05-26 12:45:29+00:00</td>\n",
              "      <td>2010-05-26 14:38:38+00:00</td>\n",
              "      <td>DPR</td>\n",
              "      <td>Department of Parks and Recreation</td>\n",
              "      <td>Overgrown Tree/Branches</td>\n",
              "      <td>Blocking Street</td>\n",
              "      <td>Street</td>\n",
              "      <td>11413</td>\n",
              "      <td>182-08 144 AVENUE</td>\n",
              "      <td>144 AVENUE</td>\n",
              "      <td>182 PLACE</td>\n",
              "      <td>183 STREET</td>\n",
              "      <td>&lt;NA&gt;</td>\n",
              "      <td>&lt;NA&gt;</td>\n",
              "      <td>ADDRESS</td>\n",
              "      <td>Closed</td>\n",
              "      <td>The condition was inspected and it was determi...</td>\n",
              "      <td>12 QUEENS</td>\n",
              "      <td>QUEENS</td>\n",
              "      <td>Unspecified</td>\n",
              "      <td>PHONE</td>\n",
              "      <td>NaN</td>\n",
              "      <td>NaN</td>\n",
              "      <td>NaN</td>\n",
              "      <td>NaN</td>\n",
              "    </tr>\n",
              "    <tr>\n",
              "      <th>40700</th>\n",
              "      <td>18238426</td>\n",
              "      <td>2010-07-11 07:16:00+00:00</td>\n",
              "      <td>2010-07-12 08:10:00+00:00</td>\n",
              "      <td>DEP</td>\n",
              "      <td>Department of Environmental Protection</td>\n",
              "      <td>Water Conservation</td>\n",
              "      <td>Wasting Faucets,Sinks,Flushometer,Urinal,Etc. ...</td>\n",
              "      <td>NaN</td>\n",
              "      <td>11419</td>\n",
              "      <td>105-13 130 STREET</td>\n",
              "      <td>130 STREET</td>\n",
              "      <td>BEND</td>\n",
              "      <td>107 AVE</td>\n",
              "      <td>&lt;NA&gt;</td>\n",
              "      <td>&lt;NA&gt;</td>\n",
              "      <td>ADDRESS</td>\n",
              "      <td>Closed</td>\n",
              "      <td>The Department of Environmental Protection att...</td>\n",
              "      <td>10 QUEENS</td>\n",
              "      <td>QUEENS</td>\n",
              "      <td>Unspecified</td>\n",
              "      <td>UNKNOWN</td>\n",
              "      <td>NaN</td>\n",
              "      <td>NaN</td>\n",
              "      <td>NaN</td>\n",
              "      <td>NaN</td>\n",
              "    </tr>\n",
              "    <tr>\n",
              "      <th>40701</th>\n",
              "      <td>49943646</td>\n",
              "      <td>2021-03-05 12:00:00+00:00</td>\n",
              "      <td>2021-03-09 12:00:00+00:00</td>\n",
              "      <td>DSNY</td>\n",
              "      <td>Department of Sanitation</td>\n",
              "      <td>Derelict Vehicles</td>\n",
              "      <td>Derelict Vehicles</td>\n",
              "      <td>Street</td>\n",
              "      <td>11413</td>\n",
              "      <td>122-50 MILBURN STREET</td>\n",
              "      <td>MILBURN STREET</td>\n",
              "      <td>122 AVENUE</td>\n",
              "      <td>DEAD END</td>\n",
              "      <td>&lt;NA&gt;</td>\n",
              "      <td>&lt;NA&gt;</td>\n",
              "      <td>ADDRESS</td>\n",
              "      <td>Closed</td>\n",
              "      <td>The Department of Sanitation Investigated and ...</td>\n",
              "      <td>12 QUEENS</td>\n",
              "      <td>QUEENS</td>\n",
              "      <td>Unspecified</td>\n",
              "      <td>PHONE</td>\n",
              "      <td>NaN</td>\n",
              "      <td>NaN</td>\n",
              "      <td>NaN</td>\n",
              "      <td>NaN</td>\n",
              "    </tr>\n",
              "    <tr>\n",
              "      <th>40702</th>\n",
              "      <td>18941547</td>\n",
              "      <td>2010-10-20 16:45:00+00:00</td>\n",
              "      <td>2010-10-20 17:00:00+00:00</td>\n",
              "      <td>DEP</td>\n",
              "      <td>Department of Environmental Protection</td>\n",
              "      <td>Water System</td>\n",
              "      <td>Hydrant Running (WC3)</td>\n",
              "      <td>NaN</td>\n",
              "      <td>11413</td>\n",
              "      <td>137-52 SLOAN STREET</td>\n",
              "      <td>SLOAN STREET</td>\n",
              "      <td>137 AVE</td>\n",
              "      <td>139 AVE</td>\n",
              "      <td>&lt;NA&gt;</td>\n",
              "      <td>&lt;NA&gt;</td>\n",
              "      <td>ADDRESS</td>\n",
              "      <td>Closed</td>\n",
              "      <td>The Department of Environmental Protection det...</td>\n",
              "      <td>12 QUEENS</td>\n",
              "      <td>QUEENS</td>\n",
              "      <td>Unspecified</td>\n",
              "      <td>UNKNOWN</td>\n",
              "      <td>NaN</td>\n",
              "      <td>NaN</td>\n",
              "      <td>NaN</td>\n",
              "      <td>NaN</td>\n",
              "    </tr>\n",
              "  </tbody>\n",
              "</table>\n",
              "<p>40703 rows × 26 columns</p>\n",
              "</div>\n",
              "    <div class=\"colab-df-buttons\">\n",
              "\n",
              "  <div class=\"colab-df-container\">\n",
              "    <button class=\"colab-df-convert\" onclick=\"convertToInteractive('df-99a08ae8-42d9-4d68-adaf-b6835db25b1d')\"\n",
              "            title=\"Convert this dataframe to an interactive table.\"\n",
              "            style=\"display:none;\">\n",
              "\n",
              "  <svg xmlns=\"http://www.w3.org/2000/svg\" height=\"24px\" viewBox=\"0 -960 960 960\">\n",
              "    <path d=\"M120-120v-720h720v720H120Zm60-500h600v-160H180v160Zm220 220h160v-160H400v160Zm0 220h160v-160H400v160ZM180-400h160v-160H180v160Zm440 0h160v-160H620v160ZM180-180h160v-160H180v160Zm440 0h160v-160H620v160Z\"/>\n",
              "  </svg>\n",
              "    </button>\n",
              "\n",
              "  <style>\n",
              "    .colab-df-container {\n",
              "      display:flex;\n",
              "      gap: 12px;\n",
              "    }\n",
              "\n",
              "    .colab-df-convert {\n",
              "      background-color: #E8F0FE;\n",
              "      border: none;\n",
              "      border-radius: 50%;\n",
              "      cursor: pointer;\n",
              "      display: none;\n",
              "      fill: #1967D2;\n",
              "      height: 32px;\n",
              "      padding: 0 0 0 0;\n",
              "      width: 32px;\n",
              "    }\n",
              "\n",
              "    .colab-df-convert:hover {\n",
              "      background-color: #E2EBFA;\n",
              "      box-shadow: 0px 1px 2px rgba(60, 64, 67, 0.3), 0px 1px 3px 1px rgba(60, 64, 67, 0.15);\n",
              "      fill: #174EA6;\n",
              "    }\n",
              "\n",
              "    .colab-df-buttons div {\n",
              "      margin-bottom: 4px;\n",
              "    }\n",
              "\n",
              "    [theme=dark] .colab-df-convert {\n",
              "      background-color: #3B4455;\n",
              "      fill: #D2E3FC;\n",
              "    }\n",
              "\n",
              "    [theme=dark] .colab-df-convert:hover {\n",
              "      background-color: #434B5C;\n",
              "      box-shadow: 0px 1px 3px 1px rgba(0, 0, 0, 0.15);\n",
              "      filter: drop-shadow(0px 1px 2px rgba(0, 0, 0, 0.3));\n",
              "      fill: #FFFFFF;\n",
              "    }\n",
              "  </style>\n",
              "\n",
              "    <script>\n",
              "      const buttonEl =\n",
              "        document.querySelector('#df-99a08ae8-42d9-4d68-adaf-b6835db25b1d button.colab-df-convert');\n",
              "      buttonEl.style.display =\n",
              "        google.colab.kernel.accessAllowed ? 'block' : 'none';\n",
              "\n",
              "      async function convertToInteractive(key) {\n",
              "        const element = document.querySelector('#df-99a08ae8-42d9-4d68-adaf-b6835db25b1d');\n",
              "        const dataTable =\n",
              "          await google.colab.kernel.invokeFunction('convertToInteractive',\n",
              "                                                    [key], {});\n",
              "        if (!dataTable) return;\n",
              "\n",
              "        const docLinkHtml = 'Like what you see? Visit the ' +\n",
              "          '<a target=\"_blank\" href=https://colab.research.google.com/notebooks/data_table.ipynb>data table notebook</a>'\n",
              "          + ' to learn more about interactive tables.';\n",
              "        element.innerHTML = '';\n",
              "        dataTable['output_type'] = 'display_data';\n",
              "        await google.colab.output.renderOutput(dataTable, element);\n",
              "        const docLink = document.createElement('div');\n",
              "        docLink.innerHTML = docLinkHtml;\n",
              "        element.appendChild(docLink);\n",
              "      }\n",
              "    </script>\n",
              "  </div>\n",
              "\n",
              "\n",
              "<div id=\"df-04943d21-ae6e-4e08-8d1f-c071763099e1\">\n",
              "  <button class=\"colab-df-quickchart\" onclick=\"quickchart('df-04943d21-ae6e-4e08-8d1f-c071763099e1')\"\n",
              "            title=\"Suggest charts\"\n",
              "            style=\"display:none;\">\n",
              "\n",
              "<svg xmlns=\"http://www.w3.org/2000/svg\" height=\"24px\"viewBox=\"0 0 24 24\"\n",
              "     width=\"24px\">\n",
              "    <g>\n",
              "        <path d=\"M19 3H5c-1.1 0-2 .9-2 2v14c0 1.1.9 2 2 2h14c1.1 0 2-.9 2-2V5c0-1.1-.9-2-2-2zM9 17H7v-7h2v7zm4 0h-2V7h2v10zm4 0h-2v-4h2v4z\"/>\n",
              "    </g>\n",
              "</svg>\n",
              "  </button>\n",
              "\n",
              "<style>\n",
              "  .colab-df-quickchart {\n",
              "      --bg-color: #E8F0FE;\n",
              "      --fill-color: #1967D2;\n",
              "      --hover-bg-color: #E2EBFA;\n",
              "      --hover-fill-color: #174EA6;\n",
              "      --disabled-fill-color: #AAA;\n",
              "      --disabled-bg-color: #DDD;\n",
              "  }\n",
              "\n",
              "  [theme=dark] .colab-df-quickchart {\n",
              "      --bg-color: #3B4455;\n",
              "      --fill-color: #D2E3FC;\n",
              "      --hover-bg-color: #434B5C;\n",
              "      --hover-fill-color: #FFFFFF;\n",
              "      --disabled-bg-color: #3B4455;\n",
              "      --disabled-fill-color: #666;\n",
              "  }\n",
              "\n",
              "  .colab-df-quickchart {\n",
              "    background-color: var(--bg-color);\n",
              "    border: none;\n",
              "    border-radius: 50%;\n",
              "    cursor: pointer;\n",
              "    display: none;\n",
              "    fill: var(--fill-color);\n",
              "    height: 32px;\n",
              "    padding: 0;\n",
              "    width: 32px;\n",
              "  }\n",
              "\n",
              "  .colab-df-quickchart:hover {\n",
              "    background-color: var(--hover-bg-color);\n",
              "    box-shadow: 0 1px 2px rgba(60, 64, 67, 0.3), 0 1px 3px 1px rgba(60, 64, 67, 0.15);\n",
              "    fill: var(--button-hover-fill-color);\n",
              "  }\n",
              "\n",
              "  .colab-df-quickchart-complete:disabled,\n",
              "  .colab-df-quickchart-complete:disabled:hover {\n",
              "    background-color: var(--disabled-bg-color);\n",
              "    fill: var(--disabled-fill-color);\n",
              "    box-shadow: none;\n",
              "  }\n",
              "\n",
              "  .colab-df-spinner {\n",
              "    border: 2px solid var(--fill-color);\n",
              "    border-color: transparent;\n",
              "    border-bottom-color: var(--fill-color);\n",
              "    animation:\n",
              "      spin 1s steps(1) infinite;\n",
              "  }\n",
              "\n",
              "  @keyframes spin {\n",
              "    0% {\n",
              "      border-color: transparent;\n",
              "      border-bottom-color: var(--fill-color);\n",
              "      border-left-color: var(--fill-color);\n",
              "    }\n",
              "    20% {\n",
              "      border-color: transparent;\n",
              "      border-left-color: var(--fill-color);\n",
              "      border-top-color: var(--fill-color);\n",
              "    }\n",
              "    30% {\n",
              "      border-color: transparent;\n",
              "      border-left-color: var(--fill-color);\n",
              "      border-top-color: var(--fill-color);\n",
              "      border-right-color: var(--fill-color);\n",
              "    }\n",
              "    40% {\n",
              "      border-color: transparent;\n",
              "      border-right-color: var(--fill-color);\n",
              "      border-top-color: var(--fill-color);\n",
              "    }\n",
              "    60% {\n",
              "      border-color: transparent;\n",
              "      border-right-color: var(--fill-color);\n",
              "    }\n",
              "    80% {\n",
              "      border-color: transparent;\n",
              "      border-right-color: var(--fill-color);\n",
              "      border-bottom-color: var(--fill-color);\n",
              "    }\n",
              "    90% {\n",
              "      border-color: transparent;\n",
              "      border-bottom-color: var(--fill-color);\n",
              "    }\n",
              "  }\n",
              "</style>\n",
              "\n",
              "  <script>\n",
              "    async function quickchart(key) {\n",
              "      const quickchartButtonEl =\n",
              "        document.querySelector('#' + key + ' button');\n",
              "      quickchartButtonEl.disabled = true;  // To prevent multiple clicks.\n",
              "      quickchartButtonEl.classList.add('colab-df-spinner');\n",
              "      try {\n",
              "        const charts = await google.colab.kernel.invokeFunction(\n",
              "            'suggestCharts', [key], {});\n",
              "      } catch (error) {\n",
              "        console.error('Error during call to suggestCharts:', error);\n",
              "      }\n",
              "      quickchartButtonEl.classList.remove('colab-df-spinner');\n",
              "      quickchartButtonEl.classList.add('colab-df-quickchart-complete');\n",
              "    }\n",
              "    (() => {\n",
              "      let quickchartButtonEl =\n",
              "        document.querySelector('#df-04943d21-ae6e-4e08-8d1f-c071763099e1 button');\n",
              "      quickchartButtonEl.style.display =\n",
              "        google.colab.kernel.accessAllowed ? 'block' : 'none';\n",
              "    })();\n",
              "  </script>\n",
              "</div>\n",
              "\n",
              "  <div id=\"id_cf11a131-ee60-4fe0-b813-bdc263767ae8\">\n",
              "    <style>\n",
              "      .colab-df-generate {\n",
              "        background-color: #E8F0FE;\n",
              "        border: none;\n",
              "        border-radius: 50%;\n",
              "        cursor: pointer;\n",
              "        display: none;\n",
              "        fill: #1967D2;\n",
              "        height: 32px;\n",
              "        padding: 0 0 0 0;\n",
              "        width: 32px;\n",
              "      }\n",
              "\n",
              "      .colab-df-generate:hover {\n",
              "        background-color: #E2EBFA;\n",
              "        box-shadow: 0px 1px 2px rgba(60, 64, 67, 0.3), 0px 1px 3px 1px rgba(60, 64, 67, 0.15);\n",
              "        fill: #174EA6;\n",
              "      }\n",
              "\n",
              "      [theme=dark] .colab-df-generate {\n",
              "        background-color: #3B4455;\n",
              "        fill: #D2E3FC;\n",
              "      }\n",
              "\n",
              "      [theme=dark] .colab-df-generate:hover {\n",
              "        background-color: #434B5C;\n",
              "        box-shadow: 0px 1px 3px 1px rgba(0, 0, 0, 0.15);\n",
              "        filter: drop-shadow(0px 1px 2px rgba(0, 0, 0, 0.3));\n",
              "        fill: #FFFFFF;\n",
              "      }\n",
              "    </style>\n",
              "    <button class=\"colab-df-generate\" onclick=\"generateWithVariable('df_311_typed')\"\n",
              "            title=\"Generate code using this dataframe.\"\n",
              "            style=\"display:none;\">\n",
              "\n",
              "  <svg xmlns=\"http://www.w3.org/2000/svg\" height=\"24px\"viewBox=\"0 0 24 24\"\n",
              "       width=\"24px\">\n",
              "    <path d=\"M7,19H8.4L18.45,9,17,7.55,7,17.6ZM5,21V16.75L18.45,3.32a2,2,0,0,1,2.83,0l1.4,1.43a1.91,1.91,0,0,1,.58,1.4,1.91,1.91,0,0,1-.58,1.4L9.25,21ZM18.45,9,17,7.55Zm-12,3A5.31,5.31,0,0,0,4.9,8.1,5.31,5.31,0,0,0,1,6.5,5.31,5.31,0,0,0,4.9,4.9,5.31,5.31,0,0,0,6.5,1,5.31,5.31,0,0,0,8.1,4.9,5.31,5.31,0,0,0,12,6.5,5.46,5.46,0,0,0,6.5,12Z\"/>\n",
              "  </svg>\n",
              "    </button>\n",
              "    <script>\n",
              "      (() => {\n",
              "      const buttonEl =\n",
              "        document.querySelector('#id_cf11a131-ee60-4fe0-b813-bdc263767ae8 button.colab-df-generate');\n",
              "      buttonEl.style.display =\n",
              "        google.colab.kernel.accessAllowed ? 'block' : 'none';\n",
              "\n",
              "      buttonEl.onclick = () => {\n",
              "        google.colab.notebook.generateWithVariable('df_311_typed');\n",
              "      }\n",
              "      })();\n",
              "    </script>\n",
              "  </div>\n",
              "\n",
              "    </div>\n",
              "  </div>\n"
            ],
            "application/vnd.google.colaboratory.intrinsic+json": {
              "type": "dataframe",
              "variable_name": "df_311_typed"
            }
          },
          "metadata": {},
          "execution_count": 28
        }
      ]
    },
    {
      "cell_type": "markdown",
      "source": [
        "# Data Field Cleaning"
      ],
      "metadata": {
        "id": "64uqs3e3BjQN"
      }
    },
    {
      "cell_type": "code",
      "source": [
        "response = run_code_interpreter(\"\"\"\n",
        "First, load the pickled dataframe. The pickled dataframe was saved with the compression set to zip.\n",
        "Then plot the distribution of complaints by time of day.\n",
        "\"\"\",['311_dataframe_typed.pkl'], retry_num=1)\n",
        "process_response(response)"
      ],
      "metadata": {
        "colab": {
          "base_uri": "https://localhost:8080/",
          "height": 452
        },
        "id": "gxmahV5QBkzm",
        "outputId": "b49e3d6c-e0c6-45a5-aa8b-a1fe3f45317c"
      },
      "execution_count": 29,
      "outputs": [
        {
          "output_type": "display_data",
          "data": {
            "text/plain": [
              "<IPython.core.display.HTML object>"
            ],
            "text/html": [
              "\n",
              "<style>\n",
              ".main_summary {\n",
              "  font-weight: bold;\n",
              "  font-size: 14px; color: #4285F4;\n",
              "  background-color:rgba(221, 221, 221, 0.5); padding:8px;}\n",
              ".main_summary:hover {background-color: rgba(221, 221, 221, 1);}\n",
              "details {\n",
              "  background-color:#fff;\n",
              "  border: 1px solid #E8EAED;\n",
              "  padding:0px;\n",
              "  margin-bottom:2px; }\n",
              "details img {width:50%}\n",
              "details > div {padding:10px; }\n",
              "div#left > details:first-of-type > div {\n",
              "    overflow:auto;\n",
              "    max-height:400px; }\n",
              "\n",
              "div#right > pre {\n",
              "    overflow:auto;\n",
              "    max-height:600px;\n",
              "    background-color: ghostwhite;\n",
              "    padding: 10px; }\n",
              "details details > div { overflow: scroll; max-height:400px}\n",
              "details details {\n",
              "  background-color:rgba(246, 231, 217, 0.2);\n",
              "  border: 1px solid #FBBC04;}\n",
              "details details > summary {\n",
              "  padding: 8px;\n",
              "  background-color:rgba(255, 228, 196, 0.6); }\n",
              "details details > summary:hover { background-color:rgba(255, 228, 196, 0.9); }\n",
              "div#left {width: 64%; padding:0 1%;  }\n",
              "div#right {\n",
              "  border-left: 1px solid silver;\n",
              "  width: 30%;\n",
              "  float: right;\n",
              "  padding:0 1%; }\n",
              "body {color: #000; background-color: white; padding:10px 10px 40px 10px; }\n",
              "#main { border: 1px solid #FBBC04; padding:10px 0; display: flow-root; }\n",
              "h3 {color: #000; }\n",
              "code  { font-family: monospace; color: #900; padding: 0 2px; font-size: 105%; }\n",
              "</style>\n",
              "        \n",
              "<div id='main'>\n",
              "    <div id=\"right\">\n",
              "      <h3>Generated Code by Code Interpreter</h3>\n",
              "      <pre><code>```python\n",
              "import pandas as pd\n",
              "import matplotlib.pyplot as plt\n",
              "\n",
              "# Load the pickled dataframe\n",
              "df = pd.read_pickle(\"311_dataframe_typed.pkl\", compression=\"zip\")\n",
              "\n",
              "# Plot the distribution of complaints by time of day\n",
              "df[\"created_date\"] = pd.to_datetime(df[\"created_date\"])\n",
              "df[\"hour\"] = df[\"created_date\"].dt.hour\n",
              "df[\"hour\"].value_counts().sort_index().plot(kind=\"bar\")\n",
              "plt.xlabel(\"Hour of Day\")\n",
              "plt.ylabel(\"Number of Complaints\")\n",
              "plt.title(\"Distribution of Complaints by Time of Day\")\n",
              "plt.show()\n",
              "```</code></pre>\n",
              "    </div>\n",
              "    <div id=\"left\">\n",
              "      <h3>Code Execution Results</h3>\n",
              "      \n",
              "  <details open>\n",
              "    <summary class='main_summary'>Executed Code Output:</summary>\n",
              "    <div><pre>Code does not produced printable output</pre></div>\n",
              "  </details>\n",
              "  \n",
              "  <details open>\n",
              "    <summary class='main_summary'>Files Created <u>(Click on filename to view content)</u>:</summary>\n",
              "    <div><pre><details><summary>code_execution_image_1_XXAVZp_7B9_L2ukPoqW-mA8.png</summary><div><img src=\"data:image/png;base64, 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\" /></div></details></pre></div>\n",
              "  </details>\n",
              "  \n",
              "    </div>\n",
              "</div>\n"
            ]
          },
          "metadata": {}
        }
      ]
    },
    {
      "cell_type": "code",
      "source": [
        "response = run_code_interpreter(\"\"\"\n",
        "First, load the pickled dataframe. The pickled dataframe was saved with the compression set to zip.\n",
        "Print the number of rows of the dataframe.\n",
        "Remove all rows created exactly at midnight (to the second).\n",
        "The test for midnight is rows with an hour of 0, minute of 0, and second of 0.\n",
        "Meaning, a row needs either an hour not 0, a minute not 0, or a second not 0 to be kept.\n",
        "The column created_date holds the creation time.\n",
        "Print the number of rows of the dataframe.\n",
        "Then return a pickle of the dataframe in a file called \"311_dataframe_nomidnight.pkl\", save the pickle with zip compression.\n",
        "\"\"\",['311_dataframe_typed.pkl'], retry_num=1)\n",
        "process_response(response)"
      ],
      "metadata": {
        "colab": {
          "base_uri": "https://localhost:8080/",
          "height": 490
        },
        "id": "H4J7vORvBuiV",
        "outputId": "9689cc19-6075-45e4-cf99-20a4ea87bce1"
      },
      "execution_count": 30,
      "outputs": [
        {
          "output_type": "display_data",
          "data": {
            "text/plain": [
              "<IPython.core.display.HTML object>"
            ],
            "text/html": [
              "\n",
              "<style>\n",
              ".main_summary {\n",
              "  font-weight: bold;\n",
              "  font-size: 14px; color: #4285F4;\n",
              "  background-color:rgba(221, 221, 221, 0.5); padding:8px;}\n",
              ".main_summary:hover {background-color: rgba(221, 221, 221, 1);}\n",
              "details {\n",
              "  background-color:#fff;\n",
              "  border: 1px solid #E8EAED;\n",
              "  padding:0px;\n",
              "  margin-bottom:2px; }\n",
              "details img {width:50%}\n",
              "details > div {padding:10px; }\n",
              "div#left > details:first-of-type > div {\n",
              "    overflow:auto;\n",
              "    max-height:400px; }\n",
              "\n",
              "div#right > pre {\n",
              "    overflow:auto;\n",
              "    max-height:600px;\n",
              "    background-color: ghostwhite;\n",
              "    padding: 10px; }\n",
              "details details > div { overflow: scroll; max-height:400px}\n",
              "details details {\n",
              "  background-color:rgba(246, 231, 217, 0.2);\n",
              "  border: 1px solid #FBBC04;}\n",
              "details details > summary {\n",
              "  padding: 8px;\n",
              "  background-color:rgba(255, 228, 196, 0.6); }\n",
              "details details > summary:hover { background-color:rgba(255, 228, 196, 0.9); }\n",
              "div#left {width: 64%; padding:0 1%;  }\n",
              "div#right {\n",
              "  border-left: 1px solid silver;\n",
              "  width: 30%;\n",
              "  float: right;\n",
              "  padding:0 1%; }\n",
              "body {color: #000; background-color: white; padding:10px 10px 40px 10px; }\n",
              "#main { border: 1px solid #FBBC04; padding:10px 0; display: flow-root; }\n",
              "h3 {color: #000; }\n",
              "code  { font-family: monospace; color: #900; padding: 0 2px; font-size: 105%; }\n",
              "</style>\n",
              "        \n",
              "<div id='main'>\n",
              "    <div id=\"right\">\n",
              "      <h3>Generated Code by Code Interpreter</h3>\n",
              "      <pre><code>```python\n",
              "import pandas as pd\n",
              "\n",
              "# Load the pickled dataframe\n",
              "df = pd.read_pickle(\"311_dataframe_typed.pkl\", compression=\"zip\")\n",
              "\n",
              "# Print the number of rows of the dataframe\n",
              "print(\"Number of rows in the original dataframe:\", df.shape[0])\n",
              "\n",
              "# Remove all rows created exactly at midnight (to the second)\n",
              "df = df[(df[\"created_date\"].dt.hour != 0) | (df[\"created_date\"].dt.minute != 0) | (df[\"created_date\"].dt.second != 0)]\n",
              "\n",
              "# Print the number of rows of the dataframe\n",
              "print(\"Number of rows in the dataframe after removing midnight rows:\", df.shape[0])\n",
              "\n",
              "# Save the pickle of the dataframe in a file called \"311_dataframe_nomidnight.pkl\" with zip compression\n",
              "df.to_pickle(\"311_dataframe_nomidnight.pkl\", compression=\"zip\")\n",
              "```</code></pre>\n",
              "    </div>\n",
              "    <div id=\"left\">\n",
              "      <h3>Code Execution Results</h3>\n",
              "      \n",
              "  <details open>\n",
              "    <summary class='main_summary'>Executed Code Output:</summary>\n",
              "    <div><pre>Number of rows in the original dataframe: 40703\n",
              "Number of rows in the dataframe after removing midnight rows: 35090\n",
              "</pre></div>\n",
              "  </details>\n",
              "  \n",
              "  <details open>\n",
              "    <summary class='main_summary'>Files Created <u>(Click on filename to view content)</u>:</summary>\n",
              "    <div><pre><details><summary>311_dataframe_nomidnight.pkl</summary><div><span>Preview N/A</span></div></details></pre></div>\n",
              "  </details>\n",
              "  \n",
              "    </div>\n",
              "</div>\n"
            ]
          },
          "metadata": {}
        }
      ]
    },
    {
      "cell_type": "markdown",
      "source": [
        "# Combine Cleaning Steps"
      ],
      "metadata": {
        "id": "7R-K0IXSOTLW"
      }
    },
    {
      "cell_type": "code",
      "source": [
        "response = run_code_interpreter(\"\"\"\n",
        "The attached pkl file has a dataframe where some of the column types are wrong.\n",
        "First, load the pickled dataframe. The pickled dataframe was saved with the compression set to zip.\n",
        "Use the attached BigQuery schema JSON file to set the columns to a pandas dtype that corresponds to the type of the column in BigQuery.\n",
        "The JSON is a list of columns, where name is the name of the column and type is the type.\n",
        "Not all the columns in the schema are columns in the dataframe, don't set the types of columns not in the dataframe.\n",
        "Columns that are string should be set explicitly to /\"string/\", not /\"str\"/.\n",
        "String columns with fewer than 200 unique values should be set as category types.\n",
        "Print the number of rows of the dataframe.\n",
        "Remove all rows created exactly at midnight (to the second).\n",
        "The test for midnight is rows with an hour of 0, minute of 0, and second of 0.\n",
        "Meaning, a row needs either an hour not 0, a minute not 0, or a second not 0 to be kept.\n",
        "The column created_date holds the creation time.\n",
        "Print the number of rows of the dataframe.\n",
        "Then return a pickle of the dataframe in a file called \"311_dataframe_clean.pkl\", save the pickle with zip compression.\n",
        "\"\"\",['311_dataframe.pkl', 'schema.json'], retry_num=1)\n",
        "process_response(response)"
      ],
      "metadata": {
        "colab": {
          "base_uri": "https://localhost:8080/",
          "height": 772
        },
        "id": "z8gUmRvAOVzZ",
        "outputId": "9c73674d-d512-4cdb-cbef-fd5266456c93"
      },
      "execution_count": 32,
      "outputs": [
        {
          "output_type": "stream",
          "name": "stdout",
          "text": [
            "The generated code produced an error 'fields' -Automatic retry attempt # 1/1\n"
          ]
        },
        {
          "output_type": "display_data",
          "data": {
            "text/plain": [
              "<IPython.core.display.HTML object>"
            ],
            "text/html": [
              "\n",
              "<style>\n",
              ".main_summary {\n",
              "  font-weight: bold;\n",
              "  font-size: 14px; color: #4285F4;\n",
              "  background-color:rgba(221, 221, 221, 0.5); padding:8px;}\n",
              ".main_summary:hover {background-color: rgba(221, 221, 221, 1);}\n",
              "details {\n",
              "  background-color:#fff;\n",
              "  border: 1px solid #E8EAED;\n",
              "  padding:0px;\n",
              "  margin-bottom:2px; }\n",
              "details img {width:50%}\n",
              "details > div {padding:10px; }\n",
              "div#left > details:first-of-type > div {\n",
              "    overflow:auto;\n",
              "    max-height:400px; }\n",
              "\n",
              "div#right > pre {\n",
              "    overflow:auto;\n",
              "    max-height:600px;\n",
              "    background-color: ghostwhite;\n",
              "    padding: 10px; }\n",
              "details details > div { overflow: scroll; max-height:400px}\n",
              "details details {\n",
              "  background-color:rgba(246, 231, 217, 0.2);\n",
              "  border: 1px solid #FBBC04;}\n",
              "details details > summary {\n",
              "  padding: 8px;\n",
              "  background-color:rgba(255, 228, 196, 0.6); }\n",
              "details details > summary:hover { background-color:rgba(255, 228, 196, 0.9); }\n",
              "div#left {width: 64%; padding:0 1%;  }\n",
              "div#right {\n",
              "  border-left: 1px solid silver;\n",
              "  width: 30%;\n",
              "  float: right;\n",
              "  padding:0 1%; }\n",
              "body {color: #000; background-color: white; padding:10px 10px 40px 10px; }\n",
              "#main { border: 1px solid #FBBC04; padding:10px 0; display: flow-root; }\n",
              "h3 {color: #000; }\n",
              "code  { font-family: monospace; color: #900; padding: 0 2px; font-size: 105%; }\n",
              "</style>\n",
              "        \n",
              "<div id='main'>\n",
              "    <div id=\"right\">\n",
              "      <h3>Generated Code by Code Interpreter</h3>\n",
              "      <pre><code>```python\n",
              "import pandas as pd\n",
              "import pickle\n",
              "import json\n",
              "\n",
              "# Load the pickled dataframe\n",
              "df = pd.read_pickle('311_dataframe.pkl', compression='zip')\n",
              "\n",
              "# Load the BigQuery schema\n",
              "with open('schema.json', 'r') as f:\n",
              "    schema = json.load(f)\n",
              "\n",
              "# Set the column types\n",
              "for column in schema:\n",
              "    name = column['name']\n",
              "    type = column['type']\n",
              "    if name in df.columns:\n",
              "        if type == 'STRING':\n",
              "            if df[name].nunique() < 200:\n",
              "                df[name] = df[name].astype('category')\n",
              "            else:\n",
              "                df[name] = df[name].astype('string')\n",
              "        elif type == 'INTEGER':\n",
              "            df[name] = df[name].astype('Int64')\n",
              "        elif type == 'TIMESTAMP':\n",
              "            df[name] = pd.to_datetime(df[name])\n",
              "        else:\n",
              "            df[name] = df[name].astype(type)\n",
              "\n",
              "# Print the number of rows of the dataframe\n",
              "print(len(df))\n",
              "\n",
              "# Remove all rows created exactly at midnight\n",
              "df = df[(df['created_date'].dt.hour != 0) | (df['created_date'].dt.minute != 0) | (df['created_date'].dt.second != 0)]\n",
              "\n",
              "# Print the number of rows of the dataframe\n",
              "print(len(df))\n",
              "\n",
              "# Save the dataframe to a pickle file\n",
              "df.to_pickle('311_dataframe_clean.pkl', compression='zip')\n",
              "```</code></pre>\n",
              "    </div>\n",
              "    <div id=\"left\">\n",
              "      <h3>Code Execution Results</h3>\n",
              "      \n",
              "  <details open>\n",
              "    <summary class='main_summary'>Executed Code Output:</summary>\n",
              "    <div><pre>40703\n",
              "35090\n",
              "</pre></div>\n",
              "  </details>\n",
              "  \n",
              "  <details open>\n",
              "    <summary class='main_summary'>Files Created <u>(Click on filename to view content)</u>:</summary>\n",
              "    <div><pre><details><summary>311_dataframe_clean.pkl</summary><div><span>Preview N/A</span></div></details></pre></div>\n",
              "  </details>\n",
              "  \n",
              "    </div>\n",
              "</div>\n"
            ]
          },
          "metadata": {}
        }
      ]
    },
    {
      "cell_type": "code",
      "source": [
        "response = run_code_interpreter(\"\"\"\n",
        "First, load the pickled dataframe. The pickled dataframe was saved with the compression set to zip.\n",
        "Then plot the distribution of complaints by time of day.\n",
        "\"\"\",['311_dataframe_clean.pkl'], retry_num=1)\n",
        "process_response(response)"
      ],
      "metadata": {
        "colab": {
          "base_uri": "https://localhost:8080/",
          "height": 490
        },
        "id": "D_xIn8erCKsX",
        "outputId": "4e240a3a-3ab9-440a-a515-9f64986e1aab"
      },
      "execution_count": 33,
      "outputs": [
        {
          "output_type": "display_data",
          "data": {
            "text/plain": [
              "<IPython.core.display.HTML object>"
            ],
            "text/html": [
              "\n",
              "<style>\n",
              ".main_summary {\n",
              "  font-weight: bold;\n",
              "  font-size: 14px; color: #4285F4;\n",
              "  background-color:rgba(221, 221, 221, 0.5); padding:8px;}\n",
              ".main_summary:hover {background-color: rgba(221, 221, 221, 1);}\n",
              "details {\n",
              "  background-color:#fff;\n",
              "  border: 1px solid #E8EAED;\n",
              "  padding:0px;\n",
              "  margin-bottom:2px; }\n",
              "details img {width:50%}\n",
              "details > div {padding:10px; }\n",
              "div#left > details:first-of-type > div {\n",
              "    overflow:auto;\n",
              "    max-height:400px; }\n",
              "\n",
              "div#right > pre {\n",
              "    overflow:auto;\n",
              "    max-height:600px;\n",
              "    background-color: ghostwhite;\n",
              "    padding: 10px; }\n",
              "details details > div { overflow: scroll; max-height:400px}\n",
              "details details {\n",
              "  background-color:rgba(246, 231, 217, 0.2);\n",
              "  border: 1px solid #FBBC04;}\n",
              "details details > summary {\n",
              "  padding: 8px;\n",
              "  background-color:rgba(255, 228, 196, 0.6); }\n",
              "details details > summary:hover { background-color:rgba(255, 228, 196, 0.9); }\n",
              "div#left {width: 64%; padding:0 1%;  }\n",
              "div#right {\n",
              "  border-left: 1px solid silver;\n",
              "  width: 30%;\n",
              "  float: right;\n",
              "  padding:0 1%; }\n",
              "body {color: #000; background-color: white; padding:10px 10px 40px 10px; }\n",
              "#main { border: 1px solid #FBBC04; padding:10px 0; display: flow-root; }\n",
              "h3 {color: #000; }\n",
              "code  { font-family: monospace; color: #900; padding: 0 2px; font-size: 105%; }\n",
              "</style>\n",
              "        \n",
              "<div id='main'>\n",
              "    <div id=\"right\">\n",
              "      <h3>Generated Code by Code Interpreter</h3>\n",
              "      <pre><code>```python\n",
              "import pandas as pd\n",
              "import matplotlib.pyplot as plt\n",
              "\n",
              "# Load the pickled dataframe\n",
              "df = pd.read_pickle(\"311_dataframe_clean.pkl\", compression=\"zip\")\n",
              "\n",
              "# Plot the distribution of complaints by time of day\n",
              "df['created_date'] = pd.to_datetime(df['created_date'])\n",
              "df['hour'] = df['created_date'].dt.hour\n",
              "\n",
              "plt.figure(figsize=(12, 6))\n",
              "plt.hist(df['hour'], bins=24)\n",
              "plt.xlabel('Hour of Day')\n",
              "plt.ylabel('Number of Complaints')\n",
              "plt.title('Distribution of Complaints by Time of Day')\n",
              "plt.show()\n",
              "```</code></pre>\n",
              "    </div>\n",
              "    <div id=\"left\">\n",
              "      <h3>Code Execution Results</h3>\n",
              "      \n",
              "  <details open>\n",
              "    <summary class='main_summary'>Executed Code Output:</summary>\n",
              "    <div><pre>Code does not produced printable output</pre></div>\n",
              "  </details>\n",
              "  \n",
              "  <details open>\n",
              "    <summary class='main_summary'>Files Created <u>(Click on filename to view content)</u>:</summary>\n",
              "    <div><pre><details><summary>code_execution_image_1_5XAVZrS1Od_L2ukPoqW-mA8.png</summary><div><img src=\"data:image/png;base64, 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\" /></div></details></pre></div>\n",
              "  </details>\n",
              "  \n",
              "    </div>\n",
              "</div>\n"
            ]
          },
          "metadata": {}
        }
      ]
    },
    {
      "cell_type": "markdown",
      "source": [
        "# Sample"
      ],
      "metadata": {
        "id": "M0vSAFr65LHw"
      }
    },
    {
      "cell_type": "code",
      "source": [
        "response = run_code_interpreter(\"\"\"\n",
        "First, load the pickled dataframe. The pickled dataframe was saved with the compression set to zip.\n",
        "Then sample 20% of the dataset.\n",
        "Then return a pickle of the dataframe in a file called \"311_dataframe_sampled.pkl\", save the pickle with zip compression.\n",
        "\"\"\",['311_dataframe_clean.pkl'], retry_num=1)\n",
        "process_response(response)"
      ],
      "metadata": {
        "colab": {
          "base_uri": "https://localhost:8080/",
          "height": 377
        },
        "id": "Ws6hE9jW5Jbt",
        "outputId": "5d201b16-fc1d-4f61-eea1-2b087c0b5af2"
      },
      "execution_count": 35,
      "outputs": [
        {
          "output_type": "display_data",
          "data": {
            "text/plain": [
              "<IPython.core.display.HTML object>"
            ],
            "text/html": [
              "\n",
              "<style>\n",
              ".main_summary {\n",
              "  font-weight: bold;\n",
              "  font-size: 14px; color: #4285F4;\n",
              "  background-color:rgba(221, 221, 221, 0.5); padding:8px;}\n",
              ".main_summary:hover {background-color: rgba(221, 221, 221, 1);}\n",
              "details {\n",
              "  background-color:#fff;\n",
              "  border: 1px solid #E8EAED;\n",
              "  padding:0px;\n",
              "  margin-bottom:2px; }\n",
              "details img {width:50%}\n",
              "details > div {padding:10px; }\n",
              "div#left > details:first-of-type > div {\n",
              "    overflow:auto;\n",
              "    max-height:400px; }\n",
              "\n",
              "div#right > pre {\n",
              "    overflow:auto;\n",
              "    max-height:600px;\n",
              "    background-color: ghostwhite;\n",
              "    padding: 10px; }\n",
              "details details > div { overflow: scroll; max-height:400px}\n",
              "details details {\n",
              "  background-color:rgba(246, 231, 217, 0.2);\n",
              "  border: 1px solid #FBBC04;}\n",
              "details details > summary {\n",
              "  padding: 8px;\n",
              "  background-color:rgba(255, 228, 196, 0.6); }\n",
              "details details > summary:hover { background-color:rgba(255, 228, 196, 0.9); }\n",
              "div#left {width: 64%; padding:0 1%;  }\n",
              "div#right {\n",
              "  border-left: 1px solid silver;\n",
              "  width: 30%;\n",
              "  float: right;\n",
              "  padding:0 1%; }\n",
              "body {color: #000; background-color: white; padding:10px 10px 40px 10px; }\n",
              "#main { border: 1px solid #FBBC04; padding:10px 0; display: flow-root; }\n",
              "h3 {color: #000; }\n",
              "code  { font-family: monospace; color: #900; padding: 0 2px; font-size: 105%; }\n",
              "</style>\n",
              "        \n",
              "<div id='main'>\n",
              "    <div id=\"right\">\n",
              "      <h3>Generated Code by Code Interpreter</h3>\n",
              "      <pre><code>```python\n",
              "import pandas as pd\n",
              "\n",
              "# Load the pickled dataframe\n",
              "df = pd.read_pickle(\"311_dataframe_clean.pkl\", compression=\"zip\")\n",
              "\n",
              "# Sample 20% of the dataset\n",
              "df = df.sample(frac=0.2)\n",
              "\n",
              "# Save the pickle of the dataframe\n",
              "df.to_pickle(\"311_dataframe_sampled.pkl\", compression=\"zip\")\n",
              "```</code></pre>\n",
              "    </div>\n",
              "    <div id=\"left\">\n",
              "      <h3>Code Execution Results</h3>\n",
              "      \n",
              "  <details open>\n",
              "    <summary class='main_summary'>Executed Code Output:</summary>\n",
              "    <div><pre>Code does not produced printable output</pre></div>\n",
              "  </details>\n",
              "  \n",
              "  <details open>\n",
              "    <summary class='main_summary'>Files Created <u>(Click on filename to view content)</u>:</summary>\n",
              "    <div><pre><details><summary>311_dataframe_sampled.pkl</summary><div><span>Preview N/A</span></div></details></pre></div>\n",
              "  </details>\n",
              "  \n",
              "    </div>\n",
              "</div>\n"
            ]
          },
          "metadata": {}
        }
      ]
    },
    {
      "cell_type": "code",
      "source": [
        "df_311_clean = pd.read_pickle(\"311_dataframe_clean.pkl\", compression=\"zip\")\n",
        "len(df_311_clean)"
      ],
      "metadata": {
        "colab": {
          "base_uri": "https://localhost:8080/"
        },
        "id": "dwZfi5xw5xai",
        "outputId": "07954e2d-e813-4edc-80c2-f94b24efd05a"
      },
      "execution_count": 36,
      "outputs": [
        {
          "output_type": "execute_result",
          "data": {
            "text/plain": [
              "35090"
            ]
          },
          "metadata": {},
          "execution_count": 36
        }
      ]
    },
    {
      "cell_type": "code",
      "source": [
        "df_311_sampled = pd.read_pickle('311_dataframe_sampled.pkl', compression='zip')\n",
        "len(df_311_sampled)"
      ],
      "metadata": {
        "colab": {
          "base_uri": "https://localhost:8080/"
        },
        "id": "WwEQVs1H5yco",
        "outputId": "ea99991b-39c4-415e-d487-50d294c239f9"
      },
      "execution_count": 37,
      "outputs": [
        {
          "output_type": "execute_result",
          "data": {
            "text/plain": [
              "7018"
            ]
          },
          "metadata": {},
          "execution_count": 37
        }
      ]
    },
    {
      "cell_type": "markdown",
      "source": [
        "# More complex sampling"
      ],
      "metadata": {
        "id": "tCxUGXBF54MR"
      }
    },
    {
      "cell_type": "code",
      "source": [
        "response = run_code_interpreter(\"\"\"\n",
        "First, load the pickled dataframe. The pickled dataframe was saved with the compression set to zip.\n",
        "Create a dataset of 300 rows based on the 'borough' column.\n",
        "Where 100 rows are random rows from 'MANHATTAN' and 200 are random rows from 'BROOKLYN'.\n",
        "Don't use pandas groupby.\n",
        "Return a pickle of the dataframe in a file called \"311_dataframe_borough_sample.pkl\", save the pickle with zip compression.\n",
        "\"\"\".format(df_311_clean['borough'].unique()),['311_dataframe_clean.pkl'], retry_num=1)\n",
        "process_response(response)"
      ],
      "metadata": {
        "colab": {
          "base_uri": "https://localhost:8080/",
          "height": 415
        },
        "id": "AlaQ5FFU5_g3",
        "outputId": "e54aef2e-c2cd-4d84-b135-d1301ffee278"
      },
      "execution_count": 38,
      "outputs": [
        {
          "output_type": "display_data",
          "data": {
            "text/plain": [
              "<IPython.core.display.HTML object>"
            ],
            "text/html": [
              "\n",
              "<style>\n",
              ".main_summary {\n",
              "  font-weight: bold;\n",
              "  font-size: 14px; color: #4285F4;\n",
              "  background-color:rgba(221, 221, 221, 0.5); padding:8px;}\n",
              ".main_summary:hover {background-color: rgba(221, 221, 221, 1);}\n",
              "details {\n",
              "  background-color:#fff;\n",
              "  border: 1px solid #E8EAED;\n",
              "  padding:0px;\n",
              "  margin-bottom:2px; }\n",
              "details img {width:50%}\n",
              "details > div {padding:10px; }\n",
              "div#left > details:first-of-type > div {\n",
              "    overflow:auto;\n",
              "    max-height:400px; }\n",
              "\n",
              "div#right > pre {\n",
              "    overflow:auto;\n",
              "    max-height:600px;\n",
              "    background-color: ghostwhite;\n",
              "    padding: 10px; }\n",
              "details details > div { overflow: scroll; max-height:400px}\n",
              "details details {\n",
              "  background-color:rgba(246, 231, 217, 0.2);\n",
              "  border: 1px solid #FBBC04;}\n",
              "details details > summary {\n",
              "  padding: 8px;\n",
              "  background-color:rgba(255, 228, 196, 0.6); }\n",
              "details details > summary:hover { background-color:rgba(255, 228, 196, 0.9); }\n",
              "div#left {width: 64%; padding:0 1%;  }\n",
              "div#right {\n",
              "  border-left: 1px solid silver;\n",
              "  width: 30%;\n",
              "  float: right;\n",
              "  padding:0 1%; }\n",
              "body {color: #000; background-color: white; padding:10px 10px 40px 10px; }\n",
              "#main { border: 1px solid #FBBC04; padding:10px 0; display: flow-root; }\n",
              "h3 {color: #000; }\n",
              "code  { font-family: monospace; color: #900; padding: 0 2px; font-size: 105%; }\n",
              "</style>\n",
              "        \n",
              "<div id='main'>\n",
              "    <div id=\"right\">\n",
              "      <h3>Generated Code by Code Interpreter</h3>\n",
              "      <pre><code>```python\n",
              "import pandas as pd\n",
              "import pickle\n",
              "\n",
              "# Load the pickled dataframe\n",
              "df = pd.read_pickle(\"311_dataframe_clean.pkl\", compression=\"zip\")\n",
              "\n",
              "# Create a dataset of 300 rows based on the 'borough' column\n",
              "# Where 100 rows are random rows from 'MANHATTAN' and 200 are random rows from 'BROOKLYN'\n",
              "df_borough_sample = pd.concat([df[df['borough'] == 'MANHATTAN'].sample(100, random_state=42), df[df['borough'] == 'BROOKLYN'].sample(200, random_state=42)])\n",
              "\n",
              "# Save the pickle with zip compression\n",
              "df_borough_sample.to_pickle(\"311_dataframe_borough_sample.pkl\", compression=\"zip\")\n",
              "```</code></pre>\n",
              "    </div>\n",
              "    <div id=\"left\">\n",
              "      <h3>Code Execution Results</h3>\n",
              "      \n",
              "  <details open>\n",
              "    <summary class='main_summary'>Executed Code Output:</summary>\n",
              "    <div><pre>Code does not produced printable output</pre></div>\n",
              "  </details>\n",
              "  \n",
              "  <details open>\n",
              "    <summary class='main_summary'>Files Created <u>(Click on filename to view content)</u>:</summary>\n",
              "    <div><pre><details><summary>311_dataframe_borough_sample.pkl</summary><div><span>Preview N/A</span></div></details></pre></div>\n",
              "  </details>\n",
              "  \n",
              "    </div>\n",
              "</div>\n"
            ]
          },
          "metadata": {}
        }
      ]
    },
    {
      "cell_type": "code",
      "source": [
        "response = run_code_interpreter(\"\"\"\n",
        "First, load the pickled dataframe. The pickled dataframe was saved with the compression set to zip.\n",
        "Plot the number of complaints by the 'borough' field.\n",
        "Put the boroughs on the Y axis and make sure the images doesn't cut off the borough names.\n",
        "\"\"\",['311_dataframe_borough_sample.pkl'], retry_num=1)\n",
        "process_response(response)"
      ],
      "metadata": {
        "colab": {
          "base_uri": "https://localhost:8080/",
          "height": 415
        },
        "id": "paqfTM__RRYl",
        "outputId": "d4d03066-4f6c-4822-b40c-34c465d915b4"
      },
      "execution_count": 39,
      "outputs": [
        {
          "output_type": "display_data",
          "data": {
            "text/plain": [
              "<IPython.core.display.HTML object>"
            ],
            "text/html": [
              "\n",
              "<style>\n",
              ".main_summary {\n",
              "  font-weight: bold;\n",
              "  font-size: 14px; color: #4285F4;\n",
              "  background-color:rgba(221, 221, 221, 0.5); padding:8px;}\n",
              ".main_summary:hover {background-color: rgba(221, 221, 221, 1);}\n",
              "details {\n",
              "  background-color:#fff;\n",
              "  border: 1px solid #E8EAED;\n",
              "  padding:0px;\n",
              "  margin-bottom:2px; }\n",
              "details img {width:50%}\n",
              "details > div {padding:10px; }\n",
              "div#left > details:first-of-type > div {\n",
              "    overflow:auto;\n",
              "    max-height:400px; }\n",
              "\n",
              "div#right > pre {\n",
              "    overflow:auto;\n",
              "    max-height:600px;\n",
              "    background-color: ghostwhite;\n",
              "    padding: 10px; }\n",
              "details details > div { overflow: scroll; max-height:400px}\n",
              "details details {\n",
              "  background-color:rgba(246, 231, 217, 0.2);\n",
              "  border: 1px solid #FBBC04;}\n",
              "details details > summary {\n",
              "  padding: 8px;\n",
              "  background-color:rgba(255, 228, 196, 0.6); }\n",
              "details details > summary:hover { background-color:rgba(255, 228, 196, 0.9); }\n",
              "div#left {width: 64%; padding:0 1%;  }\n",
              "div#right {\n",
              "  border-left: 1px solid silver;\n",
              "  width: 30%;\n",
              "  float: right;\n",
              "  padding:0 1%; }\n",
              "body {color: #000; background-color: white; padding:10px 10px 40px 10px; }\n",
              "#main { border: 1px solid #FBBC04; padding:10px 0; display: flow-root; }\n",
              "h3 {color: #000; }\n",
              "code  { font-family: monospace; color: #900; padding: 0 2px; font-size: 105%; }\n",
              "</style>\n",
              "        \n",
              "<div id='main'>\n",
              "    <div id=\"right\">\n",
              "      <h3>Generated Code by Code Interpreter</h3>\n",
              "      <pre><code>```python\n",
              "import pandas as pd\n",
              "import matplotlib.pyplot as plt\n",
              "\n",
              "# Load the pickled dataframe\n",
              "df = pd.read_pickle('311_dataframe_borough_sample.pkl', compression='zip')\n",
              "\n",
              "# Plot the number of complaints by the 'borough' field\n",
              "df['borough'].value_counts().sort_index().plot(kind='barh', figsize=(10, 5))\n",
              "plt.xlabel('Number of Complaints')\n",
              "plt.ylabel('Borough')\n",
              "plt.title('Number of Complaints by Borough')\n",
              "plt.show()\n",
              "```</code></pre>\n",
              "    </div>\n",
              "    <div id=\"left\">\n",
              "      <h3>Code Execution Results</h3>\n",
              "      \n",
              "  <details open>\n",
              "    <summary class='main_summary'>Executed Code Output:</summary>\n",
              "    <div><pre>Code does not produced printable output</pre></div>\n",
              "  </details>\n",
              "  \n",
              "  <details open>\n",
              "    <summary class='main_summary'>Files Created <u>(Click on filename to view content)</u>:</summary>\n",
              "    <div><pre><details><summary>code_execution_image_1_JXEVZpPfNv6BybgP8Z-NwAU.png</summary><div><img src=\"data:image/png;base64, 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\" /></div></details></pre></div>\n",
              "  </details>\n",
              "  \n",
              "    </div>\n",
              "</div>\n"
            ]
          },
          "metadata": {}
        }
      ]
    },
    {
      "cell_type": "code",
      "source": [
        "response = run_code_interpreter(\"\"\"\n",
        "First, load the pickled dataframe. The pickled dataframe was saved with the compression set to zip.\n",
        "Plot the number of complaints by the 'borough' field.\n",
        "Put the boroughs on the Y axis and make sure the images doesn't cut off the borough names.\n",
        "\"\"\",['311_dataframe_clean.pkl'], retry_num=1)\n",
        "process_response(response)"
      ],
      "metadata": {
        "colab": {
          "base_uri": "https://localhost:8080/",
          "height": 450
        },
        "outputId": "ae9d47b6-543d-48ec-e365-452a0e384e2c",
        "id": "XA23I5KQT2a-"
      },
      "execution_count": 42,
      "outputs": [
        {
          "output_type": "display_data",
          "data": {
            "text/plain": [
              "<IPython.core.display.HTML object>"
            ],
            "text/html": [
              "\n",
              "<style>\n",
              ".main_summary {\n",
              "  font-weight: bold;\n",
              "  font-size: 14px; color: #4285F4;\n",
              "  background-color:rgba(221, 221, 221, 0.5); padding:8px;}\n",
              ".main_summary:hover {background-color: rgba(221, 221, 221, 1);}\n",
              "details {\n",
              "  background-color:#fff;\n",
              "  border: 1px solid #E8EAED;\n",
              "  padding:0px;\n",
              "  margin-bottom:2px; }\n",
              "details img {width:50%}\n",
              "details > div {padding:10px; }\n",
              "div#left > details:first-of-type > div {\n",
              "    overflow:auto;\n",
              "    max-height:400px; }\n",
              "\n",
              "div#right > pre {\n",
              "    overflow:auto;\n",
              "    max-height:600px;\n",
              "    background-color: ghostwhite;\n",
              "    padding: 10px; }\n",
              "details details > div { overflow: scroll; max-height:400px}\n",
              "details details {\n",
              "  background-color:rgba(246, 231, 217, 0.2);\n",
              "  border: 1px solid #FBBC04;}\n",
              "details details > summary {\n",
              "  padding: 8px;\n",
              "  background-color:rgba(255, 228, 196, 0.6); }\n",
              "details details > summary:hover { background-color:rgba(255, 228, 196, 0.9); }\n",
              "div#left {width: 64%; padding:0 1%;  }\n",
              "div#right {\n",
              "  border-left: 1px solid silver;\n",
              "  width: 30%;\n",
              "  float: right;\n",
              "  padding:0 1%; }\n",
              "body {color: #000; background-color: white; padding:10px 10px 40px 10px; }\n",
              "#main { border: 1px solid #FBBC04; padding:10px 0; display: flow-root; }\n",
              "h3 {color: #000; }\n",
              "code  { font-family: monospace; color: #900; padding: 0 2px; font-size: 105%; }\n",
              "</style>\n",
              "        \n",
              "<div id='main'>\n",
              "    <div id=\"right\">\n",
              "      <h3>Generated Code by Code Interpreter</h3>\n",
              "      <pre><code>```python\n",
              "import pandas as pd\n",
              "import matplotlib.pyplot as plt\n",
              "\n",
              "# Load the pickled dataframe\n",
              "df = pd.read_pickle(\"311_dataframe_clean.pkl\", compression=\"zip\")\n",
              "\n",
              "# Plot the number of complaints by the 'borough' field\n",
              "df['borough'].value_counts().sort_index().plot.barh(title='Number of Complaints by Borough')\n",
              "plt.xlabel('Number of Complaints')\n",
              "plt.ylabel('Borough')\n",
              "plt.gca().invert_yaxis()\n",
              "plt.tight_layout()\n",
              "plt.show()\n",
              "```</code></pre>\n",
              "    </div>\n",
              "    <div id=\"left\">\n",
              "      <h3>Code Execution Results</h3>\n",
              "      \n",
              "  <details open>\n",
              "    <summary class='main_summary'>Executed Code Output:</summary>\n",
              "    <div><pre>Code does not produced printable output</pre></div>\n",
              "  </details>\n",
              "  \n",
              "  <details open>\n",
              "    <summary class='main_summary'>Files Created <u>(Click on filename to view content)</u>:</summary>\n",
              "    <div><pre><details><summary>code_execution_image_1_QHEVZs26G_6BybgP8Z-NwAU.png</summary><div><img src=\"data:image/png;base64, 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\" /></div></details></pre></div>\n",
              "  </details>\n",
              "  \n",
              "    </div>\n",
              "</div>\n"
            ]
          },
          "metadata": {}
        }
      ]
    },
    {
      "cell_type": "markdown",
      "source": [
        "# Some SPecific Plots and Analysis"
      ],
      "metadata": {
        "id": "okzVZhXNTpEJ"
      }
    },
    {
      "cell_type": "code",
      "source": [
        "QUERY = \"\"\"\n",
        "The attached pkl file is a dataframe of citizen complaints.\n",
        "Create a plot showing the most common complaint types.\n",
        "Your plot should only show about 20 types.\n",
        "Don't show raw compliant counts, show as a percentage of total compliants.\n",
        "The compliant types should be on the y axis.\n",
        "Load the pickled dataframe with the compression set to zip.\n",
        "Here is the head() of the dataframe {}:\n",
        "Here are the unique complaint types:{}\"\"\".format(df_311_clean.head(), df_311_clean['complaint_type'].unique().tolist())\n",
        "response = run_code_interpreter(QUERY, ['311_dataframe_clean.pkl'], retry_num=1)\n",
        "process_response(response)"
      ],
      "metadata": {
        "colab": {
          "base_uri": "https://localhost:8080/",
          "height": 565
        },
        "id": "1L-RO1tS0Dtp",
        "outputId": "b6a798e9-6c56-440e-9c22-241f5e07afa4"
      },
      "execution_count": 44,
      "outputs": [
        {
          "output_type": "display_data",
          "data": {
            "text/plain": [
              "<IPython.core.display.HTML object>"
            ],
            "text/html": [
              "\n",
              "<style>\n",
              ".main_summary {\n",
              "  font-weight: bold;\n",
              "  font-size: 14px; color: #4285F4;\n",
              "  background-color:rgba(221, 221, 221, 0.5); padding:8px;}\n",
              ".main_summary:hover {background-color: rgba(221, 221, 221, 1);}\n",
              "details {\n",
              "  background-color:#fff;\n",
              "  border: 1px solid #E8EAED;\n",
              "  padding:0px;\n",
              "  margin-bottom:2px; }\n",
              "details img {width:50%}\n",
              "details > div {padding:10px; }\n",
              "div#left > details:first-of-type > div {\n",
              "    overflow:auto;\n",
              "    max-height:400px; }\n",
              "\n",
              "div#right > pre {\n",
              "    overflow:auto;\n",
              "    max-height:600px;\n",
              "    background-color: ghostwhite;\n",
              "    padding: 10px; }\n",
              "details details > div { overflow: scroll; max-height:400px}\n",
              "details details {\n",
              "  background-color:rgba(246, 231, 217, 0.2);\n",
              "  border: 1px solid #FBBC04;}\n",
              "details details > summary {\n",
              "  padding: 8px;\n",
              "  background-color:rgba(255, 228, 196, 0.6); }\n",
              "details details > summary:hover { background-color:rgba(255, 228, 196, 0.9); }\n",
              "div#left {width: 64%; padding:0 1%;  }\n",
              "div#right {\n",
              "  border-left: 1px solid silver;\n",
              "  width: 30%;\n",
              "  float: right;\n",
              "  padding:0 1%; }\n",
              "body {color: #000; background-color: white; padding:10px 10px 40px 10px; }\n",
              "#main { border: 1px solid #FBBC04; padding:10px 0; display: flow-root; }\n",
              "h3 {color: #000; }\n",
              "code  { font-family: monospace; color: #900; padding: 0 2px; font-size: 105%; }\n",
              "</style>\n",
              "        \n",
              "<div id='main'>\n",
              "    <div id=\"right\">\n",
              "      <h3>Generated Code by Code Interpreter</h3>\n",
              "      <pre><code>```python\n",
              "import pandas as pd\n",
              "import matplotlib.pyplot as plt\n",
              "\n",
              "# Load the pickled dataframe\n",
              "df = pd.read_pickle(\"311_dataframe_clean.pkl\", compression=\"zip\")\n",
              "\n",
              "# Get the most common complaint types\n",
              "top_complaint_types = df[\"complaint_type\"].value_counts().head(20)\n",
              "\n",
              "# Calculate the percentage of total complaints\n",
              "top_complaint_types = (top_complaint_types / df[\"complaint_type\"].count()) * 100\n",
              "\n",
              "# Create a bar plot of the most common complaint types\n",
              "plt.figure(figsize=(10, 5))\n",
              "plt.bar(top_complaint_types.index, top_complaint_types)\n",
              "plt.xticks(rotation=45)\n",
              "plt.xlabel(\"Complaint Type\")\n",
              "plt.ylabel(\"Percentage of Total Complaints\")\n",
              "plt.title(\"Most Common Complaint Types\")\n",
              "plt.show()\n",
              "```</code></pre>\n",
              "    </div>\n",
              "    <div id=\"left\">\n",
              "      <h3>Code Execution Results</h3>\n",
              "      \n",
              "  <details open>\n",
              "    <summary class='main_summary'>Executed Code Output:</summary>\n",
              "    <div><pre>Code does not produced printable output</pre></div>\n",
              "  </details>\n",
              "  \n",
              "  <details open>\n",
              "    <summary class='main_summary'>Files Created <u>(Click on filename to view content)</u>:</summary>\n",
              "    <div><pre><details><summary>code_execution_image_1_anEVZseKLf6BybgP8Z-NwAU.png</summary><div><img src=\"data:image/png;base64, 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\" /></div></details></pre></div>\n",
              "  </details>\n",
              "  \n",
              "    </div>\n",
              "</div>\n"
            ]
          },
          "metadata": {}
        }
      ]
    },
    {
      "cell_type": "code",
      "source": [
        "QUERY = \"\"\"\n",
        "The attached pkl file is a dataframe of citizen complaints.\n",
        "Load the pickled dataframe with the compression set to zip.\n",
        "Then, use the warnings library to supress all category=FutureWarning.\n",
        "Then determine how many complaints have to do with vermin.\n",
        "Create a plot of the different vermin-related complaint types.\n",
        "Make sure the plot and both axes have a title.\n",
        "Make sure the plot size doesn't cut off any titles.\n",
        "Here is the head() of the dataframe {}:\n",
        "Here are the unique complaint types:{}\"\"\".format(df_311_clean.head(), df_311_clean['complaint_type'].unique().tolist())\n",
        "response = run_code_interpreter2(QUERY, ['311_dataframe_clean.pkl'], retry_num=1)\n",
        "process_response(response)"
      ],
      "metadata": {
        "colab": {
          "base_uri": "https://localhost:8080/",
          "height": 621
        },
        "id": "WckAVsuqUwdJ",
        "outputId": "bb2424ae-1169-4bf1-a6ca-72fa73b92fed"
      },
      "execution_count": 45,
      "outputs": [
        {
          "output_type": "display_data",
          "data": {
            "text/plain": [
              "<IPython.core.display.HTML object>"
            ],
            "text/html": [
              "\n",
              "<style>\n",
              ".main_summary {\n",
              "  font-weight: bold;\n",
              "  font-size: 14px; color: #4285F4;\n",
              "  background-color:rgba(221, 221, 221, 0.5); padding:8px;}\n",
              ".main_summary:hover {background-color: rgba(221, 221, 221, 1);}\n",
              "details {\n",
              "  background-color:#fff;\n",
              "  border: 1px solid #E8EAED;\n",
              "  padding:0px;\n",
              "  margin-bottom:2px; }\n",
              "details img {width:50%}\n",
              "details > div {padding:10px; }\n",
              "div#left > details:first-of-type > div {\n",
              "    overflow:auto;\n",
              "    max-height:400px; }\n",
              "\n",
              "div#right > pre {\n",
              "    overflow:auto;\n",
              "    max-height:600px;\n",
              "    background-color: ghostwhite;\n",
              "    padding: 10px; }\n",
              "details details > div { overflow: scroll; max-height:400px}\n",
              "details details {\n",
              "  background-color:rgba(246, 231, 217, 0.2);\n",
              "  border: 1px solid #FBBC04;}\n",
              "details details > summary {\n",
              "  padding: 8px;\n",
              "  background-color:rgba(255, 228, 196, 0.6); }\n",
              "details details > summary:hover { background-color:rgba(255, 228, 196, 0.9); }\n",
              "div#left {width: 64%; padding:0 1%;  }\n",
              "div#right {\n",
              "  border-left: 1px solid silver;\n",
              "  width: 30%;\n",
              "  float: right;\n",
              "  padding:0 1%; }\n",
              "body {color: #000; background-color: white; padding:10px 10px 40px 10px; }\n",
              "#main { border: 1px solid #FBBC04; padding:10px 0; display: flow-root; }\n",
              "h3 {color: #000; }\n",
              "code  { font-family: monospace; color: #900; padding: 0 2px; font-size: 105%; }\n",
              "</style>\n",
              "        \n",
              "<div id='main'>\n",
              "    <div id=\"right\">\n",
              "      <h3>Generated Code by Code Interpreter</h3>\n",
              "      <pre><code>```python\n",
              "import pandas as pd\n",
              "import warnings\n",
              "\n",
              "# Suppress all category=FutureWarning warnings\n",
              "warnings.filterwarnings(\"ignore\", category=FutureWarning)\n",
              "\n",
              "# Load the pickled dataframe with the compression set to zip\n",
              "df = pd.read_pickle(\"311_dataframe_clean.pkl\", compression=\"zip\")\n",
              "\n",
              "# Determine how many complaints have to do with vermin\n",
              "vermin_complaints = df[df[\"descriptor\"].str.contains(\"Rodent\")]\n",
              "num_vermin_complaints = vermin_complaints.shape[0]\n",
              "print(f\"There are {num_vermin_complaints} complaints that have to do with vermin.\")\n",
              "\n",
              "# Create a plot of the different vermin-related complaint types\n",
              "vermin_complaint_types = vermin_complaints[\"complaint_type\"].value_counts()\n",
              "vermin_complaint_types.plot.bar()\n",
              "plt.title(\"Vermin-Related Complaint Types\")\n",
              "plt.xlabel(\"Complaint Type\")\n",
              "plt.ylabel(\"Number of Complaints\")\n",
              "plt.xticks(rotation=45)\n",
              "plt.tight_layout()\n",
              "plt.show()\n",
              "```</code></pre>\n",
              "    </div>\n",
              "    <div id=\"left\">\n",
              "      <h3>Code Execution Results</h3>\n",
              "      \n",
              "  <details open>\n",
              "    <summary class='main_summary'>Executed Code Output:</summary>\n",
              "    <div><pre>There are 115 complaints that have to do with vermin.\n",
              "</pre></div>\n",
              "  </details>\n",
              "  \n",
              "  <details open>\n",
              "    <summary class='main_summary'>Files Created <u>(Click on filename to view content)</u>:</summary>\n",
              "    <div><pre><details><summary>code_execution_image_1_hHEVZuGoEP6BybgP8Z-NwAU.png</summary><div><img src=\"data:image/png;base64, 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\" /></div></details></pre></div>\n",
              "  </details>\n",
              "  \n",
              "    </div>\n",
              "</div>\n"
            ]
          },
          "metadata": {}
        }
      ]
    },
    {
      "cell_type": "code",
      "source": [
        "# Then, use the warnings library to supress all category=FutureWarning.\n",
        "QUERY = \"\"\"\n",
        "The attached pkl file is a dataframe of citizen complaints.\n",
        "Load the pickled dataframe with the compression set to zip.\n",
        "Using the dataframe, determine the 10 most common complaint types for the NYPD.\n",
        "Then create a bar plot showing how much time it takes to resolve each of those complaint types on average.\n",
        "The vertical axis is the different complaint types.\n",
        "The horizontal axis is the time, in hours, it takes to resolve each complaint type.\n",
        "You can determine complaint resolution time from the closed_date and created_date columns.\n",
        "Make sure the plot images size is large enough to display all labels and titles.\n",
        "Here is the head() of the dataframe: {}\n",
        "Here are the unique complaint_type values:{}\"\"\".format(df_311_clean.head(), df_311_clean['complaint_type'].unique().tolist())\n",
        "response = run_code_interpreter2(QUERY, ['311_dataframe_clean.pkl'], retry_num=1)\n",
        "process_response(response)"
      ],
      "metadata": {
        "id": "VeCKhtKpfDXD",
        "colab": {
          "base_uri": "https://localhost:8080/",
          "height": 490
        },
        "outputId": "730a6535-046f-4f20-e750-57d191e1143b"
      },
      "execution_count": 56,
      "outputs": [
        {
          "output_type": "display_data",
          "data": {
            "text/plain": [
              "<IPython.core.display.HTML object>"
            ],
            "text/html": [
              "\n",
              "<style>\n",
              ".main_summary {\n",
              "  font-weight: bold;\n",
              "  font-size: 14px; color: #4285F4;\n",
              "  background-color:rgba(221, 221, 221, 0.5); padding:8px;}\n",
              ".main_summary:hover {background-color: rgba(221, 221, 221, 1);}\n",
              "details {\n",
              "  background-color:#fff;\n",
              "  border: 1px solid #E8EAED;\n",
              "  padding:0px;\n",
              "  margin-bottom:2px; }\n",
              "details img {width:50%}\n",
              "details > div {padding:10px; }\n",
              "div#left > details:first-of-type > div {\n",
              "    overflow:auto;\n",
              "    max-height:400px; }\n",
              "\n",
              "div#right > pre {\n",
              "    overflow:auto;\n",
              "    max-height:600px;\n",
              "    background-color: ghostwhite;\n",
              "    padding: 10px; }\n",
              "details details > div { overflow: scroll; max-height:400px}\n",
              "details details {\n",
              "  background-color:rgba(246, 231, 217, 0.2);\n",
              "  border: 1px solid #FBBC04;}\n",
              "details details > summary {\n",
              "  padding: 8px;\n",
              "  background-color:rgba(255, 228, 196, 0.6); }\n",
              "details details > summary:hover { background-color:rgba(255, 228, 196, 0.9); }\n",
              "div#left {width: 64%; padding:0 1%;  }\n",
              "div#right {\n",
              "  border-left: 1px solid silver;\n",
              "  width: 30%;\n",
              "  float: right;\n",
              "  padding:0 1%; }\n",
              "body {color: #000; background-color: white; padding:10px 10px 40px 10px; }\n",
              "#main { border: 1px solid #FBBC04; padding:10px 0; display: flow-root; }\n",
              "h3 {color: #000; }\n",
              "code  { font-family: monospace; color: #900; padding: 0 2px; font-size: 105%; }\n",
              "</style>\n",
              "        \n",
              "<div id='main'>\n",
              "    <div id=\"right\">\n",
              "      <h3>Generated Code by Code Interpreter</h3>\n",
              "      <pre><code>```python\n",
              "import pandas as pd\n",
              "import matplotlib.pyplot as plt\n",
              "\n",
              "# Load the pickled dataframe\n",
              "df = pd.read_pickle(\"311_dataframe_clean.pkl\", compression=\"zip\")\n",
              "\n",
              "# Determine the 10 most common complaint types for the NYPD\n",
              "top_10_complaints = df[df[\"agency\"] == \"NYPD\"][\"complaint_type\"].value_counts().nlargest(10)\n",
              "\n",
              "# Create a bar plot showing how much time it takes to resolve each of those complaint types on average\n",
              "plt.figure(figsize=(15, 10))\n",
              "top_10_complaints.plot.barh()\n",
              "plt.xlabel(\"Average Resolution Time (hours)\")\n",
              "plt.ylabel(\"Complaint Type\")\n",
              "plt.title(\"Average Resolution Time for Top 10 NYPD Complaint Types\")\n",
              "plt.show()\n",
              "```</code></pre>\n",
              "    </div>\n",
              "    <div id=\"left\">\n",
              "      <h3>Code Execution Results</h3>\n",
              "      \n",
              "  <details open>\n",
              "    <summary class='main_summary'>Executed Code Output:</summary>\n",
              "    <div><pre>Code does not produced printable output</pre></div>\n",
              "  </details>\n",
              "  \n",
              "  <details open>\n",
              "    <summary class='main_summary'>Files Created <u>(Click on filename to view content)</u>:</summary>\n",
              "    <div><pre><details><summary>code_execution_image_1_pnIVZoSZEJqM2ukP0syUyAY.png</summary><div><img src=\"data:image/png;base64, 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\" /></div></details></pre></div>\n",
              "  </details>\n",
              "  \n",
              "    </div>\n",
              "</div>\n"
            ]
          },
          "metadata": {}
        }
      ]
    },
    {
      "cell_type": "code",
      "source": [
        "# Then, use the warnings library to supress all category=FutureWarning.\n",
        "QUERY = \"\"\"\n",
        "The attached pkl file is a dataframe of citizen complaints.\n",
        "Load the pickled dataframe with the compression set to zip.\n",
        "Write a groupby that generates a pandas FutureWarning.\n",
        "Here is the head() of the dataframe: {}\n",
        "Here are the unique complaint_type values:{}\"\"\".format(df_311_clean.head(), df_311_clean['complaint_type'].unique().tolist())\n",
        "response = run_code_interpreter2(QUERY, ['311_dataframe_clean.pkl'], retry_num=1)\n",
        "process_response(response)"
      ],
      "metadata": {
        "colab": {
          "base_uri": "https://localhost:8080/",
          "height": 321
        },
        "id": "cTXGLLPeyBzS",
        "outputId": "92e8e3ac-79e3-477a-b4a9-ba1d29602fe7"
      },
      "execution_count": 57,
      "outputs": [
        {
          "output_type": "display_data",
          "data": {
            "text/plain": [
              "<IPython.core.display.HTML object>"
            ],
            "text/html": [
              "\n",
              "<style>\n",
              ".main_summary {\n",
              "  font-weight: bold;\n",
              "  font-size: 14px; color: #4285F4;\n",
              "  background-color:rgba(221, 221, 221, 0.5); padding:8px;}\n",
              ".main_summary:hover {background-color: rgba(221, 221, 221, 1);}\n",
              "details {\n",
              "  background-color:#fff;\n",
              "  border: 1px solid #E8EAED;\n",
              "  padding:0px;\n",
              "  margin-bottom:2px; }\n",
              "details img {width:50%}\n",
              "details > div {padding:10px; }\n",
              "div#left > details:first-of-type > div {\n",
              "    overflow:auto;\n",
              "    max-height:400px; }\n",
              "\n",
              "div#right > pre {\n",
              "    overflow:auto;\n",
              "    max-height:600px;\n",
              "    background-color: ghostwhite;\n",
              "    padding: 10px; }\n",
              "details details > div { overflow: scroll; max-height:400px}\n",
              "details details {\n",
              "  background-color:rgba(246, 231, 217, 0.2);\n",
              "  border: 1px solid #FBBC04;}\n",
              "details details > summary {\n",
              "  padding: 8px;\n",
              "  background-color:rgba(255, 228, 196, 0.6); }\n",
              "details details > summary:hover { background-color:rgba(255, 228, 196, 0.9); }\n",
              "div#left {width: 64%; padding:0 1%;  }\n",
              "div#right {\n",
              "  border-left: 1px solid silver;\n",
              "  width: 30%;\n",
              "  float: right;\n",
              "  padding:0 1%; }\n",
              "body {color: #000; background-color: white; padding:10px 10px 40px 10px; }\n",
              "#main { border: 1px solid #FBBC04; padding:10px 0; display: flow-root; }\n",
              "h3 {color: #000; }\n",
              "code  { font-family: monospace; color: #900; padding: 0 2px; font-size: 105%; }\n",
              "</style>\n",
              "        \n",
              "<div id='main'>\n",
              "    <div id=\"right\">\n",
              "      <h3>Generated Code by Code Interpreter</h3>\n",
              "      <pre><code>```python\n",
              "import pandas as pd\n",
              "\n",
              "# Load the pickled dataframe with the compression set to zip\n",
              "df = pd.read_pickle(\"311_dataframe_clean.pkl\", compression=\"zip\")\n",
              "\n",
              "# Write a groupby that generates a pandas FutureWarning\n",
              "df.groupby([\"complaint_type\", \"agency\"], observed=False).agg({\"unique_key\": \"count\"})\n",
              "```</code></pre>\n",
              "    </div>\n",
              "    <div id=\"left\">\n",
              "      <h3>Code Execution Results</h3>\n",
              "      \n",
              "  <details open>\n",
              "    <summary class='main_summary'>Executed Code Output:</summary>\n",
              "    <div><pre>Code does not produced printable output</pre></div>\n",
              "  </details>\n",
              "  \n",
              "  <details open>\n",
              "    <summary class='main_summary'>Files Created <u>(Click on filename to view content)</u>:</summary>\n",
              "    <div><pre>No Files generated from the code</pre></div>\n",
              "  </details>\n",
              "  \n",
              "    </div>\n",
              "</div>\n"
            ]
          },
          "metadata": {}
        }
      ]
    },
    {
      "cell_type": "code",
      "source": [
        "df_311_clean.groupby([\"complaint_type\", \"agency\"], observed=False).agg({\"unique_key\": \"count\"})"
      ],
      "metadata": {
        "colab": {
          "base_uri": "https://localhost:8080/",
          "height": 455
        },
        "id": "Vssz8nJpyQ6D",
        "outputId": "4a019eac-f42e-4697-cc03-56d71eb9394e"
      },
      "execution_count": 60,
      "outputs": [
        {
          "output_type": "execute_result",
          "data": {
            "text/plain": [
              "                                                                 unique_key\n",
              "complaint_type          agency                                             \n",
              "APPLIANCE               3-1-1                                             0\n",
              "                        DCA                                               0\n",
              "                        DCAS                                              0\n",
              "                        DEP                                               0\n",
              "                        DFTA                                              0\n",
              "...                                                                     ...\n",
              "X-Ray Machine/Equipment MAYORâ€™S OFFICE OF SPECIAL ENFORCEMENT           0\n",
              "                        NYCEM                                             0\n",
              "                        NYPD                                              0\n",
              "                        TAX                                               0\n",
              "                        TLC                                               0\n",
              "\n",
              "[5170 rows x 1 columns]"
            ],
            "text/html": [
              "\n",
              "  <div id=\"df-0493e941-7b1a-40a5-bb5f-a4af3111a27f\" class=\"colab-df-container\">\n",
              "    <div>\n",
              "<style scoped>\n",
              "    .dataframe tbody tr th:only-of-type {\n",
              "        vertical-align: middle;\n",
              "    }\n",
              "\n",
              "    .dataframe tbody tr th {\n",
              "        vertical-align: top;\n",
              "    }\n",
              "\n",
              "    .dataframe thead th {\n",
              "        text-align: right;\n",
              "    }\n",
              "</style>\n",
              "<table border=\"1\" class=\"dataframe\">\n",
              "  <thead>\n",
              "    <tr style=\"text-align: right;\">\n",
              "      <th></th>\n",
              "      <th></th>\n",
              "      <th>unique_key</th>\n",
              "    </tr>\n",
              "    <tr>\n",
              "      <th>complaint_type</th>\n",
              "      <th>agency</th>\n",
              "      <th></th>\n",
              "    </tr>\n",
              "  </thead>\n",
              "  <tbody>\n",
              "    <tr>\n",
              "      <th rowspan=\"5\" valign=\"top\">APPLIANCE</th>\n",
              "      <th>3-1-1</th>\n",
              "      <td>0</td>\n",
              "    </tr>\n",
              "    <tr>\n",
              "      <th>DCA</th>\n",
              "      <td>0</td>\n",
              "    </tr>\n",
              "    <tr>\n",
              "      <th>DCAS</th>\n",
              "      <td>0</td>\n",
              "    </tr>\n",
              "    <tr>\n",
              "      <th>DEP</th>\n",
              "      <td>0</td>\n",
              "    </tr>\n",
              "    <tr>\n",
              "      <th>DFTA</th>\n",
              "      <td>0</td>\n",
              "    </tr>\n",
              "    <tr>\n",
              "      <th>...</th>\n",
              "      <th>...</th>\n",
              "      <td>...</td>\n",
              "    </tr>\n",
              "    <tr>\n",
              "      <th rowspan=\"5\" valign=\"top\">X-Ray Machine/Equipment</th>\n",
              "      <th>MAYORâ€™S OFFICE OF SPECIAL ENFORCEMENT</th>\n",
              "      <td>0</td>\n",
              "    </tr>\n",
              "    <tr>\n",
              "      <th>NYCEM</th>\n",
              "      <td>0</td>\n",
              "    </tr>\n",
              "    <tr>\n",
              "      <th>NYPD</th>\n",
              "      <td>0</td>\n",
              "    </tr>\n",
              "    <tr>\n",
              "      <th>TAX</th>\n",
              "      <td>0</td>\n",
              "    </tr>\n",
              "    <tr>\n",
              "      <th>TLC</th>\n",
              "      <td>0</td>\n",
              "    </tr>\n",
              "  </tbody>\n",
              "</table>\n",
              "<p>5170 rows × 1 columns</p>\n",
              "</div>\n",
              "    <div class=\"colab-df-buttons\">\n",
              "\n",
              "  <div class=\"colab-df-container\">\n",
              "    <button class=\"colab-df-convert\" onclick=\"convertToInteractive('df-0493e941-7b1a-40a5-bb5f-a4af3111a27f')\"\n",
              "            title=\"Convert this dataframe to an interactive table.\"\n",
              "            style=\"display:none;\">\n",
              "\n",
              "  <svg xmlns=\"http://www.w3.org/2000/svg\" height=\"24px\" viewBox=\"0 -960 960 960\">\n",
              "    <path d=\"M120-120v-720h720v720H120Zm60-500h600v-160H180v160Zm220 220h160v-160H400v160Zm0 220h160v-160H400v160ZM180-400h160v-160H180v160Zm440 0h160v-160H620v160ZM180-180h160v-160H180v160Zm440 0h160v-160H620v160Z\"/>\n",
              "  </svg>\n",
              "    </button>\n",
              "\n",
              "  <style>\n",
              "    .colab-df-container {\n",
              "      display:flex;\n",
              "      gap: 12px;\n",
              "    }\n",
              "\n",
              "    .colab-df-convert {\n",
              "      background-color: #E8F0FE;\n",
              "      border: none;\n",
              "      border-radius: 50%;\n",
              "      cursor: pointer;\n",
              "      display: none;\n",
              "      fill: #1967D2;\n",
              "      height: 32px;\n",
              "      padding: 0 0 0 0;\n",
              "      width: 32px;\n",
              "    }\n",
              "\n",
              "    .colab-df-convert:hover {\n",
              "      background-color: #E2EBFA;\n",
              "      box-shadow: 0px 1px 2px rgba(60, 64, 67, 0.3), 0px 1px 3px 1px rgba(60, 64, 67, 0.15);\n",
              "      fill: #174EA6;\n",
              "    }\n",
              "\n",
              "    .colab-df-buttons div {\n",
              "      margin-bottom: 4px;\n",
              "    }\n",
              "\n",
              "    [theme=dark] .colab-df-convert {\n",
              "      background-color: #3B4455;\n",
              "      fill: #D2E3FC;\n",
              "    }\n",
              "\n",
              "    [theme=dark] .colab-df-convert:hover {\n",
              "      background-color: #434B5C;\n",
              "      box-shadow: 0px 1px 3px 1px rgba(0, 0, 0, 0.15);\n",
              "      filter: drop-shadow(0px 1px 2px rgba(0, 0, 0, 0.3));\n",
              "      fill: #FFFFFF;\n",
              "    }\n",
              "  </style>\n",
              "\n",
              "    <script>\n",
              "      const buttonEl =\n",
              "        document.querySelector('#df-0493e941-7b1a-40a5-bb5f-a4af3111a27f button.colab-df-convert');\n",
              "      buttonEl.style.display =\n",
              "        google.colab.kernel.accessAllowed ? 'block' : 'none';\n",
              "\n",
              "      async function convertToInteractive(key) {\n",
              "        const element = document.querySelector('#df-0493e941-7b1a-40a5-bb5f-a4af3111a27f');\n",
              "        const dataTable =\n",
              "          await google.colab.kernel.invokeFunction('convertToInteractive',\n",
              "                                                    [key], {});\n",
              "        if (!dataTable) return;\n",
              "\n",
              "        const docLinkHtml = 'Like what you see? Visit the ' +\n",
              "          '<a target=\"_blank\" href=https://colab.research.google.com/notebooks/data_table.ipynb>data table notebook</a>'\n",
              "          + ' to learn more about interactive tables.';\n",
              "        element.innerHTML = '';\n",
              "        dataTable['output_type'] = 'display_data';\n",
              "        await google.colab.output.renderOutput(dataTable, element);\n",
              "        const docLink = document.createElement('div');\n",
              "        docLink.innerHTML = docLinkHtml;\n",
              "        element.appendChild(docLink);\n",
              "      }\n",
              "    </script>\n",
              "  </div>\n",
              "\n",
              "\n",
              "<div id=\"df-c1e062fb-7d70-401b-9931-212b7148611a\">\n",
              "  <button class=\"colab-df-quickchart\" onclick=\"quickchart('df-c1e062fb-7d70-401b-9931-212b7148611a')\"\n",
              "            title=\"Suggest charts\"\n",
              "            style=\"display:none;\">\n",
              "\n",
              "<svg xmlns=\"http://www.w3.org/2000/svg\" height=\"24px\"viewBox=\"0 0 24 24\"\n",
              "     width=\"24px\">\n",
              "    <g>\n",
              "        <path d=\"M19 3H5c-1.1 0-2 .9-2 2v14c0 1.1.9 2 2 2h14c1.1 0 2-.9 2-2V5c0-1.1-.9-2-2-2zM9 17H7v-7h2v7zm4 0h-2V7h2v10zm4 0h-2v-4h2v4z\"/>\n",
              "    </g>\n",
              "</svg>\n",
              "  </button>\n",
              "\n",
              "<style>\n",
              "  .colab-df-quickchart {\n",
              "      --bg-color: #E8F0FE;\n",
              "      --fill-color: #1967D2;\n",
              "      --hover-bg-color: #E2EBFA;\n",
              "      --hover-fill-color: #174EA6;\n",
              "      --disabled-fill-color: #AAA;\n",
              "      --disabled-bg-color: #DDD;\n",
              "  }\n",
              "\n",
              "  [theme=dark] .colab-df-quickchart {\n",
              "      --bg-color: #3B4455;\n",
              "      --fill-color: #D2E3FC;\n",
              "      --hover-bg-color: #434B5C;\n",
              "      --hover-fill-color: #FFFFFF;\n",
              "      --disabled-bg-color: #3B4455;\n",
              "      --disabled-fill-color: #666;\n",
              "  }\n",
              "\n",
              "  .colab-df-quickchart {\n",
              "    background-color: var(--bg-color);\n",
              "    border: none;\n",
              "    border-radius: 50%;\n",
              "    cursor: pointer;\n",
              "    display: none;\n",
              "    fill: var(--fill-color);\n",
              "    height: 32px;\n",
              "    padding: 0;\n",
              "    width: 32px;\n",
              "  }\n",
              "\n",
              "  .colab-df-quickchart:hover {\n",
              "    background-color: var(--hover-bg-color);\n",
              "    box-shadow: 0 1px 2px rgba(60, 64, 67, 0.3), 0 1px 3px 1px rgba(60, 64, 67, 0.15);\n",
              "    fill: var(--button-hover-fill-color);\n",
              "  }\n",
              "\n",
              "  .colab-df-quickchart-complete:disabled,\n",
              "  .colab-df-quickchart-complete:disabled:hover {\n",
              "    background-color: var(--disabled-bg-color);\n",
              "    fill: var(--disabled-fill-color);\n",
              "    box-shadow: none;\n",
              "  }\n",
              "\n",
              "  .colab-df-spinner {\n",
              "    border: 2px solid var(--fill-color);\n",
              "    border-color: transparent;\n",
              "    border-bottom-color: var(--fill-color);\n",
              "    animation:\n",
              "      spin 1s steps(1) infinite;\n",
              "  }\n",
              "\n",
              "  @keyframes spin {\n",
              "    0% {\n",
              "      border-color: transparent;\n",
              "      border-bottom-color: var(--fill-color);\n",
              "      border-left-color: var(--fill-color);\n",
              "    }\n",
              "    20% {\n",
              "      border-color: transparent;\n",
              "      border-left-color: var(--fill-color);\n",
              "      border-top-color: var(--fill-color);\n",
              "    }\n",
              "    30% {\n",
              "      border-color: transparent;\n",
              "      border-left-color: var(--fill-color);\n",
              "      border-top-color: var(--fill-color);\n",
              "      border-right-color: var(--fill-color);\n",
              "    }\n",
              "    40% {\n",
              "      border-color: transparent;\n",
              "      border-right-color: var(--fill-color);\n",
              "      border-top-color: var(--fill-color);\n",
              "    }\n",
              "    60% {\n",
              "      border-color: transparent;\n",
              "      border-right-color: var(--fill-color);\n",
              "    }\n",
              "    80% {\n",
              "      border-color: transparent;\n",
              "      border-right-color: var(--fill-color);\n",
              "      border-bottom-color: var(--fill-color);\n",
              "    }\n",
              "    90% {\n",
              "      border-color: transparent;\n",
              "      border-bottom-color: var(--fill-color);\n",
              "    }\n",
              "  }\n",
              "</style>\n",
              "\n",
              "  <script>\n",
              "    async function quickchart(key) {\n",
              "      const quickchartButtonEl =\n",
              "        document.querySelector('#' + key + ' button');\n",
              "      quickchartButtonEl.disabled = true;  // To prevent multiple clicks.\n",
              "      quickchartButtonEl.classList.add('colab-df-spinner');\n",
              "      try {\n",
              "        const charts = await google.colab.kernel.invokeFunction(\n",
              "            'suggestCharts', [key], {});\n",
              "      } catch (error) {\n",
              "        console.error('Error during call to suggestCharts:', error);\n",
              "      }\n",
              "      quickchartButtonEl.classList.remove('colab-df-spinner');\n",
              "      quickchartButtonEl.classList.add('colab-df-quickchart-complete');\n",
              "    }\n",
              "    (() => {\n",
              "      let quickchartButtonEl =\n",
              "        document.querySelector('#df-c1e062fb-7d70-401b-9931-212b7148611a button');\n",
              "      quickchartButtonEl.style.display =\n",
              "        google.colab.kernel.accessAllowed ? 'block' : 'none';\n",
              "    })();\n",
              "  </script>\n",
              "</div>\n",
              "\n",
              "    </div>\n",
              "  </div>\n"
            ],
            "application/vnd.google.colaboratory.intrinsic+json": {
              "type": "dataframe",
              "summary": "{\n  \"name\": \"df_311_clean\",\n  \"rows\": 5170,\n  \"fields\": [\n    {\n      \"column\": \"unique_key\",\n      \"properties\": {\n        \"dtype\": \"number\",\n        \"std\": 89,\n        \"min\": 0,\n        \"max\": 3835,\n        \"num_unique_values\": 115,\n        \"samples\": [\n          694,\n          1,\n          6\n        ],\n        \"semantic_type\": \"\",\n        \"description\": \"\"\n      }\n    }\n  ]\n}"
            }
          },
          "metadata": {},
          "execution_count": 60
        }
      ]
    },
    {
      "cell_type": "markdown",
      "source": [
        "# Cleaning Up\n",
        "In this tutorial you used Code Interpreter from Vertex AI Extensions to work with a Pandas DataFrame that was too large to send to Code Interpreter.\n",
        "\n",
        "Cleanup the Code Interpreter instance you registered."
      ],
      "metadata": {
        "id": "figw2zZ7MmO4"
      }
    },
    {
      "cell_type": "code",
      "source": [
        "extension_code_interpreter.delete()"
      ],
      "metadata": {
        "colab": {
          "base_uri": "https://localhost:8080/"
        },
        "outputId": "c68c0430-6cf9-4933-8ce7-1bbc0cef3ac7",
        "id": "G6y9BgeyQuXj"
      },
      "execution_count": null,
      "outputs": [
        {
          "output_type": "stream",
          "name": "stderr",
          "text": [
            "INFO:google.cloud.aiplatform.base:Deleting Extension : projects/576846354766/locations/us-central1/extensions/3182567192923209728\n",
            "INFO:google.cloud.aiplatform.base:Delete Extension  backing LRO: projects/576846354766/locations/us-central1/operations/3479640975456862208\n",
            "INFO:google.cloud.aiplatform.base:Extension deleted. . Resource name: projects/576846354766/locations/us-central1/extensions/3182567192923209728\n"
          ]
        }
      ]
    },
    {
      "cell_type": "markdown",
      "source": [
        "If you used the `run_code_interpreter` helper function, you can quickly cleanup the files created by Code Interpreter. First, take a look at the file names created:"
      ],
      "metadata": {
        "id": "dyM_NM-cPciW"
      }
    },
    {
      "cell_type": "code",
      "source": [
        "print(set(CODE_INTERPRETER_WRITTEN_FILES))"
      ],
      "metadata": {
        "id": "KKIcuYjMQYmY"
      },
      "execution_count": null,
      "outputs": []
    },
    {
      "cell_type": "markdown",
      "source": [
        "If you don't want to keep any of these files, uncomment and run the next code block. WARNING: These files will all be deleted, and this cannot be undone."
      ],
      "metadata": {
        "id": "nbcEVKPAQcX5"
      }
    },
    {
      "cell_type": "code",
      "source": [
        "extension_code_interpreter.delete()\n",
        "\n",
        "If you used the `run_code_interpreter` helper function, you can quickly cleanup the files created by Code Interpreter. First, take a look at the file names created:\n",
        "\n",
        "print(set(CODE_INTERPRETER_WRITTEN_FILES))\n",
        "\n",
        "If you don't want to keep any of these files, uncomment and run the next code block. WARNING: These files will all be deleted, and this cannot be undone.\n",
        "\n",
        "# import os\n",
        "# _ = [os.remove(filename) for filename in set(CODE_INTERPRETER_WRITTEN_FILES)]# import os\n",
        "# _ = [os.remove(filename) for filename in set(CODE_INTERPRETER_WRITTEN_FILES)]"
      ],
      "metadata": {
        "id": "SrK4sJCiPtkg"
      },
      "execution_count": null,
      "outputs": []
    },
    {
      "cell_type": "code",
      "source": [
        "extension_code_interpreter.delete()"
      ],
      "metadata": {
        "id": "z8M5k5BUIzFj",
        "colab": {
          "base_uri": "https://localhost:8080/"
        },
        "outputId": "1feb7dd6-fc5d-4535-f229-1f8ebc6067f8"
      },
      "execution_count": null,
      "outputs": [
        {
          "output_type": "stream",
          "name": "stderr",
          "text": [
            "INFO:google.cloud.aiplatform.base:Deleting Extension : projects/333698871702/locations/us-central1/extensions/2344616187255586816\n",
            "INFO:google.cloud.aiplatform.base:Delete Extension  backing LRO: projects/333698871702/locations/us-central1/operations/3278720618643587072\n",
            "INFO:google.cloud.aiplatform.base:Extension deleted. . Resource name: projects/333698871702/locations/us-central1/extensions/2344616187255586816\n"
          ]
        }
      ]
    }
  ],
  "metadata": {
    "colab": {
      "provenance": [],
      "toc_visible": true
    },
    "kernelspec": {
      "display_name": "Python 3 (ipykernel)",
      "language": "python",
      "name": "python3"
    },
    "language_info": {
      "codemirror_mode": {
        "name": "ipython",
        "version": 3
      },
      "file_extension": ".py",
      "mimetype": "text/x-python",
      "name": "python",
      "nbconvert_exporter": "python",
      "pygments_lexer": "ipython3",
      "version": "3.11.4"
    }
  },
  "nbformat": 4,
  "nbformat_minor": 0
}
