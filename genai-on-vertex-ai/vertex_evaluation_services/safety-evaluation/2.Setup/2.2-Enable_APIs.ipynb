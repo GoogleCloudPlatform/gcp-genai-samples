{
 "cells": [
  {
   "cell_type": "code",
   "execution_count": null,
   "id": "c22335d9-5275-44d7-b3bd-bc13642687eb",
   "metadata": {},
   "outputs": [],
   "source": [
    "# Copyright 2024 Google LLC\n",
    "#\n",
    "# Licensed under the Apache License, Version 2.0 (the \"License\");\n",
    "# you may not use this file except in compliance with the License.\n",
    "# You may obtain a copy of the License at\n",
    "#\n",
    "#     https://www.apache.org/licenses/LICENSE-2.0\n",
    "#\n",
    "# Unless required by applicable law or agreed to in writing, software\n",
    "# distributed under the License is distributed on an \"AS IS\" BASIS,\n",
    "# WITHOUT WARRANTIES OR CONDITIONS OF ANY KIND, either express or implied.\n",
    "# See the License for the specific language governing permissions and\n",
    "# limitations under the License."
   ]
  },
  {
   "cell_type": "markdown",
   "id": "61c2ee26-6469-4153-a3ff-22eb72b1718d",
   "metadata": {},
   "source": [
    "# Enable APIs"
   ]
  },
  {
   "cell_type": "markdown",
   "id": "bb560b3b-aa84-44fa-9229-fe1e98c50a01",
   "metadata": {},
   "source": [
    "<table align=\"left\">\n",
    "  <td style=\"text-align: center\">\n",
    "    <a href=\"https://art-analytics.appspot.com/r.html?uaid=G-FHXEFWTT4E&utm_source=aRT-evaluation_rag_use_cases-from_notebook-colab&utm_medium=aRT-clicks&utm_campaign=evaluation_rag_use_cases-from_notebook-colab&destination=evaluation_rag_use_cases-from_notebook-colab&url=https%3A%2F%2Fcolab.sandbox.google.com%2Fgithub%2FGoogleCloudPlatform%2Fapplied-ai-engineering-samples%2Fblob%2Fmain%2Fgenai-on-vertex-ai%2Fvertex_evaluation_services%2Fevaluation-rag-systems%2Fevaluation_rag_use_cases.ipynb\">\n",
    "      <img src=\"https://cloud.google.com/ml-engine/images/colab-logo-32px.png\" alt=\"Google Colaboratory logo\"><br> Run in Colab\n",
    "    </a>\n",
    "  </td>\n",
    "  <td style=\"text-align: center\">\n",
    "    <a href=\"https://art-analytics.appspot.com/r.html?uaid=G-FHXEFWTT4E&utm_source=aRT-evaluation_rag_use_cases-from_notebook-colab_ent&utm_medium=aRT-clicks&utm_campaign=evaluation_rag_use_cases-from_notebook-colab_ent&destination=evaluation_rag_use_cases-from_notebook-colab_ent&url=https%3A%2F%2Fconsole.cloud.google.com%2Fvertex-ai%2Fcolab%2Fimport%2Fhttps%3A%252F%252Fraw.githubusercontent.com%252FGoogleCloudPlatform%252Fapplied-ai-engineering-samples%252Fmain%252Fgenai-on-vertex-ai%252Fvertex_evaluation_services%252Fevaluation-rag-systems%252Fevaluation_rag_use_cases.ipynb\">\n",
    "      <img width=\"32px\" src=\"https://lh3.googleusercontent.com/JmcxdQi-qOpctIvWKgPtrzZdJJK-J3sWE1RsfjZNwshCFgE_9fULcNpuXYTilIR2hjwN\" alt=\"Google Cloud Colab Enterprise logo\"><br> Run in Colab Enterprise\n",
    "    </a>\n",
    "  </td>    \n",
    "  <td style=\"text-align: center\">\n",
    "    <a href=\"https://art-analytics.appspot.com/r.html?uaid=G-FHXEFWTT4E&utm_source=aRT-evaluation_rag_use_cases-from_notebook-github&utm_medium=aRT-clicks&utm_campaign=evaluation_rag_use_cases-from_notebook-github&destination=evaluation_rag_use_cases-from_notebook-github&url=https%3A%2F%2Fgithub.com%2FGoogleCloudPlatform%2Fapplied-ai-engineering-samples%2Fblob%2Fmain%2Fgenai-on-vertex-ai%2Fvertex_evaluation_services%2Fevaluation-rag-systems%2Fevaluation_rag_use_cases.ipynb\">\n",
    "      <img src=\"https://cloud.google.com/ml-engine/images/github-logo-32px.png\" alt=\"GitHub logo\"><br> View on GitHub\n",
    "    </a>\n",
    "  </td>\n",
    "  <td style=\"text-align: center\">\n",
    "    <a href=\"https://art-analytics.appspot.com/r.html?uaid=G-FHXEFWTT4E&utm_source=aRT-evaluation_rag_use_cases-from_notebook-vai_workbench&utm_medium=aRT-clicks&utm_campaign=evaluation_rag_use_cases-from_notebook-vai_workbench&destination=evaluation_rag_use_cases-from_notebook-vai_workbench&url=https%3A%2F%2Fconsole.cloud.google.com%2Fvertex-ai%2Fworkbench%2Fdeploy-notebook%3Fdownload_url%3Dhttps%3A%2F%2Fraw.githubusercontent.com%2FGoogleCloudPlatform%2Fapplied-ai-engineering-samples%2Fmain%2Fgenai-on-vertex-ai%2Fvertex_evaluation_services%2Fevaluation-rag-systems%2Fevaluation_rag_use_cases.ipynb\">\n",
    "      <img src=\"https://lh3.googleusercontent.com/UiNooY4LUgW_oTvpsNhPpQzsstV5W8F7rYgxgGBD85cWJoLmrOzhVs_ksK_vgx40SHs7jCqkTkCk=e14-rj-sc0xffffff-h130-w32\" alt=\"Vertex AI logo\"><br> Open in Vertex AI Workbench\n",
    "    </a>\n",
    "  </td>\n",
    "</table>"
   ]
  },
  {
   "cell_type": "markdown",
   "id": "b0266025-0ac0-47b6-afb6-4af337dda5e2",
   "metadata": {},
   "source": [
    "<table align=\"left\">\n",
    "    <td>Author(s)</td>\n",
    "    <td>Egon Soares</td>\n",
    "</table>"
   ]
  },
  {
   "cell_type": "markdown",
   "id": "69568a43-f22d-4cb3-8e31-f2c2308c9548",
   "metadata": {},
   "source": [
    "**[Optional]** Set project. If not set, the project will be set automatically according to the environment variable \"GOOGLE_CLOUD_PROJECT\"."
   ]
  },
  {
   "cell_type": "code",
   "execution_count": null,
   "id": "8982f158-26b1-45b7-9d74-4722cf7c4992",
   "metadata": {},
   "outputs": [],
   "source": [
    "PROJECT_ID = \"\"  # @param {type:\"string\"}"
   ]
  },
  {
   "cell_type": "code",
   "execution_count": null,
   "id": "096e06be-96e0-4c63-9d81-9805c6aec9a1",
   "metadata": {},
   "outputs": [],
   "source": [
    "import os"
   ]
  },
  {
   "cell_type": "code",
   "execution_count": null,
   "id": "be80a036-919f-4287-8087-4044ebbb6cc9",
   "metadata": {},
   "outputs": [],
   "source": [
    "if not PROJECT_ID:\n",
    "    # Get the default cloud project id.\n",
    "    PROJECT_ID = os.environ.get(\"GOOGLE_CLOUD_PROJECT\", \"\")\n",
    "    assert PROJECT_ID, \"Provide a google cloud project id.\""
   ]
  },
  {
   "cell_type": "code",
   "execution_count": null,
   "id": "c835c95c-59a5-461d-9fe1-70508d4fa7f3",
   "metadata": {},
   "outputs": [],
   "source": [
    "import sys\n",
    "\n",
    "running_in_colab = \"google.colab\" in sys.modules\n",
    "\n",
    "if running_in_colab and os.environ.get(\"VERTEX_PRODUCT\", \"\") != \"COLAB_ENTERPRISE\":\n",
    "    from google.colab import auth as colab_auth\n",
    "    \n",
    "    colab_auth.authenticate_user()"
   ]
  },
  {
   "cell_type": "markdown",
   "id": "955c8f69-d549-4881-99b9-4a164313f97c",
   "metadata": {},
   "source": [
    "### Perspective API"
   ]
  },
  {
   "cell_type": "markdown",
   "id": "5ddb4e79-171d-45c5-9c16-3ac5815deb18",
   "metadata": {},
   "source": [
    "Get access by following the [step-by-step](https://developers.perspectiveapi.com/s/docs-get-started) and requesting API access using the [form](https://docs.google.com/forms/d/e/1FAIpQLSdhBBnVVVbXSElby-jhNnEj-Zwpt5toQSCFsJerGfpXW66CuQ/viewform)"
   ]
  },
  {
   "cell_type": "code",
   "execution_count": null,
   "id": "d9d91a76-304d-4ef5-8ecc-350aa02519b4",
   "metadata": {
    "scrolled": true
   },
   "outputs": [],
   "source": [
    "! pip install --upgrade --quiet google-api-python-client"
   ]
  },
  {
   "cell_type": "code",
   "execution_count": null,
   "id": "2815b4e0-39a6-44c7-98f7-55ef5069acf3",
   "metadata": {},
   "outputs": [],
   "source": [
    "! gcloud services enable commentanalyzer.googleapis.com --project $PROJECT_ID"
   ]
  },
  {
   "cell_type": "markdown",
   "id": "98112842-f3d5-45d3-886a-7f24be6080ea",
   "metadata": {},
   "source": [
    "### NLP API"
   ]
  },
  {
   "cell_type": "code",
   "execution_count": null,
   "id": "d0b8c13d-5e09-4558-9558-9f4568455008",
   "metadata": {},
   "outputs": [],
   "source": [
    "! pip install --quiet google-cloud-language==2.11.0"
   ]
  },
  {
   "cell_type": "code",
   "execution_count": null,
   "id": "3aaf820d-cc7c-4cdb-a1bc-b705135c6455",
   "metadata": {},
   "outputs": [],
   "source": [
    "! gcloud services enable language.googleapis.com --project $PROJECT_ID"
   ]
  },
  {
   "cell_type": "markdown",
   "id": "18c3a31f-bb5f-4b00-91ac-e3d41afda8fd",
   "metadata": {},
   "source": [
    "### Vertex AI API"
   ]
  },
  {
   "cell_type": "code",
   "execution_count": null,
   "id": "e11dd24a-66b2-417a-b841-467ced0f969b",
   "metadata": {},
   "outputs": [],
   "source": [
    "! pip install --upgrade --quiet 'google-cloud-aiplatform>=1.66.0'"
   ]
  },
  {
   "cell_type": "code",
   "execution_count": null,
   "id": "0578c2ac-74fd-43a1-af1d-843fdd8984f8",
   "metadata": {},
   "outputs": [],
   "source": [
    "! gcloud services enable aiplatform.googleapis.com compute.googleapis.com --project $PROJECT_ID"
   ]
  },
  {
   "cell_type": "markdown",
   "id": "7575524d-e0a0-479c-af36-896919396d90",
   "metadata": {},
   "source": [
    "### Cloud Build API"
   ]
  },
  {
   "cell_type": "code",
   "execution_count": null,
   "id": "a7324ffb-ad9b-43e2-8f29-a837680213f6",
   "metadata": {},
   "outputs": [],
   "source": [
    "! pip install --upgrade --quiet google-cloud-build"
   ]
  },
  {
   "cell_type": "code",
   "execution_count": null,
   "id": "76296347-d494-4754-b8bb-8848371fc17a",
   "metadata": {},
   "outputs": [],
   "source": [
    "! gcloud services enable cloudbuild.googleapis.com --project $PROJECT_ID"
   ]
  }
 ],
 "metadata": {
  "kernelspec": {
   "display_name": "Python 3 (ipykernel)",
   "language": "python",
   "name": "python3"
  },
  "language_info": {
   "codemirror_mode": {
    "name": "ipython",
    "version": 3
   },
   "file_extension": ".py",
   "mimetype": "text/x-python",
   "name": "python",
   "nbconvert_exporter": "python",
   "pygments_lexer": "ipython3",
   "version": "3.11.9"
  }
 },
 "nbformat": 4,
 "nbformat_minor": 5
}
