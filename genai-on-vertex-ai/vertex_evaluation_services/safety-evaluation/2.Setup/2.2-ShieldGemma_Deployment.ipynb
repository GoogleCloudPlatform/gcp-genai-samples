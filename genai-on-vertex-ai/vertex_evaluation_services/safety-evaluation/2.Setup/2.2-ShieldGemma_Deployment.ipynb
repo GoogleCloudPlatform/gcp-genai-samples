{
 "cells": [
  {
   "cell_type": "code",
   "execution_count": null,
   "id": "aacfd162-d52d-4f00-bbca-600e559652b3",
   "metadata": {},
   "outputs": [],
   "source": [
    "# Copyright 2024 Google LLC\n",
    "#\n",
    "# Licensed under the Apache License, Version 2.0 (the \"License\");\n",
    "# you may not use this file except in compliance with the License.\n",
    "# You may obtain a copy of the License at\n",
    "#\n",
    "#     https://www.apache.org/licenses/LICENSE-2.0\n",
    "#\n",
    "# Unless required by applicable law or agreed to in writing, software\n",
    "# distributed under the License is distributed on an \"AS IS\" BASIS,\n",
    "# WITHOUT WARRANTIES OR CONDITIONS OF ANY KIND, either express or implied.\n",
    "# See the License for the specific language governing permissions and\n",
    "# limitations under the License."
   ]
  },
  {
   "cell_type": "markdown",
   "id": "f7e59b52-d019-49de-ae70-6a63cf5af190",
   "metadata": {},
   "source": [
    "# ShieldGemma Deployment"
   ]
  },
  {
   "cell_type": "markdown",
   "id": "bc709e3a-61f7-4a88-a289-59d2679cd948",
   "metadata": {},
   "source": [
    "![shieldgemma deployment architecture](images/2.2-ShieldGemma-Deployment.png)"
   ]
  },
  {
   "cell_type": "code",
   "execution_count": null,
   "id": "8a1af53e-2a69-4c62-b222-58c3890c534a",
   "metadata": {},
   "outputs": [],
   "source": []
  }
 ],
 "metadata": {
  "kernelspec": {
   "display_name": "Python 3 (ipykernel)",
   "language": "python",
   "name": "python3"
  },
  "language_info": {
   "codemirror_mode": {
    "name": "ipython",
    "version": 3
   },
   "file_extension": ".py",
   "mimetype": "text/x-python",
   "name": "python",
   "nbconvert_exporter": "python",
   "pygments_lexer": "ipython3",
   "version": "3.11.9"
  }
 },
 "nbformat": 4,
 "nbformat_minor": 5
}
