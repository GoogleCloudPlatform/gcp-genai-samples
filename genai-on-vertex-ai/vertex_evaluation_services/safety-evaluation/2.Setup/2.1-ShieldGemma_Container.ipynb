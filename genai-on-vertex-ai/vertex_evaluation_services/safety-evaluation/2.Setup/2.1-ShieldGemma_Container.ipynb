{
 "cells": [
  {
   "cell_type": "code",
   "execution_count": null,
   "id": "0da00419-7ffa-4e70-8091-209d36738b8e",
   "metadata": {},
   "outputs": [],
   "source": [
    "# Copyright 2024 Google LLC\n",
    "#\n",
    "# Licensed under the Apache License, Version 2.0 (the \"License\");\n",
    "# you may not use this file except in compliance with the License.\n",
    "# You may obtain a copy of the License at\n",
    "#\n",
    "#     https://www.apache.org/licenses/LICENSE-2.0\n",
    "#\n",
    "# Unless required by applicable law or agreed to in writing, software\n",
    "# distributed under the License is distributed on an \"AS IS\" BASIS,\n",
    "# WITHOUT WARRANTIES OR CONDITIONS OF ANY KIND, either express or implied.\n",
    "# See the License for the specific language governing permissions and\n",
    "# limitations under the License."
   ]
  },
  {
   "cell_type": "markdown",
   "id": "4dc08249-a72a-4639-a5d0-5e29a1dd8a0c",
   "metadata": {},
   "source": [
    "# ShieldGemma Model Container"
   ]
  },
  {
   "cell_type": "markdown",
   "id": "57a3db14-9a0c-463b-88e6-e454f7913cb8",
   "metadata": {},
   "source": [
    "![shieldgemma container architecture](images/2.1-ShieldGemma-Container.png)"
   ]
  },
  {
   "cell_type": "markdown",
   "id": "feb0f339-b43c-42d9-a3d4-b604f3d6ff5a",
   "metadata": {},
   "source": [
    "## Install Keras, KaggleHub and Jax"
   ]
  },
  {
   "cell_type": "markdown",
   "id": "fefb9fff-59fd-4307-a578-598beba174b3",
   "metadata": {},
   "source": [
    "Install libraries:\n",
    "\n",
    "- Keras\n",
    "- KerasNLP\n",
    "- Kaggle Hub"
   ]
  },
  {
   "cell_type": "code",
   "execution_count": null,
   "id": "b02cf5b5-e2ee-4477-a16c-b74fc753faec",
   "metadata": {},
   "outputs": [],
   "source": [
    "! pip install -q -U \"keras >= 3.0, <4.0\" \"keras-nlp > 0.14.1\" kagglehub"
   ]
  },
  {
   "cell_type": "markdown",
   "id": "0c6fb065-8eb2-4a07-b151-f85cd655dd5f",
   "metadata": {},
   "source": [
    "Install jax (choose one of the options)"
   ]
  },
  {
   "cell_type": "code",
   "execution_count": null,
   "id": "417f6aeb-7c19-4e33-91cf-6e4b4f93ee68",
   "metadata": {},
   "outputs": [],
   "source": [
    "# CPU\n",
    "# !pip install -U jax"
   ]
  },
  {
   "cell_type": "code",
   "execution_count": null,
   "id": "1eb34e64-56da-416a-9f3b-f0cb0c72fba4",
   "metadata": {},
   "outputs": [],
   "source": [
    "# GPU (NVIDIA, CUDA12)\n",
    "!pip install -U \"jax[cuda12]\""
   ]
  },
  {
   "cell_type": "code",
   "execution_count": null,
   "id": "e1c6a7ec-c0e6-4dc0-a91e-68836ab9528e",
   "metadata": {},
   "outputs": [],
   "source": [
    "# TPU\n",
    "# !pip install -U \"jax[tpu]\" -f https://storage.googleapis.com/jax-releases/libtpu_releases.html"
   ]
  },
  {
   "cell_type": "markdown",
   "id": "67b5c427-a4ab-4713-b85b-fcccc383468b",
   "metadata": {},
   "source": [
    "## Configure your runtime"
   ]
  },
  {
   "cell_type": "markdown",
   "id": "de902f40-de3d-4f63-8ccc-442eb3744019",
   "metadata": {},
   "source": [
    "Initializes the Python and Environment variables that Keras uses to configure the deep learning runtime (JAX, TensorFlow, or Torch). these must be set before Keras is imported. Learn more at https://keras.io/getting_started/#configuring-your-backend."
   ]
  },
  {
   "cell_type": "code",
   "execution_count": null,
   "id": "947744ff-15d5-4da7-9286-5c4a15e777ee",
   "metadata": {},
   "outputs": [],
   "source": [
    "DL_RUNTIME = 'jax'\n",
    "MODEL_VARIANT = 'shieldgemma_2b_en' # @param [\"shieldgemma_2b_en\", \"shieldgemma_9b_en\", \"shieldgemma_27b_en\"]\n",
    "MAX_SEQUENCE_LENGTH = 512\n",
    "\n",
    "import os\n",
    "\n",
    "os.environ[\"KERAS_BACKEND\"] = DL_RUNTIME"
   ]
  },
  {
   "cell_type": "markdown",
   "id": "a9e1af1a-94dc-4a80-a21d-c2fbad72b432",
   "metadata": {},
   "source": [
    "## Install dependencies and authenticate with Kaggle"
   ]
  },
  {
   "cell_type": "markdown",
   "id": "8628b0c5-4fcf-4130-b1b1-ecab198906c2",
   "metadata": {},
   "source": [
    "Install the latest version of KerasNLP and then present an HTML form for you to enter your Kaggle username and token.Learn more at https://www.kaggle.com/docs/api#authentication."
   ]
  },
  {
   "cell_type": "code",
   "execution_count": null,
   "id": "53ad4a17-dc1a-4ad1-9830-2b86966a604e",
   "metadata": {},
   "outputs": [],
   "source": [
    "from collections.abc import Sequence\n",
    "import enum\n",
    "\n",
    "import keras\n",
    "import keras_nlp\n",
    "\n",
    "# ShieldGemma is only provided in bfloat16 checkpoints.\n",
    "keras.config.set_floatx(\"bfloat16\")"
   ]
  },
  {
   "cell_type": "code",
   "execution_count": null,
   "id": "36509ca4-c4e4-449b-9bae-c5df047bc038",
   "metadata": {},
   "outputs": [],
   "source": [
    "import kagglehub\n",
    "kagglehub.login()"
   ]
  },
  {
   "cell_type": "markdown",
   "id": "a3f744f5-f6be-490f-b0f4-502f544ad3ad",
   "metadata": {},
   "source": [
    "# TODO"
   ]
  },
  {
   "cell_type": "code",
   "execution_count": null,
   "id": "ca9d7ccd-570e-463a-925c-8003abe791aa",
   "metadata": {},
   "outputs": [],
   "source": []
  }
 ],
 "metadata": {
  "kernelspec": {
   "display_name": "Python 3 (ipykernel)",
   "language": "python",
   "name": "python3"
  },
  "language_info": {
   "codemirror_mode": {
    "name": "ipython",
    "version": 3
   },
   "file_extension": ".py",
   "mimetype": "text/x-python",
   "name": "python",
   "nbconvert_exporter": "python",
   "pygments_lexer": "ipython3",
   "version": "3.11.9"
  }
 },
 "nbformat": 4,
 "nbformat_minor": 5
}
