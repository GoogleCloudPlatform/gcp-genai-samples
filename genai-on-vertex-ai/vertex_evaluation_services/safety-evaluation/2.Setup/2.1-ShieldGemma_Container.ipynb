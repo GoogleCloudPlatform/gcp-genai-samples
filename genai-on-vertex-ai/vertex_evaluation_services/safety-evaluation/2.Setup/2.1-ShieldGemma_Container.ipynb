{
 "cells": [
  {
   "cell_type": "code",
   "execution_count": null,
   "id": "0da00419-7ffa-4e70-8091-209d36738b8e",
   "metadata": {},
   "outputs": [],
   "source": [
    "# Copyright 2024 Google LLC\n",
    "#\n",
    "# Licensed under the Apache License, Version 2.0 (the \"License\");\n",
    "# you may not use this file except in compliance with the License.\n",
    "# You may obtain a copy of the License at\n",
    "#\n",
    "#     https://www.apache.org/licenses/LICENSE-2.0\n",
    "#\n",
    "# Unless required by applicable law or agreed to in writing, software\n",
    "# distributed under the License is distributed on an \"AS IS\" BASIS,\n",
    "# WITHOUT WARRANTIES OR CONDITIONS OF ANY KIND, either express or implied.\n",
    "# See the License for the specific language governing permissions and\n",
    "# limitations under the License."
   ]
  },
  {
   "cell_type": "markdown",
   "id": "4dc08249-a72a-4639-a5d0-5e29a1dd8a0c",
   "metadata": {},
   "source": [
    "# ShieldGemma Model Container"
   ]
  },
  {
   "cell_type": "markdown",
   "id": "57a3db14-9a0c-463b-88e6-e454f7913cb8",
   "metadata": {},
   "source": [
    "![shieldgemma container architecture](images/2.1-ShieldGemma-Container.png)"
   ]
  },
  {
   "cell_type": "code",
   "execution_count": null,
   "id": "23ed8df1-ad3f-485e-b28e-f142733c124f",
   "metadata": {},
   "outputs": [],
   "source": []
  }
 ],
 "metadata": {
  "kernelspec": {
   "display_name": "Python 3 (ipykernel)",
   "language": "python",
   "name": "python3"
  },
  "language_info": {
   "codemirror_mode": {
    "name": "ipython",
    "version": 3
   },
   "file_extension": ".py",
   "mimetype": "text/x-python",
   "name": "python",
   "nbconvert_exporter": "python",
   "pygments_lexer": "ipython3",
   "version": "3.11.9"
  }
 },
 "nbformat": 4,
 "nbformat_minor": 5
}
