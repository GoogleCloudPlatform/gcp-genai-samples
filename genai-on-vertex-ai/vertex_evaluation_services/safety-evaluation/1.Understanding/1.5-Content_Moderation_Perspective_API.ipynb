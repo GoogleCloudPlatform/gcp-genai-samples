{
 "cells": [
  {
   "cell_type": "code",
   "execution_count": null,
   "id": "10229bad-a1a4-4117-a977-43c70b3170ea",
   "metadata": {},
   "outputs": [],
   "source": [
    "# Copyright 2024 Google LLC\n",
    "#\n",
    "# Licensed under the Apache License, Version 2.0 (the \"License\");\n",
    "# you may not use this file except in compliance with the License.\n",
    "# You may obtain a copy of the License at\n",
    "#\n",
    "#     https://www.apache.org/licenses/LICENSE-2.0\n",
    "#\n",
    "# Unless required by applicable law or agreed to in writing, software\n",
    "# distributed under the License is distributed on an \"AS IS\" BASIS,\n",
    "# WITHOUT WARRANTIES OR CONDITIONS OF ANY KIND, either express or implied.\n",
    "# See the License for the specific language governing permissions and\n",
    "# limitations under the License."
   ]
  },
  {
   "cell_type": "markdown",
   "id": "370751d3-54d5-40cb-adb6-976c42e3dfc2",
   "metadata": {},
   "source": [
    "# Content Moderation with Perspective API"
   ]
  },
  {
   "cell_type": "markdown",
   "id": "a1f09fe6-5090-4f71-9f3a-512b197c7520",
   "metadata": {},
   "source": [
    "<table align=\"left\">\n",
    "  <td style=\"text-align: center\">\n",
    "    <a href=\"https://art-analytics.appspot.com/r.html?uaid=G-FHXEFWTT4E&utm_source=aRT-evaluation_rag_use_cases-from_notebook-colab&utm_medium=aRT-clicks&utm_campaign=evaluation_rag_use_cases-from_notebook-colab&destination=evaluation_rag_use_cases-from_notebook-colab&url=https%3A%2F%2Fcolab.sandbox.google.com%2Fgithub%2FGoogleCloudPlatform%2Fapplied-ai-engineering-samples%2Fblob%2Fmain%2Fgenai-on-vertex-ai%2Fvertex_evaluation_services%2Fevaluation-rag-systems%2Fevaluation_rag_use_cases.ipynb\">\n",
    "      <img src=\"https://cloud.google.com/ml-engine/images/colab-logo-32px.png\" alt=\"Google Colaboratory logo\"><br> Run in Colab\n",
    "    </a>\n",
    "  </td>\n",
    "  <td style=\"text-align: center\">\n",
    "    <a href=\"https://art-analytics.appspot.com/r.html?uaid=G-FHXEFWTT4E&utm_source=aRT-evaluation_rag_use_cases-from_notebook-colab_ent&utm_medium=aRT-clicks&utm_campaign=evaluation_rag_use_cases-from_notebook-colab_ent&destination=evaluation_rag_use_cases-from_notebook-colab_ent&url=https%3A%2F%2Fconsole.cloud.google.com%2Fvertex-ai%2Fcolab%2Fimport%2Fhttps%3A%252F%252Fraw.githubusercontent.com%252FGoogleCloudPlatform%252Fapplied-ai-engineering-samples%252Fmain%252Fgenai-on-vertex-ai%252Fvertex_evaluation_services%252Fevaluation-rag-systems%252Fevaluation_rag_use_cases.ipynb\">\n",
    "      <img width=\"32px\" src=\"https://lh3.googleusercontent.com/JmcxdQi-qOpctIvWKgPtrzZdJJK-J3sWE1RsfjZNwshCFgE_9fULcNpuXYTilIR2hjwN\" alt=\"Google Cloud Colab Enterprise logo\"><br> Run in Colab Enterprise\n",
    "    </a>\n",
    "  </td>    \n",
    "  <td style=\"text-align: center\">\n",
    "    <a href=\"https://art-analytics.appspot.com/r.html?uaid=G-FHXEFWTT4E&utm_source=aRT-evaluation_rag_use_cases-from_notebook-github&utm_medium=aRT-clicks&utm_campaign=evaluation_rag_use_cases-from_notebook-github&destination=evaluation_rag_use_cases-from_notebook-github&url=https%3A%2F%2Fgithub.com%2FGoogleCloudPlatform%2Fapplied-ai-engineering-samples%2Fblob%2Fmain%2Fgenai-on-vertex-ai%2Fvertex_evaluation_services%2Fevaluation-rag-systems%2Fevaluation_rag_use_cases.ipynb\">\n",
    "      <img src=\"https://cloud.google.com/ml-engine/images/github-logo-32px.png\" alt=\"GitHub logo\"><br> View on GitHub\n",
    "    </a>\n",
    "  </td>\n",
    "  <td style=\"text-align: center\">\n",
    "    <a href=\"https://art-analytics.appspot.com/r.html?uaid=G-FHXEFWTT4E&utm_source=aRT-evaluation_rag_use_cases-from_notebook-vai_workbench&utm_medium=aRT-clicks&utm_campaign=evaluation_rag_use_cases-from_notebook-vai_workbench&destination=evaluation_rag_use_cases-from_notebook-vai_workbench&url=https%3A%2F%2Fconsole.cloud.google.com%2Fvertex-ai%2Fworkbench%2Fdeploy-notebook%3Fdownload_url%3Dhttps%3A%2F%2Fraw.githubusercontent.com%2FGoogleCloudPlatform%2Fapplied-ai-engineering-samples%2Fmain%2Fgenai-on-vertex-ai%2Fvertex_evaluation_services%2Fevaluation-rag-systems%2Fevaluation_rag_use_cases.ipynb\">\n",
    "      <img src=\"https://lh3.googleusercontent.com/UiNooY4LUgW_oTvpsNhPpQzsstV5W8F7rYgxgGBD85cWJoLmrOzhVs_ksK_vgx40SHs7jCqkTkCk=e14-rj-sc0xffffff-h130-w32\" alt=\"Vertex AI logo\"><br> Open in Vertex AI Workbench\n",
    "    </a>\n",
    "  </td>\n",
    "</table>"
   ]
  },
  {
   "cell_type": "markdown",
   "id": "e1284d28-7258-4bfb-bac6-3b0e248287ee",
   "metadata": {},
   "source": [
    "<table align=\"left\">\n",
    "    <td>Author(s)</td>\n",
    "    <td>Egon Soares</td>\n",
    "</table>"
   ]
  },
  {
   "cell_type": "markdown",
   "id": "fb03e8e0-f8b8-4165-924b-a0978544951b",
   "metadata": {},
   "source": [
    "Get access by following the [step-by-step](https://developers.perspectiveapi.com/s/docs-get-started) and requesting API access using the [form](https://docs.google.com/forms/d/e/1FAIpQLSdhBBnVVVbXSElby-jhNnEj-Zwpt5toQSCFsJerGfpXW66CuQ/viewform)"
   ]
  },
  {
   "cell_type": "markdown",
   "id": "32f1eae6-e8bb-4c82-b0aa-e9aa5eca1b1e",
   "metadata": {},
   "source": [
    "**[Optional]** Set project. If not set, the project will be set automatically according to the environment variable \"GOOGLE_CLOUD_PROJECT\"."
   ]
  },
  {
   "cell_type": "code",
   "execution_count": null,
   "id": "172aa98d-0d6a-4f0b-90b4-39320c9fdb4d",
   "metadata": {},
   "outputs": [],
   "source": [
    "PROJECT_ID = \"\"  # @param {type:\"string\"}"
   ]
  },
  {
   "cell_type": "code",
   "execution_count": null,
   "id": "dca926ce-8e9e-45c4-918f-62547c1325b7",
   "metadata": {},
   "outputs": [],
   "source": [
    "import os"
   ]
  },
  {
   "cell_type": "code",
   "execution_count": null,
   "id": "d21d5a6c-027b-4a02-96af-63931e24e1f5",
   "metadata": {},
   "outputs": [],
   "source": [
    "if not PROJECT_ID:\n",
    "    # Get the default cloud project id.\n",
    "    PROJECT_ID = os.environ.get(\"GOOGLE_CLOUD_PROJECT\", \"\")\n",
    "    assert PROJECT_ID, \"Provide a google cloud project id.\""
   ]
  },
  {
   "cell_type": "code",
   "execution_count": null,
   "id": "77ec5a19-e54e-43c5-ace9-6eaa21700054",
   "metadata": {},
   "outputs": [],
   "source": [
    "import sys\n",
    "\n",
    "running_in_colab = \"google.colab\" in sys.modules\n",
    "\n",
    "if running_in_colab and os.environ.get(\"VERTEX_PRODUCT\", \"\") != \"COLAB_ENTERPRISE\":\n",
    "    from google.colab import auth as colab_auth\n",
    "    \n",
    "    colab_auth.authenticate_user()"
   ]
  },
  {
   "cell_type": "code",
   "execution_count": null,
   "id": "a13367c5-6eda-4d84-86ba-020d6c2f1bfc",
   "metadata": {
    "scrolled": true
   },
   "outputs": [],
   "source": [
    "! pip install --quiet google-api-python-client"
   ]
  },
  {
   "cell_type": "code",
   "execution_count": null,
   "id": "8a50737c-2dd6-4ca8-9d64-502636397529",
   "metadata": {},
   "outputs": [],
   "source": [
    "! gcloud services enable commentanalyzer.googleapis.com --project $PROJECT_ID"
   ]
  },
  {
   "cell_type": "markdown",
   "id": "85e2291d-f091-4158-a362-f7ebb8cafc92",
   "metadata": {},
   "source": [
    "Build the client using the discovery service"
   ]
  },
  {
   "cell_type": "code",
   "execution_count": null,
   "id": "3709665e-ea9c-46f6-8b01-76066ff6e03a",
   "metadata": {},
   "outputs": [],
   "source": [
    "import json\n",
    "from googleapiclient import discovery\n",
    "from google.api_core.client_options import ClientOptions\n",
    "\n",
    "client_options = ClientOptions(quota_project_id=PROJECT_ID)\n",
    "perspective_client = discovery.build(\n",
    "  \"commentanalyzer\",\n",
    "  \"v1alpha1\",\n",
    "  discoveryServiceUrl=\"https://commentanalyzer.googleapis.com/$discovery/rest?version=v1alpha1\",\n",
    "  static_discovery=False,\n",
    "  client_options=client_options\n",
    ")"
   ]
  },
  {
   "cell_type": "markdown",
   "id": "5d013b72-295e-4749-a479-075401f2f429",
   "metadata": {},
   "source": [
    "Create a helper function to test all the attributes"
   ]
  },
  {
   "cell_type": "code",
   "execution_count": null,
   "id": "886d6776-f61a-4720-bc25-fe245d9ca6c0",
   "metadata": {},
   "outputs": [],
   "source": [
    "from IPython.display import HTML, display\n",
    "\n",
    "def perspective_eval(text: str) -> list:\n",
    "    attributes = ['TOXICITY','SEVERE_TOXICITY', 'IDENTITY_ATTACK', 'INSULT', 'PROFANITY', 'THREAT']\n",
    "    analyze_request = {\n",
    "      'comment': { 'text': text },\n",
    "      'requestedAttributes': {item: {} for item in attributes}\n",
    "    }\n",
    "    \n",
    "    response = perspective_client.comments().analyze(body=analyze_request).execute()\n",
    "    scores = [(\" \".join(w[0] + w[1:].lower() for w in k.split(\"_\")), response[\"attributeScores\"][k][\"summaryScore\"][\"value\"]) for k in attributes]\n",
    "    return scores\n",
    "\n",
    "def show_as_table(scores: list, header=\"Attributes\"):\n",
    "    sorted_scores = sorted(scores, key=lambda x: x[1], reverse=True)\n",
    "    html_table = f\"<table><th>{header}</th><th>Scores</th>\"\n",
    "    for row in sorted_scores:\n",
    "        html_table += f\"<tr><td>{row[0]}</td><td>{row[1]:.0%}</td></tr>\"\n",
    "    html_table += \"</table>\"\n",
    "    \n",
    "    display(HTML(html_table))"
   ]
  },
  {
   "cell_type": "markdown",
   "id": "675d49fd-61b7-4e4a-b0fa-e563330cda68",
   "metadata": {},
   "source": [
    "Analyze a text"
   ]
  },
  {
   "cell_type": "code",
   "execution_count": null,
   "id": "da2040e7-37f5-4104-9cae-3e2457ff2042",
   "metadata": {},
   "outputs": [],
   "source": [
    "text = \"friendly greetings from python\" # @param {type:\"string\"}"
   ]
  },
  {
   "cell_type": "code",
   "execution_count": null,
   "id": "79ca094e-ec42-4ae9-bb9d-667cca38ed92",
   "metadata": {},
   "outputs": [],
   "source": [
    "# Send a request to the API\n",
    "scores = perspective_eval(text)\n",
    "\n",
    "# Show the results\n",
    "show_as_table(scores)"
   ]
  }
 ],
 "metadata": {
  "kernelspec": {
   "display_name": "Python 3 (ipykernel)",
   "language": "python",
   "name": "python3"
  },
  "language_info": {
   "codemirror_mode": {
    "name": "ipython",
    "version": 3
   },
   "file_extension": ".py",
   "mimetype": "text/x-python",
   "name": "python",
   "nbconvert_exporter": "python",
   "pygments_lexer": "ipython3",
   "version": "3.11.9"
  }
 },
 "nbformat": 4,
 "nbformat_minor": 5
}
