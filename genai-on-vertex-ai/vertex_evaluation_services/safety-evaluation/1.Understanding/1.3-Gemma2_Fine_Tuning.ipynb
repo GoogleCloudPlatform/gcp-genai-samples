{
 "cells": [
  {
   "cell_type": "code",
   "execution_count": null,
   "id": "29e15ee8-63a2-4b38-b0d8-abc3456f236a",
   "metadata": {},
   "outputs": [],
   "source": [
    "# Copyright 2024 Google LLC\n",
    "#\n",
    "# Licensed under the Apache License, Version 2.0 (the \"License\");\n",
    "# you may not use this file except in compliance with the License.\n",
    "# You may obtain a copy of the License at\n",
    "#\n",
    "#     https://www.apache.org/licenses/LICENSE-2.0\n",
    "#\n",
    "# Unless required by applicable law or agreed to in writing, software\n",
    "# distributed under the License is distributed on an \"AS IS\" BASIS,\n",
    "# WITHOUT WARRANTIES OR CONDITIONS OF ANY KIND, either express or implied.\n",
    "# See the License for the specific language governing permissions and\n",
    "# limitations under the License."
   ]
  },
  {
   "cell_type": "markdown",
   "id": "45dd5394-cd60-4ca8-9c2a-66001d781b08",
   "metadata": {},
   "source": [
    "# Gemma2 Fine Tuning with LoRA and deployment on Vertex AI  with vLLM"
   ]
  },
  {
   "cell_type": "markdown",
   "id": "7638b6f2-f0be-47b2-b1f1-bddd46e163e8",
   "metadata": {},
   "source": [
    "Based on [model_garden_gemma2_finetuning_on_vertex.ipynb](https://github.com/GoogleCloudPlatform/vertex-ai-samples/blob/main/notebooks/community/model_garden/model_garden_gemma2_finetuning_on_vertex.ipynb)"
   ]
  },
  {
   "cell_type": "markdown",
   "id": "d3e8cbcc-54e2-4328-8d93-738cebb0db1a",
   "metadata": {},
   "source": [
    "![gemma2 fine tuning architecture](images/1.3-gemma2-fine-tuning.png)"
   ]
  },
  {
   "cell_type": "code",
   "execution_count": null,
   "id": "247b3856-c1de-46b0-b685-e608e3c5941f",
   "metadata": {},
   "outputs": [],
   "source": []
  }
 ],
 "metadata": {
  "kernelspec": {
   "display_name": "Python 3 (ipykernel)",
   "language": "python",
   "name": "python3"
  },
  "language_info": {
   "codemirror_mode": {
    "name": "ipython",
    "version": 3
   },
   "file_extension": ".py",
   "mimetype": "text/x-python",
   "name": "python",
   "nbconvert_exporter": "python",
   "pygments_lexer": "ipython3",
   "version": "3.11.9"
  }
 },
 "nbformat": 4,
 "nbformat_minor": 5
}
