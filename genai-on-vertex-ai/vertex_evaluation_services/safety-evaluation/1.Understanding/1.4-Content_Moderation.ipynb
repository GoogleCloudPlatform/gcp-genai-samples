{
 "cells": [
  {
   "cell_type": "code",
   "execution_count": null,
   "id": "ccf466a5-3483-4480-964c-b516bed4f535",
   "metadata": {},
   "outputs": [],
   "source": [
    "# Copyright 2024 Google LLC\n",
    "#\n",
    "# Licensed under the Apache License, Version 2.0 (the \"License\");\n",
    "# you may not use this file except in compliance with the License.\n",
    "# You may obtain a copy of the License at\n",
    "#\n",
    "#     https://www.apache.org/licenses/LICENSE-2.0\n",
    "#\n",
    "# Unless required by applicable law or agreed to in writing, software\n",
    "# distributed under the License is distributed on an \"AS IS\" BASIS,\n",
    "# WITHOUT WARRANTIES OR CONDITIONS OF ANY KIND, either express or implied.\n",
    "# See the License for the specific language governing permissions and\n",
    "# limitations under the License."
   ]
  },
  {
   "cell_type": "markdown",
   "id": "e572d1cd-c7d8-4071-b22b-35cc02035590",
   "metadata": {},
   "source": [
    "# Content Moderation with NLP API"
   ]
  },
  {
   "cell_type": "markdown",
   "id": "7d307e27-131f-4ed7-b139-5b1e0ced3c26",
   "metadata": {},
   "source": [
    "Based on [Using the Natural Language API with Python.ipynb](https://github.com/GoogleCloudPlatform/devrel-demos/blob/main/other/colab/Using%20the%20Natural%20Language%20API%20with%20Python.ipynb)"
   ]
  },
  {
   "cell_type": "markdown",
   "id": "a5c45f2c-ef67-4dc8-a87b-a18ae7420d82",
   "metadata": {},
   "source": [
    "![content moderation architecture](images/1.4-content-moderation.png)"
   ]
  },
  {
   "cell_type": "code",
   "execution_count": null,
   "id": "865cc5eb-ae20-4a95-8240-83779809c98c",
   "metadata": {},
   "outputs": [],
   "source": []
  }
 ],
 "metadata": {
  "kernelspec": {
   "display_name": "Python 3 (ipykernel)",
   "language": "python",
   "name": "python3"
  },
  "language_info": {
   "codemirror_mode": {
    "name": "ipython",
    "version": 3
   },
   "file_extension": ".py",
   "mimetype": "text/x-python",
   "name": "python",
   "nbconvert_exporter": "python",
   "pygments_lexer": "ipython3",
   "version": "3.11.9"
  }
 },
 "nbformat": 4,
 "nbformat_minor": 5
}
