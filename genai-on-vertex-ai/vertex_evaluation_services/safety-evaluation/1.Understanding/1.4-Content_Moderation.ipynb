{
 "cells": [
  {
   "cell_type": "code",
   "execution_count": null,
   "id": "ccf466a5-3483-4480-964c-b516bed4f535",
   "metadata": {},
   "outputs": [],
   "source": [
    "# Copyright 2024 Google LLC\n",
    "#\n",
    "# Licensed under the Apache License, Version 2.0 (the \"License\");\n",
    "# you may not use this file except in compliance with the License.\n",
    "# You may obtain a copy of the License at\n",
    "#\n",
    "#     https://www.apache.org/licenses/LICENSE-2.0\n",
    "#\n",
    "# Unless required by applicable law or agreed to in writing, software\n",
    "# distributed under the License is distributed on an \"AS IS\" BASIS,\n",
    "# WITHOUT WARRANTIES OR CONDITIONS OF ANY KIND, either express or implied.\n",
    "# See the License for the specific language governing permissions and\n",
    "# limitations under the License."
   ]
  },
  {
   "cell_type": "markdown",
   "id": "e572d1cd-c7d8-4071-b22b-35cc02035590",
   "metadata": {},
   "source": [
    "# Content Moderation with NLP API"
   ]
  },
  {
   "cell_type": "markdown",
   "id": "7d307e27-131f-4ed7-b139-5b1e0ced3c26",
   "metadata": {},
   "source": [
    "Based on [Using the Natural Language API with Python.ipynb](https://github.com/GoogleCloudPlatform/devrel-demos/blob/main/other/colab/Using%20the%20Natural%20Language%20API%20with%20Python.ipynb)"
   ]
  },
  {
   "cell_type": "markdown",
   "id": "a5c45f2c-ef67-4dc8-a87b-a18ae7420d82",
   "metadata": {},
   "source": [
    "![content moderation architecture](images/1.4-content-moderation.png)"
   ]
  },
  {
   "cell_type": "markdown",
   "id": "4b1b21dd-0437-45bf-85a9-537d6947722c",
   "metadata": {},
   "source": [
    "The [Natural Language API](https://cloud.google.com/natural-language/docs/) lets you extract information from unstructured text using Google machine learning. In this tutorial, you'll focus on using its Python client library to perform the following:\n",
    "\n",
    "- Sentiment analysis\n",
    "- Entity analysis\n",
    "- Syntax analysis\n",
    "- Content classification\n",
    "- Text moderation\n",
    "\n",
    "This notebook requires a Google Cloud project:\n",
    "\n",
    "- If needed, [create a new Google Cloud project](https://console.cloud.google.com/cloud-resource-manager).\n",
    "- Make sure that billing is enabled for your project.\n",
    "- It uses billable services but not should generate any cost (see the Natural Language API [free monthly thresholds](https://cloud.google.com/natural-language/pricing))."
   ]
  },
  {
   "cell_type": "markdown",
   "id": "5ccd6716-0559-4e8a-94b8-a26947e9472f",
   "metadata": {},
   "source": [
    "## Setup"
   ]
  },
  {
   "cell_type": "markdown",
   "id": "093200d0-a640-4f54-87e1-ffe5840e9ef7",
   "metadata": {},
   "source": [
    "### Install packages"
   ]
  },
  {
   "cell_type": "markdown",
   "id": "ed9a579b-3464-4a90-af36-efc096dab3ae",
   "metadata": {},
   "source": [
    "Install the Natural Language API package and the notebook packages and then restart the session."
   ]
  },
  {
   "cell_type": "code",
   "execution_count": null,
   "id": "6930177c-6d76-4534-a263-df3bf6f609c7",
   "metadata": {},
   "outputs": [],
   "source": [
    "! pip install --upgrade --quiet pandas==1.5.3 Jinja2==3.1.2 ipywidgets==7.7.1 google-cloud-language==2.11.0"
   ]
  },
  {
   "cell_type": "code",
   "execution_count": null,
   "id": "3ce4ff20-c70e-477d-8a4e-b5e3e95e3ecd",
   "metadata": {},
   "outputs": [],
   "source": [
    "import sys"
   ]
  },
  {
   "cell_type": "code",
   "execution_count": null,
   "id": "8eb17507-e2bd-40a6-8b7e-2aea5acbc7d8",
   "metadata": {},
   "outputs": [],
   "source": [
    "running_in_colab = \"google.colab\" in sys.modules\n",
    "if running_in_colab:\n",
    "    from google.colab import auth as colab_auth"
   ]
  },
  {
   "cell_type": "code",
   "execution_count": null,
   "id": "41a66704-7d97-4a98-bf66-51d8ee901e9c",
   "metadata": {},
   "outputs": [],
   "source": [
    "def gcloud(command: str) -> list[str]:\n",
    "    command = command.replace(\"'\", '\"')\n",
    "    lines = !gcloud $command\n",
    "    if any(\"ERROR:\" in line for line in lines):\n",
    "        raise StopExecution(lines.nlstr)\n",
    "    return lines.list\n",
    "\n",
    "def get_active_account() -> str:\n",
    "    lines = gcloud(\"config list --format 'value(core.account)'\")\n",
    "    return lines[0] if lines else \"\"\n",
    "\n",
    "\n",
    "def is_authenticated() -> bool:\n",
    "    return get_active_account() not in [\"\", \"default\"]\n",
    "\n",
    "if not (authenticated := is_authenticated()):\n",
    "    print(f\"🔑 Authenticate to access your Google Cloud services\")\n",
    "    if running_in_colab:\n",
    "        colab_auth.authenticate_user()\n",
    "    else:\n",
    "        gcloud(\"auth login --brief\")\n",
    "    authenticated = is_authenticated()\n",
    "\n",
    "if authenticated:\n",
    "    print(f\"✔️ Authenticated\")\n",
    "else:\n",
    "    raise StopExecution(\"❌ Could not authenticate\")"
   ]
  },
  {
   "cell_type": "code",
   "execution_count": null,
   "id": "4c5984b5-45af-488e-9053-a19e729bd50b",
   "metadata": {},
   "outputs": [],
   "source": [
    "def get_default_project_id() -> str:\n",
    "    lines = gcloud(\"config list --format 'value(core.project)'\")\n",
    "    return lines[0] if lines else \"\"\n",
    "\n",
    "\n",
    "def get_active_project_ids() -> list[str]:\n",
    "    return gcloud(\"projects list --format 'value(projectId)'\")\n",
    "\n",
    "\n",
    "def update_project_id(project_id: str | None = None):\n",
    "    if not project_id:\n",
    "        raise StopExecution(\"❌ Please select your project\")\n",
    "    global PROJECT_ID\n",
    "    if PROJECT_ID != project_id:\n",
    "        PROJECT_ID = project_id\n",
    "        if running_in_colab:\n",
    "            colab_auth.authenticate_user(project_id=PROJECT_ID)\n",
    "        else:\n",
    "            print(\"⚙️ Revoking Application Default Credentials…\")\n",
    "            gcloud(\"auth application-default revoke --quiet\")\n",
    "            print(\"⚙️ Setting Application Default Credentials…\")\n",
    "            gcloud(f\"auth application-default login --project {PROJECT_ID}\")\n",
    "            print(\"⚙️ Setting default project…\")\n",
    "            gcloud(f\"config set project {PROJECT_ID}\")\n",
    "    print(f\"✔️ PROJECT_ID: {PROJECT_ID}\")\n",
    "\n",
    "\n",
    "def show_project_ids(project_ids: list[str]):\n",
    "    import ipywidgets\n",
    "\n",
    "    @ipywidgets.interact(PROJECT_ID=project_ids)\n",
    "    def on_project_id(PROJECT_ID: str | None = None):\n",
    "        update_project_id(PROJECT_ID)\n",
    "\n",
    "\n",
    "if PROJECT_ID := get_default_project_id():\n",
    "    update_project_id(PROJECT_ID)\n",
    "else:\n",
    "    project_ids = get_active_project_ids()\n",
    "    if len(project_ids) == 1:  # Single project (e.g. onboarding developer)\n",
    "        update_project_id(project_ids[0])\n",
    "    else:\n",
    "        show_project_ids(project_ids)"
   ]
  },
  {
   "cell_type": "code",
   "execution_count": null,
   "id": "000183ce-9a88-4e94-977a-553402dbf4cd",
   "metadata": {},
   "outputs": [],
   "source": [
    "def get_enabled_services() -> list[str]:\n",
    "    return gcloud(\"services list --enabled --format 'value(config.name)'\")\n",
    "\n",
    "\n",
    "if not PROJECT_ID:\n",
    "    raise StopExecution(\"❌ PROJECT_ID is undefined\")\n",
    "\n",
    "enabled_services = get_enabled_services()\n",
    "services_to_enable = [\n",
    "    \"language.googleapis.com\"\n",
    "]\n",
    "if services_to_enable:\n",
    "    api_or_apis = \"APIs\" if 1 < len(services_to_enable) else \"API\"\n",
    "    spaced_services = \" \".join(services_to_enable)\n",
    "    print(f'🔓 Enabling {api_or_apis} \"{spaced_services}\"…')\n",
    "    gcloud(f\"services enable {spaced_services}\")\n",
    "    enabled_services = get_enabled_services()\n",
    "\n",
    "for service in services_to_enable:\n",
    "    if service in enabled_services:\n",
    "        print(f'✔️ API \"{service}\" is enabled')\n",
    "    else:\n",
    "        raise StopExecution(f'❌ Failed to enable API \"{service}\"')"
   ]
  },
  {
   "cell_type": "code",
   "execution_count": null,
   "id": "99441187-fad9-4385-8a47-5a61ec65a6bb",
   "metadata": {},
   "outputs": [],
   "source": [
    "import pandas as pd\n",
    "from IPython.display import display\n",
    "\n",
    "\n",
    "def show_table(columns, data, formats=None, remove_empty_columns=False):\n",
    "    df = pd.DataFrame(columns=columns, data=data)\n",
    "    if remove_empty_columns:\n",
    "        empty_cols = [col for col in df if df[col].eq(\"\").all()]\n",
    "        df.drop(empty_cols, axis=1, inplace=True)\n",
    "    # Customize formatting\n",
    "    styler = df.style\n",
    "    if formats:\n",
    "        styler.format(formats)\n",
    "    # Left-align string columns\n",
    "    df = df.convert_dtypes()\n",
    "    str_cols = list(df.select_dtypes(\"string\").keys())\n",
    "    styler = styler.set_properties(subset=str_cols, **{\"text-align\": \"left\"})\n",
    "    # Center headers\n",
    "    styler.set_table_styles([{\"selector\": \"th\", \"props\": [(\"text-align\", \"center\")]}])\n",
    "    styler.hide()\n",
    "    display(styler)\n",
    "\n",
    "\n",
    "print(f\"✔️ Helpers defined\")"
   ]
  },
  {
   "cell_type": "markdown",
   "id": "2c322cb2-ab39-4dfd-b948-e69b35e25ae0",
   "metadata": {},
   "source": [
    "## Using the Python client library"
   ]
  },
  {
   "cell_type": "markdown",
   "id": "337c6e06-6ede-42d3-817b-f3a10547555a",
   "metadata": {},
   "source": [
    "You can use the Natural Language API in Python with the client library `google-cloud-language` and the following import:"
   ]
  },
  {
   "cell_type": "code",
   "execution_count": null,
   "id": "ee5391a0-e668-475b-95bd-33bd53efd34d",
   "metadata": {},
   "outputs": [],
   "source": [
    "from google.cloud import language_v1 as language"
   ]
  },
  {
   "cell_type": "markdown",
   "id": "df149bbe-4b8a-44ca-b924-3e7a30d3f936",
   "metadata": {},
   "source": [
    "## Text Moderation\n",
    "\n",
    "Text moderation identifies a wide range of harmful content, including hate speech, bullying, and sexual harassment. It is performed with the `moderate_text` method which returns a `ModerateTextResponse`."
   ]
  },
  {
   "cell_type": "code",
   "execution_count": null,
   "id": "0726a847-4822-4ac7-ae05-e9f36a0fb285",
   "metadata": {},
   "outputs": [],
   "source": [
    "from google.cloud import language_v1 as language\n",
    "\n",
    "\n",
    "def moderate_text(text: str) -> language.ModerateTextResponse:\n",
    "    client = language.LanguageServiceClient()\n",
    "    document = language.Document(\n",
    "        content=text,\n",
    "        type_=language.Document.Type.PLAIN_TEXT,\n",
    "    )\n",
    "    return client.moderate_text(document=document)\n",
    "\n",
    "\n",
    "def show_text_moderation(response: language.ModerateTextResponse):\n",
    "    def confidence(category: language.ClassificationCategory) -> float:\n",
    "        return category.confidence\n",
    "\n",
    "    columns = [\"category\", \"confidence\"]\n",
    "    categories = response.moderation_categories\n",
    "    sorted_categories = sorted(categories, key=confidence, reverse=True)\n",
    "    data = ((category.name, category.confidence) for category in sorted_categories)\n",
    "    formats = {\"confidence\": \"{:.0%}\"}\n",
    "    show_table(columns, data, formats)"
   ]
  },
  {
   "cell_type": "code",
   "execution_count": null,
   "id": "9d234e0f-73fc-449e-8001-819141d9ca4c",
   "metadata": {},
   "outputs": [],
   "source": [
    "# Input\n",
    "text = \"I have to read Ulysses by James Joyce and am a little over halfway through. I hate it. What a pile of garbage!\"  # @param {type:\"string\"}\n",
    "\n",
    "# Send a request to the API\n",
    "moderate_text_response = moderate_text(text)\n",
    "\n",
    "# Show the results\n",
    "show_text_moderation(moderate_text_response)"
   ]
  },
  {
   "cell_type": "markdown",
   "id": "c9d770e8-0589-4e38-be5d-ceb5f74b3a3c",
   "metadata": {},
   "source": [
    "For more information, see the following docs:\n",
    "\n",
    "- [`ModerateTextResponse`](https://cloud.google.com/python/docs/reference/language/latest/google.cloud.language_v1.types.ModerateTextResponse)\n",
    "- [Language Support](https://cloud.google.com/natural-language/docs/languages#content_classification)\n",
    "- [Moderating Text](https://cloud.google.com/natural-language/docs/moderating-text)"
   ]
  },
  {
   "cell_type": "code",
   "execution_count": null,
   "id": "e3745486-fd5b-4cd8-8caf-fdc1ef915eec",
   "metadata": {},
   "outputs": [],
   "source": []
  }
 ],
 "metadata": {
  "kernelspec": {
   "display_name": "Python 3 (ipykernel)",
   "language": "python",
   "name": "python3"
  },
  "language_info": {
   "codemirror_mode": {
    "name": "ipython",
    "version": 3
   },
   "file_extension": ".py",
   "mimetype": "text/x-python",
   "name": "python",
   "nbconvert_exporter": "python",
   "pygments_lexer": "ipython3",
   "version": "3.11.9"
  }
 },
 "nbformat": 4,
 "nbformat_minor": 5
}
