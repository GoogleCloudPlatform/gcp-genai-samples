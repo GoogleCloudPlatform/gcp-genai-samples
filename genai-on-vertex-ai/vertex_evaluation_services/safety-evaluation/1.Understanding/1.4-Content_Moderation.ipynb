{
 "cells": [
  {
   "cell_type": "code",
   "execution_count": null,
   "id": "ccf466a5-3483-4480-964c-b516bed4f535",
   "metadata": {},
   "outputs": [],
   "source": [
    "# Copyright 2024 Google LLC\n",
    "#\n",
    "# Licensed under the Apache License, Version 2.0 (the \"License\");\n",
    "# you may not use this file except in compliance with the License.\n",
    "# You may obtain a copy of the License at\n",
    "#\n",
    "#     https://www.apache.org/licenses/LICENSE-2.0\n",
    "#\n",
    "# Unless required by applicable law or agreed to in writing, software\n",
    "# distributed under the License is distributed on an \"AS IS\" BASIS,\n",
    "# WITHOUT WARRANTIES OR CONDITIONS OF ANY KIND, either express or implied.\n",
    "# See the License for the specific language governing permissions and\n",
    "# limitations under the License."
   ]
  },
  {
   "cell_type": "markdown",
   "id": "e572d1cd-c7d8-4071-b22b-35cc02035590",
   "metadata": {},
   "source": [
    "# Content Moderation with NLP API"
   ]
  },
  {
   "cell_type": "markdown",
   "id": "7d307e27-131f-4ed7-b139-5b1e0ced3c26",
   "metadata": {},
   "source": [
    "Based on [Using the Natural Language API with Python.ipynb](https://github.com/GoogleCloudPlatform/devrel-demos/blob/main/other/colab/Using%20the%20Natural%20Language%20API%20with%20Python.ipynb)"
   ]
  },
  {
   "cell_type": "markdown",
   "id": "1a35decb-e0ce-4153-8358-db81e7bdf4a0",
   "metadata": {},
   "source": [
    "<table align=\"left\">\n",
    "  <td style=\"text-align: center\">\n",
    "    <a href=\"https://art-analytics.appspot.com/r.html?uaid=G-FHXEFWTT4E&utm_source=aRT-evaluation_rag_use_cases-from_notebook-colab&utm_medium=aRT-clicks&utm_campaign=evaluation_rag_use_cases-from_notebook-colab&destination=evaluation_rag_use_cases-from_notebook-colab&url=https%3A%2F%2Fcolab.sandbox.google.com%2Fgithub%2FGoogleCloudPlatform%2Fapplied-ai-engineering-samples%2Fblob%2Fmain%2Fgenai-on-vertex-ai%2Fvertex_evaluation_services%2Fevaluation-rag-systems%2Fevaluation_rag_use_cases.ipynb\">\n",
    "      <img src=\"https://cloud.google.com/ml-engine/images/colab-logo-32px.png\" alt=\"Google Colaboratory logo\"><br> Run in Colab\n",
    "    </a>\n",
    "  </td>\n",
    "  <td style=\"text-align: center\">\n",
    "    <a href=\"https://art-analytics.appspot.com/r.html?uaid=G-FHXEFWTT4E&utm_source=aRT-evaluation_rag_use_cases-from_notebook-colab_ent&utm_medium=aRT-clicks&utm_campaign=evaluation_rag_use_cases-from_notebook-colab_ent&destination=evaluation_rag_use_cases-from_notebook-colab_ent&url=https%3A%2F%2Fconsole.cloud.google.com%2Fvertex-ai%2Fcolab%2Fimport%2Fhttps%3A%252F%252Fraw.githubusercontent.com%252FGoogleCloudPlatform%252Fapplied-ai-engineering-samples%252Fmain%252Fgenai-on-vertex-ai%252Fvertex_evaluation_services%252Fevaluation-rag-systems%252Fevaluation_rag_use_cases.ipynb\">\n",
    "      <img width=\"32px\" src=\"https://lh3.googleusercontent.com/JmcxdQi-qOpctIvWKgPtrzZdJJK-J3sWE1RsfjZNwshCFgE_9fULcNpuXYTilIR2hjwN\" alt=\"Google Cloud Colab Enterprise logo\"><br> Run in Colab Enterprise\n",
    "    </a>\n",
    "  </td>    \n",
    "  <td style=\"text-align: center\">\n",
    "    <a href=\"https://art-analytics.appspot.com/r.html?uaid=G-FHXEFWTT4E&utm_source=aRT-evaluation_rag_use_cases-from_notebook-github&utm_medium=aRT-clicks&utm_campaign=evaluation_rag_use_cases-from_notebook-github&destination=evaluation_rag_use_cases-from_notebook-github&url=https%3A%2F%2Fgithub.com%2FGoogleCloudPlatform%2Fapplied-ai-engineering-samples%2Fblob%2Fmain%2Fgenai-on-vertex-ai%2Fvertex_evaluation_services%2Fevaluation-rag-systems%2Fevaluation_rag_use_cases.ipynb\">\n",
    "      <img src=\"https://cloud.google.com/ml-engine/images/github-logo-32px.png\" alt=\"GitHub logo\"><br> View on GitHub\n",
    "    </a>\n",
    "  </td>\n",
    "  <td style=\"text-align: center\">\n",
    "    <a href=\"https://art-analytics.appspot.com/r.html?uaid=G-FHXEFWTT4E&utm_source=aRT-evaluation_rag_use_cases-from_notebook-vai_workbench&utm_medium=aRT-clicks&utm_campaign=evaluation_rag_use_cases-from_notebook-vai_workbench&destination=evaluation_rag_use_cases-from_notebook-vai_workbench&url=https%3A%2F%2Fconsole.cloud.google.com%2Fvertex-ai%2Fworkbench%2Fdeploy-notebook%3Fdownload_url%3Dhttps%3A%2F%2Fraw.githubusercontent.com%2FGoogleCloudPlatform%2Fapplied-ai-engineering-samples%2Fmain%2Fgenai-on-vertex-ai%2Fvertex_evaluation_services%2Fevaluation-rag-systems%2Fevaluation_rag_use_cases.ipynb\">\n",
    "      <img src=\"https://lh3.googleusercontent.com/UiNooY4LUgW_oTvpsNhPpQzsstV5W8F7rYgxgGBD85cWJoLmrOzhVs_ksK_vgx40SHs7jCqkTkCk=e14-rj-sc0xffffff-h130-w32\" alt=\"Vertex AI logo\"><br> Open in Vertex AI Workbench\n",
    "    </a>\n",
    "  </td>\n",
    "</table>"
   ]
  },
  {
   "cell_type": "markdown",
   "id": "f7ed1f58-bc0e-4358-8024-eee4985ba182",
   "metadata": {},
   "source": [
    "<table align=\"left\">\n",
    "    <td>Author(s)</td>\n",
    "    <td>Egon Soares</td>\n",
    "</table>"
   ]
  },
  {
   "cell_type": "markdown",
   "id": "a5c45f2c-ef67-4dc8-a87b-a18ae7420d82",
   "metadata": {},
   "source": [
    "![content moderation architecture](images/1.4-content-moderation.png)"
   ]
  },
  {
   "cell_type": "markdown",
   "id": "4b1b21dd-0437-45bf-85a9-537d6947722c",
   "metadata": {},
   "source": [
    "The [Natural Language API](https://cloud.google.com/natural-language/docs/) lets you extract information from unstructured text using Google machine learning. In this tutorial, you'll focus on using its Python client library to perform the following:\n",
    "\n",
    "- Sentiment analysis\n",
    "- Entity analysis\n",
    "- Syntax analysis\n",
    "- Content classification\n",
    "- Text moderation\n",
    "\n",
    "This notebook requires a Google Cloud project:\n",
    "\n",
    "- If needed, [create a new Google Cloud project](https://console.cloud.google.com/cloud-resource-manager).\n",
    "- Make sure that billing is enabled for your project.\n",
    "- It uses billable services but not should generate any cost (see the Natural Language API [free monthly thresholds](https://cloud.google.com/natural-language/pricing))."
   ]
  },
  {
   "cell_type": "markdown",
   "id": "5ccd6716-0559-4e8a-94b8-a26947e9472f",
   "metadata": {},
   "source": [
    "## Setup"
   ]
  },
  {
   "cell_type": "markdown",
   "id": "2c14368b-4e6f-4dfe-b382-b93889baf39f",
   "metadata": {},
   "source": [
    "**[Optional]** Set project. If not set, the project will be set automatically according to the environment variable \"GOOGLE_CLOUD_PROJECT\"."
   ]
  },
  {
   "cell_type": "code",
   "execution_count": null,
   "id": "fa17a016-144c-4adf-b0ff-3538ca38c115",
   "metadata": {},
   "outputs": [],
   "source": [
    "PROJECT_ID = \"\"  # @param {type:\"string\"}"
   ]
  },
  {
   "cell_type": "code",
   "execution_count": null,
   "id": "89eb3132-b2ec-4002-a010-5dd61ac2ea9d",
   "metadata": {},
   "outputs": [],
   "source": [
    "import os"
   ]
  },
  {
   "cell_type": "code",
   "execution_count": null,
   "id": "959a9bd8-d36c-424f-8495-0ff7cf51ddfc",
   "metadata": {},
   "outputs": [],
   "source": [
    "if not PROJECT_ID:\n",
    "    # Get the default cloud project id.\n",
    "    PROJECT_ID = os.environ.get(\"GOOGLE_CLOUD_PROJECT\", \"\")\n",
    "    assert PROJECT_ID, \"Provide a google cloud project id.\""
   ]
  },
  {
   "cell_type": "code",
   "execution_count": null,
   "id": "d821734a-a787-4e30-b545-4ac951a919d9",
   "metadata": {},
   "outputs": [],
   "source": [
    "import sys\n",
    "\n",
    "running_in_colab = \"google.colab\" in sys.modules\n",
    "\n",
    "if running_in_colab and os.environ.get(\"VERTEX_PRODUCT\", \"\") != \"COLAB_ENTERPRISE\":\n",
    "    from google.colab import auth as colab_auth\n",
    "    \n",
    "    colab_auth.authenticate_user()"
   ]
  },
  {
   "cell_type": "markdown",
   "id": "093200d0-a640-4f54-87e1-ffe5840e9ef7",
   "metadata": {},
   "source": [
    "### Install packages"
   ]
  },
  {
   "cell_type": "markdown",
   "id": "ed9a579b-3464-4a90-af36-efc096dab3ae",
   "metadata": {},
   "source": [
    "Install the Natural Language API package and the notebook packages and then restart the session."
   ]
  },
  {
   "cell_type": "code",
   "execution_count": null,
   "id": "6930177c-6d76-4534-a263-df3bf6f609c7",
   "metadata": {},
   "outputs": [],
   "source": [
    "! pip install --quiet google-cloud-language==2.11.0"
   ]
  },
  {
   "cell_type": "code",
   "execution_count": null,
   "id": "012611ec-a2fb-4c0f-a643-50c29e705a8b",
   "metadata": {},
   "outputs": [],
   "source": [
    "! gcloud services enable language.googleapis.com --project $PROJECT_ID"
   ]
  },
  {
   "cell_type": "markdown",
   "id": "2c322cb2-ab39-4dfd-b948-e69b35e25ae0",
   "metadata": {},
   "source": [
    "## Using the Python client library"
   ]
  },
  {
   "cell_type": "markdown",
   "id": "337c6e06-6ede-42d3-817b-f3a10547555a",
   "metadata": {},
   "source": [
    "You can use the Natural Language API in Python with the client library `google-cloud-language` and the following import:"
   ]
  },
  {
   "cell_type": "code",
   "execution_count": null,
   "id": "ee5391a0-e668-475b-95bd-33bd53efd34d",
   "metadata": {},
   "outputs": [],
   "source": [
    "from google.cloud import language_v1 as language\n",
    "from google.api_core.client_options import ClientOptions\n",
    "\n",
    "client_options = ClientOptions(quota_project_id=PROJECT_ID)\n",
    "client = language.LanguageServiceClient(client_options=client_options)"
   ]
  },
  {
   "cell_type": "markdown",
   "id": "df149bbe-4b8a-44ca-b924-3e7a30d3f936",
   "metadata": {},
   "source": [
    "## Text Moderation\n",
    "\n",
    "Text moderation identifies a wide range of harmful content, including hate speech, bullying, and sexual harassment. It is performed with the `moderate_text` method which returns a `ModerateTextResponse`."
   ]
  },
  {
   "cell_type": "code",
   "execution_count": null,
   "id": "0726a847-4822-4ac7-ae05-e9f36a0fb285",
   "metadata": {},
   "outputs": [],
   "source": [
    "from IPython.display import HTML, display\n",
    "\n",
    "def moderate_text(text: str) -> list:\n",
    "    document = language.Document(\n",
    "        content=text,\n",
    "        type_=language.Document.Type.PLAIN_TEXT,\n",
    "    )\n",
    "    response = client.moderate_text(document=document)\n",
    "    columns = [\"category\", \"confidence\"]\n",
    "    categories = response.moderation_categories\n",
    "    sorted_categories = sorted(categories, key=lambda x: x.confidence, reverse=True)\n",
    "    scores = [(category.name, category.confidence) for category in sorted_categories]\n",
    "    return scores\n",
    "\n",
    "def show_as_table(scores: list, header=\"Categories\"):\n",
    "    sorted_scores = sorted(scores, key=lambda x: x[1], reverse=True)\n",
    "    html_table = f\"<table><th>{header}</th><th>Scores</th>\"\n",
    "    for row in sorted_scores:\n",
    "        html_table += f\"<tr><td>{row[0]}</td><td>{row[1]:.0%}</td></tr>\"\n",
    "    html_table += \"</table>\"\n",
    "    \n",
    "    display(HTML(html_table))"
   ]
  },
  {
   "cell_type": "markdown",
   "id": "a7ac3220-4df3-4f94-b360-e2e896705370",
   "metadata": {},
   "source": [
    "Analyze a text"
   ]
  },
  {
   "cell_type": "code",
   "execution_count": null,
   "id": "9d234e0f-73fc-449e-8001-819141d9ca4c",
   "metadata": {},
   "outputs": [],
   "source": [
    "text = \"I have to read Ulysses by James Joyce and am a little over halfway through. I hate it. What a pile of garbage!\"  # @param {type:\"string\"}"
   ]
  },
  {
   "cell_type": "code",
   "execution_count": null,
   "id": "58f0b03d-eb06-45ae-a98c-9302d94de25b",
   "metadata": {},
   "outputs": [],
   "source": [
    "# Send a request to the API\n",
    "moderate_text_scores = moderate_text(text)\n",
    "\n",
    "# Show the results\n",
    "show_as_table(moderate_text_scores)"
   ]
  },
  {
   "cell_type": "markdown",
   "id": "c9d770e8-0589-4e38-be5d-ceb5f74b3a3c",
   "metadata": {},
   "source": [
    "For more information, see the following docs:\n",
    "\n",
    "- [`ModerateTextResponse`](https://cloud.google.com/python/docs/reference/language/latest/google.cloud.language_v1.types.ModerateTextResponse)\n",
    "- [Language Support](https://cloud.google.com/natural-language/docs/languages#content_classification)\n",
    "- [Moderating Text](https://cloud.google.com/natural-language/docs/moderating-text)"
   ]
  }
 ],
 "metadata": {
  "kernelspec": {
   "display_name": "Python 3 (ipykernel)",
   "language": "python",
   "name": "python3"
  },
  "language_info": {
   "codemirror_mode": {
    "name": "ipython",
    "version": 3
   },
   "file_extension": ".py",
   "mimetype": "text/x-python",
   "name": "python",
   "nbconvert_exporter": "python",
   "pygments_lexer": "ipython3",
   "version": "3.11.9"
  }
 },
 "nbformat": 4,
 "nbformat_minor": 5
}
