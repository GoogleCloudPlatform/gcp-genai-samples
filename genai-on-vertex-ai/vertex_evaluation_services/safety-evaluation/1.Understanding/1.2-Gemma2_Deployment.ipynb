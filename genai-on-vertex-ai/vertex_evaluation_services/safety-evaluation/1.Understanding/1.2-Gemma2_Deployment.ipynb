{
 "cells": [
  {
   "cell_type": "code",
   "execution_count": null,
   "id": "2ddc4905-50af-4b72-a030-497a8fb6b2e0",
   "metadata": {},
   "outputs": [],
   "source": [
    "# Copyright 2024 Google LLC\n",
    "#\n",
    "# Licensed under the Apache License, Version 2.0 (the \"License\");\n",
    "# you may not use this file except in compliance with the License.\n",
    "# You may obtain a copy of the License at\n",
    "#\n",
    "#     https://www.apache.org/licenses/LICENSE-2.0\n",
    "#\n",
    "# Unless required by applicable law or agreed to in writing, software\n",
    "# distributed under the License is distributed on an \"AS IS\" BASIS,\n",
    "# WITHOUT WARRANTIES OR CONDITIONS OF ANY KIND, either express or implied.\n",
    "# See the License for the specific language governing permissions and\n",
    "# limitations under the License."
   ]
  },
  {
   "cell_type": "markdown",
   "id": "df5d5b55-9d39-44c5-bb6a-07ced136e73b",
   "metadata": {},
   "source": [
    "# Gemma2 Deployment on Vertex AI with Hex-LLM and TGI"
   ]
  },
  {
   "cell_type": "markdown",
   "id": "8f12621c-44d5-4d9c-9858-f22ef002539e",
   "metadata": {},
   "source": [
    "Based on [model_garden_gemma2_deployment_on_vertex.ipynb](https://github.com/GoogleCloudPlatform/vertex-ai-samples/blob/main/notebooks/community/model_garden/model_garden_gemma2_deployment_on_vertex.ipynb)"
   ]
  },
  {
   "cell_type": "markdown",
   "id": "917ed964-587a-4542-b14d-ff487a7bc42e",
   "metadata": {},
   "source": [
    "![gemma2 deployment architecture](images/1.2-gemma2-deployment.png)"
   ]
  },
  {
   "cell_type": "code",
   "execution_count": null,
   "id": "646d836e-5453-4dff-9549-b30571b0ee78",
   "metadata": {},
   "outputs": [],
   "source": []
  }
 ],
 "metadata": {
  "kernelspec": {
   "display_name": "Python 3 (ipykernel)",
   "language": "python",
   "name": "python3"
  },
  "language_info": {
   "codemirror_mode": {
    "name": "ipython",
    "version": 3
   },
   "file_extension": ".py",
   "mimetype": "text/x-python",
   "name": "python",
   "nbconvert_exporter": "python",
   "pygments_lexer": "ipython3",
   "version": "3.11.9"
  }
 },
 "nbformat": 4,
 "nbformat_minor": 5
}
