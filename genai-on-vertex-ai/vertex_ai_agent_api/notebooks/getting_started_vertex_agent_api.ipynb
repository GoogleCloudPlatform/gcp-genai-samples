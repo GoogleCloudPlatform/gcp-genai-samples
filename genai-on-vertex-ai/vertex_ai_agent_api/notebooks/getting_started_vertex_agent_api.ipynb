{
 "cells": [
  {
   "cell_type": "code",
   "execution_count": null,
   "metadata": {
    "id": "Js_h8jjWM1mu"
   },
   "outputs": [],
   "source": [
    "# Copyright 2024 Google LLC\n",
    "#\n",
    "# Licensed under the Apache License, Version 2.0 (the \"License\");\n",
    "# you may not use this file except in compliance with the License.\n",
    "# You may obtain a copy of the License at\n",
    "#\n",
    "#     https://www.apache.org/licenses/LICENSE-2.0\n",
    "#\n",
    "# Unless required by applicable law or agreed to in writing, software\n",
    "# distributed under the License is distributed on an \"AS IS\" BASIS,\n",
    "# WITHOUT WARRANTIES OR CONDITIONS OF ANY KIND, either express or implied.\n",
    "# See the License for the specific language governing permissions and\n",
    "# limitations under the License."
   ]
  },
  {
   "cell_type": "markdown",
   "metadata": {
    "id": "ZJ5caKL2Ff2B"
   },
   "source": [
    "# Getting Started with the Vertex AI Agent API\n"
   ]
  },
  {
   "cell_type": "markdown",
   "metadata": {
    "id": "5Qj-TzSNGUii"
   },
   "source": [
    "TODO: Update tracking links for public preview.\n",
    "\n",
    "<table align=\"left\">\n",
    "  <td style=\"text-align: center\">\n",
    "    <a href=\"https://art-analytics.appspot.com/r.html?uaid=G-FHXEFWTT4E&utm_source=aRT-start_agapi_notebook-from_notebook-colab&utm_medium=aRT-clicks&utm_campaign=start_agapi_notebook-from_notebook-colab&destination=start_agapi_notebook-from_notebook-colab&url=https%3A%2F%2Fcolab.research.google.com%2Fgithub%2FGoogleCloudPlatform%2Fapplied-ai-engineering-samples%2Fblob%2Fagents-api-notebooks%2Fgenai-on-vertex-ai%2Fvertex_ai_agent_api%2Fnotebooks%2Fgetting_started_vertex_agent_api.ipynb\">\n",
    "      <img src=\"https://cloud.google.com/ml-engine/images/colab-logo-32px.png\" alt=\"Google Colaboratory logo\"><br> Open in Colab\n",
    "    </a>\n",
    "  </td>\n",
    "  <td style=\"text-align: center\">\n",
    "    <a href=\"https://art-analytics.appspot.com/r.html?uaid=G-FHXEFWTT4E&utm_source=aRT-start_agapi_notebook-from_notebook-colab_ent&utm_medium=aRT-clicks&utm_campaign=start_agapi_notebook-from_notebook-colab_ent&destination=start_agapi_notebook-from_notebook-colab_ent&url=https%3A%2F%2Fconsole.cloud.google.com%2Fvertex-ai%2Fcolab%2Fimport%2Fhttps%3A%252F%252Fraw.githubusercontent.com%252FGoogleCloudPlatform%252Fapplied-ai-engineering-samples%252Fagents-api-notebooks%252Fgenai-on-vertex-ai%252Fvertex_ai_agent_api%252Fnotebooks%252Fgetting_started_vertex_agent_api.ipynb\">\n",
    "      <img width=\"32px\" src=\"https://lh3.googleusercontent.com/JmcxdQi-qOpctIvWKgPtrzZdJJK-J3sWE1RsfjZNwshCFgE_9fULcNpuXYTilIR2hjwN\" alt=\"Google Cloud Colab Enterprise logo\"><br> Open in Colab Enterprise\n",
    "    </a>\n",
    "  </td>    \n",
    "  <td style=\"text-align: center\">\n",
    "    <a href=\"https://art-analytics.appspot.com/r.html?uaid=G-FHXEFWTT4E&utm_source=aRT-start_agapi_notebook-from_notebook-vai_workbench&utm_medium=aRT-clicks&utm_campaign=start_agapi_notebook-from_notebook-vai_workbench&destination=start_agapi_notebook-from_notebook-vai_workbench&url=https%3A%2F%2Fconsole.cloud.google.com%2Fvertex-ai%2Fworkbench%2Fdeploy-notebook%3Fdownload_url%3Dhttps%3A%2F%2Fraw.githubusercontent.com%2FGoogleCloudPlatform%2Fapplied-ai-engineering-samples%2Fagents-api-notebooks%2Fgenai-on-vertex-ai%2Fvertex_ai_agent_api%2Fnotebooks%2Fgetting_started_vertex_agent_api.ipynb\">\n",
    "      <img src=\"https://lh3.googleusercontent.com/UiNooY4LUgW_oTvpsNhPpQzsstV5W8F7rYgxgGBD85cWJoLmrOzhVs_ksK_vgx40SHs7jCqkTkCk=e14-rj-sc0xffffff-h130-w32\" alt=\"Vertex AI logo\"><br> Open in Vertex AI Workbench\n",
    "    </a>\n",
    "  </td>\n",
    "  <td style=\"text-align: center\">\n",
    "    <a href=\"https://art-analytics.appspot.com/r.html?uaid=G-FHXEFWTT4E&utm_source=aRT-start_agapi_notebook-from_notebook-github&utm_medium=aRT-clicks&utm_campaign=start_agapi_notebook-from_notebook-github&destination=start_agapi_notebook-from_notebook-github&url=https%3A%2F%2Fgithub.com%2FGoogleCloudPlatform%2Fapplied-ai-engineering-samples%2Fblob%2Fagents-api-notebooks%2Fgenai-on-vertex-ai%2Fvertex_ai_agent_api%2Fnotebooks%2Fgetting_started_vertex_agent_api.ipynb\">\n",
    "      <img src=\"https://cloud.google.com/ml-engine/images/github-logo-32px.png\" alt=\"GitHub logo\"><br> View on GitHub\n",
    "    </a>\n",
    "  </td>\n",
    "</table>"
   ]
  },
  {
   "cell_type": "markdown",
   "metadata": {
    "id": "ocycMnwJGUii"
   },
   "source": [
    "| | |\n",
    "|----------|-------------|\n",
    "| Author(s)   | Michael Sherman, Shangjie Chen, Lexi Delorey |\n",
    "| Reviewer(s) | Christos Aniftos |\n",
    "| Last updated | 2024 07 21: Update to 1.60 SDK |\n",
    "| | 2024 06 28: Initial Draft|"
   ]
  },
  {
   "cell_type": "markdown",
   "metadata": {
    "id": "FlkJDD0nGUij"
   },
   "source": [
    "# Overview\n",
    "\n",
    "This notebook shows how to use the [Vertex AI Agent API](https://cloud.google.com/vertex-ai/generative-ai/docs/agent-api/overview).\n",
    "\n",
    "The Vertex AI Agent API is a low-code way to build interactive AI agents.\n",
    "\n",
    "In this notebook you will learn how to do the following:\n",
    "- Create an application to hold an Agent.\n",
    "- Create an agent.\n",
    "- Interact with an agent.\n",
    "- Add an [extension](https://cloud.google.com/vertex-ai/generative-ai/docs/extensions/overview) tool to an agent.\n",
    "- Add a [function calling](https://cloud.google.com/vertex-ai/generative-ai/docs/multimodal/function-calling) tool to an agent.\n",
    "- Handle an agent's request to call a function.\n",
    "\n"
   ]
  },
  {
   "cell_type": "markdown",
   "metadata": {
    "id": "KUXzlvfpn513"
   },
   "source": [
    " ## Vertex AI Agent API\n",
    "\n",
    " The [Vertex AI Agent API](https://cloud.google.com/vertex-ai/generative-ai/docs/agent-api/overview) is an API for creating and managing generative AI systems called \"agents\" that can  reason, plan, and act to perform specific tasks.\n",
    "\n",
    "Vertex AI Agent API offers the following benefits:\n",
    "\n",
    "* **Faster time to market**: Agent API lets you get your AI agents up and running quickly with minimal effort. Agent development requires just a few lines of code.\n",
    "* **Flexibility and customization**: Agent API provides you with the flexibility to tune and customize your agents.\n",
    "* **Managed orchestration**: Agent API handles the complex orchestration of agent actions and state management, ensuring optimal performance and reliability.\n",
    "* **Google-backed reliability**: Agent API provides you with the benefits of Google's expertise in building scalable, reliable AI systems.\n",
    "* **Scalable platform advantages**: Agent API provides you with the benefits of Google Cloud's infrastructure to scale in a secure and responsible way.\n",
    "* **Seamless integration**: Agent API leverages the product portfolio available through integrations with Vertex AI, Google Cloud properties, and cross-Google products."
   ]
  },
  {
   "cell_type": "markdown",
   "metadata": {
    "id": "uNriTZl70OdV"
   },
   "source": [
    "## Using This Notebook\n",
    "\n",
    "TODO: Update environment/versions the notebook has been tested in at public preview.\n",
    "\n",
    "Colab is recommended for running this notebook, but it can run in any iPython environment where you can connect to a Google Cloud project, install pip packages, etc.\n",
    "\n",
    "If you're running outside of Colab, depending on your environment you may need to install pip packages that are included in the Colab environment by default but are not part of the Python Standard Library--try [pipping](https://pip.pypa.io/en/stable/user_guide/) the library name of any imports that fail.\n",
    "\n",
    "This tutorial uses the following Google Cloud services and resources:\n",
    "\n",
    "* [Vertex AI Agent API](https://cloud.google.com/vertex-ai/generative-ai/docs/agent-api/overview)\n",
    "* [Function Calling](https://cloud.google.com/vertex-ai/generative-ai/docs/multimodal/function-calling)\n",
    "* [Code Interpreter extension](https://cloud.google.com/vertex-ai/generative-ai/docs/extensions/code-interpreter)\n",
    "\n",
    "This notebook has been tested in the following environment:\n",
    "\n",
    "* Python version = 3.10.12\n",
    "* [google-cloud-aiplatform](https://pypi.org/project/google-cloud-aiplatform/) version = 1.60"
   ]
  },
  {
   "cell_type": "markdown",
   "metadata": {
    "id": "Ar0aDcql1dxl"
   },
   "source": [
    "## Useful Tips\n",
    "\n",
    "1. This notebook uses Generative AI cababilities. Re-running a cell that uses Generative AI capabilities may produce similar but not identical results.\n",
    "2. Because of #1, it is possible that an output produces errors. If that happens re-run the cell that produced the error. The re-run will likely be bug free.\n",
    "3. The use of Generative AI capabilities is subject to service quotas. Running the notebook using \"Run All\" may exceed your queries per minute (QPM) limitations. Run the notebook manually and if you get a quota error pause for up to 1 minute before retrying that cell. The Vertex AI Agent API defaults to Gemini on the backend and is subject to the Gemini quotas, [view your Gemini quotas here](https://console.cloud.google.com/iam-admin/quotas?pageState=(%22allQuotasTable%22:(%22f%22:%22%255B%257B_22k_22_3A_22_22_2C_22t_22_3A10_2C_22v_22_3A_22_5C_22base_model_5C_22_22%257D_2C%257B_22k_22_3A_22_22_2C_22t_22_3A10_2C_22v_22_3A_22_5C_22gemini_5C_22_22%257D%255D%22%29%29&e=13802955&mods=logs_tg_staging).\n"
   ]
  },
  {
   "cell_type": "markdown",
   "metadata": {
    "id": "PO_tnShTGUik"
   },
   "source": [
    "# Getting Started\n",
    "\n",
    "The following steps are necessary to run this notebook, no matter what notebook environment you're using.\n",
    "\n",
    "If you're entirely new to Google Cloud, [get started here](https://cloud.google.com/docs/get-started)."
   ]
  },
  {
   "cell_type": "markdown",
   "metadata": {
    "id": "XLf5oGqHn_DH"
   },
   "source": [
    "## Google Cloud Project Setup\n",
    "\n",
    "1. [Select or create a Google Cloud project](https://console.cloud.google.com/cloud-resource-manager). When you first create an account, you get a $300 free credit towards your compute/storage costs.\n",
    "1. [Make sure that billing is enabled for your project](https://cloud.google.com/billing/docs/how-to/modify-project).\n",
    "1. [Enable the Vertex AI API](https://console.cloud.google.com/flows/enableapi?apiid=aiplatform.googleapis.com)."
   ]
  },
  {
   "cell_type": "markdown",
   "metadata": {
    "id": "PTuXDJ2qn-8W"
   },
   "source": [
    "## Google Cloud Permissions\n",
    "Make sure your user account has been [granted the following roles](https://cloud.google.com/iam/docs/granting-changing-revoking-access) for the GCP project you'll access from this notebook:\n",
    "* [`roles/aiplatform.user`](https://cloud.google.com/vertex-ai/docs/general/access-control#aiplatform.user)"
   ]
  },
  {
   "cell_type": "markdown",
   "metadata": {
    "id": "YE5wS2uzoDsk"
   },
   "source": [
    "## Outside of Colab: Install the Google Cloud CLI\n",
    "\n",
    "If you are running this notebook in your own environment, you need to install the [Cloud SDK](https://cloud.google.com/sdk) (aka `gcloud`)."
   ]
  },
  {
   "cell_type": "markdown",
   "metadata": {
    "id": "7plalcaLGUik",
    "tags": []
   },
   "source": [
    "## Authenticate\n",
    "\n",
    "If you're using Colab, run the code in the next cell. Follow the popups and authenticate with an account that has access to your Google Cloud [project](https://cloud.google.com/resource-manager/docs/creating-managing-projects#identifying_projects).\n",
    "\n",
    "If you're running this notebook somewhere besides Colab, make sure your environment has the right Google Cloud access. If that's a new concept to you, consider looking into [Application Default Credentials for your local environment](https://cloud.google.com/docs/authentication/provide-credentials-adc#local-dev) and [initializing the Google Cloud CLI](https://cloud.google.com/docs/authentication/gcloud). In many cases, running `gcloud auth application-default login` and/or `gcloud auth login` in a shell on the machine running the notebook kernel is sufficient.\n",
    "\n",
    "More authentication options are discussed [here](https://cloud.google.com/docs/authentication)."
   ]
  },
  {
   "cell_type": "code",
   "execution_count": null,
   "metadata": {
    "colab": {
     "base_uri": "https://localhost:8080/"
    },
    "id": "THYfMKWMGUil",
    "outputId": "e9b7343d-53e7-4359-e6da-b2bc7e30371b"
   },
   "outputs": [],
   "source": [
    "# Colab authentication.\n",
    "import sys\n",
    "\n",
    "if \"google.colab\" in sys.modules:\n",
    "    from google.colab import auth\n",
    "    auth.authenticate_user()\n",
    "    print(\"Authenticated\")"
   ]
  },
  {
   "cell_type": "markdown",
   "metadata": {
    "id": "JdU-qMmbpR8r"
   },
   "source": [
    "## Install the Google Cloud Vertex AI Python SDK\n",
    "\n",
    "TODO: Update to public pip and retest notebook (in and out of colab) at public preview.\n",
    "\n",
    "Install the Google Cloud Vertex AI Python SDK, and if you already have the Google Cloud Vertex AI Python SDK installed, upgrade to the latest version."
   ]
  },
  {
   "cell_type": "code",
   "execution_count": null,
   "metadata": {},
   "outputs": [],
   "source": [
    "!gsutil cp gs://vertex_agents_private_releases/vertex_agents/google_cloud_aiplatform-1.60.dev20240710+vertex.agents-py2.py3-none-any.whl ."
   ]
  },
  {
   "cell_type": "code",
   "execution_count": null,
   "metadata": {
    "colab": {
     "base_uri": "https://localhost:8080/"
    },
    "id": "VoKp1ul32YkS",
    "outputId": "772ab1ec-220c-4a0c-f31a-e8d313e5d3ea",
    "tags": []
   },
   "outputs": [],
   "source": [
    "%pip install --upgrade --force-reinstall -q google_cloud_aiplatform-1.60.dev20240710+vertex.agents-py2.py3-none-any.whl --no-warn-conflicts\n",
    "%pip install -U \"pandas==2.2.2\"\n",
    "%pip install -U \"numpy<2\""
   ]
  },
  {
   "cell_type": "markdown",
   "metadata": {
    "id": "R5Xep4W9lq-Z"
   },
   "source": [
    "### Restart Runtime\n",
    "\n",
    "You may need to restart your notebook runtime to use the Vertex AI SDK. You can do this by running the cell below, which restarts the current kernel.\n",
    "\n",
    "You may see the restart reported as a crash, but it is working as-intended -- you are merely restarting the runtime.\n",
    "\n",
    "The restart might take a minute or longer. After its restarted, continue to the next step."
   ]
  },
  {
   "cell_type": "code",
   "execution_count": null,
   "metadata": {
    "colab": {
     "base_uri": "https://localhost:8080/"
    },
    "id": "XRvKdaPDTznN",
    "outputId": "0b7e9559-0941-4ee0-bc8f-7517e0fab210",
    "tags": []
   },
   "outputs": [],
   "source": [
    "import IPython\n",
    "\n",
    "app = IPython.Application.instance()\n",
    "app.kernel.do_shutdown(True)"
   ]
  },
  {
   "cell_type": "markdown",
   "metadata": {
    "id": "SbmM4z7FOBpM"
   },
   "source": [
    "<div class=\"alert alert-block alert-warning\">\n",
    "<b>⚠️ The kernel is going to restart. Please wait until it is finished before continuing to the next step. ⚠️</b>\n",
    "</div>\n"
   ]
  },
  {
   "cell_type": "markdown",
   "metadata": {
    "id": "mCG23ih_sJr9"
   },
   "source": [
    "If you're using Colab, as long the notebook runtime isn't deleted (even if it restarts) you don't need to re-run the previous cell.\n",
    "\n",
    "If you're running this notebook in your own environment you shouldn't need to run the above pip cell again unless you delete your IPython kernel."
   ]
  },
  {
   "cell_type": "markdown",
   "metadata": {
    "id": "init_aip:mbsdk,all"
   },
   "source": [
    "# Initialize the Google Cloud Vertex AI Python SDK\n",
    "\n",
    "Start here if your Notebook kernel restarts (but isn't deleted), though if it's been a few hours you may need to run the Authentication steps above again.\n",
    "\n",
    "To initialize the SDK, you need to set your Google Cloud project ID and region.\n",
    "\n",
    "If you don't know your project  ID, try the [Google Cloud CLI](https://cloud.google.com/sdk) commands [`gcloud config list`](https://cloud.google.com/sdk/gcloud/reference/config/list) or [`gcloud projects list`](https://cloud.google.com/sdk/gcloud/reference/projects/list). See the support page [Locate the project ID](https://support.google.com/googleapi/answer/7014113) for more information.\n"
   ]
  },
  {
   "cell_type": "markdown",
   "metadata": {
    "id": "WReHDGG5g0XY"
   },
   "source": [
    "### Set Your Project ID\n",
    "\n"
   ]
  },
  {
   "cell_type": "code",
   "execution_count": null,
   "metadata": {
    "id": "oM1iC_MfAts1",
    "tags": []
   },
   "outputs": [],
   "source": [
    "PROJECT_ID = \"YOUR_PROJECT_ID\"  # @param {type:\"string\"}"
   ]
  },
  {
   "cell_type": "markdown",
   "metadata": {
    "id": "region"
   },
   "source": [
    "### Set the Region\n",
    "\n",
    "You can also change the `REGION` variable used by Vertex AI. Learn more about [Vertex AI regions](https://cloud.google.com/vertex-ai/docs/general/locations)."
   ]
  },
  {
   "cell_type": "code",
   "execution_count": null,
   "metadata": {
    "id": "Cg9uNa6rlyWx",
    "tags": []
   },
   "outputs": [],
   "source": [
    "REGION = \"us-central1\"  # @param {type: \"string\"}"
   ]
  },
  {
   "cell_type": "markdown",
   "metadata": {
    "id": "6-NbHLWtu-iW"
   },
   "source": [
    "### Import and Initialize the Vertex AI Python SDK"
   ]
  },
  {
   "cell_type": "code",
   "execution_count": null,
   "metadata": {
    "id": "SnLyU9No5g0t",
    "tags": []
   },
   "outputs": [],
   "source": [
    "# TODO: Update imports for public preview.\n",
    "\n",
    "from google.cloud import aiplatform\n",
    "from google.cloud.aiplatform.private_preview.vertex_agents.app import App\n",
    "from google.cloud.aiplatform.private_preview.vertex_agents.agent import Agent\n",
    "from vertexai.generative_models import FunctionDeclaration, Part\n",
    "from vertexai.preview.extensions import Extension\n",
    "\n",
    "aiplatform.init(project=PROJECT_ID, location=REGION)"
   ]
  },
  {
   "cell_type": "markdown",
   "metadata": {
    "id": "cKgA1vFX6ZOI"
   },
   "source": [
    "# Step 1: Create an Application\n",
    "\n",
    "Before you create your agent, you'll need to create an application to hold the agent. All agents exist inside an application.\n",
    "\n",
    "In Vertex AI Agent API, an application is a software system that manages the agent and sessions. More on agents and sessions below."
   ]
  },
  {
   "cell_type": "code",
   "execution_count": null,
   "metadata": {
    "id": "dcI0uQB47OqX",
    "tags": []
   },
   "outputs": [],
   "source": [
    "app = App.create(display_name=\"My First Vertex AI Agent App\",\n",
    "                 description=\"Learning about the Vertex AI Agent API\")"
   ]
  },
  {
   "cell_type": "markdown",
   "metadata": {
    "id": "SJQHvUxq7sXC"
   },
   "source": [
    "You can learn how to list, get (load), update, and delete applications in the [product documentation](https://cloud.google.com/vertex-ai/generative-ai/docs/agent-api/create-app).\n",
    "\n",
    "Inspect your app:"
   ]
  },
  {
   "cell_type": "code",
   "execution_count": null,
   "metadata": {
    "colab": {
     "base_uri": "https://localhost:8080/"
    },
    "id": "-v-1tlgz8DCE",
    "outputId": "90f67169-8306-4287-93a9-084e073acf46",
    "tags": []
   },
   "outputs": [],
   "source": [
    "app"
   ]
  },
  {
   "cell_type": "markdown",
   "metadata": {
    "id": "m6KFeUAK8WQN"
   },
   "source": [
    "There's nothing in your app yet, but if you inspect the app after you create and configure an agent you'll see much more information."
   ]
  },
  {
   "cell_type": "markdown",
   "metadata": {
    "id": "BhsMXHMqrFSd"
   },
   "source": [
    "# Step 2: Create an Agent\n",
    "\n",
    "An AI agent reasons, plans, and takes actions. The agent takes actions via access to **tools**, deciding how and when to invoke a tool. The agent also manages orchestration, creating a plan for answering a user query and adapting to responses that aren't quite correct.\n",
    "\n",
    "Agent **tools** are either [Vertex AI Extensions](https://cloud.google.com/vertex-ai/generative-ai/docs/extensions/overview) or functions (set up using [function calling](https://cloud.google.com/vertex-ai/generative-ai/docs/multimodal/function-calling)).\n",
    "\n",
    "Create a simple agent. An agent requires two things: a display name and a set of instructions. The instructions should be detailed, making it clear exactly how the agent should behave.\n",
    "\n",
    "You can update the instructions to improve agent behavior, this is shown later in the notebook.\n",
    "\n"
   ]
  },
  {
   "cell_type": "code",
   "execution_count": null,
   "metadata": {
    "id": "YI8rLzj4FvB2",
    "tags": []
   },
   "outputs": [],
   "source": [
    "DISPLAY_NAME = \"Dice Machine\"\n",
    "INSTRUCTIONS = \"\"\"\n",
    "You roll dice and answer questions about the outcome of the dice roll.\n",
    "You can roll dice of different sizes.\n",
    "The only things you do are roll dice for the user and discuss the outcomes.\n",
    "It is ok to discuss previous dice roles, and comment on the dice rolls.\n",
    "Do not do anything else.\n",
    "\"\"\"\n",
    "\n",
    "dice_agent = app.add_agent(display_name=DISPLAY_NAME,\n",
    "                              instructions=INSTRUCTIONS)"
   ]
  },
  {
   "cell_type": "markdown",
   "metadata": {
    "id": "e7PpXG7qYEL0"
   },
   "source": [
    "_Tip: you can create an app and agent in one step by using `App.create_single_agent_app()` and specifying `display_name`, `instructions`, and other parameters._"
   ]
  },
  {
   "cell_type": "markdown",
   "metadata": {
    "id": "wuWv51F6Gybz"
   },
   "source": [
    "## Interact with an Agent\n",
    "\n",
    "To interact with the agent, create a session and then use `run` to send your inputs.\n",
    "\n",
    "A session corresponds to a \"user session\" with the agent, and holds the history of a conversation. To restart a conversation, create a new session."
   ]
  },
  {
   "cell_type": "code",
   "execution_count": null,
   "metadata": {
    "colab": {
     "base_uri": "https://localhost:8080/"
    },
    "id": "ehc5kUq3F3G5",
    "outputId": "882fc454-0c5b-4cf0-c0a6-3d3e581c8206",
    "tags": []
   },
   "outputs": [],
   "source": [
    "session = app.start_session()\n",
    "run_session_response = session.run(\"Tell me about your favorite cheese.\")\n",
    "run_session_response"
   ]
  },
  {
   "cell_type": "markdown",
   "metadata": {
    "id": "wlcGq1eDVd5c"
   },
   "source": [
    "Viewing the `content` of the `run_session_response` object makes it easier to see the agent's reply:"
   ]
  },
  {
   "cell_type": "code",
   "execution_count": null,
   "metadata": {
    "colab": {
     "base_uri": "https://localhost:8080/"
    },
    "id": "kj0G-d_gVXBJ",
    "outputId": "65f5798f-537a-4047-c122-3c16c1c002c3",
    "tags": []
   },
   "outputs": [],
   "source": [
    "run_session_response.content"
   ]
  },
  {
   "cell_type": "markdown",
   "metadata": {
    "id": "MK9oMoVdWLvT"
   },
   "source": [
    "Keep using `.run` to have a conversation with the agent."
   ]
  },
  {
   "cell_type": "code",
   "execution_count": null,
   "metadata": {
    "colab": {
     "base_uri": "https://localhost:8080/"
    },
    "id": "1ysu0ybwWLec",
    "outputId": "11d0b0ff-7f68-4387-9861-1406385d0760",
    "tags": []
   },
   "outputs": [],
   "source": [
    "session.run(\"Roll an 8 sided die.\").content"
   ]
  },
  {
   "cell_type": "code",
   "execution_count": null,
   "metadata": {
    "colab": {
     "base_uri": "https://localhost:8080/"
    },
    "id": "JZQTPAzvXXbZ",
    "outputId": "17deb525-44ec-499e-d75c-147aa8b346cc",
    "tags": []
   },
   "outputs": [],
   "source": [
    "session.run(\"Roll a 6 sided die.\").content"
   ]
  },
  {
   "cell_type": "code",
   "execution_count": null,
   "metadata": {
    "colab": {
     "base_uri": "https://localhost:8080/"
    },
    "id": "8Hw08KwkXblp",
    "outputId": "b92e532b-cc2b-4d69-afff-9f62af1c415d",
    "tags": []
   },
   "outputs": [],
   "source": [
    "session.run(\"Add up all the dice I've rolled.\").content"
   ]
  },
  {
   "cell_type": "code",
   "execution_count": null,
   "metadata": {
    "colab": {
     "base_uri": "https://localhost:8080/"
    },
    "id": "hXwz0KV8YB7Y",
    "outputId": "98ad32ba-742b-4a5a-f836-20e4432391a0",
    "tags": []
   },
   "outputs": [],
   "source": [
    "session.run(\"Do you think my rolls are lucky?\").content"
   ]
  },
  {
   "cell_type": "code",
   "execution_count": null,
   "metadata": {
    "colab": {
     "base_uri": "https://localhost:8080/"
    },
    "id": "5nH1xnK2YHsv",
    "outputId": "c6ae2c06-5008-4f45-9fd2-1ef5e83f6283",
    "tags": []
   },
   "outputs": [],
   "source": [
    "session.run(\"Are any of my dice prime numbers?\").content"
   ]
  },
  {
   "cell_type": "markdown",
   "metadata": {
    "id": "m_Il74ykT0-b"
   },
   "source": [
    "Everything passed to the session using `.run` along with agent's responses responses is remembered."
   ]
  },
  {
   "cell_type": "code",
   "execution_count": null,
   "metadata": {
    "colab": {
     "base_uri": "https://localhost:8080/"
    },
    "id": "s1WPHsrBT4R1",
    "outputId": "6a454bcb-4b8b-4737-abdb-9b387acffae4",
    "tags": []
   },
   "outputs": [],
   "source": [
    "session.get_history()"
   ]
  },
  {
   "cell_type": "markdown",
   "metadata": {
    "id": "YLASw2FLYBvR"
   },
   "source": [
    "The agent works, but it's not ideal to have the agent generating the dice rolls on its own (it may not be random), and it's also not a best practice to rely on an LLM to do math.\n",
    "\n",
    "To fix these problems, give the agent a dice rolling tool that rolls random numbers along with a code execution tool to do math."
   ]
  },
  {
   "cell_type": "markdown",
   "metadata": {
    "id": "xljD7DMuXXFN"
   },
   "source": [
    "## Create an Extension\n",
    "\n",
    "The Vertex AI Agent API supports extensions by Google and custom extensions.\n",
    "\n",
    " You will use the Google-provided [Code Interpreter extension](https://cloud.google.com/vertex-ai/generative-ai/docs/extensions/code-interpreter) from Google as a tool for the agent to do math.\n",
    "\n",
    " To create an extension by Google for use with your agent, use the `Extension.from_hub()` method.\n"
   ]
  },
  {
   "cell_type": "code",
   "execution_count": null,
   "metadata": {
    "colab": {
     "base_uri": "https://localhost:8080/"
    },
    "id": "u3X3XwDOaCv9",
    "outputId": "f2557ff6-b09a-44bf-a93f-e3eae0c1bbbf",
    "tags": []
   },
   "outputs": [],
   "source": [
    "code_interpreter_extension = Extension.from_hub(\"code_interpreter\")"
   ]
  },
  {
   "cell_type": "markdown",
   "metadata": {
    "id": "wxLBe8mzWcVR"
   },
   "source": [
    "To create a [custom extension](https://cloud.devsite.corp.google.com/vertex-ai/generative-ai/docs/extensions/create-extension#define-import-request) for use with your agent, use [Extension.create](https://cloud.google.com/vertex-ai/generative-ai/docs/model-reference/extension#python).\n"
   ]
  },
  {
   "cell_type": "markdown",
   "metadata": {
    "id": "zP7WDwaHgXYg"
   },
   "source": [
    "## Declare a Function for Function Calling\n",
    "\n",
    "Use [function calling](https://cloud.google.com/vertex-ai/generative-ai/docs/multimodal/function-calling) to give your agent a dice rolling tool.\n",
    "\n",
    "First, create a method that returns a random integer between 1 and the number of sides of the die:\n",
    "\n"
   ]
  },
  {
   "cell_type": "code",
   "execution_count": null,
   "metadata": {
    "colab": {
     "base_uri": "https://localhost:8080/"
    },
    "id": "doEO4Q_WjMzU",
    "outputId": "daf24fba-e3c1-42a8-f781-402e2e68a28b",
    "tags": []
   },
   "outputs": [],
   "source": [
    "import random\n",
    "def roll_die(sides):\n",
    "  \"\"\"Roll a die of any number of sides.\n",
    "\n",
    "  Args:\n",
    "    sides: An integer of the number of sides of the die.\n",
    "\n",
    "  Returns:\n",
    "    An integer of the result of rolling the die.\n",
    "  \"\"\"\n",
    "  return random.randint(1, sides)\n",
    "\n",
    "roll_die(4)"
   ]
  },
  {
   "cell_type": "markdown",
   "metadata": {
    "id": "UnOqgru7l0R7"
   },
   "source": [
    "Next, create a [Function Declaration](https://cloud.devsite.corp.google.com/vertex-ai/generative-ai/docs/multimodal/function-calling#how-works) for `roll_die`.\n",
    "\n",
    "When creating the `FunctionDeclaration`, it's important to provide a good name and description, along with [well-named parameters and clear descriptions of the parameters](https://cloud.devsite.corp.google.com/vertex-ai/generative-ai/docs/multimodal/function-calling#function-parameters). The model behind the agent will use this content to reason about how to use this function.\n",
    "\n",
    "If the declaration is not clear, the model will not be able to use the function correctly. Read more about [best practices for function parameters](https://cloud.devsite.corp.google.com/vertex-ai/generative-ai/docs/multimodal/function-calling#function-parameters-bp)"
   ]
  },
  {
   "cell_type": "code",
   "execution_count": null,
   "metadata": {
    "id": "7YvKmCcBkiTB",
    "tags": []
   },
   "outputs": [],
   "source": [
    "die_function_declaration = FunctionDeclaration(\n",
    "    name=\"roll_die\",\n",
    "    description=\"Get the result from rolling a die of any number of sides.\",\n",
    "    parameters={\n",
    "        \"type\": \"OBJECT\",\n",
    "        \"properties\": {\n",
    "            \"sides\" : {\n",
    "                \"type\": \"INTEGER\",\n",
    "                \"description\": \"The number of sides of the die.\"\n",
    "            },\n",
    "        },\n",
    "        \"required\": [\n",
    "            \"sides\"\n",
    "        ]\n",
    "    },\n",
    ")"
   ]
  },
  {
   "cell_type": "markdown",
   "metadata": {
    "id": "GZZ6pNO1oHPD"
   },
   "source": [
    "## Update an Agent to Add Tools\n",
    "\n",
    "Before the agent can use the extension and function, you need to provide the agent instructions and specify the function and extension.\n",
    "\n",
    "It's important when giving the agent instructions that you **describe when to use a function/extension and mention the function/extension by name**.\n",
    "\n",
    "If you reference an extension or function in the instructions, you must include an extension/function with the same display name in the extensions/functions lists."
   ]
  },
  {
   "cell_type": "code",
   "execution_count": null,
   "metadata": {
    "id": "CH3FG7l3oFaH",
    "tags": []
   },
   "outputs": [],
   "source": [
    "INSTRUCTIONS = \"\"\"\n",
    "You roll dice and answer questions about the outcome of the dice rolls.\n",
    "You can roll dice of different sizes.\n",
    "The only things you do are roll dice for the user and discuss the outcomes.\n",
    "It is ok to discuss previous dice roles, and comment on the dice rolls.\n",
    "When rolling a die, call roll_dice.\n",
    "You can only roll one die at a time.\n",
    "When doing math, call code_interpreter and formulate a natural language response for the user that's more than just the number.\n",
    "\"\"\"\n",
    "\n",
    "agent = dice_agent.update(\n",
    "    new_instructions=INSTRUCTIONS,\n",
    "    new_functions=[die_function_declaration],\n",
    "    new_extensions={\n",
    "        'Code Interpreter': code_interpreter_extension,\n",
    "    }\n",
    ")"
   ]
  },
  {
   "cell_type": "markdown",
   "metadata": {
    "id": "6H7rIS9dmaZf"
   },
   "source": [
    "Now take a look at your app to see everything you've added:"
   ]
  },
  {
   "cell_type": "code",
   "execution_count": null,
   "metadata": {
    "colab": {
     "base_uri": "https://localhost:8080/"
    },
    "id": "-5FnM4zamdWI",
    "outputId": "5250335e-e418-444e-84b1-1ee5f32e6eb3",
    "tags": []
   },
   "outputs": [],
   "source": [
    "app"
   ]
  },
  {
   "cell_type": "markdown",
   "metadata": {
    "id": "2VtRwqvN5ZC6"
   },
   "source": [
    "# Step 3: Handle Function Calls\n",
    "\n",
    "Now that your agent has tools, start the app again and try to get your agent to use a tool. Notice that the response looks different than it did when you were chatting with your agent earlier."
   ]
  },
  {
   "cell_type": "code",
   "execution_count": null,
   "metadata": {
    "colab": {
     "base_uri": "https://localhost:8080/"
    },
    "id": "drMsOeFdqrjT",
    "outputId": "92a10a8b-002a-4041-bd37-9b4ccfe678ab",
    "tags": []
   },
   "outputs": [],
   "source": [
    "session = app.start_session()\n",
    "run_session_response = session.run(\"Roll a 10 sided die.\")\n",
    "run_session_response.content"
   ]
  },
  {
   "cell_type": "markdown",
   "metadata": {
    "id": "cidbWmz16BVk"
   },
   "source": [
    "The agent has returned a request to call the `roll_die` function. It's now up to you to handle this request and give the agent the response.\n",
    "\n",
    "Use the value of the `sides` parameter provided by the agent to call the function, then use the `Part.from_function_response` method to provide the agent with the result of the function call."
   ]
  },
  {
   "cell_type": "code",
   "execution_count": null,
   "metadata": {
    "id": "-b9HvcZo6STj",
    "tags": []
   },
   "outputs": [],
   "source": [
    "from vertexai.generative_models import Part\n",
    "response_dict = run_session_response.to_dict()\n",
    "sides = response_dict[\"content\"][\"parts\"][0][\"function_call\"][\"args\"][\"sides\"]\n",
    "dice_roll = roll_die(sides)\n",
    "run_session_response = session.run(\n",
    "    Part.from_function_response(name=\"roll_die\", response={\"roll\": dice_roll}))"
   ]
  },
  {
   "cell_type": "code",
   "execution_count": null,
   "metadata": {
    "colab": {
     "base_uri": "https://localhost:8080/"
    },
    "id": "5w2w9OnI82vo",
    "outputId": "8d77d228-be54-46c9-d264-5e6ed4ecb107",
    "tags": []
   },
   "outputs": [],
   "source": [
    "print(dice_roll)"
   ]
  },
  {
   "cell_type": "markdown",
   "metadata": {
    "id": "4tZ_9AaW88Rh"
   },
   "source": [
    "The agent then takes the result of the function call that you provided and finishes the conversational turn."
   ]
  },
  {
   "cell_type": "code",
   "execution_count": null,
   "metadata": {
    "colab": {
     "base_uri": "https://localhost:8080/"
    },
    "id": "4W5Gzdsd8P-a",
    "outputId": "be6cdab1-ddea-4d76-edbe-0ac1ebb2bd04",
    "tags": []
   },
   "outputs": [],
   "source": [
    "run_session_response.content"
   ]
  },
  {
   "cell_type": "markdown",
   "metadata": {
    "id": "gobtJ9kzBHjf"
   },
   "source": [
    "To help automate making the function call for the model, this code snippet inspects the response and makes the function call if necessary before returning the response to the user."
   ]
  },
  {
   "cell_type": "code",
   "execution_count": null,
   "metadata": {
    "id": "zGvIMbLYOIE1",
    "tags": []
   },
   "outputs": [],
   "source": [
    "def agent_with_dice(input_text):\n",
    "  response = session.run(input_text)\n",
    "  response_dict = response.to_dict()\n",
    "  # While loop to keep running the function repeatedly.\n",
    "  if \"function_call\" in response_dict[\"content\"][\"parts\"][0]:\n",
    "    sides = response_dict[\"content\"][\"parts\"][0][\"function_call\"][\"args\"][\"sides\"]\n",
    "    dice_roll = roll_die(sides)\n",
    "    response = session.run(\n",
    "      Part.from_function_response(name=\"roll_die\", response={\"roll\": dice_roll}))\n",
    "\n",
    "  return response"
   ]
  },
  {
   "cell_type": "code",
   "execution_count": null,
   "metadata": {
    "colab": {
     "base_uri": "https://localhost:8080/"
    },
    "id": "gBePxOvtOxh2",
    "outputId": "c901dfc8-a661-41a2-a87f-be20c14fe618",
    "tags": []
   },
   "outputs": [],
   "source": [
    "session = app.start_session()\n",
    "agent_with_dice(\"Roll a 6 sided die.\").content"
   ]
  },
  {
   "cell_type": "code",
   "execution_count": null,
   "metadata": {
    "colab": {
     "base_uri": "https://localhost:8080/"
    },
    "id": "TGg0oqQySZjt",
    "outputId": "963f1006-9945-4b61-a347-ccc610810180",
    "tags": []
   },
   "outputs": [],
   "source": [
    "agent_with_dice(\"Do you think that's a good roll?\").content"
   ]
  },
  {
   "cell_type": "code",
   "execution_count": null,
   "metadata": {
    "colab": {
     "base_uri": "https://localhost:8080/"
    },
    "id": "MQmfgAYBUHO4",
    "outputId": "e7cb6f68-f7e1-41b9-83ec-068f63283855",
    "tags": []
   },
   "outputs": [],
   "source": [
    "agent_with_dice(\"Roll another 6 sided die.\").content"
   ]
  },
  {
   "cell_type": "code",
   "execution_count": null,
   "metadata": {
    "colab": {
     "base_uri": "https://localhost:8080/"
    },
    "id": "7hl8HubfUKpZ",
    "outputId": "93f0a7f2-07e5-4b11-d560-114f88912b8f",
    "tags": []
   },
   "outputs": [],
   "source": [
    "agent_with_dice(\"Roll another 6 sided die and tell me which of my rolls was prime.\").content"
   ]
  },
  {
   "cell_type": "code",
   "execution_count": null,
   "metadata": {
    "colab": {
     "base_uri": "https://localhost:8080/"
    },
    "id": "ggaGr48S9I2D",
    "outputId": "85e3abf4-c666-4121-8329-acf10dd782c6",
    "tags": []
   },
   "outputs": [],
   "source": [
    "session.run(\"What's the sum of my rolls divided by 2?\").content"
   ]
  },
  {
   "cell_type": "markdown",
   "metadata": {
    "id": "jBl-OeT7n3HN"
   },
   "source": [
    "You may have noticed that the agent does math without requiring you to manually interact with the extension, vs. function calling where you have to call the function and then provide the result to the agent.\n",
    "\n",
    "This is an important difference between these two approaches--with an extension, everything is managed by the extension."
   ]
  },
  {
   "cell_type": "markdown",
   "metadata": {
    "id": "oTD9Vof_ViPx"
   },
   "source": [
    "# Step 4: Learn More\n",
    "\n",
    "You can learn more about the Vertex AI Agent API [in the docs](https://cloud.google.com/vertex-ai/generative-ai/docs/agent-api/overview), including management features (list, delete, update, etc.) for apps, agents, and sessions along with more information about using functions and extensions. What amazing thing will you build??"
   ]
  },
  {
   "cell_type": "markdown",
   "metadata": {
    "id": "figw2zZ7MmO4"
   },
   "source": [
    "# Cleaning Up\n",
    "In this tutorial we showed basic usage of the Vertex AI Agent API, including creating an app and agent and adding tools to the agent.\n",
    "\n",
    "To delete your app, uncomment and run:"
   ]
  },
  {
   "cell_type": "code",
   "execution_count": null,
   "metadata": {
    "id": "tL9X-jZHahmL"
   },
   "outputs": [],
   "source": [
    "# app.delete(app.app_name)"
   ]
  },
  {
   "cell_type": "markdown",
   "metadata": {
    "id": "iaaHgGIYbK0L"
   },
   "source": [
    "You also created an Code Interpter extension in this notebook, if you want to delete it uncomment and run:"
   ]
  },
  {
   "cell_type": "code",
   "execution_count": null,
   "metadata": {
    "colab": {
     "base_uri": "https://localhost:8080/"
    },
    "id": "G6y9BgeyQuXj",
    "outputId": "bd2c1a18-834e-4b7d-b4a2-7704d00752dd"
   },
   "outputs": [],
   "source": [
    "# code_interpreter_extension.delete()"
   ]
  },
  {
   "cell_type": "markdown",
   "metadata": {
    "id": "HuSYP8VbbTQZ"
   },
   "source": [
    "If you restarted the notebook, you may have additional apps and extensions that need cleaning up.\n",
    "\n",
    "List all the apps in your project:"
   ]
  },
  {
   "cell_type": "code",
   "execution_count": null,
   "metadata": {
    "colab": {
     "base_uri": "https://localhost:8080/"
    },
    "id": "rX9qQnfuakBQ",
    "outputId": "593c8c9d-30e5-4e39-d580-8e93b78a8e86"
   },
   "outputs": [],
   "source": [
    "App.list_apps()"
   ]
  },
  {
   "cell_type": "markdown",
   "metadata": {
    "id": "sLF4FepEbyBs"
   },
   "source": [
    "If you see more apps that you don't want, look for the `app_name` values (they look like `projects/PROJECT_NUMBER/locations/LOCATION/apps/APP_NUMBER`) and use the following line of code to delete them manually:"
   ]
  },
  {
   "cell_type": "code",
   "execution_count": null,
   "metadata": {
    "id": "AdiB0ozBY-Hz"
   },
   "outputs": [],
   "source": [
    "App.delete(app_name=\"projects/PROJECT_NUMBER/locations/LOCATION/apps/APP_NUMBER)"
   ]
  },
  {
   "cell_type": "markdown",
   "metadata": {
    "id": "K1pyDrUuSOg8"
   },
   "source": [
    "You can run the next cell to get a list of all Vertex AI Extensions Instances in your environment:"
   ]
  },
  {
   "cell_type": "code",
   "execution_count": null,
   "metadata": {
    "colab": {
     "base_uri": "https://localhost:8080/"
    },
    "id": "GWNvVKjBtiWY",
    "outputId": "d396ed8b-7d09-4433-87df-30e72151cd8f"
   },
   "outputs": [],
   "source": [
    "from vertexai.preview import extensions\n",
    "extensions.Extension.list()"
   ]
  },
  {
   "cell_type": "markdown",
   "metadata": {
    "id": "sGnmwXF1eLUC"
   },
   "source": [
    "If you see extensions that you don't want, look for the `resource name` values (they look like `projects/PROJECT_NUMBER/locations/LOCATION/extensions/EXTENSION_NUMBER`) and use the following line of code to delete them manually:"
   ]
  },
  {
   "cell_type": "code",
   "execution_count": null,
   "metadata": {
    "colab": {
     "base_uri": "https://localhost:8080/"
    },
    "id": "oyydObUueLAZ",
    "outputId": "d38a758e-de09-42d0-84f0-480df51cdc58"
   },
   "outputs": [],
   "source": [
    "extension = extensions.Extension(\"projects/PROJECT_NUMBER/locations/LOCATION/extensions/EXTENSION_NUMBER\")\n",
    "# extension.delete()"
   ]
  }
 ],
 "metadata": {
  "colab": {
   "provenance": []
  },
  "environment": {
   "kernel": "mike_env1",
   "name": "tf2-cpu.2-11.m120",
   "type": "gcloud",
   "uri": "us-docker.pkg.dev/deeplearning-platform-release/gcr.io/tf2-cpu.2-11:m120"
  },
  "kernelspec": {
   "display_name": "mike_env1 (Local)",
   "language": "python",
   "name": "mike_env1"
  },
  "language_info": {
   "codemirror_mode": {
    "name": "ipython",
    "version": 3
   },
   "file_extension": ".py",
   "mimetype": "text/x-python",
   "name": "python",
   "nbconvert_exporter": "python",
   "pygments_lexer": "ipython3",
   "version": "3.10.14"
  }
 },
 "nbformat": 4,
 "nbformat_minor": 4
}
