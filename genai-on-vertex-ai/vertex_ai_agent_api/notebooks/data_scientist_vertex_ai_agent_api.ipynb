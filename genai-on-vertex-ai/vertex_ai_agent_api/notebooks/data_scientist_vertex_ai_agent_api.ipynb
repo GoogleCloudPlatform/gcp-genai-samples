{
 "cells": [
  {
   "cell_type": "code",
   "execution_count": null,
   "metadata": {
    "id": "Js_h8jjWM1mu"
   },
   "outputs": [],
   "source": [
    "# Copyright 2024 Google LLC\n",
    "#\n",
    "# Licensed under the Apache License, Version 2.0 (the \"License\");\n",
    "# you may not use this file except in compliance with the License.\n",
    "# You may obtain a copy of the License at\n",
    "#\n",
    "#     https://www.apache.org/licenses/LICENSE-2.0\n",
    "#\n",
    "# Unless required by applicable law or agreed to in writing, software\n",
    "# distributed under the License is distributed on an \"AS IS\" BASIS,\n",
    "# WITHOUT WARRANTIES OR CONDITIONS OF ANY KIND, either express or implied.\n",
    "# See the License for the specific language governing permissions and\n",
    "# limitations under the License."
   ]
  },
  {
   "cell_type": "markdown",
   "metadata": {
    "id": "ZJ5caKL2Ff2B"
   },
   "source": [
    "# Creating a Data Scientist Agent using the Vertex AI Agent API\n"
   ]
  },
  {
   "cell_type": "markdown",
   "metadata": {
    "id": "5Qj-TzSNGUii"
   },
   "source": [
    "TODO: Update tracking links for public preview.\n",
    "\n",
    "<table align=\"left\">\n",
    "  <td style=\"text-align: center\">\n",
    "    <a href=\"https://art-analytics.appspot.com/r.html?uaid=G-FHXEFWTT4E&utm_source=aRT-ds_agapi_notebook-from_notebook-colab&utm_medium=aRT-clicks&utm_campaign=ds_agapi_notebook-from_notebook-colab&destination=ds_agapi_notebook-from_notebook-colab&url=https%3A%2F%2Fcolab.research.google.com%2Fgithub%2FGoogleCloudPlatform%2Fapplied-ai-engineering-samples%2Fblob%2Fagents-api-notebooks%2Fgenai-on-vertex-ai%2Fvertex_ai_agent_api%2Fnotebooks%2Fdata_scientist_vertex_ai_agent_api.ipynb\">\n",
    "      <img src=\"https://cloud.google.com/ml-engine/images/colab-logo-32px.png\" alt=\"Google Colaboratory logo\"><br> Open in Colab\n",
    "    </a>\n",
    "  </td>\n",
    "  <td style=\"text-align: center\">\n",
    "    <a href=\"https://art-analytics.appspot.com/r.html?uaid=G-FHXEFWTT4E&utm_source=aRT-ds_agapi_notebook-from_notebook-colab_ent&utm_medium=aRT-clicks&utm_campaign=ds_agapi_notebook-from_notebook-colab_ent&destination=ds_agapi_notebook-from_notebook-colab_ent&url=https%3A%2F%2Fconsole.cloud.google.com%2Fvertex-ai%2Fcolab%2Fimport%2Fhttps%3A%252F%252Fraw.githubusercontent.com%252FGoogleCloudPlatform%252Fapplied-ai-engineering-samples%252Fagents-api-notebooks%252Fgenai-on-vertex-ai%252Fvertex_ai_agent_api%252Fnotebooks%252Fdata_scientist_vertex_ai_agent_api.ipynb\">\n",
    "      <img width=\"32px\" src=\"https://lh3.googleusercontent.com/JmcxdQi-qOpctIvWKgPtrzZdJJK-J3sWE1RsfjZNwshCFgE_9fULcNpuXYTilIR2hjwN\" alt=\"Google Cloud Colab Enterprise logo\"><br> Open in Colab Enterprise\n",
    "    </a>\n",
    "  </td>    \n",
    "  <td style=\"text-align: center\">\n",
    "    <a href=\"https://art-analytics.appspot.com/r.html?uaid=G-FHXEFWTT4E&utm_source=aRT-ds_agapi_notebook-from_notebook-vai_workbench&utm_medium=aRT-clicks&utm_campaign=ds_agapi_notebook-from_notebook-vai_workbench&destination=ds_agapi_notebook-from_notebook-vai_workbench&url=https%3A%2F%2Fconsole.cloud.google.com%2Fvertex-ai%2Fworkbench%2Fdeploy-notebook%3Fdownload_url%3Dhttps%3A%2F%2Fraw.githubusercontent.com%2FGoogleCloudPlatform%2Fapplied-ai-engineering-samples%2Fagents-api-notebooks%2Fgenai-on-vertex-ai%2Fvertex_ai_agent_api%2Fnotebooks%2Fdata_scientist_vertex_ai_agent_api.ipynb\">\n",
    "      <img src=\"https://lh3.googleusercontent.com/UiNooY4LUgW_oTvpsNhPpQzsstV5W8F7rYgxgGBD85cWJoLmrOzhVs_ksK_vgx40SHs7jCqkTkCk=e14-rj-sc0xffffff-h130-w32\" alt=\"Vertex AI logo\"><br> Open in Vertex AI Workbench\n",
    "    </a>\n",
    "  </td>\n",
    "  <td style=\"text-align: center\">\n",
    "    <a href=\"https://art-analytics.appspot.com/r.html?uaid=G-FHXEFWTT4E&utm_source=aRT-ds_agapi_notebook-from_notebook-github&utm_medium=aRT-clicks&utm_campaign=ds_agapi_notebook-from_notebook-github&destination=ds_agapi_notebook-from_notebook-github&url=https%3A%2F%2Fgithub.com%2FGoogleCloudPlatform%2Fapplied-ai-engineering-samples%2Fblob%2Fagents-api-notebooks%2Fgenai-on-vertex-ai%2Fvertex_ai_agent_api%2Fnotebooks%2Fdata_scientist_vertex_ai_agent_api.ipynb\">\n",
    "      <img src=\"https://cloud.google.com/ml-engine/images/github-logo-32px.png\" alt=\"GitHub logo\"><br> View on GitHub\n",
    "    </a>\n",
    "  </td>\n",
    "</table>"
   ]
  },
  {
   "cell_type": "markdown",
   "metadata": {
    "id": "ocycMnwJGUii"
   },
   "source": [
    "| | |\n",
    "|----------|-------------|\n",
    "| Author(s)   | Christos Aniftos |\n",
    "| Reviewer(s) | Meltem Subasioglu, Michael Sherman |\n",
    "| Last updated | 2024 07 22: Private Preview Release  |\n",
    "| | 2024 04 10: Initial Publication  |"
   ]
  },
  {
   "cell_type": "markdown",
   "metadata": {
    "id": "FlkJDD0nGUij"
   },
   "source": [
    "# Overview\n",
    "\n",
    "This notebook shows how to use the [Vertex AI Agent API](https://cloud.google.com/vertex-ai/generative-ai/docs/agent-api/overview) with the [Code Interpreter Extension](https://cloud.google.com/vertex-ai/generative-ai/docs/extensions/code-interpreter) to ingest and analyse data from a CSV file.\n",
    "\n",
    "A data scientist agent with a code interpreter is a powerful tool that simplifies data analysis. Regardless if you are a data analyst or a data scientist, this agent accelerates velocity of data exploration in a conversational format. It's like having a personal data expert assistant who understands your questions and by following your guidance, figures out the best way to analyse your data, performs the analysis, and presents the results in an easy-to-understand way.  This efficient, accurate, and accessible approach uncovers hidden insights, saves you time and effort, and empowers you to make informed decisions based on clear, actionable results.\n",
    "\n",
    "\n",
    "In this notebook you will do the following:\n",
    "- Ingest a CSV data file.\n",
    "- Understand the dataset using the agent to explain the data and plot charts.\n",
    "- Manipulate the data, including removing columns and replacing missing values.\n",
    "- Ask questions about statistics.\n",
    "- Export your final amended dataset.\n",
    "\n",
    "In addition to Vertex AI Agent API, this notebook uses the [Code Interpreter extension](https://cloud.google.com/vertex-ai/generative-ai/docs/extensions/code-interpreter). In the last step of this notebook a playground UI based on Gradio is provided in order to interrogate your data using a chat UI."
   ]
  },
  {
   "cell_type": "markdown",
   "metadata": {
    "id": "ZIBXCGNGfPKL"
   },
   "source": [
    "TODO: Update getting started notebook link for public preview.\n",
    "\n",
    "If you're new to Google Cloud, Vertex AI, or the Vertex AI Agent API you may want to look at the [Getting Started with Vertex AI Agent notebook](https://github.com/GoogleCloudPlatform/applied-ai-engineering-samples/blob/main/genai-on-vertex-ai/vertex_ai_agent_api/notebooks/getting_started_vertex_agent_api.ipynb.ipynb), which contains an overview of how to use Vertex AI Agent through a basic agent example, and troubleshooting tips.\n"
   ]
  },
  {
   "cell_type": "markdown",
   "metadata": {
    "id": "KUXzlvfpn513"
   },
   "source": [
    " ## Vertex AI Agent API\n",
    "\n",
    "[Vertex AI Agent API](https://cloud.google.com/vertex-ai/generative-ai/docs/agent-api/overview) is an API for creating and managing Generative AI systems called \"agents\" that can  reason, plan, and act to perform specific tasks.\n",
    "\n",
    " Vertex AI Agent API offers faster time to market than building agents from scratch while still being flexible and customizable. It handles orchestraction and state management, gives you the benefits of Google's expertise in building reliable AI systems, scales in a secure and responsible way, and seamlessly integrates with other Vertex AI and Google Cloud products."
   ]
  },
  {
   "cell_type": "markdown",
   "metadata": {
    "id": "uNriTZl70OdV"
   },
   "source": [
    "## Using This Notebook\n",
    "\n",
    "TODO: Update getting started notebook link at public preview.\n",
    "TODO: Update environment/versions the notebook has been tested in at public preview.\n",
    "\n",
    "Colab is recommended for running this notebook, but it can run in any iPython environment where you can connect to Google Cloud, install pip packages, etc.\n",
    "\n",
    "If you're running outside of Colab and encountering issues, the [Getting Started with Vertex AI Agent notebook](https://github.com/GoogleCloudPlatform/applied-ai-engineering-samples/blob/main/genai-on-vertex-ai/vertex_ai_agent_api/notebooks/getting_started_vertex_agent_api.ipynb.ipynb) has some troubleshooting tips.\n",
    "\n",
    "This tutorial uses the following Google Cloud services and resources:\n",
    "\n",
    "* [Vertex AI Agent API](https://cloud.google.com/vertex-ai/generative-ai/docs/agent-api/overview)\n",
    "* [Code Interpreter Extension](https://cloud.google.com/vertex-ai/generative-ai/docs/extensions/code-interpreter)\n",
    "\n",
    "This notebook has been tested in the following environment:\n",
    "\n",
    "* Python version = 3.10.12 UPDATE\n",
    "* [google-cloud-aiplatform](https://pypi.org/project/google-cloud-aiplatform/) version = 1.60\n"
   ]
  },
  {
   "cell_type": "markdown",
   "metadata": {
    "id": "Ar0aDcql1dxl"
   },
   "source": [
    "## Useful Tips\n",
    "\n",
    "1. This notebook uses Generative AI cababilities. Re-running a cell that uses Generative AI capabilities may produce similar but not identical results.\n",
    "2. Because of #1, it is possible that an output produces errors. If that happens re-run the cell that produced the error. The re-run will likely be bug free.\n",
    "3. The use of Generative AI capabilities is subject to service quotas. Running the notebook using \"Run All\" may exceed your queries per minute (QPM) limitations. Run the notebook manually and if you get a quota error pause for up to 1 minute before retrying that cell. The Vertex AI Agent API defaults to Gemini on the backend and is subject to the Gemini quotas, [view your Gemini quotas here](https://console.cloud.google.com/iam-admin/quotas?pageState=(%22allQuotasTable%22:(%22f%22:%22%255B%257B_22k_22_3A_22_22_2C_22t_22_3A10_2C_22v_22_3A_22_5C_22base_model_5C_22_22%257D_2C%257B_22k_22_3A_22_22_2C_22t_22_3A10_2C_22v_22_3A_22_5C_22gemini_5C_22_22%257D%255D%22%29%29&e=13802955&mods=logs_tg_staging).\n"
   ]
  },
  {
   "cell_type": "markdown",
   "metadata": {
    "id": "PO_tnShTGUik"
   },
   "source": [
    "# Setup"
   ]
  },
  {
   "cell_type": "markdown",
   "metadata": {
    "id": "XLf5oGqHn_DH"
   },
   "source": [
    "## Enable APIs and Set Permissions\n",
    "\n",
    "Enable the [Vertex AI API](https://console.cloud.google.com/flows/enableapi?apiid=aiplatform.googleapis.com)\n",
    "\n",
    "Make sure you have been [granted the roles](https://cloud.google.com/iam/docs/granting-changing-revoking-access) for the GCP project you'll access from this notebook:\n",
    "* [`roles/aiplatform.user`](https://cloud.google.com/vertex-ai/docs/general/access-control#aiplatform.user)\n",
    "\n"
   ]
  },
  {
   "cell_type": "markdown",
   "metadata": {
    "id": "7plalcaLGUik",
    "tags": []
   },
   "source": [
    "## Authenticate\n",
    "\n",
    "TODO: Update getting started notebook link at public preview.\n",
    "\n",
    "If you outside of Colab and are having problems authenticating, see the Authentication section in the [Getting Started with the Vertex AI Agent API](https://github.com/GoogleCloudPlatform/applied-ai-engineering-samples/blob/agents-api-notebooks/genai-on-vertex-ai/vertex_ai_agent_api/notebooks/getting_started_vertex_agent_api.ipynb) notebook."
   ]
  },
  {
   "cell_type": "code",
   "execution_count": null,
   "metadata": {
    "id": "THYfMKWMGUil"
   },
   "outputs": [],
   "source": [
    "# Colab authentication.\n",
    "import sys\n",
    "\n",
    "if \"google.colab\" in sys.modules:\n",
    "    from google.colab import auth\n",
    "    auth.authenticate_user()\n",
    "    print(\"Authenticated\")"
   ]
  },
  {
   "cell_type": "markdown",
   "metadata": {
    "id": "JdU-qMmbpR8r"
   },
   "source": [
    "## Install the Google Cloud Vertex AI Python SDK\n",
    "\n",
    "TODO: Update to public pip and retest notebook (in and out of colab) at public preview.\n",
    "\n",
    "The code blocks below download and install the Vertex AI Agent API Python SDK."
   ]
  },
  {
   "cell_type": "code",
   "execution_count": null,
   "metadata": {
    "tags": []
   },
   "outputs": [],
   "source": [
    "!gsutil cp gs://vertex_agents_private_releases/vertex_agents/google_cloud_aiplatform-1.60.dev20240710+vertex.agents-py2.py3-none-any.whl ."
   ]
  },
  {
   "cell_type": "code",
   "execution_count": 1,
   "metadata": {
    "id": "lHEI7wZMhZPd",
    "tags": []
   },
   "outputs": [
    {
     "name": "stdout",
     "output_type": "stream",
     "text": [
      "\n",
      "\u001b[1m[\u001b[0m\u001b[34;49mnotice\u001b[0m\u001b[1;39;49m]\u001b[0m\u001b[39;49m A new release of pip is available: \u001b[0m\u001b[31;49m23.0.1\u001b[0m\u001b[39;49m -> \u001b[0m\u001b[32;49m24.1.2\u001b[0m\n",
      "\u001b[1m[\u001b[0m\u001b[34;49mnotice\u001b[0m\u001b[1;39;49m]\u001b[0m\u001b[39;49m To update, run: \u001b[0m\u001b[32;49mpython -m pip install --upgrade pip\u001b[0m\n",
      "Note: you may need to restart the kernel to use updated packages.\n",
      "\n",
      "\u001b[1m[\u001b[0m\u001b[34;49mnotice\u001b[0m\u001b[1;39;49m]\u001b[0m\u001b[39;49m A new release of pip is available: \u001b[0m\u001b[31;49m23.0.1\u001b[0m\u001b[39;49m -> \u001b[0m\u001b[32;49m24.1.2\u001b[0m\n",
      "\u001b[1m[\u001b[0m\u001b[34;49mnotice\u001b[0m\u001b[1;39;49m]\u001b[0m\u001b[39;49m To update, run: \u001b[0m\u001b[32;49mpython -m pip install --upgrade pip\u001b[0m\n",
      "Note: you may need to restart the kernel to use updated packages.\n",
      "\n",
      "\u001b[1m[\u001b[0m\u001b[34;49mnotice\u001b[0m\u001b[1;39;49m]\u001b[0m\u001b[39;49m A new release of pip is available: \u001b[0m\u001b[31;49m23.0.1\u001b[0m\u001b[39;49m -> \u001b[0m\u001b[32;49m24.1.2\u001b[0m\n",
      "\u001b[1m[\u001b[0m\u001b[34;49mnotice\u001b[0m\u001b[1;39;49m]\u001b[0m\u001b[39;49m To update, run: \u001b[0m\u001b[32;49mpython -m pip install --upgrade pip\u001b[0m\n",
      "Note: you may need to restart the kernel to use updated packages.\n",
      "\n",
      "\u001b[1m[\u001b[0m\u001b[34;49mnotice\u001b[0m\u001b[1;39;49m]\u001b[0m\u001b[39;49m A new release of pip is available: \u001b[0m\u001b[31;49m23.0.1\u001b[0m\u001b[39;49m -> \u001b[0m\u001b[32;49m24.1.2\u001b[0m\n",
      "\u001b[1m[\u001b[0m\u001b[34;49mnotice\u001b[0m\u001b[1;39;49m]\u001b[0m\u001b[39;49m To update, run: \u001b[0m\u001b[32;49mpython -m pip install --upgrade pip\u001b[0m\n",
      "Note: you may need to restart the kernel to use updated packages.\n",
      "\n",
      "\u001b[1m[\u001b[0m\u001b[34;49mnotice\u001b[0m\u001b[1;39;49m]\u001b[0m\u001b[39;49m A new release of pip is available: \u001b[0m\u001b[31;49m23.0.1\u001b[0m\u001b[39;49m -> \u001b[0m\u001b[32;49m24.1.2\u001b[0m\n",
      "\u001b[1m[\u001b[0m\u001b[34;49mnotice\u001b[0m\u001b[1;39;49m]\u001b[0m\u001b[39;49m To update, run: \u001b[0m\u001b[32;49mpython -m pip install --upgrade pip\u001b[0m\n",
      "Note: you may need to restart the kernel to use updated packages.\n",
      "Collecting mimetype\n",
      "  Using cached mimetype-0.1.5-py3-none-any.whl (29 kB)\n",
      "Collecting enumb<0.2.0,>=0.1.2\n",
      "  Using cached enumb-0.1.5-py3-none-any.whl (4.6 kB)\n",
      "Collecting expo<0.2.0,>=0.1.1\n",
      "  Using cached expo-0.1.2-py3-none-any.whl (2.5 kB)\n",
      "Collecting cassidy<0.2.0,>=0.1.2\n",
      "  Using cached cassidy-0.1.4-py3-none-any.whl (6.2 kB)\n",
      "Installing collected packages: expo, cassidy, enumb, mimetype\n",
      "Successfully installed cassidy-0.1.4 enumb-0.1.5 expo-0.1.2 mimetype-0.1.5\n",
      "\n",
      "\u001b[1m[\u001b[0m\u001b[34;49mnotice\u001b[0m\u001b[1;39;49m]\u001b[0m\u001b[39;49m A new release of pip is available: \u001b[0m\u001b[31;49m23.0.1\u001b[0m\u001b[39;49m -> \u001b[0m\u001b[32;49m24.1.2\u001b[0m\n",
      "\u001b[1m[\u001b[0m\u001b[34;49mnotice\u001b[0m\u001b[1;39;49m]\u001b[0m\u001b[39;49m To update, run: \u001b[0m\u001b[32;49mpython -m pip install --upgrade pip\u001b[0m\n",
      "Note: you may need to restart the kernel to use updated packages.\n",
      "Collecting ipywidgets\n",
      "  Using cached ipywidgets-8.1.3-py3-none-any.whl (139 kB)\n",
      "Requirement already satisfied: comm>=0.1.3 in /home/jupyter/envs/chris_env3/lib/python3.10/site-packages (from ipywidgets) (0.2.2)\n",
      "Collecting jupyterlab-widgets~=3.0.11\n",
      "  Using cached jupyterlab_widgets-3.0.11-py3-none-any.whl (214 kB)\n",
      "Collecting widgetsnbextension~=4.0.11\n",
      "  Using cached widgetsnbextension-4.0.11-py3-none-any.whl (2.3 MB)\n",
      "Requirement already satisfied: traitlets>=4.3.1 in /home/jupyter/envs/chris_env3/lib/python3.10/site-packages (from ipywidgets) (5.14.3)\n",
      "Requirement already satisfied: ipython>=6.1.0 in /home/jupyter/envs/chris_env3/lib/python3.10/site-packages (from ipywidgets) (8.26.0)\n",
      "Requirement already satisfied: matplotlib-inline in /home/jupyter/envs/chris_env3/lib/python3.10/site-packages (from ipython>=6.1.0->ipywidgets) (0.1.7)\n",
      "Requirement already satisfied: exceptiongroup in /home/jupyter/envs/chris_env3/lib/python3.10/site-packages (from ipython>=6.1.0->ipywidgets) (1.2.2)\n",
      "Requirement already satisfied: decorator in /home/jupyter/envs/chris_env3/lib/python3.10/site-packages (from ipython>=6.1.0->ipywidgets) (5.1.1)\n",
      "Requirement already satisfied: jedi>=0.16 in /home/jupyter/envs/chris_env3/lib/python3.10/site-packages (from ipython>=6.1.0->ipywidgets) (0.19.1)\n",
      "Requirement already satisfied: pexpect>4.3 in /home/jupyter/envs/chris_env3/lib/python3.10/site-packages (from ipython>=6.1.0->ipywidgets) (4.9.0)\n",
      "Requirement already satisfied: prompt-toolkit<3.1.0,>=3.0.41 in /home/jupyter/envs/chris_env3/lib/python3.10/site-packages (from ipython>=6.1.0->ipywidgets) (3.0.47)\n",
      "Requirement already satisfied: pygments>=2.4.0 in /home/jupyter/envs/chris_env3/lib/python3.10/site-packages (from ipython>=6.1.0->ipywidgets) (2.18.0)\n",
      "Requirement already satisfied: typing-extensions>=4.6 in /home/jupyter/envs/chris_env3/lib/python3.10/site-packages (from ipython>=6.1.0->ipywidgets) (4.12.2)\n",
      "Requirement already satisfied: stack-data in /home/jupyter/envs/chris_env3/lib/python3.10/site-packages (from ipython>=6.1.0->ipywidgets) (0.6.3)\n",
      "Requirement already satisfied: parso<0.9.0,>=0.8.3 in /home/jupyter/envs/chris_env3/lib/python3.10/site-packages (from jedi>=0.16->ipython>=6.1.0->ipywidgets) (0.8.4)\n",
      "Requirement already satisfied: ptyprocess>=0.5 in /home/jupyter/envs/chris_env3/lib/python3.10/site-packages (from pexpect>4.3->ipython>=6.1.0->ipywidgets) (0.7.0)\n",
      "Requirement already satisfied: wcwidth in /home/jupyter/envs/chris_env3/lib/python3.10/site-packages (from prompt-toolkit<3.1.0,>=3.0.41->ipython>=6.1.0->ipywidgets) (0.2.13)\n",
      "Requirement already satisfied: executing>=1.2.0 in /home/jupyter/envs/chris_env3/lib/python3.10/site-packages (from stack-data->ipython>=6.1.0->ipywidgets) (2.0.1)\n",
      "Requirement already satisfied: pure-eval in /home/jupyter/envs/chris_env3/lib/python3.10/site-packages (from stack-data->ipython>=6.1.0->ipywidgets) (0.2.3)\n",
      "Requirement already satisfied: asttokens>=2.1.0 in /home/jupyter/envs/chris_env3/lib/python3.10/site-packages (from stack-data->ipython>=6.1.0->ipywidgets) (2.4.1)\n",
      "Requirement already satisfied: six>=1.12.0 in /home/jupyter/envs/chris_env3/lib/python3.10/site-packages (from asttokens>=2.1.0->stack-data->ipython>=6.1.0->ipywidgets) (1.16.0)\n",
      "Installing collected packages: widgetsnbextension, jupyterlab-widgets, ipywidgets\n",
      "Successfully installed ipywidgets-8.1.3 jupyterlab-widgets-3.0.11 widgetsnbextension-4.0.11\n",
      "\n",
      "\u001b[1m[\u001b[0m\u001b[34;49mnotice\u001b[0m\u001b[1;39;49m]\u001b[0m\u001b[39;49m A new release of pip is available: \u001b[0m\u001b[31;49m23.0.1\u001b[0m\u001b[39;49m -> \u001b[0m\u001b[32;49m24.1.2\u001b[0m\n",
      "\u001b[1m[\u001b[0m\u001b[34;49mnotice\u001b[0m\u001b[1;39;49m]\u001b[0m\u001b[39;49m To update, run: \u001b[0m\u001b[32;49mpython -m pip install --upgrade pip\u001b[0m\n",
      "Note: you may need to restart the kernel to use updated packages.\n"
     ]
    }
   ],
   "source": [
    "#TODO: Replace with the public vertex sdk lib when it is released\n",
    "\n",
    "%pip install --upgrade --force-reinstall -q google_cloud_aiplatform-1.60.dev20240710+vertex.agents-py2.py3-none-any.whl --no-warn-conflicts\n",
    "%pip install --quiet -U \"pandas==2.2.2\"\n",
    "%pip install --quiet -U \"numpy<2\"\n",
    "%pip install --quiet \"gradio==4.38.1\"\n",
    "%pip install --quiet \"pydub==0.25.1\"\n",
    "\n",
    "# Outside of Colab, you may need to install the following:\n",
    "# %pip install mimetype\n",
    "# %pip install ipywidgets"
   ]
  },
  {
   "cell_type": "markdown",
   "metadata": {
    "id": "R5Xep4W9lq-Z"
   },
   "source": [
    "### Restart Runtime\n",
    "\n",
    "You may need to restart your notebook runtime to use the Vertex AI SDK. You can do this by running the cell below, which restarts the current kernel.\n",
    "\n",
    "You may see the restart reported as a crash, but it is working as-intended -- you are merely restarting the runtime.\n",
    "\n",
    "The restart might take a minute or longer. After its restarted, continue to the next step."
   ]
  },
  {
   "cell_type": "code",
   "execution_count": 2,
   "metadata": {
    "id": "XRvKdaPDTznN",
    "tags": []
   },
   "outputs": [
    {
     "data": {
      "text/plain": [
       "{'status': 'ok', 'restart': True}"
      ]
     },
     "execution_count": 2,
     "metadata": {},
     "output_type": "execute_result"
    }
   ],
   "source": [
    "import IPython\n",
    "\n",
    "app = IPython.Application.instance()\n",
    "app.kernel.do_shutdown(True)"
   ]
  },
  {
   "cell_type": "markdown",
   "metadata": {
    "id": "SbmM4z7FOBpM"
   },
   "source": [
    "<div class=\"alert alert-block alert-warning\">\n",
    "<b>⚠️ The kernel is going to restart. Please wait until it is finished before continuing to the next step. ⚠️</b>\n",
    "</div>\n"
   ]
  },
  {
   "cell_type": "markdown",
   "metadata": {
    "id": "init_aip:mbsdk,all"
   },
   "source": [
    "# Initialize the Google Cloud Vertex AI Python SDK\n",
    "\n"
   ]
  },
  {
   "cell_type": "markdown",
   "metadata": {
    "id": "WReHDGG5g0XY"
   },
   "source": [
    "### Set Your Project ID\n",
    "\n"
   ]
  },
  {
   "cell_type": "code",
   "execution_count": 1,
   "metadata": {
    "id": "oM1iC_MfAts1",
    "tags": []
   },
   "outputs": [],
   "source": [
    "PROJECT_ID = \"YOUR_PROJECT_ID_HERE\"  # @param {type:\"string\"}"
   ]
  },
  {
   "cell_type": "markdown",
   "metadata": {
    "id": "region"
   },
   "source": [
    "### Set the Region"
   ]
  },
  {
   "cell_type": "code",
   "execution_count": 2,
   "metadata": {
    "id": "Cg9uNa6rlyWx",
    "tags": []
   },
   "outputs": [],
   "source": [
    "REGION = \"us-central1\"  # @param {type: \"string\"}"
   ]
  },
  {
   "cell_type": "markdown",
   "metadata": {
    "id": "6-NbHLWtu-iW"
   },
   "source": [
    "### Import and Initialize the Vertex AI Python SDK"
   ]
  },
  {
   "cell_type": "code",
   "execution_count": 3,
   "metadata": {
    "id": "KhnzTqS8iOJC",
    "tags": []
   },
   "outputs": [],
   "source": [
    "# TODO: Remove API_ENDPOINT to use default for public prev.\n",
    "\n",
    "import vertexai\n",
    "API_ENDPOINT = 'us-central1-autopush-aiplatform.sandbox.googleapis.com'\n",
    "\n",
    "vertexai.init(project=PROJECT_ID, location=REGION, api_endpoint=API_ENDPOINT)"
   ]
  },
  {
   "cell_type": "markdown",
   "metadata": {
    "id": "5Wi3ZigPrnp8"
   },
   "source": [
    "# Setup the Code Interpreter Extension\n",
    "Code Interpreter is provided by Google, so you can load it directly. For more information on how you can use the code interpreter extension refer to the official [Code Interpreter Extension documentation](https://cloud.google.com/vertex-ai/generative-ai/docs/extensions/code-interpreter)."
   ]
  },
  {
   "cell_type": "code",
   "execution_count": 4,
   "metadata": {
    "id": "_58pR8tm--8Z",
    "tags": []
   },
   "outputs": [
    {
     "name": "stderr",
     "output_type": "stream",
     "text": [
      "WARNING: All log messages before absl::InitializeLog() is called are written to STDERR\n",
      "I0000 00:00:1721672610.583551   63247 config.cc:230] gRPC experiments enabled: call_status_override_on_cancellation, event_engine_dns, event_engine_listener, http2_stats_fix, monitoring_experiment, pick_first_new, trace_record_callops, work_serializer_clears_time_cache\n"
     ]
    },
    {
     "name": "stdout",
     "output_type": "stream",
     "text": [
      "Creating Extension\n",
      "Create Extension backing LRO: projects/576846354766/locations/us-central1/extensions/2264897196195315712/operations/2337568730038403072\n",
      "Extension created. Resource name: projects/576846354766/locations/us-central1/extensions/2264897196195315712\n",
      "To use this Extension in another session:\n",
      "extension = vertexai.preview.extensions.Extension('projects/576846354766/locations/us-central1/extensions/2264897196195315712')\n"
     ]
    },
    {
     "data": {
      "text/plain": [
       "<vertexai.extensions._extensions.Extension object at 0x7f8ebf689b10> \n",
       "resource name: projects/576846354766/locations/us-central1/extensions/2264897196195315712"
      ]
     },
     "execution_count": 4,
     "metadata": {},
     "output_type": "execute_result"
    }
   ],
   "source": [
    "from vertexai.preview import extensions\n",
    "extension_code_interpreter = extensions.Extension.from_hub(\"code_interpreter\")\n",
    "extension_code_interpreter"
   ]
  },
  {
   "cell_type": "markdown",
   "metadata": {
    "id": "LOVSqSlR_EBu"
   },
   "source": [
    "Confirm your Code Interpreter extension is registered:"
   ]
  },
  {
   "cell_type": "code",
   "execution_count": 5,
   "metadata": {
    "id": "asdf7Y_U_CuR",
    "tags": []
   },
   "outputs": [
    {
     "name": "stdout",
     "output_type": "stream",
     "text": [
      "Name: projects/576846354766/locations/us-central1/extensions/2264897196195315712\n",
      "Display Name: Code Interpreter\n",
      "Description: This extension generates and executes code in the specified language\n"
     ]
    }
   ],
   "source": [
    "print(\"Name:\", extension_code_interpreter.gca_resource.name)\n",
    "print(\"Display Name:\", extension_code_interpreter.gca_resource.display_name)\n",
    "print(\"Description:\", extension_code_interpreter.gca_resource.description)"
   ]
  },
  {
   "cell_type": "markdown",
   "metadata": {
    "id": "_jTqEZB3_ngT"
   },
   "source": [
    "# Setup the Data Science Agent with Code Interpreter\n",
    "In this section we will create a data science Vertex AI Agent with a code interpreter extension. Agents are able to use tools to perform specific actions. The data science agent will be able to use the code interpreter extension as a tool to write and execute Python code, necessary for performing data operations."
   ]
  },
  {
   "cell_type": "code",
   "execution_count": 6,
   "metadata": {
    "id": "ZCti-l0G_n3h",
    "tags": []
   },
   "outputs": [],
   "source": [
    "from google.cloud.aiplatform.private_preview.vertex_agents.app import App, Session\n",
    "from google.cloud.aiplatform.private_preview.vertex_agents.agent import Agent\n",
    "\n",
    "from google.cloud import aiplatform\n",
    "\n",
    "DISPLAY_NAME = \"Data Science Agent\"\n",
    "INSTRUCTIONS = \"\"\"\n",
    "You are a senior data scientist! Please help users analyze data, generate graphs, and provide explanations on why you are performing specific actions.\n",
    "For complicated data operations only respond based on the response of the tools you have available. For basic knowledge you can use your own embedded knowledge.\n",
    "\n",
    "\n",
    "Instructions:\n",
    "- Use code interpreter to do operations on the data like analysis on manipulation of the data that requires coding.\n",
    "\"\"\"\n",
    "\n",
    "app = App.create_single_agent_app( agent_display_name=DISPLAY_NAME,\n",
    "                                   instructions=INSTRUCTIONS,\n",
    "                                   extensions={'Code Interpreter':extension_code_interpreter})"
   ]
  },
  {
   "cell_type": "markdown",
   "metadata": {
    "id": "Ccsww1IaCKtN"
   },
   "source": [
    "# Vertex AI Agent Helper Functions\n",
    "\n",
    "These functions are optional when using the Vertex AI Agent API but make it easier to visualise the responses from agents."
   ]
  },
  {
   "cell_type": "markdown",
   "metadata": {
    "id": "bZ3-hDYiQ1F-"
   },
   "source": [
    "## `response_to_html`\n",
    "\n",
    "`response_to_html` processes the response from the agent into an HTML format. The response might contain images and text. HTML allows easier visualisation of such a response.\n",
    "\n",
    "**To use this functionality** call `response_to_html(response)`, where `response` is the `response` object returned when querying the agent.\n"
   ]
  },
  {
   "cell_type": "code",
   "execution_count": 7,
   "metadata": {
    "id": "T0ePCXeuCgVH",
    "tags": []
   },
   "outputs": [],
   "source": [
    "from proto import Message as pmsg\n",
    "import base64\n",
    "\n",
    "def response_to_html(result):\n",
    "  images = []\n",
    "  text = []\n",
    "  response = pmsg.to_dict(result.content,\n",
    "              use_integers_for_enums=False,\n",
    "              including_default_value_fields=False,\n",
    "              preserving_proto_field_name=True\n",
    "  )\n",
    "  html = \"\"\n",
    "  html_images = \"\"\n",
    "  html_links = \"\"\n",
    "  csv_counter = 1\n",
    "  for p in response.get('parts'):\n",
    "    if p.get(\"inline_data\"):\n",
    "      mime_type = p.get(\"inline_data\").get('mime_type', None)\n",
    "      if mime_type == \"image/png\":\n",
    "        c = p.get(\"inline_data\").get('data', None)\n",
    "        html_images +=  ('<img src=\"data:image/png;base64, '\n",
    "                                f'{c}\" />')\n",
    "      if mime_type == \"text/csv\":\n",
    "        c = p.get(\"inline_data\").get('data', None)\n",
    "        if c is not None:\n",
    "          temp_file_name = f\"file_{csv_counter}.csv\"\n",
    "          html_links += f'<li><a href=\"data:text/csv;base64,{c}\">{temp_file_name}</a></li>'\n",
    "\n",
    "    if 'text' in p:\n",
    "      text.append(p['text'])\n",
    "\n",
    "  if html_images != \"\":\n",
    "    html += '<h3>Images generated: </h3><pre>'+html_images+'</pre>'\n",
    "  if html_links != \"\":\n",
    "    html += '<h3>CSV files generated: </h3><pre><ul>'+html_links+'</ul></pre>'\n",
    "  html += \"<h3>Results: </h3><pre>\"+\"\\n\".join(text)+\"</pre>\"\n",
    "\n",
    "  return html"
   ]
  },
  {
   "cell_type": "markdown",
   "metadata": {
    "id": "xxhd6i3jR008"
   },
   "source": [
    "## `ds_agent`\n",
    "\n",
    "`ds_agent` is used to forward your query to get results from the agent app and returns the results object. Optionally an HTML version of the results is printed in the function. The default operation is to print the HTML inline.\n",
    "\n",
    "**To use this functionality** call `ds_agent(query: str, session, encoded_data_list: list[bytes] = None, showHTML=True)` where:\n",
    "* The `query` contains the ask to the agent.\n",
    "* The `session` object holds the current stage of the conversation with the agent. This is helpful so that the agent maintains the conversation history and all data injected up to this point.\n",
    "* The `encoded_data_list` is a list of encoded data submitted to the agent. This is how you can provide a CSV data file to the agent at the beginning of your interaction.\n",
    "* `showHTML` if it is set to true it prints the html version of the result in line."
   ]
  },
  {
   "cell_type": "code",
   "execution_count": 8,
   "metadata": {
    "id": "qDK18iyCCo5n",
    "tags": []
   },
   "outputs": [],
   "source": [
    "import IPython\n",
    "from google.cloud.aiplatform.private_preview.vertex_agents.gapic import types\n",
    "\n",
    "def ds_agent(query: str, session, encoded_data_list: list[bytes] = None, showHTML=True) -> None:\n",
    "\n",
    "  content = [types.Part(text=query)]\n",
    "\n",
    "  if encoded_data_list is not None:\n",
    "    for ed in encoded_data_list:\n",
    "      content.append(types.Part(\n",
    "              inline_data=types.Blob(\n",
    "                  data=ed['data'], mime_type=ed['mimetype']\n",
    "              )))\n",
    "  result = session.run(content=content)\n",
    "\n",
    "  html = response_to_html(result)\n",
    "  if (showHTML):\n",
    "    display(\n",
    "        IPython.display.HTML(\n",
    "          html\n",
    "            )\n",
    "    )\n",
    "\n",
    "  return {'row': result, 'html': html}"
   ]
  },
  {
   "cell_type": "markdown",
   "metadata": {
    "id": "vL_9sbfedSEM"
   },
   "source": [
    "## `gradio_agent`\n",
    "\n",
    "`gradio_agent` is used by Gradio as your playground app (at the end of this notebook) to send requests to the agent and get responses.\n",
    "The response is in HTML so that gradio can visualise the images and text."
   ]
  },
  {
   "cell_type": "code",
   "execution_count": 9,
   "metadata": {
    "id": "aB6Wms8ERkdj",
    "tags": []
   },
   "outputs": [],
   "source": [
    "import gradio as gr\n",
    "import mimetypes\n",
    "def gradio_agent(message, history):\n",
    "    global session\n",
    "    if session is None or message['text']==\"session:reset\":\n",
    "      session = app.start_session()\n",
    "      return \"<p>New session Started. Please upload a CSV with the data you want to analyse with your first input </p><hr />\"\n",
    "    ecoded_data = []\n",
    "    for f in message.get('files', None):\n",
    "      with open(f['path'], \"rb\") as attachment:\n",
    "        ecoded_data.append({'data': base64.b64encode(attachment.read()), 'mimetype': mimetypes.guess_type(f['path'])[0]})\n",
    "    return ds_agent(query=message['text'], session=session, encoded_data_list=ecoded_data, showHTML=False).get('html', '')"
   ]
  },
  {
   "cell_type": "markdown",
   "metadata": {
    "id": "i4FUvI0qhcoF"
   },
   "source": [
    "# Create the Data\n",
    "The following code writes a local CSV file of synthetic data. This is a simple dataset of students containing attributes about sleeping and eating habits along with academic performance. This dataset is fictional and does not represent reality. It is only used for demonstration.\n"
   ]
  },
  {
   "cell_type": "code",
   "execution_count": 10,
   "metadata": {
    "cellView": "form",
    "id": "p2ddx8pIii4D",
    "tags": []
   },
   "outputs": [
    {
     "name": "stdout",
     "output_type": "stream",
     "text": [
      "Overwriting students.csv\n"
     ]
    }
   ],
   "source": [
    "%%writefile students.csv\n",
    "StudentID,Gender,ExtraActivitiesGroup,EatingHabits,SleepingHabits,Reading,Writing,Maths\n",
    "1,Male,nan,Healthy,Satisfactory,75,80,78\n",
    "2,Female,Group B,Mixed,Non-Satisfactory,nan,70,67\n",
    "3,nan,Group A,Unhealthy,Satisfactory,55,60,58\n",
    "4,Female,Group C,Healthy,Non-Satisfactory,70,75,73\n",
    "5,Male,Group B,Mixed,Satisfactory,60,65,63\n",
    "6,Female,Group A,Unhealthy,Non-Satisfactory,50,55,53\n",
    "7,Male,Group C,Healthy,Satisfactory,80,85,83\n",
    "8,Female,Group B,Mixed,Non-Satisfactory,65,70,67\n",
    "9,Male,Group A,Unhealthy,Satisfactory,55,60,58\n",
    "10,Male,nan,Mixed,Non-Satisfactory,80,78,85\n",
    "11,Female,Group B,Unhealthy,Satisfactory,65,68,70\n",
    "12,Female,Group A,Healthy,Non-Satisfactory,52,57,55\n",
    "13,nan,Group C,Unhealthy,Satisfactory,78,75,79\n",
    "14,Female,Group B,Mixed,Non-Satisfactory,63,70,65\n",
    "15,Male,Group A,Healthy,Satisfactory,82,87,80\n",
    "16,Male,Group C,Unhealthy,Non-Satisfactory,57,60,54\n",
    "17,Female,Group A,Mixed,Satisfactory,67,65,63\n",
    "18,Male,Group B,Unhealthy,Non-Satisfactory,55,62,58\n",
    "19,nan,Group C,Healthy,Satisfactory,88,85,87\n",
    "20,Female,Group B,Mixed,Non-Satisfactory,67,75,68\n",
    "21,Male,Group A,Unhealthy,Satisfactory,53,58,55\n",
    "22,Female,Group C,Healthy,Non-Satisfactory,80,77,82\n",
    "23,Male,Group A,Mixed,Satisfactory,60,63,60\n",
    "24,Female,Group B,Unhealthy,Non-Satisfactory,65,62,60\n",
    "25,Male,Group C,Healthy,Satisfactory,90,92,88\n",
    "26,Female,Group B,Mixed,Non-Satisfactory,58,65,60\n",
    "27,Male,Group A,Unhealthy,Satisfactory,67,60,65\n",
    "28,Male,Group C,Healthy,Non-Satisfactory,72,78,73\n",
    "29,Female,Group A,Mixed,Satisfactory,55,62,58\n",
    "30,Male,Group B,Unhealthy,Non-Satisfactory,78,75,72\n",
    "31,Female,Group C,Healthy,Satisfactory,85,87,83\n",
    "32,Female,Group A,Mixed,Non-Satisfactory,70,65,67\n",
    "33,Male,Group B,Unhealthy,Satisfactory,62,67,65\n",
    "34,Male,Group C,Healthy,Non-Satisfactory,77,83,75\n",
    "35,nan,Group A,Mixed,Satisfactory,65,63,60\n",
    "36,Female,Group B,Unhealthy,Non-Satisfactory,72,78,70\n",
    "37,Male,Group C,Healthy,Satisfactory,80,87,83\n",
    "38,Female,Group A,Mixed,Non-Satisfactory,75,70,72\n",
    "39,Male,Group B,Unhealthy,Satisfactory,65,67,60\n",
    "40,nan,Group C,Healthy,Non-Satisfactory,82,88,80\n",
    "41,Female,Group A,Mixed,Satisfactory,77,72,70\n",
    "42,Male,Group B,Unhealthy,Non-Satisfactory,67,62,63\n",
    "43,Male,Group C,Healthy,Satisfactory,92,90,88\n",
    "44,Female,Group A,Mixed,Non-Satisfactory,80,75,77\n",
    "45,nan,Group B,Unhealthy,Satisfactory,72,75,73\n",
    "46,Female,Group C,Healthy,Non-Satisfactory,83,80,85\n",
    "47,Male,Group A,Mixed,Satisfactory,75,72,73\n",
    "48,Male,Group B,Unhealthy,Non-Satisfactory,60,63,58\n",
    "49,nan,Group C,Healthy,Satisfactory,90,92,88\n",
    "50,Female,Group A,Mixed,Non-Satisfactory,85,80,82\n",
    "51,Male,Group B,Unhealthy,Satisfactory,70,67,65\n",
    "52,Female,Group C,Healthy,Non-Satisfactory,78,83,77\n",
    "53,Male,Group B,Mixed,Satisfactory,65,63,62\n",
    "54,Male,Group A,Unhealthy,Non-Satisfactory,52,57,55\n",
    "55,nan,Group C,Healthy,Satisfactory,75,78,73\n",
    "56,Female,Group B,Mixed,Non-Satisfactory,70,77,72\n",
    "57,Male,Group A,Unhealthy,Satisfactory,62,65,63\n",
    "58,Female,Group C,Healthy,Non-Satisfactory,88,85,83\n",
    "59,Male,Group B,Mixed,Satisfactory,78,80,77\n",
    "60,nan,Group A,Unhealthy,Non-Satisfactory,67,60,65\n",
    "61,Female,Group C,Healthy,Satisfactory,83,80,82\n",
    "62,Male,Group B,Mixed,Non-Satisfactory,72,68,70\n",
    "63,Male,Group A,Unhealthy,Satisfactory,62,57,60\n",
    "64,Female,Group C,Healthy,Non-Satisfactory,90,87,88\n",
    "65,Male,Group B,Mixed,Satisfactory,85,82,80\n",
    "66,nan,Group A,Unhealthy,Non-Satisfactory,55,62,58\n",
    "67,Female,Group C,Healthy,Satisfactory,77,85,80\n",
    "68,Male,Group B,Mixed,Non-Satisfactory,65,72,67\n",
    "69,Male,Group A,Unhealthy,Satisfactory,67,60,68\n",
    "70,Female,Group C,Healthy,Non-Satisfactory,92,90,85\n",
    "71,Male,Group B,Mixed,Satisfactory,77,85,82\n",
    "72,nan,Group A,Unhealthy,Non-Satisfactory,62,55,60\n",
    "73,Female,Group C,Healthy,Satisfactory,83,87,85\n",
    "74,Male,Group B,Mixed,Non-Satisfactory,68,72,65\n",
    "75,Male,Group A,Unhealthy,Satisfactory,53,58,55\n",
    "76,nan,Group C,Healthy,Non-Satisfactory,88,83,87\n",
    "77,Female,Group B,Mixed,Satisfactory,72,70,73\n",
    "78,Male,Group A,Unhealthy,Non-Satisfactory,70,65,67\n",
    "79,Male,Group C,Healthy,Satisfactory,80,85,80\n",
    "80,Female,Group B,Mixed,Non-Satisfactory,75,72,75\n",
    "81,nan,Group A,Unhealthy,Satisfactory,55,60,58\n",
    "82,Female,Group C,Healthy,Non-Satisfactory,80,77,82\n",
    "83,Male,Group B,Mixed,Satisfactory,68,70,68\n",
    "84,Male,Group A,Unhealthy,Non-Satisfactory,62,57,63\n",
    "85,Female,Group C,Healthy,Satisfactory,90,92,88\n",
    "86,nan,Group B,Mixed,Non-Satisfactory,67,72,67\n",
    "87,Female,Group A,Unhealthy,Satisfactory,53,60,58\n",
    "88,Male,Group C,Healthy,Non-Satisfactory,75,78,73\n",
    "89,Male,Group B,Mixed,Satisfactory,82,80,83\n",
    "90,nan,Group A,Unhealthy,Non-Satisfactory,65,62,63\n",
    "91,Female,Group C,Healthy,Satisfactory,80,83,80\n",
    "92,Male,Group B,Mixed,Non-Satisfactory,85,80,82\n",
    "93,Male,Group A,Unhealthy,Satisfactory,62,67,65\n",
    "94,nan,Group C,Healthy,Non-Satisfactory,90,87,92\n",
    "95,Female,Group B,Mixed,Satisfactory,77,75,78\n",
    "96,Female,Group A,Unhealthy,Non-Satisfactory,67,60,68\n",
    "97,nan,Group C,Healthy,Satisfactory,77,83,78\n",
    "98,Male,Group B,Mixed,Non-Satisfactory,62,68,65\n",
    "99,Male,Group A,Unhealthy,Satisfactory,52,57,58\n",
    "100,Female,Group C,Healthy,Non-Satisfactory,72,75,77\n",
    "101,Male,Group B,Mixed,Satisfactory,70,67,72\n",
    "102,nan,Group A,Unhealthy,Non-Satisfactory,67,62,65\n",
    "103,Female,Group C,Healthy,Satisfactory,83,87,85\n",
    "104,Male,Group B,Mixed,Non-Satisfactory,80,77,82\n",
    "105,Male,Group A,Unhealthy,Satisfactory,55,62,53\n",
    "106,Female,Group C,Healthy,Non-Satisfactory,92,90,88\n",
    "107,nan,Group B,Mixed,Satisfactory,78,83,78\n",
    "108,Female,Group A,Unhealthy,Non-Satisfactory,72,65,70\n",
    "109,Male,Group C,Healthy,Satisfactory,83,80,85\n",
    "110,Female,Group B,Mixed,Non-Satisfactory,68,72,63\n",
    "111,Male,Group A,Unhealthy,Satisfactory,60,63,63\n",
    "112,nan,Group C,Healthy,Non-Satisfactory,72,78,73\n",
    "113,Female,Group B,Mixed,Satisfactory,80,83,83\n",
    "114,Male,Group A,Unhealthy,Non-Satisfactory,70,65,67\n",
    "115,Female,Group C,Healthy,Satisfactory,90,87,92\n",
    "116,Male,Group B,Mixed,Non-Satisfactory,85,82,80\n",
    "117,Male,Group A,Unhealthy,Satisfactory,52,57,55\n",
    "118,Female,Group C,Healthy,Non-Satisfactory,77,85,80\n",
    "119,nan,Group B,Mixed,Satisfactory,68,70,68\n",
    "120,Female,Group A,Unhealthy,Non-Satisfactory,53,60,58\n",
    "121,Male,Group C,Healthy,Satisfactory,75,80,77\n",
    "122,Female,Group B,Mixed,Non-Satisfactory,67,72,67\n",
    "123,Male,Group B,Unhealthy,Satisfactory,70,67,72\n",
    "124,Female,Group A,Mixed,Non-Satisfactory,62,57,60\n",
    "125,nan,Group C,Healthy,Satisfactory,80,83,80\n",
    "126,Male,Group B,Mixed,Non-Satisfactory,62,68,60\n",
    "127,Male,Group A,Unhealthy,Satisfactory,55,60,58\n",
    "128,Female,Group C,Healthy,Non-Satisfactory,92,90,85\n",
    "129,Male,Group B,Mixed,Satisfactory,85,82,80\n",
    "130,Female,Group A,Unhealthy,Non-Satisfactory,75,70,72\n",
    "131,nan,Group C,Healthy,Satisfactory,77,83,78\n",
    "132,Male,Group B,Mixed,Non-Satisfactory,80,77,82\n",
    "133,Male,Group A,Unhealthy,Satisfactory,62,67,60\n",
    "134,Female,Group C,Healthy,Non-Satisfactory,90,87,92\n",
    "135,Male,Group B,Mixed,Satisfactory,78,83,78\n",
    "136,Female,Group A,Unhealthy,Non-Satisfactory,55,62,58\n",
    "137,Male,Group C,Healthy,Satisfactory,80,83,80\n",
    "138,Male,Group B,Mixed,Non-Satisfactory,67,70,63\n",
    "139,nan,Group A,Unhealthy,Satisfactory,65,62,65\n",
    "140,Female,Group C,Healthy,Non-Satisfactory,88,83,87\n",
    "141,Female,Group B,Mixed,Satisfactory,70,77,70\n",
    "142,Male,Group A,Unhealthy,Non-Satisfactory,52,57,55\n",
    "143,Male,Group C,Healthy,Satisfactory,85,80,82\n",
    "144,Male,Group B,Mixed,Non-Satisfactory,82,80,83\n",
    "145,nan,Group A,Unhealthy,Satisfactory,60,63,63\n",
    "146,Female,Group C,Healthy,Non-Satisfactory,90,87,92\n",
    "147,Female,Group B,Mixed,Satisfactory,75,72,77\n",
    "148,Male,Group A,Unhealthy,Non-Satisfactory,57,60,54\n",
    "149,nan,Group C,Healthy,Satisfactory,80,85,82\n",
    "150,Female,Group B,Mixed,Non-Satisfactory,80,75,83\n",
    "151,Male,Group A,Unhealthy,Satisfactory,78,75,79\n",
    "152,Male,Group C,Healthy,Non-Satisfactory,92,90,88\n",
    "153,nan,Group B,Mixed,Satisfactory,65,63,62\n",
    "154,Female,Group A,Unhealthy,Non-Satisfactory,53,58,55\n",
    "155,Male,Group C,Healthy,Satisfactory,83,87,82\n",
    "156,Female,Group B,Mixed,Non-Satisfactory,85,80,83\n",
    "157,Male,Group A,Unhealthy,Satisfactory,70,67,72\n",
    "158,Male,Group C,Healthy,Non-Satisfactory,90,87,92\n",
    "159,Female,Group B,Mixed,Satisfactory,68,70,68\n",
    "160,Female,Group A,Unhealthy,Non-Satisfactory,67,60,70\n",
    "161,nan,Group C,Healthy,Satisfactory,90,92,88\n",
    "162,Male,Group B,Mixed,Non-Satisfactory,85,82,80\n",
    "163,Male,Group A,Unhealthy,Satisfactory,65,62,65\n",
    "164,Female,Group C,Healthy,Non-Satisfactory,83,87,85\n",
    "165,nan,Group B,Mixed,Satisfactory,78,83,78\n",
    "166,Female,Group A,Unhealthy,Non-Satisfactory,55,62,58\n",
    "167,Male,Group C,Healthy,Satisfactory,80,83,80\n",
    "168,Female,Group B,Mixed,Non-Satisfactory,67,70,63\n",
    "169,Male,Group A,Unhealthy,Satisfactory,52,57,55\n",
    "170,nan,Group C,Healthy,Non-Satisfactory,82,88,80\n",
    "171,Male,Group B,Mixed,Satisfactory,80,83,83\n",
    "172,Female,Group A,Unhealthy,Non-Satisfactory,75,70,72\n",
    "173,Male,Group B,Healthy,Satisfactory,90,87,88\n",
    "174,Male,Group B,Mixed,Non-Satisfactory,62,68,65\n",
    "175,nan,Group A,Unhealthy,Satisfactory,62,57,63\n",
    "176,Female,Group C,Healthy,Non-Satisfactory,77,85,80\n",
    "177,Male,Group B,Mixed,Satisfactory,68,70,68\n",
    "178,Male,Group A,Unhealthy,Non-Satisfactory,53,60,58\n",
    "179,Female,Group C,Healthy,Satisfactory,90,87,92\n",
    "180,Male,Group B,Mixed,Non-Satisfactory,70,67,75\n",
    "181,nan,Group A,Unhealthy,Satisfactory,65,62,65\n",
    "182,Female,Group C,Healthy,Non-Satisfactory,83,87,85\n",
    "183,nan,Group A,Mixed,Satisfactory,75,78,77\n",
    "184,Female,Group A,Unhealthy,Non-Satisfactory,55,62,58\n",
    "185,Male,Group C,Healthy,Satisfactory,80,83,80\n",
    "186,Male,Group A,Mixed,Non-Satisfactory,85,82,80\n",
    "187,Male,Group A,Unhealthy,Satisfactory,78,75,79\n",
    "188,nan,Group C,Healthy,Non-Satisfactory,80,85,83\n",
    "189,Female,Group B,Mixed,Satisfactory,70,77,70\n",
    "190,Male,Group A,Unhealthy,Non-Satisfactory,57,60,54\n",
    "191,nan,Group C,Healthy,Satisfactory,92,90,85\n",
    "192,Female,Group B,Mixed,Non-Satisfactory,80,75,83\n",
    "193,Male,Group A,Unhealthy,Satisfactory,53,58,55\n",
    "194,nan,Group C,Healthy,Non-Satisfactory,75,78,77\n",
    "195,Female,Group B,Mixed,Satisfactory,65,63,62\n",
    "196,Female,Group A,Unhealthy,Non-Satisfactory,67,60,70\n",
    "197,Male,Group A,Healthy,Satisfactory,85,80,87\n",
    "198,Male,Group B,Mixed,Non-Satisfactory,85,82,80\n",
    "199,Male,Group A,Unhealthy,Satisfactory,72,65,70\n",
    "200,nan,Group C,Healthy,Non-Satisfactory,90,87,92\n",
    "201,Female,Group B,Mixed,Satisfactory,68,70,68\n",
    "202,Female,Group A,Unhealthy,Non-Satisfactory,62,57,63\n",
    "203,nan,Group A,Healthy,Satisfactory,82,88,80\n",
    "204,Female,Group B,Mixed,Non-Satisfactory,80,77,82\n",
    "205,Male,Group A,Unhealthy,Satisfactory,67,60,68\n",
    "206,Male,Group A,Healthy,Non-Satisfactory,90,87,92\n",
    "207,Female,Group B,Mixed,Satisfactory,78,83,78\n",
    "208,Female,Group A,Unhealthy,Non-Satisfactory,72,65,70\n",
    "209,nan,Group C,Healthy,Satisfactory,77,83,78\n",
    "210,Male,Group B,Mixed,Non-Satisfactory,62,68,65\n",
    "211,Male,Group A,Unhealthy,Satisfactory,53,58,55\n",
    "212,Male,Group A,Healthy,Non-Satisfactory,92,90,85\n",
    "213,Female,Group B,Mixed,Satisfactory,68,70,68\n",
    "214,Female,Group A,Unhealthy,Non-Satisfactory,75,70,72\n",
    "215,nan,Group B,Healthy,Satisfactory,77,83,78\n",
    "216,Female,Group B,Mixed,Non-Satisfactory,67,70,63\n",
    "217,Male,Group A,Unhealthy,Satisfactory,52,57,55\n",
    "218,nan,Group C,Healthy,Non-Satisfactory,90,87,92\n",
    "219,Female,Group B,Mixed,Satisfactory,85,82,80\n",
    "220,Female,Group A,Unhealthy,Non-Satisfactory,55,62,58\n",
    "221,Male,Group A,Healthy,Satisfactory,80,83,80\n",
    "222,Male,Group B,Mixed,Non-Satisfactory,60,63,63\n",
    "223,Male,Group A,Unhealthy,Satisfactory,78,75,79\n",
    "224,Female,Group C,Healthy,Non-Satisfactory,75,78,77\n",
    "225,nan,Group B,Mixed,Satisfactory,70,67,72\n",
    "226,Male,Group A,Unhealthy,Non-Satisfactory,70,65,67\n",
    "227,nan,Group C,Healthy,Satisfactory,90,92,88\n",
    "228,Female,Group B,Mixed,Non-Satisfactory,85,82,80\n",
    "229,Male,Group A,Unhealthy,Satisfactory,65,62,65\n",
    "230,Female,Group C,Healthy,Non-Satisfactory,83,87,85\n",
    "231,nan,Group B,Mixed,Satisfactory,75,78,77\n",
    "232,Female,Group A,Unhealthy,Non-Satisfactory,55,62,58\n",
    "233,Male,Group C,Healthy,Satisfactory,80,83,80\n",
    "234,Male,Group B,Mixed,Non-Satisfactory,85,82,80\n",
    "235,Male,Group A,Unhealthy,Satisfactory,78,75,79\n",
    "236,Female,Group C,Healthy,Non-Satisfactory,83,87,85\n",
    "237,nan,Group A,Mixed,Satisfactory,80,83,83\n",
    "238,Female,Group B,Mixed,Non-Satisfactory,75,70,77\n",
    "239,Male,Group A,Unhealthy,Non-Satisfactory,62,57,63\n",
    "240,nan,Group C,Healthy,Non-Satisfactory,82,88,80\n",
    "241,Female,Group B,Mixed,Satisfactory,80,77,82\n",
    "242,Male,Group A,Unhealthy,Satisfactory,60,63,63\n",
    "243,Female,Group C,Healthy,Non-Satisfactory,90,87,92\n",
    "244,Male,Group B,Mixed,Non-Satisfactory,82,80,83\n",
    "245,nan,Group C,Healthy,Satisfactory,77,83,78\n",
    "246,Male,Group B,Mixed,Non-Satisfactory,72,68,70\n",
    "247,Female,Group A,Unhealthy,Satisfactory,65,62,65\n",
    "248,Male,Group C,Healthy,Non-Satisfactory,80,85,83\n",
    "249,Female,Group A,Mixed,Non-Satisfactory,70,65,67\n",
    "250,nan,Group C,Healthy,Non-Satisfactory,83,80,85\n",
    "251,Female,Group B,Mixed,Satisfactory,68,70,68\n",
    "252,Female,Group A,Unhealthy,Non-Satisfactory,62,57,63\n",
    "253,Male,Group C,Healthy,Satisfactory,92,90,88\n",
    "254,Female,Group B,Mixed,Non-Satisfactory,80,75,83\n",
    "255,nan,Group C,Healthy,Satisfactory,90,92,88\n",
    "256,Female,Group B,Mixed,Satisfactory,70,77,70\n",
    "257,Male,Group A,Unhealthy,Non-Satisfactory,52,57,55\n",
    "258,nan,Group C,Healthy,Non-Satisfactory,75,78,77\n",
    "259,Female,Group B,Mixed,Non-Satisfactory,80,77,82\n",
    "260,Male,Group A,Unhealthy,Satisfactory,55,62,58\n",
    "261,nan,Group C,Healthy,Satisfactory,82,88,80\n",
    "262,Female,Group B,Mixed,Non-Satisfactory,72,65,70\n",
    "263,Male,Group A,Unhealthy,Non-Satisfactory,65,62,65\n",
    "264,Female,Group C,Healthy,Non-Satisfactory,90,87,92\n",
    "265,Male,Group B,Mixed,Satisfactory,77,85,82\n",
    "266,Female,Group A,Unhealthy,Non-Satisfactory,55,62,58\n",
    "267,nan,Group C,Healthy,Satisfactory,83,80,85\n",
    "268,Female,Group B,Mixed,Non-Satisfactory,85,82,80\n",
    "269,Male,Group A,Unhealthy,Satisfactory,62,57,63\n",
    "270,Female,Group C,Healthy,Non-Satisfactory,77,85,80\n",
    "271,nan,Group B,Mixed,Satisfactory,70,67,72\n",
    "272,Male,Group A,Unhealthy,Non-Satisfactory,53,60,58\n",
    "273,Male,Group C,Healthy,Satisfactory,75,80,77\n",
    "274,Female,Group B,Mixed,Non-Satisfactory,80,75,83\n",
    "275,Male,Group A,Unhealthy,Satisfactory,52,57,55\n",
    "276,nan,Group C,Healthy,Non-Satisfactory,92,90,85\n",
    "277,Female,Group B,Mixed,Satisfactory,68,72,65\n",
    "278,Male,Group A,Unhealthy,Non-Satisfactory,70,65,67\n",
    "279,nan,Group C,Healthy,Satisfactory,80,83,80\n",
    "280,Female,Group B,Mixed,Non-Satisfactory,75,72,75\n",
    "281,Male,Group A,Unhealthy,Satisfactory,57,60,54\n",
    "282,Female,Group C,Healthy,Non-Satisfactory,78,83,77\n",
    "283,nan,Group B,Mixed,Satisfactory,70,67,72\n",
    "284,Female,Group A,Unhealthy,Non-Satisfactory,62,57,63\n",
    "285,Male,Group C,Healthy,Satisfactory,90,87,88\n",
    "286,Male,Group B,Mixed,Non-Satisfactory,82,80,83\n",
    "287,nan,Group C,Healthy,Satisfactory,77,83,78\n",
    "288,Female,Group B,Mixed,Non-Satisfactory,72,70,73\n",
    "289,Male,Group A,Unhealthy,Satisfactory,65,62,65\n",
    "290,Female,Group C,Healthy,Non-Satisfactory,90,87,92\n",
    "291,nan,Group B,Mixed,Satisfactory,70,63,60\n",
    "292,Female,Group A,Unhealthy,Non-Satisfactory,55,62,58\n",
    "293,Male,Group C,Healthy,Satisfactory,75,80,77\n",
    "294,Male,Group B,Mixed,Non-Satisfactory,85,82,80\n",
    "295,nan,Group A,Mixed,Satisfactory,80,75,77\n",
    "296,Female,Group C,Healthy,Non-Satisfactory,77,83,78\n",
    "297,Female,Group B,Mixed,Non-Satisfactory,67,72,67\n",
    "298,Male,Group A,Unhealthy,Satisfactory,67,60,68\n",
    "299,Male,Group B,Healthy,Satisfactory,88,85,87\n",
    "300,Female,Group A,Mixed,Non-Satisfactory,78,75,79\n",
    "301,Male,Group C,Unhealthy,Satisfactory,75,78,72\n",
    "302,Female,Group B,Mixed,Non-Satisfactory,72,65,70\n",
    "303,Male,Group A,Healthy,Non-Satisfactory,85,82,80\n",
    "304,Female,Group C,Healthy,Non-Satisfactory,77,83,78\n",
    "305,Male,Group A,Mixed,Non-Satisfactory,72,65,70\n",
    "306,Female,Group B,Unhealthy,Satisfactory,72,78,70\n",
    "307,nan,Group A,Healthy,Satisfactory,82,88,80\n",
    "308,Female,Group C,Mixed,Non-Satisfactory,72,75,77\n",
    "309,Male,Group B,Mixed,Non-Satisfactory,62,68,65\n",
    "310,Female,Group A,Unhealthy,Satisfactory,53,60,58\n",
    "311,nan,Group C,Healthy,Satisfactory,90,92,88\n",
    "312,Female,Group B,Mixed,Non-Satisfactory,80,77,82\n",
    "313,Male,Group A,Unhealthy,Non-Satisfactory,67,60,68\n",
    "314,nan,Group C,Healthy,Satisfactory,77,83,78\n",
    "315,Female,Group B,Mixed,Satisfactory,75,72,75\n",
    "316,Male,Group A,Unhealthy,Non-Satisfactory,52,57,55\n",
    "317,Female,Group C,Healthy,Non-Satisfactory,90,87,92\n",
    "318,Male,Group B,Mixed,Non-Satisfactory,85,82,80"
   ]
  },
  {
   "cell_type": "markdown",
   "metadata": {
    "id": "QiyeKarQlbR9"
   },
   "source": [
    "# Load data in memory\n",
    "We are transforming the dataset using base64 encoding to submit to the gent. The dataset is submitted inline and the agent is able to use the data to answer user requests."
   ]
  },
  {
   "cell_type": "code",
   "execution_count": 11,
   "metadata": {
    "id": "b02YdntAlaH9",
    "tags": []
   },
   "outputs": [],
   "source": [
    "encoded_data= []\n",
    "with open('students.csv', \"rb\") as attachment:\n",
    "  encoded_data.append({'data': base64.b64encode(attachment.read()), 'mimetype': mimetypes.guess_type('students.csv')[0]})"
   ]
  },
  {
   "cell_type": "markdown",
   "metadata": {
    "id": "oxt3Cxw2jwaw"
   },
   "source": [
    "\n",
    "# Step 1: Start a new Session\n",
    "A session represents a conversation history with an agent. Starting a new conversation with an agent requires a new session, so as not to reuse information from previous conversations. If you want to reset a conversation you need to start a new session.\n"
   ]
  },
  {
   "cell_type": "code",
   "execution_count": 12,
   "metadata": {
    "id": "Pq_JPyt6hc4R",
    "tags": []
   },
   "outputs": [],
   "source": [
    "session = app.start_session()"
   ]
  },
  {
   "cell_type": "markdown",
   "metadata": {
    "id": "HpaDHSO_kKjj"
   },
   "source": [
    "# Step 2: Provide the dataset to the agent\n",
    "Send a message to the agent with the dataset and information that this is the dataset for analysis"
   ]
  },
  {
   "cell_type": "code",
   "execution_count": 13,
   "metadata": {
    "id": "qorEINE5lGVC",
    "tags": []
   },
   "outputs": [
    {
     "data": {
      "text/html": [
       "<h3>Results: </h3><pre>```tool_code\n",
       "# Load the dataframe.\n",
       "data_1 = pd.read_csv('data_1.csv')\n",
       "\n",
       "# Use `explore_df` to guide my analysis.\n",
       "explore_df(data_1)\n",
       "```\n",
       "```tool_outputs\n",
       "Total rows: 318\n",
       "Total columns: 8\n",
       "\n",
       "                        Dtype      Non-Null Count  Unique Values Count                                      Unique Values\n",
       "Columns                                                                                                                  \n",
       "StudentID               int64  318 / 318 non-null                  318  [1, 2, 3, 4, 5, 6, 7, 8, 9, 10, 11, 12, 13, 14...\n",
       "Gender                 object  256 / 318 non-null                    3                            ['Male', 'Female', nan]\n",
       "ExtraActivitiesGroup   object  316 / 318 non-null                    4             [nan, 'Group B', 'Group A', 'Group C']\n",
       "EatingHabits           object  318 / 318 non-null                    3                  ['Healthy', 'Mixed', 'Unhealthy']\n",
       "SleepingHabits         object  318 / 318 non-null                    2               ['Satisfactory', 'Non-Satisfactory']\n",
       "Reading               float64  317 / 318 non-null                   25  [75.0, nan, 55.0, 70.0, 60.0, 50.0, 80.0, 65.0...\n",
       "Writing                 int64  318 / 318 non-null                   22  [80, 70, 60, 75, 65, 55, 85, 78, 68, 57, 87, 6...\n",
       "Maths                   int64  318 / 318 non-null                   24  [78, 67, 58, 73, 63, 53, 83, 85, 70, 55, 79, 6...\n",
       "\n",
       "```\n",
       "We have loaded the `data_1.csv` dataset. There are 318 student records in this dataset with 8 features: StudentID, Gender, ExtraActivitiesGroup, EatingHabits, SleepingHabits, Reading, Writing and Maths. Some columns contain null values. Please let me know what you would like to analyze in this data.\n",
       "</pre>"
      ],
      "text/plain": [
       "<IPython.core.display.HTML object>"
      ]
     },
     "metadata": {},
     "output_type": "display_data"
    }
   ],
   "source": [
    "result = ds_agent(query=\"This is the dataset we will be using today\", session=session, encoded_data_list=encoded_data)"
   ]
  },
  {
   "cell_type": "markdown",
   "metadata": {
    "id": "s4WFTFS0mb_j"
   },
   "source": [
    "# Step 3: Data Exploration\n",
    "In this section you will ask the agent to explain and visualize the dataset so you can get a better understanding."
   ]
  },
  {
   "cell_type": "code",
   "execution_count": 14,
   "metadata": {
    "id": "SU1ZiQrrkKRV",
    "tags": []
   },
   "outputs": [
    {
     "data": {
      "text/html": [
       "<h3>Results: </h3><pre>The dataset you've provided seems to capture information about students and their academic performance, potentially for a research study or school analysis. Let's break down each column:\n",
       "\n",
       "**StudentID:** This is a unique identifier for each student in the dataset. It helps distinguish individual student records.\n",
       "\n",
       "**Gender:** This column likely indicates the gender of the student, with potential values being \"Male\", \"Female\", or potentially other categories depending on how the data was collected. Notably, there are some missing values in this column.\n",
       "\n",
       "**ExtraActivitiesGroup:** This suggests participation in extracurricular activities. Students might be divided into groups like \"Group A,\" \"Group B,\" etc.  The presence of 'nan' might mean some students are not involved in any extra activity listed in the dataset.\n",
       "\n",
       "**EatingHabits:** This column probably classifies students based on their dietary patterns, with possible categories like \"Healthy,\" \"Unhealthy,\" or \"Mixed.\" This could be interesting to analyze in relation to other factors like academic performance.\n",
       "\n",
       "**SleepingHabits:** This likely categorizes students based on their sleep quality or duration, such as \"Satisfactory\" or \"Non-Satisfactory.\" Analyzing this alongside academic data might reveal correlations.\n",
       "\n",
       "**Reading, Writing, Maths:** These columns likely represent student scores or grades in these respective subjects. The data type is numerical, indicating these are likely marks or standardized scores.\n",
       "\n",
       "**Data Distribution:**\n",
       "\n",
       "- For **categorical columns** like Gender, ExtraActivitiesGroup, EatingHabits, and SleepingHabits, we need to look at the frequency of each category. How many males versus females? How are students distributed across different activity groups?\n",
       "- For **numerical columns** like Reading, Writing, and Maths, we need to understand the range of scores, the average performance, and the spread of the data. Are most students scoring high, or is there a wide distribution?\n",
       "\n",
       "Exploring these distributions will provide a much clearer picture of the student population represented in the dataset and potentially reveal interesting trends or patterns.\n",
       "\n",
       "Let me know if you would like to deep dive into any specific column or explore the relationships between them! \n",
       "</pre>"
      ],
      "text/plain": [
       "<IPython.core.display.HTML object>"
      ]
     },
     "metadata": {},
     "output_type": "display_data"
    }
   ],
   "source": [
    "result = ds_agent(query=\"Help me better understand the dataset. Please verbally explain the columns and data distributions\", session=session)"
   ]
  },
  {
   "cell_type": "markdown",
   "metadata": {
    "id": "ch1H850AqN7U"
   },
   "source": [
    "Thats great! There's more you can ask your agent to do:"
   ]
  },
  {
   "cell_type": "code",
   "execution_count": 15,
   "metadata": {
    "id": "G-qheciQqIJV",
    "tags": []
   },
   "outputs": [
    {
     "data": {
      "text/html": [
       "<h3>Images generated: </h3><pre><img src=\"data:image/png;base64, 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\" /></pre><h3>Results: </h3><pre>```tool_code\n",
       "# Group by 'Gender' and count occurrences, excluding null values\n",
       "gender_counts = data_1['Gender'].value_counts(dropna=True)\n",
       "\n",
       "# Create a pie chart\n",
       "plt.figure(figsize=(6, 6))  # Set figure size for better visibility\n",
       "plt.pie(gender_counts, labels=gender_counts.index, autopct='%1.1f%%', startangle=90)\n",
       "plt.title('Gender Distribution')\n",
       "plt.show()\n",
       "```\n",
       "```tool_outputs\n",
       "\n",
       "```\n",
       "The pie chart shows that there is a slight skew towards males in the dataset (52.3%) compared to females (47.7%). This suggests that the dataset is fairly balanced in terms of gender, but it's worth keeping this difference in mind for further analysis as it might slightly affect the outcome, depending on what we analyze next. \n",
       "</pre>"
      ],
      "text/plain": [
       "<IPython.core.display.HTML object>"
      ]
     },
     "metadata": {},
     "output_type": "display_data"
    }
   ],
   "source": [
    "query=\"\"\"\n",
    "I would like to see a pie chart for gender distribution\n",
    "\"\"\"\n",
    "\n",
    "result = ds_agent(query=query, session=session)"
   ]
  },
  {
   "cell_type": "code",
   "execution_count": 16,
   "metadata": {
    "id": "OhxFTjn5quNN",
    "tags": []
   },
   "outputs": [
    {
     "data": {
      "text/html": [
       "<h3>Images generated: </h3><pre><img src=\"data:image/png;base64, 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\" /></pre><h3>Results: </h3><pre>```tool_code\n",
       "# Replace missing values with 'Unknown' for all object (categorical) columns\n",
       "for col in data_1.columns:\n",
       "    if data_1[col].dtype == 'object':\n",
       "        data_1[col] = data_1[col].fillna('Unknown')\n",
       "\n",
       "# Recalculate gender counts after replacing missing values\n",
       "gender_counts = data_1['Gender'].value_counts()\n",
       "\n",
       "# Create a new pie chart with updated data\n",
       "plt.figure(figsize=(6, 6))\n",
       "plt.pie(gender_counts, labels=gender_counts.index, autopct='%1.1f%%', startangle=90)\n",
       "plt.title('Gender Distribution (Including Unknown)')\n",
       "plt.show()\n",
       "```\n",
       "```tool_outputs\n",
       "\n",
       "```\n",
       "Now we have a more accurate view of the gender distribution in the dataset. As you can see, 19.5% of the data have 'Unknown' gender, which significantly changed the proportions. Now males constitute 42.1%, and females - 38.4%. \n",
       "\n",
       "It is important to handle missing data properly, especially when dealing with categorical variables. There are different ways to handle it, and replacing with 'Unknown' is one of them, as we did in this case. This helps to preserve the information about the missing values in our analysis. \n",
       "\n",
       "Do you have any other aspects of the dataset you'd like to investigate further? \n",
       "</pre>"
      ],
      "text/plain": [
       "<IPython.core.display.HTML object>"
      ]
     },
     "metadata": {},
     "output_type": "display_data"
    }
   ],
   "source": [
    "query=\"\"\"\n",
    "Hm, I noticed only 'Male' and 'Female' gender categories. In the dataset some values are Nan for gender.\n",
    "Can you replace missing values with Unknown on all categorical columns and reproduce the gender pie chart?\n",
    "\"\"\"\n",
    "\n",
    "result = ds_agent(query=query, session=session)"
   ]
  },
  {
   "cell_type": "code",
   "execution_count": 17,
   "metadata": {
    "id": "K2HdR7ish8Sx",
    "tags": []
   },
   "outputs": [
    {
     "data": {
      "text/html": [
       "<h3>Images generated: </h3><pre><img src=\"data:image/png;base64, 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\" /></pre><h3>Results: </h3><pre>```tool_code\n",
       "# Create box plots for module scores against categorical variables\n",
       "fig, axes = plt.subplots(3, 3, figsize=(15, 15))\n",
       "fig.suptitle('Module Scores vs. Categorical Variables', fontsize=16)\n",
       "\n",
       "for i, module in enumerate(['Maths', 'Reading', 'Writing']):\n",
       "    for j, category in enumerate(['EatingHabits', 'SleepingHabits', 'ExtraActivitiesGroup']):\n",
       "        data_1.boxplot(column=module, by=category, ax=axes[i, j], showfliers=False)\n",
       "        axes[i, j].set_title(f'{module} vs. {category}')\n",
       "        axes[i, j].set_xlabel(category)\n",
       "        axes[i, j].set_ylabel('Score')\n",
       "\n",
       "plt.tight_layout(pad=3.0)\n",
       "plt.show()\n",
       "```\n",
       "```tool_outputs\n",
       "\n",
       "```\n",
       "The generated charts provide a visual representation of the relationship between module scores (Maths, Reading, Writing) and categorical variables: EatingHabits, SleepingHabits, and ExtraActivitiesGroup.\n",
       "\n",
       "Here are some observations:\n",
       "\n",
       "**Maths:**\n",
       "\n",
       "- **EatingHabits:** Students with 'Healthy' eating habits seem to have slightly better Maths scores overall, indicated by the higher median line in the boxplot.\n",
       "- **SleepingHabits:** Students with 'Satisfactory' sleeping habits show a noticeable difference in Maths scores, with a higher median and less variation in scores compared to 'Non-Satisfactory' sleepers.\n",
       "- **ExtraActivitiesGroup:** 'Group C' stands out with the highest median Maths score, followed closely by 'Unknown'.  Interestingly, 'Group A' has the lowest median score.\n",
       "\n",
       "**Reading:**\n",
       "\n",
       "- **EatingHabits:** Reading scores show less variation among different eating habits, although 'Healthy' eaters still have a slightly higher median score.\n",
       "- **SleepingHabits:** Similar to Maths, 'Satisfactory' sleeping habits relate to better Reading scores with a higher median and less variability.\n",
       "- **ExtraActivitiesGroup:** 'Group C' again shows the highest median Reading score. 'Group A' has the widest score range, indicating a greater performance difference within this group.\n",
       "\n",
       "**Writing:**\n",
       "\n",
       "- **EatingHabits:**  Again, 'Healthy' eating habits appear to be slightly favorable for Writing scores.\n",
       "- **SleepingHabits:** The pattern persists with 'Satisfactory' sleeping habits linked to better median Writing performance and less variability.\n",
       "- **ExtraActivitiesGroup:** 'Unknown' group exhibits the highest median Writing score, closely followed by 'Group C'. Similar to Reading, 'Group A' displays the widest range of scores.\n",
       "\n",
       "**General Observations:**\n",
       "\n",
       "- **Satisfactory sleeping habits consistently correspond with better performance across all three modules.** This highlights the potential impact of sleep on academic achievement.\n",
       "- **'Healthy' eating habits show a slight positive trend with scores, but the effect seems less pronounced than sleep.**\n",
       "- **Students in 'Group C', and sometimes those in the 'Unknown' group, tend to outperform others.** This raises questions about the nature of these groups and the activities they might be engaged in.\n",
       "\n",
       "**Further Analysis:**\n",
       "\n",
       "- It's important to note these are just observations, and we need to perform statistical tests to determine if these differences are statistically significant.\n",
       "- Investigating the composition of the 'Unknown' group in ExtraActivitiesGroup is crucial for better interpretation.\n",
       "- Analyzing potential relationships between the categorical variables themselves (e.g., Is there a correlation between eating habits and sleeping habits?) would provide a more comprehensive understanding. \n",
       "</pre>"
      ],
      "text/plain": [
       "<IPython.core.display.HTML object>"
      ]
     },
     "metadata": {},
     "output_type": "display_data"
    }
   ],
   "source": [
    "query=\"\"\"\n",
    "Now I want to see charts that show module scores (math, reading and writing) in relation to eating habits, sleeping habits and extra activities group\n",
    "\"\"\"\n",
    "\n",
    "result = ds_agent(query=query, session=session)"
   ]
  },
  {
   "cell_type": "markdown",
   "metadata": {
    "id": "o-1JXJCJcbBR"
   },
   "source": [
    "# Step 4: Data manipulation\n",
    "In this section you will perform some data manipulation actions, replace missing values, remove columns, normalize etc.\n"
   ]
  },
  {
   "cell_type": "code",
   "execution_count": 18,
   "metadata": {
    "id": "sWgqT-P1rOu6",
    "tags": []
   },
   "outputs": [
    {
     "data": {
      "text/html": [
       "<h3>Results: </h3><pre>```tool_code\n",
       "# Check for missing values in each column\n",
       "missing_data = data_1.isnull().sum()\n",
       "\n",
       "# Print columns with missing values and their counts\n",
       "print(missing_data[missing_data > 0])\n",
       "```\n",
       "```tool_outputs\n",
       "Reading    1\n",
       "dtype: int64\n",
       "\n",
       "```\n",
       "It seems we have only one missing value left and it's in the 'Reading' column. \n",
       "</pre>"
      ],
      "text/plain": [
       "<IPython.core.display.HTML object>"
      ]
     },
     "metadata": {},
     "output_type": "display_data"
    }
   ],
   "source": [
    "query=\"\"\"\n",
    "Are there any other missing data in the dataset?\n",
    "\"\"\"\n",
    "\n",
    "result = ds_agent(query=query, session=session)"
   ]
  },
  {
   "cell_type": "code",
   "execution_count": 19,
   "metadata": {
    "id": "f5G9RNXhcNIm",
    "tags": []
   },
   "outputs": [
    {
     "data": {
      "text/html": [
       "<h3>Results: </h3><pre>```tool_code\n",
       "# Fill missing values in 'Reading' with the mean of the column\n",
       "data_1['Reading'].fillna(data_1['Reading'].mean(), inplace=True)\n",
       "\n",
       "# Verify if there are any missing values left\n",
       "print(data_1.isnull().sum())\n",
       "```\n",
       "```tool_outputs\n",
       "StudentID               0\n",
       "Gender                  0\n",
       "ExtraActivitiesGroup    0\n",
       "EatingHabits            0\n",
       "SleepingHabits          0\n",
       "Reading                 0\n",
       "Writing                 0\n",
       "Maths                   0\n",
       "dtype: int64\n",
       "<string>:52: FutureWarning: A value is trying to be set on a copy of a DataFrame or Series through chained assignment using an inplace method.\n",
       "The behavior will change in pandas 3.0. This inplace method will never work because the intermediate object on which we are setting values always behaves as a copy.\n",
       "\n",
       "For example, when doing 'df[col].method(value, inplace=True)', try using 'df.method({col: value}, inplace=True)' or df[col] = df[col].method(value) instead, to perform the operation inplace on the original object.\n",
       "\n",
       "\n",
       "\n",
       "```\n",
       "You are absolutely right!  The warning message you're seeing is a common issue in pandas. \n",
       "\n",
       "Essentially, pandas is warning us that the `inplace=True` operation might not be working as intended because of how we're accessing the column. There's a chance we're modifying a copy of the DataFrame, not the original.\n",
       "\n",
       "Let's fix that using a more robust method to fill the missing value:\n",
       "\n",
       "```tool_code\n",
       "# Fill missing values in 'Reading' with the mean of the column using loc\n",
       "data_1.loc[:, 'Reading'] = data_1['Reading'].fillna(data_1['Reading'].mean())\n",
       "\n",
       "# Verify if there are any missing values left\n",
       "print(data_1.isnull().sum())\n",
       "```\n",
       "```tool_outputs\n",
       "StudentID               0\n",
       "Gender                  0\n",
       "ExtraActivitiesGroup    0\n",
       "EatingHabits            0\n",
       "SleepingHabits          0\n",
       "Reading                 0\n",
       "Writing                 0\n",
       "Maths                   0\n",
       "dtype: int64\n",
       "\n",
       "```\n",
       "Great! We've successfully replaced the missing 'Reading' value with the average of that column and the warning is gone. \n",
       "\n",
       "Now our dataset is cleaned from missing values, and we can proceed with more in-depth analysis without encountering errors or misleading results.\n",
       "\n",
       "What else would you like to explore about this dataset? \n",
       "</pre>"
      ],
      "text/plain": [
       "<IPython.core.display.HTML object>"
      ]
     },
     "metadata": {},
     "output_type": "display_data"
    }
   ],
   "source": [
    "query=\"\"\"\n",
    "Replace numerical missing values with the mean of that column\n",
    "\"\"\"\n",
    "\n",
    "result = ds_agent(query=query, session=session)"
   ]
  },
  {
   "cell_type": "markdown",
   "metadata": {
    "id": "gBZb6HSqcyOu"
   },
   "source": [
    "Okay now you do not have any missing values in the dataset. This dataset is about students. You are wondering if there is any PII information. Ask your agent:"
   ]
  },
  {
   "cell_type": "code",
   "execution_count": 20,
   "metadata": {
    "id": "YqIZfJ_Ccxkb",
    "tags": []
   },
   "outputs": [
    {
     "data": {
      "text/html": [
       "<h3>Results: </h3><pre>Looking at the column names, the only one that could potentially contain PII is  **StudentID**. \n",
       "\n",
       "**Here's why it might be PII:**\n",
       "\n",
       "* **Uniqueness:** Student IDs are generally unique to each individual, making it an identifier. \n",
       "* **Indirect Identification:** Even if the ID itself doesn't reveal personal information directly (like a name), if combined with other datasets or information sources, it could be used to identify the student.\n",
       "\n",
       "**Important Considerations:**\n",
       "\n",
       "* **Context Matters:** The sensitivity of StudentID depends heavily on the context. If this dataset is used within a secure school environment with strict data protection protocols, and the StudentID is not linked to any external systems, it might be considered less sensitive.\n",
       "* **Regulations and Policies:**  You should always check your local regulations and institutional policies regarding data privacy and PII. Some regions have specific guidelines on what constitutes student PII and how it should be handled.\n",
       "\n",
       "**Recommendations:**\n",
       "\n",
       "* **De-identification:** If possible, and if you don't need to link this data to other individual-level information, consider replacing StudentID with a random, anonymized identifier.\n",
       "* **Data Minimization:**  If you don't need StudentID for your analysis, it's best practice to remove it from the dataset entirely.\n",
       "* **Secure Storage and Access:** Ensure the dataset is stored securely and only authorized individuals have access to it.\n",
       "\n",
       "Let me know if you have any other concerns about PII or data privacy regarding this dataset. I'm here to help you make informed decisions about data handling! \n",
       "</pre>"
      ],
      "text/plain": [
       "<IPython.core.display.HTML object>"
      ]
     },
     "metadata": {},
     "output_type": "display_data"
    }
   ],
   "source": [
    "query=\"\"\"\n",
    "Is there any PII info in the dataset\n",
    "\"\"\"\n",
    "\n",
    "result = ds_agent(query=query, session=session)"
   ]
  },
  {
   "cell_type": "markdown",
   "metadata": {
    "id": "J5rWiU0OdIpU"
   },
   "source": [
    "The agent is able to provide some potential risks and ideas on mitigation. Remove StudentID."
   ]
  },
  {
   "cell_type": "code",
   "execution_count": 21,
   "metadata": {
    "id": "wvL8jVbqdYpi",
    "tags": []
   },
   "outputs": [
    {
     "data": {
      "text/html": [
       "<h3>Results: </h3><pre>```tool_code\n",
       "# Drop the 'StudentID' column\n",
       "data_1 = data_1.drop('StudentID', axis=1)\n",
       "\n",
       "# Display the first 10 rows of the modified DataFrame\n",
       "print(data_1.head(10))\n",
       "```\n",
       "```tool_outputs\n",
       "    Gender ExtraActivitiesGroup EatingHabits  ...    Reading  Writing  Maths\n",
       "0     Male              Unknown      Healthy  ...  75.000000       80     78\n",
       "1   Female              Group B        Mixed  ...  73.022082       70     67\n",
       "2  Unknown              Group A    Unhealthy  ...  55.000000       60     58\n",
       "3   Female              Group C      Healthy  ...  70.000000       75     73\n",
       "4     Male              Group B        Mixed  ...  60.000000       65     63\n",
       "5   Female              Group A    Unhealthy  ...  50.000000       55     53\n",
       "6     Male              Group C      Healthy  ...  80.000000       85     83\n",
       "7   Female              Group B        Mixed  ...  65.000000       70     67\n",
       "8     Male              Group A    Unhealthy  ...  55.000000       60     58\n",
       "9     Male              Unknown        Mixed  ...  80.000000       78     85\n",
       "\n",
       "[10 rows x 7 columns]\n",
       "\n",
       "```\n",
       "The StudentID column has been successfully removed from the dataset. As you can see in the output, the first 10 rows now only show the remaining columns: 'Gender', 'ExtraActivitiesGroup', 'EatingHabits', 'SleepingHabits', 'Reading', 'Writing', and 'Maths'. \n",
       "\n",
       "We've now taken a step towards de-identifying the data and protecting student privacy! \n",
       "\n",
       "Feel free to ask any further questions or request additional analyses of this modified dataset!\n",
       "</pre>"
      ],
      "text/plain": [
       "<IPython.core.display.HTML object>"
      ]
     },
     "metadata": {},
     "output_type": "display_data"
    }
   ],
   "source": [
    "query=\"\"\"\n",
    "Perfect, remove the student ID column and return the first 10 rows of the\n",
    "dataset to validate that the column has been removed\n",
    "\"\"\"\n",
    "\n",
    "result = ds_agent(query=query, session=session)"
   ]
  },
  {
   "cell_type": "code",
   "execution_count": 22,
   "metadata": {
    "id": "UZUETvRvdryZ",
    "tags": []
   },
   "outputs": [
    {
     "data": {
      "text/html": [
       "<h3>Results: </h3><pre>That's a great question! Both standardization and normalization are common data preprocessing techniques used in machine learning and data analysis, but they serve different purposes and have distinct effects on your data. \n",
       "\n",
       "Here's a breakdown:\n",
       "\n",
       "**Standardization:**\n",
       "\n",
       "* **What it does:**  Transforms your data to have a mean of 0 and a standard deviation of 1. This is done by subtracting the mean of each feature from every data point and then dividing by the standard deviation of that feature.\n",
       "* **Formula:**  `(x - mean) / standard deviation`\n",
       "* **Output range:**  Values typically range from -3 to +3, but can be higher or lower depending on the original data distribution.\n",
       "* **Benefits:**\n",
       "    * Robust to outliers:  Standardization handles outliers relatively well since it's less influenced by extreme values.\n",
       "    * Suitable for many algorithms: It's often a requirement for algorithms that assume data is normally distributed, like linear regression, logistic regression, and support vector machines. \n",
       "\n",
       "**Normalization (Min-Max Scaling):**\n",
       "\n",
       "* **What it does:** Scales data to a specific range, usually between 0 and 1. This is done by subtracting the minimum value of the feature and then dividing by the range (maximum - minimum).\n",
       "* **Formula:**  `(x - min) / (max - min)`\n",
       "* **Output range:**  0 to 1 (or another specified range).\n",
       "* **Benefits:**\n",
       "    * Preserves sparsity: Useful for algorithms that don't perform well with sparse data (data with many zeros), like k-nearest neighbors.\n",
       "    *  Good for image processing:  Often used in image processing where pixel values need to be within a specific range.\n",
       "\n",
       "**Which to choose?**\n",
       "\n",
       "* **If your data is normally distributed and you're using an algorithm that benefits from standardized data**, then standardization is generally a good choice. \n",
       "* **If your data is not normally distributed, you need to preserve sparsity, or you need values within a specific range**, then normalization (min-max scaling) might be more appropriate.\n",
       "* **Sometimes, you might need to experiment with both techniques** to see which one performs better for your specific dataset and algorithm.\n",
       "\n",
       "**In summary:**\n",
       "\n",
       "| Feature | Standardization | Normalization (Min-Max Scaling) |\n",
       "|---|---|---|\n",
       "| Goal | Mean = 0, Standard Deviation = 1 | Scale to a range (usually 0 to 1) |\n",
       "| Outliers | Less sensitive | Sensitive |\n",
       "| Distribution | Assumes normal distribution |  No assumption |\n",
       "| Sparsity |  Doesn't preserve | Preserves |\n",
       "| Common Use Cases | Linear Regression, Logistic Regression, SVM | Image processing, k-Nearest Neighbors |\n",
       "\n",
       "I hope this helps refresh your memory! Feel free to ask if you have any more questions. \n",
       "</pre>"
      ],
      "text/plain": [
       "<IPython.core.display.HTML object>"
      ]
     },
     "metadata": {},
     "output_type": "display_data"
    }
   ],
   "source": [
    "query=\"\"\"\n",
    "Excellent! I am a bit rusty and do not quite recall, what is the difference of standardisation vs normalisation?\n",
    "\"\"\"\n",
    "\n",
    "result = ds_agent(query=query, session=session)"
   ]
  },
  {
   "cell_type": "code",
   "execution_count": null,
   "metadata": {
    "id": "T-gJGqx6iexO",
    "tags": []
   },
   "outputs": [
    {
     "data": {
      "text/html": [
       "<h3>Results: </h3><pre>```tool_code\n",
       "from sklearn.preprocessing import StandardScaler\n",
       "\n",
       "# Select only the module score columns\n",
       "module_cols = ['Reading', 'Writing', 'Maths']\n",
       "modules = data_1[module_cols]\n",
       "\n",
       "# Initialize the StandardScaler\n",
       "scaler = StandardScaler()\n",
       "\n",
       "# Fit and transform the module scores\n",
       "data_1[module_cols] = scaler.fit_transform(modules)\n",
       "\n",
       "# Print the first 5 rows of the DataFrame to validate\n",
       "print(data_1.head())\n",
       "```\n",
       "```tool_outputs\n",
       "    Gender ExtraActivitiesGroup EatingHabits  ...   Reading   Writing     Maths\n",
       "0     Male              Unknown      Healthy  ...  0.177887  0.600698  0.469037\n",
       "1   Female              Group B        Mixed  ...  0.000000 -0.352505 -0.581342\n",
       "2  Unknown              Group A    Unhealthy  ... -1.620840 -1.305709 -1.440742\n",
       "3   Female              Group C      Healthy  ... -0.271795  0.124096 -0.008408\n",
       "4     Male              Group B        Mixed  ... -1.171159 -0.829107 -0.963297\n",
       "\n",
       "[5 rows x 7 columns]\n",
       "\n",
       "```\n",
       "You've got it!  We've successfully standardized the module score columns (Reading, Writing, Maths) using `StandardScaler`. \n",
       "\n",
       "As you can see in the output, the first 5 rows now show standardized values for those columns. They are now centered around 0, and most of them fall within the typical range of -3 to +3. This process will help improve the performance of certain machine learning algorithms that benefit from standardized data.\n",
       "\n",
       "What would you like to do with this transformed dataset next? We could explore further analysis or perhaps visualize the standardized scores. Let me know what you'd like to explore! \n",
       "</pre>"
      ],
      "text/plain": [
       "<IPython.core.display.HTML object>"
      ]
     },
     "metadata": {},
     "output_type": "display_data"
    }
   ],
   "source": [
    "query=\"\"\"\n",
    "Okay, please apply standardisation to module columns. Print the first 5 lines of the data to validate\n",
    "\"\"\"\n",
    "\n",
    "result = ds_agent(query=query, session=session)"
   ]
  },
  {
   "cell_type": "markdown",
   "metadata": {
    "id": "AYMDCvZIvu3Q"
   },
   "source": [
    "# Step 5: Final observations\n",
    "In this section you are asking the agent to give you a final view on this dataset and some advice for students.\n",
    "\n",
    "This is just an exercise and we do not suggest that advice provided is to be followed. Each student is different and should consult with teachers, guidance counsellors, or other trusted adults for personalised advice and support.\n"
   ]
  },
  {
   "cell_type": "code",
   "execution_count": null,
   "metadata": {
    "id": "YkbucQLPvkEL",
    "tags": []
   },
   "outputs": [
    {
     "data": {
      "text/html": [
       "<h3>Results: </h3><pre>Based on the visualizations and our discussions so far, here are some observations about the relationship between student habits and academic performance in this dataset:\n",
       "\n",
       "**Strongest Relationship:**\n",
       "\n",
       "* **Sleeping Habits:** There's a consistent and noticeable positive correlation between satisfactory sleeping habits and higher scores across all three academic subjects (Maths, Reading, Writing). Students who reported satisfactory sleeping habits tend to perform better academically. This aligns with general research findings on the importance of sleep for cognitive function and learning. \n",
       "\n",
       "**Potential Relationship:**\n",
       "\n",
       "* **Eating Habits:**  While less pronounced than sleeping habits, there seems to be a slight tendency for students with 'Healthy' eating habits to have better scores. However, this relationship appears weaker and requires further statistical analysis to confirm its significance.\n",
       "\n",
       "**Unclear Relationship:**\n",
       "\n",
       "* **Extracurricular Activities:** The relationship between 'ExtraActivitiesGroup' and academic performance is less clear-cut.  While 'Group C' often exhibits higher median scores, the 'Unknown' group also shows strong performance in some cases, making it difficult to draw conclusions without knowing more about the group compositions. Further investigation into these groups is needed. \n",
       "\n",
       "**Additional Points:**\n",
       "\n",
       "* **Causation vs. Correlation:** It's important to remember that these observations reveal correlations, not necessarily causation. We cannot definitively say that better sleep *causes* better grades, although it's a likely contributing factor. Other variables not included in this dataset, such as socioeconomic background, learning styles, or access to resources, could also play significant roles.\n",
       "* **Data Limitations:**  The relatively small sample size of the dataset and the presence of an \"Unknown\" category in 'ExtraActivitiesGroup' limit the generalizability of these findings. \n",
       "\n",
       "**Further Exploration:**\n",
       "\n",
       "To gain a more robust understanding, we could:\n",
       "\n",
       "* **Statistical Tests:** Perform statistical tests (e.g., ANOVA, t-tests) to determine the statistical significance of the observed differences in module scores across different categories of eating habits, sleeping habits, and activity groups.\n",
       "* **Combined Effects:** Analyze the potential combined effects of these habits. For instance, do students with both healthy eating AND satisfactory sleep perform best?\n",
       "* **Feature Engineering:** Explore creating new features based on combinations of habits to potentially uncover more complex relationships.\n",
       "* **Gather More Data:** If possible, collecting additional data on other potentially relevant factors (e.g., socioeconomic indicators, learning disabilities, study time) would help build a more comprehensive model.\n",
       "\n",
       "Let me know if you would like to delve deeper into any of these points or have other hypotheses you'd like to test! I'm ready to help you uncover further insights from this data. \n",
       "</pre>"
      ],
      "text/plain": [
       "<IPython.core.display.HTML object>"
      ]
     },
     "metadata": {},
     "output_type": "display_data"
    }
   ],
   "source": [
    "query=\"\"\"\n",
    "What are your observations of this dataset in terms of habits in comparison to academic performance?\n",
    "\"\"\"\n",
    "\n",
    "result = ds_agent(query=query, session=session)"
   ]
  },
  {
   "cell_type": "code",
   "execution_count": null,
   "metadata": {
    "id": "JXilwFuiv8B7",
    "tags": []
   },
   "outputs": [
    {
     "data": {
      "text/html": [
       "<h3>Results: </h3><pre>Based on the insights from this dataset and general academic advice, here's what we could recommend to students to potentially enhance their academic performance:\n",
       "\n",
       "**Prioritize Sleep:**  The data strongly suggests a link between satisfactory sleeping habits and better scores in Maths, Reading, and Writing.  Encourage students to:\n",
       "\n",
       "* **Establish a Consistent Sleep Schedule:**  Aim for a regular sleep-wake cycle, even on weekends, to regulate the body's natural sleep-wake rhythm.\n",
       "* **Create a Relaxing Bedtime Routine:** Wind down an hour or two before bed with calming activities like reading, taking a warm bath, or listening to relaxing music.\n",
       "* **Optimize Their Sleep Environment:**  Ensure a dark, quiet, and cool bedroom. Invest in blackout curtains, earplugs, or a white noise machine if needed.\n",
       "* **Limit Screen Time Before Bed:** The blue light emitted from screens can interfere with sleep. Encourage students to put away their devices at least an hour before bedtime.\n",
       "\n",
       "**Focus on Healthy Eating:**\n",
       "\n",
       "* **Balanced Diet:** Emphasize the importance of a balanced diet rich in fruits, vegetables, whole grains, and lean protein for optimal brain function and energy levels.\n",
       "* **Regular Mealtimes:** Encourage students to establish regular mealtimes to avoid energy crashes and maintain stable blood sugar levels throughout the day.\n",
       "* **Hydration:**  Remind students to stay hydrated throughout the day, as even mild dehydration can negatively impact cognitive performance.\n",
       "\n",
       "**Extracurricular Activities - Find the Right Balance:**\n",
       "\n",
       "* **Explore Interests:** Encourage students to participate in extracurricular activities that genuinely interest them, as this can boost motivation and engagement. \n",
       "* **Time Management:** Emphasize the importance of balancing extracurricular commitments with academic responsibilities. \n",
       "* **Don't Overcommit:** It's better to focus on a few activities where students can fully participate rather than spreading themselves too thin.\n",
       "\n",
       "**Additional Advice:**\n",
       "\n",
       "* **Active Learning:** Encourage students to go beyond passive learning by actively engaging with the material through note-taking, summarizing, teaching concepts to others, and seeking clarification when needed. \n",
       "* **Stress Management:** Help students develop healthy coping mechanisms for stress, such as exercise, mindfulness, or spending time in nature.\n",
       "* **Seek Support:** Remind students that they don't have to navigate academic challenges alone. Encourage them to reach out to teachers, guidance counselors, or tutors for support when needed.\n",
       "\n",
       "**Important Note:**\n",
       "\n",
       "This advice should be tailored to individual student needs and preferences.  It's crucial to consider individual circumstances, learning styles, and any underlying health conditions that may require specialized support.  \n",
       "</pre>"
      ],
      "text/plain": [
       "<IPython.core.display.HTML object>"
      ]
     },
     "metadata": {},
     "output_type": "display_data"
    }
   ],
   "source": [
    "query=\"\"\"\n",
    "What could be an advice to students?\n",
    "\"\"\"\n",
    "\n",
    "result = ds_agent(query=query, session=session)"
   ]
  },
  {
   "cell_type": "code",
   "execution_count": null,
   "metadata": {
    "id": "4BDTdrX_wzpj",
    "tags": []
   },
   "outputs": [
    {
     "data": {
      "text/html": [
       "<h3>CSV files generated: </h3><pre><ul><li><a href=\"data:text/csv;base64,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\">file_1.csv</a></li></ul></pre><h3>Results: </h3><pre>```tool_code\n",
       "# Save the DataFrame to a CSV file named 'final_dataset.csv'\n",
       "data_1.to_csv('final_dataset.csv', index=False) \n",
       "print(\"The 'final_dataset.csv' file has been created.\")\n",
       "```\n",
       "```tool_outputs\n",
       "The 'final_dataset.csv' file has been created.\n",
       "\n",
       "```\n",
       "I have saved the processed dataset to a file named `final_dataset.csv`. It is now available for you to download and use for further analysis. \n",
       "\n",
       "Is there anything else I can assist you with today? \n",
       "</pre>"
      ],
      "text/plain": [
       "<IPython.core.display.HTML object>"
      ]
     },
     "metadata": {},
     "output_type": "display_data"
    }
   ],
   "source": [
    "query=\"\"\"\n",
    "Please return the final dataset in a csv file\n",
    "\"\"\"\n",
    "\n",
    "result = ds_agent(query=query, session=session)"
   ]
  },
  {
   "cell_type": "markdown",
   "metadata": {
    "id": "HwV0x_Rx2vK4"
   },
   "source": [
    "# Playground\n",
    "We hope you enjoyed this tutorial! Here you can interact with a data science agent in a new session. You can upload your own data by attaching it in the initial message (use the paperclip button) and start asking questions. You can download the same student.csv dataset and reuse that for experimentation.\n",
    "\n",
    "**Note: Launching the Playground from outside of Colab may not work.**\n"
   ]
  },
  {
   "cell_type": "markdown",
   "metadata": {
    "id": "M_1aVcTR4Rxg"
   },
   "source": [
    "Generating credentials for Gradio UI:"
   ]
  },
  {
   "cell_type": "code",
   "execution_count": 27,
   "metadata": {
    "id": "ekSPjuJp4RfY",
    "tags": []
   },
   "outputs": [
    {
     "name": "stdout",
     "output_type": "stream",
     "text": [
      "Use the following information to login to the gradio UI: \n",
      "\n",
      "username: user \n",
      "password: OXnvrMAI8dw\n"
     ]
    }
   ],
   "source": [
    "import secrets\n",
    "\n",
    "username = \"user\"\n",
    "password = secrets.token_urlsafe(8)\n",
    "\n",
    "print(f\"Use the following information to login to the gradio UI: \\n\\nusername: user \\npassword: {password}\")"
   ]
  },
  {
   "cell_type": "markdown",
   "metadata": {
    "id": "VvGUDg6yRAx7"
   },
   "source": [
    "For better experience you can open gradio on a new tab by clicking on the gradio public URL that is generated after you run the following cell."
   ]
  },
  {
   "cell_type": "code",
   "execution_count": 28,
   "metadata": {
    "id": "ElhsyrWZ2u0Y",
    "tags": []
   },
   "outputs": [
    {
     "name": "stdout",
     "output_type": "stream",
     "text": [
      "Running on local URL:  http://127.0.0.1:7860\n",
      "Running on public URL: https://8c87f0afd9bc0fd18e.gradio.live\n",
      "\n",
      "This share link expires in 72 hours. For free permanent hosting and GPU upgrades, run `gradio deploy` from Terminal to deploy to Spaces (https://huggingface.co/spaces)\n"
     ]
    },
    {
     "data": {
      "text/html": [
       "<div><iframe src=\"https://8c87f0afd9bc0fd18e.gradio.live\" width=\"100%\" height=\"500\" allow=\"autoplay; camera; microphone; clipboard-read; clipboard-write;\" frameborder=\"0\" allowfullscreen></iframe></div>"
      ],
      "text/plain": [
       "<IPython.core.display.HTML object>"
      ]
     },
     "metadata": {},
     "output_type": "display_data"
    },
    {
     "name": "stdout",
     "output_type": "stream",
     "text": [
      "Keyboard interruption in main thread... closing server.\n",
      "Killing tunnel 127.0.0.1:7860 <> https://8c87f0afd9bc0fd18e.gradio.live\n"
     ]
    },
    {
     "data": {
      "text/plain": []
     },
     "execution_count": 28,
     "metadata": {},
     "output_type": "execute_result"
    }
   ],
   "source": [
    "session = app.start_session()\n",
    "gr.ChatInterface(gradio_agent,\n",
    "    title=\"Data Science Agent\",\n",
    "    examples=[{\"text\":\"session:reset\"}],\n",
    "    multimodal=True).launch(debug=True, share=True, auth=(username, password))"
   ]
  },
  {
   "cell_type": "markdown",
   "metadata": {
    "id": "figw2zZ7MmO4"
   },
   "source": [
    "# Cleaning Up\n",
    "In this tutorial we used the Vertex AI Agent API with the Code Interpreter Vertex AI Extension to analyse a csv dataset.\n",
    "\n",
    "To delete your app, uncomment and run:"
   ]
  },
  {
   "cell_type": "code",
   "execution_count": null,
   "metadata": {
    "id": "tL9X-jZHahmL"
   },
   "outputs": [],
   "source": [
    "# app.delete(app.app_name)"
   ]
  },
  {
   "cell_type": "markdown",
   "metadata": {
    "id": "iaaHgGIYbK0L"
   },
   "source": [
    "You also created an Code Interpter extension in this notebook, if you want to delete it uncomment and run:"
   ]
  },
  {
   "cell_type": "code",
   "execution_count": null,
   "metadata": {
    "id": "PLdFmPeao_zR"
   },
   "outputs": [],
   "source": [
    "# extension_code_interpreter.delete()"
   ]
  },
  {
   "cell_type": "markdown",
   "metadata": {
    "id": "HuSYP8VbbTQZ"
   },
   "source": [
    "If you restarted the notebook, you may have additional apps and extensions that need cleaning up.\n",
    "\n",
    "List all the apps in your project:"
   ]
  },
  {
   "cell_type": "code",
   "execution_count": null,
   "metadata": {
    "id": "rX9qQnfuakBQ"
   },
   "outputs": [],
   "source": [
    "App.list_apps()"
   ]
  },
  {
   "cell_type": "markdown",
   "metadata": {
    "id": "sLF4FepEbyBs"
   },
   "source": [
    "If you see more apps that you don't want, look for the `app_name` values (they look like `projects/PROJECT_NUMBER/locations/LOCATION/apps/APP_NUMBER`) and use the following line of code to delete them manually:"
   ]
  },
  {
   "cell_type": "code",
   "execution_count": null,
   "metadata": {
    "id": "AdiB0ozBY-Hz"
   },
   "outputs": [],
   "source": [
    "App.delete(app_name=\"projects/PROJECT_NUMBER/locations/LOCATION/apps/APP_NUMBER)"
   ]
  },
  {
   "cell_type": "markdown",
   "metadata": {
    "id": "Trj3-K5So_zS"
   },
   "source": [
    "You can run the next cell to get a list of all Vertex AI Extensions Instances in your environment:"
   ]
  },
  {
   "cell_type": "code",
   "execution_count": null,
   "metadata": {
    "id": "NOrV6r1Po_zT"
   },
   "outputs": [],
   "source": [
    "from vertexai.preview import extensions\n",
    "extensions.Extension.list()"
   ]
  },
  {
   "cell_type": "markdown",
   "metadata": {
    "id": "sGnmwXF1eLUC"
   },
   "source": [
    "If you see extensions that you don't want, look for the `resource name` values (they look like `projects/PROJECT_NUMBER/locations/LOCATION/extensions/EXTENSION_NUMBER`) and use the following line of code to delete them manually:"
   ]
  },
  {
   "cell_type": "code",
   "execution_count": null,
   "metadata": {
    "id": "oyydObUueLAZ"
   },
   "outputs": [],
   "source": [
    "extension = extensions.Extension(\"projects/PROJECT_NUMBER/locations/LOCATION/extensions/EXTENSION_NUMBER\")\n",
    "extension.delete()"
   ]
  },
  {
   "cell_type": "markdown",
   "metadata": {
    "id": "K1pyDrUuSOg8"
   },
   "source": [
    "You can run the next cell to get a list of all Vertex AI Extensions Instances in your environment:"
   ]
  },
  {
   "cell_type": "code",
   "execution_count": null,
   "metadata": {
    "id": "G6y9BgeyQuXj"
   },
   "outputs": [],
   "source": [
    "extension_code_interpreter.delete()"
   ]
  },
  {
   "cell_type": "markdown",
   "metadata": {
    "id": "-DjFqPctqxg8"
   },
   "source": [
    "If you restarted the notebook runtime, you may have some stray registered Extensions. This next line of code shows you all the Extensions registered in your project:"
   ]
  },
  {
   "cell_type": "code",
   "execution_count": null,
   "metadata": {
    "id": "GWNvVKjBtiWY"
   },
   "outputs": [],
   "source": [
    "extensions.Extension.list()"
   ]
  },
  {
   "cell_type": "markdown",
   "metadata": {
    "id": "Rem_HsH6tiWY"
   },
   "source": [
    "You can use the [Google Cloud Console](https://console.cloud.google.com/vertex-ai/extensions) to view and delete any stray registered Extensions.\n",
    "\n",
    "If you want to delete all the extensions in your project, uncomment and run this code block. **WARNING**: This cannot be undone!"
   ]
  },
  {
   "cell_type": "code",
   "execution_count": null,
   "metadata": {
    "id": "DWPNr8gEtiWZ"
   },
   "outputs": [],
   "source": [
    "\"\"\"\n",
    "clean_ids = []\n",
    "\n",
    "for element in extensions.Extension.list():\n",
    "  clean_ids.append(str(element).split(\"extensions/\")[1])\n",
    "\n",
    "for id in clean_ids:\n",
    "  extension = extensions.Extension(id)\n",
    "  extension.delete()\n",
    "\"\"\""
   ]
  },
  {
   "cell_type": "markdown",
   "metadata": {},
   "source": [
    "Delete the csv file:"
   ]
  },
  {
   "cell_type": "code",
   "execution_count": null,
   "metadata": {
    "tags": []
   },
   "outputs": [],
   "source": [
    "#!rm students.csv"
   ]
  }
 ],
 "metadata": {
  "colab": {
   "provenance": []
  },
  "environment": {
   "kernel": "chris_env3",
   "name": "tf2-cpu.2-11.m120",
   "type": "gcloud",
   "uri": "us-docker.pkg.dev/deeplearning-platform-release/gcr.io/tf2-cpu.2-11:m120"
  },
  "kernelspec": {
   "display_name": "chris_env3 (Local)",
   "language": "python",
   "name": "chris_env3"
  },
  "language_info": {
   "codemirror_mode": {
    "name": "ipython",
    "version": 3
   },
   "file_extension": ".py",
   "mimetype": "text/x-python",
   "name": "python",
   "nbconvert_exporter": "python",
   "pygments_lexer": "ipython3",
   "version": "3.10.14"
  }
 },
 "nbformat": 4,
 "nbformat_minor": 4
}
