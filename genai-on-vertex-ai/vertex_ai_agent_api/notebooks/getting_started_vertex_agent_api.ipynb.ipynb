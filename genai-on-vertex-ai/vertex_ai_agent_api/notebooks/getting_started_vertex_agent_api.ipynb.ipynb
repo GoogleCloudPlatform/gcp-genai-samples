{
 "cells": [
  {
   "cell_type": "markdown",
   "id": "4657aed4-02c2-4fa6-89db-dfa20f532716",
   "metadata": {
    "tags": []
   },
   "source": [
    "# Getting Started with the Vertex AI Agent API"
   ]
  },
  {
   "cell_type": "code",
   "execution_count": null,
   "id": "6d066290-2cbf-438e-806f-64fd7a3996e0",
   "metadata": {},
   "outputs": [],
   "source": []
  }
 ],
 "metadata": {
  "environment": {
   "kernel": "test_pandas",
   "name": "workbench-notebooks.m119",
   "type": "gcloud",
   "uri": "us-docker.pkg.dev/deeplearning-platform-release/gcr.io/workbench-notebooks:m119"
  },
  "kernelspec": {
   "display_name": "test_pandas (Local)",
   "language": "python",
   "name": "test_pandas"
  },
  "language_info": {
   "codemirror_mode": {
    "name": "ipython",
    "version": 3
   },
   "file_extension": ".py",
   "mimetype": "text/x-python",
   "name": "python",
   "nbconvert_exporter": "python",
   "pygments_lexer": "ipython3",
   "version": "3.10.14"
  }
 },
 "nbformat": 4,
 "nbformat_minor": 5
}
