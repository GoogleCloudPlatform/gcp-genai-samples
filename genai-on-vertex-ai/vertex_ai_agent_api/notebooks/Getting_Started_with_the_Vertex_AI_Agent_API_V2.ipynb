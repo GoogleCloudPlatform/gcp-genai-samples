{
  "cells": [
    {
      "cell_type": "code",
      "execution_count": null,
      "metadata": {
        "id": "Js_h8jjWM1mu"
      },
      "outputs": [],
      "source": [
        "# Copyright 2024 Google LLC\n",
        "#\n",
        "# Licensed under the Apache License, Version 2.0 (the \"License\");\n",
        "# you may not use this file except in compliance with the License.\n",
        "# You may obtain a copy of the License at\n",
        "#\n",
        "#     https://www.apache.org/licenses/LICENSE-2.0\n",
        "#\n",
        "# Unless required by applicable law or agreed to in writing, software\n",
        "# distributed under the License is distributed on an \"AS IS\" BASIS,\n",
        "# WITHOUT WARRANTIES OR CONDITIONS OF ANY KIND, either express or implied.\n",
        "# See the License for the specific language governing permissions and\n",
        "# limitations under the License."
      ]
    },
    {
      "cell_type": "markdown",
      "source": [
        "# Getting Started with the Vertex AI Agent API\n"
      ],
      "metadata": {
        "id": "ZJ5caKL2Ff2B"
      }
    },
    {
      "cell_type": "markdown",
      "source": [
        "<table align=\"left\">\n",
        "  <td style=\"text-align: center\">\n",
        "    <a href=\"https://colab.research.google.com/github/GoogleCloudPlatform/generative-ai/blob/main/notebook_template.ipynb\">\n",
        "      <img src=\"https://cloud.google.com/ml-engine/images/colab-logo-32px.png\" alt=\"Google Colaboratory logo\"><br> Open in Colab\n",
        "    </a>\n",
        "  </td>\n",
        "  <td style=\"text-align: center\">\n",
        "    <a href=\"https://console.cloud.google.com/vertex-ai/colab/import/https:%2F%2Fraw.githubusercontent.com%2FGoogleCloudPlatform%2Fgenerative-ai%2Fmain%2Fnotebook_template.ipynb\">\n",
        "      <img width=\"32px\" src=\"https://lh3.googleusercontent.com/JmcxdQi-qOpctIvWKgPtrzZdJJK-J3sWE1RsfjZNwshCFgE_9fULcNpuXYTilIR2hjwN\" alt=\"Google Cloud Colab Enterprise logo\"><br> Open in Colab Enterprise\n",
        "    </a>\n",
        "  </td>    \n",
        "  <td style=\"text-align: center\">\n",
        "    <a href=\"https://console.cloud.google.com/vertex-ai/workbench/deploy-notebook?download_url=https://raw.githubusercontent.com/GoogleCloudPlatform/generative-ai/main/notebook_template.ipynb\">\n",
        "      <img src=\"https://lh3.googleusercontent.com/UiNooY4LUgW_oTvpsNhPpQzsstV5W8F7rYgxgGBD85cWJoLmrOzhVs_ksK_vgx40SHs7jCqkTkCk=e14-rj-sc0xffffff-h130-w32\" alt=\"Vertex AI logo\"><br> Open in Vertex AI Workbench\n",
        "    </a>\n",
        "  </td>\n",
        "  <td style=\"text-align: center\">\n",
        "    <a href=\"https://github.com/GoogleCloudPlatform/generative-ai/blob/main/notebook_template.ipynb\">\n",
        "      <img src=\"https://cloud.google.com/ml-engine/images/github-logo-32px.png\" alt=\"GitHub logo\"><br> View on GitHub\n",
        "    </a>\n",
        "  </td>\n",
        "</table>"
      ],
      "metadata": {
        "id": "5Qj-TzSNGUii"
      }
    },
    {
      "cell_type": "markdown",
      "source": [
        "| | |\n",
        "|----------|-------------|\n",
        "| Author(s)   | Michael Sherman, Shangjie Chen, Lexi Delorey , Kanchana Patlolla|\n",
        "| Reviewer(s) | TODO |\n",
        "| Last updated |2024 10 04: Update to V2 SDK |2024 07 21: Update to 1.60 SDK |\n",
        "| | 2024 06 28: Initial Draft|"
      ],
      "metadata": {
        "id": "ocycMnwJGUii"
      }
    },
    {
      "cell_type": "markdown",
      "source": [
        "# Overview\n",
        "\n",
        "This notebooks show how to use the [Vertex AI Agent API](https://cloud.google.com/vertex-ai/generative-ai/docs/agent-api/overview).\n",
        "\n",
        "The Vertex AI Agent API is a low-code way to build interactive AI agents.\n",
        "\n",
        "In this notebook you will learn how to do the following:\n",
        "- Create an application to hold an Agent.\n",
        "- Create an agent.\n",
        "- Interact with an agent.\n",
        "- Add an [extension](https://cloud.google.com/vertex-ai/generative-ai/docs/extensions/overview) tool to an agent.\n",
        "- Add a [function calling](https://cloud.google.com/vertex-ai/generative-ai/docs/multimodal/function-calling) tool to an agent.\n",
        "- Handle an agent's request to call a function.\n",
        "\n"
      ],
      "metadata": {
        "id": "FlkJDD0nGUij"
      }
    },
    {
      "cell_type": "markdown",
      "source": [
        " ## Vertex AI Agent API\n",
        "\n",
        " The [Vertex AI Agent API](https://cloud.google.com/vertex-ai/generative-ai/docs/agent-api/overview) is an API for creating and managing generative AI systems called \"agents\" that can  reason, plan, and act to perform specific tasks.\n",
        "\n",
        "Vertex AI Agent API offers the following benefits:\n",
        "\n",
        "* **Faster time to market**: Agent API lets you get your AI agents up and running quickly with minimal effort. Agent development requires just a few lines of code.\n",
        "* **Flexibility and customization**: Agent API provides you with the flexibility to tune and customize your agents.\n",
        "* **Managed orchestration**: Agent API handles the complex orchestration of agent actions and state management, ensuring optimal performance and reliability.\n",
        "* **Google-backed reliability**: Agent API provides you with the benefits of Google's expertise in building scalable, reliable AI systems.\n",
        "* **Scalable platform advantages**: Agent API provides you with the benefits of Google Cloud's infrastructure to scale in a secure and responsible way.\n",
        "* **Seamless integration**: Agent API leverages the product portfolio available through integrations with Vertex AI, Google Cloud properties, and cross-Google products."
      ],
      "metadata": {
        "id": "KUXzlvfpn513"
      }
    },
    {
      "cell_type": "markdown",
      "source": [
        "## Using This Notebook\n",
        "\n",
        "Colab is recommended for running this notebook, but it can run in any iPython environment where you can connect to Google Cloud, install pip packages, etc.\n",
        "\n",
        "If you're running outside of Colab, depending on your environment you may need to install pip packages (at the very least `pandas` and `tabulate`) that are included in the Colab environment by default but are not part of the Python Standard Library--try pipping the library name of any imports that fail.\n",
        "\n",
        "This tutorial uses the following Google Cloud services and resources:\n",
        "\n",
        "* [Vertex AI Agent API](https://cloud.google.com/vertex-ai/generative-ai/docs/agent-api/overview)\n",
        "\n",
        "This notebook has been tested in the following environment:\n",
        "\n",
        "* Python version = 3.10.12\n",
        "* [google-cloud-aiplatform](https://pypi.org/project/google-cloud-aiplatform/) version = UPDATE THIS"
      ],
      "metadata": {
        "id": "uNriTZl70OdV"
      }
    },
    {
      "cell_type": "markdown",
      "source": [
        "## Useful Tips\n",
        "\n",
        "1. This notebook uses Generative AI cababilities. Re-running a cell that uses Generative AI capabilities may produce similar but not identical results.\n",
        "2. Because of #1, it is possible that an output produces errors. If that happens re-run the cell that produced the error. The re-run will likely be bug free.\n",
        "3. The use of Generative AI capabilities is subject to service quotas. Running the notebook using \"Run All\" may exceed your queries per minute (QPM) limitations. Run the notebook manually and if you get a quota error pause for up to 1 minute before retrying that cell. The Vertex AI Agent API defaults to Gemini on the backend and is subject to the Gemini quotas, [view your Gemini quotas here](https://console.cloud.google.com/iam-admin/quotas?pageState=(%22allQuotasTable%22:(%22f%22:%22%255B%257B_22k_22_3A_22_22_2C_22t_22_3A10_2C_22v_22_3A_22_5C_22base_model_5C_22_22%257D_2C%257B_22k_22_3A_22_22_2C_22t_22_3A10_2C_22v_22_3A_22_5C_22gemini_5C_22_22%257D%255D%22%29%29&e=13802955&mods=logs_tg_staging).\n"
      ],
      "metadata": {
        "id": "Ar0aDcql1dxl"
      }
    },
    {
      "cell_type": "markdown",
      "source": [
        "# Getting Started\n",
        "\n",
        "The following steps are necessary to run this notebook, no matter what notebook environment you're using.\n",
        "\n",
        "If you're entirely new to Google Cloud, [get started here](https://cloud.google.com/docs/get-started)."
      ],
      "metadata": {
        "id": "PO_tnShTGUik"
      }
    },
    {
      "cell_type": "markdown",
      "source": [
        "## Google Cloud Project Setup\n",
        "\n",
        "1. [Select or create a Google Cloud project](https://console.cloud.google.com/cloud-resource-manager). When you first create an account, you get a $300 free credit towards your compute/storage costs.\n",
        "1. [Make sure that billing is enabled for your project](https://cloud.google.com/billing/docs/how-to/modify-project).\n",
        "1. [Enable the Vertex AI API](https://console.cloud.google.com/flows/enableapi?apiid=aiplatform.googleapis.com)."
      ],
      "metadata": {
        "id": "XLf5oGqHn_DH"
      }
    },
    {
      "cell_type": "markdown",
      "source": [
        "## Google Cloud Permissions\n",
        "Make sure you have been [granted the following roles](https://cloud.google.com/iam/docs/granting-changing-revoking-access) for the GCP project you'll access from this notebook:\n",
        "* [`roles/aiplatform.user`](https://cloud.google.com/vertex-ai/docs/general/access-control#aiplatform.user)"
      ],
      "metadata": {
        "id": "PTuXDJ2qn-8W"
      }
    },
    {
      "cell_type": "markdown",
      "source": [
        "## Outside of Colab: Install the Google Cloud CLI\n",
        "\n",
        "If you are running this notebook in your own environment, you need to install the [Cloud SDK](https://cloud.google.com/sdk) (aka `gcloud`)."
      ],
      "metadata": {
        "id": "YE5wS2uzoDsk"
      }
    },
    {
      "cell_type": "markdown",
      "source": [
        "## Authenticate\n",
        "\n",
        "If you're using Colab, run the code in the next cell. Follow the popups and authenticate with an account that has access to your Google Cloud [project](https://cloud.google.com/resource-manager/docs/creating-managing-projects#identifying_projects).\n",
        "\n",
        "If you're running this notebook somewhere besides Colab, make sure your environment has the right Google Cloud access. If that's a new concept to you, consider looking into [Application Default Credentials for your local environment](https://cloud.google.com/docs/authentication/provide-credentials-adc#local-dev) and [initializing the Google Cloud CLI](https://cloud.google.com/docs/authentication/gcloud). In many cases, running `gcloud auth application-default login` and/or `gcloud auth login` in a shell on the machine running the notebook kernel is sufficient.\n",
        "\n",
        "More authentication options are discussed [here](https://cloud.google.com/docs/authentication)."
      ],
      "metadata": {
        "id": "7plalcaLGUik"
      }
    },
    {
      "cell_type": "code",
      "source": [
        "# Colab authentication.\n",
        "import sys\n",
        "\n",
        "if \"google.colab\" in sys.modules:\n",
        "    from google.colab import auth\n",
        "    auth.authenticate_user()\n",
        "    print(\"Authenticated\")"
      ],
      "metadata": {
        "colab": {
          "base_uri": "https://localhost:8080/"
        },
        "outputId": "4e185596-ca06-47bc-e910-b8152c08e80f",
        "id": "THYfMKWMGUil"
      },
      "execution_count": 26,
      "outputs": [
        {
          "output_type": "stream",
          "name": "stdout",
          "text": [
            "Authenticated\n"
          ]
        }
      ]
    },
    {
      "cell_type": "markdown",
      "source": [
        "## Install the Google Cloud Vertex AI Python SDK\n",
        "\n",
        "Install the Google Cloud Vertex AI Python SDK, and if you already have the Google Cloud Vertex AI Python SDK installed, upgrade to the latest version."
      ],
      "metadata": {
        "id": "JdU-qMmbpR8r"
      }
    },
    {
      "cell_type": "code",
      "source": [
        "from google.colab import auth\n",
        "auth.authenticate_user()\n",
        "# Outside of colab, gcloud auth login\n",
        "\n",
        "#!gsutil cp gs://vertex_agents_private_releases/vertex_agents/google_cloud_aiplatform-1.60.dev20240710+vertex.agents-py2.py3-none-any.whl .\n",
        "#!pip install --upgrade --force-reinstall -q google_cloud_aiplatform-1.60.dev20240710+vertex.agents-py2.py3-none-any.whl --no-warn-conflicts\n",
        "!pip install -U \"pandas==2.2.2\"\n",
        "!pip install -U \"numpy<2\""
      ],
      "metadata": {
        "colab": {
          "base_uri": "https://localhost:8080/"
        },
        "id": "VoKp1ul32YkS",
        "outputId": "4f19167a-2942-4c70-d6a7-ac06ff40e4ac"
      },
      "execution_count": 27,
      "outputs": [
        {
          "output_type": "stream",
          "name": "stdout",
          "text": [
            "Requirement already satisfied: pandas==2.2.2 in /usr/local/lib/python3.10/dist-packages (2.2.2)\n",
            "Requirement already satisfied: numpy>=1.22.4 in /usr/local/lib/python3.10/dist-packages (from pandas==2.2.2) (1.26.4)\n",
            "Requirement already satisfied: python-dateutil>=2.8.2 in /usr/local/lib/python3.10/dist-packages (from pandas==2.2.2) (2.9.0.post0)\n",
            "Requirement already satisfied: pytz>=2020.1 in /usr/local/lib/python3.10/dist-packages (from pandas==2.2.2) (2024.2)\n",
            "Requirement already satisfied: tzdata>=2022.7 in /usr/local/lib/python3.10/dist-packages (from pandas==2.2.2) (2024.2)\n",
            "Requirement already satisfied: six>=1.5 in /usr/local/lib/python3.10/dist-packages (from python-dateutil>=2.8.2->pandas==2.2.2) (1.16.0)\n",
            "Requirement already satisfied: numpy<2 in /usr/local/lib/python3.10/dist-packages (1.26.4)\n"
          ]
        }
      ]
    },
    {
      "cell_type": "code",
      "source": [
        "# Install gcloud\n",
        "!pip install --quiet google-cloud\n",
        "\n",
        "WHL_FILEPATH = \" gs://vertex_sdk_private_releases/agents_v2/google_cloud_aiplatform-1.70.dev20241002+vertex.agents.v2-py2.py3-none-any.whl\"\n",
        "!gsutil cp {WHL_FILEPATH} .\n",
        "\n",
        "# Install the private SDK\n",
        "!pip install --quiet {WHL_FILEPATH.split(\"/\")[-1]} \"numpy<2.0.0\" --force-reinstall"
      ],
      "metadata": {
        "colab": {
          "base_uri": "https://localhost:8080/"
        },
        "id": "NqdWVG9Wo3qL",
        "outputId": "2f4fc8d1-1d48-4483-f630-cb9456af6b85"
      },
      "execution_count": 28,
      "outputs": [
        {
          "output_type": "stream",
          "name": "stdout",
          "text": [
            "Copying gs://vertex_sdk_private_releases/agents_v2/google_cloud_aiplatform-1.70.dev20241002+vertex.agents.v2-py2.py3-none-any.whl...\n",
            "/ [1 files][  5.2 MiB/  5.2 MiB]                                                \n",
            "Operation completed over 1 objects/5.2 MiB.                                      \n",
            "\u001b[31mERROR: pip's dependency resolver does not currently take into account all the packages that are installed. This behaviour is the source of the following dependency conflicts.\n",
            "google-ai-generativelanguage 0.6.6 requires protobuf!=3.20.0,!=3.20.1,!=4.21.0,!=4.21.1,!=4.21.2,!=4.21.3,!=4.21.4,!=4.21.5,<5.0.0dev,>=3.19.5, but you have protobuf 5.28.2 which is incompatible.\n",
            "google-cloud-datastore 2.19.0 requires protobuf!=3.20.0,!=3.20.1,!=4.21.0,!=4.21.1,!=4.21.2,!=4.21.3,!=4.21.4,!=4.21.5,<5.0.0dev,>=3.19.5, but you have protobuf 5.28.2 which is incompatible.\n",
            "google-cloud-firestore 2.16.1 requires protobuf!=3.20.0,!=3.20.1,!=4.21.0,!=4.21.1,!=4.21.2,!=4.21.3,!=4.21.4,!=4.21.5,<5.0.0dev,>=3.19.5, but you have protobuf 5.28.2 which is incompatible.\n",
            "google-colab 1.0.0 requires google-auth==2.27.0, but you have google-auth 2.35.0 which is incompatible.\n",
            "tensorboard 2.17.0 requires protobuf!=4.24.0,<5.0.0,>=3.19.6, but you have protobuf 5.28.2 which is incompatible.\n",
            "tensorflow 2.17.0 requires protobuf!=4.21.0,!=4.21.1,!=4.21.2,!=4.21.3,!=4.21.4,!=4.21.5,<5.0.0dev,>=3.20.3, but you have protobuf 5.28.2 which is incompatible.\n",
            "tensorflow-metadata 1.16.0 requires protobuf<4.21,>=3.20.3; python_version < \"3.11\", but you have protobuf 5.28.2 which is incompatible.\u001b[0m\u001b[31m\n",
            "\u001b[0m"
          ]
        }
      ]
    },
    {
      "cell_type": "code",
      "source": [
        "#!pip install google-cloud-aiplatform --upgrade\n",
        "# Note -- this may not work in some non-Colab environments. If you get errors\n",
        "# when running 'import vertexai' below, you'll need to find another way to\n",
        "# install the latest google-cloud-aiplatform package into your notebook kernel.\n",
        "# In some kernel setups running \"%pip install google-cloud-aiplatform --upgrade\"\n",
        "# in a code cell works if \"!pip install ....\" doesn't. This may apply to other\n",
        "# package installations as well.\n",
        "\n",
        "\n",
        "## If you're running outside of colab, make sure to install the following modules as well:\n",
        "# !pip install pandas\n",
        "# !pip install google\n",
        "# !pip install google-api-python-client\n",
        "# !pip install google-oauth\n",
        "# !pip install google-auth-oauthlib"
      ],
      "metadata": {
        "id": "lHEI7wZMhZPd"
      },
      "execution_count": null,
      "outputs": []
    },
    {
      "cell_type": "markdown",
      "metadata": {
        "id": "R5Xep4W9lq-Z"
      },
      "source": [
        "### Restart Runtime\n",
        "\n",
        "You may need to restart your notebook runtime to use the Vertex AI SDK. You can do this by running the cell below, which restarts the current kernel.\n",
        "\n",
        "You may see the restart reported as a crash, but it is working as-intended -- you are merely restarting the runtime.\n",
        "\n",
        "The restart might take a minute or longer. After its restarted, continue to the next step."
      ]
    },
    {
      "cell_type": "code",
      "execution_count": 1,
      "metadata": {
        "id": "XRvKdaPDTznN",
        "colab": {
          "base_uri": "https://localhost:8080/"
        },
        "outputId": "c0aeb1e8-b1d2-45b0-9b5b-ad59c7cf0ea2"
      },
      "outputs": [
        {
          "output_type": "execute_result",
          "data": {
            "text/plain": [
              "{'status': 'ok', 'restart': True}"
            ]
          },
          "metadata": {},
          "execution_count": 1
        }
      ],
      "source": [
        "import IPython\n",
        "\n",
        "app = IPython.Application.instance()\n",
        "app.kernel.do_shutdown(True)"
      ]
    },
    {
      "cell_type": "markdown",
      "metadata": {
        "id": "SbmM4z7FOBpM"
      },
      "source": [
        "<div class=\"alert alert-block alert-warning\">\n",
        "<b>⚠️ The kernel is going to restart. Please wait until it is finished before continuing to the next step. ⚠️</b>\n",
        "</div>\n"
      ]
    },
    {
      "cell_type": "markdown",
      "source": [
        "If you're using Colab, as long the notebook runtime isn't deleted (even if it restarts) you don't need to re-run the previous cell.\n",
        "\n",
        "If you're running this notebook in your own environment you shouldn't need to run the above pip cell again unless you delete your IPython kernel."
      ],
      "metadata": {
        "id": "mCG23ih_sJr9"
      }
    },
    {
      "cell_type": "markdown",
      "metadata": {
        "id": "init_aip:mbsdk,all"
      },
      "source": [
        "# Initialize the Google Cloud Vertex AI Python SDK\n",
        "\n",
        "Start here if your Notebook kernel restarts (but isn't deleted), though if it's been a few hours you may need to run the Authentication steps above again.\n",
        "\n",
        "To initialize the SDK, you need to set your Google Cloud project ID and region.\n",
        "\n",
        "If you don't know your project  ID, try the [Google Cloud CLI](https://cloud.google.com/sdk) commands [`gcloud config list`](https://cloud.google.com/sdk/gcloud/reference/config/list) or [`gcloud projects list`](https://cloud.google.com/sdk/gcloud/reference/projects/list). See the support page [Locate the project ID](https://support.google.com/googleapi/answer/7014113) for more information.\n"
      ]
    },
    {
      "cell_type": "markdown",
      "metadata": {
        "id": "WReHDGG5g0XY"
      },
      "source": [
        "### Set Your Project ID\n",
        "\n"
      ]
    },
    {
      "cell_type": "code",
      "execution_count": 1,
      "metadata": {
        "id": "oM1iC_MfAts1"
      },
      "outputs": [],
      "source": [
        "PROJECT_ID = \"model-extend-test\"  # @param {type:\"string\"}\n",
        "\n",
        "# Set the project for CLI commands.\n",
        "# !gcloud config set project {PROJECT_ID}"
      ]
    },
    {
      "cell_type": "markdown",
      "metadata": {
        "id": "region"
      },
      "source": [
        "### Set the Region\n",
        "\n",
        "You can also change the `REGION` variable used by Vertex AI. Learn more about [Vertex AI regions](https://cloud.google.com/vertex-ai/docs/general/locations)."
      ]
    },
    {
      "cell_type": "code",
      "execution_count": 2,
      "metadata": {
        "id": "Cg9uNa6rlyWx"
      },
      "outputs": [],
      "source": [
        "REGION = \"us-central1\"  # @param {type: \"string\"}"
      ]
    },
    {
      "cell_type": "markdown",
      "source": [
        "### Import and Initialize the Vertex AI Python SDK"
      ],
      "metadata": {
        "id": "6-NbHLWtu-iW"
      }
    },
    {
      "cell_type": "code",
      "source": [
        "#import vertexai\n",
        "#from vertexai.preview import extensions\n",
        "\n",
        "#vertexai.init(\n",
        "#    project=PROJECT_ID,\n",
        "#    location=REGION\n",
        "#)"
      ],
      "metadata": {
        "id": "KhnzTqS8iOJC"
      },
      "execution_count": 3,
      "outputs": []
    },
    {
      "cell_type": "code",
      "source": [
        "from google.cloud import aiplatform\n",
        "from google.cloud.aiplatform.private_preview.vertex_agents_v2 import agents,sessions\n",
        "#from google.cloud.aiplatform.private_preview.vertex_agents.agent import Agent\n",
        "from vertexai.generative_models import FunctionDeclaration, Part\n",
        "from vertexai.preview.extensions import Extension\n",
        "\n",
        "API_ENDPOINT = \"us-central1-autopush-aiplatform.sandbox.googleapis.com\"\n",
        "aiplatform.init(project=PROJECT_ID, location=REGION, api_endpoint=API_ENDPOINT)"
      ],
      "metadata": {
        "id": "SnLyU9No5g0t"
      },
      "execution_count": 4,
      "outputs": []
    },
    {
      "cell_type": "markdown",
      "source": [
        "# Step 1: Create an Agent\n",
        "\n",
        "An AI agent reasons, plans, and takes actions. The agent takes actions via access to **tools**, deciding how and when to invoke a tool. The agent also manages orchestration, creating a plan for answering a user query and adapting to responses that aren't quite correct.\n",
        "\n",
        "Agent **tools** are either [Vertex AI Extensions](https://cloud.google.com/vertex-ai/generative-ai/docs/extensions/overview) or functions (set up using [function calling](https://cloud.google.com/vertex-ai/generative-ai/docs/multimodal/function-calling)).\n",
        "\n",
        "Create a simple agent. An agent requires two things: a display name and a set of instructions. The instructions should be detailed, making it clear exactly how the agent should behave.\n",
        "\n"
      ],
      "metadata": {
        "id": "BhsMXHMqrFSd"
      }
    },
    {
      "cell_type": "code",
      "source": [
        "DISPLAY_NAME = \"Dice Machine\"\n",
        "INSTRUCTIONS = \"\"\"\n",
        "You roll dice and answer questions about the outcome of the dice roll.\n",
        "You can roll dice of different sizes.\n",
        "The only things you do are roll dice for the user and discuss the outcomes.\n",
        "It is ok to discuss previous dice roles, and comment on the dice rolls.\n",
        "Do not do anything else.\n",
        "\"\"\"\n",
        "\n",
        "dice_agent = agents.create(\n",
        "    display_name=DISPLAY_NAME,\n",
        "    instruction=INSTRUCTIONS,\n",
        "    model=\"gemini-1.5-pro\")"
      ],
      "metadata": {
        "id": "YI8rLzj4FvB2",
        "colab": {
          "base_uri": "https://localhost:8080/"
        },
        "outputId": "4c0d0575-7989-417a-9704-e5258d0fca43"
      },
      "execution_count": 5,
      "outputs": [
        {
          "output_type": "stream",
          "name": "stderr",
          "text": [
            "INFO:google.cloud.aiplatform.private_preview.vertex_agents_v2.agents._agents:Creating Agent\n",
            "INFO:google.cloud.aiplatform.private_preview.vertex_agents_v2.agents._agents:Create Agent backing LRO: projects/1096655024998/locations/us-central1/agents/5523362027516461056/operations/4948289820959965184\n",
            "INFO:google.cloud.aiplatform.private_preview.vertex_agents_v2.agents._agents:Agent created. Resource name: projects/1096655024998/locations/us-central1/agents/5523362027516461056\n",
            "INFO:google.cloud.aiplatform.private_preview.vertex_agents_v2.agents._agents:To use this Agent in another session:\n",
            "INFO:google.cloud.aiplatform.private_preview.vertex_agents_v2.agents._agents:vertexai.preview.agent = aiplatform.Agent('projects/1096655024998/locations/us-central1/agents/5523362027516461056')\n"
          ]
        }
      ]
    },
    {
      "cell_type": "markdown",
      "source": [
        "## Interact with an Agent\n",
        "\n",
        "To interact with the agent, create a session and then use `run` to send your inputs."
      ],
      "metadata": {
        "id": "wuWv51F6Gybz"
      }
    },
    {
      "cell_type": "code",
      "source": [
        "dice_session = sessions.create(display_name=\"dice-session\")"
      ],
      "metadata": {
        "colab": {
          "base_uri": "https://localhost:8080/"
        },
        "id": "ehc5kUq3F3G5",
        "outputId": "3d5bb05c-27a3-4688-c65e-64372417c655"
      },
      "execution_count": 6,
      "outputs": [
        {
          "output_type": "stream",
          "name": "stderr",
          "text": [
            "INFO:google.cloud.aiplatform.private_preview.vertex_agents_v2.sessions._sessions:Creating Session\n",
            "INFO:google.cloud.aiplatform.private_preview.vertex_agents_v2.sessions._sessions:Create Session backing LRO: projects/1096655024998/locations/us-central1/sessions/6164843499440046080/operations/2642446811746271232\n",
            "INFO:google.cloud.aiplatform.private_preview.vertex_agents_v2.sessions._sessions:Session created. Resource name: projects/1096655024998/locations/us-central1/sessions/6164843499440046080\n",
            "INFO:google.cloud.aiplatform.private_preview.vertex_agents_v2.sessions._sessions:To use this Session in another session:\n",
            "INFO:google.cloud.aiplatform.private_preview.vertex_agents_v2.sessions._sessions:vertexai.preview.session = aiplatform.Session('projects/1096655024998/locations/us-central1/sessions/6164843499440046080')\n"
          ]
        }
      ]
    },
    {
      "cell_type": "markdown",
      "source": [
        "Keep using `.create_run` to have a conversation with the agent."
      ],
      "metadata": {
        "id": "MK9oMoVdWLvT"
      }
    },
    {
      "cell_type": "code",
      "source": [
        "run = dice_session.create_run(agent=dice_agent, content=\"Roll an 8 sided die.\")\n",
        "run"
      ],
      "metadata": {
        "id": "1ysu0ybwWLec",
        "colab": {
          "base_uri": "https://localhost:8080/"
        },
        "outputId": "b10a6a7a-b0dd-42c1-9df3-17e056f9934d"
      },
      "execution_count": 7,
      "outputs": [
        {
          "output_type": "execute_result",
          "data": {
            "text/plain": [
              "Run(name='projects/1096655024998/locations/us-central1/sessions/6164843499440046080/runs/1529689504829407232', state='RUN_COMPLETED', create_time=DatetimeWithNanoseconds(2024, 10, 7, 19, 34, 42, 161419, tzinfo=datetime.timezone.utc), agent='projects/1096655024998/locations/us-central1/agents/5523362027516461056', steps=[create_time {\n",
              "  seconds: 1728329682\n",
              "  nanos: 161419000\n",
              "}\n",
              "content {\n",
              "  role: \"user\"\n",
              "  parts {\n",
              "    text: \"Roll an 8 sided die.\"\n",
              "  }\n",
              "}\n",
              ", create_time {\n",
              "  seconds: 1728329682\n",
              "  nanos: 161419000\n",
              "}\n",
              "content {\n",
              "  role: \"model\"\n",
              "  parts {\n",
              "    text: \"You rolled a 5.\\n\"\n",
              "  }\n",
              "}\n",
              "])"
            ]
          },
          "metadata": {},
          "execution_count": 7
        }
      ]
    },
    {
      "cell_type": "code",
      "source": [
        "run = dice_session.create_run(agent=dice_agent, content=\"Roll an 6 sided die.\")\n",
        "run"
      ],
      "metadata": {
        "id": "JZQTPAzvXXbZ",
        "colab": {
          "base_uri": "https://localhost:8080/"
        },
        "outputId": "17298df3-aa92-4298-9954-8c0b326384cc"
      },
      "execution_count": 8,
      "outputs": [
        {
          "output_type": "execute_result",
          "data": {
            "text/plain": [
              "Run(name='projects/1096655024998/locations/us-central1/sessions/6164843499440046080/runs/1061315143582875648', state='RUN_COMPLETED', create_time=DatetimeWithNanoseconds(2024, 10, 7, 19, 35, 7, 826072, tzinfo=datetime.timezone.utc), agent='projects/1096655024998/locations/us-central1/agents/5523362027516461056', steps=[create_time {\n",
              "  seconds: 1728329707\n",
              "  nanos: 826072000\n",
              "}\n",
              "content {\n",
              "  role: \"user\"\n",
              "  parts {\n",
              "    text: \"Roll an 6 sided die.\"\n",
              "  }\n",
              "}\n",
              ", create_time {\n",
              "  seconds: 1728329707\n",
              "  nanos: 826072000\n",
              "}\n",
              "content {\n",
              "  role: \"model\"\n",
              "  parts {\n",
              "    text: \"You rolled a 3.\\n\"\n",
              "  }\n",
              "}\n",
              "])"
            ]
          },
          "metadata": {},
          "execution_count": 8
        }
      ]
    },
    {
      "cell_type": "code",
      "source": [
        "run = dice_session.create_run(agent=dice_agent, content=\"Add up all the dice I've rolled.\")\n",
        "run"
      ],
      "metadata": {
        "id": "8Hw08KwkXblp",
        "colab": {
          "base_uri": "https://localhost:8080/"
        },
        "outputId": "88301a35-4d2b-4c92-dc5b-71f7c1de261f"
      },
      "execution_count": 9,
      "outputs": [
        {
          "output_type": "execute_result",
          "data": {
            "text/plain": [
              "Run(name='projects/1096655024998/locations/us-central1/sessions/6164843499440046080/runs/5673001162010263552', state='RUN_COMPLETED', create_time=DatetimeWithNanoseconds(2024, 10, 7, 19, 35, 19, 517269, tzinfo=datetime.timezone.utc), agent='projects/1096655024998/locations/us-central1/agents/5523362027516461056', steps=[create_time {\n",
              "  seconds: 1728329719\n",
              "  nanos: 517269000\n",
              "}\n",
              "content {\n",
              "  role: \"user\"\n",
              "  parts {\n",
              "    text: \"Add up all the dice I\\'ve rolled.\"\n",
              "  }\n",
              "}\n",
              ", create_time {\n",
              "  seconds: 1728329719\n",
              "  nanos: 517269000\n",
              "}\n",
              "content {\n",
              "  role: \"model\"\n",
              "  parts {\n",
              "    text: \"You rolled a 5 on the 8-sided die and a 3 on the six-sided die.  5 + 3 = 8. The total is 8.\\n\"\n",
              "  }\n",
              "}\n",
              "])"
            ]
          },
          "metadata": {},
          "execution_count": 9
        }
      ]
    },
    {
      "cell_type": "code",
      "source": [
        "run = dice_session.create_run(agent=dice_agent, content=\"Do you think my rolls are lucky?\")\n",
        "run"
      ],
      "metadata": {
        "id": "hXwz0KV8YB7Y",
        "colab": {
          "base_uri": "https://localhost:8080/"
        },
        "outputId": "46792715-b916-4e9f-b66d-9bbef48d30e3"
      },
      "execution_count": 10,
      "outputs": [
        {
          "output_type": "execute_result",
          "data": {
            "text/plain": [
              "Run(name='projects/1096655024998/locations/us-central1/sessions/6164843499440046080/runs/3367158152796569600', state='RUN_COMPLETED', create_time=DatetimeWithNanoseconds(2024, 10, 7, 19, 35, 24, 303997, tzinfo=datetime.timezone.utc), agent='projects/1096655024998/locations/us-central1/agents/5523362027516461056', steps=[create_time {\n",
              "  seconds: 1728329724\n",
              "  nanos: 303997000\n",
              "}\n",
              "content {\n",
              "  role: \"user\"\n",
              "  parts {\n",
              "    text: \"Do you think my rolls are lucky?\"\n",
              "  }\n",
              "}\n",
              ", create_time {\n",
              "  seconds: 1728329724\n",
              "  nanos: 303997000\n",
              "}\n",
              "content {\n",
              "  role: \"model\"\n",
              "  parts {\n",
              "    text: \"You rolled a 5 and a 3.  Whether those are lucky numbers depends on your personal beliefs about numbers!  From a purely probabilistic standpoint, they are neither lucky nor unlucky, just two possible outcomes among many.\\n\"\n",
              "  }\n",
              "}\n",
              "])"
            ]
          },
          "metadata": {},
          "execution_count": 10
        }
      ]
    },
    {
      "cell_type": "code",
      "source": [
        "run = dice_session.create_run(agent=dice_agent, content=\"Are any of my dice prime numbers?\")\n",
        "run"
      ],
      "metadata": {
        "id": "5nH1xnK2YHsv",
        "colab": {
          "base_uri": "https://localhost:8080/"
        },
        "outputId": "5b5df8c3-c65f-4f8d-994d-2913e6b9b8c2"
      },
      "execution_count": 11,
      "outputs": [
        {
          "output_type": "execute_result",
          "data": {
            "text/plain": [
              "Run(name='projects/1096655024998/locations/us-central1/sessions/6164843499440046080/runs/7978844171223957504', state='RUN_COMPLETED', create_time=DatetimeWithNanoseconds(2024, 10, 7, 19, 35, 34, 141486, tzinfo=datetime.timezone.utc), agent='projects/1096655024998/locations/us-central1/agents/5523362027516461056', steps=[create_time {\n",
              "  seconds: 1728329734\n",
              "  nanos: 141486000\n",
              "}\n",
              "content {\n",
              "  role: \"user\"\n",
              "  parts {\n",
              "    text: \"Are any of my dice prime numbers?\"\n",
              "  }\n",
              "}\n",
              ", create_time {\n",
              "  seconds: 1728329734\n",
              "  nanos: 141486000\n",
              "}\n",
              "content {\n",
              "  role: \"model\"\n",
              "  parts {\n",
              "    text: \"Yes, the 3 you rolled on the six-sided die is a prime number.  5, which you rolled on the eight-sided die, is also a prime number.  Both of your rolls were prime numbers!\\n\"\n",
              "  }\n",
              "}\n",
              "])"
            ]
          },
          "metadata": {},
          "execution_count": 11
        }
      ]
    },
    {
      "cell_type": "markdown",
      "source": [
        "Everything passed to the session using `.create_run` along with agent's responses responses is remembered."
      ],
      "metadata": {
        "id": "m_Il74ykT0-b"
      }
    },
    {
      "cell_type": "code",
      "source": [
        "#sessions.list()"
      ],
      "metadata": {
        "id": "R-3huIj__reC"
      },
      "execution_count": null,
      "outputs": []
    },
    {
      "cell_type": "code",
      "source": [
        "dice_session.list_runs()"
      ],
      "metadata": {
        "id": "s1WPHsrBT4R1",
        "colab": {
          "base_uri": "https://localhost:8080/"
        },
        "outputId": "e3aad984-6c7f-4e69-b672-69a136581d83"
      },
      "execution_count": null,
      "outputs": [
        {
          "output_type": "execute_result",
          "data": {
            "text/plain": [
              "[Run(name='projects/1096655024998/locations/us-central1/sessions/9220535846610927616/runs/930710754389131264', state='RUN_COMPLETED', create_time=DatetimeWithNanoseconds(2024, 10, 7, 16, 38, 48, 642632, tzinfo=datetime.timezone.utc), agent='projects/1096655024998/locations/us-central1/agents/8306586597231427584', steps=[create_time {\n",
              "   seconds: 1728319128\n",
              "   nanos: 642632000\n",
              " }\n",
              " content {\n",
              "   role: \"user\"\n",
              "   parts {\n",
              "     text: \"Are any of my dice prime numbers?\"\n",
              "   }\n",
              " }\n",
              " , create_time {\n",
              "   seconds: 1728319128\n",
              "   nanos: 642632000\n",
              " }\n",
              " content {\n",
              "   role: \"model\"\n",
              "   parts {\n",
              "     text: \"Yes, the 3 you rolled on the six-sided die is a prime number.  5 is also a prime number.  Both of your rolls were prime numbers!\\n\"\n",
              "   }\n",
              " }\n",
              " ]),\n",
              " Run(name='projects/1096655024998/locations/us-central1/sessions/9220535846610927616/runs/2714136206827847680', state='RUN_COMPLETED', create_time=DatetimeWithNanoseconds(2024, 10, 7, 16, 38, 41, 382879, tzinfo=datetime.timezone.utc), agent='projects/1096655024998/locations/us-central1/agents/8306586597231427584', steps=[create_time {\n",
              "   seconds: 1728319121\n",
              "   nanos: 382879000\n",
              " }\n",
              " content {\n",
              "   role: \"user\"\n",
              "   parts {\n",
              "     text: \"Do you think my rolls are lucky?\"\n",
              "   }\n",
              " }\n",
              " , create_time {\n",
              "   seconds: 1728319121\n",
              "   nanos: 382879000\n",
              " }\n",
              " content {\n",
              "   role: \"model\"\n",
              "   parts {\n",
              "     text: \"Well, you rolled a 5 on the 8-sided die, which is a little above average, and a 3 on the 6-sided die, which is exactly average. Whether or not they are \\\"lucky\\\" depends on what you\\'re hoping for!\\n\"\n",
              "   }\n",
              " }\n",
              " ]),\n",
              " Run(name='projects/1096655024998/locations/us-central1/sessions/9220535846610927616/runs/5019979216041541632', state='RUN_COMPLETED', create_time=DatetimeWithNanoseconds(2024, 10, 7, 16, 38, 34, 324036, tzinfo=datetime.timezone.utc), agent='projects/1096655024998/locations/us-central1/agents/8306586597231427584', steps=[create_time {\n",
              "   seconds: 1728319114\n",
              "   nanos: 324036000\n",
              " }\n",
              " content {\n",
              "   role: \"user\"\n",
              "   parts {\n",
              "     text: \"Add up all the dice I\\'ve rolled.\"\n",
              "   }\n",
              " }\n",
              " , create_time {\n",
              "   seconds: 1728319114\n",
              "   nanos: 324036000\n",
              " }\n",
              " content {\n",
              "   role: \"model\"\n",
              "   parts {\n",
              "     text: \"You rolled a 5 on the 8-sided die and a 3 on the six-sided die.  5 + 3 = 8.  The total is 8.\\n\"\n",
              "   }\n",
              " }\n",
              " ]),\n",
              " Run(name='projects/1096655024998/locations/us-central1/sessions/9220535846610927616/runs/1615257897749446656', state='RUN_COMPLETED', create_time=DatetimeWithNanoseconds(2024, 10, 7, 16, 38, 26, 638881, tzinfo=datetime.timezone.utc), agent='projects/1096655024998/locations/us-central1/agents/8306586597231427584', steps=[create_time {\n",
              "   seconds: 1728319106\n",
              "   nanos: 638881000\n",
              " }\n",
              " content {\n",
              "   role: \"user\"\n",
              "   parts {\n",
              "     text: \"Roll an 6 sided die.\"\n",
              "   }\n",
              " }\n",
              " , create_time {\n",
              "   seconds: 1728319106\n",
              "   nanos: 638881000\n",
              " }\n",
              " content {\n",
              "   role: \"model\"\n",
              "   parts {\n",
              "     text: \"You rolled a 3.\\n\"\n",
              "   }\n",
              " }\n",
              " ]),\n",
              " Run(name='projects/1096655024998/locations/us-central1/sessions/9220535846610927616/runs/408293197614153728', state='RUN_COMPLETED', create_time=DatetimeWithNanoseconds(2024, 10, 7, 16, 38, 14, 174973, tzinfo=datetime.timezone.utc), agent='projects/1096655024998/locations/us-central1/agents/8306586597231427584', steps=[create_time {\n",
              "   seconds: 1728319094\n",
              "   nanos: 174973000\n",
              " }\n",
              " content {\n",
              "   role: \"user\"\n",
              "   parts {\n",
              "     text: \"Roll an 8 sided die.\"\n",
              "   }\n",
              " }\n",
              " , create_time {\n",
              "   seconds: 1728319094\n",
              "   nanos: 174973000\n",
              " }\n",
              " content {\n",
              "   role: \"model\"\n",
              "   parts {\n",
              "     text: \"You rolled a 5.\\n\"\n",
              "   }\n",
              " }\n",
              " ])]"
            ]
          },
          "metadata": {},
          "execution_count": 12
        }
      ]
    },
    {
      "cell_type": "markdown",
      "source": [
        "The agent works, but it's not ideal to have the agent generating the dice rolls on its own (it may not be random), and it's also not a best practice to rely on an LLM to do math.\n",
        "\n",
        "To fix these problems, give the agent a dice rolling tool that rolls random numbers along with a code execution tool to do math."
      ],
      "metadata": {
        "id": "YLASw2FLYBvR"
      }
    },
    {
      "cell_type": "markdown",
      "source": [
        "## Create an Extension\n",
        "\n",
        "The Vertex AI Agent API supports extensions by Google and custom extensions.\n",
        "\n",
        " You will use the Google-provided [Code Interpreter extension](https://cloud.google.com/vertex-ai/generative-ai/docs/extensions/code-interpreter) from Google as a tool for the agent to do math.\n",
        "\n",
        " To create an extension by Google for use with your agent, use the `Extension.from_hub()` method.\n"
      ],
      "metadata": {
        "id": "xljD7DMuXXFN"
      }
    },
    {
      "cell_type": "code",
      "source": [
        "code_interpreter_extension = Extension.from_hub(\"code_interpreter\")"
      ],
      "metadata": {
        "id": "u3X3XwDOaCv9",
        "colab": {
          "base_uri": "https://localhost:8080/"
        },
        "outputId": "f9a66f09-baf7-458f-b6cf-04bf6e70958d"
      },
      "execution_count": 12,
      "outputs": [
        {
          "output_type": "stream",
          "name": "stderr",
          "text": [
            "INFO:vertexai.extensions._extensions:Creating Extension\n",
            "INFO:vertexai.extensions._extensions:Create Extension backing LRO: projects/1096655024998/locations/us-central1/extensions/6522733984525320192/operations/2503961123204628480\n",
            "INFO:vertexai.extensions._extensions:Extension created. Resource name: projects/1096655024998/locations/us-central1/extensions/6522733984525320192\n",
            "INFO:vertexai.extensions._extensions:To use this Extension in another session:\n",
            "INFO:vertexai.extensions._extensions:extension = vertexai.preview.extensions.Extension('projects/1096655024998/locations/us-central1/extensions/6522733984525320192')\n"
          ]
        }
      ]
    },
    {
      "cell_type": "markdown",
      "source": [
        "To create a [custom extension](https://cloud.devsite.corp.google.com/vertex-ai/generative-ai/docs/extensions/create-extension#define-import-request) for use with your agent, use [Extension.create](https://cloud.google.com/vertex-ai/generative-ai/docs/model-reference/extension#python).\n"
      ],
      "metadata": {
        "id": "wxLBe8mzWcVR"
      }
    },
    {
      "cell_type": "markdown",
      "source": [
        "## Declare a Function for Function Calling\n",
        "\n",
        "Use [function calling](https://cloud.google.com/vertex-ai/generative-ai/docs/multimodal/function-calling) to give your agent a dice rolling tool.\n",
        "\n",
        "First, create a method that returns a random integer between 1 and the number of sides of the die:\n",
        "\n"
      ],
      "metadata": {
        "id": "zP7WDwaHgXYg"
      }
    },
    {
      "cell_type": "code",
      "source": [
        "import random\n",
        "def roll_die(sides):\n",
        "  \"\"\"Roll a die of any number of sides.\n",
        "\n",
        "  Args:\n",
        "    sides: An integer of the number of sides of the die.\n",
        "\n",
        "  Returns:\n",
        "    An integer of the result of rolling the die.\n",
        "  \"\"\"\n",
        "  return random.randint(1, sides)\n",
        "\n",
        "roll_die(4)"
      ],
      "metadata": {
        "id": "doEO4Q_WjMzU",
        "colab": {
          "base_uri": "https://localhost:8080/"
        },
        "outputId": "3624d795-92d1-4419-e270-7502c9575a12"
      },
      "execution_count": 14,
      "outputs": [
        {
          "output_type": "execute_result",
          "data": {
            "text/plain": [
              "2"
            ]
          },
          "metadata": {},
          "execution_count": 14
        }
      ]
    },
    {
      "cell_type": "markdown",
      "source": [
        "Next, create a [`FunctionDeclaration`](https://cloud.devsite.corp.google.com/vertex-ai/generative-ai/docs/multimodal/function-calling#how-works) for `roll_die`.\n",
        "\n",
        "When creating the `FunctionDeclaration`, it's important to provide a good name and description, along with well-named parameters and clear descriptions of the parameters. The model behind the agent will use this content to reason about how to use this function.\n",
        "\n",
        "If the declaration is not clear, the model will not be able to use the function correctly."
      ],
      "metadata": {
        "id": "UnOqgru7l0R7"
      }
    },
    {
      "cell_type": "code",
      "source": [
        "die_function_declaration = FunctionDeclaration(\n",
        "    name=\"roll_die\",\n",
        "    description=\"Get the result from rolling a die of any number of sides.\",\n",
        "    parameters={\n",
        "        \"type\": \"OBJECT\",\n",
        "        \"properties\": {\n",
        "            \"sides\" : {\n",
        "                \"type\": \"INTEGER\",\n",
        "                \"description\": \"The number of sides of the die.\"\n",
        "            },\n",
        "        },\n",
        "        \"required\": [\n",
        "            \"sides\"\n",
        "        ]\n",
        "    },\n",
        ")"
      ],
      "metadata": {
        "id": "7YvKmCcBkiTB"
      },
      "execution_count": 15,
      "outputs": []
    },
    {
      "cell_type": "markdown",
      "source": [
        "## Create an Agent to Add Tools\n",
        "\n",
        "Before the agent can use the extension and function, you need to provide the agent instructions and specify the function and extension.\n",
        "\n",
        "It's important when giving the agent instructions that you **describe when to use a function/extension and mention the function/extension by name**.\n",
        "\n",
        "If you reference an extension or function in the instructions, you must include an extension/function with the same display name in the extensions/functions lists."
      ],
      "metadata": {
        "id": "GZZ6pNO1oHPD"
      }
    },
    {
      "cell_type": "code",
      "source": [
        "INSTRUCTIONS = \"\"\"\n",
        "You roll dice and answer questions about the outcome of the dice rolls.\n",
        "You can roll dice of different sizes.\n",
        "The only things you do are roll dice for the user and discuss the outcomes.\n",
        "It is ok to discuss previous dice roles, and comment on the dice rolls.\n",
        "When rolling a die, call die_function_declaration.\n",
        "You can only roll one die at a time.\n",
        "When doing math, use code_interpreter_extension and formulate a natural language response for the user that's more than just the number.\n",
        "\"\"\"\n",
        "\n",
        "dice_agent_update = agents.create(\n",
        "    display_name=\"Multiple tools agent for die\",\n",
        "    instruction=INSTRUCTIONS,\n",
        "    model=\"gemini-1.5-pro\",\n",
        "    generation_config={\"temperature\": 0.7,\"top_p\":0.95},\n",
        "    tools=[code_interpreter_extension,die_function_declaration])\n",
        "\n"
      ],
      "metadata": {
        "id": "6fySedBhCn6J",
        "colab": {
          "base_uri": "https://localhost:8080/"
        },
        "outputId": "4032fd97-0961-4eb8-e5e5-6d11de4d2fd9"
      },
      "execution_count": 16,
      "outputs": [
        {
          "output_type": "stream",
          "name": "stderr",
          "text": [
            "INFO:google.cloud.aiplatform.private_preview.vertex_agents_v2.agents._agents:Creating Agent\n",
            "INFO:google.cloud.aiplatform.private_preview.vertex_agents_v2.agents._agents:Create Agent backing LRO: projects/1096655024998/locations/us-central1/agents/1019762400145965056/operations/2939684387152723968\n",
            "INFO:google.cloud.aiplatform.private_preview.vertex_agents_v2.agents._agents:Agent created. Resource name: projects/1096655024998/locations/us-central1/agents/1019762400145965056\n",
            "INFO:google.cloud.aiplatform.private_preview.vertex_agents_v2.agents._agents:To use this Agent in another session:\n",
            "INFO:google.cloud.aiplatform.private_preview.vertex_agents_v2.agents._agents:vertexai.preview.agent = aiplatform.Agent('projects/1096655024998/locations/us-central1/agents/1019762400145965056')\n"
          ]
        }
      ]
    },
    {
      "cell_type": "markdown",
      "source": [
        "Now take a look at your agent to see everything you've added:"
      ],
      "metadata": {
        "id": "6H7rIS9dmaZf"
      }
    },
    {
      "cell_type": "markdown",
      "source": [
        "# Step 3: Handle Function Calls\n",
        "\n",
        "Now that your agent has tools, try to get your agent to use a tool. Notice that the response looks different than it did when you were chatting with your agent earlier."
      ],
      "metadata": {
        "id": "2VtRwqvN5ZC6"
      }
    },
    {
      "cell_type": "code",
      "source": [
        "run_session_response = dice_session.create_run(agent=dice_agent_update, content=\"Roll a 10 sided die.\")\n",
        "run_session_response\n",
        "print(run_session_response.steps)"
      ],
      "metadata": {
        "id": "drMsOeFdqrjT",
        "colab": {
          "base_uri": "https://localhost:8080/"
        },
        "outputId": "fa1817d8-7004-4611-a2bf-05e0beb94292"
      },
      "execution_count": 17,
      "outputs": [
        {
          "output_type": "stream",
          "name": "stdout",
          "text": [
            "[create_time {\n",
            "  seconds: 1728329827\n",
            "  nanos: 126543000\n",
            "}\n",
            "content {\n",
            "  role: \"user\"\n",
            "  parts {\n",
            "    text: \"Roll a 10 sided die.\"\n",
            "  }\n",
            "}\n",
            ", create_time {\n",
            "  seconds: 1728329827\n",
            "  nanos: 126543000\n",
            "}\n",
            "content {\n",
            "  role: \"model\"\n",
            "  parts {\n",
            "    text: \"You rolled a 7.\\n\\n\\n\"\n",
            "  }\n",
            "}\n",
            "]\n"
          ]
        }
      ]
    },
    {
      "cell_type": "code",
      "source": [
        "for content_part in run_session_response.steps:\n",
        "  text = content_part.content.parts[0].text\n",
        "  print(f\"{content_part.content.role}: {text}\")"
      ],
      "metadata": {
        "id": "kJGZjbE6wzXD",
        "colab": {
          "base_uri": "https://localhost:8080/"
        },
        "outputId": "fd756813-9fee-4227-ca9d-45744127d0a3"
      },
      "execution_count": 18,
      "outputs": [
        {
          "output_type": "stream",
          "name": "stdout",
          "text": [
            "user: Roll a 10 sided die.\n",
            "model: You rolled a 7.\n",
            "\n",
            "\n",
            "\n"
          ]
        }
      ]
    },
    {
      "cell_type": "code",
      "source": [
        "print(text)"
      ],
      "metadata": {
        "id": "5w2w9OnI82vo",
        "colab": {
          "base_uri": "https://localhost:8080/"
        },
        "outputId": "a4d80f9b-9395-4a4f-bcfc-264f4d68909e"
      },
      "execution_count": 19,
      "outputs": [
        {
          "output_type": "stream",
          "name": "stdout",
          "text": [
            "You rolled a 7.\n",
            "\n",
            "\n",
            "\n"
          ]
        }
      ]
    },
    {
      "cell_type": "markdown",
      "source": [
        "To help automate making the function call for the model, this code snippet inspects the response and makes the function call if necessary before returning the response to the user."
      ],
      "metadata": {
        "id": "Ticlj6xmxuap"
      }
    },
    {
      "cell_type": "code",
      "source": [
        "def agent_with_dice(input_text):\n",
        "  response = dice_session.create_run(agent=dice_agent_update,content=input_text)\n",
        "  response\n",
        "  for content_part in response.steps:\n",
        "   text = content_part.content.parts[0].text\n",
        "  return text"
      ],
      "metadata": {
        "id": "rVKqHG_cx3IZ"
      },
      "execution_count": 20,
      "outputs": []
    },
    {
      "cell_type": "markdown",
      "source": [
        "The agent then takes the result of the function call that you provided and finishes the conversational turn. We create a new session to test this out"
      ],
      "metadata": {
        "id": "4tZ_9AaW88Rh"
      }
    },
    {
      "cell_type": "code",
      "source": [
        "print(agent_with_dice(\"Roll a 6 sided die.\"))"
      ],
      "metadata": {
        "id": "gBePxOvtOxh2",
        "colab": {
          "base_uri": "https://localhost:8080/"
        },
        "outputId": "3446ab83-579e-47e3-e952-1e0992bdced6"
      },
      "execution_count": 21,
      "outputs": [
        {
          "output_type": "stream",
          "name": "stdout",
          "text": [
            "You rolled a 6.\n",
            "\n",
            "\n",
            "\n",
            "\n"
          ]
        }
      ]
    },
    {
      "cell_type": "code",
      "source": [
        "print(agent_with_dice(\"Do you think that's a good roll?\"))"
      ],
      "metadata": {
        "id": "TGg0oqQySZjt",
        "colab": {
          "base_uri": "https://localhost:8080/"
        },
        "outputId": "71dc96b5-443c-48ab-a771-6427fdc57aa1"
      },
      "execution_count": 22,
      "outputs": [
        {
          "output_type": "stream",
          "name": "stdout",
          "text": [
            "A 6 is the highest possible roll on a 6-sided die, so yes, that's a good roll!\n",
            "\n"
          ]
        }
      ]
    },
    {
      "cell_type": "code",
      "source": [
        "print(agent_with_dice(\"Roll another 6 sided die.\"))"
      ],
      "metadata": {
        "id": "MQmfgAYBUHO4",
        "colab": {
          "base_uri": "https://localhost:8080/"
        },
        "outputId": "de78170b-5a77-4518-9748-e549e602e428"
      },
      "execution_count": null,
      "outputs": [
        {
          "output_type": "stream",
          "name": "stdout",
          "text": [
            "You rolled a 4.\n",
            "\n",
            "\n",
            "\n"
          ]
        }
      ]
    },
    {
      "cell_type": "code",
      "source": [
        "print(agent_with_dice(\"Roll another 6 sided die and tell me which of my rolls was prime.\"))"
      ],
      "metadata": {
        "id": "7hl8HubfUKpZ",
        "colab": {
          "base_uri": "https://localhost:8080/"
        },
        "outputId": "c574ff58-e0ef-4a08-9086-e11666cf6cf1"
      },
      "execution_count": 23,
      "outputs": [
        {
          "output_type": "stream",
          "name": "stdout",
          "text": [
            "You rolled a 4.\n",
            "\n",
            "Of all the rolls you've made, the following are prime numbers: 3, 5, 7.\n",
            "\n"
          ]
        }
      ]
    },
    {
      "cell_type": "code",
      "source": [
        "print(agent_with_dice(\"What are each of my rolls, and what die was rolled? Then sum my rolls divided by 2?\"))"
      ],
      "metadata": {
        "id": "ggaGr48S9I2D",
        "colab": {
          "base_uri": "https://localhost:8080/"
        },
        "outputId": "9d2e2b08-5eab-41d9-bdd3-a9b0489fd6b4"
      },
      "execution_count": 26,
      "outputs": [
        {
          "output_type": "stream",
          "name": "stdout",
          "text": [
            "Your rolls were:\n",
            "* 5 on an 8-sided die\n",
            "* 3 on a 6-sided die\n",
            "* 7 on a 10-sided die\n",
            "* 6 on a 6-sided die\n",
            "* 4 on a 6-sided die\n",
            "\n",
            "The sum of these rolls is 5 + 3 + 7 + 6 + 4 = 25.  25 divided by 2 is 12.5.\n",
            "\n"
          ]
        }
      ]
    },
    {
      "cell_type": "markdown",
      "source": [
        "You may have noticed that the agent does math without requiring you to manually interact with the extension, vs. function calling where you have to call the function and then provide the result to the agent.\n",
        "\n",
        "This is an important difference between these two approaches--with an extension, everything is managed by the extension."
      ],
      "metadata": {
        "id": "jBl-OeT7n3HN"
      }
    },
    {
      "cell_type": "markdown",
      "source": [
        "# Step 4: Learn More\n",
        "\n",
        "You can learn more about the Vertex AI Agent API [in the docs](https://cloud.google.com/vertex-ai/generative-ai/docs/agent-api/overview), including management features (list, delete, update, etc.) for apps, agents, and sessions along with more information about using functions and extensions. What amazing thing will you build??"
      ],
      "metadata": {
        "id": "oTD9Vof_ViPx"
      }
    },
    {
      "cell_type": "markdown",
      "source": [
        "# Cleaning Up\n",
        "In this tutorial we showed basic usage of the Vertex AI Agent API, including creating an app and agent and adding tools to the agent.\n"
      ],
      "metadata": {
        "id": "figw2zZ7MmO4"
      }
    },
    {
      "cell_type": "markdown",
      "source": [
        "You  created an Code Interpter extension in this notebook, if you want to delete it uncomment and run:"
      ],
      "metadata": {
        "id": "iaaHgGIYbK0L"
      }
    },
    {
      "cell_type": "code",
      "source": [
        "# code_interpreter_extension.delete()"
      ],
      "metadata": {
        "id": "G6y9BgeyQuXj"
      },
      "execution_count": null,
      "outputs": []
    },
    {
      "cell_type": "markdown",
      "source": [
        "If you restarted the notebook, you may have additional apps and extensions that need cleaning up.\n"
      ],
      "metadata": {
        "id": "HuSYP8VbbTQZ"
      }
    },
    {
      "cell_type": "markdown",
      "source": [
        "You can run the next cell to get a list of all Vertex AI Extensions Instances in your environment:"
      ],
      "metadata": {
        "id": "K1pyDrUuSOg8"
      }
    },
    {
      "cell_type": "code",
      "source": [
        "from vertexai.preview import extensions\n",
        "extensions.Extension.list()"
      ],
      "metadata": {
        "id": "GWNvVKjBtiWY"
      },
      "execution_count": null,
      "outputs": []
    },
    {
      "cell_type": "markdown",
      "source": [
        "If you see extensions that you don't want, look for the `resource name` values (they look like `projects/PROJECT_NUMBER/locations/LOCATION/extensions/EXTENSION_NUMBER`) and use the following line of code to delete them manually:"
      ],
      "metadata": {
        "id": "sGnmwXF1eLUC"
      }
    },
    {
      "cell_type": "code",
      "source": [
        "extension = extensions.Extension(\"projects/PROJECT_NUMBER/locations/LOCATION/extensions/EXTENSION_NUMBER\")\n",
        "extension.delete()"
      ],
      "metadata": {
        "id": "oyydObUueLAZ"
      },
      "execution_count": null,
      "outputs": []
    }
  ],
  "metadata": {
    "colab": {
      "provenance": []
    },
    "kernelspec": {
      "display_name": "Python 3 (ipykernel)",
      "language": "python",
      "name": "python3"
    },
    "language_info": {
      "codemirror_mode": {
        "name": "ipython",
        "version": 3
      },
      "file_extension": ".py",
      "mimetype": "text/x-python",
      "name": "python",
      "nbconvert_exporter": "python",
      "pygments_lexer": "ipython3",
      "version": "3.11.4"
    }
  },
  "nbformat": 4,
  "nbformat_minor": 0
}