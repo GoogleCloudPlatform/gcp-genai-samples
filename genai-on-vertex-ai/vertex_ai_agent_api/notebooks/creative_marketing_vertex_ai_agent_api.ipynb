{
  "cells": [
    {
      "cell_type": "code",
      "execution_count": null,
      "metadata": {
        "id": "ds2p5YOXYBkW"
      },
      "outputs": [],
      "source": [
        "# Copyright 2024 Google LLC\n",
        "#\n",
        "# Licensed under the Apache License, Version 2.0 (the \"License\");\n",
        "# you may not use this file except in compliance with the License.\n",
        "# You may obtain a copy of the License at\n",
        "#\n",
        "#     https://www.apache.org/licenses/LICENSE-2.0\n",
        "#\n",
        "# Unless required by applicable law or agreed to in writing, software\n",
        "# distributed under the License is distributed on an \"AS IS\" BASIS,\n",
        "# WITHOUT WARRANTIES OR CONDITIONS OF ANY KIND, either express or implied.\n",
        "# See the License for the specific language governing permissions and\n",
        "# limitations under the License."
      ]
    },
    {
      "cell_type": "markdown",
      "metadata": {
        "id": "D25Uu7LRbZTB"
      },
      "source": [
        "If you are using data you didn't synthesize, put the license or an appropriate link here. E.g.:\n",
        "\n",
        "See [Google Cloud Marketplace](https://console.cloud.google.com/marketplace/product/city-of-new-york/nyc-311) for terms of use of the dataset featured in this notebook."
      ]
    },
    {
      "cell_type": "markdown",
      "metadata": {
        "id": "WHtLTE3ksNDP"
      },
      "source": [
        "# Creating a Marketing Agent using the Vertex AI Agent API and Gemini Function Calling"
      ]
    },
    {
      "cell_type": "markdown",
      "metadata": {
        "id": "l86z9K7m2a3i"
      },
      "source": [
        "\n",
        "\n",
        "<table align=\"left\">\n",
        "  <td style=\"text-align: center\">\n",
        "    <a href=\"https://art-analytics.appspot.com/r.html?uaid=G-FHXEFWTT4E&utm_source=aRT-creative_agapi_notebook-from_notebook-colab&utm_medium=aRT-clicks&utm_campaign=creative_agapi_notebook-from_notebook-colab&destination=creative_agapi_notebook-from_notebook-colab&url=https%3A%2F%2Fcolab.research.google.com%2Fgithub%2FGoogleCloudPlatform%2Fapplied-ai-engineering-samples%2Fblob%2Fagents-api-notebooks%2Fgenai-on-vertex-ai%2Fagents%2Fvertex_ai_agent_api%2Fnotebooks%2Fcreative_marketing_vertex_ai_agent_api.ipynb\">\n",
        "      <img src=\"https://cloud.google.com/ml-engine/images/colab-logo-32px.png\" alt=\"Google Colaboratory logo\"><br> Open in Colab\n",
        "    </a>\n",
        "  </td>\n",
        "  <td style=\"text-align: center\">\n",
        "    <a href=\"https://art-analytics.appspot.com/r.html?uaid=G-FHXEFWTT4E&utm_source=aRT-creative_agapi_notebook-from_notebook-colab_ent&utm_medium=aRT-clicks&utm_campaign=creative_agapi_notebook-from_notebook-colab_ent&destination=creative_agapi_notebook-from_notebook-colab_ent&url=https%3A%2F%2Fconsole.cloud.google.com%2Fvertex-ai%2Fcolab%2Fimport%2Fhttps%3A%252F%252Fraw.githubusercontent.com%252FGoogleCloudPlatform%252Fapplied-ai-engineering-samples%252Fagents-api-notebooks%252Fgenai-on-vertex-ai%252Fagents%252Fvertex_ai_agent_api%252Fnotebooks%252Fcreative_marketing_vertex_ai_agent_api.ipynb\">\n",
        "      <img width=\"32px\" src=\"https://lh3.googleusercontent.com/JmcxdQi-qOpctIvWKgPtrzZdJJK-J3sWE1RsfjZNwshCFgE_9fULcNpuXYTilIR2hjwN\" alt=\"Google Cloud Colab Enterprise logo\"><br> Open in Colab Enterprise\n",
        "    </a>\n",
        "  </td>    \n",
        "  <td style=\"text-align: center\">\n",
        "    <a href=\"https://art-analytics.appspot.com/r.html?uaid=G-FHXEFWTT4E&utm_source=aRT-creative_agapi_notebook-from_notebook-vai_workbench&utm_medium=aRT-clicks&utm_campaign=creative_agapi_notebook-from_notebook-vai_workbench&destination=creative_agapi_notebook-from_notebook-vai_workbench&url=https%3A%2F%2Fconsole.cloud.google.com%2Fvertex-ai%2Fworkbench%2Fdeploy-notebook%3Fdownload_url%3Dhttps%3A%2F%2Fraw.githubusercontent.com%2FGoogleCloudPlatform%2Fapplied-ai-engineering-samples%2Fagents-api-notebooks%2Fgenai-on-vertex-ai%2Fagents%2Fvertex_ai_agent_api%2Fnotebooks%2Fcreative_marketing_vertex_ai_agent_api.ipynb\">\n",
        "      <img src=\"https://lh3.googleusercontent.com/UiNooY4LUgW_oTvpsNhPpQzsstV5W8F7rYgxgGBD85cWJoLmrOzhVs_ksK_vgx40SHs7jCqkTkCk=e14-rj-sc0xffffff-h130-w32\" alt=\"Vertex AI logo\"><br> Open in Vertex AI Workbench\n",
        "    </a>\n",
        "  </td>\n",
        "  <td style=\"text-align: center\">\n",
        "    <a href=\"https://art-analytics.appspot.com/r.html?uaid=G-FHXEFWTT4E&utm_source=aRT-creative_agapi_notebook-from_notebook-github&utm_medium=aRT-clicks&utm_campaign=creative_agapi_notebook-from_notebook-github&destination=creative_agapi_notebook-from_notebook-github&url=https%3A%2F%2Fgithub.com%2FGoogleCloudPlatform%2Fapplied-ai-engineering-samples%2Fblob%2Fagents-api-notebooks%2Fgenai-on-vertex-ai%2Fagents%2Fvertex_ai_agent_api%2Fnotebooks%2Fcreative_marketing_vertex_ai_agent_api.ipynb\">\n",
        "      <img src=\"https://cloud.google.com/ml-engine/images/github-logo-32px.png\" alt=\"GitHub logo\"><br> View on GitHub\n",
        "    </a>\n",
        "  </td>\n",
        "</table>"
      ]
    },
    {
      "cell_type": "markdown",
      "metadata": {
        "id": "GG3eKLSC2YYN"
      },
      "source": [
        "| | |\n",
        "|----------|-------------|\n",
        "| Author(s)   | Hussain Chinoy, Emmanuel Awa |\n",
        "| Reviewer(s) | Michael Sherman, Meltem Subasioglu, Anand Iyer |\n",
        "| Last updated | 2024 07 22: Private Preview Release  |\n",
        "| | 2024 08 21: Initial Publication |\n",
        "| | 2024 09 12: Updated ART links |"
      ]
    },
    {
      "cell_type": "markdown",
      "metadata": {
        "id": "19FUGjkj2e7R"
      },
      "source": [
        " # Overview\n",
        "\n",
        "\n",
        "This notebook shows how to use the [Vertex AI Agent API](https://cloud.google.com/vertex-ai/generative-ai/docs/agent-api/overview) and [Gemini Function Calling](https://cloud.google.com/vertex-ai/generative-ai/docs/model-reference/function-calling).\n",
        "\n",
        "\n",
        "A marketing agent is a powerful tool that can simplify the process of building marketing and campaign artifacts. This agent has the ability to accelerate your workflow and assist with creative tasks like writing a campaign brief, defining the guiding principles document for a brand's campaign.\n",
        "\n",
        "In addition to Vertex AI Agent API, this notebook uses [Imagen](https://imagen.research.google/) to unlock the ability to generate images from natural language that can be directly applied and utilized for tasks like product generation ideas.\n",
        "\n",
        "In this notebook, you will do the following:\n",
        "- Create an agent\n",
        "- Use the agent to create a marketing campaign brief\n",
        "- Create a function tool that Gemini uses to generate images\n",
        "- Use the agent to generate several product image ideas via Imagen\n",
        "\n",
        "We'll walk through creating an AI system with the Vertex AI Agent API and then exercise it all using the API via the Python SDK.\n",
        "\n",
        "The last step of this notebook, we provide a playground UI based on `mesos` in order to interact with your AI agent.   \n",
        "\n"
      ]
    },
    {
      "cell_type": "markdown",
      "metadata": {
        "id": "_xEdTX9feIq2"
      },
      "source": [
        "> **NOTE:**  If you're new to Google Cloud, Vertex AI, or the Vertex AI Agent API you may want to look at the [Getting Started with Vertex AI Agent notebook](https://github.com/GoogleCloudPlatform/applied-ai-engineering-samples/blob/main/genai-on-vertex-ai/vertex_ai_agent_api/notebooks/getting_started_vertex_agent_api.ipynb.ipynb), which contains a basic agent example, and troubleshooting tips."
      ]
    },
    {
      "cell_type": "markdown",
      "metadata": {
        "id": "sgIGqlLhbQcF"
      },
      "source": [
        " ## Vertex AI Agent API\n",
        "\n",
        "[Vertex AI Agent API](https://cloud.google.com/vertex-ai/generative-ai/docs/agent-api/overview) is an API for creating and managing Generative AI systems called \"agents\" that can  reason, plan, and act to perform specific tasks.\n",
        "\n",
        " Vertex AI Agent API offers faster time to market than building agents from scratch while still being flexible and customizable. It handles orchestraction and state management, gives you the benefits of Google's expertise in building reliable AI systems, scales in a secure and responsible way, and seamlessly integrates with other Vertex AI and Google Cloud products."
      ]
    },
    {
      "cell_type": "markdown",
      "metadata": {
        "id": "cVKvzh0ZbQcF"
      },
      "source": [
        "## Using This Notebook\n",
        "\n",
        "1. **Imagen (2 and/or 3) will require allowlisting.**\n",
        "\n",
        "1. Colab is recommended for running this notebook, but it can run in any iPython environment where you can connect to Google Cloud, install pip packages, etc.\n",
        "\n",
        "1. If you're running outside of Colab and encountering issues, the [Getting Started with Vertex AI Agent notebook](https://github.com/GoogleCloudPlatform/applied-ai-engineering-samples/blob/main/genai-on-vertex-ai/vertex_ai_agent_api/notebooks/getting_started_vertex_agent_api.ipynb.ipynb) has some troubleshooting tips.  \n",
        "\n",
        "\n",
        "\n",
        "This tutorial uses the following Google Cloud services and resources:\n",
        "\n",
        "* [Vertex AI Agent API](https://cloud.google.com/vertex-ai/generative-ai/docs/agent-api/overview)\n",
        "\n",
        "* [Imagen](https://imagen.research.google/)\n",
        "\n",
        "* [Google Cloud Storage](https://cloud.google.com/storage?hl=en)\n",
        "\n",
        "* [Function Calling](https://cloud.google.com/vertex-ai/generative-ai/docs/multimodal/function-calling)\n",
        "\n",
        "\n",
        "This notebook has been tested in the following environment:\n",
        "\n",
        "* Python version = 3.10.12\n",
        "* [google-cloud-aiplatform](https://pypi.org/project/google-cloud-aiplatform/) version = 1.60"
      ]
    },
    {
      "cell_type": "markdown",
      "metadata": {
        "id": "bFyO01YzolbF"
      },
      "source": [
        "## Useful Tips\n",
        "\n",
        "1. This notebook uses Generative AI cababilities. Re-running a cell that uses Generative AI capabilities may produce similar but not identical results.\n",
        "2. Because of #1, it is possible that an output produces errors. If that happens re-run the cell that produced the error. The re-run will likely be bug free.\n",
        "3. The use of Generative AI capabilities is subject to service quotas. Running the notebook using \"Run All\" may exceed your queries per minute (QPM) limitations. Run the notebook manually and if you get a quota error pause for up to 1 minute before retrying that cell. The Vertex AI Agent API defaults to Gemini on the backend and is subject to the Gemini quotas, [view your Gemini quotas here](https://console.cloud.google.com/iam-admin/quotas?pageState=(%22allQuotasTable%22:(%22f%22:%22%255B%257B_22k_22_3A_22_22_2C_22t_22_3A10_2C_22v_22_3A_22_5C_22base_model_5C_22_22%257D_2C%257B_22k_22_3A_22_22_2C_22t_22_3A10_2C_22v_22_3A_22_5C_22gemini_5C_22_22%257D%255D%22%29%29&e=13802955&mods=logs_tg_staging).\n"
      ]
    },
    {
      "cell_type": "markdown",
      "metadata": {
        "id": "MewHoerEbQcF"
      },
      "source": [
        "# Scenario Definition\n",
        "\n",
        "### Cymbal Era: Pioneering Personalized Creative Content with Generative AI\n",
        "\n",
        "Cymbal Era is an innovative marketing and advertising agency dedicated to empowering its clients with the ability to produce impactful, personalized creative content at scale. Leveraging the power of generative AI, Cymbal Era facilitates meaningful engagement with brand fans, fostering trust and loyalty.\n",
        "\n",
        "**In this notebook, we will:**\n",
        "\n",
        "1. **Develop a Vertex AI Agents API Agent**: This agent will be capable of generating a creative brief based on a given brand profile and topic.\n",
        "2. **Utilize the Agent**: We will task the agent with writing a brief on a specific topic.\n",
        "3. **Prompt Generation**: The agent will also have the capability to generate prompts suitable for Imagen, facilitating the creation of product image ideas.\n"
      ]
    },
    {
      "cell_type": "markdown",
      "metadata": {
        "id": "c7vaQOaepmhR"
      },
      "source": [
        "# Getting Started"
      ]
    },
    {
      "cell_type": "markdown",
      "metadata": {
        "id": "S82VARlBpqXM"
      },
      "source": [
        "## Enable APIs and Set Permissions\n",
        "\n",
        "1. [Select or create a Google Cloud project](https://console.cloud.google.com/cloud-resource-manager). When you first create an account, you get a $300 free credit towards your compute/storage costs.\n",
        "1. [Make sure that billing is enabled for your project](https://cloud.google.com/billing/docs/how-to/modify-project).\n",
        "1. [Enable the Service Usage API](https://console.cloud.google.com/apis/library/serviceusage.googleapis.com)\n",
        "1. [Enable the Vertex AI API](https://console.cloud.google.com/flows/enableapi?apiid=aiplatform.googleapis.com).\n",
        "1. [Enable the Vertex AI API (autopush)](https://console.cloud.google.com/apis/api/autopush-aiplatform.sandbox.googleapis.com/metrics).  \n",
        "1. [Enable the Cloud Storage API](https://console.cloud.google.com/flows/enableapi?apiid=storage.googleapis.com).\n",
        "\n",
        "\n",
        "Make sure you have been [granted the roles](https://cloud.google.com/iam/docs/granting-changing-revoking-access) for the GCP project you'll access from this notebook:\n",
        "\n",
        "- [`roles/aiplatform.user`](https://cloud.google.com/vertex-ai/docs/general/access-control#aiplatform.user) to use AI\n",
        "Platform components.\n",
        "\n",
        "- [`roles/iam.serviceAccountAdmin`](https://cloud.google.com/iam/docs/understanding-roles#iam.serviceAccountAdmin) to enable APIs.\n",
        "  \n",
        "- [`roles/serviceusage.serviceUsageAdmin`](https://cloud.google.com/service-usage/docs/access-control#serviceusage.serviceUsageAdmin) to enable APIs.  \n",
        "\n",
        "- [`roles/storage.objectAdmin`](https://cloud.google.com/storage/docs/access-control/iam-roles) to modify and delete GCS buckets.  \n",
        "\n"
      ]
    },
    {
      "cell_type": "markdown",
      "metadata": {
        "id": "MOxdcEKLi5hQ"
      },
      "source": [
        "## Authentication\n",
        "\n",
        "The method for authenticating your Google Cloud account is dependent on the environment in which this notebook is being executed. Depending on your Jupyter environment, you may have to manually authenticate.\n",
        "\n",
        "Refer to the subsequent sections for the appropriate procedure.\n"
      ]
    },
    {
      "cell_type": "markdown",
      "metadata": {
        "id": "GXbPZvrfjQ2D"
      },
      "source": [
        "#### **1. For Vertex AI Workbench**\n",
        "-  Do nothing as you are already authenticated."
      ]
    },
    {
      "cell_type": "markdown",
      "metadata": {
        "id": "CtMxa2qTjT-Z"
      },
      "source": [
        "\n",
        "#### **2. Local JupyterLab instance**\n",
        " - Uncomment and run code below:"
      ]
    },
    {
      "cell_type": "code",
      "execution_count": null,
      "metadata": {
        "id": "ffqaHgXQinVi"
      },
      "outputs": [],
      "source": [
        "# !gcloud auth login"
      ]
    },
    {
      "cell_type": "markdown",
      "metadata": {
        "id": "U4YJT4WZbQcG"
      },
      "source": [
        "### **3. For Colab (Recommended)**\n",
        "\n",
        "- If you are running this notebook on Google Colab, run the following cell to authenticate your environment.\n",
        "\n",
        "> **Note:** While the Vertex AI Agent API SDK is in fishfood, this step comes first, in order to access the SDK which is published internally. Otherwise, this step would come after the installation of the required packages."
      ]
    },
    {
      "cell_type": "code",
      "execution_count": null,
      "metadata": {
        "colab": {
          "base_uri": "https://localhost:8080/"
        },
        "id": "D2luUbDabQcG",
        "outputId": "df10f253-d11e-4a39-c893-1c8fe65645ec"
      },
      "outputs": [
        {
          "name": "stdout",
          "output_type": "stream",
          "text": [
            "Authenticated!\n"
          ]
        }
      ],
      "source": [
        "import sys\n",
        "if 'google.colab' in sys.modules:\n",
        "    from google.colab import auth\n",
        "\n",
        "    auth.authenticate_user()\n",
        "    print('Authenticated!')"
      ]
    },
    {
      "cell_type": "markdown",
      "metadata": {
        "id": "kxamzAk0D3_u"
      },
      "source": [
        "### Download and Install Vertex AI SDK for Python.\n",
        "\n",
        "**TODO:** At public preview, update to public pip and retest notebook."
      ]
    },
    {
      "cell_type": "code",
      "execution_count": null,
      "metadata": {
        "collapsed": true,
        "id": "AOJu5GA6zjEJ"
      },
      "outputs": [],
      "source": [
        "!gsutil cp gs://vertex_agents_private_releases/vertex_agents/google_cloud_aiplatform-1.60.dev20240710+vertex.agents-py2.py3-none-any.whl ."
      ]
    },
    {
      "cell_type": "code",
      "execution_count": null,
      "metadata": {
        "id": "ORmEogha745O"
      },
      "outputs": [],
      "source": [
        "!pip install -U -q google_cloud_aiplatform-1.60.dev20240710+vertex.agents-py2.py3-none-any.whl \\\n",
        "                   'pandas==2.2.2' \\\n",
        "                   'numpy<2' \\\n",
        "                   mesop \\\n",
        "                   --no-warn-conflicts"
      ]
    },
    {
      "cell_type": "markdown",
      "metadata": {
        "id": "h9DN_btNYZHM"
      },
      "source": [
        "#### Restart runtime\n",
        "\n",
        "To use the newly installed packages in this Jupyter runtime, you must restart the runtime. You can do this by running the cell below, which restarts the current kernel."
      ]
    },
    {
      "cell_type": "code",
      "execution_count": null,
      "metadata": {
        "id": "cj_5A7LZYWCq"
      },
      "outputs": [],
      "source": [
        "import IPython\n",
        "app = IPython.Application.instance()\n",
        "app.kernel.do_shutdown(True)"
      ]
    },
    {
      "cell_type": "markdown",
      "metadata": {
        "id": "SRVaw4g_YVeD"
      },
      "source": [
        "<div class=\"alert alert-block alert-warning\">\n",
        "<b>⚠️ The kernel is going to restart. Please wait until it is finished before continuing to the next step. ⚠️</b>\n",
        "</div>\n",
        "\n"
      ]
    },
    {
      "cell_type": "markdown",
      "metadata": {
        "id": "3_qxUtvy1Lvt"
      },
      "source": [
        "## Prerequisites"
      ]
    },
    {
      "cell_type": "markdown",
      "metadata": {
        "id": "FplTr7dLsX-h"
      },
      "source": [
        "### Set Google Cloud Project Information and Initialize Vertex AI SDK.\n",
        "\n",
        "To get started using Vertex AI, you must have an existing Google Cloud project and have [enabled the Vertex AI API](https://console.cloud.google.com/flows/enableapi?apiid=aiplatform.googleapis.com).\n",
        "\n",
        "Learn more about [setting up a project and a development environment](https://cloud.google.com/vertex-ai/docs/start/cloud-environment)."
      ]
    },
    {
      "cell_type": "markdown",
      "metadata": {
        "id": "Slmb1kmCINVP"
      },
      "source": [
        "#### Set Your Project ID"
      ]
    },
    {
      "cell_type": "code",
      "execution_count": null,
      "metadata": {
        "id": "xwnx0xPuskAQ"
      },
      "outputs": [],
      "source": [
        "PROJECT_ID = '<YOUR_PROJECT_ID_HERE>' # @param {type:\"string\"}"
      ]
    },
    {
      "cell_type": "markdown",
      "metadata": {
        "id": "4rAg0aXAITOk"
      },
      "source": [
        "#### Set The Region"
      ]
    },
    {
      "cell_type": "code",
      "execution_count": null,
      "metadata": {
        "id": "5H4rSvr1IXSM"
      },
      "outputs": [],
      "source": [
        "LOCATION = 'us-central1' # @param {type:\"string\"}"
      ]
    },
    {
      "cell_type": "markdown",
      "metadata": {
        "id": "El_SyDXcNCcB"
      },
      "source": [
        "#### Set The Imagen Bucket Output Directory"
      ]
    },
    {
      "cell_type": "code",
      "execution_count": null,
      "metadata": {
        "id": "mKCcVRXjNCEX"
      },
      "outputs": [],
      "source": [
        "IMAGEN_BUCKET = '<GCS_DIR_TO_SAVE_IMAGES_HERE>' # @param {type:\"string\"}\n",
        "if not IMAGEN_BUCKET.endswith('/'):\n",
        "    IMAGEN_BUCKET += '/'"
      ]
    },
    {
      "cell_type": "markdown",
      "metadata": {
        "id": "J5GeAA2K-SEa"
      },
      "source": [
        "Display collected information."
      ]
    },
    {
      "cell_type": "code",
      "execution_count": null,
      "metadata": {
        "id": "B0aHXMbHJ8fH"
      },
      "outputs": [],
      "source": [
        "print(f'Project ID: {PROJECT_ID}')\n",
        "print(f'Location: {LOCATION}')\n",
        "print(f'IMAGEN_BUCKET: {IMAGEN_BUCKET}')"
      ]
    },
    {
      "cell_type": "markdown",
      "metadata": {
        "id": "XE7Dt821I6S-"
      },
      "source": [
        "### Import Libraries"
      ]
    },
    {
      "cell_type": "code",
      "execution_count": null,
      "metadata": {
        "id": "cRJOIax_IK19"
      },
      "outputs": [],
      "source": [
        "from google.api_core.exceptions import InvalidArgument\n",
        "from google.cloud import aiplatform\n",
        "from google.cloud.aiplatform.private_preview.vertex_agents.app import App, Session\n",
        "from google.cloud.aiplatform.private_preview.vertex_agents.agent import Agent"
      ]
    },
    {
      "cell_type": "code",
      "execution_count": null,
      "metadata": {
        "id": "Inn3Ro2QfuSO"
      },
      "outputs": [],
      "source": [
        "import vertexai\n",
        "from vertexai.preview.vision_models import ImageGenerationModel\n",
        "from vertexai.generative_models import (\n",
        "    Content,\n",
        "    FunctionDeclaration,\n",
        "    GenerationConfig,\n",
        "    GenerativeModel,\n",
        "    Part,\n",
        "    Tool,\n",
        ")"
      ]
    },
    {
      "cell_type": "code",
      "execution_count": null,
      "metadata": {
        "id": "-tc61WYmpAsC"
      },
      "outputs": [],
      "source": [
        "import cv2\n",
        "from google.colab.patches import cv2_imshow"
      ]
    },
    {
      "cell_type": "markdown",
      "metadata": {
        "id": "OBf-QfRpFtLQ"
      },
      "source": [
        "### Initialize the Vertex AI SDK\n",
        "\n",
        ">**NOTE:** At time of writing this, the autopush endpoint is problematic when combined with Imagen and `vertexai.init` is sufficient without the need for `aiplatform.init`"
      ]
    },
    {
      "cell_type": "code",
      "execution_count": null,
      "metadata": {
        "id": "Axe2uQXIFhaG"
      },
      "outputs": [],
      "source": [
        "vertexai.init(project=PROJECT_ID, location=LOCATION)"
      ]
    },
    {
      "cell_type": "markdown",
      "metadata": {
        "id": "blTRwo2TQzEv"
      },
      "source": [
        "### Helper Functions\n",
        "\n",
        "These helper functions are optional when using Vertex AI agents but make it easier to handle the generation of images by the [Imagen](https://imagen.research.google/) API.  \n",
        "\n",
        "We define two Pydantic classes that make it straightforward to create objects representing structured data for the Imagen API.  \n",
        "\n",
        "It creates an instance of the `ImagenRequest` class, passing the values directly to the constructor. We choose this approach so that Pydantic handles validating the types and constraints for us."
      ]
    },
    {
      "cell_type": "code",
      "execution_count": null,
      "metadata": {
        "id": "hze3fD0DXjom"
      },
      "outputs": [],
      "source": [
        "from pydantic import BaseModel, Field, field_validator\n",
        "from typing import Literal\n",
        "\n",
        "class ImagenRequest(BaseModel):\n",
        "    prompt: str = Field(..., title=\"Prompt for image generation\")  # Make prompt required\n",
        "    aspect_ratio: Literal[\"1:1\", \"9:16\", \"16:9\", \"4:3\", \"3:4\"] = Field(\n",
        "        default=\"1:1\", title=\"Aspect ratio of image\"\n",
        "    )\n",
        "    number_of_images: int = Field(\n",
        "        gt=0, lt=5, description=\"The number of images must be between 1 and 4\",\n",
        "        default=1, title=\"Number of images to generate\"\n",
        "    )\n",
        "    model_config = {\n",
        "        \"json_schema_extra\": {\n",
        "            \"examples\": [\n",
        "                {\n",
        "                    \"prompt\": \"a green couch in a austere room, high celings and windows, ikea style\"\n",
        "                },\n",
        "                {\n",
        "                    \"prompt\": \"a green couch in a austere room, high celings and windows, ikea style\",\n",
        "                    \"aspect_ratio\": \"16:9\"\n",
        "                },\n",
        "            ]\n",
        "        }\n",
        "    }\n",
        "\n",
        "    @field_validator('prompt')\n",
        "    def prompt_not_empty(cls, v):\n",
        "        if not v or v.isspace():\n",
        "            raise ValueError('Prompt cannot be empty')\n",
        "        return v\n",
        "\n",
        "\n",
        "class ImagenResponse(BaseModel):\n",
        "    images: list[str] = []\n",
        "    model_config = {\n",
        "        \"json_schema_extra\": {\n",
        "            \"examples\": [\n",
        "                {\n",
        "                    \"image\": [\"gs://path_to_imagen_bucket/id/sample_0.png\", \"gs://path_to_imagen_bucket/id/sample_1.png\", \"gs://path_to_imagen_bucket/id/sample_2.png\"]\n",
        "                },\n",
        "            ]\n",
        "        }\n",
        "    }\n",
        "\n",
        "def generate_images(imagen_request: ImagenRequest,\n",
        "                    person_generation: Literal['dont_allow', 'allow_adult', 'allow_all'] = 'allow_adult',\n",
        "                    safety_filter_level: Literal['block_most', 'block_some', 'block_few', 'block_fewest'] = 'block_some') -> ImagenResponse:\n",
        "    try:\n",
        "        print('Trying to generate images...')\n",
        "        response = IMAGEN_MODEL.generate_images(\n",
        "            prompt=imagen_request.prompt,\n",
        "            add_watermark=True,\n",
        "            aspect_ratio=imagen_request.aspect_ratio,\n",
        "            number_of_images=imagen_request.number_of_images,\n",
        "            output_gcs_uri=IMAGEN_BUCKET,\n",
        "            person_generation=person_generation,\n",
        "            safety_filter_level=safety_filter_level\n",
        "        )\n",
        "        print('Images generated!', response)\n",
        "        image_uris = []\n",
        "        for idx, img in enumerate(response.images):\n",
        "            print(f'generated image: {idx} len {len(img._as_base64_string())} at {img._gcs_uri}')\n",
        "            image_uris.append(img._gcs_uri)\n",
        "        return ImagenResponse(images=image_uris)\n",
        "\n",
        "    except Exception as e:\n",
        "        print(f\"Error generating images: {e}\")\n",
        "        return ImagenResponse(images=[])  # Return an empty response on error\n",
        "\n",
        "\n",
        "def download_and_extract_images(generated_images: ImagenResponse) -> list:\n",
        "    image_names = []\n",
        "    images = []\n",
        "    for img in image_generation_response.images:\n",
        "        name = img.split(\"/\")[-1]\n",
        "        image_names.append(name)\n",
        "        !gsutil cp \"{img}\" \"{name}\"\n",
        "        img_url = img.replace(\"gs://\",\"https://storage.mtls.cloud.google.com/\")\n",
        "        images.append(img_url)\n",
        "    return image_names\n",
        "\n",
        "def show_image(url):\n",
        "  img = cv2.imread(url)\n",
        "  cv2_imshow(img)\n",
        "\n",
        "def show_images(image_names: list[str]) -> None:\n",
        "    for name in image_names:\n",
        "        show_image(name)\n"
      ]
    },
    {
      "cell_type": "markdown",
      "metadata": {
        "id": "wWso7BK7egeY"
      },
      "source": [
        "# Create An Agent App\n",
        "\n",
        "An App is an AI Agent container, it contains a collection of specific task-focused AI Agents. We are now ready to create or recall on Agent App"
      ]
    },
    {
      "cell_type": "markdown",
      "metadata": {
        "id": "fXbIk49Osyjt"
      },
      "source": [
        "There are two options for creating an app.\n",
        "\n",
        "1.   **Create:** Use the `App.create` method, which will create a new app for you\n",
        "2.   **Recall:** Initialize a Vertex Agents App object with the resource name of a previously created App\n",
        "\n"
      ]
    },
    {
      "cell_type": "markdown",
      "metadata": {
        "id": "RAc3OuLUbQcI"
      },
      "source": [
        "### List Apps and Recall\n",
        "\n",
        "Let's first list all the apps in a project, which will return a list of operational Apps. Alternatively, you can get a user-friendly mapping of App display names and resource names.\n",
        "\n",
        "If you're recalling one, assign it to the `app` object."
      ]
    },
    {
      "cell_type": "code",
      "execution_count": null,
      "metadata": {
        "id": "0JarwXLJbQcI"
      },
      "outputs": [],
      "source": [
        "all_apps = App.list_apps()\n",
        "if len(all_apps) == 0:\n",
        "    print('No apps found, please create a new one below.')\n",
        "else:\n",
        "    print(f'Found {len(all_apps)} apps:')\n",
        "    for idx, a in enumerate(all_apps):\n",
        "        print(f'{idx}: {a.display_name} ({a.app_name}) - {len(a.agents)} agent(s)')\n",
        "        for jdx, agent in enumerate(a.agents):\n",
        "            print(f'\\tAgent #{jdx+1}: {agent.display_name} (ID {agent.agent_name.split(\"/\")[-1]})')"
      ]
    },
    {
      "cell_type": "markdown",
      "metadata": {
        "id": "b_OJIAs21OX_"
      },
      "source": [
        "If no apps are found, please proceed with creating a new one."
      ]
    },
    {
      "cell_type": "markdown",
      "metadata": {
        "id": "AoYpVPZCsy73"
      },
      "source": [
        "In the event that an existing `app` is to be utilized, please bypass the subsequent creation step and proceed directly to the **Recall** step.\n",
        "\n",
        "> **NOTE:** If using an existing `app`, take note of the ID\n",
        "\n"
      ]
    },
    {
      "cell_type": "markdown",
      "metadata": {
        "id": "gnRxJMbSGuSI"
      },
      "source": [
        "### Recall.\n",
        "\n",
        "#### Reuse an existing app\n",
        "If you have created an App before, simply recall it using code below, otherwise proceed with creating a new one.\n",
        "\n",
        "> **NOTE:** You'll need the `PROJECT_ID` and `APP_ID`.\n",
        "\n",
        "The App initialization can be done by using the resource URI as follows:\n",
        "\n",
        "`app = App('projects/<PROJECT_ID>/locations<location_id>/apps/<APP_ID>')`\n",
        "\n",
        "\n"
      ]
    },
    {
      "cell_type": "markdown",
      "metadata": {
        "id": "OxIYl09oic-j"
      },
      "source": [
        "Reuse the recalled `APP_ID` from above or use a different one"
      ]
    },
    {
      "cell_type": "code",
      "execution_count": null,
      "metadata": {
        "id": "RTolXw_sX0GO"
      },
      "outputs": [],
      "source": [
        "APP_ID = \"<YOUR_APP_ID_TO_RECALL_HERE>\"  # @param {type:\"string\"}"
      ]
    },
    {
      "cell_type": "code",
      "execution_count": null,
      "metadata": {
        "id": "LXVV5VPiiKyz"
      },
      "outputs": [],
      "source": [
        "app = App(f'projects/{PROJECT_ID}/locations/{LOCATION}/apps/{APP_ID}')"
      ]
    },
    {
      "cell_type": "markdown",
      "metadata": {
        "id": "pZW1PmmGbQcH"
      },
      "source": [
        "### Create New Agent (If needed)\n",
        "\n",
        "This creates a Design Studio App.\n",
        "\n",
        "> **Note:** You do not need to do this every time - see the next secion \"Recall,\" if you've already done this once."
      ]
    },
    {
      "cell_type": "code",
      "execution_count": null,
      "metadata": {
        "id": "bXYUbfSkoVJs"
      },
      "outputs": [],
      "source": [
        "# app = App.create(display_name='Cymbal Era - Design studio',\n",
        "#                  description='Cymbal Era - via the Vertex AI Agents SDK')"
      ]
    },
    {
      "cell_type": "markdown",
      "metadata": {
        "id": "wULX8MPZ8YW2"
      },
      "source": [
        "Review app details below."
      ]
    },
    {
      "cell_type": "code",
      "execution_count": null,
      "metadata": {
        "id": "ikH4n0K0bQcI"
      },
      "outputs": [],
      "source": [
        "APP_ID = app.app_name.split('/')[-1]\n",
        "print(f'Application ID: {APP_ID}') # <YOUR_APP_ID_TO_RECALL_HERE>\n",
        "print(f'Application name: {app.app_name}') # projects/<YOUR_APP_ID_TO_RECALL_HERE>/locations/us-central1/apps/<YOUR_APP_ID_TO_RECALL_HERE>\n",
        "print(f'Application display name: {app.display_name}') # Cymbal Era - Design studio\n",
        "print(f'Application description: {app.description}') # Cymbal Era - via the Vertex AI Agents SDK"
      ]
    },
    {
      "cell_type": "markdown",
      "metadata": {
        "id": "QQnIKLp69k82"
      },
      "source": [
        "### Add AI Agent To App\n",
        "\n",
        "Next step would be to add an AI agent to our `app` created above.  "
      ]
    },
    {
      "cell_type": "markdown",
      "metadata": {
        "id": "isjFkyTDn8nR"
      },
      "source": [
        "### 1. Creative Marketing Agent.\n",
        "\n",
        "Now that we have the Design Studio App created, we can add the agent that is skilled as a creative art director agent and campaign brief writer with instructions."
      ]
    },
    {
      "cell_type": "code",
      "execution_count": null,
      "metadata": {
        "id": "Ies0MUECXZSo"
      },
      "outputs": [],
      "source": [
        "INSTRUCTIONS = \"\"\"\n",
        "**You are the Creative Pulse of Cymbal Era**\n",
        "\n",
        "You are a visionary digital art director and marketing maestro, the driving force behind Cymbal Era's reputation for groundbreaking campaigns. You possess an innate ability to capture the essence of a brand, translate it into captivating visuals, and ignite the imaginations of target audiences.\n",
        "\n",
        "**Your Mission: Elevate Brand X**\n",
        "\n",
        "Brand X, a trailblazing streetwear brand with a devoted Gen Z following, seeks your expertise to launch their next campaign. Your task is to craft campaign briefs that resonate with this dynamic audience and produce image prompts that translate into stunning visuals, setting Brand X apart in the competitive fashion landscape.\n",
        "\n",
        "**Campaign Brief Mastery**\n",
        "\n",
        "* **Theme Catalyst:** If no theme is provided, engage the user in a creative dialogue to unearth the perfect concept that aligns with Brand X's identity and campaign objectives.\n",
        "* **Brief Structure:** Craft each brief with precision, using the following format:\n",
        "    * **Brief Name:** A concise, impactful distillation of the theme (3-4 words).\n",
        "    * **Theme:** An expanded, evocative description of the theme, painting a vivid picture of the campaign's core message.\n",
        "    * **Audience Profile:** Delve into the psyche of Brand X's Gen Z audience, crafting a detailed profile that encompasses their aspirations, style, and cultural influences.\n",
        "    * **Activation Channels:** Unleash your creativity, devising captivating campaign concepts tailored to:\n",
        "        * **Social Media:** Spark engagement and conversation across platforms.\n",
        "        * **Email:** Deliver personalized, impactful messages directly to inboxes.\n",
        "        * **SMS:** Craft concise, attention-grabbing texts that drive action.\n",
        "\n",
        "**Image Prompt Virtuosity**\n",
        "\n",
        "* **Client Collaboration:** Work closely with the client, taking their initial topic and ideas and transforming them into image prompts that will yield exceptional results.\n",
        "* **Prompt Enhancement:** Elevate the client's suggestions, infusing them with descriptive language, artistic direction, and technical specifications that guide the image generation model.\n",
        "* **Image Generation:** When the prompt is sufficiently elevated, for example if the user provides the description of the image with details like an aspect ratio and/or number of images, do not prompt for more information and just generate an image using the Imagen Extension Tool.\n",
        "* **Aspect Ratio:** Pay close attention to aspect ratio requirements. If provided, adhere to the specified ratio (e.g., 1:1, 4:3, etc.). If not, default to 1:1.\n",
        "\n",
        "**Personality & Engagement**\n",
        "\n",
        "* **Warm Welcome:** Greet clients with enthusiasm and a genuine eagerness to collaborate.\n",
        "* **Compliment Exchange:** If complimented, express gratitude and return the gesture with a sincere compliment that acknowledges their creative input.\n",
        "* **Creative Catalyst:** Always be ready to spark inspiration and guide clients towards visual concepts that push boundaries and capture the essence of Brand X.\n",
        "\n",
        "**Remember:** Your role is to be the creative catalyst, transforming ideas into reality. Embrace the challenge, unleash your imagination, and deliver campaigns and visuals that leave an indelible mark on Brand X's audience. Let's create something extraordinary!\n",
        "\"\"\""
      ]
    },
    {
      "cell_type": "markdown",
      "metadata": {
        "id": "dDhK44KStzlX"
      },
      "source": [
        "Kindly ensure that no other agent has been previously integrated into this `app`. At the time of writing this notebook, the Vertex AI Agents permits the addition of a maximum of one agent per `app`.\n"
      ]
    },
    {
      "cell_type": "code",
      "execution_count": null,
      "metadata": {
        "id": "5547V4h8uPeR"
      },
      "outputs": [],
      "source": [
        "print(f'Agents in app: {len(app.agents)}')"
      ]
    },
    {
      "cell_type": "markdown",
      "metadata": {
        "id": "VIjznB4ZuZuY"
      },
      "source": [
        "**IMPORTANT:** In the case where an agent is already linked to the `app`, please revisit the **Create** or **Recall** step above to either create a new app.\n",
        "\n",
        "The subsequent code cell will endeavor to retrieve an existing agent, or if none is found, it will proceed to add the agent to the app.\n",
        "\n",
        "If `OVERWRITE_AGENT` is set to `TRUE`, the process will try to recreate the agent.  \n",
        "\n"
      ]
    },
    {
      "cell_type": "code",
      "execution_count": null,
      "metadata": {
        "id": "3oDWA3cK-mbe"
      },
      "outputs": [],
      "source": [
        "OVERWRITE_AGENT = True # @param {type:\"boolean\"}"
      ]
    },
    {
      "cell_type": "code",
      "execution_count": null,
      "metadata": {
        "id": "QIPt-BRYBlTt"
      },
      "outputs": [],
      "source": [
        "if not OVERWRITE_AGENT and app.agents:\n",
        "    # Get the existing agent if it exists and overwrite is disabled\n",
        "    creative_marketing_director_agent = app.get_agent('Creative Marketing Director')\n",
        "    print(f'Agent found: {creative_marketing_director_agent.display_name}')\n",
        "else:\n",
        "    if OVERWRITE_AGENT:\n",
        "        # Delete the agent if overwrite is enabled, regardless of its existence\n",
        "        print('Overwrite flag set to `TRUE`. Overwriting agent if exists.')\n",
        "        try:\n",
        "            app.delete_agent('Creative Marketing Director')\n",
        "            print('Agent deleted.')\n",
        "        except Exception as e:\n",
        "            print(f'Error deleting agent: {e}')  # Handle potential deletion errors\n",
        "\n",
        "    print('Creating new agent...')\n",
        "    creative_marketing_director_agent = app.add_agent(\n",
        "        display_name='Creative Marketing Director',\n",
        "        model=f\"projects/{PROJECT_ID}/locations/{LOCATION}/publishers/google/models/gemini-1.5-pro-001\",\n",
        "        instructions=INSTRUCTIONS,\n",
        "    )\n",
        "    print(f'Agent created: {creative_marketing_director_agent.display_name}')\n"
      ]
    },
    {
      "cell_type": "markdown",
      "metadata": {
        "id": "OMrfipDhuzjQ"
      },
      "source": [
        "Please confirm the successful addition of the agent to the `app`.\n"
      ]
    },
    {
      "cell_type": "code",
      "execution_count": null,
      "metadata": {
        "id": "yApg-4YepfFN"
      },
      "outputs": [],
      "source": [
        "print(creative_marketing_director_agent)"
      ]
    },
    {
      "cell_type": "markdown",
      "metadata": {
        "id": "k9xRet4kZdAP"
      },
      "source": [
        "Verifying agent is successfully added to `app`. You should see the **Creative Marketing Director** agent under `agents` of the **Cymbal Era - Design studio** `app`."
      ]
    },
    {
      "cell_type": "code",
      "execution_count": null,
      "metadata": {
        "id": "ah1sIXpa5FUN"
      },
      "outputs": [],
      "source": [
        "print(app)"
      ]
    },
    {
      "cell_type": "markdown",
      "metadata": {
        "id": "KwN8ZZAcflo7"
      },
      "source": [
        "# Create the Imagen Function Call Tool.\n",
        "\n",
        "In order for your agent to call a function, you need to provide some information about the function to call. You can use the `FunctionDeclaration` class to construct the function declaration you wish to use, and add this to your app when you create or update. You can read more on [function calling here.](https://cloud.google.com/vertex-ai/generative-ai/docs/multimodal/function-calling)"
      ]
    },
    {
      "cell_type": "markdown",
      "metadata": {
        "id": "t-nYg_WDjHV4"
      },
      "source": [
        "The Function Calling ability we enable will be used with the chat modality in Gemini to help the Creative Director generate product image ideas based on text prompt.\n",
        "\n",
        "> **STOP:** Ensure your **_`PROJECT_ID`_** is on the allowed list for Imagen models."
      ]
    },
    {
      "cell_type": "code",
      "execution_count": null,
      "metadata": {
        "id": "yR8kQLbh3axh"
      },
      "outputs": [],
      "source": [
        "VISION_MODEL_IMAGEN2 = 'imagegeneration@006'\n",
        "VISION_MODEL_IMAGEN3_FAST = 'imagen-3.0-fast-generate-001'\n",
        "VISION_MODEL_IMAGEN3 = 'imagen-3.0-generate-001'\n",
        "IMAGEN_MODEL = ImageGenerationModel.from_pretrained(VISION_MODEL_IMAGEN3)"
      ]
    },
    {
      "cell_type": "code",
      "execution_count": null,
      "metadata": {
        "id": "F8yQjo57jBDW"
      },
      "outputs": [],
      "source": [
        "generate_image_func = FunctionDeclaration(\n",
        "  name=\"generate_image\",\n",
        "  description=\"Generate images from text for product ideas based on the Creative Director's prompt.\",\n",
        "      parameters={\n",
        "        \"type\": \"object\",\n",
        "        \"properties\": {\n",
        "            \"prompt\": {\"type\": \"string\", \"description\": \"Prompt for image generation\"},\n",
        "            \"aspect_ratio\": {\"type\": \"string\", \"description\": \"Aspect ratio of image\"},\n",
        "            \"number_of_images\": {\"type\": \"integer\", \"description\": \"Number of images to generate\"}\n",
        "        },\n",
        "        \"required\": [\"prompt\"],\n",
        "    },\n",
        ")"
      ]
    },
    {
      "cell_type": "code",
      "execution_count": null,
      "metadata": {
        "id": "-sAc6__takY3"
      },
      "outputs": [],
      "source": [
        "print(generate_image_func)"
      ]
    },
    {
      "cell_type": "markdown",
      "metadata": {
        "id": "OzazzjbPjz4-"
      },
      "source": [
        "Note that function parameters are specified as a Python dictionary in accordance with the [OpenAPI JSON schema format](https://spec.openapis.org/oas/v3.0.3#schemawr)."
      ]
    },
    {
      "cell_type": "markdown",
      "metadata": {
        "id": "wL2t9NFqbn0D"
      },
      "source": [
        "### Update Agent With Created Function Tool\n",
        "\n",
        "Using a `try-except` block to handle this potential error of an having the function tool already added to the agent.\n",
        "\n",
        "- Inside the `except` block, we check if the error message contains \"Duplicate tool name generate_image\".\n",
        "\n",
        "- If there is a duplicate tool, we use the already updated agent.  \n",
        "\n",
        "- Otherwise we raise an exception.  \n",
        "\n"
      ]
    },
    {
      "cell_type": "code",
      "execution_count": null,
      "metadata": {
        "id": "WryvKKfnaQ9q"
      },
      "outputs": [],
      "source": [
        "try:\n",
        "    creative_marketing_director_agent = creative_marketing_director_agent.update(\n",
        "    new_functions=[generate_image_func],\n",
        ")\n",
        "    print(f'Successfully updated the function tool to the \"{creative_marketing_director_agent.display_name}\" agent.')\n",
        "except InvalidArgument as e:\n",
        "    if \"Duplicate tool name generate_image\" in str(e):\n",
        "        print(f'Function tool already exists in agent: \"{creative_marketing_director_agent.display_name}\".')\n",
        "        creative_marketing_director_agent = app.get_agent('Creative Marketing Director')\n",
        "    else:\n",
        "        raise e"
      ]
    },
    {
      "cell_type": "code",
      "execution_count": null,
      "metadata": {
        "id": "zOol7iXWudmM"
      },
      "outputs": [],
      "source": [
        "print(creative_marketing_director_agent)"
      ]
    },
    {
      "cell_type": "markdown",
      "metadata": {
        "id": "4u9E7-SGzgDZ"
      },
      "source": [
        "# Exercise and Interact with the AI Agent\n",
        "\n",
        "1. Interact with agent using the SDK `Session`\n",
        "1. Image Generation with [Imagen](https://imagen.research.google/)\n",
        "1. Download and show the images\n",
        "1. Send the generated images to the agent\n",
        "1. Interactability using [Mesop](https://google.github.io/mesop/)"
      ]
    },
    {
      "cell_type": "markdown",
      "metadata": {
        "id": "5_yAF3c-4p8x"
      },
      "source": [
        "### 1. Interact with the agent via the SDK\n",
        "Let's use the Agents SDK to exercise the Creative Agent."
      ]
    },
    {
      "cell_type": "markdown",
      "metadata": {
        "id": "dIDOkMru4xbf"
      },
      "source": [
        "#### Create a Session\n",
        "\n",
        "Sessions represent an interaction with an AI Agent"
      ]
    },
    {
      "cell_type": "code",
      "execution_count": null,
      "metadata": {
        "id": "lHG1A8xgbQcK"
      },
      "outputs": [],
      "source": [
        "session = app.start_session()"
      ]
    },
    {
      "cell_type": "code",
      "execution_count": null,
      "metadata": {
        "id": "feEhUDHY47AY"
      },
      "outputs": [],
      "source": [
        "(session.run(\"hi there\").content)"
      ]
    },
    {
      "cell_type": "markdown",
      "metadata": {
        "id": "sKmvXfGRbQcK"
      },
      "source": [
        "### 2. Image Generation\n",
        "\n",
        "We can now interact with our agent by starting a `session`."
      ]
    },
    {
      "cell_type": "code",
      "execution_count": null,
      "metadata": {
        "id": "xxZs1_39bQcK"
      },
      "outputs": [],
      "source": [
        "TEST_IMAGE_PROMPT = \"create an image of three friends on the hood of an old car, 1960s era americana, 4:3\" # @param {type:\"string\"}\n",
        "turn = session.run(TEST_IMAGE_PROMPT)"
      ]
    },
    {
      "cell_type": "markdown",
      "metadata": {
        "id": "EV9Gg5cpKwKZ"
      },
      "source": [
        "If you would like to see the full turn response structure, please uncomment `turn` below."
      ]
    },
    {
      "cell_type": "code",
      "execution_count": null,
      "metadata": {
        "id": "WJZA8VIgbQcK"
      },
      "outputs": [],
      "source": [
        "print(turn)"
      ]
    },
    {
      "cell_type": "markdown",
      "metadata": {
        "id": "_l5Z5Y-4e6YC"
      },
      "source": [
        "The response from the agent consists of a structured data object that contains the name and parameters of the function that Vertex AI Agents selected out of the available functions; in this case `generate_image`.\n"
      ]
    },
    {
      "cell_type": "code",
      "execution_count": null,
      "metadata": {
        "id": "9pBZrPdxbQcK"
      },
      "outputs": [],
      "source": [
        "if turn.content.parts and turn.content.parts[0].function_call:\n",
        "    print(turn.content.parts[0].function_call)\n",
        "else:\n",
        "    print(\"No function call found\")"
      ]
    },
    {
      "cell_type": "markdown",
      "metadata": {
        "id": "wOzPMhLszSQd"
      },
      "source": [
        "If you get `No function call found`, please review your `INSTRUCTIONS` to make sure it's clear enough to instruct the agent to call the functions."
      ]
    },
    {
      "cell_type": "markdown",
      "metadata": {
        "id": "pq8VSivWgt-e"
      },
      "source": [
        "Let's extract the function call arguments, using our Pydantic classes defined earlier, to make an external call to the Imagen API"
      ]
    },
    {
      "cell_type": "code",
      "execution_count": null,
      "metadata": {
        "id": "Q4PcBHYUgsso"
      },
      "outputs": [],
      "source": [
        "args = turn.content.parts[0].function_call.args\n",
        "for arg in args:\n",
        "  print(f\"{arg}: {args[arg]}\")"
      ]
    },
    {
      "cell_type": "markdown",
      "metadata": {
        "id": "tpz8Fji_jouT"
      },
      "source": [
        "Now we can create an `ImagenRequest` object to generate images with.  \n",
        "\n"
      ]
    },
    {
      "cell_type": "code",
      "execution_count": null,
      "metadata": {
        "id": "4uYndSWsjtiU"
      },
      "outputs": [],
      "source": [
        "image_generation_request = ImagenRequest(prompt=args[\"prompt\"],\n",
        "                                         aspect_ratio=args[\"aspect_ratio\"] if args[\"aspect_ratio\"] in [\"1:1\", \"9:16\", \"16:9\", \"4:3\", \"3:4\"] else \"1:1\",\n",
        "                                         number_of_images=args[\"number_of_images\"] if \"number_of_images\" in args else 3)\n",
        "print(image_generation_request)"
      ]
    },
    {
      "cell_type": "markdown",
      "metadata": {
        "id": "T6nlSvJJEVaX"
      },
      "source": [
        "A call to `generate_images` function facilitates the generation of campaign images by internally invoking the Imagen model. Please check the code above under the **Helper Functions** section.  "
      ]
    },
    {
      "cell_type": "code",
      "execution_count": null,
      "metadata": {
        "id": "Jv0kkLHWjy0C"
      },
      "outputs": [],
      "source": [
        "image_generation_response = generate_images(image_generation_request)\n",
        "print(image_generation_response)"
      ]
    },
    {
      "cell_type": "markdown",
      "metadata": {
        "id": "7BszDlzSppaU"
      },
      "source": [
        "### 3. Download and display the images\n",
        "\n",
        "We can now download and display the images if they were successfully generated.\n"
      ]
    },
    {
      "cell_type": "code",
      "execution_count": null,
      "metadata": {
        "id": "LnY48wXfbQcK"
      },
      "outputs": [],
      "source": [
        "images = download_and_extract_images(image_generation_response)\n",
        "show_images(images)"
      ]
    },
    {
      "cell_type": "markdown",
      "metadata": {
        "id": "Tx2lBdEQnHdN"
      },
      "source": [
        "### 4. Send Imagen Result Back To Agent.\n",
        "\n",
        "Now we can respond to the agent with the result from Imagen"
      ]
    },
    {
      "cell_type": "code",
      "execution_count": null,
      "metadata": {
        "id": "7YiW7wwanHML"
      },
      "outputs": [],
      "source": [
        "response = session.run(Part.from_function_response(\n",
        "    name=\"generate_image\",\n",
        "    response={\n",
        "        \"images\": images\n",
        "    }\n",
        "))"
      ]
    },
    {
      "cell_type": "markdown",
      "metadata": {
        "id": "0TfxWaHvEDsV"
      },
      "source": [
        "Let's check the response text from the agent."
      ]
    },
    {
      "cell_type": "code",
      "execution_count": null,
      "metadata": {
        "id": "jCxeh7IPnhk5"
      },
      "outputs": [],
      "source": [
        "response.content.parts[0].text"
      ]
    },
    {
      "cell_type": "markdown",
      "metadata": {
        "id": "3ciF8EOMoC3J"
      },
      "source": [
        "The agent has successfully received the generated image and is prepared to engage in further dialogue to create the complete advertising campaign."
      ]
    },
    {
      "cell_type": "markdown",
      "metadata": {
        "id": "uud_zq4kJyqs"
      },
      "source": [
        "#### Campaign Brief Generation.\n",
        "\n",
        "We can ask the agent to start writing a campaign brief using `session.run`."
      ]
    },
    {
      "cell_type": "code",
      "execution_count": null,
      "metadata": {
        "id": "DpsLVmor5B0h"
      },
      "outputs": [],
      "source": [
        "session.run(\"Write a campaign brief for a green and black fingerless gloves celebrating HBO's 2nd season of the House of the Dragon\").content"
      ]
    },
    {
      "cell_type": "markdown",
      "metadata": {
        "id": "vK84X1SRKElu"
      },
      "source": [
        "We can quickly see how this can become very tedious and a bit boring. This leads us to our next step in this colab."
      ]
    },
    {
      "cell_type": "markdown",
      "metadata": {
        "id": "7oZ2_siRCF2Y"
      },
      "source": [
        "### 5. Enhance your agent interactions with a chat interface!\n",
        "\n",
        "**via UX - Mesop**\n",
        "\n",
        "We can keep chatting with the agent using `session.run` however, interacting with agents is more interesting when done via a chat user interface. Mesop makes it easy to create a chat interface to engage with our agent.  \n",
        "\n",
        "Let's build a user-friendly chat experience to test your agent. We'll use [Mesop](https://google.github.io/mesop/), Google's open-source Python UX framework, to make this happen quickly and easily.\n",
        "\n",
        "\n"
      ]
    },
    {
      "cell_type": "markdown",
      "metadata": {
        "id": "j8xeVRBbhs06"
      },
      "source": [
        "##### Setup Mesop\n",
        "\n",
        "The following cells start a Mesop server and define the Chat UX"
      ]
    },
    {
      "cell_type": "code",
      "execution_count": null,
      "metadata": {
        "colab": {
          "base_uri": "https://localhost:8080/"
        },
        "id": "l8t39HKdCH4m",
        "outputId": "80cf4a82-751e-4067-858c-1e50261288c8"
      },
      "outputs": [
        {
          "name": "stdout",
          "output_type": "stream",
          "text": [
            "\n",
            "\u001b[32mRunning server on: http://localhost:32123\u001b[0m\n",
            " * Serving Flask app 'mesop.server.server'\n",
            " * Debug mode: off\n"
          ]
        },
        {
          "name": "stderr",
          "output_type": "stream",
          "text": [
            "INFO:werkzeug:\u001b[31m\u001b[1mWARNING: This is a development server. Do not use it in a production deployment. Use a production WSGI server instead.\u001b[0m\n",
            " * Running on all addresses (::)\n",
            " * Running on http://[::1]:32123\n",
            " * Running on http://[::1]:32123\n",
            "INFO:werkzeug:\u001b[33mPress CTRL+C to quit\u001b[0m\n"
          ]
        }
      ],
      "source": [
        "import mesop as me\n",
        "import mesop.labs as mel\n",
        "\n",
        "me.colab_run()"
      ]
    },
    {
      "cell_type": "code",
      "execution_count": null,
      "metadata": {
        "id": "a6NI5mvFCKXS"
      },
      "outputs": [],
      "source": [
        "session = app.start_session()\n",
        "\n",
        "@me.page(path=\"/chat\")\n",
        "def chat():\n",
        "  mel.chat(transform)\n",
        "\n",
        "def transform(prompt: str, history: list[mel.ChatMessage]) -> str:\n",
        "  response = session.run(prompt)\n",
        "  return response.content.parts[0].text"
      ]
    },
    {
      "cell_type": "markdown",
      "metadata": {
        "id": "_gJGLkM6h0p-"
      },
      "source": [
        "### Show the Agent UX and test"
      ]
    },
    {
      "cell_type": "code",
      "execution_count": null,
      "metadata": {
        "id": "9dKR8dyxCfMU"
      },
      "outputs": [],
      "source": [
        "me.colab_show(path=\"/chat\", height=\"800\")"
      ]
    },
    {
      "cell_type": "markdown",
      "metadata": {
        "id": "xvXxry9Y8f5t"
      },
      "source": [
        "### Session History  \n",
        "\n",
        "To review the agent's conversation history and the tools it employed, utilize the `session.get_history()` function."
      ]
    },
    {
      "cell_type": "code",
      "execution_count": null,
      "metadata": {
        "collapsed": true,
        "id": "HSAe_HMW8f54"
      },
      "outputs": [],
      "source": [
        "session.get_history()"
      ]
    },
    {
      "cell_type": "markdown",
      "metadata": {
        "id": "tAb6txQEsrSf"
      },
      "source": [
        "# Cleaning up\n",
        "\n",
        "In this tutorial we used the Vertex AI Agent API to create an Creative Agent, exercised it, and displayed a user interface to interact with it.\n"
      ]
    },
    {
      "cell_type": "markdown",
      "metadata": {
        "id": "QhbJNMJWuNGs"
      },
      "source": [
        "### Delete Session"
      ]
    },
    {
      "cell_type": "code",
      "execution_count": null,
      "metadata": {
        "id": "SmhP470ctj6R"
      },
      "outputs": [],
      "source": [
        "app.delete_session(session.session_name)"
      ]
    },
    {
      "cell_type": "markdown",
      "metadata": {
        "id": "jsvK4BDEtENy"
      },
      "source": [
        "## Delete Agent\n",
        "Using either the display name or the fully qualified resource name, you can delete a specific agent under the App."
      ]
    },
    {
      "cell_type": "markdown",
      "metadata": {
        "id": "J97BneyQtTVm"
      },
      "source": [
        "Let's list the available agents."
      ]
    },
    {
      "cell_type": "code",
      "execution_count": null,
      "metadata": {
        "id": "YZr3RUfQtJHY"
      },
      "outputs": [],
      "source": [
        "all_apps = App.list_apps()\n",
        "for app in all_apps:\n",
        "  print(f\"{app.app_name}, '{app.display_name}' has {len(app.agents)} agents\")"
      ]
    },
    {
      "cell_type": "markdown",
      "metadata": {
        "id": "ch5sy-1StO0l"
      },
      "source": [
        "To delete/cleanup a single agent, use the following code and substitute in your agent name (it starts with `projects/`) that you'd like to delete.\n",
        "\n",
        "`app.delete_agent('<Agent Name>')`\n",
        "\n",
        "Otherwise use the following cell to delete all created apps under the `PROJECT_ID`."
      ]
    },
    {
      "cell_type": "code",
      "execution_count": null,
      "metadata": {
        "id": "vZMSkee70c2c"
      },
      "outputs": [],
      "source": [
        "all_apps = App.list_apps()\n",
        "if all_apps:\n",
        "    print(f'Found {len(all_apps)} apps:')\n",
        "    for app in all_apps:\n",
        "        temp_name = app.display_name\n",
        "        App.delete(app.app_name)\n",
        "        print(f'Successfully deleted: {temp_name}')\n",
        "else:\n",
        "    print('No apps found.')"
      ]
    },
    {
      "cell_type": "markdown",
      "metadata": {
        "id": "Y6e5ecqzLRgf"
      },
      "source": [
        "# Summary\n",
        "This notebook provides a guide on building a marketing agent using the Vertex AI Agent API and Function Calling with Gemini. This agent can be used to create marketing campaign briefs and generate product image ideas.\n",
        "\n",
        "### Key features:\n",
        "\n",
        "1. **Agent creation:** Learn how to create an agent app and add a creative marketing agent.\n",
        "1. **Image generation:** Define a function call tool for Imagen to enable the agent to generate images.\n",
        "1. **Interaction:** Interact with the agent using the SDK and Mesop UX.\n",
        "1. **Resource management:** Clean up resources by deleting the session and agent."
      ]
    }
  ],
  "metadata": {
    "colab": {
      "provenance": []
    },
    "kernelspec": {
      "display_name": "Python 3",
      "name": "python3"
    },
    "language_info": {
      "codemirror_mode": {
        "name": "ipython",
        "version": 3
      },
      "file_extension": ".py",
      "mimetype": "text/x-python",
      "name": "python",
      "nbconvert_exporter": "python",
      "pygments_lexer": "ipython3",
      "version": "3.10.12"
    }
  },
  "nbformat": 4,
  "nbformat_minor": 0
}
