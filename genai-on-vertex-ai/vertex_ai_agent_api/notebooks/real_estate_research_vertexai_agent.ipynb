{
  "nbformat": 4,
  "nbformat_minor": 0,
  "metadata": {
    "colab": {
      "provenance": [],
      "collapsed_sections": [
        "-zoXZUo8F019"
      ]
    },
    "kernelspec": {
      "name": "python3",
      "display_name": "Python 3"
    },
    "language_info": {
      "name": "python"
    }
  },
  "cells": [
    {
      "cell_type": "code",
      "source": [
        "# Copyright 2024 Google LLC\n",
        "#\n",
        "# Licensed under the Apache License, Version 2.0 (the \"License\");\n",
        "# you may not use this file except in compliance with the License.\n",
        "# You may obtain a copy of the License at\n",
        "#\n",
        "#     https://www.apache.org/licenses/LICENSE-2.0\n",
        "#\n",
        "# Unless required by applicable law or agreed to in writing, software\n",
        "# distributed under the License is distributed on an \"AS IS\" BASIS,\n",
        "# WITHOUT WARRANTIES OR CONDITIONS OF ANY KIND, either express or implied.\n",
        "# See the License for the specific language governing permissions and\n",
        "# limitations under the License."
      ],
      "metadata": {
        "id": "nCLHXnfFn4WI"
      },
      "execution_count": null,
      "outputs": []
    },
    {
      "cell_type": "markdown",
      "source": [
        "#Research Agent for Housing Investement Opportunities\n",
        "\n",
        "<table align=\"left\">\n",
        "  <td style=\"text-align: center\">\n",
        "    <a href=\"https://art-analytics.appspot.com/r.html?uaid=G-FHXEFWTT4E&utm_source=aRT-ba_extbygoog_notebook-from_notebook-colab&utm_medium=aRT-clicks&utm_campaign=ba_extbygoog_notebook-from_notebook-colab&destination=ba_extbygoog_notebook-from_notebook-colab&url=https%3A%2F%2Fcolab.research.google.com%2Fgithub%2FGoogleCloudPlatform%2Fapplied-ai-engineering-samples%2Fblob%2Fmain%2Fgenai-on-vertex-ai%2Fvertex_ai_agent_api%2Fnotebooks%2Freal_estate_research_vertexai_agent.ipynb\">\n",
        "      <img src=\"https://cloud.google.com/ml-engine/images/colab-logo-32px.png\" alt=\"Google Colaboratory logo\"><br> Open in Colab\n",
        "    </a>\n",
        "  </td>\n",
        "  <td style=\"text-align: center\">\n",
        "    <a href=\"https://art-analytics.appspot.com/r.html?uaid=G-FHXEFWTT4E&utm_source=aRT-ba_extbygoog_notebook-from_notebook-colab_ent&utm_medium=aRT-clicks&utm_campaign=ba_extbygoog_notebook-from_notebook-colab_ent&destination=ba_extbygoog_notebook-from_notebook-colab_ent&url=https%3A%2F%2Fconsole.cloud.google.com%2Fvertex-ai%2Fcolab%2Fimport%2Fhttps%3A%252F%252Fraw.githubusercontent.com%252FGoogleCloudPlatform%252Fapplied-ai-engineering-samples%252Fmain%252Fgenai-on-vertex-ai%252Fvertex_ai_agent_api%252Fnotebooks%252Freal_estate_research_vertexai_agent.ipynb\">\n",
        "      <img width=\"32px\" src=\"https://lh3.googleusercontent.com/JmcxdQi-qOpctIvWKgPtrzZdJJK-J3sWE1RsfjZNwshCFgE_9fULcNpuXYTilIR2hjwN\" alt=\"Google Cloud Colab Enterprise logo\"><br> Open in Colab Enterprise\n",
        "    </a>\n",
        "  </td>    \n",
        "  <td style=\"text-align: center\">\n",
        "    <a href=\"https://art-analytics.appspot.com/r.html?uaid=G-FHXEFWTT4E&utm_source=aRT-ba_extbygoog_notebook-from_notebook-vai_workbench&utm_medium=aRT-clicks&utm_campaign=ba_extbygoog_notebook-from_notebook-vai_workbench&destination=ba_extbygoog_notebook-from_notebook-vai_workbench&url=https%3A%2F%2Fconsole.cloud.google.com%2Fvertex-ai%2Fworkbench%2Fdeploy-notebook%3Fdownload_url%3Dhttps%3A%2F%2Fraw.githubusercontent.com%2FGoogleCloudPlatform%2Fapplied-ai-engineering-samples%2Fmain%2Fgenai-on-vertex-ai%2Fvertex_ai_agent_api%2Fnotebooks%2Freal_estate_research_vertexai_agent.ipynb\">\n",
        "      <img src=\"https://lh3.googleusercontent.com/UiNooY4LUgW_oTvpsNhPpQzsstV5W8F7rYgxgGBD85cWJoLmrOzhVs_ksK_vgx40SHs7jCqkTkCk=e14-rj-sc0xffffff-h130-w32\" alt=\"Vertex AI logo\"><br> Open in Workbench\n",
        "    </a>\n",
        "  </td>\n",
        "  <td style=\"text-align: center\">\n",
        "    <a href=\"https://art-analytics.appspot.com/r.html?uaid=G-FHXEFWTT4E&utm_source=aRT-ba_extbygoog_notebook-from_notebook-github&utm_medium=aRT-clicks&utm_campaign=ba_extbygoog_notebook-from_notebook-github&destination=ba_extbygoog_notebook-from_notebook-github&url=https%3A%2F%2Fgithub.com%2FGoogleCloudPlatform%2Fapplied-ai-engineering-samples%2Fblob%2Fmain%2Fgenai-on-vertex-ai%2Fvertex_ai_agent_api%2Fnotebooks%2Freal_estate_research_vertexai_agent.ipynb\">\n",
        "      <img src=\"https://cloud.google.com/ml-engine/images/github-logo-32px.png\" alt=\"GitHub logo\"><br> View on GitHub\n",
        "    </a>\n",
        "  </td>\n",
        "</table>\n"
      ],
      "metadata": {
        "id": "WHtLTE3ksNDP"
      }
    },
    {
      "cell_type": "markdown",
      "source": [
        "| | |\n",
        "|----------|-------------|\n",
        "| Author(s)   | [Lei Pan](https://github.com/genaimagician)|\n",
        "| Reviewers(s) | Anand Iyer, Danhao Guo, Hanfei Sun, Michael Sherman|\n",
        "| Last updated | 2024-06-30: Polished text for publishing |\n",
        "| Previous updated | 2024-06-14: Second Draft |"
      ],
      "metadata": {
        "id": "MGwjcyJkb78K"
      }
    },
    {
      "cell_type": "markdown",
      "metadata": {
        "id": "JAPoU8Sm5E6e"
      },
      "source": [
        "## Overview\n",
        "\n",
        "In this notebook, we will show you how to use the Vertex AI Agent SDK with Vertex AI Search Extension and Webpage Browser Extension tools to complete housing investment opportunities research for business stakeholders. You will perform the following steps:\n",
        "\n",
        "- Creating vertex AI search extension, webpage browser extension and function call tools\n",
        "- Creating an agent app in your project\n",
        "- Creating an agent in the app and add instructions & extension & function call tools to it\n",
        "- Asking the agent housing investment opportunities questions\n",
        "\n",
        "If you haven't worked on Vertex AI extension before, please refer to this [doc](https://cloud.google.com/vertex-ai/generative-ai/docs/extensions/overview)  for more info."
      ]
    },
    {
      "cell_type": "markdown",
      "metadata": {
        "id": "PO_tnShTGUik"
      },
      "source": [
        "## Getting Started\n",
        "\n",
        "The following steps are necessary to run this notebook, no matter what notebook environment you're using.\n",
        "\n",
        "If you're entirely new to Google Cloud, [get started here](https://cloud.google.com/docs/get-started)."
      ]
    },
    {
      "cell_type": "markdown",
      "source": [
        "### GCP project & Permissions setup\n",
        "\n",
        "If you have already set them up, feel free to skip this section"
      ],
      "metadata": {
        "id": "-zoXZUo8F019"
      }
    },
    {
      "cell_type": "markdown",
      "metadata": {
        "id": "dq30xzDj-dkW"
      },
      "source": [
        "#### Google Cloud Project Setup\n",
        "\n",
        "1. [Select or create a Google Cloud project](https://console.cloud.google.com/cloud-resource-manager). When you first create an account, you get a $300 free credit towards your compute/storage costs.\n",
        "1. [Make sure that billing is enabled for your project](https://cloud.google.com/billing/docs/how-to/modify-project).\n",
        "1. [Enable the Service Usage API](https://console.cloud.google.com/apis/library/serviceusage.googleapis.com)\n",
        "1. [Enable the Vertex AI API](https://console.cloud.google.com/flows/enableapi?apiid=aiplatform.googleapis.com).\n",
        "1. [Enable the Cloud Storage API](https://console.cloud.google.com/flows/enableapi?apiid=storage.googleapis.com).\n",
        "1. [Enable the Discovery Engine API for your project](https://console.cloud.google.com/marketplace/product/google/discoveryengine.googleapis.com)\n",
        "1. [Enable the Agent Builder API](https://console.cloud.google.com/gen-app-builder/start)"
      ]
    },
    {
      "cell_type": "markdown",
      "metadata": {
        "id": "kqFCMciQ-dkW"
      },
      "source": [
        "#### Google Cloud Permissions\n",
        "\n",
        "**To run the complete Notebook, including the optional section, you will need to have the [Owner role](https://cloud.google.com/iam/docs/understanding-roles) for your project.**\n",
        "\n",
        "If you want to skip the optional section, you need at least the following [roles](https://cloud.google.com/iam/docs/granting-changing-revoking-access):\n",
        "* **`roles/serviceusage.serviceUsageAdmin`** to enable APIs\n",
        "* **`roles/iam.serviceAccountAdmin`** to modify service agent permissions\n",
        "* **`roles/discoveryengine.admin`** to modify discoveryengine assets\n",
        "* **`roles/aiplatform.user`** to use AI Platform components\n",
        "* **`roles/storage.objectAdmin`** to modify and delete GCS buckets\n",
        "\n",
        "\n",
        "\n"
      ]
    },
    {
      "cell_type": "markdown",
      "source": [
        "###Authenticate"
      ],
      "metadata": {
        "id": "SfNhErJDVmk5"
      }
    },
    {
      "cell_type": "code",
      "execution_count": 1,
      "metadata": {
        "id": "JZGytImrziVA"
      },
      "outputs": [],
      "source": [
        "from google.colab import auth\n",
        "auth.authenticate_user()"
      ]
    },
    {
      "cell_type": "markdown",
      "source": [
        "###Download most recent copy of Vertex Agents SDK\n",
        "\n",
        "Once the SDK is released, we will swap this with the public library. For now, you need the code blocks below to install agent sdk."
      ],
      "metadata": {
        "id": "JgXyHQQfsGnc"
      }
    },
    {
      "cell_type": "code",
      "source": [
        "!gsutil cp gs://vertex_agents_private_releases/vertex_agents/google_cloud_aiplatform-1.55.dev20240609+vertex.agents-py2.py3-none-any.whl ."
      ],
      "metadata": {
        "colab": {
          "base_uri": "https://localhost:8080/"
        },
        "id": "abQtu5_aIprk",
        "outputId": "cbcca885-7124-44ce-cfa5-7171138b24a4"
      },
      "execution_count": 2,
      "outputs": [
        {
          "output_type": "stream",
          "name": "stdout",
          "text": [
            "Copying gs://vertex_agents_private_releases/vertex_agents/google_cloud_aiplatform-1.55.dev20240609+vertex.agents-py2.py3-none-any.whl...\n",
            "/ [1 files][  5.1 MiB/  5.1 MiB]                                                \n",
            "Operation completed over 1 objects/5.1 MiB.                                      \n"
          ]
        }
      ]
    },
    {
      "cell_type": "code",
      "source": [
        "!pip install google-cloud-discoveryengine --upgrade\n",
        "!pip install --upgrade --force-reinstall -q google_cloud_aiplatform-1.55.dev20240609+vertex.agents-py2.py3-none-any.whl --no-warn-conflicts\n",
        "!pip install -U \"pandas==2.2.2\"\n",
        "!pip install -U 'numpy<2'\n",
        "\n",
        "# Restart the kernel runtime to load the private preview SDK\n",
        "import IPython\n",
        "app = IPython.Application.instance()\n",
        "app.kernel.do_shutdown(True)"
      ],
      "metadata": {
        "id": "AOJu5GA6zjEJ",
        "collapsed": true
      },
      "execution_count": null,
      "outputs": []
    },
    {
      "cell_type": "markdown",
      "source": [
        "### Set Google Cloud project information and initialize Vertex AI SDK\n",
        "\n",
        "To get started using Vertex AI, you must have an existing Google Cloud project and [enable the Vertex AI API](https://console.cloud.google.com/flows/enableapi?apiid=aiplatform.googleapis.com).\n",
        "\n",
        "Learn more about [setting up a project and a development environment](https://cloud.google.com/vertex-ai/docs/start/cloud-environment).\n",
        "\n",
        "Make sure to change `PROJECT_ID` in the next cell. You can leave the values for `LOCATION` and `API_ENDPOINT` unless you have a specific reason to change them."
      ],
      "metadata": {
        "id": "FplTr7dLsX-h"
      }
    },
    {
      "cell_type": "code",
      "source": [
        "PROJECT_ID = 'certain-haiku-391918'\n",
        "LOCATION = 'us-central1'\n",
        "API_ENDPOINT = 'us-central1-autopush-aiplatform.sandbox.googleapis.com'\n",
        "\n",
        "from google.cloud import aiplatform\n",
        "from google.cloud.aiplatform.private_preview.vertex_agents.app import App, Session\n",
        "from google.cloud.aiplatform.private_preview.vertex_agents.agent import Agent\n",
        "from vertexai.preview.extensions import Extension\n",
        "\n",
        "aiplatform.init(project=PROJECT_ID, location=LOCATION, api_endpoint=API_ENDPOINT)"
      ],
      "metadata": {
        "id": "xwnx0xPuskAQ"
      },
      "execution_count": 1,
      "outputs": []
    },
    {
      "cell_type": "markdown",
      "source": [
        "# Cymbal Real Estate Research Agent - Search and Webpage Browser Tools"
      ],
      "metadata": {
        "id": "wWso7BK7egeY"
      }
    },
    {
      "cell_type": "markdown",
      "source": [
        "## Step 1: Create Vertex Search Extension Tool with Proprietary Cymbal Datasource\n",
        "\n",
        "In this section, we do the following tasks:\n",
        "\n",
        "- Create Vertex AI Search App with 3 PDFs ([PDF1](https://drive.google.com/file/d/1sqGmjqDOLtBMEJkGRAhcTYVbZXkKPAWJ/view?usp=sharing), [PDF2](https://drive.google.com/file/d/1M2Uk5ABMlLix1Nxg7LEWmW4ioZ_SxhkU/view?usp=drive_link), [PDF3](https://drive.google.com/file/d/19kUrpUv9AKIebHRja_RcyP7JTPMyKmkV/view?usp=drive_link)) for Search Extension.\n",
        "- Create Vertex AI Search Extension using the Search App\n",
        "\n",
        "Note: 3 PDFs include Synthesized Exclusive San Francisco Off-Market Property Listings for Cymbal Real Estate Group"
      ],
      "metadata": {
        "id": "44ikqwKQpEms"
      }
    },
    {
      "cell_type": "markdown",
      "source": [
        "#### Permissions Setup\n",
        "\n",
        "If you have already set up the permission, feel free to skip this step.\n",
        "\n",
        "For using the Vertex AI Search Extension, please grant the [Vertex AI Extension Service agent](https://cloud.google.com/vertex-ai/docs/general/access-control#service-agents) the [permission needed](https://cloud.google.com/vertex-ai/docs/general/access-control#home-project). In this case, you need permissions to run discovery engine. You can set it in the UI: https://console.cloud.google.com/iam-admin/iam"
      ],
      "metadata": {
        "id": "ei9fJCWfFafT"
      }
    },
    {
      "cell_type": "markdown",
      "source": [
        "#### Create a Vertex AI Search App for the Vertex AI Search Extension in 4 Steps\n",
        "\n",
        "To create a search app for Vertex AI Search Extension to use, you can either do that manually by following [those docs](https://cloud.google.com/generative-ai-app-builder/docs/create-datastore-ingest) or run the 4 steps below. If you already have a vertex AI search appp set up, feel free to skip those 4 steps and go to set up vertex AI search extension section."
      ],
      "metadata": {
        "id": "eLSvcJrRBa0P"
      }
    },
    {
      "cell_type": "markdown",
      "source": [
        "##### 1) Download PDFs and Ingest Into GCS Bucket"
      ],
      "metadata": {
        "id": "IBcXf2rdBASy"
      }
    },
    {
      "cell_type": "code",
      "source": [
        "from google.cloud import storage\n",
        "import gdown\n",
        "def upload_blob(bucket_name, source_file_name, destination_blob_name):\n",
        "    \"\"\"Uploads a file to the bucket.\"\"\"\n",
        "    storage_client = storage.Client()\n",
        "    bucket = storage_client.bucket(bucket_name)\n",
        "    blob = bucket.blob(destination_blob_name)\n",
        "    generation_match_precondition = None\n",
        "    blob.upload_from_filename(source_file_name, if_generation_match=generation_match_precondition)\n",
        "    print(f\"File {source_file_name} uploaded to {destination_blob_name}.\")\n",
        "\n",
        "# Create a GCS bucket if you don't have one\n",
        "GCS_BUCKET = f\"{PROJECT_ID}-cymbal-offmarket-list\"\n",
        "! set -x && gsutil mb -p $PROJECT_ID -l us-central1 gs://$GCS_BUCKET\n",
        "\n",
        "gcs_bucket = GCS_BUCKET # If you don't use the bucket created in the notebook, use the name of your bucket.\n",
        "folder_path = \"offmarket_data_pdfs/\" #Default sub folder name in your gcs bucket. You can use this one.\n",
        "\n",
        "# Download the pdfs and ingest them to the GCS bucket\n",
        "url_list = [\"https://drive.google.com/uc?id=1sqGmjqDOLtBMEJkGRAhcTYVbZXkKPAWJ\",\n",
        "\"https://drive.google.com/uc?id=1M2Uk5ABMlLix1Nxg7LEWmW4ioZ_SxhkU\",\n",
        "\"https://drive.google.com/uc?id=19kUrpUv9AKIebHRja_RcyP7JTPMyKmkV\"]\n",
        "i=1\n",
        "for url in url_list:\n",
        "  gdown.download(url, f\"invest{i}.pdf\")\n",
        "  upload_blob(gcs_bucket,f\"invest{i}.pdf\",f\"{folder_path}invest{i}.pdf\")\n",
        "  i+=1"
      ],
      "metadata": {
        "id": "kb3BDKin-6z-"
      },
      "execution_count": null,
      "outputs": []
    },
    {
      "cell_type": "markdown",
      "source": [
        "##### 2) Create a Vertex AI Search Data Store\n",
        "The Vertex AI Search extension needs a [**Data Store** and **Vertex AI Search App**](https://cloud.google.com/generative-ai-app-builder/docs/create-datastore-ingest) to run. After creating the data store using the cell below, You can inspect it under: https://console.cloud.google.com/gen-app-builder/data-stores"
      ],
      "metadata": {
        "id": "VsZUGcCSgMFw"
      }
    },
    {
      "cell_type": "code",
      "source": [
        "# Specify an id for your datastore. It should only use lowercase letters.\n",
        "DATA_STORE_ID = \"cymbal-offmarket-datastore\""
      ],
      "metadata": {
        "id": "VwHVcxEg3qzT"
      },
      "execution_count": null,
      "outputs": []
    },
    {
      "cell_type": "code",
      "source": [
        "# Create your Vertex AI Search data store:\n",
        "%%bash -s \"$PROJECT_ID\" \"$DATA_STORE_ID\"\n",
        "curl -X POST \\\n",
        "-H \"Authorization: Bearer $(gcloud auth print-access-token)\" \\\n",
        "-H \"Content-Type: application/json\" \\\n",
        "-H \"X-Goog-User-Project: $1\" \\\n",
        "\"https://discoveryengine.googleapis.com/v1alpha/projects/$1/locations/global/collections/default_collection/dataStores?dataStoreId=$2\" \\\n",
        "-d '{\n",
        "  \"displayName\": \"Cymbal-Offmarket-Datastore\",\n",
        "  \"industryVertical\": \"GENERIC\",\n",
        "  \"solutionTypes\": [\"SOLUTION_TYPE_SEARCH\"],\n",
        "  \"contentConfig\": \"CONTENT_REQUIRED\",\n",
        "}'"
      ],
      "metadata": {
        "id": "DOLi7KS5gR0P",
        "collapsed": true
      },
      "execution_count": null,
      "outputs": []
    },
    {
      "cell_type": "markdown",
      "source": [
        "##### 3) Ingest PDF Files in the GCS bucket into the Vertex AI Search Data Store"
      ],
      "metadata": {
        "id": "jc2zLUA6BMsa"
      }
    },
    {
      "cell_type": "code",
      "source": [
        "from google.api_core.client_options import ClientOptions\n",
        "from google.cloud import discoveryengine\n",
        "from typing import Optional\n",
        "\n",
        "def import_documents_sample(project_id: str,location: str,data_store_id: str,\n",
        "    gcs_uri: Optional[str] = None,) -> str:\n",
        "    \"\"\"Imports documents into a Vertex AI data store from GCS.\n",
        "    This function imports documents into a specified data store within Vertex AI\n",
        "    Agent Builder from a GCS bucket.\n",
        "    \"\"\"\n",
        "    client_options = (\n",
        "        ClientOptions(api_endpoint=f\"{location}-discoveryengine.googleapis.com\")\n",
        "        if location != \"global\"\n",
        "        else None\n",
        "    )\n",
        "    client = discoveryengine.DocumentServiceClient(client_options=client_options)\n",
        "    # The full resource name of the search engine branch.\n",
        "    parent = client.branch_path(\n",
        "        project=project_id,\n",
        "        location=location,\n",
        "        data_store=data_store_id,\n",
        "        branch=\"default_branch\",)\n",
        "\n",
        "    request = discoveryengine.ImportDocumentsRequest(\n",
        "        parent=parent,\n",
        "        gcs_source=discoveryengine.GcsSource(\n",
        "            input_uris=[gcs_uri], data_schema=\"content\"\n",
        "        ),\n",
        "        # Options: `FULL`, `INCREMENTAL`\n",
        "        reconciliation_mode=discoveryengine.ImportDocumentsRequest.ReconciliationMode.INCREMENTAL,)\n",
        "    # Make the request\n",
        "    operation = client.import_documents(request=request)\n",
        "    print(f\"Waiting for operation to complete: {operation.operation.name}\")\n",
        "    response = operation.result()\n",
        "    # Once the operation is complete, get information from operation metadata.\n",
        "    metadata = discoveryengine.ImportDocumentsMetadata(operation.metadata)\n",
        "    # Handle the response.\n",
        "    print(response)\n",
        "    print(metadata)\n",
        "    return operation.operation.name\n",
        "\n",
        "# Ingest pdfs in the GCS bucket to the data store\n",
        "GCS_URI = f\"gs://{gcs_bucket}/{folder_path}*.pdf\"\n",
        "import_documents_sample(PROJECT_ID, \"global\", DATA_STORE_ID, GCS_URI)"
      ],
      "metadata": {
        "id": "MT6vj3nr6T8e"
      },
      "execution_count": null,
      "outputs": []
    },
    {
      "cell_type": "markdown",
      "source": [
        "##### 4) Create a Vertex Search App and Connect it to the Data Store\n",
        "The following cell lets you create a Vertex AI Search App to ✨**connect**✨ to your newly created data store. Need to enable searchTier and searchAddOns for the Vertex AI Search Extension to work as shown in the cell below. Read more about [Advanced Features](https://cloud.google.com/generative-ai-app-builder/docs/about-advanced-features)"
      ],
      "metadata": {
        "id": "xwcBGeljauNR"
      }
    },
    {
      "cell_type": "code",
      "source": [
        "%%bash -s \"$PROJECT_ID\" \"$DATA_STORE_ID\"\n",
        "curl -X POST \\\n",
        "-H \"Authorization: Bearer $(gcloud auth print-access-token)\" \\\n",
        "-H \"Content-Type: application/json\" \\\n",
        "-H \"X-Goog-User-Project: $1\" \\\n",
        "\"https://discoveryengine.googleapis.com/v1/projects/$1/locations/global/collections/default_collection/engines?engineId=$2\" \\\n",
        "-d '{\n",
        "  \"displayName\": \"Cymbal-Offmarket-Datastore-Engine\",\n",
        "  \"dataStoreIds\": [\"'$2'\"],\n",
        "  \"solutionType\": \"SOLUTION_TYPE_SEARCH\",\n",
        "  \"searchEngineConfig\": {\n",
        "     \"searchTier\": \"SEARCH_TIER_ENTERPRISE\",\n",
        "     \"searchAddOns\": [\"SEARCH_ADD_ON_LLM\"]\n",
        "   }\n",
        "}'"
      ],
      "metadata": {
        "id": "fu8919bNaybd",
        "collapsed": true
      },
      "execution_count": null,
      "outputs": []
    },
    {
      "cell_type": "markdown",
      "source": [
        "#### Set Up the Vertex AI Search Extension Tool\n",
        "\n",
        "After you create the search app, you can use search extension to connect to it to extract the key housing research information. Below cells show you how to get the information using search extension. You can read more about search extension [here](https://cloud.google.com/vertex-ai/generative-ai/docs/extensions/vertex-ai-search)."
      ],
      "metadata": {
        "id": "1TaNXRnqL1Lu"
      }
    },
    {
      "cell_type": "code",
      "source": [
        "#If you use the notebook to create the search app, this should be the app name.\n",
        "#If you use your own search app, please replace the search app id with yours here.\n",
        "SEARCH_APP_ID = \"cymbal-offmarket-datastore\"\n",
        "SEARCH_APP_REGION = \"global\""
      ],
      "metadata": {
        "id": "j45s9LyIOvQ8"
      },
      "execution_count": 2,
      "outputs": []
    },
    {
      "cell_type": "code",
      "source": [
        "SEARCH_CONFIG  = \"projects/{project_id}/locations/{search_app_region}/collections/default_collection/engines/{search_app_id}/servingConfigs/default_search\".format(\n",
        "    project_id=PROJECT_ID,\n",
        "    search_app_region=SEARCH_APP_REGION,\n",
        "    search_app_id=SEARCH_APP_ID)"
      ],
      "metadata": {
        "id": "l_hqJnawdayL"
      },
      "execution_count": 3,
      "outputs": []
    },
    {
      "cell_type": "code",
      "source": [
        "search_extension = Extension.from_hub(\n",
        "    \"vertex_ai_search\",\n",
        "    runtime_config={\n",
        "        \"vertex_ai_search_runtime_config\": {\n",
        "            \"serving_config_name\": SEARCH_CONFIG,\n",
        "        }\n",
        "    })"
      ],
      "metadata": {
        "colab": {
          "base_uri": "https://localhost:8080/"
        },
        "id": "zXggbziVKPC2",
        "outputId": "1c8c0683-e6b8-496e-e011-e46dece67f14",
        "collapsed": true
      },
      "execution_count": 4,
      "outputs": [
        {
          "output_type": "stream",
          "name": "stderr",
          "text": [
            "INFO:vertexai.extensions._extensions:Creating Extension\n",
            "INFO:vertexai.extensions._extensions:Create Extension backing LRO: projects/656421903914/locations/us-central1/extensions/1412494209692205056/operations/5333918235634958336\n",
            "INFO:vertexai.extensions._extensions:Extension created. Resource name: projects/656421903914/locations/us-central1/extensions/1412494209692205056\n",
            "INFO:vertexai.extensions._extensions:To use this Extension in another session:\n",
            "INFO:vertexai.extensions._extensions:extension = vertexai.preview.extensions.Extension('projects/656421903914/locations/us-central1/extensions/1412494209692205056')\n"
          ]
        }
      ]
    },
    {
      "cell_type": "markdown",
      "source": [
        "## Step 2: Create Webpage Browser Extension Tool\n",
        "\n",
        "Webpage browser extension downloads information from the URL you specifcy in the prompt. This is how you can set it up at the moment. Once the CL is in production, we will use Extension.from_hub(...) to set up the extension."
      ],
      "metadata": {
        "id": "-GyFwhSxnO5d"
      }
    },
    {
      "cell_type": "code",
      "source": [
        "webpage_browser_extension = Extension.create(\n",
        "    display_name = \"Webpage Browser\",\n",
        "    description = \"This extension searches answers in browser\",\n",
        "    manifest = {\n",
        "        \"name\": \"webpage_browser\",\n",
        "        \"description\": \"Webpage Browser Extension\",\n",
        "        \"api_spec\": {\n",
        "            \"open_api_gcs_uri\": \"gs://vertex-extension-dev/webpage_browser.yaml\"\n",
        "        },\n",
        "        \"auth_config\": {\n",
        "            \"auth_type\": \"NO_AUTH\",\n",
        "        },\n",
        "    },\n",
        ")"
      ],
      "metadata": {
        "colab": {
          "base_uri": "https://localhost:8080/"
        },
        "id": "O7YkBV8P0xQI",
        "outputId": "04cd2ff3-7fc7-41f1-b041-3abed1a28894",
        "collapsed": true
      },
      "execution_count": 5,
      "outputs": [
        {
          "output_type": "stream",
          "name": "stderr",
          "text": [
            "INFO:vertexai.extensions._extensions:Creating Extension\n",
            "INFO:vertexai.extensions._extensions:Create Extension backing LRO: projects/656421903914/locations/us-central1/extensions/5285589889230831616/operations/2006884010915004416\n",
            "INFO:vertexai.extensions._extensions:Extension created. Resource name: projects/656421903914/locations/us-central1/extensions/5285589889230831616\n",
            "INFO:vertexai.extensions._extensions:To use this Extension in another session:\n",
            "INFO:vertexai.extensions._extensions:extension = vertexai.preview.extensions.Extension('projects/656421903914/locations/us-central1/extensions/5285589889230831616')\n"
          ]
        }
      ]
    },
    {
      "cell_type": "markdown",
      "source": [
        "## Step 3: Function Call Tool\n",
        "\n",
        "In order for your agent to call a function, you need to provide some information about the function to call. You can use the FunctionDeclaration class to construct the function declaration you wish to use, and add this to your app when you create or update. You can read more on [function calling here.](https://cloud.google.com/vertex-ai/generative-ai/docs/multimodal/function-calling)"
      ],
      "metadata": {
        "id": "mq2h-_LEMr9L"
      }
    },
    {
      "cell_type": "code",
      "source": [
        "from vertexai.generative_models import FunctionDeclaration, Part\n",
        "\n",
        "function_declaration = FunctionDeclaration(\n",
        "  name=\"extract_property_sale_records\",\n",
        "  description=\"Extract property sale records from a document.\",\n",
        "  parameters={\n",
        "      \"type\": \"object\",\n",
        "      \"properties\": {\n",
        "          \"records\": {\n",
        "              \"type\": \"array\",\n",
        "              \"description\": \"A list of sale records\",\n",
        "              \"items\": {\n",
        "                  \"description\": \"Data for a sale record\",\n",
        "                  \"type\": \"object\",\n",
        "                  \"properties\": {\n",
        "        \"id\": {\"type\": \"integer\", \"description\": \"The unique id of the sale.\"},\n",
        "                      \"date\": {\"type\": \"string\", \"description\": \"Date of the sale, in the format of MMDDYY, e.g., 031023\"},\n",
        "                      \"total_amount\": {\"type\": \"number\", \"description\": \"The total amount of the sale.\"},\n",
        "                      \"customer_name\": {\"type\": \"string\", \"description\": \"The name of the customer, including first name and last name.\"},\n",
        "                      \"customer_contact\": {\"type\": \"string\", \"description\": \"The phone number of the customer, e.g., 650-123-4567.\"},\n",
        "                  },\n",
        "                  \"required\": [\"id\", \"date\", \"total_amount\"],\n",
        "              },\n",
        "          },\n",
        "      },\n",
        "      \"required\": [\"records\"],\n",
        "  },\n",
        ")"
      ],
      "metadata": {
        "id": "TTXeavD9sc8C"
      },
      "execution_count": 6,
      "outputs": []
    },
    {
      "cell_type": "markdown",
      "source": [
        "## Step 4: Create Agent App\n",
        "\n",
        "Before you create an angent, you need to create an App. There are two options for creating an app.\n",
        "\n",
        "\n",
        "1.   use the App.create function, which will create a new app for you\n",
        "2.   initialize a Vertex Agents App object with the resource name of a previously created App"
      ],
      "metadata": {
        "id": "bpa46pjOwlQW"
      }
    },
    {
      "cell_type": "code",
      "source": [
        "app = App.create(display_name='Cymbal Research Agent App', description='This is an app created for a Cymbal real estate research agent.')"
      ],
      "metadata": {
        "id": "YclyIwrvUNZU"
      },
      "execution_count": 7,
      "outputs": []
    },
    {
      "cell_type": "markdown",
      "source": [
        "## Step 5: Create Cymbal Real Estate Research Agent with Instructions on Tools\n",
        "You can create an agent for your app by using the create_app method. When creating an agent, you must specify all the required fields."
      ],
      "metadata": {
        "id": "KeDYd92xtGtj"
      }
    },
    {
      "cell_type": "code",
      "source": [
        "DISPLAY_NAME = \"Cymbal Real Estate Research Agent\"\n",
        "INSTRUCTIONS = \"You are an expert housing investement opportunities research agent for Cymbal Real Estate Group.\"\n",
        "\n",
        "created_agent = app.add_agent(display_name=DISPLAY_NAME, instructions=INSTRUCTIONS)"
      ],
      "metadata": {
        "id": "4D8AXpW9bllY"
      },
      "execution_count": 8,
      "outputs": []
    },
    {
      "cell_type": "code",
      "source": [
        "app.list_agents()"
      ],
      "metadata": {
        "colab": {
          "base_uri": "https://localhost:8080/"
        },
        "id": "7sHXCM0GoPKG",
        "outputId": "e2d3f475-7397-4adc-95c2-8677d62ffbae"
      },
      "execution_count": 9,
      "outputs": [
        {
          "output_type": "execute_result",
          "data": {
            "text/plain": [
              "[\n",
              " agent_name: projects/656421903914/locations/us-central1/apps/2911436421606670336/agents/3771989538050670592\n",
              " display_name: Cymbal Real Estate Research Agent\n",
              " model: projects/656421903914/locations/us-central1/publishers/google/models/gemini-1.5-pro-001\n",
              " instructions: You are an expert housing investement opportunities research agent for Cymbal Real Estate Group.]"
            ]
          },
          "metadata": {},
          "execution_count": 9
        }
      ]
    },
    {
      "cell_type": "markdown",
      "source": [
        "## Step 6: Ask Agent to Research on Housing Investement Opportunities"
      ],
      "metadata": {
        "id": "m91d6I8i8nXW"
      }
    },
    {
      "cell_type": "markdown",
      "source": [
        "###Update Agent with Simple Instruction - No Instructions on How to Use Tools\n",
        "\n",
        "You can update any and all of the fields of an Agent by specifying them to the Agent.update function. Any fields that aren't specified will not be updated.\n"
      ],
      "metadata": {
        "id": "NECE-StNqEgt"
      }
    },
    {
      "cell_type": "code",
      "source": [
        "SIMPLE_INSTRUCTIONS = \"\"\"\n",
        "You are a friendly chatbot who answers user's questions well.\n",
        "\"\"\"\n",
        "\n",
        "updated_agent = created_agent.update(\n",
        "    new_display_name=DISPLAY_NAME,\n",
        "    new_instructions=SIMPLE_INSTRUCTIONS,\n",
        "    new_functions=[function_declaration],\n",
        "    new_extensions={\n",
        "        'Search Extension': search_extension,\n",
        "        'Webpage Browser Extension': webpage_browser_extension,\n",
        "    }\n",
        ")"
      ],
      "metadata": {
        "id": "D8LI0M4AqEg4"
      },
      "execution_count": 10,
      "outputs": []
    },
    {
      "cell_type": "code",
      "source": [
        "session = app.start_session()"
      ],
      "metadata": {
        "collapsed": true,
        "id": "8H_M2G2gqEg4"
      },
      "execution_count": 11,
      "outputs": []
    },
    {
      "cell_type": "markdown",
      "source": [
        "#### Example: Ask Cymbal Agent to Retrieve info from Cymbal San Francisco Exclusive Off-Market Listings"
      ],
      "metadata": {
        "id": "ZQuzU8VMqEg4"
      }
    },
    {
      "cell_type": "markdown",
      "source": [
        "In this example, we ask the agent to answer question from off-market listings datasource. Since we didn't give it clear instructions on how to use tools, the agent doesn't know how to answer those questions.\n",
        "\n",
        "In the next section, we will give better instructions on how to use tools. And you will see the difference in the response."
      ],
      "metadata": {
        "id": "qLHxQsO24m7l"
      }
    },
    {
      "cell_type": "code",
      "source": [
        "session.run(\"Can you summarize property information around Noe Valley from Cymbal Exclusive Off-Market Listings?\")"
      ],
      "metadata": {
        "id": "oMNClqoaqEg4"
      },
      "execution_count": null,
      "outputs": []
    },
    {
      "cell_type": "markdown",
      "source": [
        "###Update Agent with Clear Instructions on How to Use Tools\n",
        "\n",
        "You can update any and all of the fields of an Agent by specifying them to the Agent.update function. Any fields that aren't specified will not be updated. The reason why we don't add new_functions and new_extensions is that we have already added them in the last step.\n"
      ],
      "metadata": {
        "id": "SV-NgXCjt8F_"
      }
    },
    {
      "cell_type": "code",
      "source": [
        "INSTRUCTIONS = \"\"\"\n",
        "You are an expert who answers the user's housing investment opportunities questions with the most relevant datasource.\n",
        "\n",
        "If the user asks you questions about sales records, call extract_property_sale_records function to extract the information.\n",
        "\n",
        "If the user asks you questions about offmarket listing at Cymbal Real Estate Group, call vertex_ai_search tool to search relevant information.\n",
        "\n",
        "If the user asks you search online to anwser the housing investment questions, please ask the user to provide URLs if the user didn't give you any URLs.\n",
        "After you get the URLs, call webpage_browser tool to search relevant information.\n",
        "\n",
        "If the user asks you to use both tools to answer the questions, you can use both tools and combine the information to answer the question.\n",
        "\n",
        "Please only answer real estate investment related questions. For all other questions, please respond with \"I can only assist with real estate investment related questions\".\n",
        "\n",
        "Only respond based on the response of the tool. Do not create your own answers.\n",
        "\"\"\"\n",
        "\n",
        "updated_agent = created_agent.update(\n",
        "    new_display_name=DISPLAY_NAME,\n",
        "    new_instructions=INSTRUCTIONS,\n",
        ")"
      ],
      "metadata": {
        "id": "dkI-VM22Icsw"
      },
      "execution_count": 13,
      "outputs": []
    },
    {
      "cell_type": "code",
      "source": [
        "session = app.start_session()"
      ],
      "metadata": {
        "id": "QvZcfYXOsVgL",
        "collapsed": true
      },
      "execution_count": 14,
      "outputs": []
    },
    {
      "cell_type": "markdown",
      "source": [
        "#### Example 1: Ask Cymbal Agent to Retrieve info from Cymbal San Francisco Exclusive Off-Market Listings\n",
        "\n",
        "In this example, we ask the agent to answer question from off-market listings datasource. Since we mentioned the datasource, the agent will follow the instructions to retrieve it from vertex ai search datastore.\n",
        "\n",
        "* There are a lot of information you can use from the response. You can get agent text response from .content.\n",
        "* You can see which tools the agent use by accessing actions[1].tool_use.extension_invocation\n",
        "* You can check which documents the agent retrieved by accessing actions[1].tool_use.output_parameters[\"content\"]\n",
        "\n",
        "Feel free to print out response to check out all the fields."
      ],
      "metadata": {
        "id": "ua9u2j0CNteH"
      }
    },
    {
      "cell_type": "code",
      "source": [
        "response = session.run(\"Can you list all property information in Noe Valley from Cymbal Exclusive Off-Market Listings?\")"
      ],
      "metadata": {
        "id": "_CnkVE9m_au3",
        "collapsed": true
      },
      "execution_count": null,
      "outputs": []
    },
    {
      "cell_type": "code",
      "source": [
        "response.content"
      ],
      "metadata": {
        "colab": {
          "base_uri": "https://localhost:8080/"
        },
        "id": "8dDCegbu2mcR",
        "outputId": "962982e7-bc78-44a4-a65e-0c1e810a994e"
      },
      "execution_count": null,
      "outputs": [
        {
          "output_type": "execute_result",
          "data": {
            "text/plain": [
              "role: \"model\"\n",
              "parts {\n",
              "  text: \"- **1433 Noe Street**, Noe Valley: **Modern Townhouse**, 4 beds, 3.5 baths, 3,800 sq. ft., Roof deck with city views, open floor plan, EV charger. \\n \\n Let me know if you need information for other properties. \\n \\n\"\n",
              "}"
            ]
          },
          "metadata": {},
          "execution_count": 120
        }
      ]
    },
    {
      "cell_type": "code",
      "source": [
        "response.actions[1].tool_use.extension_invocation"
      ],
      "metadata": {
        "colab": {
          "base_uri": "https://localhost:8080/"
        },
        "id": "kA8eq7DoxFyw",
        "outputId": "a8355942-0395-446d-b567-a3cbb377fe17"
      },
      "execution_count": null,
      "outputs": [
        {
          "output_type": "execute_result",
          "data": {
            "text/plain": [
              "extension_name: \"projects/656421903914/locations/us-central1/extensions/8271230151572848640\"\n",
              "operation_id: \"search\""
            ]
          },
          "metadata": {},
          "execution_count": 121
        }
      ]
    },
    {
      "cell_type": "code",
      "source": [
        "response.actions[1].tool_use.output_parameters[\"content\"]"
      ],
      "metadata": {
        "colab": {
          "base_uri": "https://localhost:8080/",
          "height": 122
        },
        "id": "W4lxgCF602Hd",
        "outputId": "d1f1f29e-c03b-4e7f-8584-4e0ccaf96a24"
      },
      "execution_count": null,
      "outputs": [
        {
          "output_type": "execute_result",
          "data": {
            "text/plain": [
              "'[{\"extractive_answers\":[\"9753 Valencia Street Mission Live/Work Loft 2 2 3,20 0 Exposed brick, high ceilings, private rooftop deck 8642 Judah Street Sunset Single-Family Home 4 3 3,00 0 Ocean views, large backyard, updated kitchen 3691 24th Street Noe Valley Modern Townhouse 4 3.5 3,60 0 Roof deck with city views, open floor plan, family-friendly 1000 Cole Street Cole Valley Craftsman Bungalow 3 2 2,00 0 Charming details, updated kitchen, private garden 5000 Diamond Heights Blvd Diamond Heights View Condo 2 2 1,80 0 Panoramic city views, private balcony, pool 6000 Arguello Blvd Inner Sunset Single-Family Home 4 2.5 2,80 0 Family-friendly, quiet street, updated kitchen 7000 Lake Street Sea Cliff Historic Estate 8 6 7,50 0 Ocean views, grand interiors, expansive gardens 8000 Twin Peaks Blvd Twin Peaks Mid-Century Modern 3 2 2,50 0 Panoramic city views, open floor plan, private deck drive_spreadsheetExport to Sheets Additional Off-Market Opportunities: ● Pre-Probate Properties: Several estates in Pacific Heights and Sea Cliff are expected to come to market soon. ● Pocket Listings: We have exclusive access to luxury condos in SOMA and a charming Edwardian in Noe Valley. ● Investment Properties: Multi-unit buildings with potential for renovation and rental income available in the Mission and Bernal Heights.\"],\"extractive_segments\":[\"9753\\\\nValencia\\\\nStreet\\\\n\\\\nMission\\\\n\\\\nLive/Work Loft 2\\\\n\\\\n2\\\\n\\\\n3,20\\\\n0\\\\n\\\\nExposed brick, high\\\\nceilings, private\\\\nrooftop deck\\\\n\\\\n8642 Judah\\\\nStreet\\\\n\\\\nSunset\\\\n\\\\nSingle-Family\\\\nHome\\\\n\\\\n4\\\\n\\\\n3\\\\n\\\\n3,00\\\\n0\\\\n\\\\nOcean views, large\\\\nbackyard, updated\\\\nkitchen\\\\n\\\\n3691 24th\\\\nStreet\\\\n\\\\nNoe Valley\\\\n\\\\nModern\\\\nTownhouse\\\\n\\\\n4\\\\n\\\\n3.5\\\\n\\\\n3,60\\\\n0\\\\n\\\\nRoof deck with city\\\\nviews, open floor\\\\nplan, family-friendly\\\\n\\\\n1000 Cole\\\\nStreet\\\\n\\\\nCole Valley\\\\n\\\\nCraftsman\\\\nBungalow\\\\n\\\\n3\\\\n\\\\n2\\\\n\\\\n2,00\\\\n0\\\\n\\\\nCharming details,\\\\nupdated kitchen,\\\\nprivate garden\\\\n\\\\n5000\\\\nDiamond\\\\nHeights Blvd\\\\n\\\\nDiamond\\\\nHeights\\\\n\\\\nView Condo\\\\n\\\\n2\\\\n\\\\n2\\\\n\\\\n1,80\\\\n0\\\\n\\\\nPanoramic city\\\\nviews, private\\\\nbalcony, pool\\\\n\\\\n6000\\\\nArguello Blvd\\\\nInner Sunset Single-Family\\\\nHome\\\\n\\\\n4\\\\n\\\\n2.5\\\\n\\\\n2,80\\\\n0\\\\n\\\\nFamily-friendly, quiet\\\\nstreet, updated\\\\nkitchen\\\\n\\\\n7000 Lake\\\\nStreet\\\\n\\\\nSea Cliff\\\\n\\\\nHistoric Estate 8\\\\n\\\\n6\\\\n\\\\n7,50\\\\n0\\\\n\\\\nOcean views, grand\\\\ninteriors, expansive\\\\ngardens\\\\n\\\\n8000 Twin\\\\nPeaks Blvd\\\\n\\\\nTwin Peaks\\\\n\\\\nMid-Century\\\\nModern\\\\n\\\\n3\\\\n\\\\n2\\\\n\\\\n2,50\\\\n0\\\\n\\\\nPanoramic city\\\\nviews, open floor\\\\nplan, private deck\\\\n\\\\ndrive_spreadsheetExport to Sheets\\\\nAdditional Off-Market Opportunities:\\\\n\\\\n● Pre-Probate Properties: Several estates in Pacific Heights and Sea Cliff are expected\\\\nto come to market soon.\\\\n● Pocket Listings: We have exclusive access to luxury condos in SOMA and a charming\\\\nEdwardian in Noe Valley.\\\\n● Investment Properties: Multi-unit buildings with potential for renovation and rental\\\\nincome available in the Mission and Bernal Heights.\\\\nContact: For more information or to schedule a private showing, please contact your Cymbal\\\\nReal Estate Group agent.\",\"Disclaimer: This information is confidential and intended for Cymbal Real Estate Group clients\\\\nonly. All information is deemed reliable but not guaranteed.\",\"Cymbal Real Estate Group | Exclusive Off-Market Listing in May\\\\nConfidential - For Cymbal Clients Only\\\\nDate: May 10, 2024\\\\nCurrent Market Snapshot: San Francisco\\'s real estate market remains incredibly competitive,\\\\nwith low inventory and high demand. These off-market listings offer our discerning clients an\\\\nexclusive opportunity to secure desirable properties before they become publicly available.\\\\n\\\\nAddress\\\\n\\\\nNeighborhoo\\\\nd\\\\n\\\\nProperty Type Bed\\\\n\\\\ns\\\\n\\\\nBath\\\\ns\\\\n\\\\nSq.\\\\nFt.\\\\n\\\\nHighlights\\\\n\\\\n1234 Green\\\\nStreet\\\\n\\\\nRussian Hill\\\\n\\\\nRenovated\\\\nVictorian\\\\n\\\\n4\\\\n\\\\n3.5\\\\n\\\\n3,80\\\\n0\\\\n\\\\nBay views, chef\\'s\\\\nkitchen, private\\\\ngarden oasis\\\\n\\\\n5678\\\\nLombard\\\\nStreet\\\\n\\\\nMarina/Cow\\\\nHollow\\\\n\\\\nContemporary\\\\nTownhouse\\\\n\\\\n3\\\\n\\\\n2.5\\\\n\\\\n2,70\\\\n0\\\\n\\\\nRoof deck with city\\\\nviews, open floor\\\\nplan, EV charger\\\\n\\\\n9012 Mission\\\\nStreet\\\\n\\\\nMission\\\\nDolores\\\\n\\\\nEdwardian Flat 2\\\\n\\\\n1\\\\n\\\\n1,50\\\\n0\\\\n\\\\nHigh ceilings, period\\\\ndetails, walk to\\\\nDolores Park\\\\n\\\\n3456\\\\nCalifornia\\\\nStreet\\\\n\\\\nPacific Heights Luxury\\\\nPenthouse\\\\n\\\\n4\\\\n\\\\n3.5\\\\n\\\\n5,00\\\\n0\\\\n\\\\n360-degree city\\\\nviews, private\\\\nelevator, rooftop\\\\nterrace\\\\n\\\\n7890 Geary\\\\nBoulevard\\\\n\\\\nInner\\\\nRichmond\\\\n\\\\nSpanish\\\\nMediterranean\\\\n\\\\n5\\\\n\\\\n4\\\\n\\\\n4,20\\\\n0\\\\n\\\\nUpdated kitchen,\\\\nspacious backyard,\\\\nGolden Gate Park\\\\nviews\\\\n\\\\n2468 Fulton\\\\nStreet\\\\n\\\\nRichmond\\\\n\\\\nMid-Century\\\\nModern\\\\n\\\\n3\\\\n\\\\n2\\\\n\\\\n2,60\\\\n0\\\\n\\\\nOpen floor plan,\\\\nbackyard oasis, near\\\\nGolden Gate Park\\\\n\\\\n1357\\\\nFillmore\\\\nStreet\\\\n\\\\nPacific Heights Grand Victorian 6\\\\n\\\\n5\\\\n\\\\n6,50\\\\n0\\\\n\\\\nPreserved period\\\\ndetails, ballroom,\\\\nchef\\'s kitchen\"],\"link\":\"gs://certain-haiku-391918-cymbal-offmarket-list/offmarket_data_pdfs/invest1.pdf\",\"title\":\"Cymbal Real Estate Group | Exclusive Off-Market Listing-05/10/24\"},{\"extractive_answers\":[\"These exclusive off-market listings offer our clients a unique opportunity to access properties not yet available to the public. Address Neighborhoo d Property Type Bed s Bath s Sq. Ft. Highlights 2255 Vallejo Street Pacific Heights Victorian Mansion 6 4.5 6,20 0 Panoramic Bay views, chef&#39;s kitchen, private garden oasis 1433 Noe Street Noe Valley Modern Townhouse 4 3.5 3,80 0 Roof deck with city views, open floor plan, EV charger 870 Harrison Street SOMA Loft Conversion 2 2 2,50 0 Exposed brick, high ceilings, close to tech offices 450 Balboa Street Richmond Spanish Mediterranean 5 4 4,10 0 Updated kitchen, spacious backyard, Golden Gate Park views 333 Clement Street Inner Richmond Mixed-Use Building 2 1 1,80 0 Commercial space on ground floor, apartment above.\"],\"extractive_segments\":[\"Pre-Probate Properties: Several estates in Pacific Heights and Presidio Heights are\\\\ncoming soon to market.\\\\n● Pocket Listings: We have exclusive access to luxury condos in Russian Hill and a\\\\ncharming Edwardian in North Beach.\\\\n● Investment Properties: Multi-unit buildings with potential for renovation and rental\\\\nincome available in the Mission and Bernal Heights.\\\\nContact: For more information or to schedule a private showing, please contact your Cymbal\\\\nReal Estate Group agent.\\\\nDisclaimer: This information is confidential and intended for Cymbal Real Estate Group clients\\\\nonly. All information is deemed reliable but not guaranteed.\",\"369 Mission\\\\nStreet\\\\n\\\\nFinancial\\\\nDistrict\\\\n\\\\nHigh-Rise\\\\nCondo\\\\n\\\\n1\\\\n\\\\n1\\\\n\\\\n1,20\\\\n0\\\\n\\\\nViews of downtown,\\\\nluxury building, walk\\\\nto Embarcadero\\\\n\\\\n1000 Van\\\\nNess\\\\nAvenue\\\\n\\\\nVan Ness/Civic\\\\nCenter\\\\n\\\\nModern Condo 2\\\\n\\\\n2\\\\n\\\\n1,50\\\\n0\\\\n\\\\nCity Hall views, open\\\\nfloor plan, walk to\\\\nHayes Valley\\\\n\\\\n2580 Polk\\\\nStreet\\\\n\\\\nRussian Hill\\\\n\\\\nContemporary\\\\nTownhouse\\\\n\\\\n3\\\\n\\\\n2.5\\\\n\\\\n2,70\\\\n0\\\\n\\\\nRoof deck with views,\\\\nmodern finishes, near\\\\nrestaurants\\\\n\\\\n1470 Pine\\\\nStreet\\\\n\\\\nNob Hill\\\\n\\\\nHistoric Condo 2\\\\n\\\\n1\\\\n\\\\n1,10\\\\n0\\\\n\\\\nGrace Cathedral\\\\nviews, period details,\\\\nwalk to Union Square\\\\n\\\\n8642\\\\nSunset\\\\nBoulevard\\\\n\\\\nSunset\\\\n\\\\nSingle-Family\\\\nHome\\\\n\\\\n4\\\\n\\\\n3\\\\n\\\\n3,10\\\\n0\\\\n\\\\nOcean views, quiet\\\\nstreet, spacious\\\\nbackyard\\\\n\\\\n3579 Ocean\\\\nAvenue\\\\n\\\\nIngleside\\\\n\\\\nMid-Century\\\\nModern\\\\n\\\\n3\\\\n\\\\n2\\\\n\\\\n2,00\\\\n0\\\\n\\\\nOpen floor plan,\\\\nbackyard with\\\\npotential, near parks\\\\n\\\\n1122\\\\nTaraval\\\\nStreet\\\\n\\\\nOuter Sunset Single-Family\\\\nHome\\\\n\\\\n3\\\\n\\\\n2\\\\n\\\\n2,30\\\\n0\\\\n\\\\nOcean breezes, quiet\\\\nstreet, potential for\\\\nADU\\\\n\\\\nAdditional Off-Market Opportunities:\",\"Cymbal Real Estate Group | Exclusive Off-Market Listing in June\\\\nConfidential - For Cymbal Clients Only\\\\nDate: June 10, 2024\\\\nCurrent Market Snapshot: San Francisco\\'s real estate market remains competitive, with\\\\nlimited inventory driving strong buyer interest. These exclusive off-market listings offer our\\\\nclients a unique opportunity to access properties not yet available to the public.\\\\n\\\\nAddress Neighborhoo\\\\nd\\\\n\\\\nProperty Type Bed\\\\n\\\\ns\\\\n\\\\nBath\\\\ns\\\\n\\\\nSq.\\\\nFt.\\\\n\\\\nHighlights\\\\n\\\\n2255 Vallejo\\\\nStreet\\\\n\\\\nPacific Heights Victorian\\\\nMansion\\\\n\\\\n6\\\\n\\\\n4.5\\\\n\\\\n6,20\\\\n0\\\\n\\\\nPanoramic Bay views,\\\\nchef\\'s kitchen, private\\\\ngarden oasis\\\\n\\\\n1433 Noe\\\\nStreet\\\\n\\\\nNoe Valley\\\\n\\\\nModern\\\\nTownhouse\\\\n\\\\n4\\\\n\\\\n3.5\\\\n\\\\n3,80\\\\n0\\\\n\\\\nRoof deck with city\\\\nviews, open floor\\\\nplan, EV charger\\\\n\\\\n870\\\\nHarrison\\\\nStreet\\\\n\\\\nSOMA\\\\n\\\\nLoft\\\\nConversion\\\\n\\\\n2\\\\n\\\\n2\\\\n\\\\n2,50\\\\n0\\\\n\\\\nExposed brick, high\\\\nceilings, close to tech\\\\noffices\\\\n\\\\n450 Balboa\\\\nStreet\\\\n\\\\nRichmond\\\\n\\\\nSpanish\\\\nMediterranean\\\\n\\\\n5\\\\n\\\\n4\\\\n\\\\n4,10\\\\n0\\\\n\\\\nUpdated kitchen,\\\\nspacious backyard,\\\\nGolden Gate Park\\\\nviews\\\\n\\\\n333\\\\nClement\\\\nStreet\\\\n\\\\nInner\\\\nRichmond\\\\n\\\\nMixed-Use\\\\nBuilding\\\\n\\\\n2\\\\n\\\\n1\\\\n\\\\n1,80\\\\n0\\\\n\\\\nCommercial space on\\\\nground floor,\\\\napartment above\"],\"link\":\"gs://certain-haiku-391918-cymbal-offmarket-list/offmarket_data_pdfs/invest3.pdf\",\"title\":\"Cymbal Real Estate Group | Exclusive Off-Market Listing-6/10/24\"},{\"extractive_answers\":[\"1000 Leavenworth Street Nob Hill Beaux-Arts Condo 2 2 2,20 0 High ceilings, period details, walk to Union Square 500 Kirkham Street Sunset Single-Family Home 4 3 3,20 0 Ocean views, large backyard, potential for ADU 1800 Divisadero Street NOPA Mid-Century Modern 3 2 2,10 0 Open floor plan, updated kitchen, close to Golden Gate Park 700 Shotwell Street Mission Victorian Flat 2 1 1,20 0 High ceilings, period details, walk to Dolores Park 2500 Broadway Street Pacific Heights Mediterranean Villa 6 5.5 7,00 0 Pool, expansive gardens, separate guest house 1600 Montgomery Street Telegraph Hill Historic Condo 1 1 900 Coit Tower views, charming details, walk to North Beach 800 Bush Street Downtown Luxury Condo 2 2.5 2,50 0 High-rise living, modern finishes, concierge services 1900 Jackson Street Pacific Heights Contemporary Townhouse 4 3.5 3,80 0 Roof deck with city views, gourmet kitchen, 2 car parking drive_spreadsheetExport to Sheets Additional Off-Market Opportunities: ● Pre-MLS Listings: We have several properties coming soon to market in Noe Valley, Bernal Heights, and the Marina. ● Pocket Listings: We have exclusive access to luxury condos in SOMA and a historic home in Sea Cliff. ● Investment Properties: Multi-unit buildings with potential for renovation and rental income available in the Mission and the Castro.\"],\"extractive_segments\":[\"1000\\\\nLeavenworth\\\\nStreet\\\\n\\\\nNob Hill\\\\n\\\\nBeaux-Arts\\\\nCondo\\\\n\\\\n2\\\\n\\\\n2\\\\n\\\\n2,20\\\\n0\\\\n\\\\nHigh ceilings, period\\\\ndetails, walk to\\\\nUnion Square\\\\n\\\\n500 Kirkham\\\\nStreet\\\\n\\\\nSunset\\\\n\\\\nSingle-Family\\\\nHome\\\\n\\\\n4\\\\n\\\\n3\\\\n\\\\n3,20\\\\n0\\\\n\\\\nOcean views, large\\\\nbackyard, potential\\\\nfor ADU\\\\n\\\\n1800\\\\nDivisadero\\\\nStreet\\\\n\\\\nNOPA\\\\n\\\\nMid-Century\\\\nModern\\\\n\\\\n3\\\\n\\\\n2\\\\n\\\\n2,10\\\\n0\\\\n\\\\nOpen floor plan,\\\\nupdated kitchen,\\\\nclose to Golden\\\\nGate Park\\\\n\\\\n700 Shotwell\\\\nStreet\\\\n\\\\nMission\\\\n\\\\nVictorian Flat\\\\n\\\\n2\\\\n\\\\n1\\\\n\\\\n1,20\\\\n0\\\\n\\\\nHigh ceilings, period\\\\ndetails, walk to\\\\nDolores Park\\\\n\\\\n2500\\\\nBroadway\\\\nStreet\\\\n\\\\nPacific Heights Mediterranean\\\\nVilla\\\\n\\\\n6\\\\n\\\\n5.5\\\\n\\\\n7,00\\\\n0\\\\n\\\\nPool, expansive\\\\ngardens, separate\\\\nguest house\\\\n\\\\n1600\\\\nMontgomery\\\\nStreet\\\\n\\\\nTelegraph Hill\\\\n\\\\nHistoric Condo 1\\\\n\\\\n1\\\\n\\\\n900 Coit Tower views,\\\\ncharming details,\\\\nwalk to North Beach\\\\n\\\\n800 Bush\\\\nStreet\\\\n\\\\nDowntown\\\\n\\\\nLuxury Condo 2\\\\n\\\\n2.5\\\\n\\\\n2,50\\\\n0\\\\n\\\\nHigh-rise living,\\\\nmodern finishes,\\\\nconcierge services\\\\n\\\\n1900 Jackson\\\\nStreet\\\\n\\\\nPacific Heights Contemporary\\\\nTownhouse\\\\n\\\\n4\\\\n\\\\n3.5\\\\n\\\\n3,80\\\\n0\\\\n\\\\nRoof deck with city\\\\nviews, gourmet\\\\nkitchen, 2 car\\\\nparking\\\\n\\\\ndrive_spreadsheetExport to Sheets\\\\nAdditional Off-Market Opportunities:\\\\n\\\\n● Pre-MLS Listings: We have several properties coming soon to market in Noe Valley,\\\\nBernal Heights, and the Marina.\\\\n● Pocket Listings: We have exclusive access to luxury condos in SOMA and a historic\\\\nhome in Sea Cliff.\\\\n● Investment Properties: Multi-unit buildings with potential for renovation and rental\\\\n\\\\nincome available in the Mission and the Castro.\\\\n\\\\nContact: For more information or to schedule a private showing, please contact your Cymbal\\\\nReal Estate Group agent.\",\"Cymbal Real Estate Group | Exclusive Off-Market Listing in April\\\\nConfidential - For Cymbal Clients Only\\\\nDate: April 10, 2024\\\\nCurrent Market Snapshot: San Francisco\\'s real estate market continues its upward trajectory,\\\\nwith low inventory and strong buyer demand pushing prices higher. These exclusive off-market\\\\nlistings offer our clients a strategic advantage in securing desirable properties before they\\\\nbecome publicly available.\\\\n\\\\nAddress\\\\n\\\\nNeighborhoo\\\\nd\\\\n\\\\nProperty Type Bed\\\\n\\\\ns\\\\n\\\\nBath\\\\ns\\\\n\\\\nSq.\\\\nFt.\\\\n\\\\nHighlights\\\\n\\\\n1560 Pacific\\\\nAvenue\\\\n\\\\nRussian Hill\\\\n\\\\nEdwardian\\\\nCondo\\\\n\\\\n3\\\\n\\\\n2.5\\\\n\\\\n2,80\\\\n0\\\\n\\\\nBay views, period\\\\ndetails, updated\\\\nkitchen, 2 car\\\\nparking\\\\n\\\\n925 Ashbury\\\\nStreet\\\\n\\\\nHaight-Ashbur\\\\ny\\\\n\\\\nQueen Anne\\\\nVictorian\\\\n\\\\n5\\\\n\\\\n3.5\\\\n\\\\n4,50\\\\n0\\\\n\\\\nPeriod details, large\\\\ngarden, income\\\\npotential\\\\n\\\\n3400\\\\nWashington\\\\nStreet\\\\n\\\\nPresidio\\\\nHeights\\\\n\\\\nModern\\\\nMansion\\\\n\\\\n7\\\\n\\\\n6\\\\n\\\\n8,50\\\\n0\\\\n\\\\nPanoramic city\\\\nviews, infinity pool,\\\\nsmart home\\\\ntechnology\\\\n\\\\n1250 Clay\\\\nStreet\\\\n\\\\nNob Hill\\\\n\\\\nPenthouse\\\\nCondo\\\\n\\\\n4\\\\n\\\\n4\\\\n\\\\n5,20\\\\n0\\\\n\\\\n360-degree views,\\\\nprivate terrace,\\\\nluxury building\\\\n\\\\n2300 Bryant\\\\nStreet\\\\n\\\\nMission\\\\n\\\\nLive/Work Loft 2\\\\n\\\\n2\\\\n\\\\n3,00\\\\n0\\\\n\\\\nExposed brick, high\\\\nceilings, private\\\\nrooftop deck\\\\n\\\\n600 Steiner\\\\nStreet\\\\n\\\\nLower Pacific\\\\nHeights\\\\n\\\\nRenovated Flat 2\\\\n\\\\n1.5\\\\n\\\\n1,60\\\\n0\\\\n\\\\nModern finishes,\\\\nhardwood floors,\\\\nshared garden\\\\n\\\\n444 De Haro\\\\nStreet\\\\n\\\\nPotrero Hill\\\\n\\\\nContemporary\\\\nHome\\\\n\\\\n3\\\\n\\\\n2.5\\\\n\\\\n2,80\\\\n0\\\\n\\\\nOpen floor plan,\\\\nbackyard oasis,\\\\ndowntown views\"],\"link\":\"gs://certain-haiku-391918-cymbal-offmarket-list/offmarket_data_pdfs/invest2.pdf\",\"title\":\"Cymbal Real Estate Group | Exclusive Off-Market Listing-4/10/24\"}]'"
            ],
            "application/vnd.google.colaboratory.intrinsic+json": {
              "type": "string"
            }
          },
          "metadata": {},
          "execution_count": 122
        }
      ]
    },
    {
      "cell_type": "markdown",
      "source": [
        "#### Example 2: Ask for URLs and use webpage browser extension to retrieve information from the websites\n",
        "\n",
        "In this example, we ask the agent to answer questions by using webpage browser extension tool. As you can see in the response below, it called the webpage browser extension. Output_parameters[\"content\"] includes all the content the agent retrived using the webpage browser extension."
      ],
      "metadata": {
        "id": "K3CI5yymUOKN"
      }
    },
    {
      "cell_type": "code",
      "source": [
        "response = session.run(\"\"\"Can you summarize Noe Valley real estate investment opportunities from here:\n",
        "https://www.bcre.co/blog-news/navigating-the-market-discovering-the-most-promising-neighbourhoods-for-real-estate-investment-in-san-francisco/?\"\"\")"
      ],
      "metadata": {
        "id": "MLRScdrYT8tT"
      },
      "execution_count": null,
      "outputs": []
    },
    {
      "cell_type": "code",
      "source": [
        "response.content"
      ],
      "metadata": {
        "colab": {
          "base_uri": "https://localhost:8080/"
        },
        "id": "t5Nhdy9j7ZJn",
        "outputId": "75275f87-533a-4f20-e104-e10a015bfee9"
      },
      "execution_count": null,
      "outputs": [
        {
          "output_type": "execute_result",
          "data": {
            "text/plain": [
              "role: \"model\"\n",
              "parts {\n",
              "  text: \"Noe Valley, situated in the heart of San Francisco, is a highly sought-after neighborhood known for its picturesque streets and family-friendly atmosphere. The area boasts a tight-knit community and excellent schools, making it a top choice for families. With its well-maintained Victorian and Edwardian homes, Noe Valley offers a classic San Francisco charm combined with a high potential for return on investment. \\n\"\n",
              "}"
            ]
          },
          "metadata": {},
          "execution_count": 124
        }
      ]
    },
    {
      "cell_type": "code",
      "source": [
        "response.actions[1].tool_use.extension_invocation"
      ],
      "metadata": {
        "colab": {
          "base_uri": "https://localhost:8080/"
        },
        "id": "z1B_GGD97WLW",
        "outputId": "aef9d73b-982f-48fd-b57d-451ea9ccdd22"
      },
      "execution_count": null,
      "outputs": [
        {
          "output_type": "execute_result",
          "data": {
            "text/plain": [
              "extension_name: \"projects/656421903914/locations/us-central1/extensions/1741010691885629440\"\n",
              "operation_id: \"browse\""
            ]
          },
          "metadata": {},
          "execution_count": 125
        }
      ]
    },
    {
      "cell_type": "code",
      "source": [
        "response.actions[1].tool_use.output_parameters[\"content\"]"
      ],
      "metadata": {
        "colab": {
          "base_uri": "https://localhost:8080/",
          "height": 122
        },
        "id": "aBh5nfld7YY7",
        "outputId": "73163a40-10a1-46b8-fa18-7a95aea54d94"
      },
      "execution_count": null,
      "outputs": [
        {
          "output_type": "execute_result",
          "data": {
            "text/plain": [
              "\"Navigating the Market: Discovering the Most Promising Neighbourhoods for Real Estate Investment in San Francisco - Baniqued Commercial Real Estate  Menu  Menu  About UsOpen submenu Join Us BuyOpen submenu Sell Brokers Invest SmartOpen submenu Blogs Contact Us  Close submenuAbout Us  What We Do Podcast  Close submenuBuy  Commercial Residential  Close submenuInvest Smart  Invest Smart – English Invest Smart – हिंदी  Skip to content  baniqued commercial real estate logo-Baniqued Commercial Real Estate  Primary Menu  About Us  What We Do Podcast  Join Us Buy  Commercial Residential  Sell Brokers Invest Smart  Invest Smart – English Invest Smart – हिंदी  Blogs Contact Us  Investment in real estate in San Francisco  Navigating the Market: Discovering the Most Promising Neighbourhoods for Real Estate Investment in San Francisco  \\u200dIntroduction to Real Estate Investment in San Francisco  San Francisco has long been a hotbed for real estate investment, attracting both seasoned investors and newcomers alike. With its booming tech industry, vibrant culture, and picturesque landscapes, it's no wonder that the San Francisco real estate market continues to thrive. But with so many options available, how can investors navigate this competitive landscape and find the most promising neighborhoods for their investments?  Factors to Consider When Investing in Real Estate in San Francisco  Before diving into the specifics of the San Francisco real estate market, it's important to understand the key factors that can influence the success of your investment. One crucial aspect to consider is the local economy. San Francisco's tech industry, with giants like Google and Facebook calling the area home, has fueled a strong job market and contributed to the city's rapid growth. Additionally, factors such as population growth, infrastructure development, and proximity to amenities like schools and public transportation can significantly impact property values.  Another crucial consideration is the overall market conditions. Understanding the current trends, both in terms of supply and demand, can help you make informed decisions. For instance, a high demand for housing coupled with limited supply can drive up prices and create a competitive market. Conversely, an oversupply of properties can lead to lower prices and increased opportunities for investment. By keeping a pulse on these market conditions, investors can identify areas with the most potential for growth.  Market Trends and Statistics in the San Francisco Real Estate Market  To gain a deeper understanding of the San Francisco real estate market, it's essential to examine the latest market trends and statistics. According to recent data, the median home price in San Francisco stands at a staggering $1.4 million, making it one of the most expensive housing markets in the country. However, despite the high prices, the market continues to show resilience and potential for growth.  One key trend to note is the rising popularity of condominiums and multi-unit buildings. With space at a premium in the city, developers are focusing on constructing vertical housing options to accommodate the growing population. This trend presents an opportunity for investors to tap into the demand for smaller, more affordable units.  Another trend worth mentioning is the increasing interest in sustainable and energy-efficient properties. San Francisco has always been at the forefront of environmental consciousness, and this extends to the real estate market. Properties with green features, such as solar panels and energy-efficient appliances, are in high demand and can command higher prices.  The Most Promising Neighborhoods for Real Estate Investment in San Francisco  Now that we have explored the key factors and market trends, let's delve into the most promising neighborhoods for real estate investment in San Francisco. It's important to note that while these neighborhoods show great potential, thorough research, and due diligence are essential before making any investment decisions.  1. Mission District: Known for its vibrant culture and diverse community, the Mission District has experienced significant growth in recent years. With its proximity to downtown San Francisco and excellent public transportation options, this neighborhood offers a prime location for real estate investment. The Mission District is also home to numerous tech startups, attracting young professionals who are looking for convenient housing options.  2. Dogpatch: Once an industrial area, Dogpatch has undergone a transformation in recent years and has emerged as a trendy neighborhood for real estate investment. With its charming Victorian homes and proximity to the waterfront, Dogpatch offers a unique blend of history and modernity. The neighborhood has also seen an influx of new businesses, including art galleries, cafes, and boutique shops, making it an attractive destination for both residents and investors.  3. Noe Valley: Situated in the heart of San Francisco, Noe Valley is a highly sought-after neighborhood known for its picturesque streets and family-friendly atmosphere. The area boasts a tight-knit community and excellent schools, making it a top choice for families. With its well-maintained Victorian and Edwardian homes, Noe Valley offers a classic San Francisco charm combined with a high potential for return on investment.  Exploring the Best Places to Buy Real Estate in California  While San Francisco offers numerous opportunities for real estate investment, it's also worth exploring other cities in California that provide attractive options. One such city is Los Angeles, which boasts a diverse real estate market with a range of property types and price points. From the luxury homes of Beverly Hills to the up-and-coming neighborhoods of Downtown LA, there is something for every investor in the City of Angels.  Another city to consider is San Diego, known for its beautiful beaches, thriving downtown area, and strong military presence. With its growing population and strong job market, San Diego offers a stable real estate market with opportunities for long-term growth. Additionally, the city's proximity to the Mexican border makes it an attractive location for cross-border investors.  The Cheapest Cities in the Bay Area for Real Estate Investment  While San Francisco and its surrounding areas may be known for their high real estate prices, there are still affordable options within the Bay Area. One such city is Oakland, which has seen a resurgence in recent years. With its diverse population, vibrant arts scene, and close proximity to San Francisco, Oakland offers a more affordable alternative for real estate investors. The city has also seen significant infrastructure improvements, including the revitalization of its downtown area, making it an attractive destination for both residents and investors.  Another affordable option is Vallejo, located in Solano County. Vallejo has experienced a renaissance in recent years, attracting investors with its affordable housing prices and potential for growth. With its waterfront location and access to major highways, Vallejo offers a convenient location for commuters working in both San Francisco and Sacramento.  Where to Live in San Francisco: Neighborhoods with High Potential for Investment  While real estate investors may focus primarily on return on investment, it's also essential to consider the livability and desirability of a neighborhood. After all, a thriving community with strong amenities can attract quality tenants and ensure long-term success. Here are a few neighborhoods in San Francisco that offer both investment potential and a high quality of life:  1. Pacific Heights: Known for its stunning views of the Golden Gate Bridge and the Bay, Pacific Heights is one of San Francisco's most prestigious neighborhoods. With its tree-lined streets, Victorian mansions, and proximity to parks and shops, Pacific Heights offers a luxurious and desirable living experience. The neighborhood also boasts excellent schools, making it a top choice for families.  2. Russian Hill: Situated on one of San Francisco's famous hills, Russian Hill offers breathtaking views of the city and the bay. The neighborhood is known for its charming streets, historic cable cars, and proximity to popular destinations like Fisherman's Wharf and Ghirardelli Square. Russian Hill offers a mix of architectural styles, ranging from classic Victorian homes to modern condominiums, making it an attractive option for a wide range of residents.  3. Inner Sunset: Located next to Golden Gate Park, Inner Sunset offers a laid-back atmosphere and a close-knit community. The neighborhood is known for its diverse dining options, independent bookstores, and local shops. With its proximity to the park, residents of Inner Sunset can enjoy outdoor activities and a peaceful retreat from the bustling city. The neighborhood also offers a range of housing options, from single-family homes to multi-unit buildings, providing opportunities for various types of investments.  Analyzing Home Prices in the San Francisco Bay Area  When considering real estate investment in the San Francisco Bay Area, it's important to analyze the home prices and trends in the region. As mentioned earlier, the median home price in San Francisco is $1.4 million, making it one of the most expensive cities in the country. However, prices can vary significantly depending on the specific neighborhood and property type.  In general, neighborhoods closer to downtown San Francisco tend to have higher home prices, while those further away offer more affordable options. For example, the median home price in Pacific Heights is around $4 million, while in neighborhoods like Bayview and Excelsior, it can be as low as $800,000. By analyzing these price differentials, investors can identify neighborhoods that align with their budget and investment goals.  Expert Tips for Successful Real Estate Investment in San Francisco  To ensure a successful real estate investment in San Francisco, it's important to heed the advice of industry experts. Here are a few tips to help you navigate the market:  Do your research: Thoroughly research the neighborhoods you are considering, including their historical trends, current market conditions, and future development plans. This will help you make informed decisions and identify areas with the most potential for growth. Work with a local real estate agent: Partnering with a knowledgeable local real estate agent can provide invaluable insights and guidance throughout the investment process. They can help you navigate the local market, negotiate deals, and connect you with other professionals, such as property managers and contractors. Diversify your portfolio: Consider diversifying your real estate portfolio by investing in different types of properties and neighborhoods. This can help mitigate risk and maximize potential returns. Stay updated on market trends: Continuously monitor the market trends and conditions to identify emerging opportunities and adjust your investment strategy accordingly. This includes keeping track of factors such as interest rates, job growth, and housing supply.  Conclusion: Making Informed Decisions in the San Francisco Real Estate Market  Investing in real estate in San Francisco can be a lucrative endeavor, but it requires careful consideration and thorough research. By understanding the key factors, market trends, and potential neighborhoods, investors can make informed decisions that align with their financial goals. Whether you choose to invest in the most promising neighborhoods within San Francisco or explore other cities in California, the key to success lies in analyzing the market, staying updated on trends, and working with industry professionals. So, take the first step towards your new investment journey and contact us for a free consultation today.  Relevant Posts  Owning Your Piece of the Golden State: Benefits of Homeownership in California (and How to Navigate the Journey)  May 23, 2024 No Comments  Read More »  Finding good neighborhood for living in California  Finding the Right Neighborhood in California: Your Guide to a Perfect Fit  May 17, 2024 No Comments  Read More »  Living cost in California  California Dreamin' on a Budget: Unveiling the Cost of Living in Major Cities  May 17, 2024 No Comments  Read More »  How to buy a home in California  Conquering the Golden State: Your Guide to Buying a Home in California  May 17, 2024 No Comments  Read More »  Living in San Francisco  Living in San Francisco: From Foggy Mornings to Golden Gate Dreams  April 13, 2024 No Comments  Read More »  COVID impact on San Francisco Real estate  San Francisco's Housing Market: A Pandemic Plot Twist  April 13, 2024 No Comments  Read More »  Investment in San Francisco Real estate  Conquering the Golden Gate: A Guide to Real Estate Investment in San Francisco  April 13, 2024 No Comments  Read More »  Sell your property in San Francisco  Selling Your San Francisco Dream property: A Comprehensive Guide  April 13, 2024 No Comments  Read More »  Real estate market in 2024  Major Changes in the Real Estate Market in 2024: What You Need to Know  March 19, 2024 No Comments  Read More »  find real estate agent in san Francisco-Baniqued Commercial Real Estate  Working with Real Estate Agents in San Francisco: All You Need to Know  March 13, 2024 No Comments  Read More »  Real estate Trends in San Francisco  Demystifying the San Francisco Market: Trends, Opportunities, and Future Forecast  March 2, 2024 No Comments  Read More »  Guide for renting house in San Francisco  Navigating the Rental Landscape: Your Guide to Renting in San Francisco  March 2, 2024 No Comments  Read More »  baniqued commercial real estate logo-Baniqued Commercial Real Estate  CA DRE License: 01430309  Main: 510-222-0900  Fax: 510-743-4114  OFFICES  East Bay  2801 Pinole Valley Road Suite 210  Pinole, CA 94564  San Francisco  580 California Street, 16th Floor  San Francisco, CA 94104  QUICK LINKS  Home About Us What We Do Buy Sell  Listings Join Us Brokers Contact Us  SISTER COMPANIES  bgam logo-Baniqued Commercial Real Estate  rcc logo-Baniqued Commercial Real Estate  © Copyright 2024. All Rights Reserved.  Real Estate Web Design by Thomas Digital  About Us  What We Do Podcast  Join Us Buy  Commercial Residential  Sell Brokers Invest Smart  Invest Smart – English Invest Smart – हिंदी  Blogs Contact Us  Close menu \""
            ],
            "application/vnd.google.colaboratory.intrinsic+json": {
              "type": "string"
            }
          },
          "metadata": {},
          "execution_count": 126
        }
      ]
    },
    {
      "cell_type": "markdown",
      "source": [
        "#### Example 3: Use both extensions to do research\n",
        "\n",
        "In this example, we ask the agent to call both tools to do the research. As you can see in the response below, it called both vertex AI search and webpage browser extension tools. Output_parameters[\"content\"] includes all the content the agent retrived using both extensions."
      ],
      "metadata": {
        "id": "rFi2UeH5VisX"
      }
    },
    {
      "cell_type": "code",
      "source": [
        "response = session.run(\"\"\"Can you summarize Noe Valley real estate investment opportunities from Cymbal Exclusive Off-Market Listings and here:\n",
        "https://www.bcre.co/blog-news/navigating-the-market-discovering-the-most-promising-neighbourhoods-for-real-estate-investment-in-san-francisco/?\"\"\")"
      ],
      "metadata": {
        "id": "ThMdHyom2TWU"
      },
      "execution_count": null,
      "outputs": []
    },
    {
      "cell_type": "code",
      "source": [
        "response.content"
      ],
      "metadata": {
        "colab": {
          "base_uri": "https://localhost:8080/"
        },
        "id": "oVrrOWWa7zTM",
        "outputId": "4a129cc2-d53b-4c75-e7b3-e888647bdbce"
      },
      "execution_count": null,
      "outputs": [
        {
          "output_type": "execute_result",
          "data": {
            "text/plain": [
              "role: \"model\"\n",
              "parts {\n",
              "  text: \"Noe Valley is a highly sought-after neighborhood known for its picturesque streets and family-friendly atmosphere. The area boasts a tight-knit community and excellent schools,  Cymbal Exclusive Off-Market Listings are a unique opportunity to access Noe Valley properties not yet available to the public.  For more information or to schedule a private showing of Cymbal Exclusive Off-Market Listings, please contact your Cymbal Real Estate Group agent. \\n\"\n",
              "}"
            ]
          },
          "metadata": {},
          "execution_count": 128
        }
      ]
    },
    {
      "cell_type": "code",
      "source": [
        "response.actions[1].tool_use.extension_invocation"
      ],
      "metadata": {
        "colab": {
          "base_uri": "https://localhost:8080/"
        },
        "id": "1W_9DbZc7xj6",
        "outputId": "13cba749-4d68-4455-b0ab-d24cbb5197c9"
      },
      "execution_count": null,
      "outputs": [
        {
          "output_type": "execute_result",
          "data": {
            "text/plain": [
              "extension_name: \"projects/656421903914/locations/us-central1/extensions/8271230151572848640\"\n",
              "operation_id: \"search\""
            ]
          },
          "metadata": {},
          "execution_count": 129
        }
      ]
    },
    {
      "cell_type": "code",
      "source": [
        "response.actions[2].tool_use.extension_invocation"
      ],
      "metadata": {
        "colab": {
          "base_uri": "https://localhost:8080/"
        },
        "id": "VmgwCFhN74rr",
        "outputId": "910c5b40-a74b-43f6-bcb4-89c60e0d3ac3"
      },
      "execution_count": null,
      "outputs": [
        {
          "output_type": "execute_result",
          "data": {
            "text/plain": [
              "extension_name: \"projects/656421903914/locations/us-central1/extensions/1741010691885629440\"\n",
              "operation_id: \"browse\""
            ]
          },
          "metadata": {},
          "execution_count": 130
        }
      ]
    },
    {
      "cell_type": "code",
      "source": [
        "response.actions[1].tool_use.output_parameters[\"content\"]"
      ],
      "metadata": {
        "colab": {
          "base_uri": "https://localhost:8080/",
          "height": 122
        },
        "id": "ulOh4RcU76Jg",
        "outputId": "5ff6bd66-10bd-4dc4-e57a-7fa52234fa89"
      },
      "execution_count": null,
      "outputs": [
        {
          "output_type": "execute_result",
          "data": {
            "text/plain": [
              "'[{\"extractive_answers\":[\"These exclusive off-market listings offer our clients a unique opportunity to access properties not yet available to the public. Address Neighborhoo d Property Type Bed s Bath s Sq. Ft. Highlights 2255 Vallejo Street Pacific Heights Victorian Mansion 6 4.5 6,20 0 Panoramic Bay views, chef&#39;s kitchen, private garden oasis 1433 Noe Street Noe Valley Modern Townhouse 4 3.5 3,80 0 Roof deck with city views, open floor plan, EV charger 870 Harrison Street SOMA Loft Conversion 2 2 2,50 0 Exposed brick, high ceilings, close to tech offices 450 Balboa Street Richmond Spanish Mediterranean 5 4 4,10 0 Updated kitchen, spacious backyard, Golden Gate Park views 333 Clement Street Inner Richmond Mixed-Use Building 2 1 1,80 0 Commercial space on ground floor, apartment above.\"],\"extractive_segments\":[\"Pre-Probate Properties: Several estates in Pacific Heights and Presidio Heights are\\\\ncoming soon to market.\\\\n● Pocket Listings: We have exclusive access to luxury condos in Russian Hill and a\\\\ncharming Edwardian in North Beach.\\\\n● Investment Properties: Multi-unit buildings with potential for renovation and rental\\\\nincome available in the Mission and Bernal Heights.\\\\nContact: For more information or to schedule a private showing, please contact your Cymbal\\\\nReal Estate Group agent.\\\\nDisclaimer: This information is confidential and intended for Cymbal Real Estate Group clients\\\\nonly. All information is deemed reliable but not guaranteed.\",\"369 Mission\\\\nStreet\\\\n\\\\nFinancial\\\\nDistrict\\\\n\\\\nHigh-Rise\\\\nCondo\\\\n\\\\n1\\\\n\\\\n1\\\\n\\\\n1,20\\\\n0\\\\n\\\\nViews of downtown,\\\\nluxury building, walk\\\\nto Embarcadero\\\\n\\\\n1000 Van\\\\nNess\\\\nAvenue\\\\n\\\\nVan Ness/Civic\\\\nCenter\\\\n\\\\nModern Condo 2\\\\n\\\\n2\\\\n\\\\n1,50\\\\n0\\\\n\\\\nCity Hall views, open\\\\nfloor plan, walk to\\\\nHayes Valley\\\\n\\\\n2580 Polk\\\\nStreet\\\\n\\\\nRussian Hill\\\\n\\\\nContemporary\\\\nTownhouse\\\\n\\\\n3\\\\n\\\\n2.5\\\\n\\\\n2,70\\\\n0\\\\n\\\\nRoof deck with views,\\\\nmodern finishes, near\\\\nrestaurants\\\\n\\\\n1470 Pine\\\\nStreet\\\\n\\\\nNob Hill\\\\n\\\\nHistoric Condo 2\\\\n\\\\n1\\\\n\\\\n1,10\\\\n0\\\\n\\\\nGrace Cathedral\\\\nviews, period details,\\\\nwalk to Union Square\\\\n\\\\n8642\\\\nSunset\\\\nBoulevard\\\\n\\\\nSunset\\\\n\\\\nSingle-Family\\\\nHome\\\\n\\\\n4\\\\n\\\\n3\\\\n\\\\n3,10\\\\n0\\\\n\\\\nOcean views, quiet\\\\nstreet, spacious\\\\nbackyard\\\\n\\\\n3579 Ocean\\\\nAvenue\\\\n\\\\nIngleside\\\\n\\\\nMid-Century\\\\nModern\\\\n\\\\n3\\\\n\\\\n2\\\\n\\\\n2,00\\\\n0\\\\n\\\\nOpen floor plan,\\\\nbackyard with\\\\npotential, near parks\\\\n\\\\n1122\\\\nTaraval\\\\nStreet\\\\n\\\\nOuter Sunset Single-Family\\\\nHome\\\\n\\\\n3\\\\n\\\\n2\\\\n\\\\n2,30\\\\n0\\\\n\\\\nOcean breezes, quiet\\\\nstreet, potential for\\\\nADU\\\\n\\\\nAdditional Off-Market Opportunities:\",\"Cymbal Real Estate Group | Exclusive Off-Market Listing in June\\\\nConfidential - For Cymbal Clients Only\\\\nDate: June 10, 2024\\\\nCurrent Market Snapshot: San Francisco\\'s real estate market remains competitive, with\\\\nlimited inventory driving strong buyer interest. These exclusive off-market listings offer our\\\\nclients a unique opportunity to access properties not yet available to the public.\\\\n\\\\nAddress Neighborhoo\\\\nd\\\\n\\\\nProperty Type Bed\\\\n\\\\ns\\\\n\\\\nBath\\\\ns\\\\n\\\\nSq.\\\\nFt.\\\\n\\\\nHighlights\\\\n\\\\n2255 Vallejo\\\\nStreet\\\\n\\\\nPacific Heights Victorian\\\\nMansion\\\\n\\\\n6\\\\n\\\\n4.5\\\\n\\\\n6,20\\\\n0\\\\n\\\\nPanoramic Bay views,\\\\nchef\\'s kitchen, private\\\\ngarden oasis\\\\n\\\\n1433 Noe\\\\nStreet\\\\n\\\\nNoe Valley\\\\n\\\\nModern\\\\nTownhouse\\\\n\\\\n4\\\\n\\\\n3.5\\\\n\\\\n3,80\\\\n0\\\\n\\\\nRoof deck with city\\\\nviews, open floor\\\\nplan, EV charger\\\\n\\\\n870\\\\nHarrison\\\\nStreet\\\\n\\\\nSOMA\\\\n\\\\nLoft\\\\nConversion\\\\n\\\\n2\\\\n\\\\n2\\\\n\\\\n2,50\\\\n0\\\\n\\\\nExposed brick, high\\\\nceilings, close to tech\\\\noffices\\\\n\\\\n450 Balboa\\\\nStreet\\\\n\\\\nRichmond\\\\n\\\\nSpanish\\\\nMediterranean\\\\n\\\\n5\\\\n\\\\n4\\\\n\\\\n4,10\\\\n0\\\\n\\\\nUpdated kitchen,\\\\nspacious backyard,\\\\nGolden Gate Park\\\\nviews\\\\n\\\\n333\\\\nClement\\\\nStreet\\\\n\\\\nInner\\\\nRichmond\\\\n\\\\nMixed-Use\\\\nBuilding\\\\n\\\\n2\\\\n\\\\n1\\\\n\\\\n1,80\\\\n0\\\\n\\\\nCommercial space on\\\\nground floor,\\\\napartment above\"],\"link\":\"gs://certain-haiku-391918-cymbal-offmarket-list/offmarket_data_pdfs/invest3.pdf\",\"title\":\"Cymbal Real Estate Group | Exclusive Off-Market Listing-6/10/24\"},{\"extractive_answers\":[\"Contact: For more information or to schedule a private showing, please contact your Cymbal Real Estate Group agent.\"],\"extractive_segments\":[\"9753\\\\nValencia\\\\nStreet\\\\n\\\\nMission\\\\n\\\\nLive/Work Loft 2\\\\n\\\\n2\\\\n\\\\n3,20\\\\n0\\\\n\\\\nExposed brick, high\\\\nceilings, private\\\\nrooftop deck\\\\n\\\\n8642 Judah\\\\nStreet\\\\n\\\\nSunset\\\\n\\\\nSingle-Family\\\\nHome\\\\n\\\\n4\\\\n\\\\n3\\\\n\\\\n3,00\\\\n0\\\\n\\\\nOcean views, large\\\\nbackyard, updated\\\\nkitchen\\\\n\\\\n3691 24th\\\\nStreet\\\\n\\\\nNoe Valley\\\\n\\\\nModern\\\\nTownhouse\\\\n\\\\n4\\\\n\\\\n3.5\\\\n\\\\n3,60\\\\n0\\\\n\\\\nRoof deck with city\\\\nviews, open floor\\\\nplan, family-friendly\\\\n\\\\n1000 Cole\\\\nStreet\\\\n\\\\nCole Valley\\\\n\\\\nCraftsman\\\\nBungalow\\\\n\\\\n3\\\\n\\\\n2\\\\n\\\\n2,00\\\\n0\\\\n\\\\nCharming details,\\\\nupdated kitchen,\\\\nprivate garden\\\\n\\\\n5000\\\\nDiamond\\\\nHeights Blvd\\\\n\\\\nDiamond\\\\nHeights\\\\n\\\\nView Condo\\\\n\\\\n2\\\\n\\\\n2\\\\n\\\\n1,80\\\\n0\\\\n\\\\nPanoramic city\\\\nviews, private\\\\nbalcony, pool\\\\n\\\\n6000\\\\nArguello Blvd\\\\nInner Sunset Single-Family\\\\nHome\\\\n\\\\n4\\\\n\\\\n2.5\\\\n\\\\n2,80\\\\n0\\\\n\\\\nFamily-friendly, quiet\\\\nstreet, updated\\\\nkitchen\\\\n\\\\n7000 Lake\\\\nStreet\\\\n\\\\nSea Cliff\\\\n\\\\nHistoric Estate 8\\\\n\\\\n6\\\\n\\\\n7,50\\\\n0\\\\n\\\\nOcean views, grand\\\\ninteriors, expansive\\\\ngardens\\\\n\\\\n8000 Twin\\\\nPeaks Blvd\\\\n\\\\nTwin Peaks\\\\n\\\\nMid-Century\\\\nModern\\\\n\\\\n3\\\\n\\\\n2\\\\n\\\\n2,50\\\\n0\\\\n\\\\nPanoramic city\\\\nviews, open floor\\\\nplan, private deck\\\\n\\\\ndrive_spreadsheetExport to Sheets\\\\nAdditional Off-Market Opportunities:\\\\n\\\\n● Pre-Probate Properties: Several estates in Pacific Heights and Sea Cliff are expected\\\\nto come to market soon.\\\\n● Pocket Listings: We have exclusive access to luxury condos in SOMA and a charming\\\\nEdwardian in Noe Valley.\\\\n● Investment Properties: Multi-unit buildings with potential for renovation and rental\\\\nincome available in the Mission and Bernal Heights.\\\\nContact: For more information or to schedule a private showing, please contact your Cymbal\\\\nReal Estate Group agent.\",\"Disclaimer: This information is confidential and intended for Cymbal Real Estate Group clients\\\\nonly. All information is deemed reliable but not guaranteed.\",\"Cymbal Real Estate Group | Exclusive Off-Market Listing in May\\\\nConfidential - For Cymbal Clients Only\\\\nDate: May 10, 2024\\\\nCurrent Market Snapshot: San Francisco\\'s real estate market remains incredibly competitive,\\\\nwith low inventory and high demand. These off-market listings offer our discerning clients an\\\\nexclusive opportunity to secure desirable properties before they become publicly available.\\\\n\\\\nAddress\\\\n\\\\nNeighborhoo\\\\nd\\\\n\\\\nProperty Type Bed\\\\n\\\\ns\\\\n\\\\nBath\\\\ns\\\\n\\\\nSq.\\\\nFt.\\\\n\\\\nHighlights\\\\n\\\\n1234 Green\\\\nStreet\\\\n\\\\nRussian Hill\\\\n\\\\nRenovated\\\\nVictorian\\\\n\\\\n4\\\\n\\\\n3.5\\\\n\\\\n3,80\\\\n0\\\\n\\\\nBay views, chef\\'s\\\\nkitchen, private\\\\ngarden oasis\\\\n\\\\n5678\\\\nLombard\\\\nStreet\\\\n\\\\nMarina/Cow\\\\nHollow\\\\n\\\\nContemporary\\\\nTownhouse\\\\n\\\\n3\\\\n\\\\n2.5\\\\n\\\\n2,70\\\\n0\\\\n\\\\nRoof deck with city\\\\nviews, open floor\\\\nplan, EV charger\\\\n\\\\n9012 Mission\\\\nStreet\\\\n\\\\nMission\\\\nDolores\\\\n\\\\nEdwardian Flat 2\\\\n\\\\n1\\\\n\\\\n1,50\\\\n0\\\\n\\\\nHigh ceilings, period\\\\ndetails, walk to\\\\nDolores Park\\\\n\\\\n3456\\\\nCalifornia\\\\nStreet\\\\n\\\\nPacific Heights Luxury\\\\nPenthouse\\\\n\\\\n4\\\\n\\\\n3.5\\\\n\\\\n5,00\\\\n0\\\\n\\\\n360-degree city\\\\nviews, private\\\\nelevator, rooftop\\\\nterrace\\\\n\\\\n7890 Geary\\\\nBoulevard\\\\n\\\\nInner\\\\nRichmond\\\\n\\\\nSpanish\\\\nMediterranean\\\\n\\\\n5\\\\n\\\\n4\\\\n\\\\n4,20\\\\n0\\\\n\\\\nUpdated kitchen,\\\\nspacious backyard,\\\\nGolden Gate Park\\\\nviews\\\\n\\\\n2468 Fulton\\\\nStreet\\\\n\\\\nRichmond\\\\n\\\\nMid-Century\\\\nModern\\\\n\\\\n3\\\\n\\\\n2\\\\n\\\\n2,60\\\\n0\\\\n\\\\nOpen floor plan,\\\\nbackyard oasis, near\\\\nGolden Gate Park\\\\n\\\\n1357\\\\nFillmore\\\\nStreet\\\\n\\\\nPacific Heights Grand Victorian 6\\\\n\\\\n5\\\\n\\\\n6,50\\\\n0\\\\n\\\\nPreserved period\\\\ndetails, ballroom,\\\\nchef\\'s kitchen\"],\"link\":\"gs://certain-haiku-391918-cymbal-offmarket-list/offmarket_data_pdfs/invest1.pdf\",\"title\":\"Cymbal Real Estate Group | Exclusive Off-Market Listing-05/10/24\"},{\"extractive_answers\":[\"Contact: For more information or to schedule a private showing, please contact your Cymbal Real Estate Group agent.\"],\"extractive_segments\":[\"1000\\\\nLeavenworth\\\\nStreet\\\\n\\\\nNob Hill\\\\n\\\\nBeaux-Arts\\\\nCondo\\\\n\\\\n2\\\\n\\\\n2\\\\n\\\\n2,20\\\\n0\\\\n\\\\nHigh ceilings, period\\\\ndetails, walk to\\\\nUnion Square\\\\n\\\\n500 Kirkham\\\\nStreet\\\\n\\\\nSunset\\\\n\\\\nSingle-Family\\\\nHome\\\\n\\\\n4\\\\n\\\\n3\\\\n\\\\n3,20\\\\n0\\\\n\\\\nOcean views, large\\\\nbackyard, potential\\\\nfor ADU\\\\n\\\\n1800\\\\nDivisadero\\\\nStreet\\\\n\\\\nNOPA\\\\n\\\\nMid-Century\\\\nModern\\\\n\\\\n3\\\\n\\\\n2\\\\n\\\\n2,10\\\\n0\\\\n\\\\nOpen floor plan,\\\\nupdated kitchen,\\\\nclose to Golden\\\\nGate Park\\\\n\\\\n700 Shotwell\\\\nStreet\\\\n\\\\nMission\\\\n\\\\nVictorian Flat\\\\n\\\\n2\\\\n\\\\n1\\\\n\\\\n1,20\\\\n0\\\\n\\\\nHigh ceilings, period\\\\ndetails, walk to\\\\nDolores Park\\\\n\\\\n2500\\\\nBroadway\\\\nStreet\\\\n\\\\nPacific Heights Mediterranean\\\\nVilla\\\\n\\\\n6\\\\n\\\\n5.5\\\\n\\\\n7,00\\\\n0\\\\n\\\\nPool, expansive\\\\ngardens, separate\\\\nguest house\\\\n\\\\n1600\\\\nMontgomery\\\\nStreet\\\\n\\\\nTelegraph Hill\\\\n\\\\nHistoric Condo 1\\\\n\\\\n1\\\\n\\\\n900 Coit Tower views,\\\\ncharming details,\\\\nwalk to North Beach\\\\n\\\\n800 Bush\\\\nStreet\\\\n\\\\nDowntown\\\\n\\\\nLuxury Condo 2\\\\n\\\\n2.5\\\\n\\\\n2,50\\\\n0\\\\n\\\\nHigh-rise living,\\\\nmodern finishes,\\\\nconcierge services\\\\n\\\\n1900 Jackson\\\\nStreet\\\\n\\\\nPacific Heights Contemporary\\\\nTownhouse\\\\n\\\\n4\\\\n\\\\n3.5\\\\n\\\\n3,80\\\\n0\\\\n\\\\nRoof deck with city\\\\nviews, gourmet\\\\nkitchen, 2 car\\\\nparking\\\\n\\\\ndrive_spreadsheetExport to Sheets\\\\nAdditional Off-Market Opportunities:\\\\n\\\\n● Pre-MLS Listings: We have several properties coming soon to market in Noe Valley,\\\\nBernal Heights, and the Marina.\\\\n● Pocket Listings: We have exclusive access to luxury condos in SOMA and a historic\\\\nhome in Sea Cliff.\\\\n● Investment Properties: Multi-unit buildings with potential for renovation and rental\\\\n\\\\nincome available in the Mission and the Castro.\\\\n\\\\nContact: For more information or to schedule a private showing, please contact your Cymbal\\\\nReal Estate Group agent.\",\"Cymbal Real Estate Group | Exclusive Off-Market Listing in April\\\\nConfidential - For Cymbal Clients Only\\\\nDate: April 10, 2024\\\\nCurrent Market Snapshot: San Francisco\\'s real estate market continues its upward trajectory,\\\\nwith low inventory and strong buyer demand pushing prices higher. These exclusive off-market\\\\nlistings offer our clients a strategic advantage in securing desirable properties before they\\\\nbecome publicly available.\\\\n\\\\nAddress\\\\n\\\\nNeighborhoo\\\\nd\\\\n\\\\nProperty Type Bed\\\\n\\\\ns\\\\n\\\\nBath\\\\ns\\\\n\\\\nSq.\\\\nFt.\\\\n\\\\nHighlights\\\\n\\\\n1560 Pacific\\\\nAvenue\\\\n\\\\nRussian Hill\\\\n\\\\nEdwardian\\\\nCondo\\\\n\\\\n3\\\\n\\\\n2.5\\\\n\\\\n2,80\\\\n0\\\\n\\\\nBay views, period\\\\ndetails, updated\\\\nkitchen, 2 car\\\\nparking\\\\n\\\\n925 Ashbury\\\\nStreet\\\\n\\\\nHaight-Ashbur\\\\ny\\\\n\\\\nQueen Anne\\\\nVictorian\\\\n\\\\n5\\\\n\\\\n3.5\\\\n\\\\n4,50\\\\n0\\\\n\\\\nPeriod details, large\\\\ngarden, income\\\\npotential\\\\n\\\\n3400\\\\nWashington\\\\nStreet\\\\n\\\\nPresidio\\\\nHeights\\\\n\\\\nModern\\\\nMansion\\\\n\\\\n7\\\\n\\\\n6\\\\n\\\\n8,50\\\\n0\\\\n\\\\nPanoramic city\\\\nviews, infinity pool,\\\\nsmart home\\\\ntechnology\\\\n\\\\n1250 Clay\\\\nStreet\\\\n\\\\nNob Hill\\\\n\\\\nPenthouse\\\\nCondo\\\\n\\\\n4\\\\n\\\\n4\\\\n\\\\n5,20\\\\n0\\\\n\\\\n360-degree views,\\\\nprivate terrace,\\\\nluxury building\\\\n\\\\n2300 Bryant\\\\nStreet\\\\n\\\\nMission\\\\n\\\\nLive/Work Loft 2\\\\n\\\\n2\\\\n\\\\n3,00\\\\n0\\\\n\\\\nExposed brick, high\\\\nceilings, private\\\\nrooftop deck\\\\n\\\\n600 Steiner\\\\nStreet\\\\n\\\\nLower Pacific\\\\nHeights\\\\n\\\\nRenovated Flat 2\\\\n\\\\n1.5\\\\n\\\\n1,60\\\\n0\\\\n\\\\nModern finishes,\\\\nhardwood floors,\\\\nshared garden\\\\n\\\\n444 De Haro\\\\nStreet\\\\n\\\\nPotrero Hill\\\\n\\\\nContemporary\\\\nHome\\\\n\\\\n3\\\\n\\\\n2.5\\\\n\\\\n2,80\\\\n0\\\\n\\\\nOpen floor plan,\\\\nbackyard oasis,\\\\ndowntown views\"],\"link\":\"gs://certain-haiku-391918-cymbal-offmarket-list/offmarket_data_pdfs/invest2.pdf\",\"title\":\"Cymbal Real Estate Group | Exclusive Off-Market Listing-4/10/24\"}]'"
            ],
            "application/vnd.google.colaboratory.intrinsic+json": {
              "type": "string"
            }
          },
          "metadata": {},
          "execution_count": 131
        }
      ]
    },
    {
      "cell_type": "code",
      "source": [
        "response.actions[2].tool_use.output_parameters[\"content\"]"
      ],
      "metadata": {
        "colab": {
          "base_uri": "https://localhost:8080/",
          "height": 122
        },
        "id": "14zPLvhV8C6b",
        "outputId": "12494dae-d174-4801-93ed-e3945dda5d83"
      },
      "execution_count": null,
      "outputs": [
        {
          "output_type": "execute_result",
          "data": {
            "text/plain": [
              "\"Navigating the Market: Discovering the Most Promising Neighbourhoods for Real Estate Investment in San Francisco - Baniqued Commercial Real Estate  Menu  Menu  About UsOpen submenu Join Us BuyOpen submenu Sell Brokers Invest SmartOpen submenu Blogs Contact Us  Close submenuAbout Us  What We Do Podcast  Close submenuBuy  Commercial Residential  Close submenuInvest Smart  Invest Smart – English Invest Smart – हिंदी  Skip to content  baniqued commercial real estate logo-Baniqued Commercial Real Estate  Primary Menu  About Us  What We Do Podcast  Join Us Buy  Commercial Residential  Sell Brokers Invest Smart  Invest Smart – English Invest Smart – हिंदी  Blogs Contact Us  Investment in real estate in San Francisco  Navigating the Market: Discovering the Most Promising Neighbourhoods for Real Estate Investment in San Francisco  \\u200dIntroduction to Real Estate Investment in San Francisco  San Francisco has long been a hotbed for real estate investment, attracting both seasoned investors and newcomers alike. With its booming tech industry, vibrant culture, and picturesque landscapes, it's no wonder that the San Francisco real estate market continues to thrive. But with so many options available, how can investors navigate this competitive landscape and find the most promising neighborhoods for their investments?  Factors to Consider When Investing in Real Estate in San Francisco  Before diving into the specifics of the San Francisco real estate market, it's important to understand the key factors that can influence the success of your investment. One crucial aspect to consider is the local economy. San Francisco's tech industry, with giants like Google and Facebook calling the area home, has fueled a strong job market and contributed to the city's rapid growth. Additionally, factors such as population growth, infrastructure development, and proximity to amenities like schools and public transportation can significantly impact property values.  Another crucial consideration is the overall market conditions. Understanding the current trends, both in terms of supply and demand, can help you make informed decisions. For instance, a high demand for housing coupled with limited supply can drive up prices and create a competitive market. Conversely, an oversupply of properties can lead to lower prices and increased opportunities for investment. By keeping a pulse on these market conditions, investors can identify areas with the most potential for growth.  Market Trends and Statistics in the San Francisco Real Estate Market  To gain a deeper understanding of the San Francisco real estate market, it's essential to examine the latest market trends and statistics. According to recent data, the median home price in San Francisco stands at a staggering $1.4 million, making it one of the most expensive housing markets in the country. However, despite the high prices, the market continues to show resilience and potential for growth.  One key trend to note is the rising popularity of condominiums and multi-unit buildings. With space at a premium in the city, developers are focusing on constructing vertical housing options to accommodate the growing population. This trend presents an opportunity for investors to tap into the demand for smaller, more affordable units.  Another trend worth mentioning is the increasing interest in sustainable and energy-efficient properties. San Francisco has always been at the forefront of environmental consciousness, and this extends to the real estate market. Properties with green features, such as solar panels and energy-efficient appliances, are in high demand and can command higher prices.  The Most Promising Neighborhoods for Real Estate Investment in San Francisco  Now that we have explored the key factors and market trends, let's delve into the most promising neighborhoods for real estate investment in San Francisco. It's important to note that while these neighborhoods show great potential, thorough research, and due diligence are essential before making any investment decisions.  1. Mission District: Known for its vibrant culture and diverse community, the Mission District has experienced significant growth in recent years. With its proximity to downtown San Francisco and excellent public transportation options, this neighborhood offers a prime location for real estate investment. The Mission District is also home to numerous tech startups, attracting young professionals who are looking for convenient housing options.  2. Dogpatch: Once an industrial area, Dogpatch has undergone a transformation in recent years and has emerged as a trendy neighborhood for real estate investment. With its charming Victorian homes and proximity to the waterfront, Dogpatch offers a unique blend of history and modernity. The neighborhood has also seen an influx of new businesses, including art galleries, cafes, and boutique shops, making it an attractive destination for both residents and investors.  3. Noe Valley: Situated in the heart of San Francisco, Noe Valley is a highly sought-after neighborhood known for its picturesque streets and family-friendly atmosphere. The area boasts a tight-knit community and excellent schools, making it a top choice for families. With its well-maintained Victorian and Edwardian homes, Noe Valley offers a classic San Francisco charm combined with a high potential for return on investment.  Exploring the Best Places to Buy Real Estate in California  While San Francisco offers numerous opportunities for real estate investment, it's also worth exploring other cities in California that provide attractive options. One such city is Los Angeles, which boasts a diverse real estate market with a range of property types and price points. From the luxury homes of Beverly Hills to the up-and-coming neighborhoods of Downtown LA, there is something for every investor in the City of Angels.  Another city to consider is San Diego, known for its beautiful beaches, thriving downtown area, and strong military presence. With its growing population and strong job market, San Diego offers a stable real estate market with opportunities for long-term growth. Additionally, the city's proximity to the Mexican border makes it an attractive location for cross-border investors.  The Cheapest Cities in the Bay Area for Real Estate Investment  While San Francisco and its surrounding areas may be known for their high real estate prices, there are still affordable options within the Bay Area. One such city is Oakland, which has seen a resurgence in recent years. With its diverse population, vibrant arts scene, and close proximity to San Francisco, Oakland offers a more affordable alternative for real estate investors. The city has also seen significant infrastructure improvements, including the revitalization of its downtown area, making it an attractive destination for both residents and investors.  Another affordable option is Vallejo, located in Solano County. Vallejo has experienced a renaissance in recent years, attracting investors with its affordable housing prices and potential for growth. With its waterfront location and access to major highways, Vallejo offers a convenient location for commuters working in both San Francisco and Sacramento.  Where to Live in San Francisco: Neighborhoods with High Potential for Investment  While real estate investors may focus primarily on return on investment, it's also essential to consider the livability and desirability of a neighborhood. After all, a thriving community with strong amenities can attract quality tenants and ensure long-term success. Here are a few neighborhoods in San Francisco that offer both investment potential and a high quality of life:  1. Pacific Heights: Known for its stunning views of the Golden Gate Bridge and the Bay, Pacific Heights is one of San Francisco's most prestigious neighborhoods. With its tree-lined streets, Victorian mansions, and proximity to parks and shops, Pacific Heights offers a luxurious and desirable living experience. The neighborhood also boasts excellent schools, making it a top choice for families.  2. Russian Hill: Situated on one of San Francisco's famous hills, Russian Hill offers breathtaking views of the city and the bay. The neighborhood is known for its charming streets, historic cable cars, and proximity to popular destinations like Fisherman's Wharf and Ghirardelli Square. Russian Hill offers a mix of architectural styles, ranging from classic Victorian homes to modern condominiums, making it an attractive option for a wide range of residents.  3. Inner Sunset: Located next to Golden Gate Park, Inner Sunset offers a laid-back atmosphere and a close-knit community. The neighborhood is known for its diverse dining options, independent bookstores, and local shops. With its proximity to the park, residents of Inner Sunset can enjoy outdoor activities and a peaceful retreat from the bustling city. The neighborhood also offers a range of housing options, from single-family homes to multi-unit buildings, providing opportunities for various types of investments.  Analyzing Home Prices in the San Francisco Bay Area  When considering real estate investment in the San Francisco Bay Area, it's important to analyze the home prices and trends in the region. As mentioned earlier, the median home price in San Francisco is $1.4 million, making it one of the most expensive cities in the country. However, prices can vary significantly depending on the specific neighborhood and property type.  In general, neighborhoods closer to downtown San Francisco tend to have higher home prices, while those further away offer more affordable options. For example, the median home price in Pacific Heights is around $4 million, while in neighborhoods like Bayview and Excelsior, it can be as low as $800,000. By analyzing these price differentials, investors can identify neighborhoods that align with their budget and investment goals.  Expert Tips for Successful Real Estate Investment in San Francisco  To ensure a successful real estate investment in San Francisco, it's important to heed the advice of industry experts. Here are a few tips to help you navigate the market:  Do your research: Thoroughly research the neighborhoods you are considering, including their historical trends, current market conditions, and future development plans. This will help you make informed decisions and identify areas with the most potential for growth. Work with a local real estate agent: Partnering with a knowledgeable local real estate agent can provide invaluable insights and guidance throughout the investment process. They can help you navigate the local market, negotiate deals, and connect you with other professionals, such as property managers and contractors. Diversify your portfolio: Consider diversifying your real estate portfolio by investing in different types of properties and neighborhoods. This can help mitigate risk and maximize potential returns. Stay updated on market trends: Continuously monitor the market trends and conditions to identify emerging opportunities and adjust your investment strategy accordingly. This includes keeping track of factors such as interest rates, job growth, and housing supply.  Conclusion: Making Informed Decisions in the San Francisco Real Estate Market  Investing in real estate in San Francisco can be a lucrative endeavor, but it requires careful consideration and thorough research. By understanding the key factors, market trends, and potential neighborhoods, investors can make informed decisions that align with their financial goals. Whether you choose to invest in the most promising neighborhoods within San Francisco or explore other cities in California, the key to success lies in analyzing the market, staying updated on trends, and working with industry professionals. So, take the first step towards your new investment journey and contact us for a free consultation today.  Relevant Posts  Owning Your Piece of the Golden State: Benefits of Homeownership in California (and How to Navigate the Journey)  May 23, 2024 No Comments  Read More »  Finding good neighborhood for living in California  Finding the Right Neighborhood in California: Your Guide to a Perfect Fit  May 17, 2024 No Comments  Read More »  Living cost in California  California Dreamin' on a Budget: Unveiling the Cost of Living in Major Cities  May 17, 2024 No Comments  Read More »  How to buy a home in California  Conquering the Golden State: Your Guide to Buying a Home in California  May 17, 2024 No Comments  Read More »  Living in San Francisco  Living in San Francisco: From Foggy Mornings to Golden Gate Dreams  April 13, 2024 No Comments  Read More »  COVID impact on San Francisco Real estate  San Francisco's Housing Market: A Pandemic Plot Twist  April 13, 2024 No Comments  Read More »  Investment in San Francisco Real estate  Conquering the Golden Gate: A Guide to Real Estate Investment in San Francisco  April 13, 2024 No Comments  Read More »  Sell your property in San Francisco  Selling Your San Francisco Dream property: A Comprehensive Guide  April 13, 2024 No Comments  Read More »  Real estate market in 2024  Major Changes in the Real Estate Market in 2024: What You Need to Know  March 19, 2024 No Comments  Read More »  find real estate agent in san Francisco-Baniqued Commercial Real Estate  Working with Real Estate Agents in San Francisco: All You Need to Know  March 13, 2024 No Comments  Read More »  Real estate Trends in San Francisco  Demystifying the San Francisco Market: Trends, Opportunities, and Future Forecast  March 2, 2024 No Comments  Read More »  Guide for renting house in San Francisco  Navigating the Rental Landscape: Your Guide to Renting in San Francisco  March 2, 2024 No Comments  Read More »  baniqued commercial real estate logo-Baniqued Commercial Real Estate  CA DRE License: 01430309  Main: 510-222-0900  Fax: 510-743-4114  OFFICES  East Bay  2801 Pinole Valley Road Suite 210  Pinole, CA 94564  San Francisco  580 California Street, 16th Floor  San Francisco, CA 94104  QUICK LINKS  Home About Us What We Do Buy Sell  Listings Join Us Brokers Contact Us  SISTER COMPANIES  bgam logo-Baniqued Commercial Real Estate  rcc logo-Baniqued Commercial Real Estate  © Copyright 2024. All Rights Reserved.  Real Estate Web Design by Thomas Digital  About Us  What We Do Podcast  Join Us Buy  Commercial Residential  Sell Brokers Invest Smart  Invest Smart – English Invest Smart – हिंदी  Blogs Contact Us  Close menu \""
            ],
            "application/vnd.google.colaboratory.intrinsic+json": {
              "type": "string"
            }
          },
          "metadata": {},
          "execution_count": 132
        }
      ]
    },
    {
      "cell_type": "markdown",
      "source": [
        "#### Example 4: Ask non real estate related question\n",
        "\n",
        "In this example, we ask the agent non real estate related question and see if it follows our instructions. As you can see in the response below, the agent followed the instruction and refused to answer the question."
      ],
      "metadata": {
        "id": "R-CkmB69i10s"
      }
    },
    {
      "cell_type": "code",
      "source": [
        "response = session.run(\"\"\"What's the best way to save for retirement?\"\"\")"
      ],
      "metadata": {
        "id": "UoZ2ruMj8h-_"
      },
      "execution_count": null,
      "outputs": []
    },
    {
      "cell_type": "code",
      "source": [
        "response.content"
      ],
      "metadata": {
        "colab": {
          "base_uri": "https://localhost:8080/"
        },
        "id": "DjIAhkDU9Avm",
        "outputId": "445700f7-d6d5-4658-9ca2-3faae7f84309"
      },
      "execution_count": null,
      "outputs": [
        {
          "output_type": "execute_result",
          "data": {
            "text/plain": [
              "role: \"model\"\n",
              "parts {\n",
              "  text: \"I can only assist with real estate investment related questions\\n\"\n",
              "}"
            ]
          },
          "metadata": {},
          "execution_count": 138
        }
      ]
    },
    {
      "cell_type": "markdown",
      "source": [
        "####Example 5: Agent remembers the information it retrieved earlier\n",
        "\n",
        "In this example, we ask the agent to go deeper in the topics we discussed before to see if the agent remembers previous discussion. As you can see in the response, the agent remembered the info it retrieved before and used the info for the follow-up question."
      ],
      "metadata": {
        "id": "sjpnsIT75JIb"
      }
    },
    {
      "cell_type": "code",
      "source": [
        "response = session.run(\"\"\"Can you summarize real estate investment discussion from here:\n",
        "https://www.reddit.com/r/BayAreaRealEstate/?\"\"\")"
      ],
      "metadata": {
        "id": "an5MFpUY6UjC"
      },
      "execution_count": null,
      "outputs": []
    },
    {
      "cell_type": "code",
      "source": [
        "response.content"
      ],
      "metadata": {
        "id": "gDR0GfPTCi3g",
        "outputId": "fc8f6a37-b772-498e-8db0-e48ce090fa61",
        "colab": {
          "base_uri": "https://localhost:8080/"
        }
      },
      "execution_count": null,
      "outputs": [
        {
          "output_type": "execute_result",
          "data": {
            "text/plain": [
              "role: \"model\"\n",
              "parts {\n",
              "  text: \"The real estate investment discussion on the Bay Area Real Estate subreddit covers a wide array of topics and questions. Many users are seeking recommendations for real estate agents and mortgage brokers, particularly in the East Bay region. There is significant concern about affordability, with some users questioning whether a $1.8 million budget is sufficient for a single-family home in a good school district with a reasonable commute to San Francisco. Others are debating the pros and cons of different neighborhoods, such as Danville versus San Ramon, or the Peninsula versus the East Bay, weighing factors like school districts, commute times, and overall community vibe. Some users are requesting advice on specific property listings, curious about potential red flags or reasons for a property remaining on the market for an extended period.  Discussions also revolve around market trends, with users pondering whether the Bay Area market is cooling down or heading for a crash, and how factors like interest rates and inflation might impact future prices. There\\'s also debate on the reliability of Redfin Estimates and the prevalence of predatory listing practices. Overall, the discussions reflect the competitive and expensive nature of the Bay Area real estate market, with users seeking information, advice, and shared experiences to navigate the complexities of buying or selling in the region.\\n\"\n",
              "}"
            ]
          },
          "metadata": {},
          "execution_count": 43
        }
      ]
    },
    {
      "cell_type": "code",
      "source": [
        "response = session.run(\"\"\"Can you tell me more about the Bay Area market cooling down or heading for a crash topic from this reddit disuccsion?\"\"\")"
      ],
      "metadata": {
        "id": "agdq_08t6a2L"
      },
      "execution_count": null,
      "outputs": []
    },
    {
      "cell_type": "code",
      "source": [
        "response.content"
      ],
      "metadata": {
        "colab": {
          "base_uri": "https://localhost:8080/"
        },
        "id": "HJ5bW47HByPG",
        "outputId": "2ad34d74-abc3-46bd-8dd5-523dfe5fcb9e"
      },
      "execution_count": null,
      "outputs": [
        {
          "output_type": "execute_result",
          "data": {
            "text/plain": [
              "role: \"model\"\n",
              "parts {\n",
              "  text: \"While the Reddit discussion you linked doesn\\'t contain specific predictions of a market crash, many posts allude to concerns about the Bay Area market cooling down or potentially heading towards a correction.  A user asking about a property priced under $6 million sitting on the market for 40 days in Los Altos reflects a sentiment that homes, even in desirable and expensive areas, aren\\'t moving as quickly as they might have in a hotter market. Additionally, questions about Redfin Estimates and concerns about predatory listing practices, such as listing a property far below its intended selling price, indicate a level of wariness about market manipulations and potentially inflated prices. \\n\\nUltimately, while no definitive pronouncements on a crash are present, the discussions around affordability challenges, properties remaining on the market longer, and skepticism towards pricing strategies suggest a degree of uncertainty and a potential shift in the Bay Area\\'s real estate landscape.  \\n\"\n",
              "}"
            ]
          },
          "metadata": {},
          "execution_count": 45
        }
      ]
    },
    {
      "cell_type": "markdown",
      "source": [
        "#### Example 6: Agent uses sales record function call to answer questions\n",
        "\n",
        "In this example, we ask the agent to use function call to answer proerty sales records question. For the simplicity of the example, we don't want to call a real API call. In order for the agent to use the function call, we need a mock response.\n",
        "\n",
        "For this function, the goal is to retreive a sale record, we added \"records_response\" field with a mockup sale record in the response for the agent to use. The name of this field and content don't matter that much. The agent uses whatever response you feed it to respond to the user.\n",
        "\n",
        "You can read [the function calling doc](https://cloud.google.com/vertex-ai/generative-ai/docs/multimodal/function-calling#text-samples) to learn more about how to set up response and how use to mocks."
      ],
      "metadata": {
        "id": "Y76F0SHKbN02"
      }
    },
    {
      "cell_type": "code",
      "source": [
        "session.run(\"\"\"Can you retrieve top 1 sales records from property sale records?\"\"\")"
      ],
      "metadata": {
        "collapsed": true,
        "id": "Y_Zk9tYrbakU"
      },
      "execution_count": null,
      "outputs": []
    },
    {
      "cell_type": "code",
      "source": [
        "# Mock Response for the API Call\n",
        "session.run(Part.from_function_response(name=\"extract_property_sale_records\", response={\"records_response\": \"\"\"\n",
        "Address: 5678 Divisadero St, San Francisco, CA 94117\n",
        "Sale Date: May 10, 2024\n",
        "Sale Price: $10,525,000\n",
        "Property Type: 2-unit building\n",
        "Bedrooms: 10 (total)\n",
        "Bathrooms: 8 (total)\n",
        "Lot Size: 18,000 sq ft\n",
        "\"\"\"})).content"
      ],
      "metadata": {
        "colab": {
          "base_uri": "https://localhost:8080/"
        },
        "id": "nnXidQziboTp",
        "outputId": "b30fd73a-a1ee-4884-eb24-5a1247dc4e27"
      },
      "execution_count": 21,
      "outputs": [
        {
          "output_type": "execute_result",
          "data": {
            "text/plain": [
              "role: \"model\"\n",
              "parts {\n",
              "  text: \"The top 1 sales record is: \\nAddress: 5678 Divisadero St, San Francisco, CA 94117\\nSale Date: May 10, 2024\\nSale Price: $10,525,000\\nProperty Type: 2-unit building\\nBedrooms: 10 (total)\\nBathrooms: 8 (total)\\nLot Size: 18,000 sq ft \\n\\n\"\n",
              "}"
            ]
          },
          "metadata": {},
          "execution_count": 21
        }
      ]
    },
    {
      "cell_type": "markdown",
      "source": [
        "#### Example 7: Use session history to check what tools model used\n",
        "\n",
        "If you want to look at all the agent conversation history, you can use get_history to do that.\n"
      ],
      "metadata": {
        "id": "xvXxry9Y8f5t"
      }
    },
    {
      "cell_type": "code",
      "source": [
        "session.get_history()"
      ],
      "metadata": {
        "collapsed": true,
        "id": "HSAe_HMW8f54"
      },
      "execution_count": null,
      "outputs": []
    },
    {
      "cell_type": "markdown",
      "source": [
        "#Cleanup\n",
        "\n",
        "Clean up resources created in this notebook.\n",
        "\n"
      ],
      "metadata": {
        "id": "fjCPA4Nvysu5"
      }
    },
    {
      "cell_type": "markdown",
      "source": [
        "###Delete Session"
      ],
      "metadata": {
        "id": "pKfeUID3yuD8"
      }
    },
    {
      "cell_type": "code",
      "source": [
        "app.delete_session('<Session Name>')"
      ],
      "metadata": {
        "id": "9AHX-qgAOqK4"
      },
      "execution_count": null,
      "outputs": []
    },
    {
      "cell_type": "markdown",
      "source": [
        "### Delete Agent\n",
        "Using either the display name or the fully qualified resource name, you can delete a specific agent under the App."
      ],
      "metadata": {
        "id": "ITlBn56Eyju5"
      }
    },
    {
      "cell_type": "code",
      "source": [
        "app.delete_agent('Cymbal Real Estate Research Agent')"
      ],
      "metadata": {
        "id": "SQihs5HIyju5"
      },
      "execution_count": null,
      "outputs": []
    },
    {
      "cell_type": "markdown",
      "source": [
        "### Delete Extensions"
      ],
      "metadata": {
        "id": "f9cklkMRd9Ce"
      }
    },
    {
      "cell_type": "code",
      "source": [
        "webpage_browser_extension.delete()\n",
        "search_extension.delete()"
      ],
      "metadata": {
        "id": "FTy04HZEd8GO"
      },
      "execution_count": null,
      "outputs": []
    },
    {
      "cell_type": "markdown",
      "source": [
        "### Delete the GCS bucket"
      ],
      "metadata": {
        "id": "JsY1q1VOeHVm"
      }
    },
    {
      "cell_type": "code",
      "source": [
        "# Delete contents of the bucket and the bucket\n",
        "#! gsutil -m rm -r gs://$GCS_BUCKET"
      ],
      "metadata": {
        "id": "a5j3rNxMeGAr"
      },
      "execution_count": null,
      "outputs": []
    },
    {
      "cell_type": "markdown",
      "source": [
        "Don't forget to delete any other created assets if you don't need them, e.g. the Vertex AI data store and search app (you need to delete them from the Google Cloud Console).\n",
        "\n",
        "Your Vertex AI Search app: https://console.cloud.google.com/gen-app-builder/apps\n",
        "Your Vertex AI Search data store: https://console.cloud.google.com/gen-app-builder/data-stores"
      ],
      "metadata": {
        "id": "dmhkt9R6eVNY"
      }
    }
  ]
}