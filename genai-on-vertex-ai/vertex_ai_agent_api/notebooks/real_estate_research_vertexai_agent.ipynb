{
  "nbformat": 4,
  "nbformat_minor": 0,
  "metadata": {
    "colab": {
      "provenance": [],
      "collapsed_sections": [
        "-zoXZUo8F019",
        "eLSvcJrRBa0P"
      ]
    },
    "kernelspec": {
      "name": "python3",
      "display_name": "Python 3"
    },
    "language_info": {
      "name": "python"
    }
  },
  "cells": [
    {
      "cell_type": "code",
      "source": [
        "# Copyright 2024 Google LLC\n",
        "#\n",
        "# Licensed under the Apache License, Version 2.0 (the \"License\");\n",
        "# you may not use this file except in compliance with the License.\n",
        "# You may obtain a copy of the License at\n",
        "#\n",
        "#     https://www.apache.org/licenses/LICENSE-2.0\n",
        "#\n",
        "# Unless required by applicable law or agreed to in writing, software\n",
        "# distributed under the License is distributed on an \"AS IS\" BASIS,\n",
        "# WITHOUT WARRANTIES OR CONDITIONS OF ANY KIND, either express or implied.\n",
        "# See the License for the specific language governing permissions and\n",
        "# limitations under the License."
      ],
      "metadata": {
        "id": "nCLHXnfFn4WI"
      },
      "execution_count": null,
      "outputs": []
    },
    {
      "cell_type": "markdown",
      "source": [
        "#Research Agent for Housing Investement Opportunities\n",
        "\n",
        "<table align=\"left\">\n",
        "  <td style=\"text-align: center\">\n",
        "    <a href=\"https://art-analytics.appspot.com/r.html?uaid=G-FHXEFWTT4E&utm_source=aRT-ba_extbygoog_notebook-from_notebook-colab&utm_medium=aRT-clicks&utm_campaign=ba_extbygoog_notebook-from_notebook-colab&destination=ba_extbygoog_notebook-from_notebook-colab&url=https%3A%2F%2Fcolab.research.google.com%2Fgithub%2FGoogleCloudPlatform%2Fapplied-ai-engineering-samples%2Fblob%2Fmain%2Fgenai-on-vertex-ai%2Fvertex_ai_agent_api%2Fnotebooks%2Freal_estate_research_vertexai_agent.ipynb\">\n",
        "      <img src=\"https://cloud.google.com/ml-engine/images/colab-logo-32px.png\" alt=\"Google Colaboratory logo\"><br> Open in Colab\n",
        "    </a>\n",
        "  </td>\n",
        "  <td style=\"text-align: center\">\n",
        "    <a href=\"https://art-analytics.appspot.com/r.html?uaid=G-FHXEFWTT4E&utm_source=aRT-ba_extbygoog_notebook-from_notebook-colab_ent&utm_medium=aRT-clicks&utm_campaign=ba_extbygoog_notebook-from_notebook-colab_ent&destination=ba_extbygoog_notebook-from_notebook-colab_ent&url=https%3A%2F%2Fconsole.cloud.google.com%2Fvertex-ai%2Fcolab%2Fimport%2Fhttps%3A%252F%252Fraw.githubusercontent.com%252FGoogleCloudPlatform%252Fapplied-ai-engineering-samples%252Fmain%252Fgenai-on-vertex-ai%252Fvertex_ai_agent_api%252Fnotebooks%252Freal_estate_research_vertexai_agent.ipynb\">\n",
        "      <img width=\"32px\" src=\"https://lh3.googleusercontent.com/JmcxdQi-qOpctIvWKgPtrzZdJJK-J3sWE1RsfjZNwshCFgE_9fULcNpuXYTilIR2hjwN\" alt=\"Google Cloud Colab Enterprise logo\"><br> Open in Colab Enterprise\n",
        "    </a>\n",
        "  </td>    \n",
        "  <td style=\"text-align: center\">\n",
        "    <a href=\"https://art-analytics.appspot.com/r.html?uaid=G-FHXEFWTT4E&utm_source=aRT-ba_extbygoog_notebook-from_notebook-vai_workbench&utm_medium=aRT-clicks&utm_campaign=ba_extbygoog_notebook-from_notebook-vai_workbench&destination=ba_extbygoog_notebook-from_notebook-vai_workbench&url=https%3A%2F%2Fconsole.cloud.google.com%2Fvertex-ai%2Fworkbench%2Fdeploy-notebook%3Fdownload_url%3Dhttps%3A%2F%2Fraw.githubusercontent.com%2FGoogleCloudPlatform%2Fapplied-ai-engineering-samples%2Fmain%2Fgenai-on-vertex-ai%2Fvertex_ai_agent_api%2Fnotebooks%2Freal_estate_research_vertexai_agent.ipynb\">\n",
        "      <img src=\"https://lh3.googleusercontent.com/UiNooY4LUgW_oTvpsNhPpQzsstV5W8F7rYgxgGBD85cWJoLmrOzhVs_ksK_vgx40SHs7jCqkTkCk=e14-rj-sc0xffffff-h130-w32\" alt=\"Vertex AI logo\"><br> Open in Workbench\n",
        "    </a>\n",
        "  </td>\n",
        "  <td style=\"text-align: center\">\n",
        "    <a href=\"https://art-analytics.appspot.com/r.html?uaid=G-FHXEFWTT4E&utm_source=aRT-ba_extbygoog_notebook-from_notebook-github&utm_medium=aRT-clicks&utm_campaign=ba_extbygoog_notebook-from_notebook-github&destination=ba_extbygoog_notebook-from_notebook-github&url=https%3A%2F%2Fgithub.com%2FGoogleCloudPlatform%2Fapplied-ai-engineering-samples%2Fblob%2Fmain%2Fgenai-on-vertex-ai%2Fvertex_ai_agent_api%2Fnotebooks%2Freal_estate_research_vertexai_agent.ipynb\">\n",
        "      <img src=\"https://cloud.google.com/ml-engine/images/github-logo-32px.png\" alt=\"GitHub logo\"><br> View on GitHub\n",
        "    </a>\n",
        "  </td>\n",
        "</table>\n"
      ],
      "metadata": {
        "id": "WHtLTE3ksNDP"
      }
    },
    {
      "cell_type": "markdown",
      "source": [
        "| | |\n",
        "|----------|-------------|\n",
        "| Author(s)   | [Lei Pan](https://github.com/genaimagician)|\n",
        "| Reviewers(s) | Anand Iyer, Danhao Guo, Hanfei Sun, Michael Sherman|\n",
        "| Last updated | 2024-06-30: Polished text for publishing |\n",
        "| Previous updated | 2024-06-14: Second Draft |"
      ],
      "metadata": {
        "id": "MGwjcyJkb78K"
      }
    },
    {
      "cell_type": "markdown",
      "metadata": {
        "id": "JAPoU8Sm5E6e"
      },
      "source": [
        "## Overview\n",
        "\n",
        "In this notebook, we will show you how to use the Vertex AI Agent SDK with Vertex AI Search Extension and Webpage Browser Extension tools to complete housing investment opportunities research for business stakeholders. You will perform the following steps:\n",
        "\n",
        "- Creating vertex AI search extension, webpage browser extension and function call tools\n",
        "- Creating an agent app in your project\n",
        "- Creating an agent in the app and add instructions & extension & function call tools to it\n",
        "- Asking the agent housing investment opportunities questions\n",
        "\n",
        "If you haven't worked on Vertex AI extension before, please refer to this [doc](https://cloud.google.com/vertex-ai/generative-ai/docs/extensions/overview)  for more info."
      ]
    },
    {
      "cell_type": "markdown",
      "metadata": {
        "id": "PO_tnShTGUik"
      },
      "source": [
        "## Getting Started\n",
        "\n",
        "The following steps are necessary to run this notebook, no matter what notebook environment you're using.\n",
        "\n",
        "If you're entirely new to Google Cloud, [get started here](https://cloud.google.com/docs/get-started)."
      ]
    },
    {
      "cell_type": "markdown",
      "source": [
        "### GCP project & Permissions setup\n",
        "\n",
        "If you have already set them up, feel free to skip this section"
      ],
      "metadata": {
        "id": "-zoXZUo8F019"
      }
    },
    {
      "cell_type": "markdown",
      "metadata": {
        "id": "dq30xzDj-dkW"
      },
      "source": [
        "#### Google Cloud Project Setup\n",
        "\n",
        "1. [Select or create a Google Cloud project](https://console.cloud.google.com/cloud-resource-manager). When you first create an account, you get a $300 free credit towards your compute/storage costs.\n",
        "1. [Make sure that billing is enabled for your project](https://cloud.google.com/billing/docs/how-to/modify-project).\n",
        "1. [Enable the Service Usage API](https://console.cloud.google.com/apis/library/serviceusage.googleapis.com)\n",
        "1. [Enable the Vertex AI API](https://console.cloud.google.com/flows/enableapi?apiid=aiplatform.googleapis.com).\n",
        "1. [Enable the Cloud Storage API](https://console.cloud.google.com/flows/enableapi?apiid=storage.googleapis.com).\n",
        "1. [Enable the Discovery Engine API for your project](https://console.cloud.google.com/marketplace/product/google/discoveryengine.googleapis.com)\n",
        "1. [Enable the Agent Builder API](https://console.cloud.google.com/gen-app-builder/start)"
      ]
    },
    {
      "cell_type": "markdown",
      "metadata": {
        "id": "kqFCMciQ-dkW"
      },
      "source": [
        "#### Google Cloud Permissions\n",
        "\n",
        "**To run the complete Notebook, including the optional section, you will need to have the [Owner role](https://cloud.google.com/iam/docs/understanding-roles) for your project.**\n",
        "\n",
        "If you want to skip the optional section, you need at least the following [roles](https://cloud.google.com/iam/docs/granting-changing-revoking-access):\n",
        "* **`roles/serviceusage.serviceUsageAdmin`** to enable APIs\n",
        "* **`roles/iam.serviceAccountAdmin`** to modify service agent permissions\n",
        "* **`roles/discoveryengine.admin`** to modify discoveryengine assets\n",
        "* **`roles/aiplatform.user`** to use AI Platform components\n",
        "* **`roles/storage.objectAdmin`** to modify and delete GCS buckets\n",
        "\n",
        "\n",
        "\n"
      ]
    },
    {
      "cell_type": "markdown",
      "source": [
        "###Authenticate"
      ],
      "metadata": {
        "id": "SfNhErJDVmk5"
      }
    },
    {
      "cell_type": "code",
      "execution_count": 1,
      "metadata": {
        "id": "JZGytImrziVA"
      },
      "outputs": [],
      "source": [
        "from google.colab import auth\n",
        "auth.authenticate_user()"
      ]
    },
    {
      "cell_type": "markdown",
      "source": [
        "###Download most recent copy of Vertex Agents SDK\n",
        "\n",
        "Once the SDK is released, we will swap this with the public library. For now, you need the code blocks below to install agent sdk."
      ],
      "metadata": {
        "id": "JgXyHQQfsGnc"
      }
    },
    {
      "cell_type": "code",
      "source": [
        "!gsutil cp gs://vertex_agents_private_releases/vertex_agents/google_cloud_aiplatform-1.55.dev20240609+vertex.agents-py2.py3-none-any.whl ."
      ],
      "metadata": {
        "colab": {
          "base_uri": "https://localhost:8080/"
        },
        "id": "abQtu5_aIprk",
        "outputId": "cbcca885-7124-44ce-cfa5-7171138b24a4"
      },
      "execution_count": 2,
      "outputs": [
        {
          "output_type": "stream",
          "name": "stdout",
          "text": [
            "Copying gs://vertex_agents_private_releases/vertex_agents/google_cloud_aiplatform-1.55.dev20240609+vertex.agents-py2.py3-none-any.whl...\n",
            "/ [1 files][  5.1 MiB/  5.1 MiB]                                                \n",
            "Operation completed over 1 objects/5.1 MiB.                                      \n"
          ]
        }
      ]
    },
    {
      "cell_type": "code",
      "source": [
        "!pip install google-cloud-discoveryengine --upgrade\n",
        "!pip install --upgrade --force-reinstall -q google_cloud_aiplatform-1.55.dev20240609+vertex.agents-py2.py3-none-any.whl --no-warn-conflicts\n",
        "!pip install -U \"pandas==2.2.2\"\n",
        "!pip install -U 'numpy<2'\n",
        "\n",
        "# Restart the kernel runtime to load the private preview SDK\n",
        "import IPython\n",
        "app = IPython.Application.instance()\n",
        "app.kernel.do_shutdown(True)"
      ],
      "metadata": {
        "id": "AOJu5GA6zjEJ",
        "collapsed": true
      },
      "execution_count": null,
      "outputs": []
    },
    {
      "cell_type": "markdown",
      "source": [
        "### Set Google Cloud project information and initialize Vertex AI SDK\n",
        "\n",
        "To get started using Vertex AI, you must have an existing Google Cloud project and [enable the Vertex AI API](https://console.cloud.google.com/flows/enableapi?apiid=aiplatform.googleapis.com).\n",
        "\n",
        "Learn more about [setting up a project and a development environment](https://cloud.google.com/vertex-ai/docs/start/cloud-environment).\n",
        "\n",
        "Make sure to change `PROJECT_ID` in the next cell. You can leave the values for `LOCATION` and `API_ENDPOINT` unless you have a specific reason to change them."
      ],
      "metadata": {
        "id": "FplTr7dLsX-h"
      }
    },
    {
      "cell_type": "code",
      "source": [
        "PROJECT_ID = 'certain-haiku-391918'\n",
        "LOCATION = 'us-central1'\n",
        "API_ENDPOINT = 'us-central1-autopush-aiplatform.sandbox.googleapis.com'\n",
        "\n",
        "from google.cloud import aiplatform\n",
        "from google.cloud.aiplatform.private_preview.vertex_agents.app import App, Session\n",
        "from google.cloud.aiplatform.private_preview.vertex_agents.agent import Agent\n",
        "from vertexai.preview.extensions import Extension\n",
        "\n",
        "aiplatform.init(project=PROJECT_ID, location=LOCATION, api_endpoint=API_ENDPOINT)"
      ],
      "metadata": {
        "id": "xwnx0xPuskAQ"
      },
      "execution_count": 1,
      "outputs": []
    },
    {
      "cell_type": "markdown",
      "source": [
        "# Cymbal Real Estate Research Agent - Search and Webpage Browser Tools"
      ],
      "metadata": {
        "id": "wWso7BK7egeY"
      }
    },
    {
      "cell_type": "markdown",
      "source": [
        "## Step 1: Create Vertex Search Extension Tool with Proprietary Cymbal Datasource\n",
        "\n",
        "In this section, we do the following tasks:\n",
        "\n",
        "- Create Vertex AI Search App with 3 PDFs ([PDF1](https://drive.google.com/file/d/1sqGmjqDOLtBMEJkGRAhcTYVbZXkKPAWJ/view?usp=sharing), [PDF2](https://drive.google.com/file/d/1M2Uk5ABMlLix1Nxg7LEWmW4ioZ_SxhkU/view?usp=drive_link), [PDF3](https://drive.google.com/file/d/19kUrpUv9AKIebHRja_RcyP7JTPMyKmkV/view?usp=drive_link)) for Search Extension.\n",
        "- Create Vertex AI Search Extension using the Search App\n",
        "\n",
        "Note: 3 PDFs include Synthesized Exclusive San Francisco Off-Market Property Listings for Cymbal Real Estate Group"
      ],
      "metadata": {
        "id": "44ikqwKQpEms"
      }
    },
    {
      "cell_type": "markdown",
      "source": [
        "#### Permissions Setup\n",
        "\n",
        "If you have already set up the permission, feel free to skip this step.\n",
        "\n",
        "For using the Vertex AI Search Extension, please grant the [Vertex AI Extension Service agent](https://cloud.google.com/vertex-ai/docs/general/access-control#service-agents) the [permission needed](https://cloud.google.com/vertex-ai/docs/general/access-control#home-project). In this case, you need permissions to run discovery engine. You can set it in the UI: https://console.cloud.google.com/iam-admin/iam"
      ],
      "metadata": {
        "id": "ei9fJCWfFafT"
      }
    },
    {
      "cell_type": "markdown",
      "source": [
        "#### Create a Vertex AI Search App for the Vertex AI Search Extension in 4 Steps\n",
        "\n",
        "To create a search app for Vertex AI Search Extension to use, you can either do that manually by following [those docs](https://cloud.google.com/generative-ai-app-builder/docs/create-datastore-ingest) or run the 4 steps below. If you already have a vertex AI search appp set up, feel free to skip those 4 steps and go to set up vertex AI search extension section."
      ],
      "metadata": {
        "id": "eLSvcJrRBa0P"
      }
    },
    {
      "cell_type": "markdown",
      "source": [
        "##### 1) Download PDFs and Ingest Into GCS Bucket"
      ],
      "metadata": {
        "id": "IBcXf2rdBASy"
      }
    },
    {
      "cell_type": "code",
      "source": [
        "from google.cloud import storage\n",
        "import gdown\n",
        "def upload_blob(bucket_name, source_file_name, destination_blob_name):\n",
        "    \"\"\"Uploads a file to the bucket.\"\"\"\n",
        "    storage_client = storage.Client()\n",
        "    bucket = storage_client.bucket(bucket_name)\n",
        "    blob = bucket.blob(destination_blob_name)\n",
        "    generation_match_precondition = None\n",
        "    blob.upload_from_filename(source_file_name, if_generation_match=generation_match_precondition)\n",
        "    print(f\"File {source_file_name} uploaded to {destination_blob_name}.\")\n",
        "\n",
        "# Create a GCS bucket if you don't have one\n",
        "GCS_BUCKET = f\"{PROJECT_ID}-cymbal-offmarket-list\"\n",
        "! set -x && gsutil mb -p $PROJECT_ID -l us-central1 gs://$GCS_BUCKET\n",
        "\n",
        "gcs_bucket = GCS_BUCKET # If you don't use the bucket created in the notebook, use the name of your bucket.\n",
        "folder_path = \"offmarket_data_pdfs/\" #Default sub folder name in your gcs bucket. You can use this one.\n",
        "\n",
        "# Download the pdfs and ingest them to the GCS bucket\n",
        "url_list = [\"https://drive.google.com/uc?id=1sqGmjqDOLtBMEJkGRAhcTYVbZXkKPAWJ\",\n",
        "\"https://drive.google.com/uc?id=1M2Uk5ABMlLix1Nxg7LEWmW4ioZ_SxhkU\",\n",
        "\"https://drive.google.com/uc?id=19kUrpUv9AKIebHRja_RcyP7JTPMyKmkV\"]\n",
        "i=1\n",
        "for url in url_list:\n",
        "  gdown.download(url, f\"invest{i}.pdf\")\n",
        "  upload_blob(gcs_bucket,f\"invest{i}.pdf\",f\"{folder_path}invest{i}.pdf\")\n",
        "  i+=1"
      ],
      "metadata": {
        "id": "kb3BDKin-6z-"
      },
      "execution_count": null,
      "outputs": []
    },
    {
      "cell_type": "markdown",
      "source": [
        "##### 2) Create a Vertex AI Search Data Store\n",
        "The Vertex AI Search extension needs a [**Data Store** and **Vertex AI Search App**](https://cloud.google.com/generative-ai-app-builder/docs/create-datastore-ingest) to run. After creating the data store using the cell below, You can inspect it under: https://console.cloud.google.com/gen-app-builder/data-stores"
      ],
      "metadata": {
        "id": "VsZUGcCSgMFw"
      }
    },
    {
      "cell_type": "code",
      "source": [
        "# Specify an id for your datastore. It should only use lowercase letters.\n",
        "DATA_STORE_ID = \"cymbal-offmarket-datastore\""
      ],
      "metadata": {
        "id": "VwHVcxEg3qzT"
      },
      "execution_count": null,
      "outputs": []
    },
    {
      "cell_type": "code",
      "source": [
        "# Create your Vertex AI Search data store:\n",
        "%%bash -s \"$PROJECT_ID\" \"$DATA_STORE_ID\"\n",
        "curl -X POST \\\n",
        "-H \"Authorization: Bearer $(gcloud auth print-access-token)\" \\\n",
        "-H \"Content-Type: application/json\" \\\n",
        "-H \"X-Goog-User-Project: $1\" \\\n",
        "\"https://discoveryengine.googleapis.com/v1alpha/projects/$1/locations/global/collections/default_collection/dataStores?dataStoreId=$2\" \\\n",
        "-d '{\n",
        "  \"displayName\": \"Cymbal-Offmarket-Datastore\",\n",
        "  \"industryVertical\": \"GENERIC\",\n",
        "  \"solutionTypes\": [\"SOLUTION_TYPE_SEARCH\"],\n",
        "  \"contentConfig\": \"CONTENT_REQUIRED\",\n",
        "}'"
      ],
      "metadata": {
        "id": "DOLi7KS5gR0P",
        "collapsed": true
      },
      "execution_count": null,
      "outputs": []
    },
    {
      "cell_type": "markdown",
      "source": [
        "##### 3) Ingest PDF Files in the GCS bucket into the Vertex AI Search Data Store"
      ],
      "metadata": {
        "id": "jc2zLUA6BMsa"
      }
    },
    {
      "cell_type": "code",
      "source": [
        "from google.api_core.client_options import ClientOptions\n",
        "from google.cloud import discoveryengine\n",
        "from typing import Optional\n",
        "\n",
        "def import_documents_sample(project_id: str,location: str,data_store_id: str,\n",
        "    gcs_uri: Optional[str] = None,) -> str:\n",
        "    \"\"\"Imports documents into a Vertex AI data store from GCS.\n",
        "    This function imports documents into a specified data store within Vertex AI\n",
        "    Agent Builder from a GCS bucket.\n",
        "    \"\"\"\n",
        "    client_options = (\n",
        "        ClientOptions(api_endpoint=f\"{location}-discoveryengine.googleapis.com\")\n",
        "        if location != \"global\"\n",
        "        else None\n",
        "    )\n",
        "    client = discoveryengine.DocumentServiceClient(client_options=client_options)\n",
        "    # The full resource name of the search engine branch.\n",
        "    parent = client.branch_path(\n",
        "        project=project_id,\n",
        "        location=location,\n",
        "        data_store=data_store_id,\n",
        "        branch=\"default_branch\",)\n",
        "\n",
        "    request = discoveryengine.ImportDocumentsRequest(\n",
        "        parent=parent,\n",
        "        gcs_source=discoveryengine.GcsSource(\n",
        "            input_uris=[gcs_uri], data_schema=\"content\"\n",
        "        ),\n",
        "        # Options: `FULL`, `INCREMENTAL`\n",
        "        reconciliation_mode=discoveryengine.ImportDocumentsRequest.ReconciliationMode.INCREMENTAL,)\n",
        "    # Make the request\n",
        "    operation = client.import_documents(request=request)\n",
        "    print(f\"Waiting for operation to complete: {operation.operation.name}\")\n",
        "    response = operation.result()\n",
        "    # Once the operation is complete, get information from operation metadata.\n",
        "    metadata = discoveryengine.ImportDocumentsMetadata(operation.metadata)\n",
        "    # Handle the response.\n",
        "    print(response)\n",
        "    print(metadata)\n",
        "    return operation.operation.name\n",
        "\n",
        "# Ingest pdfs in the GCS bucket to the data store\n",
        "GCS_URI = f\"gs://{gcs_bucket}/{folder_path}*.pdf\"\n",
        "import_documents_sample(PROJECT_ID, \"global\", DATA_STORE_ID, GCS_URI)"
      ],
      "metadata": {
        "id": "MT6vj3nr6T8e"
      },
      "execution_count": null,
      "outputs": []
    },
    {
      "cell_type": "markdown",
      "source": [
        "##### 4) Create a Vertex Search App and Connect it to the Data Store\n",
        "The following cell lets you create a Vertex AI Search App to ✨**connect**✨ to your newly created data store. Need to enable searchTier and searchAddOns for the Vertex AI Search Extension to work as shown in the cell below. Read more about [Advanced Features](https://cloud.google.com/generative-ai-app-builder/docs/about-advanced-features)"
      ],
      "metadata": {
        "id": "xwcBGeljauNR"
      }
    },
    {
      "cell_type": "code",
      "source": [
        "%%bash -s \"$PROJECT_ID\" \"$DATA_STORE_ID\"\n",
        "curl -X POST \\\n",
        "-H \"Authorization: Bearer $(gcloud auth print-access-token)\" \\\n",
        "-H \"Content-Type: application/json\" \\\n",
        "-H \"X-Goog-User-Project: $1\" \\\n",
        "\"https://discoveryengine.googleapis.com/v1/projects/$1/locations/global/collections/default_collection/engines?engineId=$2\" \\\n",
        "-d '{\n",
        "  \"displayName\": \"Cymbal-Offmarket-Datastore-Engine\",\n",
        "  \"dataStoreIds\": [\"'$2'\"],\n",
        "  \"solutionType\": \"SOLUTION_TYPE_SEARCH\",\n",
        "  \"searchEngineConfig\": {\n",
        "     \"searchTier\": \"SEARCH_TIER_ENTERPRISE\",\n",
        "     \"searchAddOns\": [\"SEARCH_ADD_ON_LLM\"]\n",
        "   }\n",
        "}'"
      ],
      "metadata": {
        "id": "fu8919bNaybd",
        "collapsed": true
      },
      "execution_count": null,
      "outputs": []
    },
    {
      "cell_type": "markdown",
      "source": [
        "#### Set Up the Vertex AI Search Extension Tool\n",
        "\n",
        "After you create the search app, you can use search extension to connect to it to extract the key housing research information. Below cells show you how to get the information using search extension. You can read more about search extension [here](https://cloud.google.com/vertex-ai/generative-ai/docs/extensions/vertex-ai-search)."
      ],
      "metadata": {
        "id": "1TaNXRnqL1Lu"
      }
    },
    {
      "cell_type": "code",
      "source": [
        "#If you use the notebook to create the search app, this should be the app name.\n",
        "#If you use your own search app, please replace the search app id with yours here.\n",
        "SEARCH_APP_ID = \"cymbal-offmarket-datastore\"\n",
        "SEARCH_APP_REGION = \"global\""
      ],
      "metadata": {
        "id": "j45s9LyIOvQ8"
      },
      "execution_count": 2,
      "outputs": []
    },
    {
      "cell_type": "code",
      "source": [
        "SEARCH_CONFIG  = \"projects/{project_id}/locations/{search_app_region}/collections/default_collection/engines/{search_app_id}/servingConfigs/default_search\".format(\n",
        "    project_id=PROJECT_ID,\n",
        "    search_app_region=SEARCH_APP_REGION,\n",
        "    search_app_id=SEARCH_APP_ID)"
      ],
      "metadata": {
        "id": "l_hqJnawdayL"
      },
      "execution_count": 3,
      "outputs": []
    },
    {
      "cell_type": "code",
      "source": [
        "search_extension = Extension.from_hub(\n",
        "    \"vertex_ai_search\",\n",
        "    runtime_config={\n",
        "        \"vertex_ai_search_runtime_config\": {\n",
        "            \"serving_config_name\": SEARCH_CONFIG,\n",
        "        }\n",
        "    })"
      ],
      "metadata": {
        "colab": {
          "base_uri": "https://localhost:8080/"
        },
        "id": "zXggbziVKPC2",
        "outputId": "1c8c0683-e6b8-496e-e011-e46dece67f14",
        "collapsed": true
      },
      "execution_count": 4,
      "outputs": [
        {
          "output_type": "stream",
          "name": "stderr",
          "text": [
            "INFO:vertexai.extensions._extensions:Creating Extension\n",
            "INFO:vertexai.extensions._extensions:Create Extension backing LRO: projects/656421903914/locations/us-central1/extensions/1412494209692205056/operations/5333918235634958336\n",
            "INFO:vertexai.extensions._extensions:Extension created. Resource name: projects/656421903914/locations/us-central1/extensions/1412494209692205056\n",
            "INFO:vertexai.extensions._extensions:To use this Extension in another session:\n",
            "INFO:vertexai.extensions._extensions:extension = vertexai.preview.extensions.Extension('projects/656421903914/locations/us-central1/extensions/1412494209692205056')\n"
          ]
        }
      ]
    },
    {
      "cell_type": "markdown",
      "source": [
        "## Step 2: Create Webpage Browser Extension Tool\n",
        "\n",
        "Webpage browser extension downloads information from the URL you specifcy in the prompt. This is how you can set it up at the moment. Once the CL is in production, we will use Extension.from_hub(...) to set up the extension."
      ],
      "metadata": {
        "id": "-GyFwhSxnO5d"
      }
    },
    {
      "cell_type": "code",
      "source": [
        "webpage_browser_extension = Extension.create(\n",
        "    display_name = \"Webpage Browser\",\n",
        "    description = \"This extension searches answers in browser\",\n",
        "    manifest = {\n",
        "        \"name\": \"webpage_browser\",\n",
        "        \"description\": \"Webpage Browser Extension\",\n",
        "        \"api_spec\": {\n",
        "            \"open_api_gcs_uri\": \"gs://vertex-extension-dev/webpage_browser.yaml\"\n",
        "        },\n",
        "        \"auth_config\": {\n",
        "            \"auth_type\": \"NO_AUTH\",\n",
        "        },\n",
        "    },\n",
        ")"
      ],
      "metadata": {
        "colab": {
          "base_uri": "https://localhost:8080/"
        },
        "id": "O7YkBV8P0xQI",
        "outputId": "04cd2ff3-7fc7-41f1-b041-3abed1a28894",
        "collapsed": true
      },
      "execution_count": 5,
      "outputs": [
        {
          "output_type": "stream",
          "name": "stderr",
          "text": [
            "INFO:vertexai.extensions._extensions:Creating Extension\n",
            "INFO:vertexai.extensions._extensions:Create Extension backing LRO: projects/656421903914/locations/us-central1/extensions/5285589889230831616/operations/2006884010915004416\n",
            "INFO:vertexai.extensions._extensions:Extension created. Resource name: projects/656421903914/locations/us-central1/extensions/5285589889230831616\n",
            "INFO:vertexai.extensions._extensions:To use this Extension in another session:\n",
            "INFO:vertexai.extensions._extensions:extension = vertexai.preview.extensions.Extension('projects/656421903914/locations/us-central1/extensions/5285589889230831616')\n"
          ]
        }
      ]
    },
    {
      "cell_type": "markdown",
      "source": [
        "## Step 3: Function Call Tool\n",
        "\n",
        "In order for your agent to call a function, you need to provide some information about the function to call. You can use the FunctionDeclaration class to construct the function declaration you wish to use, and add this to your app when you create or update. You can read more on [function calling here.](https://cloud.google.com/vertex-ai/generative-ai/docs/multimodal/function-calling)"
      ],
      "metadata": {
        "id": "mq2h-_LEMr9L"
      }
    },
    {
      "cell_type": "code",
      "source": [
        "from vertexai.generative_models import FunctionDeclaration, Part\n",
        "\n",
        "function_declaration = FunctionDeclaration(\n",
        "  name=\"extract_property_sale_records\",\n",
        "  description=\"Extract property sale records from a document.\",\n",
        "  parameters={\n",
        "      \"type\": \"object\",\n",
        "      \"properties\": {\n",
        "          \"records\": {\n",
        "              \"type\": \"array\",\n",
        "              \"description\": \"A list of sale records\",\n",
        "              \"items\": {\n",
        "                  \"description\": \"Data for a sale record\",\n",
        "                  \"type\": \"object\",\n",
        "                  \"properties\": {\n",
        "        \"id\": {\"type\": \"integer\", \"description\": \"The unique id of the sale.\"},\n",
        "                      \"date\": {\"type\": \"string\", \"description\": \"Date of the sale, in the format of MMDDYY, e.g., 031023\"},\n",
        "                      \"total_amount\": {\"type\": \"number\", \"description\": \"The total amount of the sale.\"},\n",
        "                      \"customer_name\": {\"type\": \"string\", \"description\": \"The name of the customer, including first name and last name.\"},\n",
        "                      \"customer_contact\": {\"type\": \"string\", \"description\": \"The phone number of the customer, e.g., 650-123-4567.\"},\n",
        "                  },\n",
        "                  \"required\": [\"id\", \"date\", \"total_amount\"],\n",
        "              },\n",
        "          },\n",
        "      },\n",
        "      \"required\": [\"records\"],\n",
        "  },\n",
        ")"
      ],
      "metadata": {
        "id": "TTXeavD9sc8C"
      },
      "execution_count": 6,
      "outputs": []
    },
    {
      "cell_type": "markdown",
      "source": [
        "## Step 4: Create Agent App\n",
        "\n",
        "Before you create an angent, you need to create an App. There are two options for creating an app.\n",
        "\n",
        "\n",
        "1.   use the App.create function, which will create a new app for you\n",
        "2.   initialize a Vertex Agents App object with the resource name of a previously created App"
      ],
      "metadata": {
        "id": "bpa46pjOwlQW"
      }
    },
    {
      "cell_type": "code",
      "source": [
        "app = App.create(display_name='Cymbal Research Agent App', description='This is an app created for a Cymbal real estate research agent.')"
      ],
      "metadata": {
        "id": "YclyIwrvUNZU"
      },
      "execution_count": 7,
      "outputs": []
    },
    {
      "cell_type": "markdown",
      "source": [
        "## Step 5: Create Cymbal Real Estate Research Agent with Instructions on Tools\n",
        "You can create an agent for your app by using the create_app method. When creating an agent, you must specify all the required fields."
      ],
      "metadata": {
        "id": "KeDYd92xtGtj"
      }
    },
    {
      "cell_type": "code",
      "source": [
        "DISPLAY_NAME = \"Cymbal Real Estate Research Agent\"\n",
        "INSTRUCTIONS = \"You are an expert housing investement opportunities research agent for Cymbal Real Estate Group.\"\n",
        "\n",
        "created_agent = app.add_agent(display_name=DISPLAY_NAME, instructions=INSTRUCTIONS)"
      ],
      "metadata": {
        "id": "4D8AXpW9bllY"
      },
      "execution_count": 8,
      "outputs": []
    },
    {
      "cell_type": "code",
      "source": [
        "app.list_agents()"
      ],
      "metadata": {
        "colab": {
          "base_uri": "https://localhost:8080/"
        },
        "id": "7sHXCM0GoPKG",
        "outputId": "e2d3f475-7397-4adc-95c2-8677d62ffbae"
      },
      "execution_count": 9,
      "outputs": [
        {
          "output_type": "execute_result",
          "data": {
            "text/plain": [
              "[\n",
              " agent_name: projects/656421903914/locations/us-central1/apps/2911436421606670336/agents/3771989538050670592\n",
              " display_name: Cymbal Real Estate Research Agent\n",
              " model: projects/656421903914/locations/us-central1/publishers/google/models/gemini-1.5-pro-001\n",
              " instructions: You are an expert housing investement opportunities research agent for Cymbal Real Estate Group.]"
            ]
          },
          "metadata": {},
          "execution_count": 9
        }
      ]
    },
    {
      "cell_type": "markdown",
      "source": [
        "## Step 6: Ask Agent to Research on Housing Investement Opportunities"
      ],
      "metadata": {
        "id": "m91d6I8i8nXW"
      }
    },
    {
      "cell_type": "markdown",
      "source": [
        "###Update Agent with Simple Instruction - No Instructions on How to Use Tools\n",
        "\n",
        "You can update any and all of the fields of an Agent by specifying them to the Agent.update function. Any fields that aren't specified will not be updated.\n"
      ],
      "metadata": {
        "id": "NECE-StNqEgt"
      }
    },
    {
      "cell_type": "code",
      "source": [
        "SIMPLE_INSTRUCTIONS = \"\"\"\n",
        "You are a friendly chatbot who answers user's questions well.\n",
        "\"\"\"\n",
        "\n",
        "updated_agent = created_agent.update(\n",
        "    new_display_name=DISPLAY_NAME,\n",
        "    new_instructions=SIMPLE_INSTRUCTIONS,\n",
        "    new_functions=[function_declaration],\n",
        "    new_extensions={\n",
        "        'Search Extension': search_extension,\n",
        "        'Webpage Browser Extension': webpage_browser_extension,\n",
        "    }\n",
        ")"
      ],
      "metadata": {
        "id": "D8LI0M4AqEg4"
      },
      "execution_count": 10,
      "outputs": []
    },
    {
      "cell_type": "code",
      "source": [
        "session = app.start_session()"
      ],
      "metadata": {
        "collapsed": true,
        "id": "8H_M2G2gqEg4"
      },
      "execution_count": 11,
      "outputs": []
    },
    {
      "cell_type": "markdown",
      "source": [
        "#### Example: Ask Cymbal Agent to Retrieve info from Cymbal San Francisco Exclusive Off-Market Listings"
      ],
      "metadata": {
        "id": "ZQuzU8VMqEg4"
      }
    },
    {
      "cell_type": "markdown",
      "source": [
        "In this example, we ask the agent to answer question from off-market listings datasource. Since we didn't give it clear instructions on how to use tools, the agent doesn't know how to answer those questions.\n",
        "\n",
        "In the next section, we will give better instructions on how to use tools. And you will see the difference in the response."
      ],
      "metadata": {
        "id": "qLHxQsO24m7l"
      }
    },
    {
      "cell_type": "code",
      "source": [
        "session.run(\"Can you summarize property information around Noe Valley from Cymbal Exclusive Off-Market Listings?\")"
      ],
      "metadata": {
        "colab": {
          "base_uri": "https://localhost:8080/"
        },
        "outputId": "4ec95712-3949-4a61-b872-18d68930c6de",
        "collapsed": true,
        "id": "oMNClqoaqEg4"
      },
      "execution_count": 12,
      "outputs": [
        {
          "output_type": "execute_result",
          "data": {
            "text/plain": [
              "session: \"projects/656421903914/locations/us-central1/apps/2911436421606670336/sessions/1493871814042976256\"\n",
              "content {\n",
              "  role: \"model\"\n",
              "  parts {\n",
              "    text: \"Please provide me with the content of \\\"Cymbal Exclusive Off-Market Listings\\\". I need the content to summarize property information around Noe Valley. \\n\"\n",
              "  }\n",
              "}\n",
              "actions {\n",
              "  message {\n",
              "    role: \"user\"\n",
              "    parts {\n",
              "      text: \"Can you summarize property information around Noe Valley from Cymbal Exclusive Off-Market Listings?\"\n",
              "    }\n",
              "  }\n",
              "  create_time {\n",
              "    seconds: 1719790150\n",
              "    nanos: 137478000\n",
              "  }\n",
              "  turn: 1\n",
              "}\n",
              "actions {\n",
              "  message {\n",
              "    role: \"model\"\n",
              "    parts {\n",
              "      text: \"Please provide me with the content of \\\"Cymbal Exclusive Off-Market Listings\\\". I need the content to summarize property information around Noe Valley. \\n\"\n",
              "    }\n",
              "  }\n",
              "  create_time {\n",
              "    seconds: 1719790150\n",
              "    nanos: 137478000\n",
              "  }\n",
              "  turn: 1\n",
              "}"
            ]
          },
          "metadata": {},
          "execution_count": 12
        }
      ]
    },
    {
      "cell_type": "markdown",
      "source": [
        "###Update Agent with Clear Instructions on How to Use Tools\n",
        "\n",
        "You can update any and all of the fields of an Agent by specifying them to the Agent.update function. Any fields that aren't specified will not be updated. The reason why we don't add new_functions and new_extensions is that we have already added them in the last step.\n"
      ],
      "metadata": {
        "id": "SV-NgXCjt8F_"
      }
    },
    {
      "cell_type": "code",
      "source": [
        "INSTRUCTIONS = \"\"\"\n",
        "You are an expert who answers the user's housing investment opportunities questions with the most relevant datasource.\n",
        "\n",
        "If the user asks you questions about sales records, call extract_property_sale_records function to extract the information.\n",
        "\n",
        "If the user asks you questions about offmarket listing at Cymbal Real Estate Group, call vertex_ai_search tool to search relevant information.\n",
        "\n",
        "If the user asks you search online to anwser the housing investment questions, please ask the user to provide URLs if the user didn't give you any URLs.\n",
        "After you get the URLs, call webpage_browser tool to search relevant information.\n",
        "\n",
        "If the user asks you to use both tools to answer the questions, you can use both tools and combine the information to answer the question.\n",
        "\n",
        "Please only answer real estate investment related questions. For all other questions, please respond with \"I can only assist with real estate investment related questions\".\n",
        "\n",
        "Only respond based on the response of the tool. Do not create your own answers.\n",
        "\"\"\"\n",
        "\n",
        "updated_agent = created_agent.update(\n",
        "    new_display_name=DISPLAY_NAME,\n",
        "    new_instructions=INSTRUCTIONS,\n",
        ")"
      ],
      "metadata": {
        "id": "dkI-VM22Icsw"
      },
      "execution_count": 13,
      "outputs": []
    },
    {
      "cell_type": "code",
      "source": [
        "session = app.start_session()"
      ],
      "metadata": {
        "id": "QvZcfYXOsVgL",
        "collapsed": true
      },
      "execution_count": 14,
      "outputs": []
    },
    {
      "cell_type": "markdown",
      "source": [
        "#### Example 1: Ask Cymbal Agent to Retrieve info from Cymbal San Francisco Exclusive Off-Market Listings\n",
        "\n",
        "In this example, we ask the agent to answer question from off-market listings datasource. Since we mentioned the datasource, the agent will follow the instructions to retrieve it from vertex ai search datastore.\n",
        "\n",
        "* There are a lot of information you can use from the response. You can get agent text response from .content.\n",
        "* You can see which tools the agent use by accessing actions[1].tool_use.extension_invocation\n",
        "* You can check which documents the agent retrieved by accessing actions[1].tool_use.output_parameters[\"content\"]\n",
        "\n",
        "Feel free to print out response to check out all the fields."
      ],
      "metadata": {
        "id": "ua9u2j0CNteH"
      }
    },
    {
      "cell_type": "code",
      "source": [
        "response = session.run(\"Can you list all property information in Noe Valley from Cymbal Exclusive Off-Market Listings?\")"
      ],
      "metadata": {
        "id": "_CnkVE9m_au3",
        "collapsed": true
      },
      "execution_count": null,
      "outputs": []
    },
    {
      "cell_type": "code",
      "source": [
        "response.content"
      ],
      "metadata": {
        "colab": {
          "base_uri": "https://localhost:8080/"
        },
        "id": "8dDCegbu2mcR",
        "outputId": "962982e7-bc78-44a4-a65e-0c1e810a994e"
      },
      "execution_count": null,
      "outputs": [
        {
          "output_type": "execute_result",
          "data": {
            "text/plain": [
              "role: \"model\"\n",
              "parts {\n",
              "  text: \"- **1433 Noe Street**, Noe Valley: **Modern Townhouse**, 4 beds, 3.5 baths, 3,800 sq. ft., Roof deck with city views, open floor plan, EV charger. \\n \\n Let me know if you need information for other properties. \\n \\n\"\n",
              "}"
            ]
          },
          "metadata": {},
          "execution_count": 120
        }
      ]
    },
    {
      "cell_type": "code",
      "source": [
        "response.actions[1].tool_use.extension_invocation"
      ],
      "metadata": {
        "colab": {
          "base_uri": "https://localhost:8080/"
        },
        "id": "kA8eq7DoxFyw",
        "outputId": "a8355942-0395-446d-b567-a3cbb377fe17"
      },
      "execution_count": null,
      "outputs": [
        {
          "output_type": "execute_result",
          "data": {
            "text/plain": [
              "extension_name: \"projects/656421903914/locations/us-central1/extensions/8271230151572848640\"\n",
              "operation_id: \"search\""
            ]
          },
          "metadata": {},
          "execution_count": 121
        }
      ]
    },
    {
      "cell_type": "code",
      "source": [
        "response.actions[1].tool_use.output_parameters[\"content\"]"
      ],
      "metadata": {
        "colab": {
          "base_uri": "https://localhost:8080/",
          "height": 122
        },
        "id": "W4lxgCF602Hd",
        "outputId": "d1f1f29e-c03b-4e7f-8584-4e0ccaf96a24"
      },
      "execution_count": null,
      "outputs": [
        {
          "output_type": "execute_result",
          "data": {
            "text/plain": [
              "'[{\"extractive_answers\":[\"9753 Valencia Street Mission Live/Work Loft 2 2 3,20 0 Exposed brick, high ceilings, private rooftop deck 8642 Judah Street Sunset Single-Family Home 4 3 3,00 0 Ocean views, large backyard, updated kitchen 3691 24th Street Noe Valley Modern Townhouse 4 3.5 3,60 0 Roof deck with city views, open floor plan, family-friendly 1000 Cole Street Cole Valley Craftsman Bungalow 3 2 2,00 0 Charming details, updated kitchen, private garden 5000 Diamond Heights Blvd Diamond Heights View Condo 2 2 1,80 0 Panoramic city views, private balcony, pool 6000 Arguello Blvd Inner Sunset Single-Family Home 4 2.5 2,80 0 Family-friendly, quiet street, updated kitchen 7000 Lake Street Sea Cliff Historic Estate 8 6 7,50 0 Ocean views, grand interiors, expansive gardens 8000 Twin Peaks Blvd Twin Peaks Mid-Century Modern 3 2 2,50 0 Panoramic city views, open floor plan, private deck drive_spreadsheetExport to Sheets Additional Off-Market Opportunities: ● Pre-Probate Properties: Several estates in Pacific Heights and Sea Cliff are expected to come to market soon. ● Pocket Listings: We have exclusive access to luxury condos in SOMA and a charming Edwardian in Noe Valley. ● Investment Properties: Multi-unit buildings with potential for renovation and rental income available in the Mission and Bernal Heights.\"],\"extractive_segments\":[\"9753\\\\nValencia\\\\nStreet\\\\n\\\\nMission\\\\n\\\\nLive/Work Loft 2\\\\n\\\\n2\\\\n\\\\n3,20\\\\n0\\\\n\\\\nExposed brick, high\\\\nceilings, private\\\\nrooftop deck\\\\n\\\\n8642 Judah\\\\nStreet\\\\n\\\\nSunset\\\\n\\\\nSingle-Family\\\\nHome\\\\n\\\\n4\\\\n\\\\n3\\\\n\\\\n3,00\\\\n0\\\\n\\\\nOcean views, large\\\\nbackyard, updated\\\\nkitchen\\\\n\\\\n3691 24th\\\\nStreet\\\\n\\\\nNoe Valley\\\\n\\\\nModern\\\\nTownhouse\\\\n\\\\n4\\\\n\\\\n3.5\\\\n\\\\n3,60\\\\n0\\\\n\\\\nRoof deck with city\\\\nviews, open floor\\\\nplan, family-friendly\\\\n\\\\n1000 Cole\\\\nStreet\\\\n\\\\nCole Valley\\\\n\\\\nCraftsman\\\\nBungalow\\\\n\\\\n3\\\\n\\\\n2\\\\n\\\\n2,00\\\\n0\\\\n\\\\nCharming details,\\\\nupdated kitchen,\\\\nprivate garden\\\\n\\\\n5000\\\\nDiamond\\\\nHeights Blvd\\\\n\\\\nDiamond\\\\nHeights\\\\n\\\\nView Condo\\\\n\\\\n2\\\\n\\\\n2\\\\n\\\\n1,80\\\\n0\\\\n\\\\nPanoramic city\\\\nviews, private\\\\nbalcony, pool\\\\n\\\\n6000\\\\nArguello Blvd\\\\nInner Sunset Single-Family\\\\nHome\\\\n\\\\n4\\\\n\\\\n2.5\\\\n\\\\n2,80\\\\n0\\\\n\\\\nFamily-friendly, quiet\\\\nstreet, updated\\\\nkitchen\\\\n\\\\n7000 Lake\\\\nStreet\\\\n\\\\nSea Cliff\\\\n\\\\nHistoric Estate 8\\\\n\\\\n6\\\\n\\\\n7,50\\\\n0\\\\n\\\\nOcean views, grand\\\\ninteriors, expansive\\\\ngardens\\\\n\\\\n8000 Twin\\\\nPeaks Blvd\\\\n\\\\nTwin Peaks\\\\n\\\\nMid-Century\\\\nModern\\\\n\\\\n3\\\\n\\\\n2\\\\n\\\\n2,50\\\\n0\\\\n\\\\nPanoramic city\\\\nviews, open floor\\\\nplan, private deck\\\\n\\\\ndrive_spreadsheetExport to Sheets\\\\nAdditional Off-Market Opportunities:\\\\n\\\\n● Pre-Probate Properties: Several estates in Pacific Heights and Sea Cliff are expected\\\\nto come to market soon.\\\\n● Pocket Listings: We have exclusive access to luxury condos in SOMA and a charming\\\\nEdwardian in Noe Valley.\\\\n● Investment Properties: Multi-unit buildings with potential for renovation and rental\\\\nincome available in the Mission and Bernal Heights.\\\\nContact: For more information or to schedule a private showing, please contact your Cymbal\\\\nReal Estate Group agent.\",\"Disclaimer: This information is confidential and intended for Cymbal Real Estate Group clients\\\\nonly. All information is deemed reliable but not guaranteed.\",\"Cymbal Real Estate Group | Exclusive Off-Market Listing in May\\\\nConfidential - For Cymbal Clients Only\\\\nDate: May 10, 2024\\\\nCurrent Market Snapshot: San Francisco\\'s real estate market remains incredibly competitive,\\\\nwith low inventory and high demand. These off-market listings offer our discerning clients an\\\\nexclusive opportunity to secure desirable properties before they become publicly available.\\\\n\\\\nAddress\\\\n\\\\nNeighborhoo\\\\nd\\\\n\\\\nProperty Type Bed\\\\n\\\\ns\\\\n\\\\nBath\\\\ns\\\\n\\\\nSq.\\\\nFt.\\\\n\\\\nHighlights\\\\n\\\\n1234 Green\\\\nStreet\\\\n\\\\nRussian Hill\\\\n\\\\nRenovated\\\\nVictorian\\\\n\\\\n4\\\\n\\\\n3.5\\\\n\\\\n3,80\\\\n0\\\\n\\\\nBay views, chef\\'s\\\\nkitchen, private\\\\ngarden oasis\\\\n\\\\n5678\\\\nLombard\\\\nStreet\\\\n\\\\nMarina/Cow\\\\nHollow\\\\n\\\\nContemporary\\\\nTownhouse\\\\n\\\\n3\\\\n\\\\n2.5\\\\n\\\\n2,70\\\\n0\\\\n\\\\nRoof deck with city\\\\nviews, open floor\\\\nplan, EV charger\\\\n\\\\n9012 Mission\\\\nStreet\\\\n\\\\nMission\\\\nDolores\\\\n\\\\nEdwardian Flat 2\\\\n\\\\n1\\\\n\\\\n1,50\\\\n0\\\\n\\\\nHigh ceilings, period\\\\ndetails, walk to\\\\nDolores Park\\\\n\\\\n3456\\\\nCalifornia\\\\nStreet\\\\n\\\\nPacific Heights Luxury\\\\nPenthouse\\\\n\\\\n4\\\\n\\\\n3.5\\\\n\\\\n5,00\\\\n0\\\\n\\\\n360-degree city\\\\nviews, private\\\\nelevator, rooftop\\\\nterrace\\\\n\\\\n7890 Geary\\\\nBoulevard\\\\n\\\\nInner\\\\nRichmond\\\\n\\\\nSpanish\\\\nMediterranean\\\\n\\\\n5\\\\n\\\\n4\\\\n\\\\n4,20\\\\n0\\\\n\\\\nUpdated kitchen,\\\\nspacious backyard,\\\\nGolden Gate Park\\\\nviews\\\\n\\\\n2468 Fulton\\\\nStreet\\\\n\\\\nRichmond\\\\n\\\\nMid-Century\\\\nModern\\\\n\\\\n3\\\\n\\\\n2\\\\n\\\\n2,60\\\\n0\\\\n\\\\nOpen floor plan,\\\\nbackyard oasis, near\\\\nGolden Gate Park\\\\n\\\\n1357\\\\nFillmore\\\\nStreet\\\\n\\\\nPacific Heights Grand Victorian 6\\\\n\\\\n5\\\\n\\\\n6,50\\\\n0\\\\n\\\\nPreserved period\\\\ndetails, ballroom,\\\\nchef\\'s kitchen\"],\"link\":\"gs://certain-haiku-391918-cymbal-offmarket-list/offmarket_data_pdfs/invest1.pdf\",\"title\":\"Cymbal Real Estate Group | Exclusive Off-Market Listing-05/10/24\"},{\"extractive_answers\":[\"These exclusive off-market listings offer our clients a unique opportunity to access properties not yet available to the public. Address Neighborhoo d Property Type Bed s Bath s Sq. Ft. Highlights 2255 Vallejo Street Pacific Heights Victorian Mansion 6 4.5 6,20 0 Panoramic Bay views, chef&#39;s kitchen, private garden oasis 1433 Noe Street Noe Valley Modern Townhouse 4 3.5 3,80 0 Roof deck with city views, open floor plan, EV charger 870 Harrison Street SOMA Loft Conversion 2 2 2,50 0 Exposed brick, high ceilings, close to tech offices 450 Balboa Street Richmond Spanish Mediterranean 5 4 4,10 0 Updated kitchen, spacious backyard, Golden Gate Park views 333 Clement Street Inner Richmond Mixed-Use Building 2 1 1,80 0 Commercial space on ground floor, apartment above.\"],\"extractive_segments\":[\"Pre-Probate Properties: Several estates in Pacific Heights and Presidio Heights are\\\\ncoming soon to market.\\\\n● Pocket Listings: We have exclusive access to luxury condos in Russian Hill and a\\\\ncharming Edwardian in North Beach.\\\\n● Investment Properties: Multi-unit buildings with potential for renovation and rental\\\\nincome available in the Mission and Bernal Heights.\\\\nContact: For more information or to schedule a private showing, please contact your Cymbal\\\\nReal Estate Group agent.\\\\nDisclaimer: This information is confidential and intended for Cymbal Real Estate Group clients\\\\nonly. All information is deemed reliable but not guaranteed.\",\"369 Mission\\\\nStreet\\\\n\\\\nFinancial\\\\nDistrict\\\\n\\\\nHigh-Rise\\\\nCondo\\\\n\\\\n1\\\\n\\\\n1\\\\n\\\\n1,20\\\\n0\\\\n\\\\nViews of downtown,\\\\nluxury building, walk\\\\nto Embarcadero\\\\n\\\\n1000 Van\\\\nNess\\\\nAvenue\\\\n\\\\nVan Ness/Civic\\\\nCenter\\\\n\\\\nModern Condo 2\\\\n\\\\n2\\\\n\\\\n1,50\\\\n0\\\\n\\\\nCity Hall views, open\\\\nfloor plan, walk to\\\\nHayes Valley\\\\n\\\\n2580 Polk\\\\nStreet\\\\n\\\\nRussian Hill\\\\n\\\\nContemporary\\\\nTownhouse\\\\n\\\\n3\\\\n\\\\n2.5\\\\n\\\\n2,70\\\\n0\\\\n\\\\nRoof deck with views,\\\\nmodern finishes, near\\\\nrestaurants\\\\n\\\\n1470 Pine\\\\nStreet\\\\n\\\\nNob Hill\\\\n\\\\nHistoric Condo 2\\\\n\\\\n1\\\\n\\\\n1,10\\\\n0\\\\n\\\\nGrace Cathedral\\\\nviews, period details,\\\\nwalk to Union Square\\\\n\\\\n8642\\\\nSunset\\\\nBoulevard\\\\n\\\\nSunset\\\\n\\\\nSingle-Family\\\\nHome\\\\n\\\\n4\\\\n\\\\n3\\\\n\\\\n3,10\\\\n0\\\\n\\\\nOcean views, quiet\\\\nstreet, spacious\\\\nbackyard\\\\n\\\\n3579 Ocean\\\\nAvenue\\\\n\\\\nIngleside\\\\n\\\\nMid-Century\\\\nModern\\\\n\\\\n3\\\\n\\\\n2\\\\n\\\\n2,00\\\\n0\\\\n\\\\nOpen floor plan,\\\\nbackyard with\\\\npotential, near parks\\\\n\\\\n1122\\\\nTaraval\\\\nStreet\\\\n\\\\nOuter Sunset Single-Family\\\\nHome\\\\n\\\\n3\\\\n\\\\n2\\\\n\\\\n2,30\\\\n0\\\\n\\\\nOcean breezes, quiet\\\\nstreet, potential for\\\\nADU\\\\n\\\\nAdditional Off-Market Opportunities:\",\"Cymbal Real Estate Group | Exclusive Off-Market Listing in June\\\\nConfidential - For Cymbal Clients Only\\\\nDate: June 10, 2024\\\\nCurrent Market Snapshot: San Francisco\\'s real estate market remains competitive, with\\\\nlimited inventory driving strong buyer interest. These exclusive off-market listings offer our\\\\nclients a unique opportunity to access properties not yet available to the public.\\\\n\\\\nAddress Neighborhoo\\\\nd\\\\n\\\\nProperty Type Bed\\\\n\\\\ns\\\\n\\\\nBath\\\\ns\\\\n\\\\nSq.\\\\nFt.\\\\n\\\\nHighlights\\\\n\\\\n2255 Vallejo\\\\nStreet\\\\n\\\\nPacific Heights Victorian\\\\nMansion\\\\n\\\\n6\\\\n\\\\n4.5\\\\n\\\\n6,20\\\\n0\\\\n\\\\nPanoramic Bay views,\\\\nchef\\'s kitchen, private\\\\ngarden oasis\\\\n\\\\n1433 Noe\\\\nStreet\\\\n\\\\nNoe Valley\\\\n\\\\nModern\\\\nTownhouse\\\\n\\\\n4\\\\n\\\\n3.5\\\\n\\\\n3,80\\\\n0\\\\n\\\\nRoof deck with city\\\\nviews, open floor\\\\nplan, EV charger\\\\n\\\\n870\\\\nHarrison\\\\nStreet\\\\n\\\\nSOMA\\\\n\\\\nLoft\\\\nConversion\\\\n\\\\n2\\\\n\\\\n2\\\\n\\\\n2,50\\\\n0\\\\n\\\\nExposed brick, high\\\\nceilings, close to tech\\\\noffices\\\\n\\\\n450 Balboa\\\\nStreet\\\\n\\\\nRichmond\\\\n\\\\nSpanish\\\\nMediterranean\\\\n\\\\n5\\\\n\\\\n4\\\\n\\\\n4,10\\\\n0\\\\n\\\\nUpdated kitchen,\\\\nspacious backyard,\\\\nGolden Gate Park\\\\nviews\\\\n\\\\n333\\\\nClement\\\\nStreet\\\\n\\\\nInner\\\\nRichmond\\\\n\\\\nMixed-Use\\\\nBuilding\\\\n\\\\n2\\\\n\\\\n1\\\\n\\\\n1,80\\\\n0\\\\n\\\\nCommercial space on\\\\nground floor,\\\\napartment above\"],\"link\":\"gs://certain-haiku-391918-cymbal-offmarket-list/offmarket_data_pdfs/invest3.pdf\",\"title\":\"Cymbal Real Estate Group | Exclusive Off-Market Listing-6/10/24\"},{\"extractive_answers\":[\"1000 Leavenworth Street Nob Hill Beaux-Arts Condo 2 2 2,20 0 High ceilings, period details, walk to Union Square 500 Kirkham Street Sunset Single-Family Home 4 3 3,20 0 Ocean views, large backyard, potential for ADU 1800 Divisadero Street NOPA Mid-Century Modern 3 2 2,10 0 Open floor plan, updated kitchen, close to Golden Gate Park 700 Shotwell Street Mission Victorian Flat 2 1 1,20 0 High ceilings, period details, walk to Dolores Park 2500 Broadway Street Pacific Heights Mediterranean Villa 6 5.5 7,00 0 Pool, expansive gardens, separate guest house 1600 Montgomery Street Telegraph Hill Historic Condo 1 1 900 Coit Tower views, charming details, walk to North Beach 800 Bush Street Downtown Luxury Condo 2 2.5 2,50 0 High-rise living, modern finishes, concierge services 1900 Jackson Street Pacific Heights Contemporary Townhouse 4 3.5 3,80 0 Roof deck with city views, gourmet kitchen, 2 car parking drive_spreadsheetExport to Sheets Additional Off-Market Opportunities: ● Pre-MLS Listings: We have several properties coming soon to market in Noe Valley, Bernal Heights, and the Marina. ● Pocket Listings: We have exclusive access to luxury condos in SOMA and a historic home in Sea Cliff. ● Investment Properties: Multi-unit buildings with potential for renovation and rental income available in the Mission and the Castro.\"],\"extractive_segments\":[\"1000\\\\nLeavenworth\\\\nStreet\\\\n\\\\nNob Hill\\\\n\\\\nBeaux-Arts\\\\nCondo\\\\n\\\\n2\\\\n\\\\n2\\\\n\\\\n2,20\\\\n0\\\\n\\\\nHigh ceilings, period\\\\ndetails, walk to\\\\nUnion Square\\\\n\\\\n500 Kirkham\\\\nStreet\\\\n\\\\nSunset\\\\n\\\\nSingle-Family\\\\nHome\\\\n\\\\n4\\\\n\\\\n3\\\\n\\\\n3,20\\\\n0\\\\n\\\\nOcean views, large\\\\nbackyard, potential\\\\nfor ADU\\\\n\\\\n1800\\\\nDivisadero\\\\nStreet\\\\n\\\\nNOPA\\\\n\\\\nMid-Century\\\\nModern\\\\n\\\\n3\\\\n\\\\n2\\\\n\\\\n2,10\\\\n0\\\\n\\\\nOpen floor plan,\\\\nupdated kitchen,\\\\nclose to Golden\\\\nGate Park\\\\n\\\\n700 Shotwell\\\\nStreet\\\\n\\\\nMission\\\\n\\\\nVictorian Flat\\\\n\\\\n2\\\\n\\\\n1\\\\n\\\\n1,20\\\\n0\\\\n\\\\nHigh ceilings, period\\\\ndetails, walk to\\\\nDolores Park\\\\n\\\\n2500\\\\nBroadway\\\\nStreet\\\\n\\\\nPacific Heights Mediterranean\\\\nVilla\\\\n\\\\n6\\\\n\\\\n5.5\\\\n\\\\n7,00\\\\n0\\\\n\\\\nPool, expansive\\\\ngardens, separate\\\\nguest house\\\\n\\\\n1600\\\\nMontgomery\\\\nStreet\\\\n\\\\nTelegraph Hill\\\\n\\\\nHistoric Condo 1\\\\n\\\\n1\\\\n\\\\n900 Coit Tower views,\\\\ncharming details,\\\\nwalk to North Beach\\\\n\\\\n800 Bush\\\\nStreet\\\\n\\\\nDowntown\\\\n\\\\nLuxury Condo 2\\\\n\\\\n2.5\\\\n\\\\n2,50\\\\n0\\\\n\\\\nHigh-rise living,\\\\nmodern finishes,\\\\nconcierge services\\\\n\\\\n1900 Jackson\\\\nStreet\\\\n\\\\nPacific Heights Contemporary\\\\nTownhouse\\\\n\\\\n4\\\\n\\\\n3.5\\\\n\\\\n3,80\\\\n0\\\\n\\\\nRoof deck with city\\\\nviews, gourmet\\\\nkitchen, 2 car\\\\nparking\\\\n\\\\ndrive_spreadsheetExport to Sheets\\\\nAdditional Off-Market Opportunities:\\\\n\\\\n● Pre-MLS Listings: We have several properties coming soon to market in Noe Valley,\\\\nBernal Heights, and the Marina.\\\\n● Pocket Listings: We have exclusive access to luxury condos in SOMA and a historic\\\\nhome in Sea Cliff.\\\\n● Investment Properties: Multi-unit buildings with potential for renovation and rental\\\\n\\\\nincome available in the Mission and the Castro.\\\\n\\\\nContact: For more information or to schedule a private showing, please contact your Cymbal\\\\nReal Estate Group agent.\",\"Cymbal Real Estate Group | Exclusive Off-Market Listing in April\\\\nConfidential - For Cymbal Clients Only\\\\nDate: April 10, 2024\\\\nCurrent Market Snapshot: San Francisco\\'s real estate market continues its upward trajectory,\\\\nwith low inventory and strong buyer demand pushing prices higher. These exclusive off-market\\\\nlistings offer our clients a strategic advantage in securing desirable properties before they\\\\nbecome publicly available.\\\\n\\\\nAddress\\\\n\\\\nNeighborhoo\\\\nd\\\\n\\\\nProperty Type Bed\\\\n\\\\ns\\\\n\\\\nBath\\\\ns\\\\n\\\\nSq.\\\\nFt.\\\\n\\\\nHighlights\\\\n\\\\n1560 Pacific\\\\nAvenue\\\\n\\\\nRussian Hill\\\\n\\\\nEdwardian\\\\nCondo\\\\n\\\\n3\\\\n\\\\n2.5\\\\n\\\\n2,80\\\\n0\\\\n\\\\nBay views, period\\\\ndetails, updated\\\\nkitchen, 2 car\\\\nparking\\\\n\\\\n925 Ashbury\\\\nStreet\\\\n\\\\nHaight-Ashbur\\\\ny\\\\n\\\\nQueen Anne\\\\nVictorian\\\\n\\\\n5\\\\n\\\\n3.5\\\\n\\\\n4,50\\\\n0\\\\n\\\\nPeriod details, large\\\\ngarden, income\\\\npotential\\\\n\\\\n3400\\\\nWashington\\\\nStreet\\\\n\\\\nPresidio\\\\nHeights\\\\n\\\\nModern\\\\nMansion\\\\n\\\\n7\\\\n\\\\n6\\\\n\\\\n8,50\\\\n0\\\\n\\\\nPanoramic city\\\\nviews, infinity pool,\\\\nsmart home\\\\ntechnology\\\\n\\\\n1250 Clay\\\\nStreet\\\\n\\\\nNob Hill\\\\n\\\\nPenthouse\\\\nCondo\\\\n\\\\n4\\\\n\\\\n4\\\\n\\\\n5,20\\\\n0\\\\n\\\\n360-degree views,\\\\nprivate terrace,\\\\nluxury building\\\\n\\\\n2300 Bryant\\\\nStreet\\\\n\\\\nMission\\\\n\\\\nLive/Work Loft 2\\\\n\\\\n2\\\\n\\\\n3,00\\\\n0\\\\n\\\\nExposed brick, high\\\\nceilings, private\\\\nrooftop deck\\\\n\\\\n600 Steiner\\\\nStreet\\\\n\\\\nLower Pacific\\\\nHeights\\\\n\\\\nRenovated Flat 2\\\\n\\\\n1.5\\\\n\\\\n1,60\\\\n0\\\\n\\\\nModern finishes,\\\\nhardwood floors,\\\\nshared garden\\\\n\\\\n444 De Haro\\\\nStreet\\\\n\\\\nPotrero Hill\\\\n\\\\nContemporary\\\\nHome\\\\n\\\\n3\\\\n\\\\n2.5\\\\n\\\\n2,80\\\\n0\\\\n\\\\nOpen floor plan,\\\\nbackyard oasis,\\\\ndowntown views\"],\"link\":\"gs://certain-haiku-391918-cymbal-offmarket-list/offmarket_data_pdfs/invest2.pdf\",\"title\":\"Cymbal Real Estate Group | Exclusive Off-Market Listing-4/10/24\"}]'"
            ],
            "application/vnd.google.colaboratory.intrinsic+json": {
              "type": "string"
            }
          },
          "metadata": {},
          "execution_count": 122
        }
      ]
    },
    {
      "cell_type": "markdown",
      "source": [
        "#### Example 2: Ask for URLs and use webpage browser extension to retrieve information from the websites\n",
        "\n",
        "In this example, we ask the agent to answer questions by using webpage browser extension tool. As you can see in the response below, it called the webpage browser extension. Output_parameters[\"content\"] includes all the content the agent retrived using the webpage browser extension."
      ],
      "metadata": {
        "id": "K3CI5yymUOKN"
      }
    },
    {
      "cell_type": "code",
      "source": [
        "response = session.run(\"\"\"Can you summarize Noe Valley real estate investment opportunities from here:\n",
        "https://www.bcre.co/blog-news/navigating-the-market-discovering-the-most-promising-neighbourhoods-for-real-estate-investment-in-san-francisco/?\"\"\")"
      ],
      "metadata": {
        "id": "MLRScdrYT8tT"
      },
      "execution_count": null,
      "outputs": []
    },
    {
      "cell_type": "code",
      "source": [
        "response.content"
      ],
      "metadata": {
        "colab": {
          "base_uri": "https://localhost:8080/"
        },
        "id": "t5Nhdy9j7ZJn",
        "outputId": "75275f87-533a-4f20-e104-e10a015bfee9"
      },
      "execution_count": null,
      "outputs": [
        {
          "output_type": "execute_result",
          "data": {
            "text/plain": [
              "role: \"model\"\n",
              "parts {\n",
              "  text: \"Noe Valley, situated in the heart of San Francisco, is a highly sought-after neighborhood known for its picturesque streets and family-friendly atmosphere. The area boasts a tight-knit community and excellent schools, making it a top choice for families. With its well-maintained Victorian and Edwardian homes, Noe Valley offers a classic San Francisco charm combined with a high potential for return on investment. \\n\"\n",
              "}"
            ]
          },
          "metadata": {},
          "execution_count": 124
        }
      ]
    },
    {
      "cell_type": "code",
      "source": [
        "response.actions[1].tool_use.extension_invocation"
      ],
      "metadata": {
        "colab": {
          "base_uri": "https://localhost:8080/"
        },
        "id": "z1B_GGD97WLW",
        "outputId": "aef9d73b-982f-48fd-b57d-451ea9ccdd22"
      },
      "execution_count": null,
      "outputs": [
        {
          "output_type": "execute_result",
          "data": {
            "text/plain": [
              "extension_name: \"projects/656421903914/locations/us-central1/extensions/1741010691885629440\"\n",
              "operation_id: \"browse\""
            ]
          },
          "metadata": {},
          "execution_count": 125
        }
      ]
    },
    {
      "cell_type": "code",
      "source": [
        "response.actions[1].tool_use.output_parameters[\"content\"]"
      ],
      "metadata": {
        "colab": {
          "base_uri": "https://localhost:8080/",
          "height": 122
        },
        "id": "aBh5nfld7YY7",
        "outputId": "73163a40-10a1-46b8-fa18-7a95aea54d94"
      },
      "execution_count": null,
      "outputs": [
        {
          "output_type": "execute_result",
          "data": {
            "text/plain": [
              "\"Navigating the Market: Discovering the Most Promising Neighbourhoods for Real Estate Investment in San Francisco - Baniqued Commercial Real Estate  Menu  Menu  About UsOpen submenu Join Us BuyOpen submenu Sell Brokers Invest SmartOpen submenu Blogs Contact Us  Close submenuAbout Us  What We Do Podcast  Close submenuBuy  Commercial Residential  Close submenuInvest Smart  Invest Smart – English Invest Smart – हिंदी  Skip to content  baniqued commercial real estate logo-Baniqued Commercial Real Estate  Primary Menu  About Us  What We Do Podcast  Join Us Buy  Commercial Residential  Sell Brokers Invest Smart  Invest Smart – English Invest Smart – हिंदी  Blogs Contact Us  Investment in real estate in San Francisco  Navigating the Market: Discovering the Most Promising Neighbourhoods for Real Estate Investment in San Francisco  \\u200dIntroduction to Real Estate Investment in San Francisco  San Francisco has long been a hotbed for real estate investment, attracting both seasoned investors and newcomers alike. With its booming tech industry, vibrant culture, and picturesque landscapes, it's no wonder that the San Francisco real estate market continues to thrive. But with so many options available, how can investors navigate this competitive landscape and find the most promising neighborhoods for their investments?  Factors to Consider When Investing in Real Estate in San Francisco  Before diving into the specifics of the San Francisco real estate market, it's important to understand the key factors that can influence the success of your investment. One crucial aspect to consider is the local economy. San Francisco's tech industry, with giants like Google and Facebook calling the area home, has fueled a strong job market and contributed to the city's rapid growth. Additionally, factors such as population growth, infrastructure development, and proximity to amenities like schools and public transportation can significantly impact property values.  Another crucial consideration is the overall market conditions. Understanding the current trends, both in terms of supply and demand, can help you make informed decisions. For instance, a high demand for housing coupled with limited supply can drive up prices and create a competitive market. Conversely, an oversupply of properties can lead to lower prices and increased opportunities for investment. By keeping a pulse on these market conditions, investors can identify areas with the most potential for growth.  Market Trends and Statistics in the San Francisco Real Estate Market  To gain a deeper understanding of the San Francisco real estate market, it's essential to examine the latest market trends and statistics. According to recent data, the median home price in San Francisco stands at a staggering $1.4 million, making it one of the most expensive housing markets in the country. However, despite the high prices, the market continues to show resilience and potential for growth.  One key trend to note is the rising popularity of condominiums and multi-unit buildings. With space at a premium in the city, developers are focusing on constructing vertical housing options to accommodate the growing population. This trend presents an opportunity for investors to tap into the demand for smaller, more affordable units.  Another trend worth mentioning is the increasing interest in sustainable and energy-efficient properties. San Francisco has always been at the forefront of environmental consciousness, and this extends to the real estate market. Properties with green features, such as solar panels and energy-efficient appliances, are in high demand and can command higher prices.  The Most Promising Neighborhoods for Real Estate Investment in San Francisco  Now that we have explored the key factors and market trends, let's delve into the most promising neighborhoods for real estate investment in San Francisco. It's important to note that while these neighborhoods show great potential, thorough research, and due diligence are essential before making any investment decisions.  1. Mission District: Known for its vibrant culture and diverse community, the Mission District has experienced significant growth in recent years. With its proximity to downtown San Francisco and excellent public transportation options, this neighborhood offers a prime location for real estate investment. The Mission District is also home to numerous tech startups, attracting young professionals who are looking for convenient housing options.  2. Dogpatch: Once an industrial area, Dogpatch has undergone a transformation in recent years and has emerged as a trendy neighborhood for real estate investment. With its charming Victorian homes and proximity to the waterfront, Dogpatch offers a unique blend of history and modernity. The neighborhood has also seen an influx of new businesses, including art galleries, cafes, and boutique shops, making it an attractive destination for both residents and investors.  3. Noe Valley: Situated in the heart of San Francisco, Noe Valley is a highly sought-after neighborhood known for its picturesque streets and family-friendly atmosphere. The area boasts a tight-knit community and excellent schools, making it a top choice for families. With its well-maintained Victorian and Edwardian homes, Noe Valley offers a classic San Francisco charm combined with a high potential for return on investment.  Exploring the Best Places to Buy Real Estate in California  While San Francisco offers numerous opportunities for real estate investment, it's also worth exploring other cities in California that provide attractive options. One such city is Los Angeles, which boasts a diverse real estate market with a range of property types and price points. From the luxury homes of Beverly Hills to the up-and-coming neighborhoods of Downtown LA, there is something for every investor in the City of Angels.  Another city to consider is San Diego, known for its beautiful beaches, thriving downtown area, and strong military presence. With its growing population and strong job market, San Diego offers a stable real estate market with opportunities for long-term growth. Additionally, the city's proximity to the Mexican border makes it an attractive location for cross-border investors.  The Cheapest Cities in the Bay Area for Real Estate Investment  While San Francisco and its surrounding areas may be known for their high real estate prices, there are still affordable options within the Bay Area. One such city is Oakland, which has seen a resurgence in recent years. With its diverse population, vibrant arts scene, and close proximity to San Francisco, Oakland offers a more affordable alternative for real estate investors. The city has also seen significant infrastructure improvements, including the revitalization of its downtown area, making it an attractive destination for both residents and investors.  Another affordable option is Vallejo, located in Solano County. Vallejo has experienced a renaissance in recent years, attracting investors with its affordable housing prices and potential for growth. With its waterfront location and access to major highways, Vallejo offers a convenient location for commuters working in both San Francisco and Sacramento.  Where to Live in San Francisco: Neighborhoods with High Potential for Investment  While real estate investors may focus primarily on return on investment, it's also essential to consider the livability and desirability of a neighborhood. After all, a thriving community with strong amenities can attract quality tenants and ensure long-term success. Here are a few neighborhoods in San Francisco that offer both investment potential and a high quality of life:  1. Pacific Heights: Known for its stunning views of the Golden Gate Bridge and the Bay, Pacific Heights is one of San Francisco's most prestigious neighborhoods. With its tree-lined streets, Victorian mansions, and proximity to parks and shops, Pacific Heights offers a luxurious and desirable living experience. The neighborhood also boasts excellent schools, making it a top choice for families.  2. Russian Hill: Situated on one of San Francisco's famous hills, Russian Hill offers breathtaking views of the city and the bay. The neighborhood is known for its charming streets, historic cable cars, and proximity to popular destinations like Fisherman's Wharf and Ghirardelli Square. Russian Hill offers a mix of architectural styles, ranging from classic Victorian homes to modern condominiums, making it an attractive option for a wide range of residents.  3. Inner Sunset: Located next to Golden Gate Park, Inner Sunset offers a laid-back atmosphere and a close-knit community. The neighborhood is known for its diverse dining options, independent bookstores, and local shops. With its proximity to the park, residents of Inner Sunset can enjoy outdoor activities and a peaceful retreat from the bustling city. The neighborhood also offers a range of housing options, from single-family homes to multi-unit buildings, providing opportunities for various types of investments.  Analyzing Home Prices in the San Francisco Bay Area  When considering real estate investment in the San Francisco Bay Area, it's important to analyze the home prices and trends in the region. As mentioned earlier, the median home price in San Francisco is $1.4 million, making it one of the most expensive cities in the country. However, prices can vary significantly depending on the specific neighborhood and property type.  In general, neighborhoods closer to downtown San Francisco tend to have higher home prices, while those further away offer more affordable options. For example, the median home price in Pacific Heights is around $4 million, while in neighborhoods like Bayview and Excelsior, it can be as low as $800,000. By analyzing these price differentials, investors can identify neighborhoods that align with their budget and investment goals.  Expert Tips for Successful Real Estate Investment in San Francisco  To ensure a successful real estate investment in San Francisco, it's important to heed the advice of industry experts. Here are a few tips to help you navigate the market:  Do your research: Thoroughly research the neighborhoods you are considering, including their historical trends, current market conditions, and future development plans. This will help you make informed decisions and identify areas with the most potential for growth. Work with a local real estate agent: Partnering with a knowledgeable local real estate agent can provide invaluable insights and guidance throughout the investment process. They can help you navigate the local market, negotiate deals, and connect you with other professionals, such as property managers and contractors. Diversify your portfolio: Consider diversifying your real estate portfolio by investing in different types of properties and neighborhoods. This can help mitigate risk and maximize potential returns. Stay updated on market trends: Continuously monitor the market trends and conditions to identify emerging opportunities and adjust your investment strategy accordingly. This includes keeping track of factors such as interest rates, job growth, and housing supply.  Conclusion: Making Informed Decisions in the San Francisco Real Estate Market  Investing in real estate in San Francisco can be a lucrative endeavor, but it requires careful consideration and thorough research. By understanding the key factors, market trends, and potential neighborhoods, investors can make informed decisions that align with their financial goals. Whether you choose to invest in the most promising neighborhoods within San Francisco or explore other cities in California, the key to success lies in analyzing the market, staying updated on trends, and working with industry professionals. So, take the first step towards your new investment journey and contact us for a free consultation today.  Relevant Posts  Owning Your Piece of the Golden State: Benefits of Homeownership in California (and How to Navigate the Journey)  May 23, 2024 No Comments  Read More »  Finding good neighborhood for living in California  Finding the Right Neighborhood in California: Your Guide to a Perfect Fit  May 17, 2024 No Comments  Read More »  Living cost in California  California Dreamin' on a Budget: Unveiling the Cost of Living in Major Cities  May 17, 2024 No Comments  Read More »  How to buy a home in California  Conquering the Golden State: Your Guide to Buying a Home in California  May 17, 2024 No Comments  Read More »  Living in San Francisco  Living in San Francisco: From Foggy Mornings to Golden Gate Dreams  April 13, 2024 No Comments  Read More »  COVID impact on San Francisco Real estate  San Francisco's Housing Market: A Pandemic Plot Twist  April 13, 2024 No Comments  Read More »  Investment in San Francisco Real estate  Conquering the Golden Gate: A Guide to Real Estate Investment in San Francisco  April 13, 2024 No Comments  Read More »  Sell your property in San Francisco  Selling Your San Francisco Dream property: A Comprehensive Guide  April 13, 2024 No Comments  Read More »  Real estate market in 2024  Major Changes in the Real Estate Market in 2024: What You Need to Know  March 19, 2024 No Comments  Read More »  find real estate agent in san Francisco-Baniqued Commercial Real Estate  Working with Real Estate Agents in San Francisco: All You Need to Know  March 13, 2024 No Comments  Read More »  Real estate Trends in San Francisco  Demystifying the San Francisco Market: Trends, Opportunities, and Future Forecast  March 2, 2024 No Comments  Read More »  Guide for renting house in San Francisco  Navigating the Rental Landscape: Your Guide to Renting in San Francisco  March 2, 2024 No Comments  Read More »  baniqued commercial real estate logo-Baniqued Commercial Real Estate  CA DRE License: 01430309  Main: 510-222-0900  Fax: 510-743-4114  OFFICES  East Bay  2801 Pinole Valley Road Suite 210  Pinole, CA 94564  San Francisco  580 California Street, 16th Floor  San Francisco, CA 94104  QUICK LINKS  Home About Us What We Do Buy Sell  Listings Join Us Brokers Contact Us  SISTER COMPANIES  bgam logo-Baniqued Commercial Real Estate  rcc logo-Baniqued Commercial Real Estate  © Copyright 2024. All Rights Reserved.  Real Estate Web Design by Thomas Digital  About Us  What We Do Podcast  Join Us Buy  Commercial Residential  Sell Brokers Invest Smart  Invest Smart – English Invest Smart – हिंदी  Blogs Contact Us  Close menu \""
            ],
            "application/vnd.google.colaboratory.intrinsic+json": {
              "type": "string"
            }
          },
          "metadata": {},
          "execution_count": 126
        }
      ]
    },
    {
      "cell_type": "markdown",
      "source": [
        "#### Example 3: Use both extensions to do research\n",
        "\n",
        "In this example, we ask the agent to call both tools to do the research. As you can see in the response below, it called both vertex AI search and webpage browser extension tools. Output_parameters[\"content\"] includes all the content the agent retrived using both extensions."
      ],
      "metadata": {
        "id": "rFi2UeH5VisX"
      }
    },
    {
      "cell_type": "code",
      "source": [
        "response = session.run(\"\"\"Can you summarize Noe Valley real estate investment opportunities from Cymbal Exclusive Off-Market Listings and here:\n",
        "https://www.bcre.co/blog-news/navigating-the-market-discovering-the-most-promising-neighbourhoods-for-real-estate-investment-in-san-francisco/?\"\"\")"
      ],
      "metadata": {
        "id": "ThMdHyom2TWU"
      },
      "execution_count": null,
      "outputs": []
    },
    {
      "cell_type": "code",
      "source": [
        "response.content"
      ],
      "metadata": {
        "colab": {
          "base_uri": "https://localhost:8080/"
        },
        "id": "oVrrOWWa7zTM",
        "outputId": "4a129cc2-d53b-4c75-e7b3-e888647bdbce"
      },
      "execution_count": null,
      "outputs": [
        {
          "output_type": "execute_result",
          "data": {
            "text/plain": [
              "role: \"model\"\n",
              "parts {\n",
              "  text: \"Noe Valley is a highly sought-after neighborhood known for its picturesque streets and family-friendly atmosphere. The area boasts a tight-knit community and excellent schools,  Cymbal Exclusive Off-Market Listings are a unique opportunity to access Noe Valley properties not yet available to the public.  For more information or to schedule a private showing of Cymbal Exclusive Off-Market Listings, please contact your Cymbal Real Estate Group agent. \\n\"\n",
              "}"
            ]
          },
          "metadata": {},
          "execution_count": 128
        }
      ]
    },
    {
      "cell_type": "code",
      "source": [
        "response.actions[1].tool_use.extension_invocation"
      ],
      "metadata": {
        "colab": {
          "base_uri": "https://localhost:8080/"
        },
        "id": "1W_9DbZc7xj6",
        "outputId": "13cba749-4d68-4455-b0ab-d24cbb5197c9"
      },
      "execution_count": null,
      "outputs": [
        {
          "output_type": "execute_result",
          "data": {
            "text/plain": [
              "extension_name: \"projects/656421903914/locations/us-central1/extensions/8271230151572848640\"\n",
              "operation_id: \"search\""
            ]
          },
          "metadata": {},
          "execution_count": 129
        }
      ]
    },
    {
      "cell_type": "code",
      "source": [
        "response.actions[2].tool_use.extension_invocation"
      ],
      "metadata": {
        "colab": {
          "base_uri": "https://localhost:8080/"
        },
        "id": "VmgwCFhN74rr",
        "outputId": "910c5b40-a74b-43f6-bcb4-89c60e0d3ac3"
      },
      "execution_count": null,
      "outputs": [
        {
          "output_type": "execute_result",
          "data": {
            "text/plain": [
              "extension_name: \"projects/656421903914/locations/us-central1/extensions/1741010691885629440\"\n",
              "operation_id: \"browse\""
            ]
          },
          "metadata": {},
          "execution_count": 130
        }
      ]
    },
    {
      "cell_type": "code",
      "source": [
        "response.actions[1].tool_use.output_parameters[\"content\"]"
      ],
      "metadata": {
        "colab": {
          "base_uri": "https://localhost:8080/",
          "height": 122
        },
        "id": "ulOh4RcU76Jg",
        "outputId": "5ff6bd66-10bd-4dc4-e57a-7fa52234fa89"
      },
      "execution_count": null,
      "outputs": [
        {
          "output_type": "execute_result",
          "data": {
            "text/plain": [
              "'[{\"extractive_answers\":[\"These exclusive off-market listings offer our clients a unique opportunity to access properties not yet available to the public. Address Neighborhoo d Property Type Bed s Bath s Sq. Ft. Highlights 2255 Vallejo Street Pacific Heights Victorian Mansion 6 4.5 6,20 0 Panoramic Bay views, chef&#39;s kitchen, private garden oasis 1433 Noe Street Noe Valley Modern Townhouse 4 3.5 3,80 0 Roof deck with city views, open floor plan, EV charger 870 Harrison Street SOMA Loft Conversion 2 2 2,50 0 Exposed brick, high ceilings, close to tech offices 450 Balboa Street Richmond Spanish Mediterranean 5 4 4,10 0 Updated kitchen, spacious backyard, Golden Gate Park views 333 Clement Street Inner Richmond Mixed-Use Building 2 1 1,80 0 Commercial space on ground floor, apartment above.\"],\"extractive_segments\":[\"Pre-Probate Properties: Several estates in Pacific Heights and Presidio Heights are\\\\ncoming soon to market.\\\\n● Pocket Listings: We have exclusive access to luxury condos in Russian Hill and a\\\\ncharming Edwardian in North Beach.\\\\n● Investment Properties: Multi-unit buildings with potential for renovation and rental\\\\nincome available in the Mission and Bernal Heights.\\\\nContact: For more information or to schedule a private showing, please contact your Cymbal\\\\nReal Estate Group agent.\\\\nDisclaimer: This information is confidential and intended for Cymbal Real Estate Group clients\\\\nonly. All information is deemed reliable but not guaranteed.\",\"369 Mission\\\\nStreet\\\\n\\\\nFinancial\\\\nDistrict\\\\n\\\\nHigh-Rise\\\\nCondo\\\\n\\\\n1\\\\n\\\\n1\\\\n\\\\n1,20\\\\n0\\\\n\\\\nViews of downtown,\\\\nluxury building, walk\\\\nto Embarcadero\\\\n\\\\n1000 Van\\\\nNess\\\\nAvenue\\\\n\\\\nVan Ness/Civic\\\\nCenter\\\\n\\\\nModern Condo 2\\\\n\\\\n2\\\\n\\\\n1,50\\\\n0\\\\n\\\\nCity Hall views, open\\\\nfloor plan, walk to\\\\nHayes Valley\\\\n\\\\n2580 Polk\\\\nStreet\\\\n\\\\nRussian Hill\\\\n\\\\nContemporary\\\\nTownhouse\\\\n\\\\n3\\\\n\\\\n2.5\\\\n\\\\n2,70\\\\n0\\\\n\\\\nRoof deck with views,\\\\nmodern finishes, near\\\\nrestaurants\\\\n\\\\n1470 Pine\\\\nStreet\\\\n\\\\nNob Hill\\\\n\\\\nHistoric Condo 2\\\\n\\\\n1\\\\n\\\\n1,10\\\\n0\\\\n\\\\nGrace Cathedral\\\\nviews, period details,\\\\nwalk to Union Square\\\\n\\\\n8642\\\\nSunset\\\\nBoulevard\\\\n\\\\nSunset\\\\n\\\\nSingle-Family\\\\nHome\\\\n\\\\n4\\\\n\\\\n3\\\\n\\\\n3,10\\\\n0\\\\n\\\\nOcean views, quiet\\\\nstreet, spacious\\\\nbackyard\\\\n\\\\n3579 Ocean\\\\nAvenue\\\\n\\\\nIngleside\\\\n\\\\nMid-Century\\\\nModern\\\\n\\\\n3\\\\n\\\\n2\\\\n\\\\n2,00\\\\n0\\\\n\\\\nOpen floor plan,\\\\nbackyard with\\\\npotential, near parks\\\\n\\\\n1122\\\\nTaraval\\\\nStreet\\\\n\\\\nOuter Sunset Single-Family\\\\nHome\\\\n\\\\n3\\\\n\\\\n2\\\\n\\\\n2,30\\\\n0\\\\n\\\\nOcean breezes, quiet\\\\nstreet, potential for\\\\nADU\\\\n\\\\nAdditional Off-Market Opportunities:\",\"Cymbal Real Estate Group | Exclusive Off-Market Listing in June\\\\nConfidential - For Cymbal Clients Only\\\\nDate: June 10, 2024\\\\nCurrent Market Snapshot: San Francisco\\'s real estate market remains competitive, with\\\\nlimited inventory driving strong buyer interest. These exclusive off-market listings offer our\\\\nclients a unique opportunity to access properties not yet available to the public.\\\\n\\\\nAddress Neighborhoo\\\\nd\\\\n\\\\nProperty Type Bed\\\\n\\\\ns\\\\n\\\\nBath\\\\ns\\\\n\\\\nSq.\\\\nFt.\\\\n\\\\nHighlights\\\\n\\\\n2255 Vallejo\\\\nStreet\\\\n\\\\nPacific Heights Victorian\\\\nMansion\\\\n\\\\n6\\\\n\\\\n4.5\\\\n\\\\n6,20\\\\n0\\\\n\\\\nPanoramic Bay views,\\\\nchef\\'s kitchen, private\\\\ngarden oasis\\\\n\\\\n1433 Noe\\\\nStreet\\\\n\\\\nNoe Valley\\\\n\\\\nModern\\\\nTownhouse\\\\n\\\\n4\\\\n\\\\n3.5\\\\n\\\\n3,80\\\\n0\\\\n\\\\nRoof deck with city\\\\nviews, open floor\\\\nplan, EV charger\\\\n\\\\n870\\\\nHarrison\\\\nStreet\\\\n\\\\nSOMA\\\\n\\\\nLoft\\\\nConversion\\\\n\\\\n2\\\\n\\\\n2\\\\n\\\\n2,50\\\\n0\\\\n\\\\nExposed brick, high\\\\nceilings, close to tech\\\\noffices\\\\n\\\\n450 Balboa\\\\nStreet\\\\n\\\\nRichmond\\\\n\\\\nSpanish\\\\nMediterranean\\\\n\\\\n5\\\\n\\\\n4\\\\n\\\\n4,10\\\\n0\\\\n\\\\nUpdated kitchen,\\\\nspacious backyard,\\\\nGolden Gate Park\\\\nviews\\\\n\\\\n333\\\\nClement\\\\nStreet\\\\n\\\\nInner\\\\nRichmond\\\\n\\\\nMixed-Use\\\\nBuilding\\\\n\\\\n2\\\\n\\\\n1\\\\n\\\\n1,80\\\\n0\\\\n\\\\nCommercial space on\\\\nground floor,\\\\napartment above\"],\"link\":\"gs://certain-haiku-391918-cymbal-offmarket-list/offmarket_data_pdfs/invest3.pdf\",\"title\":\"Cymbal Real Estate Group | Exclusive Off-Market Listing-6/10/24\"},{\"extractive_answers\":[\"Contact: For more information or to schedule a private showing, please contact your Cymbal Real Estate Group agent.\"],\"extractive_segments\":[\"9753\\\\nValencia\\\\nStreet\\\\n\\\\nMission\\\\n\\\\nLive/Work Loft 2\\\\n\\\\n2\\\\n\\\\n3,20\\\\n0\\\\n\\\\nExposed brick, high\\\\nceilings, private\\\\nrooftop deck\\\\n\\\\n8642 Judah\\\\nStreet\\\\n\\\\nSunset\\\\n\\\\nSingle-Family\\\\nHome\\\\n\\\\n4\\\\n\\\\n3\\\\n\\\\n3,00\\\\n0\\\\n\\\\nOcean views, large\\\\nbackyard, updated\\\\nkitchen\\\\n\\\\n3691 24th\\\\nStreet\\\\n\\\\nNoe Valley\\\\n\\\\nModern\\\\nTownhouse\\\\n\\\\n4\\\\n\\\\n3.5\\\\n\\\\n3,60\\\\n0\\\\n\\\\nRoof deck with city\\\\nviews, open floor\\\\nplan, family-friendly\\\\n\\\\n1000 Cole\\\\nStreet\\\\n\\\\nCole Valley\\\\n\\\\nCraftsman\\\\nBungalow\\\\n\\\\n3\\\\n\\\\n2\\\\n\\\\n2,00\\\\n0\\\\n\\\\nCharming details,\\\\nupdated kitchen,\\\\nprivate garden\\\\n\\\\n5000\\\\nDiamond\\\\nHeights Blvd\\\\n\\\\nDiamond\\\\nHeights\\\\n\\\\nView Condo\\\\n\\\\n2\\\\n\\\\n2\\\\n\\\\n1,80\\\\n0\\\\n\\\\nPanoramic city\\\\nviews, private\\\\nbalcony, pool\\\\n\\\\n6000\\\\nArguello Blvd\\\\nInner Sunset Single-Family\\\\nHome\\\\n\\\\n4\\\\n\\\\n2.5\\\\n\\\\n2,80\\\\n0\\\\n\\\\nFamily-friendly, quiet\\\\nstreet, updated\\\\nkitchen\\\\n\\\\n7000 Lake\\\\nStreet\\\\n\\\\nSea Cliff\\\\n\\\\nHistoric Estate 8\\\\n\\\\n6\\\\n\\\\n7,50\\\\n0\\\\n\\\\nOcean views, grand\\\\ninteriors, expansive\\\\ngardens\\\\n\\\\n8000 Twin\\\\nPeaks Blvd\\\\n\\\\nTwin Peaks\\\\n\\\\nMid-Century\\\\nModern\\\\n\\\\n3\\\\n\\\\n2\\\\n\\\\n2,50\\\\n0\\\\n\\\\nPanoramic city\\\\nviews, open floor\\\\nplan, private deck\\\\n\\\\ndrive_spreadsheetExport to Sheets\\\\nAdditional Off-Market Opportunities:\\\\n\\\\n● Pre-Probate Properties: Several estates in Pacific Heights and Sea Cliff are expected\\\\nto come to market soon.\\\\n● Pocket Listings: We have exclusive access to luxury condos in SOMA and a charming\\\\nEdwardian in Noe Valley.\\\\n● Investment Properties: Multi-unit buildings with potential for renovation and rental\\\\nincome available in the Mission and Bernal Heights.\\\\nContact: For more information or to schedule a private showing, please contact your Cymbal\\\\nReal Estate Group agent.\",\"Disclaimer: This information is confidential and intended for Cymbal Real Estate Group clients\\\\nonly. All information is deemed reliable but not guaranteed.\",\"Cymbal Real Estate Group | Exclusive Off-Market Listing in May\\\\nConfidential - For Cymbal Clients Only\\\\nDate: May 10, 2024\\\\nCurrent Market Snapshot: San Francisco\\'s real estate market remains incredibly competitive,\\\\nwith low inventory and high demand. These off-market listings offer our discerning clients an\\\\nexclusive opportunity to secure desirable properties before they become publicly available.\\\\n\\\\nAddress\\\\n\\\\nNeighborhoo\\\\nd\\\\n\\\\nProperty Type Bed\\\\n\\\\ns\\\\n\\\\nBath\\\\ns\\\\n\\\\nSq.\\\\nFt.\\\\n\\\\nHighlights\\\\n\\\\n1234 Green\\\\nStreet\\\\n\\\\nRussian Hill\\\\n\\\\nRenovated\\\\nVictorian\\\\n\\\\n4\\\\n\\\\n3.5\\\\n\\\\n3,80\\\\n0\\\\n\\\\nBay views, chef\\'s\\\\nkitchen, private\\\\ngarden oasis\\\\n\\\\n5678\\\\nLombard\\\\nStreet\\\\n\\\\nMarina/Cow\\\\nHollow\\\\n\\\\nContemporary\\\\nTownhouse\\\\n\\\\n3\\\\n\\\\n2.5\\\\n\\\\n2,70\\\\n0\\\\n\\\\nRoof deck with city\\\\nviews, open floor\\\\nplan, EV charger\\\\n\\\\n9012 Mission\\\\nStreet\\\\n\\\\nMission\\\\nDolores\\\\n\\\\nEdwardian Flat 2\\\\n\\\\n1\\\\n\\\\n1,50\\\\n0\\\\n\\\\nHigh ceilings, period\\\\ndetails, walk to\\\\nDolores Park\\\\n\\\\n3456\\\\nCalifornia\\\\nStreet\\\\n\\\\nPacific Heights Luxury\\\\nPenthouse\\\\n\\\\n4\\\\n\\\\n3.5\\\\n\\\\n5,00\\\\n0\\\\n\\\\n360-degree city\\\\nviews, private\\\\nelevator, rooftop\\\\nterrace\\\\n\\\\n7890 Geary\\\\nBoulevard\\\\n\\\\nInner\\\\nRichmond\\\\n\\\\nSpanish\\\\nMediterranean\\\\n\\\\n5\\\\n\\\\n4\\\\n\\\\n4,20\\\\n0\\\\n\\\\nUpdated kitchen,\\\\nspacious backyard,\\\\nGolden Gate Park\\\\nviews\\\\n\\\\n2468 Fulton\\\\nStreet\\\\n\\\\nRichmond\\\\n\\\\nMid-Century\\\\nModern\\\\n\\\\n3\\\\n\\\\n2\\\\n\\\\n2,60\\\\n0\\\\n\\\\nOpen floor plan,\\\\nbackyard oasis, near\\\\nGolden Gate Park\\\\n\\\\n1357\\\\nFillmore\\\\nStreet\\\\n\\\\nPacific Heights Grand Victorian 6\\\\n\\\\n5\\\\n\\\\n6,50\\\\n0\\\\n\\\\nPreserved period\\\\ndetails, ballroom,\\\\nchef\\'s kitchen\"],\"link\":\"gs://certain-haiku-391918-cymbal-offmarket-list/offmarket_data_pdfs/invest1.pdf\",\"title\":\"Cymbal Real Estate Group | Exclusive Off-Market Listing-05/10/24\"},{\"extractive_answers\":[\"Contact: For more information or to schedule a private showing, please contact your Cymbal Real Estate Group agent.\"],\"extractive_segments\":[\"1000\\\\nLeavenworth\\\\nStreet\\\\n\\\\nNob Hill\\\\n\\\\nBeaux-Arts\\\\nCondo\\\\n\\\\n2\\\\n\\\\n2\\\\n\\\\n2,20\\\\n0\\\\n\\\\nHigh ceilings, period\\\\ndetails, walk to\\\\nUnion Square\\\\n\\\\n500 Kirkham\\\\nStreet\\\\n\\\\nSunset\\\\n\\\\nSingle-Family\\\\nHome\\\\n\\\\n4\\\\n\\\\n3\\\\n\\\\n3,20\\\\n0\\\\n\\\\nOcean views, large\\\\nbackyard, potential\\\\nfor ADU\\\\n\\\\n1800\\\\nDivisadero\\\\nStreet\\\\n\\\\nNOPA\\\\n\\\\nMid-Century\\\\nModern\\\\n\\\\n3\\\\n\\\\n2\\\\n\\\\n2,10\\\\n0\\\\n\\\\nOpen floor plan,\\\\nupdated kitchen,\\\\nclose to Golden\\\\nGate Park\\\\n\\\\n700 Shotwell\\\\nStreet\\\\n\\\\nMission\\\\n\\\\nVictorian Flat\\\\n\\\\n2\\\\n\\\\n1\\\\n\\\\n1,20\\\\n0\\\\n\\\\nHigh ceilings, period\\\\ndetails, walk to\\\\nDolores Park\\\\n\\\\n2500\\\\nBroadway\\\\nStreet\\\\n\\\\nPacific Heights Mediterranean\\\\nVilla\\\\n\\\\n6\\\\n\\\\n5.5\\\\n\\\\n7,00\\\\n0\\\\n\\\\nPool, expansive\\\\ngardens, separate\\\\nguest house\\\\n\\\\n1600\\\\nMontgomery\\\\nStreet\\\\n\\\\nTelegraph Hill\\\\n\\\\nHistoric Condo 1\\\\n\\\\n1\\\\n\\\\n900 Coit Tower views,\\\\ncharming details,\\\\nwalk to North Beach\\\\n\\\\n800 Bush\\\\nStreet\\\\n\\\\nDowntown\\\\n\\\\nLuxury Condo 2\\\\n\\\\n2.5\\\\n\\\\n2,50\\\\n0\\\\n\\\\nHigh-rise living,\\\\nmodern finishes,\\\\nconcierge services\\\\n\\\\n1900 Jackson\\\\nStreet\\\\n\\\\nPacific Heights Contemporary\\\\nTownhouse\\\\n\\\\n4\\\\n\\\\n3.5\\\\n\\\\n3,80\\\\n0\\\\n\\\\nRoof deck with city\\\\nviews, gourmet\\\\nkitchen, 2 car\\\\nparking\\\\n\\\\ndrive_spreadsheetExport to Sheets\\\\nAdditional Off-Market Opportunities:\\\\n\\\\n● Pre-MLS Listings: We have several properties coming soon to market in Noe Valley,\\\\nBernal Heights, and the Marina.\\\\n● Pocket Listings: We have exclusive access to luxury condos in SOMA and a historic\\\\nhome in Sea Cliff.\\\\n● Investment Properties: Multi-unit buildings with potential for renovation and rental\\\\n\\\\nincome available in the Mission and the Castro.\\\\n\\\\nContact: For more information or to schedule a private showing, please contact your Cymbal\\\\nReal Estate Group agent.\",\"Cymbal Real Estate Group | Exclusive Off-Market Listing in April\\\\nConfidential - For Cymbal Clients Only\\\\nDate: April 10, 2024\\\\nCurrent Market Snapshot: San Francisco\\'s real estate market continues its upward trajectory,\\\\nwith low inventory and strong buyer demand pushing prices higher. These exclusive off-market\\\\nlistings offer our clients a strategic advantage in securing desirable properties before they\\\\nbecome publicly available.\\\\n\\\\nAddress\\\\n\\\\nNeighborhoo\\\\nd\\\\n\\\\nProperty Type Bed\\\\n\\\\ns\\\\n\\\\nBath\\\\ns\\\\n\\\\nSq.\\\\nFt.\\\\n\\\\nHighlights\\\\n\\\\n1560 Pacific\\\\nAvenue\\\\n\\\\nRussian Hill\\\\n\\\\nEdwardian\\\\nCondo\\\\n\\\\n3\\\\n\\\\n2.5\\\\n\\\\n2,80\\\\n0\\\\n\\\\nBay views, period\\\\ndetails, updated\\\\nkitchen, 2 car\\\\nparking\\\\n\\\\n925 Ashbury\\\\nStreet\\\\n\\\\nHaight-Ashbur\\\\ny\\\\n\\\\nQueen Anne\\\\nVictorian\\\\n\\\\n5\\\\n\\\\n3.5\\\\n\\\\n4,50\\\\n0\\\\n\\\\nPeriod details, large\\\\ngarden, income\\\\npotential\\\\n\\\\n3400\\\\nWashington\\\\nStreet\\\\n\\\\nPresidio\\\\nHeights\\\\n\\\\nModern\\\\nMansion\\\\n\\\\n7\\\\n\\\\n6\\\\n\\\\n8,50\\\\n0\\\\n\\\\nPanoramic city\\\\nviews, infinity pool,\\\\nsmart home\\\\ntechnology\\\\n\\\\n1250 Clay\\\\nStreet\\\\n\\\\nNob Hill\\\\n\\\\nPenthouse\\\\nCondo\\\\n\\\\n4\\\\n\\\\n4\\\\n\\\\n5,20\\\\n0\\\\n\\\\n360-degree views,\\\\nprivate terrace,\\\\nluxury building\\\\n\\\\n2300 Bryant\\\\nStreet\\\\n\\\\nMission\\\\n\\\\nLive/Work Loft 2\\\\n\\\\n2\\\\n\\\\n3,00\\\\n0\\\\n\\\\nExposed brick, high\\\\nceilings, private\\\\nrooftop deck\\\\n\\\\n600 Steiner\\\\nStreet\\\\n\\\\nLower Pacific\\\\nHeights\\\\n\\\\nRenovated Flat 2\\\\n\\\\n1.5\\\\n\\\\n1,60\\\\n0\\\\n\\\\nModern finishes,\\\\nhardwood floors,\\\\nshared garden\\\\n\\\\n444 De Haro\\\\nStreet\\\\n\\\\nPotrero Hill\\\\n\\\\nContemporary\\\\nHome\\\\n\\\\n3\\\\n\\\\n2.5\\\\n\\\\n2,80\\\\n0\\\\n\\\\nOpen floor plan,\\\\nbackyard oasis,\\\\ndowntown views\"],\"link\":\"gs://certain-haiku-391918-cymbal-offmarket-list/offmarket_data_pdfs/invest2.pdf\",\"title\":\"Cymbal Real Estate Group | Exclusive Off-Market Listing-4/10/24\"}]'"
            ],
            "application/vnd.google.colaboratory.intrinsic+json": {
              "type": "string"
            }
          },
          "metadata": {},
          "execution_count": 131
        }
      ]
    },
    {
      "cell_type": "code",
      "source": [
        "response.actions[2].tool_use.output_parameters[\"content\"]"
      ],
      "metadata": {
        "colab": {
          "base_uri": "https://localhost:8080/",
          "height": 122
        },
        "id": "14zPLvhV8C6b",
        "outputId": "12494dae-d174-4801-93ed-e3945dda5d83"
      },
      "execution_count": null,
      "outputs": [
        {
          "output_type": "execute_result",
          "data": {
            "text/plain": [
              "\"Navigating the Market: Discovering the Most Promising Neighbourhoods for Real Estate Investment in San Francisco - Baniqued Commercial Real Estate  Menu  Menu  About UsOpen submenu Join Us BuyOpen submenu Sell Brokers Invest SmartOpen submenu Blogs Contact Us  Close submenuAbout Us  What We Do Podcast  Close submenuBuy  Commercial Residential  Close submenuInvest Smart  Invest Smart – English Invest Smart – हिंदी  Skip to content  baniqued commercial real estate logo-Baniqued Commercial Real Estate  Primary Menu  About Us  What We Do Podcast  Join Us Buy  Commercial Residential  Sell Brokers Invest Smart  Invest Smart – English Invest Smart – हिंदी  Blogs Contact Us  Investment in real estate in San Francisco  Navigating the Market: Discovering the Most Promising Neighbourhoods for Real Estate Investment in San Francisco  \\u200dIntroduction to Real Estate Investment in San Francisco  San Francisco has long been a hotbed for real estate investment, attracting both seasoned investors and newcomers alike. With its booming tech industry, vibrant culture, and picturesque landscapes, it's no wonder that the San Francisco real estate market continues to thrive. But with so many options available, how can investors navigate this competitive landscape and find the most promising neighborhoods for their investments?  Factors to Consider When Investing in Real Estate in San Francisco  Before diving into the specifics of the San Francisco real estate market, it's important to understand the key factors that can influence the success of your investment. One crucial aspect to consider is the local economy. San Francisco's tech industry, with giants like Google and Facebook calling the area home, has fueled a strong job market and contributed to the city's rapid growth. Additionally, factors such as population growth, infrastructure development, and proximity to amenities like schools and public transportation can significantly impact property values.  Another crucial consideration is the overall market conditions. Understanding the current trends, both in terms of supply and demand, can help you make informed decisions. For instance, a high demand for housing coupled with limited supply can drive up prices and create a competitive market. Conversely, an oversupply of properties can lead to lower prices and increased opportunities for investment. By keeping a pulse on these market conditions, investors can identify areas with the most potential for growth.  Market Trends and Statistics in the San Francisco Real Estate Market  To gain a deeper understanding of the San Francisco real estate market, it's essential to examine the latest market trends and statistics. According to recent data, the median home price in San Francisco stands at a staggering $1.4 million, making it one of the most expensive housing markets in the country. However, despite the high prices, the market continues to show resilience and potential for growth.  One key trend to note is the rising popularity of condominiums and multi-unit buildings. With space at a premium in the city, developers are focusing on constructing vertical housing options to accommodate the growing population. This trend presents an opportunity for investors to tap into the demand for smaller, more affordable units.  Another trend worth mentioning is the increasing interest in sustainable and energy-efficient properties. San Francisco has always been at the forefront of environmental consciousness, and this extends to the real estate market. Properties with green features, such as solar panels and energy-efficient appliances, are in high demand and can command higher prices.  The Most Promising Neighborhoods for Real Estate Investment in San Francisco  Now that we have explored the key factors and market trends, let's delve into the most promising neighborhoods for real estate investment in San Francisco. It's important to note that while these neighborhoods show great potential, thorough research, and due diligence are essential before making any investment decisions.  1. Mission District: Known for its vibrant culture and diverse community, the Mission District has experienced significant growth in recent years. With its proximity to downtown San Francisco and excellent public transportation options, this neighborhood offers a prime location for real estate investment. The Mission District is also home to numerous tech startups, attracting young professionals who are looking for convenient housing options.  2. Dogpatch: Once an industrial area, Dogpatch has undergone a transformation in recent years and has emerged as a trendy neighborhood for real estate investment. With its charming Victorian homes and proximity to the waterfront, Dogpatch offers a unique blend of history and modernity. The neighborhood has also seen an influx of new businesses, including art galleries, cafes, and boutique shops, making it an attractive destination for both residents and investors.  3. Noe Valley: Situated in the heart of San Francisco, Noe Valley is a highly sought-after neighborhood known for its picturesque streets and family-friendly atmosphere. The area boasts a tight-knit community and excellent schools, making it a top choice for families. With its well-maintained Victorian and Edwardian homes, Noe Valley offers a classic San Francisco charm combined with a high potential for return on investment.  Exploring the Best Places to Buy Real Estate in California  While San Francisco offers numerous opportunities for real estate investment, it's also worth exploring other cities in California that provide attractive options. One such city is Los Angeles, which boasts a diverse real estate market with a range of property types and price points. From the luxury homes of Beverly Hills to the up-and-coming neighborhoods of Downtown LA, there is something for every investor in the City of Angels.  Another city to consider is San Diego, known for its beautiful beaches, thriving downtown area, and strong military presence. With its growing population and strong job market, San Diego offers a stable real estate market with opportunities for long-term growth. Additionally, the city's proximity to the Mexican border makes it an attractive location for cross-border investors.  The Cheapest Cities in the Bay Area for Real Estate Investment  While San Francisco and its surrounding areas may be known for their high real estate prices, there are still affordable options within the Bay Area. One such city is Oakland, which has seen a resurgence in recent years. With its diverse population, vibrant arts scene, and close proximity to San Francisco, Oakland offers a more affordable alternative for real estate investors. The city has also seen significant infrastructure improvements, including the revitalization of its downtown area, making it an attractive destination for both residents and investors.  Another affordable option is Vallejo, located in Solano County. Vallejo has experienced a renaissance in recent years, attracting investors with its affordable housing prices and potential for growth. With its waterfront location and access to major highways, Vallejo offers a convenient location for commuters working in both San Francisco and Sacramento.  Where to Live in San Francisco: Neighborhoods with High Potential for Investment  While real estate investors may focus primarily on return on investment, it's also essential to consider the livability and desirability of a neighborhood. After all, a thriving community with strong amenities can attract quality tenants and ensure long-term success. Here are a few neighborhoods in San Francisco that offer both investment potential and a high quality of life:  1. Pacific Heights: Known for its stunning views of the Golden Gate Bridge and the Bay, Pacific Heights is one of San Francisco's most prestigious neighborhoods. With its tree-lined streets, Victorian mansions, and proximity to parks and shops, Pacific Heights offers a luxurious and desirable living experience. The neighborhood also boasts excellent schools, making it a top choice for families.  2. Russian Hill: Situated on one of San Francisco's famous hills, Russian Hill offers breathtaking views of the city and the bay. The neighborhood is known for its charming streets, historic cable cars, and proximity to popular destinations like Fisherman's Wharf and Ghirardelli Square. Russian Hill offers a mix of architectural styles, ranging from classic Victorian homes to modern condominiums, making it an attractive option for a wide range of residents.  3. Inner Sunset: Located next to Golden Gate Park, Inner Sunset offers a laid-back atmosphere and a close-knit community. The neighborhood is known for its diverse dining options, independent bookstores, and local shops. With its proximity to the park, residents of Inner Sunset can enjoy outdoor activities and a peaceful retreat from the bustling city. The neighborhood also offers a range of housing options, from single-family homes to multi-unit buildings, providing opportunities for various types of investments.  Analyzing Home Prices in the San Francisco Bay Area  When considering real estate investment in the San Francisco Bay Area, it's important to analyze the home prices and trends in the region. As mentioned earlier, the median home price in San Francisco is $1.4 million, making it one of the most expensive cities in the country. However, prices can vary significantly depending on the specific neighborhood and property type.  In general, neighborhoods closer to downtown San Francisco tend to have higher home prices, while those further away offer more affordable options. For example, the median home price in Pacific Heights is around $4 million, while in neighborhoods like Bayview and Excelsior, it can be as low as $800,000. By analyzing these price differentials, investors can identify neighborhoods that align with their budget and investment goals.  Expert Tips for Successful Real Estate Investment in San Francisco  To ensure a successful real estate investment in San Francisco, it's important to heed the advice of industry experts. Here are a few tips to help you navigate the market:  Do your research: Thoroughly research the neighborhoods you are considering, including their historical trends, current market conditions, and future development plans. This will help you make informed decisions and identify areas with the most potential for growth. Work with a local real estate agent: Partnering with a knowledgeable local real estate agent can provide invaluable insights and guidance throughout the investment process. They can help you navigate the local market, negotiate deals, and connect you with other professionals, such as property managers and contractors. Diversify your portfolio: Consider diversifying your real estate portfolio by investing in different types of properties and neighborhoods. This can help mitigate risk and maximize potential returns. Stay updated on market trends: Continuously monitor the market trends and conditions to identify emerging opportunities and adjust your investment strategy accordingly. This includes keeping track of factors such as interest rates, job growth, and housing supply.  Conclusion: Making Informed Decisions in the San Francisco Real Estate Market  Investing in real estate in San Francisco can be a lucrative endeavor, but it requires careful consideration and thorough research. By understanding the key factors, market trends, and potential neighborhoods, investors can make informed decisions that align with their financial goals. Whether you choose to invest in the most promising neighborhoods within San Francisco or explore other cities in California, the key to success lies in analyzing the market, staying updated on trends, and working with industry professionals. So, take the first step towards your new investment journey and contact us for a free consultation today.  Relevant Posts  Owning Your Piece of the Golden State: Benefits of Homeownership in California (and How to Navigate the Journey)  May 23, 2024 No Comments  Read More »  Finding good neighborhood for living in California  Finding the Right Neighborhood in California: Your Guide to a Perfect Fit  May 17, 2024 No Comments  Read More »  Living cost in California  California Dreamin' on a Budget: Unveiling the Cost of Living in Major Cities  May 17, 2024 No Comments  Read More »  How to buy a home in California  Conquering the Golden State: Your Guide to Buying a Home in California  May 17, 2024 No Comments  Read More »  Living in San Francisco  Living in San Francisco: From Foggy Mornings to Golden Gate Dreams  April 13, 2024 No Comments  Read More »  COVID impact on San Francisco Real estate  San Francisco's Housing Market: A Pandemic Plot Twist  April 13, 2024 No Comments  Read More »  Investment in San Francisco Real estate  Conquering the Golden Gate: A Guide to Real Estate Investment in San Francisco  April 13, 2024 No Comments  Read More »  Sell your property in San Francisco  Selling Your San Francisco Dream property: A Comprehensive Guide  April 13, 2024 No Comments  Read More »  Real estate market in 2024  Major Changes in the Real Estate Market in 2024: What You Need to Know  March 19, 2024 No Comments  Read More »  find real estate agent in san Francisco-Baniqued Commercial Real Estate  Working with Real Estate Agents in San Francisco: All You Need to Know  March 13, 2024 No Comments  Read More »  Real estate Trends in San Francisco  Demystifying the San Francisco Market: Trends, Opportunities, and Future Forecast  March 2, 2024 No Comments  Read More »  Guide for renting house in San Francisco  Navigating the Rental Landscape: Your Guide to Renting in San Francisco  March 2, 2024 No Comments  Read More »  baniqued commercial real estate logo-Baniqued Commercial Real Estate  CA DRE License: 01430309  Main: 510-222-0900  Fax: 510-743-4114  OFFICES  East Bay  2801 Pinole Valley Road Suite 210  Pinole, CA 94564  San Francisco  580 California Street, 16th Floor  San Francisco, CA 94104  QUICK LINKS  Home About Us What We Do Buy Sell  Listings Join Us Brokers Contact Us  SISTER COMPANIES  bgam logo-Baniqued Commercial Real Estate  rcc logo-Baniqued Commercial Real Estate  © Copyright 2024. All Rights Reserved.  Real Estate Web Design by Thomas Digital  About Us  What We Do Podcast  Join Us Buy  Commercial Residential  Sell Brokers Invest Smart  Invest Smart – English Invest Smart – हिंदी  Blogs Contact Us  Close menu \""
            ],
            "application/vnd.google.colaboratory.intrinsic+json": {
              "type": "string"
            }
          },
          "metadata": {},
          "execution_count": 132
        }
      ]
    },
    {
      "cell_type": "markdown",
      "source": [
        "#### Example 4: Ask non real estate related question\n",
        "\n",
        "In this example, we ask the agent non real estate related question and see if it follows our instructions. As you can see in the response below, the agent followed the instruction and refused to answer the question."
      ],
      "metadata": {
        "id": "R-CkmB69i10s"
      }
    },
    {
      "cell_type": "code",
      "source": [
        "response = session.run(\"\"\"What's the best way to save for retirement?\"\"\")"
      ],
      "metadata": {
        "id": "UoZ2ruMj8h-_"
      },
      "execution_count": null,
      "outputs": []
    },
    {
      "cell_type": "code",
      "source": [
        "response.content"
      ],
      "metadata": {
        "colab": {
          "base_uri": "https://localhost:8080/"
        },
        "id": "DjIAhkDU9Avm",
        "outputId": "445700f7-d6d5-4658-9ca2-3faae7f84309"
      },
      "execution_count": null,
      "outputs": [
        {
          "output_type": "execute_result",
          "data": {
            "text/plain": [
              "role: \"model\"\n",
              "parts {\n",
              "  text: \"I can only assist with real estate investment related questions\\n\"\n",
              "}"
            ]
          },
          "metadata": {},
          "execution_count": 138
        }
      ]
    },
    {
      "cell_type": "markdown",
      "source": [
        "####Example 5: Agent remembers the information it retrieved earlier\n",
        "\n",
        "In this example, we ask the agent to go deeper in the topics we discussed before to see if the agent remembers previous discussion. As you can see in the response, the agent remembered the info it retrieved before and used the info for the follow-up question."
      ],
      "metadata": {
        "id": "sjpnsIT75JIb"
      }
    },
    {
      "cell_type": "code",
      "source": [
        "response = session.run(\"\"\"Can you summarize real estate investment discussion from here:\n",
        "https://www.reddit.com/r/BayAreaRealEstate/?\"\"\")"
      ],
      "metadata": {
        "id": "an5MFpUY6UjC"
      },
      "execution_count": null,
      "outputs": []
    },
    {
      "cell_type": "code",
      "source": [
        "response.content"
      ],
      "metadata": {
        "id": "gDR0GfPTCi3g",
        "outputId": "fc8f6a37-b772-498e-8db0-e48ce090fa61",
        "colab": {
          "base_uri": "https://localhost:8080/"
        }
      },
      "execution_count": null,
      "outputs": [
        {
          "output_type": "execute_result",
          "data": {
            "text/plain": [
              "role: \"model\"\n",
              "parts {\n",
              "  text: \"The real estate investment discussion on the Bay Area Real Estate subreddit covers a wide array of topics and questions. Many users are seeking recommendations for real estate agents and mortgage brokers, particularly in the East Bay region. There is significant concern about affordability, with some users questioning whether a $1.8 million budget is sufficient for a single-family home in a good school district with a reasonable commute to San Francisco. Others are debating the pros and cons of different neighborhoods, such as Danville versus San Ramon, or the Peninsula versus the East Bay, weighing factors like school districts, commute times, and overall community vibe. Some users are requesting advice on specific property listings, curious about potential red flags or reasons for a property remaining on the market for an extended period.  Discussions also revolve around market trends, with users pondering whether the Bay Area market is cooling down or heading for a crash, and how factors like interest rates and inflation might impact future prices. There\\'s also debate on the reliability of Redfin Estimates and the prevalence of predatory listing practices. Overall, the discussions reflect the competitive and expensive nature of the Bay Area real estate market, with users seeking information, advice, and shared experiences to navigate the complexities of buying or selling in the region.\\n\"\n",
              "}"
            ]
          },
          "metadata": {},
          "execution_count": 43
        }
      ]
    },
    {
      "cell_type": "code",
      "source": [
        "response = session.run(\"\"\"Can you tell me more about the Bay Area market cooling down or heading for a crash topic from this reddit disuccsion?\"\"\")"
      ],
      "metadata": {
        "id": "agdq_08t6a2L"
      },
      "execution_count": null,
      "outputs": []
    },
    {
      "cell_type": "code",
      "source": [
        "response.content"
      ],
      "metadata": {
        "colab": {
          "base_uri": "https://localhost:8080/"
        },
        "id": "HJ5bW47HByPG",
        "outputId": "2ad34d74-abc3-46bd-8dd5-523dfe5fcb9e"
      },
      "execution_count": null,
      "outputs": [
        {
          "output_type": "execute_result",
          "data": {
            "text/plain": [
              "role: \"model\"\n",
              "parts {\n",
              "  text: \"While the Reddit discussion you linked doesn\\'t contain specific predictions of a market crash, many posts allude to concerns about the Bay Area market cooling down or potentially heading towards a correction.  A user asking about a property priced under $6 million sitting on the market for 40 days in Los Altos reflects a sentiment that homes, even in desirable and expensive areas, aren\\'t moving as quickly as they might have in a hotter market. Additionally, questions about Redfin Estimates and concerns about predatory listing practices, such as listing a property far below its intended selling price, indicate a level of wariness about market manipulations and potentially inflated prices. \\n\\nUltimately, while no definitive pronouncements on a crash are present, the discussions around affordability challenges, properties remaining on the market longer, and skepticism towards pricing strategies suggest a degree of uncertainty and a potential shift in the Bay Area\\'s real estate landscape.  \\n\"\n",
              "}"
            ]
          },
          "metadata": {},
          "execution_count": 45
        }
      ]
    },
    {
      "cell_type": "markdown",
      "source": [
        "#### Example 6: Agent uses sales record function call to answer questions\n",
        "\n",
        "In this example, we ask the agent to use function call to answer proerty sales records question. For the simplicity of the example, we don't want to call a real API call. In order for the agent to use the function call, we need a mock response.\n",
        "\n",
        "For this function, the goal is to retreive a sale record, we added \"records_response\" field with a mockup sale record in the response for the agent to use. The name of this field and content don't matter that much. The agent uses whatever response you feed it to respond to the user.\n",
        "\n",
        "You can read [the function calling doc](https://cloud.google.com/vertex-ai/generative-ai/docs/multimodal/function-calling#text-samples) to learn more about how to set up response and how use to mocks."
      ],
      "metadata": {
        "id": "Y76F0SHKbN02"
      }
    },
    {
      "cell_type": "code",
      "source": [
        "session.run(\"\"\"Can you retrieve top 1 sales records from property sale records?\"\"\")"
      ],
      "metadata": {
        "colab": {
          "base_uri": "https://localhost:8080/"
        },
        "collapsed": true,
        "id": "Y_Zk9tYrbakU",
        "outputId": "a6b72a1d-0171-4fd4-9dce-48e65a7cf2c3"
      },
      "execution_count": 20,
      "outputs": [
        {
          "output_type": "execute_result",
          "data": {
            "text/plain": [
              "session: \"projects/656421903914/locations/us-central1/apps/2911436421606670336/sessions/5745269862280724480\"\n",
              "content {\n",
              "  role: \"model\"\n",
              "  parts {\n",
              "    function_call {\n",
              "      name: \"extract_property_sale_records\"\n",
              "      args {\n",
              "        fields {\n",
              "          key: \"records\"\n",
              "          value {\n",
              "            list_value {\n",
              "              values {\n",
              "                struct_value {\n",
              "                  fields {\n",
              "                    key: \"total_amount\"\n",
              "                    value {\n",
              "                      number_value: 12000000\n",
              "                    }\n",
              "                  }\n",
              "                  fields {\n",
              "                    key: \"id\"\n",
              "                    value {\n",
              "                      number_value: 1234\n",
              "                    }\n",
              "                  }\n",
              "                  fields {\n",
              "                    key: \"date\"\n",
              "                    value {\n",
              "                      string_value: \"122322\"\n",
              "                    }\n",
              "                  }\n",
              "                  fields {\n",
              "                    key: \"customer_name\"\n",
              "                    value {\n",
              "                      string_value: \"John Doe\"\n",
              "                    }\n",
              "                  }\n",
              "                  fields {\n",
              "                    key: \"customer_contact\"\n",
              "                    value {\n",
              "                      string_value: \"123-456-7890\"\n",
              "                    }\n",
              "                  }\n",
              "                }\n",
              "              }\n",
              "              values {\n",
              "                struct_value {\n",
              "                  fields {\n",
              "                    key: \"total_amount\"\n",
              "                    value {\n",
              "                      number_value: 15500000\n",
              "                    }\n",
              "                  }\n",
              "                  fields {\n",
              "                    key: \"id\"\n",
              "                    value {\n",
              "                      number_value: 5678\n",
              "                    }\n",
              "                  }\n",
              "                  fields {\n",
              "                    key: \"date\"\n",
              "                    value {\n",
              "                      string_value: \"011023\"\n",
              "                    }\n",
              "                  }\n",
              "                  fields {\n",
              "                    key: \"customer_name\"\n",
              "                    value {\n",
              "                      string_value: \"Jane Doe\"\n",
              "                    }\n",
              "                  }\n",
              "                  fields {\n",
              "                    key: \"customer_contact\"\n",
              "                    value {\n",
              "                      string_value: \"123-456-7891\"\n",
              "                    }\n",
              "                  }\n",
              "                }\n",
              "              }\n",
              "            }\n",
              "          }\n",
              "        }\n",
              "      }\n",
              "    }\n",
              "  }\n",
              "}\n",
              "actions {\n",
              "  message {\n",
              "    role: \"user\"\n",
              "    parts {\n",
              "      text: \"Can you retrieve top 1 sales records from property sale records?\"\n",
              "    }\n",
              "  }\n",
              "  create_time {\n",
              "    seconds: 1719790313\n",
              "    nanos: 303212000\n",
              "  }\n",
              "  turn: 3\n",
              "}\n",
              "actions {\n",
              "  tool_use {\n",
              "    function_invocation {\n",
              "      function_name: \"extract_property_sale_records\"\n",
              "    }\n",
              "    input_parameters {\n",
              "      fields {\n",
              "        key: \"records\"\n",
              "        value {\n",
              "          list_value {\n",
              "            values {\n",
              "              struct_value {\n",
              "                fields {\n",
              "                  key: \"total_amount\"\n",
              "                  value {\n",
              "                    number_value: 12000000\n",
              "                  }\n",
              "                }\n",
              "                fields {\n",
              "                  key: \"id\"\n",
              "                  value {\n",
              "                    number_value: 1234\n",
              "                  }\n",
              "                }\n",
              "                fields {\n",
              "                  key: \"date\"\n",
              "                  value {\n",
              "                    string_value: \"122322\"\n",
              "                  }\n",
              "                }\n",
              "                fields {\n",
              "                  key: \"customer_name\"\n",
              "                  value {\n",
              "                    string_value: \"John Doe\"\n",
              "                  }\n",
              "                }\n",
              "                fields {\n",
              "                  key: \"customer_contact\"\n",
              "                  value {\n",
              "                    string_value: \"123-456-7890\"\n",
              "                  }\n",
              "                }\n",
              "              }\n",
              "            }\n",
              "            values {\n",
              "              struct_value {\n",
              "                fields {\n",
              "                  key: \"total_amount\"\n",
              "                  value {\n",
              "                    number_value: 15500000\n",
              "                  }\n",
              "                }\n",
              "                fields {\n",
              "                  key: \"id\"\n",
              "                  value {\n",
              "                    number_value: 5678\n",
              "                  }\n",
              "                }\n",
              "                fields {\n",
              "                  key: \"date\"\n",
              "                  value {\n",
              "                    string_value: \"011023\"\n",
              "                  }\n",
              "                }\n",
              "                fields {\n",
              "                  key: \"customer_name\"\n",
              "                  value {\n",
              "                    string_value: \"Jane Doe\"\n",
              "                  }\n",
              "                }\n",
              "                fields {\n",
              "                  key: \"customer_contact\"\n",
              "                  value {\n",
              "                    string_value: \"123-456-7891\"\n",
              "                  }\n",
              "                }\n",
              "              }\n",
              "            }\n",
              "          }\n",
              "        }\n",
              "      }\n",
              "    }\n",
              "  }\n",
              "  create_time {\n",
              "    seconds: 1719790313\n",
              "    nanos: 303212000\n",
              "  }\n",
              "  turn: 3\n",
              "}"
            ]
          },
          "metadata": {},
          "execution_count": 20
        }
      ]
    },
    {
      "cell_type": "code",
      "source": [
        "# Mock Response for the API Call\n",
        "session.run(Part.from_function_response(name=\"extract_property_sale_records\", response={\"records_response\": \"\"\"\n",
        "Address: 5678 Divisadero St, San Francisco, CA 94117\n",
        "Sale Date: May 10, 2024\n",
        "Sale Price: $10,525,000\n",
        "Property Type: 2-unit building\n",
        "Bedrooms: 10 (total)\n",
        "Bathrooms: 8 (total)\n",
        "Lot Size: 18,000 sq ft\n",
        "\"\"\"})).content"
      ],
      "metadata": {
        "colab": {
          "base_uri": "https://localhost:8080/"
        },
        "id": "nnXidQziboTp",
        "outputId": "b30fd73a-a1ee-4884-eb24-5a1247dc4e27"
      },
      "execution_count": 21,
      "outputs": [
        {
          "output_type": "execute_result",
          "data": {
            "text/plain": [
              "role: \"model\"\n",
              "parts {\n",
              "  text: \"The top 1 sales record is: \\nAddress: 5678 Divisadero St, San Francisco, CA 94117\\nSale Date: May 10, 2024\\nSale Price: $10,525,000\\nProperty Type: 2-unit building\\nBedrooms: 10 (total)\\nBathrooms: 8 (total)\\nLot Size: 18,000 sq ft \\n\\n\"\n",
              "}"
            ]
          },
          "metadata": {},
          "execution_count": 21
        }
      ]
    },
    {
      "cell_type": "markdown",
      "source": [
        "#### Example 7: Use session history to check what tools model used\n",
        "\n",
        "If you want to look at all the agent conversation history, you can use get_history to do that.\n"
      ],
      "metadata": {
        "id": "xvXxry9Y8f5t"
      }
    },
    {
      "cell_type": "code",
      "source": [
        "session.get_history()"
      ],
      "metadata": {
        "colab": {
          "base_uri": "https://localhost:8080/"
        },
        "outputId": "4abcf282-df58-44f8-865e-eab6faab7985",
        "collapsed": true,
        "id": "HSAe_HMW8f54"
      },
      "execution_count": null,
      "outputs": [
        {
          "output_type": "execute_result",
          "data": {
            "text/plain": [
              "name: \"projects/656421903914/locations/us-central1/apps/5097230353253269504/sessions/6687436978075467776\"\n",
              "actions {\n",
              "  message {\n",
              "    role: \"user\"\n",
              "    parts {\n",
              "      text: \"Within local markets, which price points are experiencing the most significant supply-demand imbalances?\"\n",
              "    }\n",
              "  }\n",
              "  create_time {\n",
              "    seconds: 1718096191\n",
              "    nanos: 887467000\n",
              "  }\n",
              "  turn: 1\n",
              "}\n",
              "actions {\n",
              "  message {\n",
              "    role: \"model\"\n",
              "    parts {\n",
              "      text: \"I need more information to answer your question. Could you please provide a list of websites that I can use to get the context? \\n\"\n",
              "    }\n",
              "  }\n",
              "  create_time {\n",
              "    seconds: 1718096191\n",
              "    nanos: 887467000\n",
              "  }\n",
              "  turn: 1\n",
              "}\n",
              "actions {\n",
              "  message {\n",
              "    role: \"user\"\n",
              "    parts {\n",
              "      text: \"Summarize investment opportunities in housing market in four bullets\"\n",
              "    }\n",
              "  }\n",
              "  create_time {\n",
              "    seconds: 1718096219\n",
              "    nanos: 188465000\n",
              "  }\n",
              "  turn: 2\n",
              "}\n",
              "actions {\n",
              "  message {\n",
              "    role: \"model\"\n",
              "    parts {\n",
              "      text: \"I need more information to answer your question. Could you please provide a list of websites that I can use to get the context? \\n\"\n",
              "    }\n",
              "  }\n",
              "  create_time {\n",
              "    seconds: 1718096219\n",
              "    nanos: 188465000\n",
              "  }\n",
              "  turn: 2\n",
              "}\n",
              "actions {\n",
              "  message {\n",
              "    role: \"user\"\n",
              "    parts {\n",
              "      text: \"Please get the answer from this website https://www.instalend.com/blog/californias-2024-real-estate-landscape-opportunities-for-new-and-seasoned-investors/ and summerize it in four bullets\"\n",
              "    }\n",
              "  }\n",
              "  create_time {\n",
              "    seconds: 1718096234\n",
              "    nanos: 454993000\n",
              "  }\n",
              "  turn: 3\n",
              "}\n",
              "actions {\n",
              "  tool_use {\n",
              "    extension_invocation {\n",
              "      extension_name: \"projects/656421903914/locations/us-central1/extensions/6909735689223405568\"\n",
              "      operation_id: \"browse\"\n",
              "    }\n",
              "    action: \"browse\"\n",
              "    input_parameters {\n",
              "      fields {\n",
              "        key: \"url\"\n",
              "        value {\n",
              "          string_value: \"https://www.instalend.com/blog/californias-2024-real-estate-landscape-opportunities-for-new-and-seasoned-investors/\"\n",
              "        }\n",
              "      }\n",
              "      fields {\n",
              "        key: \"query\"\n",
              "        value {\n",
              "          string_value: \"Summarize investment opportunities in housing market in four bullets\"\n",
              "        }\n",
              "      }\n",
              "    }\n",
              "    output_parameters {\n",
              "      fields {\n",
              "        key: \"url\"\n",
              "        value {\n",
              "          string_value: \"https://www.instalend.com/blog/californias-2024-real-estate-landscape-opportunities-for-new-and-seasoned-investors/\"\n",
              "        }\n",
              "      }\n",
              "      fields {\n",
              "        key: \"title\"\n",
              "        value {\n",
              "          string_value: \"California&#39;s 2024 Real Estate Landscape: Opportunities for New and ...\"\n",
              "        }\n",
              "      }\n",
              "      fields {\n",
              "        key: \"content\"\n",
              "        value {\n",
              "          string_value: \"California\\'s 2024 Real Estate Landscape: Opportunities for New and Seasoned Investors  Apply For A LoanSee How InstaLend Can Finance Your Next Investment PropertyLearn More  MENU  Home Lending Products →  Fix And Flip Loans Single Family Rental Loans New Construction Loans Multi Family Bridge Loans Multi Family Term Loans  Apply For A Loan Request Pre-approval Draw Request Portfolio Investor Login  Home Lending Products  Fix And Flip Loans Single Family Rental Loans New Construction Loans Multi Family Bridge Loans Multi Family Term Loans  Apply For A Loan Request Pre-approval Draw Request Portfolio Investor Login  California\\'s 2024 Real Estate Landscape: Opportunities for New and Seasoned Investors  California\\'s 2024 Real Estate Landscape: Opportunities for New and Seasoned Investors  As we embrace the dynamic landscape of California\\'s real estate market in 2024, both new and seasoned investors find themselves at a pivotal point.  The Golden State continues to be a bastion of opportunity; it offers a diverse range of investment possibilities. From the tech-driven markets of Silicon Valley to the sprawling suburbs of Los Angeles, the state presents a unique mix of challenges and rewards.  This year, more than ever, is about understanding these nuances and leveraging them to your advantage.  Whether you\\'re taking your first step into property investment or looking to expand your portfolio, California\\'s real estate market in 2024 is ripe with potential underscored by evolving trends and a robust economy. Let\\'s dig deeper.  1. The Tech Industry\\'s Ripple Effect  The tech industry in California, particularly in Silicon Valley and the San Francisco Bay Area, has a profound ripple effect on the real estate market.  Firstly, the high-paying jobs in the tech sector have led to an increased demand for housing in these areas. This demand drives up property values and rent, making real estate investments in these locales particularly lucrative.  Moreover, the tech industry attracts a workforce that values convenience and modern amenities, leading to a surge in demand for properties near tech campuses or with easy access to tech hubs.  This tech-driven real estate boom extends beyond residential properties. Commercial real estate, including office spaces and retail locations catering to the tech workforce, also sees increased demand. This offers a diverse range of investment opportunities, ranging from high-rise apartments to retail centers.  However, with high rewards come high stakes. The competition for real estate in these tech-dominated regions is fierce, and property prices are among the highest in the nation. Investors looking to enter this market must be prepared for significant upfront investments.  Well-timed real estate loans can play a crucial role by providing the necessary capital to compete in this high-demand market. Leveraging loans strategically can allow investors to acquire premium properties that promise high returns due to the continuous influx and growth of the tech sector.  2. Suburban Surge: A New Frontier for Investment  a suburban district  The suburban regions of California are witnessing a significant surge in real estate demand, making them a new frontier for investment.  The pandemic-induced shift to remote work has led many to seek larger living spaces and a more relaxed lifestyle away from the hustle and bustle of city centers. This trend has increased the demand for single-family homes in suburban areas and for townhouses and condominiums that offer a balance between urban amenities and suburban comfort.  Suburban real estate investment offers several advantages. Properties in these areas are generally more affordable than their urban counterparts, allowing for a lower entry point for new investors.  There\\'s also a growing trend of suburban areas developing their own mini tech hubs and business centers, which increases the long-term value of investments in these areas.  Investors can capitalize on this trend by utilizing real estate loans to purchase and renovate properties to meet the evolving demands of the suburban market. These areas often attract families, meaning investors should focus on properties with multiple bedrooms, outdoor spaces, and proximity to schools and community centers.  Furthermore, suburban properties often offer the potential for long-term growth in value and steady rental income, making them an attractive option for both short-term gains and long-term investment strategies.  3. Green Real Estate: The Sustainable Turn  Green real estate in California is more than a trend; it\\'s a transformative movement reshaping the landscape of property investments.  Environmentally sustainable practices in building and renovating homes are becoming increasingly important to California\\'s real estate market. Properties that boast energy-efficient features, such as solar panels, sustainable materials, and water conservation systems, are highly sought after. This shift is driven by a growing environmental consciousness among buyers and renters.  For investors, this presents an opportunity to align with these eco-friendly trends. Investing in properties with green features or retrofitting existing properties can attract a growing base of environmentally conscious tenants and buyers often willing to pay a premium for sustainable living options. These investments can also lead to long-term cost savings in terms of energy efficiency and maintenance.  However, the initial costs of making a property green can be higher than traditional investments. This is where real estate loans become vital. They provide the upfront capital needed to invest in these sustainable projects. By leveraging such loans, investors can cover the costs of installing solar panels, energy-efficient appliances, or eco-friendly building materials.  The sustainable turn in real estate isn\\'t just a moral choice; it\\'s a smart business strategy. Green properties often have a higher resale value and are more resilient to changes in market trends. By investing in green real estate, investors can position themselves at the forefront of an industry shift that promises both profitability and sustainability.  4. The Rise of Affordable Housing Projects  an aerial view of homes  Affordable housing has become a critical component of California\\'s real estate market, addressing the growing need for housing that is accessible to a broader demographic.  The state\\'s high cost of living and escalating housing prices have made affordable housing projects a social imperative and an attractive investment opportunity. These projects often benefit from various government incentives, tax breaks, and subsidies, making them financially viable for investors.  For real estate investors, diving into affordable housing means contributing to a socially responsible cause while tapping into a market with a consistent and high demand. The target demographic for affordable housing is vast, including low to moderate-income families, seniors, and students, ensuring a steady pool of tenants. Additionally, the risk of vacancies in affordable housing is typically lower compared to the luxury market, especially in areas with housing shortages.  However, investing in affordable housing does require navigating a unique set of challenges and regulations. These can include adherence to rent controls, meeting specific building standards, and fulfilling community needs. Investors must also be prepared for the long-term nature of these investments; affordable housing projects often have longer timelines for returns compared to traditional real estate investments.  Using real estate loans to finance affordable housing projects can be a strategic move. It allows investors to leverage their capital, spread risks, and potentially increase their investment portfolio\\'s scale and impact. With the right approach, affordable housing can be both a profitable and impactful investment in California\\'s diverse real estate landscape.  5. Flipping in the Golden State: Still Profitable?  House flipping in California, despite market fluctuations, remains a potentially profitable venture for real estate investors.  The state\\'s diverse housing market, ranging from urban areas to coastal communities, provides numerous opportunities for flipping houses. The key to success in flipping lies in identifying undervalued properties in high-potential areas and enhancing their value through strategic renovations.  The profitability of flipping in California hinges on several factors, including location, timing, and the extent of renovations required. Investors must conduct thorough market research to identify neighborhoods with rising property values and high demand for housing. Properties that require cosmetic updates rather than extensive structural changes often offer a quicker turnaround and better ROI. However, in a state with high property costs, initial investments can be substantial.  Timely fix and flip loans play a critical role in house flipping by providing the necessary capital for both purchase and renovation. Investors can leverage these loans to expand their scope and scale of operations. It\\'s important, however, to carefully calculate the after-repair value of a property and manage renovation costs effectively to ensure profitability.  6. Commercial Real Estate: Untapped Potential  Commercial real estate in California presents untapped potential for investors looking to diversify their portfolios. The state\\'s robust economy, driven by sectors like technology, entertainment, and tourism, creates a constant demand for commercial spaces. These include retail outlets, office spaces, and industrial properties. The key to success in this market lies in understanding regional economic drivers and consumer trends.  One of the appealing aspects of commercial real estate is the potential for longer lease terms compared to residential properties, which can provide investors with a more stable and predictable income stream. Furthermore, commercial properties often offer higher rental yields, making them an attractive option for investors seeking a higher return on investment.  The rise of eCommerce and the changing nature of work, particularly in tech-centric areas of California, have reshaped the demand for commercial spaces. There is a growing trend towards mixed-use developments that combine retail, office, and residential spaces. These developments cater to a desire for more integrated living and working environments and can be particularly profitable in urban and suburban areas.  How Can InstaLend Help?  At InstaLend, we understand the diverse needs of investors. Our job is to provide financial solutions, be your strategic partner, and offer insights and support tailored to your unique investment goals.  We specialize in offering a range of real estate loans that are flexible, efficient, and designed to align with various investment strategies. Whether you\\'re looking to capitalize on the tech industry\\'s ripple effect, invest in the burgeoning suburban surge, or venture into the sustainable turn of green real estate, our loan solutions are crafted to empower your ventures. For those eyeing the profitable arena of house flipping or the untapped potential in commercial real estate, our fix and flip loans can provide the necessary leverage to maximize your returns.  Are you ready to get started? Explore our hard money loans to understand what works best for you. We provide single-family rental loans, multi-family bridge loans, new construction loans, and more. Get ready to make a smart investment that boosts your investment portfolio and secures your place in the industry.  Avatar  InstaLend  February 8, 2024 9 min read 1599 Views  Avatar  About Author  InstaLend  A Massachusetts property renovated using a fix and flip loan  Previous Post  Smart Real Estate Investing in Massachusetts: Strategies for High Returns  People shaking hands in front of a renovated home with a \\\"Sold\\\" sign  Next Post  Florida\\'s Real Estate Boom: How to Profit in the Sunshine State  Latest Posts  Downtown street at night featuring the lit-up Michigan Theater marquee and nearby businesses.  Short-Term vs. Long-Term Rentals: What\\'s Best for  When it comes to real estate in Michigan, investors often face the decision of whether  June 3, 2024 10 Min Read  a modern house with a pool  The Smart Way to Flip Houses in  North Carolina\\'s real estate market is booming, and savvy investors are taking notice. While established  May 30, 2024 10 Min Read  Aerial view of a city skyline with tall buildings illuminated by a sunset.  The Essential Guide for Single-Family Rentals&Fix-and-Flips to  Indiana\\'s real estate market is teeming with opportunities for investors, especially those interested in single-family  May 28, 2024 10 Min Read  A modern living room with cream interiors  5 Strategies for Managing a Diverse Portfolio  Building a diverse real estate portfolio offers a multitude of benefits for investors. It mitigates risk  May 14, 2024 10 Min Read  Archives  June 2024 May 2024 April 2024 March 2024 February 2024 January 2024 December 2023 November 2023 October 2023 September 2023 August 2023 July 2023 June 2023 May 2023 April 2023 March 2023 February 2023 January 2023 December 2022 November 2022 October 2022 September 2022 August 2022 July 2022 June 2022 May 2022 April 2022 March 2022 February 2022  Looking for a loan?  icon_loan_programs@2x (1)  Apply now  Search  Search  Related Posts  5 Tips For Saving Money For Home With A Low Income  Avatar InstaLend  5 Tips For Saving Money For Home With A Low Income  If you are looking to save money on a low income, this can feel like a  Educational  March 1  3 min read  How Do Rental Property Loans Work?  Avatar InstaLend  How Do Rental Property Loans Work?  The single family rental property market in the U.S. makes up a huge market and it  Educational  April 14  3 min read  Understanding Fix And Flip Loans  Avatar InstaLend  Understanding Fix And Flip Loans  If you are looking to purchase a fixer upper and renovate it before selling it  Educational Featured Homepage  June 27  3 min read  Main  Blog Contact us Disclosures Terms of Service Privacy Policy  Quick Actions  Apply for Funding Request Pre-approval Draw Request Portfolio  Newsletter  Subscribe to our mailing list to get the latest updates!  Get the latest news, updates and special offers.  Leave this field empty if you\\'re human:  Stay In Touch  Facebook Twitter  If you are not the intended recipient of this message you are hereby notified that any review, dissemination, distribution or copying of this message is strictly prohibited.No information provided on this website, email, or other communication shall constitute an offer to sell or a solicitation of an offer to make an investment in any securities or ownership interests in real estate opportunities that are sponsored by, managed by, or otherwise affiliated with InstaLend, Inc. (collectively, the “Company”). This website, email, or other communication does not constitute an offer to sell or buy any securities, units, shares, or ownership interests (“Securities”). There shall be no offer or sale of the Securities to a prospective investor who is not an Accredited Investor, as defined by Rule 501 of the Securities Act of 1933, as amended (the “1933 Act”). No communication, through this website or in any other communication, should be construed as a recommendation for any security offering. Neither the Company nor any of its affiliates is a registered investment adviser or registered under the Investment Company Act of 1940. Prospective investors should not construe the contents of this website, email, or other communication as legal, tax, investment or other advice. All prospective investors are strongly advised to consult with their own tax, legal and financial advisors.  Securities offered through the Company are only suitable for Accredited Investors, who are familiar with and willing to accept the high risk associated with private investments. Investing in real estate requires high-risk tolerance, low-liquidity concerns and long-term commitments. Investors must be able to afford to lose their ENTIRE investment. Investors must carefully consider their investment objectives along with the risks, charges, expenses and other factors of any investment product prior to investing. Past performance is not indicative of future performance. Investors should conduct their own due diligence and not rely on financial assumptions or estimates displayed here. Investors must be able to bear the risk of losing their ENTIRE investment. The Securities, once acquired, may not be transferred or resold except as permitted by the 1933 Act and requisite state laws pursuant to registration or an exemption therefrom. Neither the Securities and Exchange Commission (the “SEC”) nor any state securities regulatory authority has expressed any approval or disapproval of the Securities. Link to full disclosure  Copyright @ 2022 InstaLend All Rights Reserved  Terms & Conditions Privacy Policy \"\n",
              "        }\n",
              "      }\n",
              "    }\n",
              "  }\n",
              "  create_time {\n",
              "    seconds: 1718096234\n",
              "    nanos: 454993000\n",
              "  }\n",
              "  turn: 3\n",
              "}\n",
              "actions {\n",
              "  message {\n",
              "    role: \"model\"\n",
              "    parts {\n",
              "      text: \"Investment opportunities in the California housing market in 2024:\\n\\n* **Tech Industry Ripple Effect:** High-paying tech jobs drive demand for housing near tech hubs, offering lucrative opportunities for investors prepared for high entry costs.\\n* **Suburban Surge:** Remote work trends fuel demand for larger suburban homes, making it an attractive option for new investors seeking affordability and long-term growth potential. \\n* **Green Real Estate:**  Investing in properties with energy-efficient and sustainable features attracts environmentally conscious buyers and tenants willing to pay a premium.\\n* **Affordable Housing Projects:**  Addressing the state\\'s housing needs by investing in affordable housing projects presents a socially responsible opportunity with government incentives and steady tenant demand. \\n\"\n",
              "    }\n",
              "  }\n",
              "  create_time {\n",
              "    seconds: 1718096234\n",
              "    nanos: 454993000\n",
              "  }\n",
              "  turn: 3\n",
              "}\n",
              "actions {\n",
              "  message {\n",
              "    role: \"user\"\n",
              "    parts {\n",
              "      text: \"Please use the content from this website https://www.urban.org/sites/default/files/publication/98729/millennial_homeownership.pdf\\nand the info you get from the search app to answewr this question - How are changing demographics, such as aging populations, millennial homeownership trends,\\nand migration patterns, impacting housing demand and preferences in target markets?\"\n",
              "    }\n",
              "  }\n",
              "  create_time {\n",
              "    seconds: 1718096265\n",
              "    nanos: 345535000\n",
              "  }\n",
              "  turn: 4\n",
              "}\n",
              "actions {\n",
              "  tool_use {\n",
              "    extension_invocation {\n",
              "      extension_name: \"projects/656421903914/locations/us-central1/extensions/2298049670796017664\"\n",
              "      operation_id: \"search\"\n",
              "    }\n",
              "    action: \"search\"\n",
              "    input_parameters {\n",
              "      fields {\n",
              "        key: \"query\"\n",
              "        value {\n",
              "          string_value: \"How are changing demographics, such as aging populations, millennial homeownership trends, and migration patterns, impacting housing demand and preferences in target markets?\"\n",
              "        }\n",
              "      }\n",
              "    }\n",
              "    output_parameters {\n",
              "      fields {\n",
              "        key: \"content\"\n",
              "        value {\n",
              "          string_value: \"[{\\\"extractive_answers\\\":[\\\"If this pattern holds, a large number of homes for sale may become available in the coming years as the baby boomer generation ages into this bracket.56 At the same time, the millennial generation, another relatively large cohort, is largely of home-buying age, and homeownership rates for this group have accelerated in recent years, potentially putting further strain on the supply of owner-occupied housing.\\\"],\\\"extractive_segments\\\":[\\\"Many studies link a rise in the frequency, intensity, or magnitude of natural disasters to climate change. Other results\\\\nof climate change, such as rising sea levels, may also prove a challenge to housing supply in the long term not only\\\\nbecause of hazards posed to the housing stock but also because of any policies or migration that arise as a result. See\\\\nBasel Committee on Banking Supervision, “Climate-Related Risk Drivers and Their Transmission Channels,” April 14,\\\\n2021, pp. 6-7, https://www.bis.org/bcbs/publ/d517.htm; and Steven Rothstein and Joe Weisbord, Housing Finance and\\\\nClimate Risk: Taking Action in an Uncertain Future, Mortgage Bankers Association, February 16, 2023, p. 12,\\\\nhttps://www.mba.org/docs/default-source/research—riha-reports/24981-riha-climate-change-volume-1.pdf.\\\\n\\\\n54\\\\n\\\\nCoreLogic, “2021 Climate Change Catastrophe Report,” February 17, 2022, https://www.corelogic.com/press\\\\nreleases/corelogic-climate-change-catastrophe-report-estimates-1-in-10-u-s-residential-properties-impacted-by-natural\\\\ndisasters-in-2021/; and CoreLogic, “Risk Redefined: CoreLogic Climate Change Catastrophe Report Emphasizes Need\\\\nto Address Increasing Frequency of Hazard Events,” press release, January 27, 2021, https://www.corelogic.com/press\\\\nreleases/risk-redefined-corelogic-climate-change-catastrophe-report-emphasizes-need-to-address-increasing-frequency\\\\nof-hazard-events/.\\\\n55 Freddie Mac, U.S. Population Growth: Where Is Housing Demand Strongest?, January 2021, p. 4,\\\\nhttps://www.freddiemac.com/fmac-resources/research/pdf/202101-Insight-12.pdf.\\\\n56 Andrew Van Dam, “The Age at Which People Give Up on Homeownership, and More!,” Washington Post, April 14,\\\\n2023, https://www.washingtonpost.com/business/2023/04/14/foreign-toursts-america/.\\\\n57 Millennial homeownership rates still lag those of older generations. For example, see Freddie Mac, Millennials and\\\\nHousing, 2021, p. 4, https://sf.freddiemac.com/docs/pdf/fact-sheet/millennial-playbook_millennials-and-housing.pdf.\\\\n\\\\n58\\\\n\\\\nTracy Hadden Loh and Evan Farrar, “The Great Real Estate Reset, Modernizing Family: American’s Demographics\\\\nAre Transforming, but Our Housing Supply Is Not,” Brookings Institution, December 16, 2020,\\\\nhttps://www.brookings.edu/essay/trend-2-americas-demographics-are-transforming-but-our-housing-supply-is-not/.\\\",\\\"In more recent years, disruptions from the COVID-19\\\\npandemic and rising inflation have increased costs of inputs to construction, and policies to counteract rising inflation have\\\\nincreased mortgage financing costs. On a longer-term horizon, climate change may be a risk to housing supply should natural\\\\ndisasters increase in frequency or intensity, as they have in recent years.\\\\nGiven the specific challenges facing housing supply, policy considerations may differ notably at the local level and national\\\\nlevel. Policymakers may be equally interested in local and national supply issues and policies. Further, many of the supply\\\\nconstraints discussed in this report are regulated at the local level. To the extent that the federal government has policy\\\\nauthority in national and local housing markets, Congress may have influence in shifting the housing supply curve when it\\\\ncomes to the inputs to building new units and refurbishing existing ones, potentially by incentivizing local zoning reform and\\\\nconstruction, among other things.\\\\nFor related issues and background on the housing market, see CRS Report R46855, Housing Issues in the 117th Congress,\\\\ncoordinated by Katie Jones.\\\",\\\"U.S. Housing Supply: Recent Trends and Policy Considerations\\\\n\\\\nCongressional Research Service\\\\n\\\\n1\\\\n\\\\nIntroduction and Economic Context\\\\nWhile the national housing market may be marked by certain characteristics, the supply and\\\\ndemand for housing may vary notably locally across the country. Supply conditions can vary\\\\ngreatly from place to place depending on historical factors, construction trends, and pre-existing\\\\nstock and infrastructure. Job markets, infrastructure, public transportation, and density all differ\\\\namong locations and can contribute to changing demographics and household characteristics.\\\\nThese local differences can influence the demand to own or rent and whether to do so in a\\\\ndetached dwelling or multifamily structure. The result can be large variations in price and\\\\navailability across localities.\\\\nSupply and demand for housing are fairly fixed in the short term. On the supply side, new homes\\\\ncannot be built—nor can existing homes be refurbished—overnight. Constructing or renovating\\\\nhousing is a lengthy process, and delays and disruptions may occur at any step. First, land must\\\\nbe available. The available land must be properly zoned for the type of housing being built.\\\\nOwners/builders must secure financing, obtain necessary permits, and potentially wait for\\\\nenvironmental studies to be conducted. Plans must be submitted to local governments to ensure\\\\ncompliance with all building codes and local ordinances. (In certain scenarios, homeowners’\\\\nassociations or other organizations may have to be consulted.) Once the construction process\\\\nbegins, the necessary raw materials, machinery, and labor could prove scarce. Once housing is\\\\nbuilt, final inspections are generally required before occupancy. All in all, depending on the type\\\\nand location of housing, this process can take several years and could include unforeseen delays\\\\nand disruptions. Many projects never actually come to fruition. All of this is to say that\\\\nmeaningfully changing the amount of housing available across price points takes time.1\\\\nOn the demand side, at the national level, the population ultimately determines the demand for\\\\nhousing. Trends over time in demographics and household formation can change the level of\\\\ndemand, but in the short term, absent a shock to the housing market (such as during the COVID\\\\n19 pandemic), demand is fairly static.\\\\n\\\\n2\\\\n\\\\nThere are a certain number of people, and all of those\\\",\\\"U.S. Housing Supply: Recent Trends and Policy Considerations\\\\n\\\\nCongressional Research Service\\\\n\\\\n14\\\\n\\\\nwhile they may not yet result in significant impacts at the national level, the threats associated\\\\nwith natural disasters have been rising recently.51 Property destruction in one location can result\\\\nin distortions in other markets owing to resulting shifts in migration and demand.52 Therefore, the\\\\nmore widespread these risks become, the more likely they are to result in supply disruptions at the\\\\nnational level.53 Currently, a significant portion of the housing stock is vulnerable to the impacts\\\\nof flooding, storms, wildfires, and tornadoes, to name a few.54\\\\nAging in Place Trends\\\\nCertain demographic characteristics may be affecting housing supply, particularly in owner\\\\noccupied markets. Trends such as “aging in place” may be limiting the supply of homes for sale\\\\nas the relatively large baby boomer generation maintains homeownership.55 However, by some\\\\nestimates, homeownership does not begin to drop off until past the age of 75. If this pattern holds,\\\\na large number of homes for sale may become available in the coming years as the baby boomer\\\\ngeneration ages into this bracket.56 At the same time, the millennial generation, another relatively\\\\nlarge cohort, is largely of home-buying age, and homeownership rates for this group have\\\\naccelerated in recent years, potentially putting further strain on the supply of owner-occupied\\\\nhousing.\\\\n\\\\n57\\\\n\\\\nOther trends in household characteristics, such as declining marriage rates and birth\\\\nrates, may also be resulting in challenges to housing supply as it currently exists. (There may not\\\\nbe adequate supply of smaller housing units to meet altered demand, for example. 58)\\\\n\\\\nPolicy Considerations\\\\n\\\\nTo the extent that certain conditions in the housing market—notably issues surrounding\\\\naffordability and choice—are being caused by low supply, those problems are unlikely to be fixed\\\\n51 Howard Kunreuther, “Reducing Losses from Catastrophes: Role of Insurance and Other Policy Tools,” Environment:\\\\nScience and Policy for Sustainable Development, vol. 58, no. 1 (January/February 2016), pp. 30-37.\\\\n52 Tamara L. Sheldon and Crystal Zhan, “The Impact of Natural Disasters on U.S. Home Ownership,” Journal of the\\\\nAssociation of Environmental and Resource Economists, vol. 6, no. 6 (September 19, 2019), pp. 1169-1203,\\\\nhttps://www.journals.uchicago.edu/doi/full/10.1086/705398#_i18.\\\\n\\\\n53\\\",\\\"people presumably want shelter.\\\\nThis report focuses on the important policy question of whether there is enough housing generally\\\\nfor the population. Related to this is another policy question: What can policymakers do to\\\\nexpand the supply of housing, and what can they not do? Lastly, there is the question of whether\\\\nthere is adequate housing locally that meets individual preferences. While this report focuses on\\\\nthe first and second questions and discusses national-level trends and policy considerations, local\\\\nlevel considerations can provide important context for aggregate trends, and as such, this report\\\\nbriefly discusses certain local considerations, as relevant.\\\\nThis report first discusses various metrics and customary interpretations of housing supply (in\\\\nrelation to housing demand) and how those trends affect other aspects of the housing market. The\\\\nreport then discusses factors that have contributed to housing market trends in recent decades and\\\\nconsiders potential policy options available to Congress.\\\\n\\\\n1\\\\n\\\\nSee CRS In Focus IF12048, High Home Prices: Contributing Factors and Policy Considerations, by Mark P.\\\\nKeightley and Lida R. Weinstock.\\\\n\\\\n2\\\\n\\\\nFor example, see David Albouy, Gabriel Ehrlich, and Yingyl Liu, Housing Demand, Cost-of-Living Inequality, and\\\\nthe Affordability Crisis, National Bureau of Economic Research, Working Paper no. 22816, November 2016, p. 2,\\\\nhttps://www.nber.org/system/files/working_papers/w22816/w22816.pdf.\\\"],\\\"link\\\":\\\"gs://certain-haiku-391918-house-invest/house_invest_pdfs/invest1.pdf\\\",\\\"title\\\":\\\"U.S. Housing Supply: Recent Trends and Policy Considerations\\\"},{\\\"extractive_answers\\\":[\\\"Housing supply constraints can affect demographic shifts in the American population. For instance, young adults primarily demand entry level and lower-priced housing. As a result, shortages in the entry-level market sector are felt most by young adults.\\\"],\\\"extractive_segments\\\":[\\\"160 | Increasing the Supply of Affordable Housing:\\\\nEconomic Insights and Federal Policy Solutions\\\\n\\\\nrising housing prices push low-income households toward areas with few\\\\namenities.\\\\nHousing supply constraints can affect demographic shifts in the\\\\nAmerican population. For instance, young adults primarily demand entry\\\\nlevel and lower-priced housing. As a result, shortages in the entry-level\\\\nmarket sector are felt most by young adults. Research has shown household\\\\nformation rates decreased in recent years as a result of increased housing\\\\nprices: a 1 percent increase in housing prices decreases household forma\\\\ntion by almost 5 percent for young adults (Kiefer, Atreya, and Yanamandra\\\\n2018). Consistent with this finding, homeownership rates have been declin\\\\ning over time for young adults (Goodman, Choi, and Zhu 2023).\\\\nWealth Accumulation\\\\nHomeownership has long been a common path to wealth accumulation\\\\nin the United States, with returns being especially high for those who can\\\\nafford expensive homes (Wolff 2022). As a result, housing supply restric\\\\ntions have implications for wealth accumulation (La Cava 2016). Figure 4-9\\\\nreports homeownership rates and median net family worth by income, age,\\\\nrace and ethnicity, and geography. Generally, patterns in homeownership\\\\nrates according to these characteristics are correlated with wealth patterns.\\\\nHigher-income, older, and white non-Hispanic households are more likely\\\\nto own their homes and have accumulated more wealth than other groups.\\\\nIntergenerational wealth transfers interact with homeownership. For\\\\nexample, individuals are about 8 percentage points more likely to become\\\\n\\\\n0\\\\n\\\\n200\\\\n\\\\n400\\\\n\\\\n600\\\\n\\\\n800\\\\n\\\\n1,000\\\\n\\\\n1,200\\\\n\\\\n1,400\\\\n\\\\n1,600\\\\n\\\\n1,800\\\\n\\\\n2,000\\\\n\\\\n0\\\\n\\\\n10\\\\n\\\\n20\\\\n\\\\n30\\\\n\\\\n40\\\\n\\\\n50\\\\n\\\\n60\\\\n\\\\n70\\\\n\\\\n80\\\\n\\\\n90\\\\n\\\\n100\\\\n\\\\nFigure 4-9. Homeownership Rate and Median Net Family Worth, 2022\\\\n\\\\nHomeownership rate (left axis)\\\\n\\\\nMedian family net worth (right axis)\\\\n\\\\nPercent\\\\n\\\\nThousands of 2022 dollars\\\\n\\\\nCouncil of Economic Advisers\\\\nSources: Survey of Consumer Finances; Census Bureau; CEA calculations.\\\\nNote: The values for the fifth income quintile are calculated by averaging over data reported for 80–89.9 and 90–100 income quintiles.\\\\n2024 Economic Report of the President\\\\n\\\\nIncome quintile\\\\n\\\\nAge\\\",\\\"Increasing the Supply of Affordable Housing: | 155\\\\nEconomic Insights and Federal Policy Solutions\\\\n\\\\nOne analysis found that 40 percent of Manhattan buildings could not\\\\nbe built today because they do not conform to zoning codes (Bui, Chaban,\\\\nand White 2016). Dense city centers would be almost impossible to build\\\\nwith modern minimum parking requirements, and many new developments\\\\nare only approved after receiving special permits or variances to circumvent\\\\nzoning rules (Bui, Chaban, and White 2016; Gray 2022). Other factors\\\\nrestricting the housing supply include mandatory public hearings, fees\\\\nand exactions, environmental review, design standards, lot configuration\\\\nrequirements, building size regulations, rising insurance costs, and occu\\\\npancy rules (Bronin 2023). Each regulation restricts what developers can\\\\nbuild, increases time-to-construction and structure costs, and leads many\\\\nwould-be housing projects to be financially infeasible.\\\\nAdditional Constraints\\\\nNew multifamily housing development, whether for renter- or owner\\\\noccupied units, is a complex, long-run capital investment process that is\\\\nhighly sensitive to the macroeconomic environment. The projects involve\\\\nvarious development costs, including (1) physical construction (“hard”)\\\\ncosts, (2) project design and development (“soft”) costs, and (3) land costs.\\\\nDevelopers draw project financing from a combination of debt and equity\\\\nthat require different rates of return from completed projects, imposing\\\\nminimum profitability thresholds and tying private development to interest\\\\nrate fluctuations. At the same time, most revenue for multifamily rental\\\\ndevelopment comes from rent charged to tenants, which is related to local\\\\nland-use regulations. Box 4-2 describes the calculus behind financing\\\\nhousing development projects—this calculus is sometimes referred to as\\\\n“penciling the deal.”\\\\nDemographic shifts in the American population affect both housing\\\\nsupply and demand. For example, a sharp increase in life expectancy during\\\\nthe last century—combined with the aging of the baby boom generation—\\\\nhas increased the demand for housing among older Americans (Berkeley\\\\nEconomic Review 2019). In addition, to the extent that homeowners choose\\\\nnot to move as they age, this will tend to reduce the rate of repeat sales for\\\\nthe current stock of homes, reducing the supply of available homes. Changes\\\\nin fertility and international immigration have also affected housing demand.\\\\n\\\\nrules (Kahlenberg 2023). In recent decades, America’s neighborhoods\\\\nhave continued to be segregated by race and income (Loh, Coes, and\\\\nButhe 2020).\\\",\\\"Increasing the Supply of Affordable Housing: | 159\\\\nEconomic Insights and Federal Policy Solutions\\\\n\\\\nHousing Supply Shortages: Consequences for Welfare,\\\\nEconomic Mobility, and Aggregate Output\\\\nEven in functional housing markets, income variation across households\\\\nimplies that low-income households face higher housing cost burdens than\\\\nthose with a higher income. When land-use restrictions drive supply con\\\\nstraints, growing housing demand in cities and neighborhoods leads to more\\\\nexpensive housing, rather than new housing development (Baum-Snow\\\\n2023). The resulting housing shortages manifest as lower vacancy rates and\\\\nhigher prices and rents relative to wage growth. As the gap widens between\\\\nmarket prices and production costs, more households experience housing\\\\ninsecurity, which negatively affects individual welfare and economic mobil\\\\nity (Been et al. 2011; Taylor 2018).\\\\nNeighborhood Choice, Individual Welfare, and Economic Mobility\\\\nPrices affect not only the type of housing in which individuals choose to\\\\nlive, but also where they live. The latter decision is tied to a bundle of local\\\\namenities, including access to jobs and transportation, schools, exposure\\\\nto crime, environmental quality, health care access, and social networks.\\\\nImportantly, neighborhood choice shapes children’s long-run educational\\\\nand economic outcomes, and neighborhood environment affects adult health\\\\nand well-being (Chetty and Hendren 2018; Chyn and Katz 2021).\\\\n\\\\nProperty taxes typically fund public schools; the greater the tax base\\\\nper capita, the more funds are available for education. Children from high\\\\nincome households tend to live in expensive neighborhoods and, therefore,\\\\nhave access to higher quality schools. Housing near high-scoring public\\\\nschools costs on average 2.4 times more, or nearly $11,000 more per year,\\\\nthan housing near low-scoring schools (Rothwell 2012). Few affordable\\\\nhousing options exist near high-quality schools (DiSalvo and Yu 2023),\\\\nwhich reduces the number of low-income, as well as Black and Hispanic,\\\\nstudents attending them, and exacerbates intergenerational inequality\\\\n(Ihlanfeldt 2019). Black and Hispanic students attending more segregated\\\\nschools are less likely to graduate from high school and attend college than\\\\ntheir peers attending less segregated schools, and they are less likely to work\\\\nand more likely to have low earnings as adults (Gould Ellen, De la Roca,\\\\nand Steil 2015).\\\\nEconomic models, such as that developed by Tiebout (1956), suggest\\\\nthat beyond valuing neighborhoods for their schools, households “vote with\\\\ntheir feet” and choose neighborhoods that best match their preferences.\\\\nHowever, because housing markets are incomplete and affordable houses\\\\nare often not available in neighborhoods with high-quality amenities,\\\"],\\\"link\\\":\\\"gs://certain-haiku-391918-house-invest/house_invest_pdfs/invest3.pdf\\\",\\\"title\\\":\\\"invest3\\\"},{\\\"extractive_answers\\\":[\\\"A decline in housing prices is likely to depress construction spending, leading to more anemic economic growth. Fluctuations in the housing market, particularly housing prices, can have broader effects on the economy through so called wealth effects.\\\"],\\\"extractive_segments\\\":[\\\"Introduction to U.S. Economy: Housing Market\\\\n\\\\nhttps://crsreports.congress.gov | IF11327 · VERSION 10 · UPDATED\\\\n\\\\nLida R. Weinstock, Analyst Macroeconomic Policy\\\\n\\\\nIF11327\\\\n\\\\nDisclaimer\\\\nThis document was prepared by the Congressional Research Service (CRS). CRS serves as nonpartisan shared staff to\\\\ncongressional committees and Members of Congress. It operates solely at the behest of and under the direction of Congress.\\\\nInformation in a CRS Report should not be relied upon for purposes other than public understanding of information that has\\\\nbeen provided by CRS to Members of Congress in connection with CRS’s institutional role. CRS Reports, as a work of the\\\\nUnited States Government, are not subject to copyright protection in the United States. Any CRS Report may be\\\\nreproduced and distributed in its entirety without permission from CRS. However, as a CRS Report may include\\\\ncopyrighted images or material from a third party, you may need to obtain the permission of the copyright holder if you\\\\nwish to copy or otherwise use copyrighted material.\\\",\\\"Introduction to U.S. Economy: Housing Market\\\\n\\\\nhttps://crsreports.congress.gov\\\\n\\\\nMonetary Policy and the Housing Market\\\\nFederal Reserve decisions may also affect the housing\\\\nmarket through the cost of financing a home purchase. Most\\\\nAmericans take out a mortgage to purchase a home, and\\\\nmortgage debt accounts for about 70% of all household\\\\ndebt. The interest rate associated with a mortgage is\\\\npartially determined by the supply and demand for loanable\\\\nfunds; however, the Federal Reserve can also influence\\\\nmortgage interest rates by adjusting its benchmark interest\\\\nrate, the federal funds rate. When the Federal Reserve\\\\ndecides to increase the federal funds rate, it puts upward\\\\npressure on mortgage interest rates as well. Higher\\\\nmortgage interest rates increase the overall cost of\\\\npurchasing a home, by increasing mortgage payments.\\\\nDuring the 2007-2009 recession and the COVID-19\\\\npandemic, the Federal Reserve purposely tried to decrease\\\\nmortgage interest rates more directly by purchasing\\\\nmortgage-backed securities. Thirty-year mortgage rates\\\\ntemporarily dropped below 3% in 2020 but have since more\\\\nthan doubled as the Federal Reserve has increased interest\\\\nrates and let securities roll off its balance sheet.\\\\n\\\\nHousing Market Conditions\\\\nA number of broad indicators are used to assess the housing\\\\nmarket. National indicators do not necessarily capture the\\\\nvariation among local markets and, therefore, may not be\\\\nindicative of any one specific locality.\\\\nFigure 2. Nominal Housing Prices\\\\nYear-over-year change\\\\n\\\\nSource: Federal Housing Finance Agency, House Price Indexes,\\\\nSeasonally Adjusted Purchase-Only Index.\\\\nHousing prices are an indicator of the housing market’s\\\\nconditions and have important implications for the\\\\neconomy as a whole. As shown in Figure 2, after falling\\\\nsignificantly during the 2007-2009 recession, average\\\\nnominal housing prices have been increasing nationally\\\\neach year since the beginning of 2012, surpassing their\\\\nprevious nominal peak in the first quarter of 2016. After\\\\nrapid growth in housing prices in 2020, growth has begun\\\\nslowing, although it yet remains high in nominal terms.\\\\nAnother common indicator of the health of the housing\\\\nmarket is home sales. Increasing home sales are generally\\\\nviewed as a sign of a strong housing market and a strong\\\\neconomy, as it suggests individuals have both the income to\\\\nmake the purchase and a positive economic outlook. As\\\\nshown in Figure 3, during the 2007-2009 recession, home\\\\n\\\\nsales fell dramatically. Home sales began to recover in 2011\\\\nand 2012 but have still not recovered to pre-recession\\\\nlevels. In 2021, sales of existing houses increased by 8.5%\\\\nwhile sales of new houses decreased by 6.2%.\\\\nFigure 3. Annual House Sales\\\\nIn thousands\\\",\\\"Source: Department of Housing and Urban Development, U.S.\\\\nHousing Market Conditions.\\\\nResidential investment, shown as a percentage of GDP in\\\\nFigure 1, is also used as a measure of the health of the\\\\nhousing market. If demand for housing declines or\\\\neconomic actors expect the housing market to weaken,\\\\nresidential investment is likely to slow or decline, and vice\\\\nversa. In dollar terms, residential investment hit a relative\\\\npeak in 2005 before falling significantly following the\\\\nhousing bubble of 2007; 2005 levels were only recently\\\\nsurpassed in 2020.\\\\nFinally, housing inventory (the supply of housing available\\\\nfor sale) is often used to assess housing market conditions.\\\\nA low inventory generally leads to upward pressure on\\\\nhouse prices. Housing inventory has been relatively low for\\\\nthe past decade, as shown in Figure 4.\\\\nFigure 4. Housing Inventory\\\\n\\\\nSource: Department of Housing and Urban Development, U.S.\\\\nHousing Market Conditions.\\\\nCRS Resources\\\\nCRS In Focus IF12048, High Home Prices: Contributing\\\\nFactors and Policy Considerations, by Mark P. Keightley\\\\nand Lida R. Weinstock.\\\\n\\\\n(Note: This In Focus was originally authored by Jeffrey\\\\nStupak, former CRS Analyst in Macroeconomic Policy.)\\\",\\\"https://crsreports.congress.gov\\\\n\\\\nUpdated January 3, 2023\\\\n\\\\nIntroduction to U.S. Economy: Housing Market\\\\nThe Housing Market\\\\nReal estate and the housing market play an important role in\\\\nthe U.S. economy. At the individual level, roughly 65% of\\\\noccupied housing units are owner occupied, homes are\\\\noften a substantial source of household wealth in the United\\\\nStates, and housing construction provides widespread\\\\nemployment. At the aggregate level, housing accounts for a\\\\nsignificant portion of all economic activity, and changes in\\\\nthe housing market can have broader effects on the\\\\neconomy.\\\\nHousehold Net Worth\\\\nPurchasing a home is often one of the largest investments\\\\nindividuals make. Home ownership accounts for a\\\\nsignificant portion of households’ net worth in the United\\\\nStates. As of the third quarter of 2022, owner-occupied real\\\\nestate accounted for slightly more than a quarter of\\\\nhouseholds’ net worth, according to Federal Reserve data.\\\\nThe share of households’ net worth arising from their home\\\\nhas been relatively stable over the past several years, after\\\\ndeclining significantly following the 2007-2009 recession.\\\\nEmployment\\\\nResidential construction is a significant industry in the\\\\nUnited States, and it employs a large number of people. At\\\\nthe peak of the housing market bubble in 2006, residential\\\\nconstruction employed more than 1 million individuals.\\\\nHowever, as a result of the housing bubble bursting and\\\\nsubsequent recession, employment fell to a low of about\\\\n560,000 employees in May 2011. Since then, employment\\\\nhas picked up in this industry (apart from a brief decline\\\\nduring the 2020 recession) and reached about 903,000 by\\\\nNovember 2022, according Bureau of Labor Statistics data.\\\\nHousing and the Broader Economy\\\\nThe housing market is incorporated into gross domestic\\\\nproduct (GDP), the prominent measure of economic\\\\nactivity, in two ways. First, GDP includes all spending on\\\\nthe construction of new single- and multi-family structures,\\\\nresidential remodeling, and brokers’ fees, which is referred\\\\nto as residential fixed investment. As of 2021, spending on\\\\nresidential fixed investment was about $1.1 trillion,\\\\naccounting for about 4.8% of GDP. Second, GDP includes\\\\nall spending on housing services, which includes renters’\\\\nrents and utilities and homeowners’ imputed rent and utility\\\\npayments. As of 2021, spending on housing services was\\\\nabout $2.8 trillion, accounting for 11.9% of GDP. Taken\\\\ntogether, spending within the housing market accounted for\\\\n16.7% of GDP in 2021.\\\\n\\\\nAs shown in Figure 1, housing’s share of GDP has\\\\ngenerally trended upwards, with the notable exception of\\\\nthe housing market crash in 2007. Between 2000 and 2005,\\\\nresidential investment grew rapidly before declining even\\\",\\\"more rapidly as the housing bubble burst. Since then,\\\\nresidential investment has remained well below its peak\\\\nboth in dollar terms and as a percentage of GDP. Despite a\\\\nsteep drop in total housing spending, both in dollar terms\\\\nand as a percentage of GDP, spending on housing services\\\\ncontinued to rise as a percentage of GDP through this\\\\nperiod. Housing’s share of GDP has still not reached its\\\\n2005 peak.\\\\nFigure 1. Total Spending in Housing Market\\\\nAs a percentage of GDP\\\\n\\\\nSource: Bureau of Economic Analysis, National Income and Product\\\\nAccounts, Table 1.1.5, and Table 2.3.5.\\\\n\\\\nHousing’s Indirect Impact on the Economy\\\\nThe housing market can play an important role in the\\\\nbroader economy as well, as evidenced by the housing\\\\nbubble that precipitated the recession of 2007-2009.\\\\nHousing prices can impact residential investment and\\\\ntherefore affect economic growth. Rising home prices likely\\\\nencourage additional construction spending to take\\\\nadvantage of higher prices, leading to more robust\\\\neconomic growth. A decline in housing prices is likely to\\\\ndepress construction spending, leading to more anemic\\\\neconomic growth.\\\\nFluctuations in the housing market, particularly housing\\\\nprices, can have broader effects on the economy through so\\\\ncalled wealth effects. An increase in housing value\\\\nencourages homeowners to spend more than they do at\\\\nother times for a variety of reasons, including higher\\\\nconfidence in the economy, increased home equity for\\\\nhomeowners to borrow against, and higher rental income. A\\\\ndecrease in prices results in the opposite. In the United\\\\nStates, consumer spending makes up roughly 70% of the\\\\neconomy; therefore, changes in housing wealth can result in\\\\nsignificant changes in economic growth.\\\"],\\\"link\\\":\\\"gs://certain-haiku-391918-house-invest/house_invest_pdfs/invest2.pdf\\\",\\\"title\\\":\\\"Introduction to U.S. Economy: Housing Market\\\"},{\\\"extractive_answers\\\":[\\\"Counties with High Job Availability Experienced Lower Housing Production 6 Sources: Population: US Census Bureau, Population Division, 2015 Population Estimates.\\\"],\\\"extractive_segments\\\":[\\\"0\\\\n\\\\n20,000\\\\n40,000\\\\n60,000\\\\n\\\\n80,000\\\\n\\\\n100,000\\\\n120,000\\\\n140,000\\\\n160,000\\\\n180,000\\\\n200,000\\\\n220,000\\\\n240,000\\\\n\\\\n2000 2001 2002 2003 2004 2005 2006 2007 2008 2009 2010 2011 2012 2013 2014 2015\\\\n\\\\nMultifamily (2+ Units)\\\\nSingle Family\\\\n\\\\nPermits\\\\n\\\\nAnnual Production of Housing Units 2000-2015\\\\nCompared to Projected Statewide Housing Need for Additional Units\\\\n\\\\nProduction Not Keeping Pace With\\\\nProjected Housing Need\\\\n\\\\nSource: Construction Industry Research Board/California Homebuilding Foundation Reports 2005, 2013, 2015; 2015-2025 Projected Annual Need\\\\nfrom HCD Analysis of DOF Demographic Data. Estimate is subject to change until the final release of the Statewide Housing Plan. Graphic by HCD.\\\\n3\\\\n\\\\n2015-2025\\\\n\\\\nProjected Housing Need 180,000 Units Annually\\\\n\\\\n#SHA2025\\\",\\\"Counties with High Job Availability\\\\nExperienced Lower Housing Production\\\\n\\\\n6\\\\n\\\\nSources: Population: U.S. Census Bureau, Population Division, 2015 Population Estimates. Labor Force Estimates: State of\\\\nCalifornia Employment Development Department 2015 Labor Force by County, note counties with labor forces under\\\\n10,000 were excluded from the map. Housing Unit Change: DOF E5 Population and Housing Estimates for Cities, Counties,\\\\nand the State; E8 Historical Population and Housing Estimates for Cities, Counties, and the State.\\\\n\\\\n#SHA2025\\\\n\\\\nJob Availability\\\\n\\\\n4 th\\\\nCycle Production\\\",\\\"1. Increase supply of housing\\\\naffordable to all income levels\\\\nby reducing time and cost of\\\\ndevelopment.\\\\n2. Link housing production and\\\\nother housing goals to\\\\nincentives and investments.\\\\n3. Encourage land use policies\\\\nand investment that support\\\\ncommunity development.\\\\n\\\\n#SHA2025\\\\n\\\\n11\\\\n\\\\nReform Land Use\\\\nPolicies\\\\nto Advance\\\\nAffordability\\\\nSustainability,\\\\nand Equity\\\"],\\\"link\\\":\\\"gs://certain-haiku-391918-house-invest/house_invest_pdfs/invest4.pdf\\\",\\\"title\\\":\\\"PowerPoint Presentation\\\"}]\"\n",
              "        }\n",
              "      }\n",
              "    }\n",
              "  }\n",
              "  create_time {\n",
              "    seconds: 1718096265\n",
              "    nanos: 345535000\n",
              "  }\n",
              "  turn: 4\n",
              "}\n",
              "actions {\n",
              "  message {\n",
              "    role: \"model\"\n",
              "    parts {\n",
              "      text: \"Combining insights from the provided research paper and general knowledge about demographic impacts on housing, here\\'s a summarized answer:\\n\\n* **Aging Population and Increased Demand:** As the large baby boomer generation ages, many are choosing to \\\"age in place,\\\" reducing the supply of available homes for sale. This trend particularly impacts markets with a high concentration of older adults, leading to increased demand and potentially higher prices.  \\n\\n* **Millennial Homeownership and Supply Strain:**  Millennials, now a significant portion of the population, are entering their prime homebuying years. However, their homeownership rates still lag behind previous generations. This increased demand coupled with limited supply, especially for entry-level homes, creates upward pressure on prices in desirable markets. \\n\\n* **Migration Patterns and Regional Disparities:**  Migration patterns, influenced by factors like job availability and affordability, further impact housing demand and preferences. For instance, the rise of remote work has led some to relocate from expensive urban centers to more affordable suburban and rural areas, increasing demand and prices in those regions.\\n\\n* **Changing Household Formation and Housing Needs:** Declining marriage and birth rates are contributing to smaller household sizes. This shift necessitates a greater supply of smaller, more affordable housing units to meet the evolving needs of single individuals and smaller families.  Failing to adapt to these changing demographics can exacerbate affordability challenges and limit housing options. \\n\"\n",
              "    }\n",
              "  }\n",
              "  create_time {\n",
              "    seconds: 1718096265\n",
              "    nanos: 345535000\n",
              "  }\n",
              "  turn: 4\n",
              "}\n",
              "actions {\n",
              "  message {\n",
              "    role: \"user\"\n",
              "    parts {\n",
              "      text: \"What are the local zoning regulations, permitting processes, and land-use restrictions impacting housing development in the area?\"\n",
              "    }\n",
              "  }\n",
              "  create_time {\n",
              "    seconds: 1718096579\n",
              "    nanos: 50805000\n",
              "  }\n",
              "  turn: 5\n",
              "}\n",
              "actions {\n",
              "  message {\n",
              "    role: \"model\"\n",
              "    parts {\n",
              "      text: \"Please provide a location so I can answer your question. \\n\"\n",
              "    }\n",
              "  }\n",
              "  create_time {\n",
              "    seconds: 1718096579\n",
              "    nanos: 50805000\n",
              "  }\n",
              "  turn: 5\n",
              "}\n",
              "actions {\n",
              "  message {\n",
              "    role: \"user\"\n",
              "    parts {\n",
              "      text: \"San Francisco\"\n",
              "    }\n",
              "  }\n",
              "  create_time {\n",
              "    seconds: 1718096616\n",
              "    nanos: 510123000\n",
              "  }\n",
              "  turn: 6\n",
              "}\n",
              "actions {\n",
              "  tool_use {\n",
              "    extension_invocation {\n",
              "      extension_name: \"projects/656421903914/locations/us-central1/extensions/2298049670796017664\"\n",
              "      operation_id: \"search\"\n",
              "    }\n",
              "    action: \"search\"\n",
              "    input_parameters {\n",
              "      fields {\n",
              "        key: \"query\"\n",
              "        value {\n",
              "          string_value: \"What are the local zoning regulations, permitting processes, and land-use restrictions impacting housing development in San Francisco?\"\n",
              "        }\n",
              "      }\n",
              "    }\n",
              "    output_parameters {\n",
              "      fields {\n",
              "        key: \"content\"\n",
              "        value {\n",
              "          string_value: \"[{\\\"extractive_answers\\\":[\\\"The State has legalized ADUs statewide, allowed duplexes and lot splits in single-family zones, and allowed mixed-income, multifamily housing in all residential areas (Skelton 2021; Gray 2022). At the same time, California has eliminated minimum parking requirements at transit stations statewide (Khouri 2022).\\\"],\\\"extractive_segments\\\":[\\\"166 | Increasing the Supply of Affordable Housing:\\\\nEconomic Insights and Federal Policy Solutions\\\\n\\\\nBox 4-4. State and Local Zoning: Recent Steps\\\\nZoning is one of the most significant regulatory powers of local govern\\\\nment, and research shows reform can unlock economic growth and\\\\nopportunity (Flint 2022). Zoning reforms that are likely to increase\\\\nhousing supply include allowing more multifamily housing to be built\\\\n(especially near public transportation hubs), legalizing accessory dwell\\\\ning units (ADUs), and eliminating minimum parking requirements,\\\\nminimum lot sizes, minimum square feet requirements, and density\\\\nrestrictions. None of these reforms prevent new single-family home\\\\nconstruction; rather, the changes prevent municipalities from requiring\\\\nonly single-family homes.\\\\nSome steps taken in recent years include:\\\\n• Buffalo became the first major U.S. city to abolish minimum\\\\nparking requirements in 2017 (Poon 2017). Recently, more\\\\ncities have followed suit, including Anchorage, San Jose, and\\\\nGainesville. Other cities, such as San Diego, made incremental\\\\nsteps in the same direction by eliminating parking requirements\\\\nnear public transit (Wamsley 2024; Khouri 2022).\\\\n• Minneapolis banned single-family exclusive zoning in 2018,\\\\nand Charlotte enacted a similar policy in 2021 (Grabar 2018;\\\\nBrasuell 2021). At the State level, Oregon, California, and\\\\nWashington enacted such policies in 2018, 2021, and 2023,\\\\nrespectively (Garcia et al. 2022; Gutman 2023).\\\\n• California has enacted multiple policies intended to grow\\\\nhousing supply in recent years. The State has legalized ADUs\\\\nstatewide, allowed duplexes and lot splits in single-family\\\\nzones, and allowed mixed-income, multifamily housing in all\\\\nresidential areas (Skelton 2021; Gray 2022). At the same time,\\\\nCalifornia has eliminated minimum parking requirements at\\\\ntransit stations statewide (Khouri 2022). California has also\\\\nset up a Regional Housing Needs Allocation process, whereby\\\\nlocal jurisdictions must produce housing and land use plans to\\\\ncomply with State housing targets (California Department of\\\\nHousing and Community Development 2023).\\\\n• Connecticut has enacted significant policy changes, requiring its\\\\ncities and towns to “affirmatively further fair housing” in their\\\\nzoning, promote diverse housing options, legalize ADUs, and\\\\ncap minimum parking requirements (Flint 2022).\\\\n• Montana enacted several changes in 2023 aimed at making\\\\nhousing more affordable and reducing sprawl into rural and\\\\nagricultural areas (State of Montana Governor’s Office 2023).\\\\nThese pro-housing changes include allowing duplexes, ADUs,\\\\nand apartment-style housing, while also speeding up permitting\\\\napprovals (Dietrich 2023).\\\",\\\"In the 1920s, the Secretary of Commerce, Herbert Hoover, pub\\\\nlished “A Zoning Primer,” which encouraged States to allow municipali\\\\nties to adopt exclusionary zoning (Gries 1922). The 1923 Standard State\\\\nZoning Enabling Act provided model legislation that States could pass\\\\nto give municipalities zoning power; eventually, all States gave munici\\\\npalities the right to determine local zoning regulations (Flint 2022).\\\\nThe number of cities with zoning rules increased by 1,246 additional\\\\nmunicipalities between 1916 and 1936 (Fischel 2004).\\\\nThe 1970s saw a second wave of zoning in response to (1) the\\\\n1968 Fair Housing Act, which attempted to clamp down on discrimina\\\\ntion by race and other factors, as communities responded by increasing\\\\neconomically discriminatory zoning; and (2) the growing importance\\\\nof real estate within household financial portfolios. By the 2000s, more\\\\nthan 30,000 local governments in the United States had their own zoning\\\",\\\"154 | Increasing the Supply of Affordable Housing:\\\\nEconomic Insights and Federal Policy Solutions\\\\n\\\\nBox 4-1. A Brief History of Exclusionary\\\\nZoning Laws in the United States\\\\nSome of the earliest zoning ordinances were enacted in the mid to late\\\\n1800s to isolate nuisance land use, such as by slaughterhouses, from\\\\nresidential areas. Under the guise of further resident protection, how\\\\never, other ordinances were implemented that isolated racial and ethnic\\\\nminorities. For example, the historic “Chinese laundry” regulations\\\\nallowed many white proprietors to be licensed while excluding Chinese\\\\nbusiness owners (Howells 2022).\\\\nIn 1910, Baltimore enacted one of the first zoning laws that\\\\nexplicitly segregated neighborhoods by suggesting that the ordinances\\\\nprotected the public. The Supreme Court’s 1917 Buchanan v. Warley\\\\ndecision struck down explicitly racist zoning laws (Howells 2022).\\\\n\\\\nIn the wake of Buchanan v. Warley, communities began implicitly\\\\nsegregating by race with new forms of zoning. Single-family zoning in\\\\nBerkeley, California, in early 1910s attempted to prohibit “Negroes and\\\\nAsiatics” from living in certain areas, and the strategy began to spread\\\\nacross the country (Barber 2019). Single-family zoning also prohibited\\\\napartment buildings and other types of affordable housing, leading to\\\\nincreased class segregation (Gray 2022). Saint Louis introduced zoning\\\\ndesigned to preserve homes in areas unaffordable to most Black families\\\\nin 1919, and the city often changed areas’ zoning designations from resi\\\\ndential to industrial once numerous Black families moved in (Rothstein\\\\n2014). Similarly, Seattle’s 1923 zoning laws changed many areas with a\\\\nlarge number of Black or Chinese American families from residential to\\\\ncommercial (Twinam 2018). The Supreme Court upheld various zoning\\\\nrestrictions, including against multifamily housing, in Euclid v. Ambler\\\\n(Supreme Court 1926), furthering class-based discrimination. The new\\\\nzoning rules restricted new housing levels and made prices unaffordable\\\\nfor low income and most nonwhite households (CEA 2021).\\\",\\\"Increasing the Supply of Affordable Housing: | 155\\\\nEconomic Insights and Federal Policy Solutions\\\\n\\\\nOne analysis found that 40 percent of Manhattan buildings could not\\\\nbe built today because they do not conform to zoning codes (Bui, Chaban,\\\\nand White 2016). Dense city centers would be almost impossible to build\\\\nwith modern minimum parking requirements, and many new developments\\\\nare only approved after receiving special permits or variances to circumvent\\\\nzoning rules (Bui, Chaban, and White 2016; Gray 2022). Other factors\\\\nrestricting the housing supply include mandatory public hearings, fees\\\\nand exactions, environmental review, design standards, lot configuration\\\\nrequirements, building size regulations, rising insurance costs, and occu\\\\npancy rules (Bronin 2023). Each regulation restricts what developers can\\\\nbuild, increases time-to-construction and structure costs, and leads many\\\\nwould-be housing projects to be financially infeasible.\\\\nAdditional Constraints\\\\nNew multifamily housing development, whether for renter- or owner\\\\noccupied units, is a complex, long-run capital investment process that is\\\\nhighly sensitive to the macroeconomic environment. The projects involve\\\\nvarious development costs, including (1) physical construction (“hard”)\\\\ncosts, (2) project design and development (“soft”) costs, and (3) land costs.\\\\nDevelopers draw project financing from a combination of debt and equity\\\\nthat require different rates of return from completed projects, imposing\\\\nminimum profitability thresholds and tying private development to interest\\\\nrate fluctuations. At the same time, most revenue for multifamily rental\\\\ndevelopment comes from rent charged to tenants, which is related to local\\\\nland-use regulations. Box 4-2 describes the calculus behind financing\\\\nhousing development projects—this calculus is sometimes referred to as\\\\n“penciling the deal.”\\\\nDemographic shifts in the American population affect both housing\\\\nsupply and demand. For example, a sharp increase in life expectancy during\\\\nthe last century—combined with the aging of the baby boom generation—\\\\nhas increased the demand for housing among older Americans (Berkeley\\\\nEconomic Review 2019). In addition, to the extent that homeowners choose\\\\nnot to move as they age, this will tend to reduce the rate of repeat sales for\\\\nthe current stock of homes, reducing the supply of available homes. Changes\\\\nin fertility and international immigration have also affected housing demand.\\\\n\\\\nrules (Kahlenberg 2023). In recent decades, America’s neighborhoods\\\\nhave continued to be segregated by race and income (Loh, Coes, and\\\\nButhe 2020).\\\"],\\\"link\\\":\\\"gs://certain-haiku-391918-house-invest/house_invest_pdfs/invest3.pdf\\\",\\\"title\\\":\\\"invest3\\\"},{\\\"extractive_answers\\\":[\\\"Notably, certain zoning restrictions—such as single-family zoning requirements, minimum lot sizes, and parking requirements, among others—affect how much land can be built on and how many housing units can be built on that land.35 Another factor that can further exacerbate these issues is existing residents&#39; opposition to new developments near or in their own neighborhoods.\\\"],\\\"extractive_segments\\\":[\\\"In terms of the regulatory process, the number of entities needed to approve projects\\\\nrequiring a zoning variance is increasing in the typical place. This makes the process more\\\\ncumbersome and increases the potential for projects to be vetoed. Density controls are also\\\\nused more widely and are more severe on average. The use of minimum lot sizes to control\\\\n\\\\n33 Freddie Mac, “What Is Causing the Lean Inventory of Houses?,” July 27, 2017, https://www.freddiemac.com/\\\\nresearch/forecast/20170726-lean-inventory-of-houses.\\\\n34 Freddie Mac, “What Is Causing the Lean Inventory of Houses?”\\\\n35 Alexander Von Hoffman, “Single-Family Zoning: Can History Be Reversed?,” Harvard Joint Center for Housing\\\\nStudies, https://www.jchs.harvard.edu/blog/single-family-zoning-can-history-be-reversed; and Catie Gould, “Shifting\\\\nGears: Why Communities Are Eliminating Off-Street Parking Requirements—and What Comes Next,” Lincoln\\\\nInstitute of Land Policy, October 12, 2022, https://www.lincolninst.edu/publications/articles/2022-10-shifting-gears\\\\neliminating-off-street-parking-requirements.\\\\n36 Freddie Mac, “What Is Causing the Lean Inventory of Houses?”\\\\n37 Paul Emrath, Government Regulation in the Price of New Home: 2021, NAHB, May 5, 2021, https://www.nahb.org/-\\\\n/media/NAHB/news-and-economics/docs/housing-economics-plus/special-studies/2021/special-study-government\\\\nregulation-in-the-price-of-a-new-home-may-2021.pdf. Estimates for 2016 and 2011 can be found at\\\\nhttps://www.nahb.org/-/media/F927CA599F4343F19541BD9F929E50ED.ashx and\\\\nhttps://eyeonhousing.wordpress.com/2011/07/08/government-regulations-25-cost-of-a-new-home/, respectively.\\\\n\\\\n38\\\\n\\\\nEmrath, Government Regulation in the Price of New Home: 2021.\\\",\\\"U.S. Housing Supply: Recent Trends and Policy Considerations\\\\n\\\\nCongressional Research Service\\\\n\\\\n11\\\\n\\\\ndesirable in others ways. This section is meant only to highlight conditions that could be\\\\ncontributing to low supply and does not purport to evaluate the full costs and benefits of any\\\\npolicy. In addition, many policy proposals act on the demand side of the housing market, which is\\\\nbeyond the scope of this report.\\\\nRegulatory Costs\\\\nThe cost of acquiring and preparing land for construction has increased relative to the price of the\\\\nhousing units being built in recent decades.33 In some areas, there is little undeveloped land to\\\\nbuild on, and this partly explains why land prices would rise. But even in those areas, price\\\\nsignals would eventually lead to greater housing density absent regulatory obstacles to increasing\\\\nsupply. According to a Freddie Mac analysis, tightening land use restrictions (discussed below)\\\\nare partly responsible for this increasing cost, which can cause significant delays in permit\\\\napprovals, slowing the rate of new construction.34\\\\nApart from slowing construction, some regulation already directly impacts supply. Notably,\\\\ncertain zoning restrictions—such as single-family zoning requirements, minimum lot sizes, and\\\\nparking requirements, among others—affect how much land can be built on and how many\\\\nhousing units can be built on that land.35 Another factor that can further exacerbate these issues is\\\\nexisting residents’ opposition to new developments near or in their own neighborhoods.\\\\nRequirements for community hearings or input, therefore, may slow or halt construction projects.\\\\nAdditionally, community opposition to regulatory changes that would reduce costs, such as\\\\nzoning reform, could perpetuate existing challenges.36\\\\nOfficial government data on the cost of regulation on the construction or renovation of housing\\\\ndo not exist. However, some private groups have done such analyses. According to a 2021 study\\\\nby the National Association of Home Builders (NAHB), state, local, and federal government\\\\nregulations accounted for 23.8% of the average sales price of a new single-family home in 2021\\\\n(down from 24.3% in 2016 and 25% in 2011).\\\\n\\\\n37\\\\n\\\\nOn a dollar basis, the average cost of regulation\\\\naccounted for $93,870 in 2021, up from $84,671 in 2016 and $65,224 in 2011.38 Researchers at\\\\nthe Wharton School created the Wharton Residential Land Use Regulatory Index in 2006 and\\\\nupdated it in 2018. In comparing the index across these years, researchers found:\\\",\\\"59 Anika Singh Lemar, “The Role of States in Liberalizing Land Use,” North Carolina Law Review, vol. 97, no. 2\\\\n(January 1, 2019), p. 297; and Harvard Law Review, “Addressing Challenges to Affordable Housing in Land Use Law:\\\\nRecognizing Affordable Housing as a Right,” Housing Law and Policy Note, February 10, 2022, p. 1107.\\\\n\\\\n60\\\\n\\\\nHUD Office of Policy Development and Research, Pro-Housing Land Use and Zoning Reforms, April 2023,\\\\nhttps://www.huduser.gov/portal/sites/default/files/pdf/policy-and-practice-publication-2023-april.pdf.\\\\n\\\\n61\\\\n\\\\nHUD Office of Policy Development and Research, Factory-Built Housing for Affordability, Efficiency, and\\\\nResilience, Winter/Spring 2020, https://www.huduser.gov/portal/periodicals/em/WinterSpring20/highlight1.html.\\\\n\\\\n62\\\\n\\\\nPreviously called the Yes In My Backyard Incentive Grant Program.\\\",\\\"without supply-side solutions, which happen with a lag and therefore will not be realized in the\\\\nshort term. While this report has focused mainly on low supply nationally, policymakers may be\\\\nmore interested in local solutions given differences in price and availability across localities.\\\\nAdditionally, many housing policies are created, implemented, and regulated at the state or local\\\\nlevel, which restricts the ability of federal policymakers to influence housing market policy.\\\\nNonetheless, there are certain policy options available to Congress. This section focuses\\\\nspecifically on federal policy considerations for increasing supply across price points. Of note,\\\\nthis section discusses certain policy options that would remove barriers to economically efficient\\\\noutcomes. Existing policies that cause certain market distortions may be desirable for other\\\\nreasons. This section does not discuss the potential benefits of such policies.\\\\nPolicy Options for Lowering Cost of Inputs\\\\nThe options below focus on increasing the availability, decreasing the cost, or removing barriers\\\\nto the use of land, labor, and raw materials in the construction process.\\\\nFederal Government Recommendations and Grants for Local Reform\\\\nThe federal government does not have direct authority over local land use regulation. Zoning,\\\\npermitting, and land use are generally controlled by states, many of which have delegated\\\\nauthority to localities.59 Federal agencies, however, can and have made recommendations related\\\\nto these issues. For example, a recent report from HUD includes the following recommendations\\\\nfor local jurisdictions for pro-housing land use and zoning reforms to increase supply and\\\\naffordability: “Increase multifamily zoning; allow missing middle and larger multifamily\\\\ndevelopment by-right; enable adaptive reuse and conversions; eliminate parking requirements;\\\\nreduce minimum lot sizes; support equitable transit-oriented development; and streamline\\\\npermitting processes and timeline.”60\\\\nSome have argued that non-traditional building techniques, such as factory-built housing, are\\\\nmore efficient and cost-effective than traditional building techniques, but they face regulatory\\\\nbarriers and financing obstacles that have restricted their use. Past HUD recommendations on this\\\\ntopic have included updating the HUD code, expanding areas zoned to accept factory-built\\\\nhousing by state and local governments, and improving financing conditions by defining factory\\\\nbuilt housing as real property. (For example, certain types of factory-built housing are not built on\\\\npermanent foundations and therefore may be subject to different codes and may not qualify for\\\\ntypical mortgages. 61)\\\\nIn addition, federal programs may incentivize or encourage local reforms. For example, the\\\\nCommunity Development Block Grant-Pathways to Removing Obstacles62 (P.L.\\\",\\\"U.S. Housing Supply: Recent Trends and Policy Considerations\\\\n\\\\nCongressional Research Service\\\\n\\\\n1\\\\n\\\\nIntroduction and Economic Context\\\\nWhile the national housing market may be marked by certain characteristics, the supply and\\\\ndemand for housing may vary notably locally across the country. Supply conditions can vary\\\\ngreatly from place to place depending on historical factors, construction trends, and pre-existing\\\\nstock and infrastructure. Job markets, infrastructure, public transportation, and density all differ\\\\namong locations and can contribute to changing demographics and household characteristics.\\\\nThese local differences can influence the demand to own or rent and whether to do so in a\\\\ndetached dwelling or multifamily structure. The result can be large variations in price and\\\\navailability across localities.\\\\nSupply and demand for housing are fairly fixed in the short term. On the supply side, new homes\\\\ncannot be built—nor can existing homes be refurbished—overnight. Constructing or renovating\\\\nhousing is a lengthy process, and delays and disruptions may occur at any step. First, land must\\\\nbe available. The available land must be properly zoned for the type of housing being built.\\\\nOwners/builders must secure financing, obtain necessary permits, and potentially wait for\\\\nenvironmental studies to be conducted. Plans must be submitted to local governments to ensure\\\\ncompliance with all building codes and local ordinances. (In certain scenarios, homeowners’\\\\nassociations or other organizations may have to be consulted.) Once the construction process\\\\nbegins, the necessary raw materials, machinery, and labor could prove scarce. Once housing is\\\\nbuilt, final inspections are generally required before occupancy. All in all, depending on the type\\\\nand location of housing, this process can take several years and could include unforeseen delays\\\\nand disruptions. Many projects never actually come to fruition. All of this is to say that\\\\nmeaningfully changing the amount of housing available across price points takes time.1\\\\nOn the demand side, at the national level, the population ultimately determines the demand for\\\\nhousing. Trends over time in demographics and household formation can change the level of\\\\ndemand, but in the short term, absent a shock to the housing market (such as during the COVID\\\\n19 pandemic), demand is fairly static.\\\\n\\\\n2\\\\n\\\\nThere are a certain number of people, and all of those\\\"],\\\"link\\\":\\\"gs://certain-haiku-391918-house-invest/house_invest_pdfs/invest1.pdf\\\",\\\"title\\\":\\\"U.S. Housing Supply: Recent Trends and Policy Considerations\\\"},{\\\"extractive_answers\\\":[\\\"#SHA2025 10 Reform Land Use Policies Invest in Affordable Homes and Community Development Address Housing and Access Needs for Vulnerable Populations Potential Options to Address California&#39;s Housing Challenges.\\\"],\\\"extractive_segments\\\":[\\\"Annual New Housing Permits Statewide\\\\n1955-2015\\\\n\\\\nSource: Construction Industry Research Board/California Homebuilding Foundation Reports 2005, 2013, 2015; Graphic by HCD\\\\n#SHA2025\\\\n\\\\n4\\\\n\\\\n0\\\\n\\\\n50,000\\\\n\\\\n100,000\\\\n\\\\n150,000\\\\n\\\\n200,000\\\\n\\\\n250,000\\\\n\\\\n300,000\\\\n\\\\n350,000\\\\n\\\\nMultifamily (2+ Units) Single Family\\\\n\\\\nPermits\\\\n\\\\nAnnual Production of Housing Units 1955-2015\\\\n\\\\n1955-1989\\\\nAverage 205,000\\\\n\\\\n2006-2015\\\\nAverage\\\\n80,000\\\",\\\"#SHA2025\\\\n\\\\n10\\\\n\\\\nReform Land Use\\\\nPolicies\\\\n\\\\nInvest in Affordable\\\\nHomes and Community\\\\nDevelopment\\\\n\\\\nAddress Housing and\\\\nAccess Needs for\\\\nVulnerable Populations\\\\n\\\\nPotential Options to Address California’s\\\\nHousing Challenges\\\",\\\"1. Increase supply of housing\\\\naffordable to all income levels\\\\nby reducing time and cost of\\\\ndevelopment.\\\\n2. Link housing production and\\\\nother housing goals to\\\\nincentives and investments.\\\\n3. Encourage land use policies\\\\nand investment that support\\\\ncommunity development.\\\\n\\\\n#SHA2025\\\\n\\\\n11\\\\n\\\\nReform Land Use\\\\nPolicies\\\\nto Advance\\\\nAffordability\\\\nSustainability,\\\\nand Equity\\\"],\\\"link\\\":\\\"gs://certain-haiku-391918-house-invest/house_invest_pdfs/invest4.pdf\\\",\\\"title\\\":\\\"PowerPoint Presentation\\\"},{\\\"extractive_answers\\\":[\\\"As shown in Figure 3, during the 2007-2009 recession, home sales fell dramatically.\\\"],\\\"extractive_segments\\\":[\\\"Introduction to U.S. Economy: Housing Market\\\\n\\\\nhttps://crsreports.congress.gov | IF11327 · VERSION 10 · UPDATED\\\\n\\\\nLida R. Weinstock, Analyst Macroeconomic Policy\\\\n\\\\nIF11327\\\\n\\\\nDisclaimer\\\\nThis document was prepared by the Congressional Research Service (CRS). CRS serves as nonpartisan shared staff to\\\\ncongressional committees and Members of Congress. It operates solely at the behest of and under the direction of Congress.\\\\nInformation in a CRS Report should not be relied upon for purposes other than public understanding of information that has\\\\nbeen provided by CRS to Members of Congress in connection with CRS’s institutional role. CRS Reports, as a work of the\\\\nUnited States Government, are not subject to copyright protection in the United States. Any CRS Report may be\\\\nreproduced and distributed in its entirety without permission from CRS. However, as a CRS Report may include\\\\ncopyrighted images or material from a third party, you may need to obtain the permission of the copyright holder if you\\\\nwish to copy or otherwise use copyrighted material.\\\",\\\"Introduction to U.S. Economy: Housing Market\\\\n\\\\nhttps://crsreports.congress.gov\\\\n\\\\nMonetary Policy and the Housing Market\\\\nFederal Reserve decisions may also affect the housing\\\\nmarket through the cost of financing a home purchase. Most\\\\nAmericans take out a mortgage to purchase a home, and\\\\nmortgage debt accounts for about 70% of all household\\\\ndebt. The interest rate associated with a mortgage is\\\\npartially determined by the supply and demand for loanable\\\\nfunds; however, the Federal Reserve can also influence\\\\nmortgage interest rates by adjusting its benchmark interest\\\\nrate, the federal funds rate. When the Federal Reserve\\\\ndecides to increase the federal funds rate, it puts upward\\\\npressure on mortgage interest rates as well. Higher\\\\nmortgage interest rates increase the overall cost of\\\\npurchasing a home, by increasing mortgage payments.\\\\nDuring the 2007-2009 recession and the COVID-19\\\\npandemic, the Federal Reserve purposely tried to decrease\\\\nmortgage interest rates more directly by purchasing\\\\nmortgage-backed securities. Thirty-year mortgage rates\\\\ntemporarily dropped below 3% in 2020 but have since more\\\\nthan doubled as the Federal Reserve has increased interest\\\\nrates and let securities roll off its balance sheet.\\\\n\\\\nHousing Market Conditions\\\\nA number of broad indicators are used to assess the housing\\\\nmarket. National indicators do not necessarily capture the\\\\nvariation among local markets and, therefore, may not be\\\\nindicative of any one specific locality.\\\\nFigure 2. Nominal Housing Prices\\\\nYear-over-year change\\\\n\\\\nSource: Federal Housing Finance Agency, House Price Indexes,\\\\nSeasonally Adjusted Purchase-Only Index.\\\\nHousing prices are an indicator of the housing market’s\\\\nconditions and have important implications for the\\\\neconomy as a whole. As shown in Figure 2, after falling\\\\nsignificantly during the 2007-2009 recession, average\\\\nnominal housing prices have been increasing nationally\\\\neach year since the beginning of 2012, surpassing their\\\\nprevious nominal peak in the first quarter of 2016. After\\\\nrapid growth in housing prices in 2020, growth has begun\\\\nslowing, although it yet remains high in nominal terms.\\\\nAnother common indicator of the health of the housing\\\\nmarket is home sales. Increasing home sales are generally\\\\nviewed as a sign of a strong housing market and a strong\\\\neconomy, as it suggests individuals have both the income to\\\\nmake the purchase and a positive economic outlook. As\\\\nshown in Figure 3, during the 2007-2009 recession, home\\\\n\\\\nsales fell dramatically. Home sales began to recover in 2011\\\\nand 2012 but have still not recovered to pre-recession\\\\nlevels. In 2021, sales of existing houses increased by 8.5%\\\\nwhile sales of new houses decreased by 6.2%.\\\\nFigure 3. Annual House Sales\\\\nIn thousands\\\",\\\"Source: Department of Housing and Urban Development, U.S.\\\\nHousing Market Conditions.\\\\nResidential investment, shown as a percentage of GDP in\\\\nFigure 1, is also used as a measure of the health of the\\\\nhousing market. If demand for housing declines or\\\\neconomic actors expect the housing market to weaken,\\\\nresidential investment is likely to slow or decline, and vice\\\\nversa. In dollar terms, residential investment hit a relative\\\\npeak in 2005 before falling significantly following the\\\\nhousing bubble of 2007; 2005 levels were only recently\\\\nsurpassed in 2020.\\\\nFinally, housing inventory (the supply of housing available\\\\nfor sale) is often used to assess housing market conditions.\\\\nA low inventory generally leads to upward pressure on\\\\nhouse prices. Housing inventory has been relatively low for\\\\nthe past decade, as shown in Figure 4.\\\\nFigure 4. Housing Inventory\\\\n\\\\nSource: Department of Housing and Urban Development, U.S.\\\\nHousing Market Conditions.\\\\nCRS Resources\\\\nCRS In Focus IF12048, High Home Prices: Contributing\\\\nFactors and Policy Considerations, by Mark P. Keightley\\\\nand Lida R. Weinstock.\\\\n\\\\n(Note: This In Focus was originally authored by Jeffrey\\\\nStupak, former CRS Analyst in Macroeconomic Policy.)\\\"],\\\"link\\\":\\\"gs://certain-haiku-391918-house-invest/house_invest_pdfs/invest2.pdf\\\",\\\"title\\\":\\\"Introduction to U.S. Economy: Housing Market\\\"}]\"\n",
              "        }\n",
              "      }\n",
              "    }\n",
              "  }\n",
              "  create_time {\n",
              "    seconds: 1718096616\n",
              "    nanos: 510123000\n",
              "  }\n",
              "  turn: 6\n",
              "}\n",
              "actions {\n",
              "  message {\n",
              "    role: \"model\"\n",
              "    parts {\n",
              "      text: \"San Francisco has a complex and often restrictive set of zoning regulations and land-use policies that significantly impact housing development. While I don\\'t have access to specific legal documents and local ordinances, here\\'s a summary based on common knowledge and widely reported information:\\n\\n**Key Factors Impacting Housing Development in San Francisco:**\\n\\n* **Strict Zoning Regulations:** San Francisco has some of the most stringent zoning laws in the United States, particularly in areas zoned for single-family homes. These regulations often limit density, building heights, and the types of housing that can be built in certain neighborhoods, making it challenging to increase the housing supply.\\n\\n* **Lengthy and Complex Permitting Processes:**  Obtaining building permits in San Francisco is notoriously difficult and time-consuming. The process can involve navigating multiple city agencies, lengthy environmental reviews, and often faces opposition from neighborhood groups, leading to delays and increased development costs.\\n\\n* **Limited Land Availability:**  San Francisco is geographically constrained as a peninsula, with limited available land for new construction. This scarcity further intensifies the competition for development sites and drives up land costs.\\n\\n* **High Construction Costs:**  The cost of construction labor and materials in San Francisco is among the highest in the nation. This factor, combined with regulatory hurdles, makes building new housing extremely expensive.\\n\\n**Recent Policy Changes and Initiatives:**\\n\\nIn recent years, there has been a growing movement to address San Francisco\\'s housing crisis through policy reforms:\\n\\n* **ADUs (Accessory Dwelling Units):** San Francisco has eased restrictions on building ADUs, also known as in-law units or granny flats, to encourage homeowners to add density to existing properties.\\n* **Streamlined Approvals for Affordable Housing:** The city has implemented some expedited permitting processes for affordable housing projects to incentivize their development.\\n* **Density Bonus Programs:**  San Francisco offers density bonuses to developers who include affordable units in their projects, allowing them to build more units than zoning would typically permit.\\n\\n**Ongoing Challenges:**\\n\\nDespite some efforts to increase housing production, San Francisco continues to face significant challenges in addressing its housing shortage. Opposition to new development from some neighborhood groups, concerns about affordability, and the complexities of the local political landscape remain significant hurdles to overcome. \\n\"\n",
              "    }\n",
              "  }\n",
              "  create_time {\n",
              "    seconds: 1718096616\n",
              "    nanos: 510123000\n",
              "  }\n",
              "  turn: 6\n",
              "}\n",
              "create_time {\n",
              "  seconds: 1718096187\n",
              "  nanos: 295483000\n",
              "}\n",
              "update_time {\n",
              "  seconds: 1718096616\n",
              "  nanos: 510123000\n",
              "}"
            ]
          },
          "metadata": {},
          "execution_count": 29
        }
      ]
    },
    {
      "cell_type": "markdown",
      "source": [
        "#Cleanup\n",
        "\n",
        "Clean up resources created in this notebook.\n",
        "\n"
      ],
      "metadata": {
        "id": "fjCPA4Nvysu5"
      }
    },
    {
      "cell_type": "markdown",
      "source": [
        "###Delete Session"
      ],
      "metadata": {
        "id": "pKfeUID3yuD8"
      }
    },
    {
      "cell_type": "code",
      "source": [
        "app.delete_session('<Session Name>')"
      ],
      "metadata": {
        "id": "9AHX-qgAOqK4"
      },
      "execution_count": null,
      "outputs": []
    },
    {
      "cell_type": "markdown",
      "source": [
        "### Delete Agent\n",
        "Using either the display name or the fully qualified resource name, you can delete a specific agent under the App."
      ],
      "metadata": {
        "id": "ITlBn56Eyju5"
      }
    },
    {
      "cell_type": "code",
      "source": [
        "app.delete_agent('Cymbal Real Estate Research Agent')"
      ],
      "metadata": {
        "id": "SQihs5HIyju5"
      },
      "execution_count": null,
      "outputs": []
    },
    {
      "cell_type": "markdown",
      "source": [
        "### Delete Extensions"
      ],
      "metadata": {
        "id": "f9cklkMRd9Ce"
      }
    },
    {
      "cell_type": "code",
      "source": [
        "webpage_browser_extension.delete()\n",
        "search_extension.delete()"
      ],
      "metadata": {
        "id": "FTy04HZEd8GO"
      },
      "execution_count": null,
      "outputs": []
    },
    {
      "cell_type": "markdown",
      "source": [
        "### Delete the GCS bucket"
      ],
      "metadata": {
        "id": "JsY1q1VOeHVm"
      }
    },
    {
      "cell_type": "code",
      "source": [
        "# Delete contents of the bucket and the bucket\n",
        "#! gsutil -m rm -r gs://$GCS_BUCKET"
      ],
      "metadata": {
        "id": "a5j3rNxMeGAr"
      },
      "execution_count": null,
      "outputs": []
    },
    {
      "cell_type": "markdown",
      "source": [
        "Don't forget to delete any other created assets if you don't need them, e.g. the Vertex AI data store and search app (you need to delete them from the Google Cloud Console).\n",
        "\n",
        "Your Vertex AI Search app: https://console.cloud.google.com/gen-app-builder/apps\n",
        "Your Vertex AI Search data store: https://console.cloud.google.com/gen-app-builder/data-stores"
      ],
      "metadata": {
        "id": "dmhkt9R6eVNY"
      }
    }
  ]
}