{
 "cells": [
  {
   "cell_type": "code",
   "execution_count": null,
   "metadata": {
    "id": "nCLHXnfFn4WI"
   },
   "outputs": [],
   "source": [
    "# Copyright 2024 Google LLC\n",
    "#\n",
    "# Licensed under the Apache License, Version 2.0 (the \"License\");\n",
    "# you may not use this file except in compliance with the License.\n",
    "# You may obtain a copy of the License at\n",
    "#\n",
    "#     https://www.apache.org/licenses/LICENSE-2.0\n",
    "#\n",
    "# Unless required by applicable law or agreed to in writing, software\n",
    "# distributed under the License is distributed on an \"AS IS\" BASIS,\n",
    "# WITHOUT WARRANTIES OR CONDITIONS OF ANY KIND, either express or implied.\n",
    "# See the License for the specific language governing permissions and\n",
    "# limitations under the License."
   ]
  },
  {
   "cell_type": "markdown",
   "metadata": {
    "id": "WHtLTE3ksNDP"
   },
   "source": [
    "# Research Agent for Housing Investment Opportunities Using the Vertex AI Agent API\n",
    "\n",
    "TODO: Update tracking links for public preview.\n",
    "\n",
    "<table align=\"left\">\n",
    "  <td style=\"text-align: center\">\n",
    "    <a href=\"https://art-analytics.appspot.com/r.html?uaid=G-FHXEFWTT4E&utm_source=aRT-res_agapi_notebook-from_notebook-colab&utm_medium=aRT-clicks&utm_campaign=res_agapi_notebook-from_notebook-colab&destination=res_agapi_notebook-from_notebook-colab&url=https%3A%2F%2Fcolab.research.google.com%2Fgithub%2FGoogleCloudPlatform%2Fapplied-ai-engineering-samples%2Fblob%2Fagents-api-notebooks%2Fgenai-on-vertex-ai%2Fvertex_ai_agent_api%2Fnotebooks%2Freal_estate_research_vertexai_agent.ipynb\">\n",
    "      <img src=\"https://cloud.google.com/ml-engine/images/colab-logo-32px.png\" alt=\"Google Colaboratory logo\"><br> Open in Colab\n",
    "    </a>\n",
    "  </td>\n",
    "  <td style=\"text-align: center\">\n",
    "    <a href=\"https://art-analytics.appspot.com/r.html?uaid=G-FHXEFWTT4E&utm_source=aRT-res_agapi_notebook-from_notebook-colab_ent&utm_medium=aRT-clicks&utm_campaign=res_agapi_notebook-from_notebook-colab_ent&destination=res_agapi_notebook-from_notebook-colab_ent&url=https%3A%2F%2Fconsole.cloud.google.com%2Fvertex-ai%2Fcolab%2Fimport%2Fhttps%3A%252F%252Fraw.githubusercontent.com%252FGoogleCloudPlatform%252Fapplied-ai-engineering-samples%252Fagents-api-notebooks%252Fgenai-on-vertex-ai%252Fvertex_ai_agent_api%252Fnotebooks%252Freal_estate_research_vertexai_agent.ipynb\">\n",
    "      <img width=\"32px\" src=\"https://lh3.googleusercontent.com/JmcxdQi-qOpctIvWKgPtrzZdJJK-J3sWE1RsfjZNwshCFgE_9fULcNpuXYTilIR2hjwN\" alt=\"Google Cloud Colab Enterprise logo\"><br> Open in Colab Enterprise\n",
    "    </a>\n",
    "  </td>    \n",
    "  <td style=\"text-align: center\">\n",
    "    <a href=\"https://art-analytics.appspot.com/r.html?uaid=G-FHXEFWTT4E&utm_source=aRT-res_agapi_notebook-from_notebook-vai_workbench&utm_medium=aRT-clicks&utm_campaign=res_agapi_notebook-from_notebook-vai_workbench&destination=res_agapi_notebook-from_notebook-vai_workbench&url=https%3A%2F%2Fconsole.cloud.google.com%2Fvertex-ai%2Fworkbench%2Fdeploy-notebook%3Fdownload_url%3Dhttps%3A%2F%2Fraw.githubusercontent.com%2FGoogleCloudPlatform%2Fapplied-ai-engineering-samples%2Fagents-api-notebooks%2Fgenai-on-vertex-ai%2Fvertex_ai_agent_api%2Fnotebooks%2Freal_estate_research_vertexai_agent.ipynb\">\n",
    "      <img src=\"https://lh3.googleusercontent.com/UiNooY4LUgW_oTvpsNhPpQzsstV5W8F7rYgxgGBD85cWJoLmrOzhVs_ksK_vgx40SHs7jCqkTkCk=e14-rj-sc0xffffff-h130-w32\" alt=\"Vertex AI logo\"><br> Open in Workbench\n",
    "    </a>\n",
    "  </td>\n",
    "  <td style=\"text-align: center\">\n",
    "    <a href=\"https://art-analytics.appspot.com/r.html?uaid=G-FHXEFWTT4E&utm_source=aRT-res_agapi_notebook-from_notebook-github&utm_medium=aRT-clicks&utm_campaign=res_agapi_notebook-from_notebook-github&destination=res_agapi_notebook-from_notebook-github&url=https%3A%2F%2Fgithub.com%2FGoogleCloudPlatform%2Fapplied-ai-engineering-samples%2Fblob%2Fagents-api-notebooks%2Fgenai-on-vertex-ai%2Fvertex_ai_agent_api%2Fnotebooks%2Freal_estate_research_vertexai_agent.ipynb\">\n",
    "      <img src=\"https://cloud.google.com/ml-engine/images/github-logo-32px.png\" alt=\"GitHub logo\"><br> View on GitHub\n",
    "    </a>\n",
    "  </td>\n",
    "</table>\n"
   ]
  },
  {
   "cell_type": "markdown",
   "metadata": {
    "id": "MGwjcyJkb78K"
   },
   "source": [
    "| | |\n",
    "|----------|-------------|\n",
    "| Author(s)   | [Lei Pan](https://github.com/genaimagician)|\n",
    "| Reviewers(s) | Anand Iyer, Danhao Guo, Hanfei Sun, Meltem Subasioglu, Michael Sherman|\n",
    "| Last updated | 2024-07-21: Fixed code review items |\n",
    "| | 2024-07-12: Updated to 1.60 SDK |\n",
    "| | 2024-07-10: Added text from the template |\n",
    "| | 2024-06-30: Polished text for publishing |\n",
    "| | 2024-06-14: Second Draft |"
   ]
  },
  {
   "cell_type": "markdown",
   "metadata": {
    "id": "JAPoU8Sm5E6e"
   },
   "source": [
    "# Overview\n",
    "\n",
    "TODO: Update webpage browser extension docs link for public preview.\n",
    "TODO: Update getting started notebook link for public preview.\n",
    "\n",
    "This notebook shows you how to use the [Vertex AI Agent API](https://cloud.google.com/vertex-ai/generative-ai/docs/agent-api/overview) with the [Vertex AI Search Extension](https://cloud.google.com/vertex-ai/generative-ai/docs/extensions/vertex-ai-search) and [Webpage Browser Extension](https://cloud.google.com/vertex-ai/generative-ai/docs/extensions/private/webpage-browser) tools to complete housing investment opportunities research for business stakeholders. You will perform the following steps:\n",
    "\n",
    "- Creating Vertex AI _earch extension, webpage browser extension, and function call tools.\n",
    "- Creating an agent app in your project.\n",
    "- Creating an agent in the app and adding instructions & extensions & function call tools to the agent.\n",
    "- Asking the agent housing investment opportunities questions.\n",
    "\n",
    "In addition to Vertex AI Agent API, this notebook uses [Vertex AI Search](https://cloud.google.com/generative-ai-app-builder/docs/enterprise-search-introduction), the [Vertex AI Search extension](https://cloud.google.com/vertex-ai/generative-ai/docs/extensions/vertex-ai-search), [Function Calling](https://cloud.google.com/vertex-ai/generative-ai/docs/multimodal/function-calling), and the Webpage Browser Extension.\n",
    "\n",
    "If you're new to Google Cloud, Vertex AI, or the Vertex AI Agent API you may want to look at the [Getting Started with the Vertex AI Agent API](https://github.com/GoogleCloudPlatform/applied-ai-engineering-samples/blob/agents-api-notebooks/genai-on-vertex-ai/vertex_ai_agent_api/notebooks/getting_started_vertex_agent_api.ipynb) notebook, which contains an overview of how to use the Vertex AI Agent API, a basic agent example, and troubleshooting tips."
   ]
  },
  {
   "cell_type": "markdown",
   "metadata": {
    "id": "KUXzlvfpn513"
   },
   "source": [
    " ## Vertex AI Agent API\n",
    "\n",
    "[Vertex AI Agent API](https://cloud.google.com/vertex-ai/generative-ai/docs/agent-api/overview) is an API for creating and managing Generative AI systems called \"agents\" that can  reason, plan, and act to perform specific tasks.\n",
    "\n",
    " Vertex AI Agent API offers faster time to market than building agents from scratch while still being flexible and customizable. It handles orchestraction and state management, gives you the benefits of Google's expertise in building reliable AI systems, scales in a secure and responsible way, and seamlessly integrates with other Vertex AI and Google Cloud products."
   ]
  },
  {
   "cell_type": "markdown",
   "metadata": {
    "id": "uNriTZl70OdV"
   },
   "source": [
    "## Using This Notebook\n",
    "\n",
    "TODO: Webpage browser extension docs link at public preview.\n",
    "TODO: Update getting started notebook link at public preview.\n",
    "TODO: Update environment/versions the notebook has been tested in at public preview.\n",
    "\n",
    "Colab is recommended for running this notebook, but it can run in any iPython environment where you can connect to Google Cloud, install pip packages, etc.\n",
    "\n",
    "If you're running outside of Colab and encountering issues, the [Getting Started with Vertex AI Agent notebook](https://github.com/GoogleCloudPlatform/applied-ai-engineering-samples/blob/agents-api-notebooks/genai-on-vertex-ai/vertex_ai_agent_api/notebooks/getting_started_vertex_agent_api.ipynb.ipynb) has some troubleshooting tips.\n",
    "\n",
    "This tutorial uses the following Google Cloud services and resources:\n",
    "\n",
    "* [Vertex AI Agent API](https://cloud.google.com/vertex-ai/generative-ai/docs/agent-api/overview)\n",
    "* [Google Cloud Storage](https://cloud.google.com/storage?hl=en)\n",
    "* [Vertex AI Search](https://cloud.google.com/enterprise-search?hl=en)\n",
    "* [Vertex AI Search Extension](https://cloud.google.com/vertex-ai/generative-ai/docs/extensions/vertex-ai-search)\n",
    "* [Webpage Broswer Extension](https://cloud.google.com/vertex-ai/generative-ai/docs/extensions/private/webpage-browser)\n",
    "* [Function Calling](https://cloud.google.com/vertex-ai/generative-ai/docs/multimodal/function-calling)\n",
    "\n",
    "This notebook has been tested in the following environment:\n",
    "\n",
    "* Python version = 3.10.12\n",
    "* [google-cloud-aiplatform](https://pypi.org/project/google-cloud-aiplatform/) version = 1.60\n",
    "* [google-cloud-discoveryengine](https://cloud.google.com/python/docs/reference/discoveryengine/latest) version = 0.11.11\n",
    "\n"
   ]
  },
  {
   "cell_type": "markdown",
   "metadata": {
    "id": "Ar0aDcql1dxl"
   },
   "source": [
    "## Useful Tips\n",
    "\n",
    "1. This notebook uses Generative AI cababilities. Re-running a cell that uses Generative AI capabilities may produce similar but not identical results.\n",
    "2. Because of #1, it is possible that an output produces errors. If that happens re-run the cell that produced the error. The re-run will likely be bug free.\n",
    "3. The use of Generative AI capabilities is subject to service quotas. Running the notebook using \"Run All\" may exceed your queries per minute (QPM) limitations. Run the notebook manually and if you get a quota error pause for up to 1 minute before retrying that cell. The Vertex AI Agent API defaults to Gemini on the backend and is subject to the Gemini quotas, [view your Gemini quotas here](https://console.cloud.google.com/iam-admin/quotas?pageState=(%22allQuotasTable%22:(%22f%22:%22%255B%257B_22k_22_3A_22_22_2C_22t_22_3A10_2C_22v_22_3A_22_5C_22base_model_5C_22_22%257D_2C%257B_22k_22_3A_22_22_2C_22t_22_3A10_2C_22v_22_3A_22_5C_22gemini_5C_22_22%257D%255D%22%29%29&e=13802955&mods=logs_tg_staging).\n"
   ]
  },
  {
   "cell_type": "markdown",
   "metadata": {
    "id": "PO_tnShTGUik"
   },
   "source": [
    "# Setup"
   ]
  },
  {
   "cell_type": "markdown",
   "metadata": {
    "id": "XLf5oGqHn_DH"
   },
   "source": [
    "## Enable APIs and Set Permissions\n",
    "1. [Enable the Service Usage API](https://console.cloud.google.com/apis/library/serviceusage.googleapis.com)\n",
    "1. [Enable the Vertex AI API](https://console.cloud.google.com/flows/enableapi?apiid=aiplatform.googleapis.com).\n",
    "1. [Enable the Vertex AI API (autopush)](https://console.cloud.google.com/apis/api/autopush-aiplatform.sandbox.googleapis.com/metrics).\n",
    "1. [Enable the Cloud Storage API](https://console.cloud.google.com/flows/enableapi?apiid=storage.googleapis.com).\n",
    "1. [Enable the Discovery Engine API for your project](https://console.cloud.google.com/marketplace/product/google/discoveryengine.googleapis.com)\n",
    "1. [Enable the Agent Builder API](https://console.cloud.google.com/gen-app-builder/start)\n",
    "\n",
    "**To run the complete Notebook, including the optional section, you will need to have the [Owner role](https://cloud.google.com/iam/docs/understanding-roles) for your project.**\n",
    "\n",
    "If you want to skip the optional section, you need at least the following [roles](https://cloud.google.com/iam/docs/granting-changing-revoking-access):\n",
    "* **`roles/serviceusage.serviceUsageAdmin`** to enable APIs\n",
    "* **`roles/iam.serviceAccountAdmin`** to modify service agent permissions\n",
    "* **`roles/discoveryengine.admin`** to modify discoveryengine assets\n",
    "* **`roles/aiplatform.user`** to use AI Platform components\n",
    "* **`roles/storage.objectAdmin`** to modify and delete GCS buckets\n",
    "\n"
   ]
  },
  {
   "cell_type": "markdown",
   "metadata": {
    "id": "SfNhErJDVmk5"
   },
   "source": [
    "## Authenticate\n",
    "\n",
    "TODO: Update getting started notebook link at public preview.\n",
    "\n",
    "If you outside of Colab and are having problems authenticating, see the Authentication section in the [Getting Started with the Vertex AI Agent API](https://github.com/GoogleCloudPlatform/applied-ai-engineering-samples/blob/agents-api-notebooks/genai-on-vertex-ai/vertex_ai_agent_api/notebooks/getting_started_vertex_agent_api.ipynb) notebook.\n",
    "\n",
    "STOPPED HERE -- test without gcloud just to see what happens first yo! AND YOU HAVEN'T ACTUALLY RUN ANYTHING YET!"
   ]
  },
  {
   "cell_type": "code",
   "execution_count": null,
   "metadata": {
    "colab": {
     "base_uri": "https://localhost:8080/"
    },
    "id": "JZGytImrziVA",
    "outputId": "6e4cba54-66a0-43a0-ee51-d27729f05753",
    "tags": []
   },
   "outputs": [],
   "source": [
    "# Colab authentication.\n",
    "import sys\n",
    "\n",
    "if \"google.colab\" in sys.modules:\n",
    "    from google.colab import auth\n",
    "    auth.authenticate_user()\n",
    "    print(\"Authenticated\")"
   ]
  },
  {
   "cell_type": "markdown",
   "metadata": {
    "id": "JgXyHQQfsGnc"
   },
   "source": [
    "## Install the Google Cloud Vertex AI Python SDK\n",
    "\n",
    "TODO: Update to public pip and retest notebook (in and out of colab) at public preview.\n",
    "\n",
    "The code blocks below download and install the Vertex AI Agent API Python SDK."
   ]
  },
  {
   "cell_type": "code",
   "execution_count": null,
   "metadata": {
    "colab": {
     "base_uri": "https://localhost:8080/"
    },
    "id": "abQtu5_aIprk",
    "outputId": "02bfd4f1-cc41-4093-d41e-d5bc29b8d69c",
    "tags": []
   },
   "outputs": [],
   "source": [
    "!gsutil cp gs://vertex_agents_private_releases/vertex_agents/google_cloud_aiplatform-1.60.dev20240710+vertex.agents-py2.py3-none-any.whl ."
   ]
  },
  {
   "cell_type": "code",
   "execution_count": null,
   "metadata": {
    "id": "AOJu5GA6zjEJ",
    "tags": []
   },
   "outputs": [],
   "source": [
    "%pip install google-cloud-discoveryengine --upgrade\n",
    "%pip install --upgrade google-auth\n",
    "%pip install --quiet --user --upgrade --force-reinstall -q google_cloud_aiplatform-1.60.dev20240710+vertex.agents-py2.py3-none-any.whl --no-warn-conflicts\n",
    "# Outside of colab, the previous line may not work. Instead, uncomment:\n",
    "# %pip install --upgrade --force-reinstall -q google_cloud_aiplatform-1.60.dev20240710+vertex.agents-py2.py3-none-any.whl --no-warn-conflicts\n",
    "%pip install -U \"pandas==2.2.2\"\n",
    "%pip install -U 'numpy<2'"
   ]
  },
  {
   "cell_type": "markdown",
   "metadata": {
    "id": "R5Xep4W9lq-Z"
   },
   "source": [
    "### Restart Runtime\n",
    "\n",
    "You may need to restart your notebook runtime to use the Vertex AI SDK. You can do this by running the cell below, which restarts the current kernel.\n",
    "\n",
    "You may see the restart reported as a crash, but it is working as-intended -- you are merely restarting the runtime.\n",
    "\n",
    "The restart might take a minute or longer. After its restarted, continue to the next step."
   ]
  },
  {
   "cell_type": "code",
   "execution_count": null,
   "metadata": {
    "colab": {
     "base_uri": "https://localhost:8080/"
    },
    "id": "XRvKdaPDTznN",
    "outputId": "96d57b84-745b-4151-f3f2-a08ea9e4a9a2",
    "tags": []
   },
   "outputs": [],
   "source": [
    "import IPython\n",
    "\n",
    "app = IPython.Application.instance()\n",
    "app.kernel.do_shutdown(True)"
   ]
  },
  {
   "cell_type": "markdown",
   "metadata": {
    "id": "SvJv6I4MgmsF"
   },
   "source": [
    "# Initialize the Google Cloud Vertex AI Python SDK\n"
   ]
  },
  {
   "cell_type": "markdown",
   "metadata": {
    "id": "DUtmcrKTgqKe"
   },
   "source": [
    "### Set Your Project ID\n"
   ]
  },
  {
   "cell_type": "code",
   "execution_count": null,
   "metadata": {
    "id": "VXV0NeaugrV1",
    "tags": []
   },
   "outputs": [],
   "source": [
    "PROJECT_ID = 'YOUR_PROJECT_ID_HERE'\n",
    "LOCATION = 'us-central1'\n",
    "API_ENDPOINT = 'us-central1-autopush-aiplatform.sandbox.googleapis.com'"
   ]
  },
  {
   "cell_type": "markdown",
   "metadata": {
    "id": "Ojtwou1cgyFF"
   },
   "source": [
    "### Import and Initialize the Vertex AI Python SDK"
   ]
  },
  {
   "cell_type": "code",
   "execution_count": null,
   "metadata": {
    "id": "xwnx0xPuskAQ",
    "tags": []
   },
   "outputs": [],
   "source": [
    "from google.cloud import aiplatform\n",
    "from google.cloud.aiplatform.private_preview.vertex_agents.app import App, Session\n",
    "from google.cloud.aiplatform.private_preview.vertex_agents.agent import Agent\n",
    "from vertexai.preview.extensions import Extension\n",
    "\n",
    "aiplatform.init(project=PROJECT_ID, location=LOCATION, api_endpoint=API_ENDPOINT)"
   ]
  },
  {
   "cell_type": "markdown",
   "metadata": {
    "id": "wWso7BK7egeY"
   },
   "source": [
    "# Cymbal Real Estate Research Agent - Search and Webpage Browser Tools"
   ]
  },
  {
   "cell_type": "markdown",
   "metadata": {
    "id": "44ikqwKQpEms"
   },
   "source": [
    "## Step 1: Create Vertex AI Search Extension Tool with Proprietary Cymbal Datasource\n",
    "\n",
    "In this section, we do the following tasks:\n",
    "\n",
    "- Create a Vertex AI Search App with 3 PDFs ([PDF1](https://drive.google.com/file/d/1sqGmjqDOLtBMEJkGRAhcTYVbZXkKPAWJ/view?usp=sharing), [PDF2](https://drive.google.com/file/d/1M2Uk5ABMlLix1Nxg7LEWmW4ioZ_SxhkU/view?usp=drive_link), [PDF3](https://drive.google.com/file/d/19kUrpUv9AKIebHRja_RcyP7JTPMyKmkV/view?usp=drive_link)).\n",
    "- Create the Vertex AI Search Extension and set it to use the created Vertex AI Search app.\n",
    "\n",
    "Note: 3 PDFs are (synthetic) exclusive San Francisco off-market property listings for the Cymbal Real Estate Group."
   ]
  },
  {
   "cell_type": "markdown",
   "metadata": {
    "id": "ei9fJCWfFafT"
   },
   "source": [
    "#### Roles Setup\n",
    "\n",
    "If you have already granted the [Vertex AI Extension Service agent](https://cloud.google.com/vertex-ai/docs/general/access-control#service-agents) the necessary roles to use the Vertex AI Search extension, feel free to skip this step. If not, follow these steps to [grant additional roles in the IAM console](https://cloud.google.com/iam/docs/grant-role-console#grant-other-roles):\n",
    "\n",
    "1. Open the [IAM Console](https://console.cloud.google.com/iam-admin/iam).\n",
    "1. Check the box next to \"Include Google-provided role grants\" to include [service agents](https://cloud.google.com/iam/docs/service-account-types#service-agents).\n",
    "1. In the \"Filter\" bar, (on top of \"Enter Property Name or Value\") type \"gcp-sa-vertex-ex.iam.gserviceaccount.com\".\n",
    "1. You'll see a Principal \"service-YOUR_PROJECT_NUMBER@gcp-sa-vertex-ex.iam.gserviceaccount.com\". Click the pencil icon at the far right of the row to open the Roles popup.\n",
    "1. Click \"+ Add Another Role\". A bar with \"Select a role\" will appear, click it and Filter for \"Discovery Engine Editor\" and click to add the role. \n",
    "1. Click \"+ Add Another Role\". A bar with \"Select a role\" will appear, click it and Filter for \"Vertex AI Extension Service Agent\" and click to add the role. \n"
   ]
  },
  {
   "cell_type": "markdown",
   "metadata": {
    "id": "eLSvcJrRBa0P"
   },
   "source": [
    "#### Create a Vertex AI Search App for the Vertex AI Search Extension in 4 Steps\n",
    "\n",
    "To create a Search app for Vertex AI Search Extension to use, you can either do that manually by following [these docs](https://cloud.google.com/generative-ai-app-builder/docs/create-datastore-ingest) or run the 4 steps below. If you already have a vertex AI Search app set up, feel free to skip these 4 steps and go to the \"Set Up the Vertex AI Search Extension Tool\" section."
   ]
  },
  {
   "cell_type": "markdown",
   "metadata": {
    "id": "IBcXf2rdBASy"
   },
   "source": [
    "##### 1) Download PDFs, Create a GCS Bucket, and Ingest Into GCS Bucket\n",
    "\n",
    "The following code blocks create a GCS bucket `PROJECT_ID-cymbal-offmarket-list` to hold the 3 PDFs for ingestion into the Vertex AI Search app."
   ]
  },
  {
   "cell_type": "code",
   "execution_count": null,
   "metadata": {
    "tags": []
   },
   "outputs": [],
   "source": [
    "# If you don't have `gdown` and `gsutil', please install them.\n",
    "# %pip install gdown\n",
    "# %pip install gsutil"
   ]
  },
  {
   "cell_type": "code",
   "execution_count": null,
   "metadata": {
    "id": "kb3BDKin-6z-",
    "tags": []
   },
   "outputs": [],
   "source": [
    "from google.cloud import storage\n",
    "import gdown\n",
    "def upload_blob(bucket_name, source_file_name, destination_blob_name):\n",
    "    \"\"\"Uploads a file to the bucket.\"\"\"\n",
    "    storage_client = storage.Client()\n",
    "    bucket = storage_client.bucket(bucket_name)\n",
    "    blob = bucket.blob(destination_blob_name)\n",
    "    generation_match_precondition = None\n",
    "    blob.upload_from_filename(source_file_name, if_generation_match=generation_match_precondition)\n",
    "    print(f\"File {source_file_name} uploaded to {destination_blob_name}.\")\n",
    "\n",
    "# Create a GCS bucket if you don't have one\n",
    "GCS_BUCKET = f\"{PROJECT_ID}-cymbal-offmarket-list\"\n",
    "! set -x && gsutil mb -p $PROJECT_ID -l us-central1 gs://$GCS_BUCKET\n",
    "\n",
    "gcs_bucket = GCS_BUCKET # If you don't use the bucket created in the notebook, use the name of your bucket.\n",
    "folder_path = \"offmarket_data_pdfs/\" #Default sub folder name in your gcs bucket. You can use this one.\n",
    "\n",
    "# Download the pdfs and ingest them to the GCS bucket\n",
    "url_list = [\"https://drive.google.com/uc?id=1sqGmjqDOLtBMEJkGRAhcTYVbZXkKPAWJ\",\n",
    "\"https://drive.google.com/uc?id=1M2Uk5ABMlLix1Nxg7LEWmW4ioZ_SxhkU\",\n",
    "\"https://drive.google.com/uc?id=19kUrpUv9AKIebHRja_RcyP7JTPMyKmkV\"]\n",
    "i=1\n",
    "for url in url_list:\n",
    "  gdown.download(url, f\"invest{i}.pdf\")\n",
    "  upload_blob(gcs_bucket,f\"invest{i}.pdf\",f\"{folder_path}invest{i}.pdf\")\n",
    "  i+=1"
   ]
  },
  {
   "cell_type": "markdown",
   "metadata": {
    "id": "VsZUGcCSgMFw"
   },
   "source": [
    "##### 2) Create a Vertex AI Search Data Store\n",
    "The Vertex AI Search extension needs a [**Data Store** and **Vertex AI Search app**](https://cloud.google.com/generative-ai-app-builder/docs/create-datastore-ingest) to run. After creating the data store using the cell below, You can inspect it under: https://console.cloud.google.com/gen-app-builder/data-stores."
   ]
  },
  {
   "cell_type": "code",
   "execution_count": null,
   "metadata": {
    "id": "VwHVcxEg3qzT",
    "tags": []
   },
   "outputs": [],
   "source": [
    "# Specify an id for your data store. It should only use lowercase letters.\n",
    "DATA_STORE_ID = \"cymbal-offmarket-datastore\""
   ]
  },
  {
   "cell_type": "markdown",
   "metadata": {},
   "source": [
    "Create your Vertex AI Search data store:"
   ]
  },
  {
   "cell_type": "code",
   "execution_count": null,
   "metadata": {
    "colab": {
     "base_uri": "https://localhost:8080/"
    },
    "id": "DOLi7KS5gR0P",
    "outputId": "cd8ad6dd-6aee-49a9-a291-6f30aaff404d",
    "tags": []
   },
   "outputs": [],
   "source": [
    "%%bash -s \"$PROJECT_ID\" \"$DATA_STORE_ID\"\n",
    "curl -X POST \\\n",
    "-H \"Authorization: Bearer $(gcloud auth print-access-token)\" \\\n",
    "-H \"Content-Type: application/json\" \\\n",
    "-H \"X-Goog-User-Project: $1\" \\\n",
    "\"https://discoveryengine.googleapis.com/v1alpha/projects/$1/locations/global/collections/default_collection/dataStores?dataStoreId=$2\" \\\n",
    "-d '{\n",
    "  \"displayName\": \"Cymbal-Offmarket-Datastore\",\n",
    "  \"industryVertical\": \"GENERIC\",\n",
    "  \"solutionTypes\": [\"SOLUTION_TYPE_SEARCH\"],\n",
    "  \"contentConfig\": \"CONTENT_REQUIRED\",\n",
    "}'"
   ]
  },
  {
   "cell_type": "markdown",
   "metadata": {
    "id": "jc2zLUA6BMsa"
   },
   "source": [
    "##### 3) Ingest PDF Files in the GCS bucket into the Vertex AI Search Data Store\n",
    "\n",
    "Now you just need to ingest your .pdf files into the data store by running the cell below.\n",
    "\n",
    "This process can take somewhere between 5-10 mins. You can check the status of the ingestion by going to the [Data Stores view in the Cloud Console](https://console.cloud.google.com/gen-app-builder/data-stores.) clicking on your newly created data store."
   ]
  },
  {
   "cell_type": "code",
   "execution_count": null,
   "metadata": {
    "colab": {
     "base_uri": "https://localhost:8080/",
     "height": 333
    },
    "id": "MT6vj3nr6T8e",
    "outputId": "a3cdaeaf-a9b0-4555-91fe-35e25d5fa555",
    "tags": []
   },
   "outputs": [],
   "source": [
    "from google.api_core.client_options import ClientOptions\n",
    "from google.cloud import discoveryengine\n",
    "from typing import Optional\n",
    "\n",
    "def import_documents_sample(project_id: str,location: str,data_store_id: str,\n",
    "    gcs_uri: Optional[str] = None,) -> str:\n",
    "    \"\"\"Imports documents into a Vertex AI data store from GCS.\n",
    "    This function imports documents into a specified data store within Vertex AI\n",
    "    Agent Builder from a GCS bucket.\n",
    "    \"\"\"\n",
    "    client_options = (\n",
    "        ClientOptions(api_endpoint=f\"{location}-discoveryengine.googleapis.com\")\n",
    "        if location != \"global\"\n",
    "        else None\n",
    "    )\n",
    "    client = discoveryengine.DocumentServiceClient(client_options=client_options)\n",
    "    # The full resource name of the search engine branch.\n",
    "    parent = client.branch_path(\n",
    "        project=project_id,\n",
    "        location=location,\n",
    "        data_store=data_store_id,\n",
    "        branch=\"default_branch\",)\n",
    "\n",
    "    request = discoveryengine.ImportDocumentsRequest(\n",
    "        parent=parent,\n",
    "        gcs_source=discoveryengine.GcsSource(\n",
    "            input_uris=[gcs_uri], data_schema=\"content\"\n",
    "        ),\n",
    "        # Options: `FULL`, `INCREMENTAL`\n",
    "        reconciliation_mode=discoveryengine.ImportDocumentsRequest.ReconciliationMode.INCREMENTAL,)\n",
    "    # Make the request\n",
    "    operation = client.import_documents(request=request)\n",
    "    print(f\"Waiting for operation to complete: {operation.operation.name}\")\n",
    "    response = operation.result()\n",
    "    # Once the operation is complete, get information from operation metadata.\n",
    "    metadata = discoveryengine.ImportDocumentsMetadata(operation.metadata)\n",
    "    # Handle the response.\n",
    "    print(response)\n",
    "    print(metadata)\n",
    "    return operation.operation.name\n",
    "\n",
    "# Ingest pdfs in the GCS bucket to the data store\n",
    "GCS_URI = f\"gs://{gcs_bucket}/{folder_path}*.pdf\"\n",
    "import_documents_sample(PROJECT_ID, \"global\", DATA_STORE_ID, GCS_URI)"
   ]
  },
  {
   "cell_type": "markdown",
   "metadata": {
    "id": "xwcBGeljauNR"
   },
   "source": [
    "##### 4) Create a Vertex Search App and Connect it to the Data Store\n",
    "The following cell lets you create a Vertex AI Search App to ✨**connect**✨ to your newly created data store. You need to enable searchTier and searchAddOns for the Vertex AI Search Extension to work as shown in the cell below. Read [Advanced Features](https://cloud.google.com/generative-ai-app-builder/docs/about-advanced-features) to learn more."
   ]
  },
  {
   "cell_type": "code",
   "execution_count": null,
   "metadata": {
    "colab": {
     "base_uri": "https://localhost:8080/"
    },
    "id": "fu8919bNaybd",
    "outputId": "0b41a847-3acb-4141-fca0-176ac3817116",
    "tags": []
   },
   "outputs": [],
   "source": [
    "%%bash -s \"$PROJECT_ID\" \"$DATA_STORE_ID\"\n",
    "curl -X POST \\\n",
    "-H \"Authorization: Bearer $(gcloud auth print-access-token)\" \\\n",
    "-H \"Content-Type: application/json\" \\\n",
    "-H \"X-Goog-User-Project: $1\" \\\n",
    "\"https://discoveryengine.googleapis.com/v1/projects/$1/locations/global/collections/default_collection/engines?engineId=$2\" \\\n",
    "-d '{\n",
    "  \"displayName\": \"Cymbal-Offmarket-Datastore-Engine\",\n",
    "  \"dataStoreIds\": [\"'$2'\"],\n",
    "  \"solutionType\": \"SOLUTION_TYPE_SEARCH\",\n",
    "  \"searchEngineConfig\": {\n",
    "     \"searchTier\": \"SEARCH_TIER_ENTERPRISE\",\n",
    "     \"searchAddOns\": [\"SEARCH_ADD_ON_LLM\"]\n",
    "   }\n",
    "}'"
   ]
  },
  {
   "cell_type": "markdown",
   "metadata": {
    "id": "1TaNXRnqL1Lu"
   },
   "source": [
    "#### Set Up the Vertex AI Search Extension Tool\n",
    "\n",
    "After you create the Vertex AI Search app, use the Vertex AI Search extension to connect to the Vertex AI Search app to extract the key housing research information. The following cells show you how to get the housing research information using the Vertex AI Search extension. You can read more about the Vertex AI Search extension [here](https://cloud.google.com/vertex-ai/generative-ai/docs/extensions/vertex-ai-search)."
   ]
  },
  {
   "cell_type": "code",
   "execution_count": null,
   "metadata": {
    "id": "j45s9LyIOvQ8",
    "tags": []
   },
   "outputs": [],
   "source": [
    "#If you used this notebook to create the search app, this should be the app name.\n",
    "#If you use your own search app, please replace the search app id with yours here.\n",
    "SEARCH_APP_ID = \"cymbal-offmarket-datastore\"\n",
    "SEARCH_APP_REGION = \"global\""
   ]
  },
  {
   "cell_type": "code",
   "execution_count": null,
   "metadata": {
    "id": "l_hqJnawdayL",
    "tags": []
   },
   "outputs": [],
   "source": [
    "SEARCH_CONFIG  = \"projects/{project_id}/locations/{search_app_region}/collections/default_collection/engines/{search_app_id}/servingConfigs/default_search\".format(\n",
    "    project_id=PROJECT_ID,\n",
    "    search_app_region=SEARCH_APP_REGION,\n",
    "    search_app_id=SEARCH_APP_ID)"
   ]
  },
  {
   "cell_type": "code",
   "execution_count": null,
   "metadata": {
    "colab": {
     "base_uri": "https://localhost:8080/"
    },
    "id": "zXggbziVKPC2",
    "outputId": "9cd288fd-7a96-4493-912d-192b627c0c3b",
    "tags": []
   },
   "outputs": [],
   "source": [
    "search_extension = Extension.from_hub(\n",
    "    \"vertex_ai_search\",\n",
    "    runtime_config={\n",
    "        \"vertex_ai_search_runtime_config\": {\n",
    "            \"serving_config_name\": SEARCH_CONFIG,\n",
    "        }\n",
    "    })"
   ]
  },
  {
   "cell_type": "markdown",
   "metadata": {
    "id": "-GyFwhSxnO5d"
   },
   "source": [
    "## Step 2: Create Webpage Browser Extension Tool\n",
    "\n",
    "TODO: Update to use `Extension.from_hub()` at public preview."
   ]
  },
  {
   "cell_type": "code",
   "execution_count": null,
   "metadata": {
    "id": "O7YkBV8P0xQI",
    "tags": []
   },
   "outputs": [],
   "source": [
    "webpage_browser_extension = Extension.create(\n",
    "    display_name = \"Webpage Browser\",\n",
    "    description = \"This extension searches answers in browser\",\n",
    "    manifest = {\n",
    "        \"name\": \"webpage_browser\",\n",
    "        \"description\": \"Webpage Browser Extension\",\n",
    "        \"api_spec\": {\n",
    "            \"open_api_gcs_uri\": \"gs://vertex-extension-dev/webpage_browser.yaml\"\n",
    "        },\n",
    "        \"auth_config\": {\n",
    "            \"auth_type\": \"NO_AUTH\",\n",
    "        },\n",
    "    },\n",
    ")"
   ]
  },
  {
   "cell_type": "markdown",
   "metadata": {
    "id": "mq2h-_LEMr9L"
   },
   "source": [
    "## Step 3: Function Call Tool\n",
    "\n",
    "In order for your agent to call a function, you need to provide some information about the function to call. Use the `FunctionDeclaration` class to construct the function declaration you wish to use, and add the `FunctionDeclaration` to your Agent app when you create or update it. You can read more on [function calling here.](https://cloud.google.com/vertex-ai/generative-ai/docs/multimodal/function-calling)"
   ]
  },
  {
   "cell_type": "code",
   "execution_count": null,
   "metadata": {
    "id": "TTXeavD9sc8C",
    "tags": []
   },
   "outputs": [],
   "source": [
    "from vertexai.generative_models import FunctionDeclaration, Part\n",
    "\n",
    "function_declaration = FunctionDeclaration(\n",
    "  name=\"extract_property_sale_records\",\n",
    "  description=\"Extract property sale records from a document.\",\n",
    "  parameters={\n",
    "      \"type\": \"object\",\n",
    "      \"properties\": {\n",
    "          \"records\": {\n",
    "              \"type\": \"array\",\n",
    "              \"description\": \"A list of sale records\",\n",
    "              \"items\": {\n",
    "                  \"description\": \"Data for a sale record\",\n",
    "                  \"type\": \"object\",\n",
    "                  \"properties\": {\n",
    "        \"id\": {\"type\": \"integer\", \"description\": \"The unique id of the sale.\"},\n",
    "                      \"date\": {\"type\": \"string\", \"description\": \"Date of the sale, in the format of MMDDYY, e.g., 031023\"},\n",
    "                      \"total_amount\": {\"type\": \"number\", \"description\": \"The total amount of the sale.\"},\n",
    "                      \"customer_name\": {\"type\": \"string\", \"description\": \"The name of the customer, including first name and last name.\"},\n",
    "                      \"customer_contact\": {\"type\": \"string\", \"description\": \"The phone number of the customer, e.g., 650-123-4567.\"},\n",
    "                  },\n",
    "                  \"required\": [\"id\", \"date\", \"total_amount\"],\n",
    "              },\n",
    "          },\n",
    "      },\n",
    "      \"required\": [\"records\"],\n",
    "  },\n",
    ")"
   ]
  },
  {
   "cell_type": "markdown",
   "metadata": {
    "id": "bpa46pjOwlQW"
   },
   "source": [
    "## Step 4: Create Agent App\n",
    "\n",
    "Before you create a Vertex AI Agent API agent, you need to create a Vertex AI Agent API app to hold the agent. There are two options for creating an app.\n",
    "\n",
    "\n",
    "1.   Use the App.create function, which will create a new app for you.\n",
    "2.   Initialize a Vertex AI Agent API App object with the resource name of a previously created app."
   ]
  },
  {
   "cell_type": "code",
   "execution_count": null,
   "metadata": {
    "id": "YclyIwrvUNZU",
    "tags": []
   },
   "outputs": [],
   "source": [
    "app = App.create(display_name='Cymbal Research Agent App', description='This is an app created for a Cymbal real estate research agent.')"
   ]
  },
  {
   "cell_type": "markdown",
   "metadata": {
    "id": "KeDYd92xtGtj"
   },
   "source": [
    "## Step 5: Create Cymbal Real Estate Research Agent with Instructions on Tools\n",
    "Add an agent to your app by using the `add_agent` method. When adding an agent, you must specify all the required fields."
   ]
  },
  {
   "cell_type": "code",
   "execution_count": null,
   "metadata": {
    "id": "4D8AXpW9bllY",
    "tags": []
   },
   "outputs": [],
   "source": [
    "DISPLAY_NAME = \"Cymbal Real Estate Research Agent\"\n",
    "INSTRUCTIONS = \"You are an expert housing investment opportunities research agent for Cymbal Real Estate Group.\"\n",
    "\n",
    "created_agent = app.add_agent(display_name=DISPLAY_NAME, instructions=INSTRUCTIONS)"
   ]
  },
  {
   "cell_type": "markdown",
   "metadata": {},
   "source": [
    "You should see your agent when you list the agents in your app."
   ]
  },
  {
   "cell_type": "code",
   "execution_count": null,
   "metadata": {
    "colab": {
     "base_uri": "https://localhost:8080/"
    },
    "id": "7sHXCM0GoPKG",
    "outputId": "12c358de-2b31-4020-a7fa-d67a0f91ed81",
    "tags": []
   },
   "outputs": [],
   "source": [
    "app.list_agents()"
   ]
  },
  {
   "cell_type": "markdown",
   "metadata": {
    "id": "m91d6I8i8nXW"
   },
   "source": [
    "## Step 6: Ask Agent to Research Housing Investment Opportunities"
   ]
  },
  {
   "cell_type": "markdown",
   "metadata": {
    "id": "NECE-StNqEgt"
   },
   "source": [
    "### Update Agent with Simple Instructions - No Instructions on How to Use Tools\n",
    "\n",
    "You can update any and all of the fields of an Agent by specifying them to  `.update()`. Any fields that aren't specified will not be updated.\n"
   ]
  },
  {
   "cell_type": "code",
   "execution_count": null,
   "metadata": {
    "id": "D8LI0M4AqEg4",
    "tags": []
   },
   "outputs": [],
   "source": [
    "SIMPLE_INSTRUCTIONS = \"\"\"\n",
    "You are a friendly chatbot who answers users questions well.\n",
    "\"\"\"\n",
    "\n",
    "updated_agent = created_agent.update(\n",
    "    new_display_name=DISPLAY_NAME,\n",
    "    new_instructions=SIMPLE_INSTRUCTIONS,\n",
    "    new_functions=[function_declaration],\n",
    "    new_extensions={\n",
    "        'Search Extension': search_extension,\n",
    "        'Webpage Browser Extension': webpage_browser_extension,\n",
    "    }\n",
    ")"
   ]
  },
  {
   "cell_type": "markdown",
   "metadata": {},
   "source": [
    "Create a session to interact with the agent."
   ]
  },
  {
   "cell_type": "code",
   "execution_count": null,
   "metadata": {
    "id": "8H_M2G2gqEg4",
    "tags": []
   },
   "outputs": [],
   "source": [
    "session = app.start_session()"
   ]
  },
  {
   "cell_type": "markdown",
   "metadata": {
    "id": "ZQuzU8VMqEg4"
   },
   "source": [
    "#### Example: Ask Cymbal Agent to retrieve info from Cymbal San Francisco Exclusive Off-Market Listings"
   ]
  },
  {
   "cell_type": "markdown",
   "metadata": {
    "id": "qLHxQsO24m7l"
   },
   "source": [
    "In this example, ask the agent to answer questions from off-market listings. Since you don't give it clear instructions on how to use tools, the agent doesn't know how to answer these questions.\n",
    "\n",
    "In the next section, you will give better instructions on how to use tools. And you will see the difference in the response."
   ]
  },
  {
   "cell_type": "code",
   "execution_count": null,
   "metadata": {
    "id": "oMNClqoaqEg4",
    "tags": []
   },
   "outputs": [],
   "source": [
    "session.run(\"Can you summarize property information around Noe Valley from Cymbal Exclusive Off-Market Listings?\")"
   ]
  },
  {
   "cell_type": "markdown",
   "metadata": {
    "id": "SV-NgXCjt8F_"
   },
   "source": [
    "### Update Agent with Clear Instructions on How to Use Tools\n",
    "\n",
    "You can update any and all of the fields of an Agent by specifying them to `.update()`. Any fields that aren't specified will not be updated. The reason why we don't spetify `new_functions` and `new_extensions` is that we have already added them in the last step.\n"
   ]
  },
  {
   "cell_type": "code",
   "execution_count": null,
   "metadata": {
    "id": "dkI-VM22Icsw",
    "tags": []
   },
   "outputs": [],
   "source": [
    "INSTRUCTIONS = \"\"\"\n",
    "You are an expert who answers the user's housing investment opportunities questions with the most relevant datasource.\n",
    "\n",
    "If the user asks you questions about sales records, call the extract_property_sale_records function to extract the information.\n",
    "\n",
    "If the user asks you questions about offmarket listings at Cymbal Real Estate Group, call vertex_ai_search tool to search relevant information.\n",
    "\n",
    "If the user asks you search online to anwser the housing investment questions, please ask the user to provide URLs if the user didn't give you any URLs.\n",
    "After you get the URLs, call webpage_browser tool to search relevant information.\n",
    "\n",
    "If the user asks you to use both tools to answer the questions, you can use both tools and combine the information to answer the question.\n",
    "\n",
    "Please only answer real estate investment related questions.\n",
    "\n",
    "Only respond based on the response of the tool. Do not create your own answers.\n",
    "\"\"\"\n",
    "\n",
    "updated_agent = created_agent.update(\n",
    "    new_display_name=DISPLAY_NAME,\n",
    "    new_instructions=INSTRUCTIONS,\n",
    ")"
   ]
  },
  {
   "cell_type": "markdown",
   "metadata": {},
   "source": [
    "Restart the session so the agent uses the updated instructions."
   ]
  },
  {
   "cell_type": "code",
   "execution_count": null,
   "metadata": {
    "id": "QvZcfYXOsVgL",
    "tags": []
   },
   "outputs": [],
   "source": [
    "session = app.start_session()"
   ]
  },
  {
   "cell_type": "markdown",
   "metadata": {
    "id": "ua9u2j0CNteH"
   },
   "source": [
    "#### Example 1: Ask Cymbal Agent to retrieve info from Cymbal San Francisco Exclusive Off-Market Listings\n",
    "\n",
    "In this example, as above, ask the agent to answer question from off-market listings. But this time, since you mentioned the datasource in the agent's instructions, the agent follows the instructions and searches the connected Vertex AI Search data store.\n",
    "\n",
    "Additionally, assign the agent's response to `response` and then inspect `response` to see the agent's response text (`.content`), the tools used (`.actions[1].tool_use.extension_invocation`), and the documents retrieved (`.actions[1].tool_use.output_parameters[\"content\"]`)."
   ]
  },
  {
   "cell_type": "code",
   "execution_count": null,
   "metadata": {
    "id": "_CnkVE9m_au3",
    "tags": []
   },
   "outputs": [],
   "source": [
    "response = session.run(\"Can you summarize property information around Noe Valley from Cymbal Exclusive Off-Market Listings?\")"
   ]
  },
  {
   "cell_type": "code",
   "execution_count": null,
   "metadata": {
    "colab": {
     "base_uri": "https://localhost:8080/"
    },
    "id": "8dDCegbu2mcR",
    "outputId": "cb0e5370-8de5-405a-8087-812b061490c0",
    "tags": []
   },
   "outputs": [],
   "source": [
    "response.content"
   ]
  },
  {
   "cell_type": "code",
   "execution_count": null,
   "metadata": {
    "tags": []
   },
   "outputs": [],
   "source": [
    "response.actions[1].tool_use.extension_invocation"
   ]
  },
  {
   "cell_type": "code",
   "execution_count": null,
   "metadata": {
    "id": "kA8eq7DoxFyw",
    "tags": []
   },
   "outputs": [],
   "source": [
    "response.actions[1].tool_use.output_parameters[\"content\"]"
   ]
  },
  {
   "cell_type": "markdown",
   "metadata": {},
   "source": [
    "You can also view the entire `response` object:"
   ]
  },
  {
   "cell_type": "code",
   "execution_count": null,
   "metadata": {
    "tags": []
   },
   "outputs": [],
   "source": [
    "response"
   ]
  },
  {
   "cell_type": "markdown",
   "metadata": {
    "id": "K3CI5yymUOKN"
   },
   "source": [
    "#### Example 2: Ask for URLs and use the webpage browser extension to retrieve information from the websites\n",
    "\n",
    "In this example, ask the agent to answer questions by using webpage browser extension tool.\n",
    "\n",
    "As you can see in the response below, it calls the webpage browser extension.\n",
    "\n",
    "`response.actions[1].tool_use.output_parameters[\"content\"]` includes all the content the agent retrived using the webpage browser extension."
   ]
  },
  {
   "cell_type": "code",
   "execution_count": null,
   "metadata": {
    "id": "MLRScdrYT8tT",
    "tags": []
   },
   "outputs": [],
   "source": [
    "response = session.run(\"\"\"Can you summarize Noe Valley real estate investment opportunities from here:\n",
    "https://www.bcre.co/blog-news/navigating-the-market-discovering-the-most-promising-neighbourhoods-for-real-estate-investment-in-san-francisco/?\"\"\")"
   ]
  },
  {
   "cell_type": "code",
   "execution_count": null,
   "metadata": {
    "tags": []
   },
   "outputs": [],
   "source": [
    "response.content"
   ]
  },
  {
   "cell_type": "code",
   "execution_count": null,
   "metadata": {
    "colab": {
     "base_uri": "https://localhost:8080/"
    },
    "id": "t5Nhdy9j7ZJn",
    "outputId": "98afc409-7e72-429c-ea84-eff2aea48338",
    "tags": []
   },
   "outputs": [],
   "source": [
    "response.actions[1].tool_use.output_parameters[\"content\"]"
   ]
  },
  {
   "cell_type": "markdown",
   "metadata": {
    "id": "rFi2UeH5VisX"
   },
   "source": [
    "#### Example 3: Use both extensions to do research\n",
    "\n",
    "In this example, ask the agent to call both tools to do the research.\n",
    "\n",
    "As you can see in the response below, it calls both vertex AI search and webpage browser extension tools. `.actions.tool_use.output_parameters[\"content\"]` includes the content the agent retrived using both extensions (one extension per action)."
   ]
  },
  {
   "cell_type": "code",
   "execution_count": null,
   "metadata": {
    "id": "ThMdHyom2TWU",
    "tags": []
   },
   "outputs": [],
   "source": [
    "response = session.run(\"\"\"Can you summarize Noe Valley real estate investment opportunities from Cymbal Exclusive Off-Market Listings and here:\n",
    "https://www.bcre.co/blog-news/navigating-the-market-discovering-the-most-promising-neighbourhoods-for-real-estate-investment-in-san-francisco/?\"\"\")"
   ]
  },
  {
   "cell_type": "code",
   "execution_count": null,
   "metadata": {
    "colab": {
     "base_uri": "https://localhost:8080/"
    },
    "id": "oVrrOWWa7zTM",
    "outputId": "9ceeb2fb-eeed-4d55-f514-ecab4ec03a58",
    "tags": []
   },
   "outputs": [],
   "source": [
    "response.content"
   ]
  },
  {
   "cell_type": "code",
   "execution_count": null,
   "metadata": {
    "tags": []
   },
   "outputs": [],
   "source": [
    "response.actions[1].tool_use.output_parameters[\"content\"]"
   ]
  },
  {
   "cell_type": "code",
   "execution_count": null,
   "metadata": {
    "id": "1W_9DbZc7xj6",
    "tags": []
   },
   "outputs": [],
   "source": [
    "response.actions[2].tool_use.output_parameters[\"content\"]"
   ]
  },
  {
   "cell_type": "markdown",
   "metadata": {
    "id": "R-CkmB69i10s"
   },
   "source": [
    "#### Example 4: Ask a non-real estate related question\n",
    "\n",
    "In this example, ask the agent a non-real estate related question and see if it follows instructions and refuses to answer.\n",
    "\n",
    "As you can see in the response below, the agent followed the instruction and refuses to answer the question."
   ]
  },
  {
   "cell_type": "code",
   "execution_count": null,
   "metadata": {
    "id": "UoZ2ruMj8h-_",
    "tags": []
   },
   "outputs": [],
   "source": [
    "response = session.run(\"\"\"What's the best way to save for retirement?\"\"\")"
   ]
  },
  {
   "cell_type": "code",
   "execution_count": null,
   "metadata": {
    "colab": {
     "base_uri": "https://localhost:8080/"
    },
    "id": "DjIAhkDU9Avm",
    "outputId": "2deaf743-3a3e-4391-ec38-852d54b710cc",
    "tags": []
   },
   "outputs": [],
   "source": [
    "response.content"
   ]
  },
  {
   "cell_type": "markdown",
   "metadata": {
    "id": "sjpnsIT75JIb"
   },
   "source": [
    "#### Example 5: Agent remembers the information it retrieved earlier\n",
    "\n",
    "In this example, ask the agent to go deeper in the topics we discussed before to see if the agent remembers previous activity.\n",
    "\n",
    "As you can see in the response, the agent remembers the info it retrieved before and uses the info for the follow-up question."
   ]
  },
  {
   "cell_type": "code",
   "execution_count": null,
   "metadata": {
    "id": "an5MFpUY6UjC",
    "tags": []
   },
   "outputs": [],
   "source": [
    "response = session.run(\"\"\"Can you summarize real estate investment discussion from reddit? Here is the URL:\n",
    "https://www.reddit.com/r/BayAreaRealEstate/?\"\"\")"
   ]
  },
  {
   "cell_type": "code",
   "execution_count": null,
   "metadata": {
    "colab": {
     "base_uri": "https://localhost:8080/"
    },
    "id": "gDR0GfPTCi3g",
    "outputId": "b226c5e5-8286-4f16-caa2-d5e750db500f",
    "tags": []
   },
   "outputs": [],
   "source": [
    "response.content"
   ]
  },
  {
   "cell_type": "code",
   "execution_count": null,
   "metadata": {
    "id": "agdq_08t6a2L",
    "tags": []
   },
   "outputs": [],
   "source": [
    "response = session.run(\"\"\"Select one topic from this reddit disuccsion and tell me more.\"\"\")"
   ]
  },
  {
   "cell_type": "code",
   "execution_count": null,
   "metadata": {
    "colab": {
     "base_uri": "https://localhost:8080/"
    },
    "id": "39jPLZfzey9R",
    "outputId": "25d136dc-72b4-481d-edcc-1998ec4c17e4",
    "tags": []
   },
   "outputs": [],
   "source": [
    "response.content"
   ]
  },
  {
   "cell_type": "markdown",
   "metadata": {
    "id": "Y76F0SHKbN02"
   },
   "source": [
    "#### Example 6: Agent uses sales record function call to answer questions\n",
    "\n",
    "In this example, ask the agent to answer a property sale records question. Based on the instructions, the agent calls the `extract_property_sale_records` function to get this information. You then have to provide the agent with the response to this function call.\n",
    "\n",
    "For the simplicity of the example, you won't call a real API but will instead mock the response by providing the agent with a value for the `records` field.\n",
    "\n",
    "You can read [the function calling doc](https://cloud.google.com/vertex-ai/generative-ai/docs/multimodal/function-calling#text-samples) to learn more about how to set up the response and how use to mocks."
   ]
  },
  {
   "cell_type": "code",
   "execution_count": null,
   "metadata": {
    "id": "Y_Zk9tYrbakU",
    "tags": []
   },
   "outputs": [],
   "source": [
    "session.run(\"\"\"Can you retrieve top 1 sales records from property sale records?\"\"\")"
   ]
  },
  {
   "cell_type": "code",
   "execution_count": null,
   "metadata": {
    "colab": {
     "base_uri": "https://localhost:8080/"
    },
    "id": "nnXidQziboTp",
    "outputId": "79dbf11c-135d-4f32-cfa8-ed2608fc4f00",
    "tags": []
   },
   "outputs": [],
   "source": [
    "# Mock response to the API call.\n",
    "session.run(Part.from_function_response(name=\"extract_property_sale_records\", response={\"records\": \"\"\"\n",
    "Address: 5678 Divisadero St, San Francisco, CA 94117\n",
    "Sale Date: May 10, 2024\n",
    "Sale Price: $10,525,000\n",
    "Property Type: 2-unit building\n",
    "Bedrooms: 10 (total)\n",
    "Bathrooms: 8 (total)\n",
    "Lot Size: 18,000 sq ft\n",
    "\"\"\"})).content"
   ]
  },
  {
   "cell_type": "markdown",
   "metadata": {
    "id": "xvXxry9Y8f5t"
   },
   "source": [
    "#### Example 7: Use session history to check what tools the model used\n",
    "\n",
    "If you want to look at all the agent conversation history, you can use get_history to do that."
   ]
  },
  {
   "cell_type": "code",
   "execution_count": null,
   "metadata": {
    "id": "HSAe_HMW8f54",
    "tags": []
   },
   "outputs": [],
   "source": [
    "session.get_history()"
   ]
  },
  {
   "cell_type": "markdown",
   "metadata": {
    "id": "fjCPA4Nvysu5"
   },
   "source": [
    "# Cleanup\n",
    "\n",
    "Clean up resources created in this notebook.\n",
    "\n"
   ]
  },
  {
   "cell_type": "markdown",
   "metadata": {
    "id": "fzAF1gbEFAoL"
   },
   "source": [
    "When your print the `session` object, you will see `name: \"xxxxx\"`. That \"xxxxx\" is the session id. It is in the format `project/PROJECT_NUMBER/location/REGION/apps/NUMBER/session/NUMBER`."
   ]
  },
  {
   "cell_type": "code",
   "execution_count": null,
   "metadata": {
    "id": "Ef0TDvCwzWVu",
    "tags": []
   },
   "outputs": [],
   "source": [
    "session"
   ]
  },
  {
   "cell_type": "markdown",
   "metadata": {
    "id": "OnsquSUFFgwz"
   },
   "source": [
    "To delete the Session, uncomment and run:"
   ]
  },
  {
   "cell_type": "code",
   "execution_count": null,
   "metadata": {
    "id": "9AHX-qgAOqK4"
   },
   "outputs": [],
   "source": [
    "# app.delete_session('your session id')"
   ]
  },
  {
   "cell_type": "markdown",
   "metadata": {
    "id": "ITlBn56Eyju5"
   },
   "source": [
    "Using either the display name or the fully qualified resource name, you can delete a specific agent under a Vertex AI Agent API app.\n",
    "To delete the agent created in this notebook using the display name, uncomment and run the command below."
   ]
  },
  {
   "cell_type": "code",
   "execution_count": null,
   "metadata": {
    "id": "SQihs5HIyju5"
   },
   "outputs": [],
   "source": [
    "# app.delete_agent('Cymbal Real Estate Research Agent')"
   ]
  },
  {
   "cell_type": "markdown",
   "metadata": {
    "id": "0ickTrbv3NU0"
   },
   "source": [
    "To delete the Vertex AI Agent API app created in this notebook, uncomment and run:"
   ]
  },
  {
   "cell_type": "code",
   "execution_count": null,
   "metadata": {
    "id": "cX8O3JuvkFZM"
   },
   "outputs": [],
   "source": [
    "# app.delete(app.app_name)"
   ]
  },
  {
   "cell_type": "markdown",
   "metadata": {
    "id": "f9cklkMRd9Ce"
   },
   "source": [
    "To delete both extensions you used in the notebook, uncomment and run:"
   ]
  },
  {
   "cell_type": "code",
   "execution_count": null,
   "metadata": {
    "id": "FTy04HZEd8GO"
   },
   "outputs": [],
   "source": [
    "# webpage_browser_extension.delete()\n",
    "# search_extension.delete()"
   ]
  },
  {
   "cell_type": "markdown",
   "metadata": {
    "id": "JsY1q1VOeHVm"
   },
   "source": [
    "To delete the GCS bucket created by this notebook, uncomment and run:"
   ]
  },
  {
   "cell_type": "code",
   "execution_count": null,
   "metadata": {
    "id": "a5j3rNxMeGAr"
   },
   "outputs": [],
   "source": [
    "# Delete contents of the bucket and the bucket\n",
    "#!gsutil -m rm -r gs://$GCS_BUCKET"
   ]
  },
  {
   "cell_type": "markdown",
   "metadata": {
    "id": "dmhkt9R6eVNY"
   },
   "source": [
    "Don't forget to delete any other created assets if you don't need them, e.g. the Vertex AI data store and search app (you need to delete them from the Google Cloud Console).\n",
    "\n",
    "Your Vertex AI Search apps: https://console.cloud.google.com/gen-app-builder/engines\n",
    "Your Vertex AI Search data stores: https://console.cloud.google.com/gen-app-builder/data-stores"
   ]
  }
 ],
 "metadata": {
  "colab": {
   "provenance": []
  },
  "environment": {
   "kernel": "lei_env1",
   "name": "tf2-cpu.2-11.m120",
   "type": "gcloud",
   "uri": "us-docker.pkg.dev/deeplearning-platform-release/gcr.io/tf2-cpu.2-11:m120"
  },
  "kernelspec": {
   "display_name": "lei_env1 (Local)",
   "language": "python",
   "name": "lei_env1"
  },
  "language_info": {
   "codemirror_mode": {
    "name": "ipython",
    "version": 3
   },
   "file_extension": ".py",
   "mimetype": "text/x-python",
   "name": "python",
   "nbconvert_exporter": "python",
   "pygments_lexer": "ipython3",
   "version": "3.10.14"
  }
 },
 "nbformat": 4,
 "nbformat_minor": 4
}
