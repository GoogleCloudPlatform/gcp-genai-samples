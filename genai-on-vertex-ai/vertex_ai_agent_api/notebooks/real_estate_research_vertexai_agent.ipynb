{
  "nbformat": 4,
  "nbformat_minor": 0,
  "metadata": {
    "colab": {
      "provenance": []
    },
    "kernelspec": {
      "name": "python3",
      "display_name": "Python 3"
    },
    "language_info": {
      "name": "python"
    }
  },
  "cells": [
    {
      "cell_type": "code",
      "source": [
        "# Copyright 2024 Google LLC\n",
        "#\n",
        "# Licensed under the Apache License, Version 2.0 (the \"License\");\n",
        "# you may not use this file except in compliance with the License.\n",
        "# You may obtain a copy of the License at\n",
        "#\n",
        "#     https://www.apache.org/licenses/LICENSE-2.0\n",
        "#\n",
        "# Unless required by applicable law or agreed to in writing, software\n",
        "# distributed under the License is distributed on an \"AS IS\" BASIS,\n",
        "# WITHOUT WARRANTIES OR CONDITIONS OF ANY KIND, either express or implied.\n",
        "# See the License for the specific language governing permissions and\n",
        "# limitations under the License."
      ],
      "metadata": {
        "id": "nCLHXnfFn4WI"
      },
      "execution_count": null,
      "outputs": []
    },
    {
      "cell_type": "markdown",
      "source": [
        "#Research Agent for Housing Investment Opportunities\n",
        "\n",
        "<table align=\"left\">\n",
        "  <td style=\"text-align: center\">\n",
        "    <a href=\"https://colab.sandbox.google.com/github/GoogleCloudPlatform/applied-ai-engineering-samples/blob/main/genai-on-vertex-ai/vertex_ai_agent_api/notebooks/real_estate_research_vertexai_agent.ipynb\">\n",
        "      <img src=\"https://cloud.google.com/ml-engine/images/colab-logo-32px.png\" alt=\"Google Colaboratory logo\"><br> Open in Colab\n",
        "    </a>\n",
        "  </td>\n",
        "  <td style=\"text-align: center\">\n",
        "    <a href=\"https://console.cloud.google.com/vertex-ai/colab/import/https:%2F%2Fraw.githubusercontent.com%2FGoogleCloudPlatform%2Fapplied-ai-engineering-samples%2Fmain%2genai-on-vertex-ai%2Fvvertex_ai_agent_api%2Fnotebooks%2Freal_estate_research_vertexai_agent.ipynb\">\n",
        "      <img width=\"32px\" src=\"https://lh3.googleusercontent.com/JmcxdQi-qOpctIvWKgPtrzZdJJK-J3sWE1RsfjZNwshCFgE_9fULcNpuXYTilIR2hjwN\" alt=\"Google Cloud Colab Enterprise logo\"><br> Open in Colab Enterprise\n",
        "    </a>\n",
        "  </td>    \n",
        "  <td style=\"text-align: center\">\n",
        "    <a href=\"https://console.cloud.google.com/vertex-ai/workbench/deploy-notebook?download_url=https://raw.githubusercontent.com/GoogleCloudPlatform/applied-ai-engineering-samples/blob/main/genai-on-vertex-ai/vertex_ai_agent_api/notebooks/real_estate_research_vertexai_agent.ipynb\">\n",
        "      <img src=\"https://lh3.googleusercontent.com/UiNooY4LUgW_oTvpsNhPpQzsstV5W8F7rYgxgGBD85cWJoLmrOzhVs_ksK_vgx40SHs7jCqkTkCk=e14-rj-sc0xffffff-h130-w32\" alt=\"Vertex AI logo\"><br> Open in Workbench\n",
        "    </a>\n",
        "  </td>\n",
        "  <td style=\"text-align: center\">\n",
        "    <a href=\"https://github.com/GoogleCloudPlatform/applied-ai-engineering-samples/blob/main/genai-on-vertex-ai/vertex_ai_agent_api/notebooks/real_estate_research_vertexai_agent.ipynb\">\n",
        "      <img src=\"https://cloud.google.com/ml-engine/images/github-logo-32px.png\" alt=\"GitHub logo\"><br> View on GitHub\n",
        "    </a>\n",
        "  </td>\n",
        "</table>\n"
      ],
      "metadata": {
        "id": "WHtLTE3ksNDP"
      }
    },
    {
      "cell_type": "markdown",
      "source": [
        "| | |\n",
        "|----------|-------------|\n",
        "| Author(s)   | [Lei Pan](https://github.com/genaimagician)|\n",
        "| Reviewers(s) | Anand Iyer, Danhao Guo, Hanfei Sun, Meltem Subasioglu, Michael Sherman|\n",
        "| Last updated | 2024-07-15: Fixed code review items |\n",
        "| Previous updated | 2024-07-12: Updated to 1.60 SDK |\n",
        "| Previous updated | 2024-07-10: Added text from the template |\n",
        "| Previous updated | 2024-06-30: Polished text for publishing |\n",
        "| Previous updated | 2024-06-14: Second Draft |"
      ],
      "metadata": {
        "id": "MGwjcyJkb78K"
      }
    },
    {
      "cell_type": "markdown",
      "metadata": {
        "id": "JAPoU8Sm5E6e"
      },
      "source": [
        "# Overview\n",
        "\n",
        "In this notebook, we will show you how to use the [Vertex AI Agent API](https://cloud.google.com/vertex-ai/generative-ai/docs/agent-api/overview) with Vertex AI Search Extension and Webpage Browser Extension tools to complete housing investment opportunities research for business stakeholders. You will perform the following steps:\n",
        "\n",
        "- Creating vertex AI search extension, webpage browser extension and function call tools\n",
        "- Creating an agent app in your project\n",
        "- Creating an agent in the app and add instructions & extension & function call tools to it\n",
        "- Asking the agent housing investment opportunities questions\n",
        "\n",
        "In addition to Vertex AI Agent API, this notebook uses [Vertex AI Search](https://cloud.google.com/generative-ai-app-builder/docs/enterprise-search-introduction), [Vertex AI Search extension](https://cloud.google.com/vertex-ai/generative-ai/docs/extensions/vertex-ai-search), [ Function Calling](https://cloud.google.com/vertex-ai/generative-ai/docs/multimodal/function-calling), and Webpage Browser Extension."
      ]
    },
    {
      "cell_type": "markdown",
      "source": [
        " ## Vertex AI Agent API\n",
        "\n",
        "[Vertex AI Agent API](https://cloud.google.com/vertex-ai/generative-ai/docs/agent-api/overview) is an API for creating and managing Generative AI systems called \"agents\" that can  reason, plan, and act to perform specific tasks.\n",
        "\n",
        " Vertex AI Agent API offers faster time to market than building agents from scratch while still being flexible and customizable. It handles orchestraction and state management, gives you the benefits of Google's expertise in building reliable AI systems, scales in a secure and responsible way, and seamlessly integrates with other Vertex AI and Google Cloud products."
      ],
      "metadata": {
        "id": "KUXzlvfpn513"
      }
    },
    {
      "cell_type": "markdown",
      "source": [
        "## Using This Notebook\n",
        "\n",
        "Colab is recommended for running this notebook, but it can run in any iPython environment where you can connect to Google Cloud, install pip packages, etc.\n",
        "\n",
        "If you're running outside of Colab and encountering issues, the [Getting Started with Vertex AI Agent notebook](https://github.com/GoogleCloudPlatform/applied-ai-engineering-samples/blob/main/genai-on-vertex-ai/vertex_ai_agent_api/notebooks/getting_started_vertex_agent_api.ipynb.ipynb) has some troubleshooting tips.\n",
        "\n",
        "This tutorial uses the following Google Cloud services and resources:\n",
        "\n",
        "* [Vertex AI Agent API](https://cloud.google.com/vertex-ai/generative-ai/docs/agent-api/overview)\n",
        "* Cloud Storage API\n",
        "* Vertex AI API\n",
        "* Agent Builder API\n",
        "* Vertex AI Search and Webpage Broswer Extensions\n",
        "\n",
        "This notebook has been tested in the following environment:\n",
        "\n",
        "* Python version = 3.10.12\n",
        "* [google-cloud-aiplatform](https://pypi.org/project/google-cloud-aiplatform/) version = 1.5.5\n",
        "* [google-cloud-discoveryengine](https://cloud.google.com/python/docs/reference/discoveryengine/latest) version = 0.11.11\n",
        "\n",
        "**Note:** Vertex AI Extensions requires google-cloud-aiplatform version >= 1.47.0"
      ],
      "metadata": {
        "id": "uNriTZl70OdV"
      }
    },
    {
      "cell_type": "markdown",
      "source": [
        "## Useful Tips\n",
        "\n",
        "1. This notebook uses Generative AI cababilities. Re-running a cell that uses Generative AI capabilities may produce similar but not identical results.\n",
        "2. Because of #1, it is possible that an output produces errors. If that happens re-run the cell that produced the error. The re-run will likely be bug free.\n",
        "3. The use of Generative AI capabilities is subject to service quotas. Running the notebook using \"Run All\" may exceed your queries per minute (QPM) limitations. Run the notebook manually and if you get a quota error pause for up to 1 minute before retrying that cell. The Vertex AI Agent API defaults to Gemini on the backend and is subject to the Gemini quotas, [view your Gemini quotas here](https://console.cloud.google.com/iam-admin/quotas?pageState=(%22allQuotasTable%22:(%22f%22:%22%255B%257B_22k_22_3A_22_22_2C_22t_22_3A10_2C_22v_22_3A_22_5C_22base_model_5C_22_22%257D_2C%257B_22k_22_3A_22_22_2C_22t_22_3A10_2C_22v_22_3A_22_5C_22gemini_5C_22_22%257D%255D%22%29%29&e=13802955&mods=logs_tg_staging).\n"
      ],
      "metadata": {
        "id": "Ar0aDcql1dxl"
      }
    },
    {
      "cell_type": "markdown",
      "source": [
        "# Setup"
      ],
      "metadata": {
        "id": "PO_tnShTGUik"
      }
    },
    {
      "cell_type": "markdown",
      "source": [
        "## Enable APIs and Set Permissions\n",
        "1. [Select or create a Google Cloud project](https://console.cloud.google.com/cloud-resource-manager). When you first create an account, you get a $300 free credit towards your compute/storage costs.\n",
        "1. [Make sure that billing is enabled for your project](https://cloud.google.com/billing/docs/how-to/modify-project).\n",
        "1. [Enable the Service Usage API](https://console.cloud.google.com/apis/library/serviceusage.googleapis.com)\n",
        "1. [Enable the Vertex AI API](https://console.cloud.google.com/flows/enableapi?apiid=aiplatform.googleapis.com).\n",
        "1. [Enable the Vertex AI API (autopush)](https://console.cloud.google.com/apis/api/autopush-aiplatform.sandbox.googleapis.com/metrics).\n",
        "1. [Enable the Cloud Storage API](https://console.cloud.google.com/flows/enableapi?apiid=storage.googleapis.com).\n",
        "1. [Enable the Discovery Engine API for your project](https://console.cloud.google.com/marketplace/product/google/discoveryengine.googleapis.com)\n",
        "1. [Enable the Agent Builder API](https://console.cloud.google.com/gen-app-builder/start)\n",
        "\n",
        "**To run the complete Notebook, including the optional section, you will need to have the [Owner role](https://cloud.google.com/iam/docs/understanding-roles) for your project.**\n",
        "\n",
        "If you want to skip the optional section, you need at least the following [roles](https://cloud.google.com/iam/docs/granting-changing-revoking-access):\n",
        "* **`roles/serviceusage.serviceUsageAdmin`** to enable APIs\n",
        "* **`roles/iam.serviceAccountAdmin`** to modify service agent permissions\n",
        "* **`roles/discoveryengine.admin`** to modify discoveryengine assets\n",
        "* **`roles/aiplatform.user`** to use AI Platform components\n",
        "* **`roles/storage.objectAdmin`** to modify and delete GCS buckets\n",
        "\n"
      ],
      "metadata": {
        "id": "XLf5oGqHn_DH"
      }
    },
    {
      "cell_type": "markdown",
      "source": [
        "##Authenticate"
      ],
      "metadata": {
        "id": "SfNhErJDVmk5"
      }
    },
    {
      "cell_type": "code",
      "execution_count": null,
      "metadata": {
        "id": "JZGytImrziVA",
        "colab": {
          "base_uri": "https://localhost:8080/"
        },
        "outputId": "6e4cba54-66a0-43a0-ee51-d27729f05753"
      },
      "outputs": [
        {
          "output_type": "stream",
          "name": "stdout",
          "text": [
            "Authenticated\n"
          ]
        }
      ],
      "source": [
        "# Colab authentication.\n",
        "import sys\n",
        "\n",
        "if \"google.colab\" in sys.modules:\n",
        "    from google.colab import auth\n",
        "    auth.authenticate_user()\n",
        "    print(\"Authenticated\")"
      ]
    },
    {
      "cell_type": "markdown",
      "source": [
        "## Install the Google Cloud Vertex AI Python SDK [TODO]\n",
        "\n",
        "[TODO] Once the SDK is released, we will swap this with the public library. For now, you need the code blocks below to install agent sdk."
      ],
      "metadata": {
        "id": "JgXyHQQfsGnc"
      }
    },
    {
      "cell_type": "code",
      "source": [
        "!gsutil cp gs://vertex_agents_private_releases/vertex_agents/google_cloud_aiplatform-1.60.dev20240710+vertex.agents-py2.py3-none-any.whl ."
      ],
      "metadata": {
        "id": "abQtu5_aIprk",
        "colab": {
          "base_uri": "https://localhost:8080/"
        },
        "outputId": "02bfd4f1-cc41-4093-d41e-d5bc29b8d69c"
      },
      "execution_count": null,
      "outputs": [
        {
          "output_type": "stream",
          "name": "stdout",
          "text": [
            "Copying gs://vertex_agents_private_releases/vertex_agents/google_cloud_aiplatform-1.60.dev20240710+vertex.agents-py2.py3-none-any.whl...\n",
            "/ [1 files][  5.2 MiB/  5.2 MiB]                                                \n",
            "Operation completed over 1 objects/5.2 MiB.                                      \n"
          ]
        }
      ]
    },
    {
      "cell_type": "code",
      "source": [
        "!pip install google-cloud-discoveryengine --upgrade\n",
        "!pip install --upgrade google-auth\n",
        "#!pip install --upgrade --force-reinstall -q google_cloud_aiplatform-1.60.dev20240710+vertex.agents-py2.py3-none-any.whl --no-warn-conflicts\n",
        "!pip install --quiet --user --upgrade --force-reinstall -q google_cloud_aiplatform-1.60.dev20240710+vertex.agents-py2.py3-none-any.whl --no-warn-conflicts\n",
        "!pip install -U \"pandas==2.2.2\"\n",
        "!pip install -U 'numpy<2'"
      ],
      "metadata": {
        "id": "AOJu5GA6zjEJ"
      },
      "execution_count": null,
      "outputs": []
    },
    {
      "cell_type": "markdown",
      "metadata": {
        "id": "R5Xep4W9lq-Z"
      },
      "source": [
        "### Restart Runtime\n",
        "\n",
        "You may need to restart your notebook runtime to use the Vertex AI SDK. You can do this by running the cell below, which restarts the current kernel.\n",
        "\n",
        "You may see the restart reported as a crash, but it is working as-intended -- you are merely restarting the runtime.\n",
        "\n",
        "The restart might take a minute or longer. After its restarted, continue to the next step."
      ]
    },
    {
      "cell_type": "code",
      "execution_count": null,
      "metadata": {
        "id": "XRvKdaPDTznN",
        "colab": {
          "base_uri": "https://localhost:8080/"
        },
        "outputId": "96d57b84-745b-4151-f3f2-a08ea9e4a9a2"
      },
      "outputs": [
        {
          "output_type": "execute_result",
          "data": {
            "text/plain": [
              "{'status': 'ok', 'restart': True}"
            ]
          },
          "metadata": {},
          "execution_count": 7
        }
      ],
      "source": [
        "import IPython\n",
        "\n",
        "app = IPython.Application.instance()\n",
        "app.kernel.do_shutdown(True)"
      ]
    },
    {
      "cell_type": "markdown",
      "source": [
        "# Initialize the Google Cloud Vertex AI Python SDK\n"
      ],
      "metadata": {
        "id": "SvJv6I4MgmsF"
      }
    },
    {
      "cell_type": "markdown",
      "source": [
        "### Set Your Project ID\n"
      ],
      "metadata": {
        "id": "DUtmcrKTgqKe"
      }
    },
    {
      "cell_type": "code",
      "source": [
        "PROJECT_ID = 'msubasioglu-genai-sa'\n",
        "LOCATION = 'us-central1'\n",
        "API_ENDPOINT = 'us-central1-autopush-aiplatform.sandbox.googleapis.com'"
      ],
      "metadata": {
        "id": "VXV0NeaugrV1"
      },
      "execution_count": null,
      "outputs": []
    },
    {
      "cell_type": "markdown",
      "source": [
        "### Import and Initialize the Vertex AI Python SDK"
      ],
      "metadata": {
        "id": "Ojtwou1cgyFF"
      }
    },
    {
      "cell_type": "code",
      "source": [
        "from google.cloud import aiplatform\n",
        "from google.cloud.aiplatform.private_preview.vertex_agents.app import App, Session\n",
        "from google.cloud.aiplatform.private_preview.vertex_agents.agent import Agent\n",
        "from vertexai.preview.extensions import Extension\n",
        "\n",
        "aiplatform.init(project=PROJECT_ID, location=LOCATION, api_endpoint=API_ENDPOINT)"
      ],
      "metadata": {
        "id": "xwnx0xPuskAQ"
      },
      "execution_count": null,
      "outputs": []
    },
    {
      "cell_type": "markdown",
      "source": [
        "# Cymbal Real Estate Research Agent - Search and Webpage Browser Tools"
      ],
      "metadata": {
        "id": "wWso7BK7egeY"
      }
    },
    {
      "cell_type": "markdown",
      "source": [
        "## Step 1: Create Vertex Search Extension Tool with Proprietary Cymbal Datasource\n",
        "\n",
        "In this section, we do the following tasks:\n",
        "\n",
        "- Create Vertex AI Search App with 3 PDFs ([PDF1](https://drive.google.com/file/d/1sqGmjqDOLtBMEJkGRAhcTYVbZXkKPAWJ/view?usp=sharing), [PDF2](https://drive.google.com/file/d/1M2Uk5ABMlLix1Nxg7LEWmW4ioZ_SxhkU/view?usp=drive_link), [PDF3](https://drive.google.com/file/d/19kUrpUv9AKIebHRja_RcyP7JTPMyKmkV/view?usp=drive_link)) for Search Extension.\n",
        "- Create Vertex AI Search Extension using the Search App\n",
        "\n",
        "Note: 3 PDFs include Synthesized Exclusive San Francisco Off-Market Property Listings for Cymbal Real Estate Group"
      ],
      "metadata": {
        "id": "44ikqwKQpEms"
      }
    },
    {
      "cell_type": "markdown",
      "source": [
        "#### Permissions Setup\n",
        "\n",
        "If you have already set up the permission, feel free to skip this step.\n",
        "\n",
        "For using the Vertex AI Search Extension, please grant the [Vertex AI Extension Service agent](https://cloud.google.com/vertex-ai/docs/general/access-control#service-agents) the [permission needed](https://cloud.google.com/vertex-ai/docs/general/access-control#home-project). In this case, you need permissions to run discovery engine. You can set it in the UI: https://console.cloud.google.com/iam-admin/iam"
      ],
      "metadata": {
        "id": "ei9fJCWfFafT"
      }
    },
    {
      "cell_type": "markdown",
      "source": [
        "#### Create a Vertex AI Search App for the Vertex AI Search Extension in 4 Steps\n",
        "\n",
        "To create a search app for Vertex AI Search Extension to use, you can either do that manually by following [those docs](https://cloud.google.com/generative-ai-app-builder/docs/create-datastore-ingest) or run the 4 steps below. If you already have a vertex AI search appp set up, feel free to skip those 4 steps and go to set up vertex AI search extension section."
      ],
      "metadata": {
        "id": "eLSvcJrRBa0P"
      }
    },
    {
      "cell_type": "markdown",
      "source": [
        "##### 1) Download PDFs and Ingest Into GCS Bucket\n",
        "\n",
        "If you don't have gdown and gsutil, please install them. !pip install gdown, !pip install gsutil"
      ],
      "metadata": {
        "id": "IBcXf2rdBASy"
      }
    },
    {
      "cell_type": "code",
      "source": [
        "from google.cloud import storage\n",
        "import gdown\n",
        "def upload_blob(bucket_name, source_file_name, destination_blob_name):\n",
        "    \"\"\"Uploads a file to the bucket.\"\"\"\n",
        "    storage_client = storage.Client()\n",
        "    bucket = storage_client.bucket(bucket_name)\n",
        "    blob = bucket.blob(destination_blob_name)\n",
        "    generation_match_precondition = None\n",
        "    blob.upload_from_filename(source_file_name, if_generation_match=generation_match_precondition)\n",
        "    print(f\"File {source_file_name} uploaded to {destination_blob_name}.\")\n",
        "\n",
        "# Create a GCS bucket if you don't have one\n",
        "GCS_BUCKET = f\"{PROJECT_ID}-cymbal-offmarket-list\"\n",
        "! set -x && gsutil mb -p $PROJECT_ID -l us-central1 gs://$GCS_BUCKET\n",
        "\n",
        "gcs_bucket = GCS_BUCKET # If you don't use the bucket created in the notebook, use the name of your bucket.\n",
        "folder_path = \"offmarket_data_pdfs/\" #Default sub folder name in your gcs bucket. You can use this one.\n",
        "\n",
        "# Download the pdfs and ingest them to the GCS bucket\n",
        "url_list = [\"https://drive.google.com/uc?id=1sqGmjqDOLtBMEJkGRAhcTYVbZXkKPAWJ\",\n",
        "\"https://drive.google.com/uc?id=1M2Uk5ABMlLix1Nxg7LEWmW4ioZ_SxhkU\",\n",
        "\"https://drive.google.com/uc?id=19kUrpUv9AKIebHRja_RcyP7JTPMyKmkV\"]\n",
        "i=1\n",
        "for url in url_list:\n",
        "  gdown.download(url, f\"invest{i}.pdf\")\n",
        "  upload_blob(gcs_bucket,f\"invest{i}.pdf\",f\"{folder_path}invest{i}.pdf\")\n",
        "  i+=1"
      ],
      "metadata": {
        "id": "kb3BDKin-6z-"
      },
      "execution_count": null,
      "outputs": []
    },
    {
      "cell_type": "markdown",
      "source": [
        "##### 2) Create a Vertex AI Search Data Store\n",
        "The Vertex AI Search extension needs a [**Data Store** and **Vertex AI Search App**](https://cloud.google.com/generative-ai-app-builder/docs/create-datastore-ingest) to run. After creating the data store using the cell below, You can inspect it under: https://console.cloud.google.com/gen-app-builder/data-stores"
      ],
      "metadata": {
        "id": "VsZUGcCSgMFw"
      }
    },
    {
      "cell_type": "code",
      "source": [
        "# Specify an id for your datastore. It should only use lowercase letters.\n",
        "DATA_STORE_ID = \"cymbal-offmarket-datastore\""
      ],
      "metadata": {
        "id": "VwHVcxEg3qzT"
      },
      "execution_count": null,
      "outputs": []
    },
    {
      "cell_type": "code",
      "source": [
        "# Create your Vertex AI Search data store:\n",
        "%%bash -s \"$PROJECT_ID\" \"$DATA_STORE_ID\"\n",
        "curl -X POST \\\n",
        "-H \"Authorization: Bearer $(gcloud auth print-access-token)\" \\\n",
        "-H \"Content-Type: application/json\" \\\n",
        "-H \"X-Goog-User-Project: $1\" \\\n",
        "\"https://discoveryengine.googleapis.com/v1alpha/projects/$1/locations/global/collections/default_collection/dataStores?dataStoreId=$2\" \\\n",
        "-d '{\n",
        "  \"displayName\": \"Cymbal-Offmarket-Datastore\",\n",
        "  \"industryVertical\": \"GENERIC\",\n",
        "  \"solutionTypes\": [\"SOLUTION_TYPE_SEARCH\"],\n",
        "  \"contentConfig\": \"CONTENT_REQUIRED\",\n",
        "}'"
      ],
      "metadata": {
        "id": "DOLi7KS5gR0P",
        "collapsed": true,
        "colab": {
          "base_uri": "https://localhost:8080/"
        },
        "outputId": "cd8ad6dd-6aee-49a9-a291-6f30aaff404d"
      },
      "execution_count": null,
      "outputs": [
        {
          "output_type": "stream",
          "name": "stdout",
          "text": [
            "{\n",
            "  \"name\": \"projects/742157128610/locations/global/collections/default_collection/operations/create-data-store-15169634535600974360\",\n",
            "  \"done\": true,\n",
            "  \"response\": {\n",
            "    \"@type\": \"type.googleapis.com/google.cloud.discoveryengine.v1alpha.DataStore\",\n",
            "    \"name\": \"projects/742157128610/locations/global/collections/default_collection/dataStores/cymbal-offmarket-datastore\",\n",
            "    \"displayName\": \"Cymbal-Offmarket-Datastore\",\n",
            "    \"industryVertical\": \"GENERIC\",\n",
            "    \"solutionTypes\": [\n",
            "      \"SOLUTION_TYPE_SEARCH\"\n",
            "    ],\n",
            "    \"contentConfig\": \"CONTENT_REQUIRED\",\n",
            "    \"defaultSchemaId\": \"default_schema\"\n",
            "  }\n",
            "}\n"
          ]
        },
        {
          "output_type": "stream",
          "name": "stderr",
          "text": [
            "  % Total    % Received % Xferd  Average Speed   Time    Time     Time  Current\n",
            "                                 Dload  Upload   Total   Spent    Left  Speed\n",
            "\r  0     0    0     0    0     0      0      0 --:--:-- --:--:-- --:--:--     0\r100   167    0     0  100   167      0    138  0:00:01  0:00:01 --:--:--   138\r100   770    0   603  100   167    458    126  0:00:01  0:00:01 --:--:--   585\r100   770    0   603  100   167    458    126  0:00:01  0:00:01 --:--:--   585\n"
          ]
        }
      ]
    },
    {
      "cell_type": "markdown",
      "source": [
        "##### 3) Ingest PDF Files in the GCS bucket into the Vertex AI Search Data Store"
      ],
      "metadata": {
        "id": "jc2zLUA6BMsa"
      }
    },
    {
      "cell_type": "code",
      "source": [
        "from google.api_core.client_options import ClientOptions\n",
        "from google.cloud import discoveryengine\n",
        "from typing import Optional\n",
        "\n",
        "def import_documents_sample(project_id: str,location: str,data_store_id: str,\n",
        "    gcs_uri: Optional[str] = None,) -> str:\n",
        "    \"\"\"Imports documents into a Vertex AI data store from GCS.\n",
        "    This function imports documents into a specified data store within Vertex AI\n",
        "    Agent Builder from a GCS bucket.\n",
        "    \"\"\"\n",
        "    client_options = (\n",
        "        ClientOptions(api_endpoint=f\"{location}-discoveryengine.googleapis.com\")\n",
        "        if location != \"global\"\n",
        "        else None\n",
        "    )\n",
        "    client = discoveryengine.DocumentServiceClient(client_options=client_options)\n",
        "    # The full resource name of the search engine branch.\n",
        "    parent = client.branch_path(\n",
        "        project=project_id,\n",
        "        location=location,\n",
        "        data_store=data_store_id,\n",
        "        branch=\"default_branch\",)\n",
        "\n",
        "    request = discoveryengine.ImportDocumentsRequest(\n",
        "        parent=parent,\n",
        "        gcs_source=discoveryengine.GcsSource(\n",
        "            input_uris=[gcs_uri], data_schema=\"content\"\n",
        "        ),\n",
        "        # Options: `FULL`, `INCREMENTAL`\n",
        "        reconciliation_mode=discoveryengine.ImportDocumentsRequest.ReconciliationMode.INCREMENTAL,)\n",
        "    # Make the request\n",
        "    operation = client.import_documents(request=request)\n",
        "    print(f\"Waiting for operation to complete: {operation.operation.name}\")\n",
        "    response = operation.result()\n",
        "    # Once the operation is complete, get information from operation metadata.\n",
        "    metadata = discoveryengine.ImportDocumentsMetadata(operation.metadata)\n",
        "    # Handle the response.\n",
        "    print(response)\n",
        "    print(metadata)\n",
        "    return operation.operation.name\n",
        "\n",
        "# Ingest pdfs in the GCS bucket to the data store\n",
        "GCS_URI = f\"gs://{gcs_bucket}/{folder_path}*.pdf\"\n",
        "import_documents_sample(PROJECT_ID, \"global\", DATA_STORE_ID, GCS_URI)"
      ],
      "metadata": {
        "id": "MT6vj3nr6T8e",
        "colab": {
          "base_uri": "https://localhost:8080/",
          "height": 333
        },
        "outputId": "a3cdaeaf-a9b0-4555-91fe-35e25d5fa555"
      },
      "execution_count": null,
      "outputs": [
        {
          "output_type": "stream",
          "name": "stdout",
          "text": [
            "Waiting for operation to complete: projects/742157128610/locations/global/collections/default_collection/dataStores/cymbal-offmarket-datastore/branches/0/operations/import-documents-11424418836549634975\n",
            "error_config {\n",
            "  gcs_prefix: \"gs://742157128610_us_central1_import_content/errors11424418836549635406\"\n",
            "}\n",
            "\n",
            "create_time {\n",
            "  seconds: 1721034595\n",
            "  nanos: 559403000\n",
            "}\n",
            "update_time {\n",
            "  seconds: 1721035120\n",
            "  nanos: 853928000\n",
            "}\n",
            "success_count: 3\n",
            "total_count: 3\n",
            "\n"
          ]
        },
        {
          "output_type": "execute_result",
          "data": {
            "text/plain": [
              "'projects/742157128610/locations/global/collections/default_collection/dataStores/cymbal-offmarket-datastore/branches/0/operations/import-documents-11424418836549634975'"
            ],
            "application/vnd.google.colaboratory.intrinsic+json": {
              "type": "string"
            }
          },
          "metadata": {},
          "execution_count": 8
        }
      ]
    },
    {
      "cell_type": "markdown",
      "source": [
        "##### 4) Create a Vertex Search App and Connect it to the Data Store\n",
        "The following cell lets you create a Vertex AI Search App to ✨**connect**✨ to your newly created data store. Need to enable searchTier and searchAddOns for the Vertex AI Search Extension to work as shown in the cell below. Read more about [Advanced Features](https://cloud.google.com/generative-ai-app-builder/docs/about-advanced-features)"
      ],
      "metadata": {
        "id": "xwcBGeljauNR"
      }
    },
    {
      "cell_type": "code",
      "source": [
        "%%bash -s \"$PROJECT_ID\" \"$DATA_STORE_ID\"\n",
        "curl -X POST \\\n",
        "-H \"Authorization: Bearer $(gcloud auth print-access-token)\" \\\n",
        "-H \"Content-Type: application/json\" \\\n",
        "-H \"X-Goog-User-Project: $1\" \\\n",
        "\"https://discoveryengine.googleapis.com/v1/projects/$1/locations/global/collections/default_collection/engines?engineId=$2\" \\\n",
        "-d '{\n",
        "  \"displayName\": \"Cymbal-Offmarket-Datastore-Engine\",\n",
        "  \"dataStoreIds\": [\"'$2'\"],\n",
        "  \"solutionType\": \"SOLUTION_TYPE_SEARCH\",\n",
        "  \"searchEngineConfig\": {\n",
        "     \"searchTier\": \"SEARCH_TIER_ENTERPRISE\",\n",
        "     \"searchAddOns\": [\"SEARCH_ADD_ON_LLM\"]\n",
        "   }\n",
        "}'"
      ],
      "metadata": {
        "id": "fu8919bNaybd",
        "collapsed": true,
        "colab": {
          "base_uri": "https://localhost:8080/"
        },
        "outputId": "0b41a847-3acb-4141-fca0-176ac3817116"
      },
      "execution_count": null,
      "outputs": [
        {
          "output_type": "stream",
          "name": "stdout",
          "text": [
            "{\n",
            "  \"name\": \"projects/742157128610/locations/global/collections/default_collection/operations/create-engine-9586108288729087024\",\n",
            "  \"done\": true,\n",
            "  \"response\": {\n",
            "    \"@type\": \"type.googleapis.com/google.cloud.discoveryengine.v1.Engine\",\n",
            "    \"name\": \"projects/742157128610/locations/global/collections/default_collection/engines/cymbal-offmarket-datastore\",\n",
            "    \"displayName\": \"Cymbal-Offmarket-Datastore-Engine\",\n",
            "    \"dataStoreIds\": [\n",
            "      \"cymbal-offmarket-datastore\"\n",
            "    ],\n",
            "    \"solutionType\": \"SOLUTION_TYPE_SEARCH\",\n",
            "    \"searchEngineConfig\": {\n",
            "      \"searchTier\": \"SEARCH_TIER_ENTERPRISE\",\n",
            "      \"searchAddOns\": [\n",
            "        \"SEARCH_ADD_ON_LLM\"\n",
            "      ]\n",
            "    }\n",
            "  }\n",
            "}\n"
          ]
        },
        {
          "output_type": "stream",
          "name": "stderr",
          "text": [
            "  % Total    % Received % Xferd  Average Speed   Time    Time     Time  Current\n",
            "                                 Dload  Upload   Total   Spent    Left  Speed\n",
            "\r  0     0    0     0    0     0      0      0 --:--:-- --:--:-- --:--:--     0\r100   268    0     0  100   268      0    221  0:00:01  0:00:01 --:--:--   221\r100   935    0   667  100   268    502    202  0:00:01  0:00:01 --:--:--   705\n"
          ]
        }
      ]
    },
    {
      "cell_type": "markdown",
      "source": [
        "#### Set Up the Vertex AI Search Extension Tool\n",
        "\n",
        "After you create the search app, you can use search extension to connect to it to extract the key housing research information. Below cells show you how to get the information using search extension. You can read more about search extension [here](https://cloud.google.com/vertex-ai/generative-ai/docs/extensions/vertex-ai-search)."
      ],
      "metadata": {
        "id": "1TaNXRnqL1Lu"
      }
    },
    {
      "cell_type": "code",
      "source": [
        "#If you use the notebook to create the search app, this should be the app name.\n",
        "#If you use your own search app, please replace the search app id with yours here.\n",
        "SEARCH_APP_ID = \"cymbal-offmarket-datastore\"\n",
        "SEARCH_APP_REGION = \"global\""
      ],
      "metadata": {
        "id": "j45s9LyIOvQ8"
      },
      "execution_count": null,
      "outputs": []
    },
    {
      "cell_type": "code",
      "source": [
        "SEARCH_CONFIG  = \"projects/{project_id}/locations/{search_app_region}/collections/default_collection/engines/{search_app_id}/servingConfigs/default_search\".format(\n",
        "    project_id=PROJECT_ID,\n",
        "    search_app_region=SEARCH_APP_REGION,\n",
        "    search_app_id=SEARCH_APP_ID)"
      ],
      "metadata": {
        "id": "l_hqJnawdayL"
      },
      "execution_count": null,
      "outputs": []
    },
    {
      "cell_type": "code",
      "source": [
        "search_extension = Extension.from_hub(\n",
        "    \"vertex_ai_search\",\n",
        "    runtime_config={\n",
        "        \"vertex_ai_search_runtime_config\": {\n",
        "            \"serving_config_name\": SEARCH_CONFIG,\n",
        "        }\n",
        "    })"
      ],
      "metadata": {
        "id": "zXggbziVKPC2",
        "colab": {
          "base_uri": "https://localhost:8080/"
        },
        "outputId": "9cd288fd-7a96-4493-912d-192b627c0c3b"
      },
      "execution_count": null,
      "outputs": [
        {
          "output_type": "stream",
          "name": "stderr",
          "text": [
            "INFO:vertexai.extensions._extensions:Creating Extension\n",
            "INFO:vertexai.extensions._extensions:Create Extension backing LRO: projects/742157128610/locations/us-central1/extensions/5684088087508942848/operations/8021762370663612416\n",
            "INFO:vertexai.extensions._extensions:Extension created. Resource name: projects/742157128610/locations/us-central1/extensions/5684088087508942848\n",
            "INFO:vertexai.extensions._extensions:To use this Extension in another session:\n",
            "INFO:vertexai.extensions._extensions:extension = vertexai.preview.extensions.Extension('projects/742157128610/locations/us-central1/extensions/5684088087508942848')\n"
          ]
        }
      ]
    },
    {
      "cell_type": "markdown",
      "source": [
        "## Step 2: Create Webpage Browser Extension Tool\n",
        "\n",
        "Webpage browser extension downloads information from the URL you specifcy in the prompt. This is how you can set it up at the moment. Once the CL is in production, we will use Extension.from_hub(...) to set up the extension."
      ],
      "metadata": {
        "id": "-GyFwhSxnO5d"
      }
    },
    {
      "cell_type": "code",
      "source": [
        "webpage_browser_extension = Extension.create(\n",
        "    display_name = \"Webpage Browser\",\n",
        "    description = \"This extension searches answers in browser\",\n",
        "    manifest = {\n",
        "        \"name\": \"webpage_browser\",\n",
        "        \"description\": \"Webpage Browser Extension\",\n",
        "        \"api_spec\": {\n",
        "            \"open_api_gcs_uri\": \"gs://vertex-extension-dev/webpage_browser.yaml\"\n",
        "        },\n",
        "        \"auth_config\": {\n",
        "            \"auth_type\": \"NO_AUTH\",\n",
        "        },\n",
        "    },\n",
        ")"
      ],
      "metadata": {
        "id": "O7YkBV8P0xQI",
        "collapsed": true
      },
      "execution_count": null,
      "outputs": []
    },
    {
      "cell_type": "markdown",
      "source": [
        "## Step 3: Function Call Tool\n",
        "\n",
        "In order for your agent to call a function, you need to provide some information about the function to call. You can use the FunctionDeclaration class to construct the function declaration you wish to use, and add this to your app when you create or update. You can read more on [function calling here.](https://cloud.google.com/vertex-ai/generative-ai/docs/multimodal/function-calling)"
      ],
      "metadata": {
        "id": "mq2h-_LEMr9L"
      }
    },
    {
      "cell_type": "code",
      "source": [
        "from vertexai.generative_models import FunctionDeclaration, Part\n",
        "\n",
        "function_declaration = FunctionDeclaration(\n",
        "  name=\"extract_property_sale_records\",\n",
        "  description=\"Extract property sale records from a document.\",\n",
        "  parameters={\n",
        "      \"type\": \"object\",\n",
        "      \"properties\": {\n",
        "          \"records\": {\n",
        "              \"type\": \"array\",\n",
        "              \"description\": \"A list of sale records\",\n",
        "              \"items\": {\n",
        "                  \"description\": \"Data for a sale record\",\n",
        "                  \"type\": \"object\",\n",
        "                  \"properties\": {\n",
        "        \"id\": {\"type\": \"integer\", \"description\": \"The unique id of the sale.\"},\n",
        "                      \"date\": {\"type\": \"string\", \"description\": \"Date of the sale, in the format of MMDDYY, e.g., 031023\"},\n",
        "                      \"total_amount\": {\"type\": \"number\", \"description\": \"The total amount of the sale.\"},\n",
        "                      \"customer_name\": {\"type\": \"string\", \"description\": \"The name of the customer, including first name and last name.\"},\n",
        "                      \"customer_contact\": {\"type\": \"string\", \"description\": \"The phone number of the customer, e.g., 650-123-4567.\"},\n",
        "                  },\n",
        "                  \"required\": [\"id\", \"date\", \"total_amount\"],\n",
        "              },\n",
        "          },\n",
        "      },\n",
        "      \"required\": [\"records\"],\n",
        "  },\n",
        ")"
      ],
      "metadata": {
        "id": "TTXeavD9sc8C"
      },
      "execution_count": null,
      "outputs": []
    },
    {
      "cell_type": "markdown",
      "source": [
        "## Step 4: Create Agent App\n",
        "\n",
        "Before you create an agent, you need to create an App. There are two options for creating an app.\n",
        "\n",
        "\n",
        "1.   use the App.create function, which will create a new app for you\n",
        "2.   initialize a Vertex Agents App object with the resource name of a previously created App"
      ],
      "metadata": {
        "id": "bpa46pjOwlQW"
      }
    },
    {
      "cell_type": "code",
      "source": [
        "app = App.create(display_name='Cymbal Research Agent App', description='This is an app created for a Cymbal real estate research agent.')"
      ],
      "metadata": {
        "id": "YclyIwrvUNZU"
      },
      "execution_count": null,
      "outputs": []
    },
    {
      "cell_type": "markdown",
      "source": [
        "## Step 5: Create Cymbal Real Estate Research Agent with Instructions on Tools\n",
        "You can add an agent for your app by using the add_app method. When adding an agent, you must specify all the required fields."
      ],
      "metadata": {
        "id": "KeDYd92xtGtj"
      }
    },
    {
      "cell_type": "code",
      "source": [
        "DISPLAY_NAME = \"Cymbal Real Estate Research Agent\"\n",
        "INSTRUCTIONS = \"You are an expert housing investment opportunities research agent for Cymbal Real Estate Group.\"\n",
        "\n",
        "created_agent = app.add_agent(display_name=DISPLAY_NAME, instructions=INSTRUCTIONS)"
      ],
      "metadata": {
        "id": "4D8AXpW9bllY"
      },
      "execution_count": null,
      "outputs": []
    },
    {
      "cell_type": "code",
      "source": [
        "app.list_agents()"
      ],
      "metadata": {
        "colab": {
          "base_uri": "https://localhost:8080/"
        },
        "id": "7sHXCM0GoPKG",
        "outputId": "12c358de-2b31-4020-a7fa-d67a0f91ed81"
      },
      "execution_count": null,
      "outputs": [
        {
          "output_type": "execute_result",
          "data": {
            "text/plain": [
              "[\n",
              " agent_name: projects/742157128610/locations/us-central1/apps/5703597821832200192/agents/2892485788946137088\n",
              " display_name: Cymbal Real Estate Research Agent\n",
              " model: projects/742157128610/locations/us-central1/publishers/google/models/gemini-1.5-pro-001\n",
              " instructions: You are an expert housing investment opportunities research agent for Cymbal Real Estate Group.]"
            ]
          },
          "metadata": {},
          "execution_count": 18
        }
      ]
    },
    {
      "cell_type": "markdown",
      "source": [
        "## Step 6: Ask Agent to Research on Housing Investment Opportunities"
      ],
      "metadata": {
        "id": "m91d6I8i8nXW"
      }
    },
    {
      "cell_type": "markdown",
      "source": [
        "###Update Agent with Simple Instruction - No Instructions on How to Use Tools\n",
        "\n",
        "You can update any and all of the fields of an Agent by specifying them to the Agent.update function. Any fields that aren't specified will not be updated.\n"
      ],
      "metadata": {
        "id": "NECE-StNqEgt"
      }
    },
    {
      "cell_type": "code",
      "source": [
        "SIMPLE_INSTRUCTIONS = \"\"\"\n",
        "You are a friendly chatbot who answers user's questions well.\n",
        "\"\"\"\n",
        "\n",
        "updated_agent = created_agent.update(\n",
        "    new_display_name=DISPLAY_NAME,\n",
        "    new_instructions=SIMPLE_INSTRUCTIONS,\n",
        "    new_functions=[function_declaration],\n",
        "    new_extensions={\n",
        "        'Search Extension': search_extension,\n",
        "        'Webpage Browser Extension': webpage_browser_extension,\n",
        "    }\n",
        ")"
      ],
      "metadata": {
        "id": "D8LI0M4AqEg4"
      },
      "execution_count": null,
      "outputs": []
    },
    {
      "cell_type": "code",
      "source": [
        "session = app.start_session()"
      ],
      "metadata": {
        "collapsed": true,
        "id": "8H_M2G2gqEg4"
      },
      "execution_count": null,
      "outputs": []
    },
    {
      "cell_type": "markdown",
      "source": [
        "#### Example: Ask Cymbal Agent to Retrieve info from Cymbal San Francisco Exclusive Off-Market Listings"
      ],
      "metadata": {
        "id": "ZQuzU8VMqEg4"
      }
    },
    {
      "cell_type": "markdown",
      "source": [
        "In this example, we ask the agent to answer question from off-market listings datasource. Since we didn't give it clear instructions on how to use tools, the agent doesn't know how to answer those questions.\n",
        "\n",
        "In the next section, we will give better instructions on how to use tools. And you will see the difference in the response."
      ],
      "metadata": {
        "id": "qLHxQsO24m7l"
      }
    },
    {
      "cell_type": "code",
      "source": [
        "session.run(\"Can you summarize property information around Noe Valley from Cymbal Exclusive Off-Market Listings?\")"
      ],
      "metadata": {
        "id": "oMNClqoaqEg4"
      },
      "execution_count": null,
      "outputs": []
    },
    {
      "cell_type": "markdown",
      "source": [
        "###Update Agent with Clear Instructions on How to Use Tools\n",
        "\n",
        "You can update any and all of the fields of an Agent by specifying them to the Agent.update function. Any fields that aren't specified will not be updated. The reason why we don't add new_functions and new_extensions is that we have already added them in the last step.\n"
      ],
      "metadata": {
        "id": "SV-NgXCjt8F_"
      }
    },
    {
      "cell_type": "code",
      "source": [
        "INSTRUCTIONS = \"\"\"\n",
        "You are an expert who answers the user's housing investment opportunities questions with the most relevant datasource.\n",
        "\n",
        "If the user asks you questions about sales records, call extract_property_sale_records function to extract the information.\n",
        "\n",
        "If the user asks you questions about offmarket listing at Cymbal Real Estate Group, call vertex_ai_search tool to search relevant information.\n",
        "\n",
        "If the user asks you search online to anwser the housing investment questions, please ask the user to provide URLs if the user didn't give you any URLs.\n",
        "After you get the URLs, call webpage_browser tool to search relevant information.\n",
        "\n",
        "If the user asks you to use both tools to answer the questions, you can use both tools and combine the information to answer the question.\n",
        "\n",
        "Please only answer real estate investment related questions.\n",
        "\n",
        "Only respond based on the response of the tool. Do not create your own answers.\n",
        "\"\"\"\n",
        "\n",
        "updated_agent = created_agent.update(\n",
        "    new_display_name=DISPLAY_NAME,\n",
        "    new_instructions=INSTRUCTIONS,\n",
        ")"
      ],
      "metadata": {
        "id": "dkI-VM22Icsw"
      },
      "execution_count": null,
      "outputs": []
    },
    {
      "cell_type": "code",
      "source": [
        "session = app.start_session()"
      ],
      "metadata": {
        "id": "QvZcfYXOsVgL",
        "collapsed": true
      },
      "execution_count": null,
      "outputs": []
    },
    {
      "cell_type": "markdown",
      "source": [
        "#### Example 1: Ask Cymbal Agent to Retrieve info from Cymbal San Francisco Exclusive Off-Market Listings\n",
        "\n",
        "In this example, we ask the agent to answer question from off-market listings datasource. Since we mentioned the datasource, the agent will follow the instructions to retrieve it from vertex ai search datastore.\n",
        "\n",
        "* There are a lot of information you can use from the response. You can get agent text response from .content.\n",
        "* You can see which tools the agent use by checking actions[1].tool_use.extension_invocation in the response.\n",
        "* You can check which documents the agent retrieved by checking actions[1].tool_use.output_parameters[\"content\"] in the response.\n",
        "\n",
        "Feel free to print out response to check out all the fields."
      ],
      "metadata": {
        "id": "ua9u2j0CNteH"
      }
    },
    {
      "cell_type": "code",
      "source": [
        "response = session.run(\"Can you summarize property information around Noe Valley from Cymbal Exclusive Off-Market Listings?\")"
      ],
      "metadata": {
        "id": "_CnkVE9m_au3",
        "collapsed": true
      },
      "execution_count": null,
      "outputs": []
    },
    {
      "cell_type": "code",
      "source": [
        "response.content"
      ],
      "metadata": {
        "colab": {
          "base_uri": "https://localhost:8080/"
        },
        "id": "8dDCegbu2mcR",
        "outputId": "cb0e5370-8de5-405a-8087-812b061490c0"
      },
      "execution_count": null,
      "outputs": [
        {
          "output_type": "execute_result",
          "data": {
            "text/plain": [
              "role: \"model\"\n",
              "parts {\n",
              "  text: \"1433 Noe Street in Noe Valley is a Modern Townhouse with 4 beds, 3.5 baths and 3,800 sq. ft.. It has Roof deck with city views, open floor plan, EV charger. \\n\"\n",
              "}"
            ]
          },
          "metadata": {},
          "execution_count": 26
        }
      ]
    },
    {
      "cell_type": "code",
      "source": [
        "response"
      ],
      "metadata": {
        "id": "kA8eq7DoxFyw"
      },
      "execution_count": null,
      "outputs": []
    },
    {
      "cell_type": "markdown",
      "source": [
        "#### Example 2: Ask for URLs and use webpage browser extension to retrieve information from the websites\n",
        "\n",
        "In this example, we ask the agent to answer questions by using webpage browser extension tool. As you can see in the response below, it called the webpage browser extension. Output_parameters[\"content\"] includes all the content the agent retrived using the webpage browser extension."
      ],
      "metadata": {
        "id": "K3CI5yymUOKN"
      }
    },
    {
      "cell_type": "code",
      "source": [
        "response = session.run(\"\"\"Can you summarize Noe Valley real estate investment opportunities from here:\n",
        "https://www.bcre.co/blog-news/navigating-the-market-discovering-the-most-promising-neighbourhoods-for-real-estate-investment-in-san-francisco/?\"\"\")"
      ],
      "metadata": {
        "id": "MLRScdrYT8tT"
      },
      "execution_count": null,
      "outputs": []
    },
    {
      "cell_type": "code",
      "source": [
        "response.content"
      ],
      "metadata": {
        "colab": {
          "base_uri": "https://localhost:8080/"
        },
        "id": "t5Nhdy9j7ZJn",
        "outputId": "98afc409-7e72-429c-ea84-eff2aea48338"
      },
      "execution_count": null,
      "outputs": [
        {
          "output_type": "execute_result",
          "data": {
            "text/plain": [
              "role: \"model\"\n",
              "parts {\n",
              "  text: \"Noe Valley is a highly sought-after neighborhood known for its picturesque streets and family-friendly atmosphere. The area boasts a tight-knit community and excellent schools, making it a top choice for families. With its well-maintained Victorian and Edwardian homes, Noe Valley offers a classic San Francisco charm combined with a high potential for return on investment. \\n\"\n",
              "}"
            ]
          },
          "metadata": {},
          "execution_count": 29
        }
      ]
    },
    {
      "cell_type": "code",
      "source": [
        "response"
      ],
      "metadata": {
        "id": "z1B_GGD97WLW"
      },
      "execution_count": null,
      "outputs": []
    },
    {
      "cell_type": "markdown",
      "source": [
        "#### Example 3: Use both extensions to do research\n",
        "\n",
        "In this example, we ask the agent to call both tools to do the research. As you can see in the response below, it called both vertex AI search and webpage browser extension tools. Output_parameters[\"content\"] includes all the content the agent retrived using both extensions."
      ],
      "metadata": {
        "id": "rFi2UeH5VisX"
      }
    },
    {
      "cell_type": "code",
      "source": [
        "response = session.run(\"\"\"Can you summarize Noe Valley real estate investment opportunities from Cymbal Exclusive Off-Market Listings and here:\n",
        "https://www.bcre.co/blog-news/navigating-the-market-discovering-the-most-promising-neighbourhoods-for-real-estate-investment-in-san-francisco/?\"\"\")"
      ],
      "metadata": {
        "id": "ThMdHyom2TWU"
      },
      "execution_count": null,
      "outputs": []
    },
    {
      "cell_type": "code",
      "source": [
        "response.content"
      ],
      "metadata": {
        "colab": {
          "base_uri": "https://localhost:8080/"
        },
        "id": "oVrrOWWa7zTM",
        "outputId": "9ceeb2fb-eeed-4d55-f514-ecab4ec03a58"
      },
      "execution_count": null,
      "outputs": [
        {
          "output_type": "execute_result",
          "data": {
            "text/plain": [
              "role: \"model\"\n",
              "parts {\n",
              "  text: \"Noe Valley is a desirable neighborhood for families due to its excellent schools, tight-knit community, and picturesque streets. It\\'s known for well-maintained Victorian and Edwardian homes and offers a high potential for return on investment. Cymbal Exclusive Off-Market Listings has a modern townhouse in Noe Valley with 4 beds, 3.5 baths, a roof deck, an open floor plan, and an EV charger. There are also several upcoming properties in Noe Valley. For more detailed information, reach out to Cymbal Real Estate Group.\\n\"\n",
              "}"
            ]
          },
          "metadata": {},
          "execution_count": 32
        }
      ]
    },
    {
      "cell_type": "code",
      "source": [
        "response"
      ],
      "metadata": {
        "id": "1W_9DbZc7xj6"
      },
      "execution_count": null,
      "outputs": []
    },
    {
      "cell_type": "markdown",
      "source": [
        "#### Example 4: Ask non real estate related question\n",
        "\n",
        "In this example, we ask the agent non real estate related question and see if it follows our instructions. As you can see in the response below, the agent followed the instruction and refused to answer the question."
      ],
      "metadata": {
        "id": "R-CkmB69i10s"
      }
    },
    {
      "cell_type": "code",
      "source": [
        "response = session.run(\"\"\"What's the best way to save for retirement?\"\"\")"
      ],
      "metadata": {
        "id": "UoZ2ruMj8h-_"
      },
      "execution_count": null,
      "outputs": []
    },
    {
      "cell_type": "code",
      "source": [
        "response.content"
      ],
      "metadata": {
        "colab": {
          "base_uri": "https://localhost:8080/"
        },
        "id": "DjIAhkDU9Avm",
        "outputId": "2deaf743-3a3e-4391-ec38-852d54b710cc"
      },
      "execution_count": null,
      "outputs": [
        {
          "output_type": "execute_result",
          "data": {
            "text/plain": [
              "role: \"model\"\n",
              "parts {\n",
              "  text: \"I am an expert in real estate investments. I am not qualified to answer your question on retirement savings.\\n\"\n",
              "}"
            ]
          },
          "metadata": {},
          "execution_count": 35
        }
      ]
    },
    {
      "cell_type": "markdown",
      "source": [
        "####Example 5: Agent remembers the information it retrieved earlier\n",
        "\n",
        "In this example, we ask the agent to go deeper in the topics we discussed before to see if the agent remembers previous discussion. As you can see in the response, the agent remembered the info it retrieved before and used the info for the follow-up question."
      ],
      "metadata": {
        "id": "sjpnsIT75JIb"
      }
    },
    {
      "cell_type": "code",
      "source": [
        "response = session.run(\"\"\"Can you summarize real estate investment discussion from reddit? Here is the URL:\n",
        "https://www.reddit.com/r/BayAreaRealEstate/?\"\"\")"
      ],
      "metadata": {
        "id": "an5MFpUY6UjC"
      },
      "execution_count": null,
      "outputs": []
    },
    {
      "cell_type": "code",
      "source": [
        "response.content"
      ],
      "metadata": {
        "id": "gDR0GfPTCi3g",
        "outputId": "b226c5e5-8286-4f16-caa2-d5e750db500f",
        "colab": {
          "base_uri": "https://localhost:8080/"
        }
      },
      "execution_count": null,
      "outputs": [
        {
          "output_type": "execute_result",
          "data": {
            "text/plain": [
              "role: \"model\"\n",
              "parts {\n",
              "  text: \"This Reddit page is for real estate discussion in the Bay Area. Recent discussions include topics such as rent increase disputes, hardwood flooring costs, submitting multiple offers, termite treatment regulations, and becoming a real estate agent in the Bay Area. \\n\\n\\n\"\n",
              "}"
            ]
          },
          "metadata": {},
          "execution_count": 37
        }
      ]
    },
    {
      "cell_type": "code",
      "source": [
        "response = session.run(\"\"\"Can you tell me more about one topic from this reddit disuccsion?\"\"\")"
      ],
      "metadata": {
        "id": "agdq_08t6a2L"
      },
      "execution_count": null,
      "outputs": []
    },
    {
      "cell_type": "code",
      "source": [
        "response.content"
      ],
      "metadata": {
        "colab": {
          "base_uri": "https://localhost:8080/"
        },
        "outputId": "25d136dc-72b4-481d-edcc-1998ec4c17e4",
        "id": "39jPLZfzey9R"
      },
      "execution_count": null,
      "outputs": [
        {
          "output_type": "execute_result",
          "data": {
            "text/plain": [
              "role: \"model\"\n",
              "parts {\n",
              "  text: \"One of the recent discussions on r/BayAreaRealEstate is about a landlord attempting to increase rent by 33% because the tenant\\'s mother-in-law is staying with them for two months to help with their premature infant. \\n\\nThe landlord claims the increase is due to higher water usage and liability concerns, wanting to add the mother-in-law to the lease. The tenant argues this is unfair, especially since there\\'s no mention of guest stay limitations in the lease. \\n\\nThe discussion revolves around tenant rights, lease agreements, and the legality of the landlord\\'s actions. Many users are offering advice and sharing their experiences with similar situations. \\n\"\n",
              "}"
            ]
          },
          "metadata": {},
          "execution_count": 39
        }
      ]
    },
    {
      "cell_type": "markdown",
      "source": [
        "#### Example 6: Agent uses sales record function call to answer questions\n",
        "\n",
        "In this example, we ask the agent to use function call to answer proerty sales records question. For the simplicity of the example, we don't want to call a real API. In order for the agent to use the function call, we need a mock response.\n",
        "\n",
        "For this function, the goal is to retrieve a sale record, we added \"records_response\" field with a mockup sale record in the response for the agent to use. The name of this field and content don't matter that much. The agent uses whatever response you feed it to respond to the user.\n",
        "\n",
        "You can read [the function calling doc](https://cloud.google.com/vertex-ai/generative-ai/docs/multimodal/function-calling#text-samples) to learn more about how to set up response and how use to mocks."
      ],
      "metadata": {
        "id": "Y76F0SHKbN02"
      }
    },
    {
      "cell_type": "code",
      "source": [
        "session.run(\"\"\"Can you retrieve top 1 sales records from property sale records?\"\"\")"
      ],
      "metadata": {
        "id": "Y_Zk9tYrbakU"
      },
      "execution_count": null,
      "outputs": []
    },
    {
      "cell_type": "code",
      "source": [
        "# Mock Response for the API Call\n",
        "session.run(Part.from_function_response(name=\"extract_property_sale_records\", response={\"records_response\": \"\"\"\n",
        "Address: 5678 Divisadero St, San Francisco, CA 94117\n",
        "Sale Date: May 10, 2024\n",
        "Sale Price: $10,525,000\n",
        "Property Type: 2-unit building\n",
        "Bedrooms: 10 (total)\n",
        "Bathrooms: 8 (total)\n",
        "Lot Size: 18,000 sq ft\n",
        "\"\"\"})).content"
      ],
      "metadata": {
        "colab": {
          "base_uri": "https://localhost:8080/"
        },
        "id": "nnXidQziboTp",
        "outputId": "79dbf11c-135d-4f32-cfa8-ed2608fc4f00"
      },
      "execution_count": null,
      "outputs": [
        {
          "output_type": "execute_result",
          "data": {
            "text/plain": [
              "role: \"model\"\n",
              "parts {\n",
              "  text: \"Address: 5678 Divisadero St, San Francisco, CA 94117\\nSale Date: May 10, 2024\\nSale Price: $10,525,000\\nProperty Type: 2-unit building\\nBedrooms: 10 (total)\\nBathrooms: 8 (total)\\nLot Size: 18,000 sq ft\\n\"\n",
              "}"
            ]
          },
          "metadata": {},
          "execution_count": 41
        }
      ]
    },
    {
      "cell_type": "markdown",
      "source": [
        "#### Example 7: Use session history to check what tools model used\n",
        "\n",
        "If you want to look at all the agent conversation history, you can use get_history to do that.\n"
      ],
      "metadata": {
        "id": "xvXxry9Y8f5t"
      }
    },
    {
      "cell_type": "code",
      "source": [
        "session.get_history()"
      ],
      "metadata": {
        "collapsed": true,
        "id": "HSAe_HMW8f54",
        "colab": {
          "base_uri": "https://localhost:8080/"
        },
        "outputId": "3d675b9c-185c-4185-c240-cdebd33357f1"
      },
      "execution_count": null,
      "outputs": [
        {
          "output_type": "execute_result",
          "data": {
            "text/plain": [
              "name: \"projects/742157128610/locations/us-central1/apps/5703597821832200192/sessions/8374492435362873344\"\n",
              "actions {\n",
              "  message {\n",
              "    role: \"user\"\n",
              "    parts {\n",
              "      text: \"Can you list all property information in Noe Valley from Cymbal Exclusive Off-Market Listings?\"\n",
              "    }\n",
              "  }\n",
              "  create_time {\n",
              "    seconds: 1721036062\n",
              "    nanos: 707466000\n",
              "  }\n",
              "  turn: 1\n",
              "}\n",
              "actions {\n",
              "  tool_use {\n",
              "    extension_invocation {\n",
              "      extension_name: \"projects/742157128610/locations/us-central1/extensions/5684088087508942848\"\n",
              "      operation_id: \"search\"\n",
              "    }\n",
              "    input_parameters {\n",
              "      fields {\n",
              "        key: \"query\"\n",
              "        value {\n",
              "          string_value: \"List all property information in Noe Valley from Cymbal Exclusive Off-Market Listings\"\n",
              "        }\n",
              "      }\n",
              "    }\n",
              "    output_parameters {\n",
              "      fields {\n",
              "        key: \"content\"\n",
              "        value {\n",
              "          string_value: \"[{\\\"extractive_answers\\\":[\\\"9753 Valencia Street Mission Live/Work Loft 2 2 3,20 0 Exposed brick, high ceilings, private rooftop deck 8642 Judah Street Sunset Single-Family Home 4 3 3,00 0 Ocean views, large backyard, updated kitchen 3691 24th Street Noe Valley Modern Townhouse 4 3.5 3,60 0 Roof deck with city views, open floor plan, family-friendly 1000 Cole Street Cole Valley Craftsman Bungalow 3 2 2,00 0 Charming details, updated kitchen, private garden 5000 Diamond Heights Blvd Diamond Heights View Condo 2 2 1,80 0 Panoramic city views, private balcony, pool 6000 Arguello Blvd Inner Sunset Single-Family Home 4 2.5 2,80 0 Family-friendly, quiet street, updated kitchen 7000 Lake Street Sea Cliff Historic Estate 8 6 7,50 0 Ocean views, grand interiors, expansive gardens 8000 Twin Peaks Blvd Twin Peaks Mid-Century Modern 3 2 2,50 0 Panoramic city views, open floor plan, private deck drive_spreadsheetExport to Sheets Additional Off-Market Opportunities: ● Pre-Probate Properties: Several estates in Pacific Heights and Sea Cliff are expected to come to market soon. ● Pocket Listings: We have exclusive access to luxury condos in SOMA and a charming Edwardian in Noe Valley. ● Investment Properties: Multi-unit buildings with potential for renovation and rental income available in the Mission and Bernal Heights.\\\"],\\\"extractive_segments\\\":[\\\"9753\\\\nValencia\\\\nStreet\\\\n\\\\nMission\\\\n\\\\nLive/Work Loft 2\\\\n\\\\n2\\\\n\\\\n3,20\\\\n0\\\\n\\\\nExposed brick, high\\\\nceilings, private\\\\nrooftop deck\\\\n\\\\n8642 Judah\\\\nStreet\\\\n\\\\nSunset\\\\n\\\\nSingle-Family\\\\nHome\\\\n\\\\n4\\\\n\\\\n3\\\\n\\\\n3,00\\\\n0\\\\n\\\\nOcean views, large\\\\nbackyard, updated\\\\nkitchen\\\\n\\\\n3691 24th\\\\nStreet\\\\n\\\\nNoe Valley\\\\n\\\\nModern\\\\nTownhouse\\\\n\\\\n4\\\\n\\\\n3.5\\\\n\\\\n3,60\\\\n0\\\\n\\\\nRoof deck with city\\\\nviews, open floor\\\\nplan, family-friendly\\\\n\\\\n1000 Cole\\\\nStreet\\\\n\\\\nCole Valley\\\\n\\\\nCraftsman\\\\nBungalow\\\\n\\\\n3\\\\n\\\\n2\\\\n\\\\n2,00\\\\n0\\\\n\\\\nCharming details,\\\\nupdated kitchen,\\\\nprivate garden\\\\n\\\\n5000\\\\nDiamond\\\\nHeights Blvd\\\\n\\\\nDiamond\\\\nHeights\\\\n\\\\nView Condo\\\\n\\\\n2\\\\n\\\\n2\\\\n\\\\n1,80\\\\n0\\\\n\\\\nPanoramic city\\\\nviews, private\\\\nbalcony, pool\\\\n\\\\n6000\\\\nArguello Blvd\\\\nInner Sunset Single-Family\\\\nHome\\\\n\\\\n4\\\\n\\\\n2.5\\\\n\\\\n2,80\\\\n0\\\\n\\\\nFamily-friendly, quiet\\\\nstreet, updated\\\\nkitchen\\\\n\\\\n7000 Lake\\\\nStreet\\\\n\\\\nSea Cliff\\\\n\\\\nHistoric Estate 8\\\\n\\\\n6\\\\n\\\\n7,50\\\\n0\\\\n\\\\nOcean views, grand\\\\ninteriors, expansive\\\\ngardens\\\\n\\\\n8000 Twin\\\\nPeaks Blvd\\\\n\\\\nTwin Peaks\\\\n\\\\nMid-Century\\\\nModern\\\\n\\\\n3\\\\n\\\\n2\\\\n\\\\n2,50\\\\n0\\\\n\\\\nPanoramic city\\\\nviews, open floor\\\\nplan, private deck\\\\n\\\\ndrive_spreadsheetExport to Sheets\\\\nAdditional Off-Market Opportunities:\\\\n\\\\n● Pre-Probate Properties: Several estates in Pacific Heights and Sea Cliff are expected\\\\nto come to market soon.\\\\n● Pocket Listings: We have exclusive access to luxury condos in SOMA and a charming\\\\nEdwardian in Noe Valley.\\\\n● Investment Properties: Multi-unit buildings with potential for renovation and rental\\\\nincome available in the Mission and Bernal Heights.\\\\nContact: For more information or to schedule a private showing, please contact your Cymbal\\\\nReal Estate Group agent.\\\",\\\"Disclaimer: This information is confidential and intended for Cymbal Real Estate Group clients\\\\nonly. All information is deemed reliable but not guaranteed.\\\",\\\"Cymbal Real Estate Group | Exclusive Off-Market Listing in May\\\\nConfidential - For Cymbal Clients Only\\\\nDate: May 10, 2024\\\\nCurrent Market Snapshot: San Francisco\\'s real estate market remains incredibly competitive,\\\\nwith low inventory and high demand. These off-market listings offer our discerning clients an\\\\nexclusive opportunity to secure desirable properties before they become publicly available.\\\\n\\\\nAddress\\\\n\\\\nNeighborhoo\\\\nd\\\\n\\\\nProperty Type Bed\\\\n\\\\ns\\\\n\\\\nBath\\\\ns\\\\n\\\\nSq.\\\\nFt.\\\\n\\\\nHighlights\\\\n\\\\n1234 Green\\\\nStreet\\\\n\\\\nRussian Hill\\\\n\\\\nRenovated\\\\nVictorian\\\\n\\\\n4\\\\n\\\\n3.5\\\\n\\\\n3,80\\\\n0\\\\n\\\\nBay views, chef\\'s\\\\nkitchen, private\\\\ngarden oasis\\\\n\\\\n5678\\\\nLombard\\\\nStreet\\\\n\\\\nMarina/Cow\\\\nHollow\\\\n\\\\nContemporary\\\\nTownhouse\\\\n\\\\n3\\\\n\\\\n2.5\\\\n\\\\n2,70\\\\n0\\\\n\\\\nRoof deck with city\\\\nviews, open floor\\\\nplan, EV charger\\\\n\\\\n9012 Mission\\\\nStreet\\\\n\\\\nMission\\\\nDolores\\\\n\\\\nEdwardian Flat 2\\\\n\\\\n1\\\\n\\\\n1,50\\\\n0\\\\n\\\\nHigh ceilings, period\\\\ndetails, walk to\\\\nDolores Park\\\\n\\\\n3456\\\\nCalifornia\\\\nStreet\\\\n\\\\nPacific Heights Luxury\\\\nPenthouse\\\\n\\\\n4\\\\n\\\\n3.5\\\\n\\\\n5,00\\\\n0\\\\n\\\\n360-degree city\\\\nviews, private\\\\nelevator, rooftop\\\\nterrace\\\\n\\\\n7890 Geary\\\\nBoulevard\\\\n\\\\nInner\\\\nRichmond\\\\n\\\\nSpanish\\\\nMediterranean\\\\n\\\\n5\\\\n\\\\n4\\\\n\\\\n4,20\\\\n0\\\\n\\\\nUpdated kitchen,\\\\nspacious backyard,\\\\nGolden Gate Park\\\\nviews\\\\n\\\\n2468 Fulton\\\\nStreet\\\\n\\\\nRichmond\\\\n\\\\nMid-Century\\\\nModern\\\\n\\\\n3\\\\n\\\\n2\\\\n\\\\n2,60\\\\n0\\\\n\\\\nOpen floor plan,\\\\nbackyard oasis, near\\\\nGolden Gate Park\\\\n\\\\n1357\\\\nFillmore\\\\nStreet\\\\n\\\\nPacific Heights Grand Victorian 6\\\\n\\\\n5\\\\n\\\\n6,50\\\\n0\\\\n\\\\nPreserved period\\\\ndetails, ballroom,\\\\nchef\\'s kitchen\\\"],\\\"link\\\":\\\"gs://msubasioglu-genai-sa-cymbal-offmarket-list/offmarket_data_pdfs/invest1.pdf\\\",\\\"title\\\":\\\"Cymbal Real Estate Group | Exclusive Off-Market Listing-05/10/24\\\"},{\\\"extractive_answers\\\":[\\\"These exclusive off-market listings offer our clients a unique opportunity to access properties not yet available to the public. Address Neighborhoo d Property Type Bed s Bath s Sq. Ft. Highlights 2255 Vallejo Street Pacific Heights Victorian Mansion 6 4.5 6,20 0 Panoramic Bay views, chef&#39;s kitchen, private garden oasis 1433 Noe Street Noe Valley Modern Townhouse 4 3.5 3,80 0 Roof deck with city views, open floor plan, EV charger 870 Harrison Street SOMA Loft Conversion 2 2 2,50 0 Exposed brick, high ceilings, close to tech offices 450 Balboa Street Richmond Spanish Mediterranean 5 4 4,10 0 Updated kitchen, spacious backyard, Golden Gate Park views 333 Clement Street Inner Richmond Mixed-Use Building 2 1 1,80 0 Commercial space on ground floor, apartment above.\\\"],\\\"extractive_segments\\\":[\\\"Pre-Probate Properties: Several estates in Pacific Heights and Presidio Heights are\\\\ncoming soon to market.\\\\n● Pocket Listings: We have exclusive access to luxury condos in Russian Hill and a\\\\ncharming Edwardian in North Beach.\\\\n● Investment Properties: Multi-unit buildings with potential for renovation and rental\\\\nincome available in the Mission and Bernal Heights.\\\\nContact: For more information or to schedule a private showing, please contact your Cymbal\\\\nReal Estate Group agent.\\\\nDisclaimer: This information is confidential and intended for Cymbal Real Estate Group clients\\\\nonly. All information is deemed reliable but not guaranteed.\\\",\\\"369 Mission\\\\nStreet\\\\n\\\\nFinancial\\\\nDistrict\\\\n\\\\nHigh-Rise\\\\nCondo\\\\n\\\\n1\\\\n\\\\n1\\\\n\\\\n1,20\\\\n0\\\\n\\\\nViews of downtown,\\\\nluxury building, walk\\\\nto Embarcadero\\\\n\\\\n1000 Van\\\\nNess\\\\nAvenue\\\\n\\\\nVan Ness/Civic\\\\nCenter\\\\n\\\\nModern Condo 2\\\\n\\\\n2\\\\n\\\\n1,50\\\\n0\\\\n\\\\nCity Hall views, open\\\\nfloor plan, walk to\\\\nHayes Valley\\\\n\\\\n2580 Polk\\\\nStreet\\\\n\\\\nRussian Hill\\\\n\\\\nContemporary\\\\nTownhouse\\\\n\\\\n3\\\\n\\\\n2.5\\\\n\\\\n2,70\\\\n0\\\\n\\\\nRoof deck with views,\\\\nmodern finishes, near\\\\nrestaurants\\\\n\\\\n1470 Pine\\\\nStreet\\\\n\\\\nNob Hill\\\\n\\\\nHistoric Condo 2\\\\n\\\\n1\\\\n\\\\n1,10\\\\n0\\\\n\\\\nGrace Cathedral\\\\nviews, period details,\\\\nwalk to Union Square\\\\n\\\\n8642\\\\nSunset\\\\nBoulevard\\\\n\\\\nSunset\\\\n\\\\nSingle-Family\\\\nHome\\\\n\\\\n4\\\\n\\\\n3\\\\n\\\\n3,10\\\\n0\\\\n\\\\nOcean views, quiet\\\\nstreet, spacious\\\\nbackyard\\\\n\\\\n3579 Ocean\\\\nAvenue\\\\n\\\\nIngleside\\\\n\\\\nMid-Century\\\\nModern\\\\n\\\\n3\\\\n\\\\n2\\\\n\\\\n2,00\\\\n0\\\\n\\\\nOpen floor plan,\\\\nbackyard with\\\\npotential, near parks\\\\n\\\\n1122\\\\nTaraval\\\\nStreet\\\\n\\\\nOuter Sunset Single-Family\\\\nHome\\\\n\\\\n3\\\\n\\\\n2\\\\n\\\\n2,30\\\\n0\\\\n\\\\nOcean breezes, quiet\\\\nstreet, potential for\\\\nADU\\\\n\\\\nAdditional Off-Market Opportunities:\\\",\\\"Cymbal Real Estate Group | Exclusive Off-Market Listing in June\\\\nConfidential - For Cymbal Clients Only\\\\nDate: June 10, 2024\\\\nCurrent Market Snapshot: San Francisco\\'s real estate market remains competitive, with\\\\nlimited inventory driving strong buyer interest. These exclusive off-market listings offer our\\\\nclients a unique opportunity to access properties not yet available to the public.\\\\n\\\\nAddress Neighborhoo\\\\nd\\\\n\\\\nProperty Type Bed\\\\n\\\\ns\\\\n\\\\nBath\\\\ns\\\\n\\\\nSq.\\\\nFt.\\\\n\\\\nHighlights\\\\n\\\\n2255 Vallejo\\\\nStreet\\\\n\\\\nPacific Heights Victorian\\\\nMansion\\\\n\\\\n6\\\\n\\\\n4.5\\\\n\\\\n6,20\\\\n0\\\\n\\\\nPanoramic Bay views,\\\\nchef\\'s kitchen, private\\\\ngarden oasis\\\\n\\\\n1433 Noe\\\\nStreet\\\\n\\\\nNoe Valley\\\\n\\\\nModern\\\\nTownhouse\\\\n\\\\n4\\\\n\\\\n3.5\\\\n\\\\n3,80\\\\n0\\\\n\\\\nRoof deck with city\\\\nviews, open floor\\\\nplan, EV charger\\\\n\\\\n870\\\\nHarrison\\\\nStreet\\\\n\\\\nSOMA\\\\n\\\\nLoft\\\\nConversion\\\\n\\\\n2\\\\n\\\\n2\\\\n\\\\n2,50\\\\n0\\\\n\\\\nExposed brick, high\\\\nceilings, close to tech\\\\noffices\\\\n\\\\n450 Balboa\\\\nStreet\\\\n\\\\nRichmond\\\\n\\\\nSpanish\\\\nMediterranean\\\\n\\\\n5\\\\n\\\\n4\\\\n\\\\n4,10\\\\n0\\\\n\\\\nUpdated kitchen,\\\\nspacious backyard,\\\\nGolden Gate Park\\\\nviews\\\\n\\\\n333\\\\nClement\\\\nStreet\\\\n\\\\nInner\\\\nRichmond\\\\n\\\\nMixed-Use\\\\nBuilding\\\\n\\\\n2\\\\n\\\\n1\\\\n\\\\n1,80\\\\n0\\\\n\\\\nCommercial space on\\\\nground floor,\\\\napartment above\\\"],\\\"link\\\":\\\"gs://msubasioglu-genai-sa-cymbal-offmarket-list/offmarket_data_pdfs/invest3.pdf\\\",\\\"title\\\":\\\"Cymbal Real Estate Group | Exclusive Off-Market Listing-6/10/24\\\"},{\\\"extractive_answers\\\":[\\\"1000 Leavenworth Street Nob Hill Beaux-Arts Condo 2 2 2,20 0 High ceilings, period details, walk to Union Square 500 Kirkham Street Sunset Single-Family Home 4 3 3,20 0 Ocean views, large backyard, potential for ADU 1800 Divisadero Street NOPA Mid-Century Modern 3 2 2,10 0 Open floor plan, updated kitchen, close to Golden Gate Park 700 Shotwell Street Mission Victorian Flat 2 1 1,20 0 High ceilings, period details, walk to Dolores Park 2500 Broadway Street Pacific Heights Mediterranean Villa 6 5.5 7,00 0 Pool, expansive gardens, separate guest house 1600 Montgomery Street Telegraph Hill Historic Condo 1 1 900 Coit Tower views, charming details, walk to North Beach 800 Bush Street Downtown Luxury Condo 2 2.5 2,50 0 High-rise living, modern finishes, concierge services 1900 Jackson Street Pacific Heights Contemporary Townhouse 4 3.5 3,80 0 Roof deck with city views, gourmet kitchen, 2 car parking drive_spreadsheetExport to Sheets Additional Off-Market Opportunities: ● Pre-MLS Listings: We have several properties coming soon to market in Noe Valley, Bernal Heights, and the Marina. ● Pocket Listings: We have exclusive access to luxury condos in SOMA and a historic home in Sea Cliff. ● Investment Properties: Multi-unit buildings with potential for renovation and rental income available in the Mission and the Castro.\\\"],\\\"extractive_segments\\\":[\\\"1000\\\\nLeavenworth\\\\nStreet\\\\n\\\\nNob Hill\\\\n\\\\nBeaux-Arts\\\\nCondo\\\\n\\\\n2\\\\n\\\\n2\\\\n\\\\n2,20\\\\n0\\\\n\\\\nHigh ceilings, period\\\\ndetails, walk to\\\\nUnion Square\\\\n\\\\n500 Kirkham\\\\nStreet\\\\n\\\\nSunset\\\\n\\\\nSingle-Family\\\\nHome\\\\n\\\\n4\\\\n\\\\n3\\\\n\\\\n3,20\\\\n0\\\\n\\\\nOcean views, large\\\\nbackyard, potential\\\\nfor ADU\\\\n\\\\n1800\\\\nDivisadero\\\\nStreet\\\\n\\\\nNOPA\\\\n\\\\nMid-Century\\\\nModern\\\\n\\\\n3\\\\n\\\\n2\\\\n\\\\n2,10\\\\n0\\\\n\\\\nOpen floor plan,\\\\nupdated kitchen,\\\\nclose to Golden\\\\nGate Park\\\\n\\\\n700 Shotwell\\\\nStreet\\\\n\\\\nMission\\\\n\\\\nVictorian Flat\\\\n\\\\n2\\\\n\\\\n1\\\\n\\\\n1,20\\\\n0\\\\n\\\\nHigh ceilings, period\\\\ndetails, walk to\\\\nDolores Park\\\\n\\\\n2500\\\\nBroadway\\\\nStreet\\\\n\\\\nPacific Heights Mediterranean\\\\nVilla\\\\n\\\\n6\\\\n\\\\n5.5\\\\n\\\\n7,00\\\\n0\\\\n\\\\nPool, expansive\\\\ngardens, separate\\\\nguest house\\\\n\\\\n1600\\\\nMontgomery\\\\nStreet\\\\n\\\\nTelegraph Hill\\\\n\\\\nHistoric Condo 1\\\\n\\\\n1\\\\n\\\\n900 Coit Tower views,\\\\ncharming details,\\\\nwalk to North Beach\\\\n\\\\n800 Bush\\\\nStreet\\\\n\\\\nDowntown\\\\n\\\\nLuxury Condo 2\\\\n\\\\n2.5\\\\n\\\\n2,50\\\\n0\\\\n\\\\nHigh-rise living,\\\\nmodern finishes,\\\\nconcierge services\\\\n\\\\n1900 Jackson\\\\nStreet\\\\n\\\\nPacific Heights Contemporary\\\\nTownhouse\\\\n\\\\n4\\\\n\\\\n3.5\\\\n\\\\n3,80\\\\n0\\\\n\\\\nRoof deck with city\\\\nviews, gourmet\\\\nkitchen, 2 car\\\\nparking\\\\n\\\\ndrive_spreadsheetExport to Sheets\\\\nAdditional Off-Market Opportunities:\\\\n\\\\n● Pre-MLS Listings: We have several properties coming soon to market in Noe Valley,\\\\nBernal Heights, and the Marina.\\\\n● Pocket Listings: We have exclusive access to luxury condos in SOMA and a historic\\\\nhome in Sea Cliff.\\\\n● Investment Properties: Multi-unit buildings with potential for renovation and rental\\\\n\\\\nincome available in the Mission and the Castro.\\\\n\\\\nContact: For more information or to schedule a private showing, please contact your Cymbal\\\\nReal Estate Group agent.\\\",\\\"Cymbal Real Estate Group | Exclusive Off-Market Listing in April\\\\nConfidential - For Cymbal Clients Only\\\\nDate: April 10, 2024\\\\nCurrent Market Snapshot: San Francisco\\'s real estate market continues its upward trajectory,\\\\nwith low inventory and strong buyer demand pushing prices higher. These exclusive off-market\\\\nlistings offer our clients a strategic advantage in securing desirable properties before they\\\\nbecome publicly available.\\\\n\\\\nAddress\\\\n\\\\nNeighborhoo\\\\nd\\\\n\\\\nProperty Type Bed\\\\n\\\\ns\\\\n\\\\nBath\\\\ns\\\\n\\\\nSq.\\\\nFt.\\\\n\\\\nHighlights\\\\n\\\\n1560 Pacific\\\\nAvenue\\\\n\\\\nRussian Hill\\\\n\\\\nEdwardian\\\\nCondo\\\\n\\\\n3\\\\n\\\\n2.5\\\\n\\\\n2,80\\\\n0\\\\n\\\\nBay views, period\\\\ndetails, updated\\\\nkitchen, 2 car\\\\nparking\\\\n\\\\n925 Ashbury\\\\nStreet\\\\n\\\\nHaight-Ashbur\\\\ny\\\\n\\\\nQueen Anne\\\\nVictorian\\\\n\\\\n5\\\\n\\\\n3.5\\\\n\\\\n4,50\\\\n0\\\\n\\\\nPeriod details, large\\\\ngarden, income\\\\npotential\\\\n\\\\n3400\\\\nWashington\\\\nStreet\\\\n\\\\nPresidio\\\\nHeights\\\\n\\\\nModern\\\\nMansion\\\\n\\\\n7\\\\n\\\\n6\\\\n\\\\n8,50\\\\n0\\\\n\\\\nPanoramic city\\\\nviews, infinity pool,\\\\nsmart home\\\\ntechnology\\\\n\\\\n1250 Clay\\\\nStreet\\\\n\\\\nNob Hill\\\\n\\\\nPenthouse\\\\nCondo\\\\n\\\\n4\\\\n\\\\n4\\\\n\\\\n5,20\\\\n0\\\\n\\\\n360-degree views,\\\\nprivate terrace,\\\\nluxury building\\\\n\\\\n2300 Bryant\\\\nStreet\\\\n\\\\nMission\\\\n\\\\nLive/Work Loft 2\\\\n\\\\n2\\\\n\\\\n3,00\\\\n0\\\\n\\\\nExposed brick, high\\\\nceilings, private\\\\nrooftop deck\\\\n\\\\n600 Steiner\\\\nStreet\\\\n\\\\nLower Pacific\\\\nHeights\\\\n\\\\nRenovated Flat 2\\\\n\\\\n1.5\\\\n\\\\n1,60\\\\n0\\\\n\\\\nModern finishes,\\\\nhardwood floors,\\\\nshared garden\\\\n\\\\n444 De Haro\\\\nStreet\\\\n\\\\nPotrero Hill\\\\n\\\\nContemporary\\\\nHome\\\\n\\\\n3\\\\n\\\\n2.5\\\\n\\\\n2,80\\\\n0\\\\n\\\\nOpen floor plan,\\\\nbackyard oasis,\\\\ndowntown views\\\"],\\\"link\\\":\\\"gs://msubasioglu-genai-sa-cymbal-offmarket-list/offmarket_data_pdfs/invest2.pdf\\\",\\\"title\\\":\\\"Cymbal Real Estate Group | Exclusive Off-Market Listing-4/10/24\\\"}]\"\n",
              "        }\n",
              "      }\n",
              "    }\n",
              "  }\n",
              "  create_time {\n",
              "    seconds: 1721036062\n",
              "    nanos: 707466000\n",
              "  }\n",
              "  turn: 1\n",
              "}\n",
              "actions {\n",
              "  message {\n",
              "    role: \"model\"\n",
              "    parts {\n",
              "      text: \"1433 Noe Street in Noe Valley is a Modern Townhouse with 4 beds, 3.5 baths and 3,800 sq. ft.. It has Roof deck with city views, open floor plan, EV charger. \\n\"\n",
              "    }\n",
              "  }\n",
              "  create_time {\n",
              "    seconds: 1721036062\n",
              "    nanos: 707466000\n",
              "  }\n",
              "  turn: 1\n",
              "}\n",
              "actions {\n",
              "  message {\n",
              "    role: \"user\"\n",
              "    parts {\n",
              "      text: \"Can you summarize property information around Noe Valley from Cymbal Exclusive Off-Market Listings?\"\n",
              "    }\n",
              "  }\n",
              "  create_time {\n",
              "    seconds: 1721036127\n",
              "    nanos: 396208000\n",
              "  }\n",
              "  turn: 2\n",
              "}\n",
              "actions {\n",
              "  tool_use {\n",
              "    extension_invocation {\n",
              "      extension_name: \"projects/742157128610/locations/us-central1/extensions/5684088087508942848\"\n",
              "      operation_id: \"search\"\n",
              "    }\n",
              "    input_parameters {\n",
              "      fields {\n",
              "        key: \"query\"\n",
              "        value {\n",
              "          string_value: \"Summarize property information around Noe Valley from Cymbal Exclusive Off-Market Listings\"\n",
              "        }\n",
              "      }\n",
              "    }\n",
              "    output_parameters {\n",
              "      fields {\n",
              "        key: \"content\"\n",
              "        value {\n",
              "          string_value: \"[{\\\"extractive_answers\\\":[\\\"These exclusive off-market listings offer our clients a unique opportunity to access properties not yet available to the public. Address Neighborhoo d Property Type Bed s Bath s Sq. Ft. Highlights 2255 Vallejo Street Pacific Heights Victorian Mansion 6 4.5 6,20 0 Panoramic Bay views, chef&#39;s kitchen, private garden oasis 1433 Noe Street Noe Valley Modern Townhouse 4 3.5 3,80 0 Roof deck with city views, open floor plan, EV charger 870 Harrison Street SOMA Loft Conversion 2 2 2,50 0 Exposed brick, high ceilings, close to tech offices 450 Balboa Street Richmond Spanish Mediterranean 5 4 4,10 0 Updated kitchen, spacious backyard, Golden Gate Park views 333 Clement Street Inner Richmond Mixed-Use Building 2 1 1,80 0 Commercial space on ground floor, apartment above.\\\"],\\\"extractive_segments\\\":[\\\"Pre-Probate Properties: Several estates in Pacific Heights and Presidio Heights are\\\\ncoming soon to market.\\\\n● Pocket Listings: We have exclusive access to luxury condos in Russian Hill and a\\\\ncharming Edwardian in North Beach.\\\\n● Investment Properties: Multi-unit buildings with potential for renovation and rental\\\\nincome available in the Mission and Bernal Heights.\\\\nContact: For more information or to schedule a private showing, please contact your Cymbal\\\\nReal Estate Group agent.\\\\nDisclaimer: This information is confidential and intended for Cymbal Real Estate Group clients\\\\nonly. All information is deemed reliable but not guaranteed.\\\",\\\"369 Mission\\\\nStreet\\\\n\\\\nFinancial\\\\nDistrict\\\\n\\\\nHigh-Rise\\\\nCondo\\\\n\\\\n1\\\\n\\\\n1\\\\n\\\\n1,20\\\\n0\\\\n\\\\nViews of downtown,\\\\nluxury building, walk\\\\nto Embarcadero\\\\n\\\\n1000 Van\\\\nNess\\\\nAvenue\\\\n\\\\nVan Ness/Civic\\\\nCenter\\\\n\\\\nModern Condo 2\\\\n\\\\n2\\\\n\\\\n1,50\\\\n0\\\\n\\\\nCity Hall views, open\\\\nfloor plan, walk to\\\\nHayes Valley\\\\n\\\\n2580 Polk\\\\nStreet\\\\n\\\\nRussian Hill\\\\n\\\\nContemporary\\\\nTownhouse\\\\n\\\\n3\\\\n\\\\n2.5\\\\n\\\\n2,70\\\\n0\\\\n\\\\nRoof deck with views,\\\\nmodern finishes, near\\\\nrestaurants\\\\n\\\\n1470 Pine\\\\nStreet\\\\n\\\\nNob Hill\\\\n\\\\nHistoric Condo 2\\\\n\\\\n1\\\\n\\\\n1,10\\\\n0\\\\n\\\\nGrace Cathedral\\\\nviews, period details,\\\\nwalk to Union Square\\\\n\\\\n8642\\\\nSunset\\\\nBoulevard\\\\n\\\\nSunset\\\\n\\\\nSingle-Family\\\\nHome\\\\n\\\\n4\\\\n\\\\n3\\\\n\\\\n3,10\\\\n0\\\\n\\\\nOcean views, quiet\\\\nstreet, spacious\\\\nbackyard\\\\n\\\\n3579 Ocean\\\\nAvenue\\\\n\\\\nIngleside\\\\n\\\\nMid-Century\\\\nModern\\\\n\\\\n3\\\\n\\\\n2\\\\n\\\\n2,00\\\\n0\\\\n\\\\nOpen floor plan,\\\\nbackyard with\\\\npotential, near parks\\\\n\\\\n1122\\\\nTaraval\\\\nStreet\\\\n\\\\nOuter Sunset Single-Family\\\\nHome\\\\n\\\\n3\\\\n\\\\n2\\\\n\\\\n2,30\\\\n0\\\\n\\\\nOcean breezes, quiet\\\\nstreet, potential for\\\\nADU\\\\n\\\\nAdditional Off-Market Opportunities:\\\",\\\"Cymbal Real Estate Group | Exclusive Off-Market Listing in June\\\\nConfidential - For Cymbal Clients Only\\\\nDate: June 10, 2024\\\\nCurrent Market Snapshot: San Francisco\\'s real estate market remains competitive, with\\\\nlimited inventory driving strong buyer interest. These exclusive off-market listings offer our\\\\nclients a unique opportunity to access properties not yet available to the public.\\\\n\\\\nAddress Neighborhoo\\\\nd\\\\n\\\\nProperty Type Bed\\\\n\\\\ns\\\\n\\\\nBath\\\\ns\\\\n\\\\nSq.\\\\nFt.\\\\n\\\\nHighlights\\\\n\\\\n2255 Vallejo\\\\nStreet\\\\n\\\\nPacific Heights Victorian\\\\nMansion\\\\n\\\\n6\\\\n\\\\n4.5\\\\n\\\\n6,20\\\\n0\\\\n\\\\nPanoramic Bay views,\\\\nchef\\'s kitchen, private\\\\ngarden oasis\\\\n\\\\n1433 Noe\\\\nStreet\\\\n\\\\nNoe Valley\\\\n\\\\nModern\\\\nTownhouse\\\\n\\\\n4\\\\n\\\\n3.5\\\\n\\\\n3,80\\\\n0\\\\n\\\\nRoof deck with city\\\\nviews, open floor\\\\nplan, EV charger\\\\n\\\\n870\\\\nHarrison\\\\nStreet\\\\n\\\\nSOMA\\\\n\\\\nLoft\\\\nConversion\\\\n\\\\n2\\\\n\\\\n2\\\\n\\\\n2,50\\\\n0\\\\n\\\\nExposed brick, high\\\\nceilings, close to tech\\\\noffices\\\\n\\\\n450 Balboa\\\\nStreet\\\\n\\\\nRichmond\\\\n\\\\nSpanish\\\\nMediterranean\\\\n\\\\n5\\\\n\\\\n4\\\\n\\\\n4,10\\\\n0\\\\n\\\\nUpdated kitchen,\\\\nspacious backyard,\\\\nGolden Gate Park\\\\nviews\\\\n\\\\n333\\\\nClement\\\\nStreet\\\\n\\\\nInner\\\\nRichmond\\\\n\\\\nMixed-Use\\\\nBuilding\\\\n\\\\n2\\\\n\\\\n1\\\\n\\\\n1,80\\\\n0\\\\n\\\\nCommercial space on\\\\nground floor,\\\\napartment above\\\"],\\\"link\\\":\\\"gs://msubasioglu-genai-sa-cymbal-offmarket-list/offmarket_data_pdfs/invest3.pdf\\\",\\\"title\\\":\\\"Cymbal Real Estate Group | Exclusive Off-Market Listing-6/10/24\\\"},{\\\"extractive_answers\\\":[\\\"Contact: For more information or to schedule a private showing, please contact your Cymbal Real Estate Group agent.\\\"],\\\"extractive_segments\\\":[\\\"9753\\\\nValencia\\\\nStreet\\\\n\\\\nMission\\\\n\\\\nLive/Work Loft 2\\\\n\\\\n2\\\\n\\\\n3,20\\\\n0\\\\n\\\\nExposed brick, high\\\\nceilings, private\\\\nrooftop deck\\\\n\\\\n8642 Judah\\\\nStreet\\\\n\\\\nSunset\\\\n\\\\nSingle-Family\\\\nHome\\\\n\\\\n4\\\\n\\\\n3\\\\n\\\\n3,00\\\\n0\\\\n\\\\nOcean views, large\\\\nbackyard, updated\\\\nkitchen\\\\n\\\\n3691 24th\\\\nStreet\\\\n\\\\nNoe Valley\\\\n\\\\nModern\\\\nTownhouse\\\\n\\\\n4\\\\n\\\\n3.5\\\\n\\\\n3,60\\\\n0\\\\n\\\\nRoof deck with city\\\\nviews, open floor\\\\nplan, family-friendly\\\\n\\\\n1000 Cole\\\\nStreet\\\\n\\\\nCole Valley\\\\n\\\\nCraftsman\\\\nBungalow\\\\n\\\\n3\\\\n\\\\n2\\\\n\\\\n2,00\\\\n0\\\\n\\\\nCharming details,\\\\nupdated kitchen,\\\\nprivate garden\\\\n\\\\n5000\\\\nDiamond\\\\nHeights Blvd\\\\n\\\\nDiamond\\\\nHeights\\\\n\\\\nView Condo\\\\n\\\\n2\\\\n\\\\n2\\\\n\\\\n1,80\\\\n0\\\\n\\\\nPanoramic city\\\\nviews, private\\\\nbalcony, pool\\\\n\\\\n6000\\\\nArguello Blvd\\\\nInner Sunset Single-Family\\\\nHome\\\\n\\\\n4\\\\n\\\\n2.5\\\\n\\\\n2,80\\\\n0\\\\n\\\\nFamily-friendly, quiet\\\\nstreet, updated\\\\nkitchen\\\\n\\\\n7000 Lake\\\\nStreet\\\\n\\\\nSea Cliff\\\\n\\\\nHistoric Estate 8\\\\n\\\\n6\\\\n\\\\n7,50\\\\n0\\\\n\\\\nOcean views, grand\\\\ninteriors, expansive\\\\ngardens\\\\n\\\\n8000 Twin\\\\nPeaks Blvd\\\\n\\\\nTwin Peaks\\\\n\\\\nMid-Century\\\\nModern\\\\n\\\\n3\\\\n\\\\n2\\\\n\\\\n2,50\\\\n0\\\\n\\\\nPanoramic city\\\\nviews, open floor\\\\nplan, private deck\\\\n\\\\ndrive_spreadsheetExport to Sheets\\\\nAdditional Off-Market Opportunities:\\\\n\\\\n● Pre-Probate Properties: Several estates in Pacific Heights and Sea Cliff are expected\\\\nto come to market soon.\\\\n● Pocket Listings: We have exclusive access to luxury condos in SOMA and a charming\\\\nEdwardian in Noe Valley.\\\\n● Investment Properties: Multi-unit buildings with potential for renovation and rental\\\\nincome available in the Mission and Bernal Heights.\\\\nContact: For more information or to schedule a private showing, please contact your Cymbal\\\\nReal Estate Group agent.\\\",\\\"Disclaimer: This information is confidential and intended for Cymbal Real Estate Group clients\\\\nonly. All information is deemed reliable but not guaranteed.\\\",\\\"Cymbal Real Estate Group | Exclusive Off-Market Listing in May\\\\nConfidential - For Cymbal Clients Only\\\\nDate: May 10, 2024\\\\nCurrent Market Snapshot: San Francisco\\'s real estate market remains incredibly competitive,\\\\nwith low inventory and high demand. These off-market listings offer our discerning clients an\\\\nexclusive opportunity to secure desirable properties before they become publicly available.\\\\n\\\\nAddress\\\\n\\\\nNeighborhoo\\\\nd\\\\n\\\\nProperty Type Bed\\\\n\\\\ns\\\\n\\\\nBath\\\\ns\\\\n\\\\nSq.\\\\nFt.\\\\n\\\\nHighlights\\\\n\\\\n1234 Green\\\\nStreet\\\\n\\\\nRussian Hill\\\\n\\\\nRenovated\\\\nVictorian\\\\n\\\\n4\\\\n\\\\n3.5\\\\n\\\\n3,80\\\\n0\\\\n\\\\nBay views, chef\\'s\\\\nkitchen, private\\\\ngarden oasis\\\\n\\\\n5678\\\\nLombard\\\\nStreet\\\\n\\\\nMarina/Cow\\\\nHollow\\\\n\\\\nContemporary\\\\nTownhouse\\\\n\\\\n3\\\\n\\\\n2.5\\\\n\\\\n2,70\\\\n0\\\\n\\\\nRoof deck with city\\\\nviews, open floor\\\\nplan, EV charger\\\\n\\\\n9012 Mission\\\\nStreet\\\\n\\\\nMission\\\\nDolores\\\\n\\\\nEdwardian Flat 2\\\\n\\\\n1\\\\n\\\\n1,50\\\\n0\\\\n\\\\nHigh ceilings, period\\\\ndetails, walk to\\\\nDolores Park\\\\n\\\\n3456\\\\nCalifornia\\\\nStreet\\\\n\\\\nPacific Heights Luxury\\\\nPenthouse\\\\n\\\\n4\\\\n\\\\n3.5\\\\n\\\\n5,00\\\\n0\\\\n\\\\n360-degree city\\\\nviews, private\\\\nelevator, rooftop\\\\nterrace\\\\n\\\\n7890 Geary\\\\nBoulevard\\\\n\\\\nInner\\\\nRichmond\\\\n\\\\nSpanish\\\\nMediterranean\\\\n\\\\n5\\\\n\\\\n4\\\\n\\\\n4,20\\\\n0\\\\n\\\\nUpdated kitchen,\\\\nspacious backyard,\\\\nGolden Gate Park\\\\nviews\\\\n\\\\n2468 Fulton\\\\nStreet\\\\n\\\\nRichmond\\\\n\\\\nMid-Century\\\\nModern\\\\n\\\\n3\\\\n\\\\n2\\\\n\\\\n2,60\\\\n0\\\\n\\\\nOpen floor plan,\\\\nbackyard oasis, near\\\\nGolden Gate Park\\\\n\\\\n1357\\\\nFillmore\\\\nStreet\\\\n\\\\nPacific Heights Grand Victorian 6\\\\n\\\\n5\\\\n\\\\n6,50\\\\n0\\\\n\\\\nPreserved period\\\\ndetails, ballroom,\\\\nchef\\'s kitchen\\\"],\\\"link\\\":\\\"gs://msubasioglu-genai-sa-cymbal-offmarket-list/offmarket_data_pdfs/invest1.pdf\\\",\\\"title\\\":\\\"Cymbal Real Estate Group | Exclusive Off-Market Listing-05/10/24\\\"},{\\\"extractive_answers\\\":[\\\"Contact: For more information or to schedule a private showing, please contact your Cymbal Real Estate Group agent.\\\"],\\\"extractive_segments\\\":[\\\"1000\\\\nLeavenworth\\\\nStreet\\\\n\\\\nNob Hill\\\\n\\\\nBeaux-Arts\\\\nCondo\\\\n\\\\n2\\\\n\\\\n2\\\\n\\\\n2,20\\\\n0\\\\n\\\\nHigh ceilings, period\\\\ndetails, walk to\\\\nUnion Square\\\\n\\\\n500 Kirkham\\\\nStreet\\\\n\\\\nSunset\\\\n\\\\nSingle-Family\\\\nHome\\\\n\\\\n4\\\\n\\\\n3\\\\n\\\\n3,20\\\\n0\\\\n\\\\nOcean views, large\\\\nbackyard, potential\\\\nfor ADU\\\\n\\\\n1800\\\\nDivisadero\\\\nStreet\\\\n\\\\nNOPA\\\\n\\\\nMid-Century\\\\nModern\\\\n\\\\n3\\\\n\\\\n2\\\\n\\\\n2,10\\\\n0\\\\n\\\\nOpen floor plan,\\\\nupdated kitchen,\\\\nclose to Golden\\\\nGate Park\\\\n\\\\n700 Shotwell\\\\nStreet\\\\n\\\\nMission\\\\n\\\\nVictorian Flat\\\\n\\\\n2\\\\n\\\\n1\\\\n\\\\n1,20\\\\n0\\\\n\\\\nHigh ceilings, period\\\\ndetails, walk to\\\\nDolores Park\\\\n\\\\n2500\\\\nBroadway\\\\nStreet\\\\n\\\\nPacific Heights Mediterranean\\\\nVilla\\\\n\\\\n6\\\\n\\\\n5.5\\\\n\\\\n7,00\\\\n0\\\\n\\\\nPool, expansive\\\\ngardens, separate\\\\nguest house\\\\n\\\\n1600\\\\nMontgomery\\\\nStreet\\\\n\\\\nTelegraph Hill\\\\n\\\\nHistoric Condo 1\\\\n\\\\n1\\\\n\\\\n900 Coit Tower views,\\\\ncharming details,\\\\nwalk to North Beach\\\\n\\\\n800 Bush\\\\nStreet\\\\n\\\\nDowntown\\\\n\\\\nLuxury Condo 2\\\\n\\\\n2.5\\\\n\\\\n2,50\\\\n0\\\\n\\\\nHigh-rise living,\\\\nmodern finishes,\\\\nconcierge services\\\\n\\\\n1900 Jackson\\\\nStreet\\\\n\\\\nPacific Heights Contemporary\\\\nTownhouse\\\\n\\\\n4\\\\n\\\\n3.5\\\\n\\\\n3,80\\\\n0\\\\n\\\\nRoof deck with city\\\\nviews, gourmet\\\\nkitchen, 2 car\\\\nparking\\\\n\\\\ndrive_spreadsheetExport to Sheets\\\\nAdditional Off-Market Opportunities:\\\\n\\\\n● Pre-MLS Listings: We have several properties coming soon to market in Noe Valley,\\\\nBernal Heights, and the Marina.\\\\n● Pocket Listings: We have exclusive access to luxury condos in SOMA and a historic\\\\nhome in Sea Cliff.\\\\n● Investment Properties: Multi-unit buildings with potential for renovation and rental\\\\n\\\\nincome available in the Mission and the Castro.\\\\n\\\\nContact: For more information or to schedule a private showing, please contact your Cymbal\\\\nReal Estate Group agent.\\\",\\\"Cymbal Real Estate Group | Exclusive Off-Market Listing in April\\\\nConfidential - For Cymbal Clients Only\\\\nDate: April 10, 2024\\\\nCurrent Market Snapshot: San Francisco\\'s real estate market continues its upward trajectory,\\\\nwith low inventory and strong buyer demand pushing prices higher. These exclusive off-market\\\\nlistings offer our clients a strategic advantage in securing desirable properties before they\\\\nbecome publicly available.\\\\n\\\\nAddress\\\\n\\\\nNeighborhoo\\\\nd\\\\n\\\\nProperty Type Bed\\\\n\\\\ns\\\\n\\\\nBath\\\\ns\\\\n\\\\nSq.\\\\nFt.\\\\n\\\\nHighlights\\\\n\\\\n1560 Pacific\\\\nAvenue\\\\n\\\\nRussian Hill\\\\n\\\\nEdwardian\\\\nCondo\\\\n\\\\n3\\\\n\\\\n2.5\\\\n\\\\n2,80\\\\n0\\\\n\\\\nBay views, period\\\\ndetails, updated\\\\nkitchen, 2 car\\\\nparking\\\\n\\\\n925 Ashbury\\\\nStreet\\\\n\\\\nHaight-Ashbur\\\\ny\\\\n\\\\nQueen Anne\\\\nVictorian\\\\n\\\\n5\\\\n\\\\n3.5\\\\n\\\\n4,50\\\\n0\\\\n\\\\nPeriod details, large\\\\ngarden, income\\\\npotential\\\\n\\\\n3400\\\\nWashington\\\\nStreet\\\\n\\\\nPresidio\\\\nHeights\\\\n\\\\nModern\\\\nMansion\\\\n\\\\n7\\\\n\\\\n6\\\\n\\\\n8,50\\\\n0\\\\n\\\\nPanoramic city\\\\nviews, infinity pool,\\\\nsmart home\\\\ntechnology\\\\n\\\\n1250 Clay\\\\nStreet\\\\n\\\\nNob Hill\\\\n\\\\nPenthouse\\\\nCondo\\\\n\\\\n4\\\\n\\\\n4\\\\n\\\\n5,20\\\\n0\\\\n\\\\n360-degree views,\\\\nprivate terrace,\\\\nluxury building\\\\n\\\\n2300 Bryant\\\\nStreet\\\\n\\\\nMission\\\\n\\\\nLive/Work Loft 2\\\\n\\\\n2\\\\n\\\\n3,00\\\\n0\\\\n\\\\nExposed brick, high\\\\nceilings, private\\\\nrooftop deck\\\\n\\\\n600 Steiner\\\\nStreet\\\\n\\\\nLower Pacific\\\\nHeights\\\\n\\\\nRenovated Flat 2\\\\n\\\\n1.5\\\\n\\\\n1,60\\\\n0\\\\n\\\\nModern finishes,\\\\nhardwood floors,\\\\nshared garden\\\\n\\\\n444 De Haro\\\\nStreet\\\\n\\\\nPotrero Hill\\\\n\\\\nContemporary\\\\nHome\\\\n\\\\n3\\\\n\\\\n2.5\\\\n\\\\n2,80\\\\n0\\\\n\\\\nOpen floor plan,\\\\nbackyard oasis,\\\\ndowntown views\\\"],\\\"link\\\":\\\"gs://msubasioglu-genai-sa-cymbal-offmarket-list/offmarket_data_pdfs/invest2.pdf\\\",\\\"title\\\":\\\"Cymbal Real Estate Group | Exclusive Off-Market Listing-4/10/24\\\"}]\"\n",
              "        }\n",
              "      }\n",
              "    }\n",
              "  }\n",
              "  create_time {\n",
              "    seconds: 1721036127\n",
              "    nanos: 396208000\n",
              "  }\n",
              "  turn: 2\n",
              "}\n",
              "actions {\n",
              "  message {\n",
              "    role: \"model\"\n",
              "    parts {\n",
              "      text: \"There is a modern townhouse in Noe Valley. It has 4 beds, 3.5 baths and is 3,800 sq. ft.. It has a roof deck with city views, open floor plan, and an EV charger.  In addition, there are several properties coming soon to market in Noe Valley. For more information, please contact Cymbal Real Estate Group. \\n\"\n",
              "    }\n",
              "  }\n",
              "  create_time {\n",
              "    seconds: 1721036127\n",
              "    nanos: 396208000\n",
              "  }\n",
              "  turn: 2\n",
              "}\n",
              "actions {\n",
              "  message {\n",
              "    role: \"user\"\n",
              "    parts {\n",
              "      text: \"Can you summarize Noe Valley real estate investment opportunities from here:\\nhttps://www.bcre.co/blog-news/navigating-the-market-discovering-the-most-promising-neighbourhoods-for-real-estate-investment-in-san-francisco/?\"\n",
              "    }\n",
              "  }\n",
              "  create_time {\n",
              "    seconds: 1721036166\n",
              "    nanos: 774424000\n",
              "  }\n",
              "  turn: 3\n",
              "}\n",
              "actions {\n",
              "  tool_use {\n",
              "    extension_invocation {\n",
              "      extension_name: \"projects/742157128610/locations/us-central1/extensions/8327701068775424000\"\n",
              "      operation_id: \"browse\"\n",
              "    }\n",
              "    input_parameters {\n",
              "      fields {\n",
              "        key: \"url\"\n",
              "        value {\n",
              "          string_value: \"https://www.bcre.co/blog-news/navigating-the-market-discovering-the-most-promising-neighbourhoods-for-real-estate-investment-in-san-francisco/?\"\n",
              "        }\n",
              "      }\n",
              "      fields {\n",
              "        key: \"query\"\n",
              "        value {\n",
              "          string_value: \"Can you summarize Noe Valley real estate investment opportunities from this page\"\n",
              "        }\n",
              "      }\n",
              "    }\n",
              "    output_parameters {\n",
              "      fields {\n",
              "        key: \"url\"\n",
              "        value {\n",
              "          string_value: \"https://www.bcre.co/blog-news/navigating-the-market-discovering-the-most-promising-neighbourhoods-for-real-estate-investment-in-san-francisco/?\"\n",
              "        }\n",
              "      }\n",
              "      fields {\n",
              "        key: \"title\"\n",
              "        value {\n",
              "          string_value: \"Navigating the Market: Discovering the Most Promising ...\"\n",
              "        }\n",
              "      }\n",
              "      fields {\n",
              "        key: \"content\"\n",
              "        value {\n",
              "          string_value: \"Navigating the Market: Discovering the Most Promising Neighbourhoods for Real Estate Investment in San Francisco - Baniqued Commercial Real Estate  Menu  Menu  About UsOpen submenu Join Us BuyOpen submenu Sell Brokers Invest SmartOpen submenu Blogs Contact Us  Close submenuAbout Us  What We Do Podcast  Close submenuBuy  Commercial Residential  Close submenuInvest Smart  Invest Smart – English Invest Smart – हिंदी  Skip to content  baniqued commercial real estate logo-Baniqued Commercial Real Estate  Primary Menu  About Us  What We Do Podcast  Join Us Buy  Commercial Residential  Sell Brokers Invest Smart  Invest Smart – English Invest Smart – हिंदी  Blogs Contact Us  Investment in real estate in San Francisco  Navigating the Market: Discovering the Most Promising Neighbourhoods for Real Estate Investment in San Francisco  ‍Introduction to Real Estate Investment in San Francisco  San Francisco has long been a hotbed for real estate investment, attracting both seasoned investors and newcomers alike. With its booming tech industry, vibrant culture, and picturesque landscapes, it\\'s no wonder that the San Francisco real estate market continues to thrive. But with so many options available, how can investors navigate this competitive landscape and find the most promising neighborhoods for their investments?  Factors to Consider When Investing in Real Estate in San Francisco  Before diving into the specifics of the San Francisco real estate market, it\\'s important to understand the key factors that can influence the success of your investment. One crucial aspect to consider is the local economy. San Francisco\\'s tech industry, with giants like Google and Facebook calling the area home, has fueled a strong job market and contributed to the city\\'s rapid growth. Additionally, factors such as population growth, infrastructure development, and proximity to amenities like schools and public transportation can significantly impact property values.  Another crucial consideration is the overall market conditions. Understanding the current trends, both in terms of supply and demand, can help you make informed decisions. For instance, a high demand for housing coupled with limited supply can drive up prices and create a competitive market. Conversely, an oversupply of properties can lead to lower prices and increased opportunities for investment. By keeping a pulse on these market conditions, investors can identify areas with the most potential for growth.  Market Trends and Statistics in the San Francisco Real Estate Market  To gain a deeper understanding of the San Francisco real estate market, it\\'s essential to examine the latest market trends and statistics. According to recent data, the median home price in San Francisco stands at a staggering $1.4 million, making it one of the most expensive housing markets in the country. However, despite the high prices, the market continues to show resilience and potential for growth.  One key trend to note is the rising popularity of condominiums and multi-unit buildings. With space at a premium in the city, developers are focusing on constructing vertical housing options to accommodate the growing population. This trend presents an opportunity for investors to tap into the demand for smaller, more affordable units.  Another trend worth mentioning is the increasing interest in sustainable and energy-efficient properties. San Francisco has always been at the forefront of environmental consciousness, and this extends to the real estate market. Properties with green features, such as solar panels and energy-efficient appliances, are in high demand and can command higher prices.  The Most Promising Neighborhoods for Real Estate Investment in San Francisco  Now that we have explored the key factors and market trends, let\\'s delve into the most promising neighborhoods for real estate investment in San Francisco. It\\'s important to note that while these neighborhoods show great potential, thorough research, and due diligence are essential before making any investment decisions.  1. Mission District: Known for its vibrant culture and diverse community, the Mission District has experienced significant growth in recent years. With its proximity to downtown San Francisco and excellent public transportation options, this neighborhood offers a prime location for real estate investment. The Mission District is also home to numerous tech startups, attracting young professionals who are looking for convenient housing options.  2. Dogpatch: Once an industrial area, Dogpatch has undergone a transformation in recent years and has emerged as a trendy neighborhood for real estate investment. With its charming Victorian homes and proximity to the waterfront, Dogpatch offers a unique blend of history and modernity. The neighborhood has also seen an influx of new businesses, including art galleries, cafes, and boutique shops, making it an attractive destination for both residents and investors.  3. Noe Valley: Situated in the heart of San Francisco, Noe Valley is a highly sought-after neighborhood known for its picturesque streets and family-friendly atmosphere. The area boasts a tight-knit community and excellent schools, making it a top choice for families. With its well-maintained Victorian and Edwardian homes, Noe Valley offers a classic San Francisco charm combined with a high potential for return on investment.  Exploring the Best Places to Buy Real Estate in California  While San Francisco offers numerous opportunities for real estate investment, it\\'s also worth exploring other cities in California that provide attractive options. One such city is Los Angeles, which boasts a diverse real estate market with a range of property types and price points. From the luxury homes of Beverly Hills to the up-and-coming neighborhoods of Downtown LA, there is something for every investor in the City of Angels.  Another city to consider is San Diego, known for its beautiful beaches, thriving downtown area, and strong military presence. With its growing population and strong job market, San Diego offers a stable real estate market with opportunities for long-term growth. Additionally, the city\\'s proximity to the Mexican border makes it an attractive location for cross-border investors.  The Cheapest Cities in the Bay Area for Real Estate Investment  While San Francisco and its surrounding areas may be known for their high real estate prices, there are still affordable options within the Bay Area. One such city is Oakland, which has seen a resurgence in recent years. With its diverse population, vibrant arts scene, and close proximity to San Francisco, Oakland offers a more affordable alternative for real estate investors. The city has also seen significant infrastructure improvements, including the revitalization of its downtown area, making it an attractive destination for both residents and investors.  Another affordable option is Vallejo, located in Solano County. Vallejo has experienced a renaissance in recent years, attracting investors with its affordable housing prices and potential for growth. With its waterfront location and access to major highways, Vallejo offers a convenient location for commuters working in both San Francisco and Sacramento.  Where to Live in San Francisco: Neighborhoods with High Potential for Investment  While real estate investors may focus primarily on return on investment, it\\'s also essential to consider the livability and desirability of a neighborhood. After all, a thriving community with strong amenities can attract quality tenants and ensure long-term success. Here are a few neighborhoods in San Francisco that offer both investment potential and a high quality of life:  1. Pacific Heights: Known for its stunning views of the Golden Gate Bridge and the Bay, Pacific Heights is one of San Francisco\\'s most prestigious neighborhoods. With its tree-lined streets, Victorian mansions, and proximity to parks and shops, Pacific Heights offers a luxurious and desirable living experience. The neighborhood also boasts excellent schools, making it a top choice for families.  2. Russian Hill: Situated on one of San Francisco\\'s famous hills, Russian Hill offers breathtaking views of the city and the bay. The neighborhood is known for its charming streets, historic cable cars, and proximity to popular destinations like Fisherman\\'s Wharf and Ghirardelli Square. Russian Hill offers a mix of architectural styles, ranging from classic Victorian homes to modern condominiums, making it an attractive option for a wide range of residents.  3. Inner Sunset: Located next to Golden Gate Park, Inner Sunset offers a laid-back atmosphere and a close-knit community. The neighborhood is known for its diverse dining options, independent bookstores, and local shops. With its proximity to the park, residents of Inner Sunset can enjoy outdoor activities and a peaceful retreat from the bustling city. The neighborhood also offers a range of housing options, from single-family homes to multi-unit buildings, providing opportunities for various types of investments.  Analyzing Home Prices in the San Francisco Bay Area  When considering real estate investment in the San Francisco Bay Area, it\\'s important to analyze the home prices and trends in the region. As mentioned earlier, the median home price in San Francisco is $1.4 million, making it one of the most expensive cities in the country. However, prices can vary significantly depending on the specific neighborhood and property type.  In general, neighborhoods closer to downtown San Francisco tend to have higher home prices, while those further away offer more affordable options. For example, the median home price in Pacific Heights is around $4 million, while in neighborhoods like Bayview and Excelsior, it can be as low as $800,000. By analyzing these price differentials, investors can identify neighborhoods that align with their budget and investment goals.  Expert Tips for Successful Real Estate Investment in San Francisco  To ensure a successful real estate investment in San Francisco, it\\'s important to heed the advice of industry experts. Here are a few tips to help you navigate the market:  Do your research: Thoroughly research the neighborhoods you are considering, including their historical trends, current market conditions, and future development plans. This will help you make informed decisions and identify areas with the most potential for growth. Work with a local real estate agent: Partnering with a knowledgeable local real estate agent can provide invaluable insights and guidance throughout the investment process. They can help you navigate the local market, negotiate deals, and connect you with other professionals, such as property managers and contractors. Diversify your portfolio: Consider diversifying your real estate portfolio by investing in different types of properties and neighborhoods. This can help mitigate risk and maximize potential returns. Stay updated on market trends: Continuously monitor the market trends and conditions to identify emerging opportunities and adjust your investment strategy accordingly. This includes keeping track of factors such as interest rates, job growth, and housing supply.  Conclusion: Making Informed Decisions in the San Francisco Real Estate Market  Investing in real estate in San Francisco can be a lucrative endeavor, but it requires careful consideration and thorough research. By understanding the key factors, market trends, and potential neighborhoods, investors can make informed decisions that align with their financial goals. Whether you choose to invest in the most promising neighborhoods within San Francisco or explore other cities in California, the key to success lies in analyzing the market, staying updated on trends, and working with industry professionals. So, take the first step towards your new investment journey and contact us for a free consultation today.  Relevant Posts  Owning Your Piece of the Golden State: Benefits of Homeownership in California (and How to Navigate the Journey)  May 23, 2024 No Comments  Read More »  Finding good neighborhood for living in California  Finding the Right Neighborhood in California: Your Guide to a Perfect Fit  May 17, 2024 No Comments  Read More »  Living cost in California  California Dreamin\\' on a Budget: Unveiling the Cost of Living in Major Cities  May 17, 2024 No Comments  Read More »  How to buy a home in California  Conquering the Golden State: Your Guide to Buying a Home in California  May 17, 2024 No Comments  Read More »  Living in San Francisco  Living in San Francisco: From Foggy Mornings to Golden Gate Dreams  April 13, 2024 No Comments  Read More »  COVID impact on San Francisco Real estate  San Francisco\\'s Housing Market: A Pandemic Plot Twist  April 13, 2024 No Comments  Read More »  Investment in San Francisco Real estate  Conquering the Golden Gate: A Guide to Real Estate Investment in San Francisco  April 13, 2024 No Comments  Read More »  Sell your property in San Francisco  Selling Your San Francisco Dream property: A Comprehensive Guide  April 13, 2024 No Comments  Read More »  Real estate market in 2024  Major Changes in the Real Estate Market in 2024: What You Need to Know  March 19, 2024 No Comments  Read More »  find real estate agent in san Francisco-Baniqued Commercial Real Estate  Working with Real Estate Agents in San Francisco: All You Need to Know  March 13, 2024 No Comments  Read More »  Real estate Trends in San Francisco  Demystifying the San Francisco Market: Trends, Opportunities, and Future Forecast  March 2, 2024 No Comments  Read More »  Guide for renting house in San Francisco  Navigating the Rental Landscape: Your Guide to Renting in San Francisco  March 2, 2024 No Comments  Read More »  baniqued commercial real estate logo-Baniqued Commercial Real Estate  CA DRE License: 01430309  Main: 510-222-0900  Fax: 510-743-4114  OFFICES  East Bay  2801 Pinole Valley Road Suite 210  Pinole, CA 94564  San Francisco  580 California Street, 16th Floor  San Francisco, CA 94104  QUICK LINKS  Home About Us What We Do Buy Sell  Listings Join Us Brokers Contact Us  SISTER COMPANIES  bgam logo-Baniqued Commercial Real Estate  rcc logo-Baniqued Commercial Real Estate  © Copyright 2024. All Rights Reserved.  Real Estate Web Design by Thomas Digital  About Us  What We Do Podcast  Join Us Buy  Commercial Residential  Sell Brokers Invest Smart  Invest Smart – English Invest Smart – हिंदी  Blogs Contact Us  Close menu \"\n",
              "        }\n",
              "      }\n",
              "    }\n",
              "  }\n",
              "  create_time {\n",
              "    seconds: 1721036166\n",
              "    nanos: 774424000\n",
              "  }\n",
              "  turn: 3\n",
              "}\n",
              "actions {\n",
              "  message {\n",
              "    role: \"model\"\n",
              "    parts {\n",
              "      text: \"Noe Valley is a highly sought-after neighborhood known for its picturesque streets and family-friendly atmosphere. The area boasts a tight-knit community and excellent schools, making it a top choice for families. With its well-maintained Victorian and Edwardian homes, Noe Valley offers a classic San Francisco charm combined with a high potential for return on investment. \\n\"\n",
              "    }\n",
              "  }\n",
              "  create_time {\n",
              "    seconds: 1721036166\n",
              "    nanos: 774424000\n",
              "  }\n",
              "  turn: 3\n",
              "}\n",
              "actions {\n",
              "  message {\n",
              "    role: \"user\"\n",
              "    parts {\n",
              "      text: \"Can you summarize Noe Valley real estate investment opportunities from Cymbal Exclusive Off-Market Listings and here:\\nhttps://www.bcre.co/blog-news/navigating-the-market-discovering-the-most-promising-neighbourhoods-for-real-estate-investment-in-san-francisco/?\"\n",
              "    }\n",
              "  }\n",
              "  create_time {\n",
              "    seconds: 1721036184\n",
              "    nanos: 388932000\n",
              "  }\n",
              "  turn: 4\n",
              "}\n",
              "actions {\n",
              "  tool_use {\n",
              "    extension_invocation {\n",
              "      extension_name: \"projects/742157128610/locations/us-central1/extensions/5684088087508942848\"\n",
              "      operation_id: \"search\"\n",
              "    }\n",
              "    input_parameters {\n",
              "      fields {\n",
              "        key: \"query\"\n",
              "        value {\n",
              "          string_value: \"Summarize Noe Valley real estate investment opportunities from Cymbal Exclusive Off-Market Listings\"\n",
              "        }\n",
              "      }\n",
              "    }\n",
              "    output_parameters {\n",
              "      fields {\n",
              "        key: \"content\"\n",
              "        value {\n",
              "          string_value: \"[{\\\"extractive_answers\\\":[\\\"These exclusive off-market listings offer our clients a unique opportunity to access properties not yet available to the public. Address Neighborhoo d Property Type Bed s Bath s Sq. Ft. Highlights 2255 Vallejo Street Pacific Heights Victorian Mansion 6 4.5 6,20 0 Panoramic Bay views, chef&#39;s kitchen, private garden oasis 1433 Noe Street Noe Valley Modern Townhouse 4 3.5 3,80 0 Roof deck with city views, open floor plan, EV charger 870 Harrison Street SOMA Loft Conversion 2 2 2,50 0 Exposed brick, high ceilings, close to tech offices 450 Balboa Street Richmond Spanish Mediterranean 5 4 4,10 0 Updated kitchen, spacious backyard, Golden Gate Park views 333 Clement Street Inner Richmond Mixed-Use Building 2 1 1,80 0 Commercial space on ground floor, apartment above.\\\"],\\\"extractive_segments\\\":[\\\"Pre-Probate Properties: Several estates in Pacific Heights and Presidio Heights are\\\\ncoming soon to market.\\\\n● Pocket Listings: We have exclusive access to luxury condos in Russian Hill and a\\\\ncharming Edwardian in North Beach.\\\\n● Investment Properties: Multi-unit buildings with potential for renovation and rental\\\\nincome available in the Mission and Bernal Heights.\\\\nContact: For more information or to schedule a private showing, please contact your Cymbal\\\\nReal Estate Group agent.\\\\nDisclaimer: This information is confidential and intended for Cymbal Real Estate Group clients\\\\nonly. All information is deemed reliable but not guaranteed.\\\",\\\"369 Mission\\\\nStreet\\\\n\\\\nFinancial\\\\nDistrict\\\\n\\\\nHigh-Rise\\\\nCondo\\\\n\\\\n1\\\\n\\\\n1\\\\n\\\\n1,20\\\\n0\\\\n\\\\nViews of downtown,\\\\nluxury building, walk\\\\nto Embarcadero\\\\n\\\\n1000 Van\\\\nNess\\\\nAvenue\\\\n\\\\nVan Ness/Civic\\\\nCenter\\\\n\\\\nModern Condo 2\\\\n\\\\n2\\\\n\\\\n1,50\\\\n0\\\\n\\\\nCity Hall views, open\\\\nfloor plan, walk to\\\\nHayes Valley\\\\n\\\\n2580 Polk\\\\nStreet\\\\n\\\\nRussian Hill\\\\n\\\\nContemporary\\\\nTownhouse\\\\n\\\\n3\\\\n\\\\n2.5\\\\n\\\\n2,70\\\\n0\\\\n\\\\nRoof deck with views,\\\\nmodern finishes, near\\\\nrestaurants\\\\n\\\\n1470 Pine\\\\nStreet\\\\n\\\\nNob Hill\\\\n\\\\nHistoric Condo 2\\\\n\\\\n1\\\\n\\\\n1,10\\\\n0\\\\n\\\\nGrace Cathedral\\\\nviews, period details,\\\\nwalk to Union Square\\\\n\\\\n8642\\\\nSunset\\\\nBoulevard\\\\n\\\\nSunset\\\\n\\\\nSingle-Family\\\\nHome\\\\n\\\\n4\\\\n\\\\n3\\\\n\\\\n3,10\\\\n0\\\\n\\\\nOcean views, quiet\\\\nstreet, spacious\\\\nbackyard\\\\n\\\\n3579 Ocean\\\\nAvenue\\\\n\\\\nIngleside\\\\n\\\\nMid-Century\\\\nModern\\\\n\\\\n3\\\\n\\\\n2\\\\n\\\\n2,00\\\\n0\\\\n\\\\nOpen floor plan,\\\\nbackyard with\\\\npotential, near parks\\\\n\\\\n1122\\\\nTaraval\\\\nStreet\\\\n\\\\nOuter Sunset Single-Family\\\\nHome\\\\n\\\\n3\\\\n\\\\n2\\\\n\\\\n2,30\\\\n0\\\\n\\\\nOcean breezes, quiet\\\\nstreet, potential for\\\\nADU\\\\n\\\\nAdditional Off-Market Opportunities:\\\",\\\"Cymbal Real Estate Group | Exclusive Off-Market Listing in June\\\\nConfidential - For Cymbal Clients Only\\\\nDate: June 10, 2024\\\\nCurrent Market Snapshot: San Francisco\\'s real estate market remains competitive, with\\\\nlimited inventory driving strong buyer interest. These exclusive off-market listings offer our\\\\nclients a unique opportunity to access properties not yet available to the public.\\\\n\\\\nAddress Neighborhoo\\\\nd\\\\n\\\\nProperty Type Bed\\\\n\\\\ns\\\\n\\\\nBath\\\\ns\\\\n\\\\nSq.\\\\nFt.\\\\n\\\\nHighlights\\\\n\\\\n2255 Vallejo\\\\nStreet\\\\n\\\\nPacific Heights Victorian\\\\nMansion\\\\n\\\\n6\\\\n\\\\n4.5\\\\n\\\\n6,20\\\\n0\\\\n\\\\nPanoramic Bay views,\\\\nchef\\'s kitchen, private\\\\ngarden oasis\\\\n\\\\n1433 Noe\\\\nStreet\\\\n\\\\nNoe Valley\\\\n\\\\nModern\\\\nTownhouse\\\\n\\\\n4\\\\n\\\\n3.5\\\\n\\\\n3,80\\\\n0\\\\n\\\\nRoof deck with city\\\\nviews, open floor\\\\nplan, EV charger\\\\n\\\\n870\\\\nHarrison\\\\nStreet\\\\n\\\\nSOMA\\\\n\\\\nLoft\\\\nConversion\\\\n\\\\n2\\\\n\\\\n2\\\\n\\\\n2,50\\\\n0\\\\n\\\\nExposed brick, high\\\\nceilings, close to tech\\\\noffices\\\\n\\\\n450 Balboa\\\\nStreet\\\\n\\\\nRichmond\\\\n\\\\nSpanish\\\\nMediterranean\\\\n\\\\n5\\\\n\\\\n4\\\\n\\\\n4,10\\\\n0\\\\n\\\\nUpdated kitchen,\\\\nspacious backyard,\\\\nGolden Gate Park\\\\nviews\\\\n\\\\n333\\\\nClement\\\\nStreet\\\\n\\\\nInner\\\\nRichmond\\\\n\\\\nMixed-Use\\\\nBuilding\\\\n\\\\n2\\\\n\\\\n1\\\\n\\\\n1,80\\\\n0\\\\n\\\\nCommercial space on\\\\nground floor,\\\\napartment above\\\"],\\\"link\\\":\\\"gs://msubasioglu-genai-sa-cymbal-offmarket-list/offmarket_data_pdfs/invest3.pdf\\\",\\\"title\\\":\\\"Cymbal Real Estate Group | Exclusive Off-Market Listing-6/10/24\\\"},{\\\"extractive_answers\\\":[\\\"Contact: For more information or to schedule a private showing, please contact your Cymbal Real Estate Group agent.\\\"],\\\"extractive_segments\\\":[\\\"9753\\\\nValencia\\\\nStreet\\\\n\\\\nMission\\\\n\\\\nLive/Work Loft 2\\\\n\\\\n2\\\\n\\\\n3,20\\\\n0\\\\n\\\\nExposed brick, high\\\\nceilings, private\\\\nrooftop deck\\\\n\\\\n8642 Judah\\\\nStreet\\\\n\\\\nSunset\\\\n\\\\nSingle-Family\\\\nHome\\\\n\\\\n4\\\\n\\\\n3\\\\n\\\\n3,00\\\\n0\\\\n\\\\nOcean views, large\\\\nbackyard, updated\\\\nkitchen\\\\n\\\\n3691 24th\\\\nStreet\\\\n\\\\nNoe Valley\\\\n\\\\nModern\\\\nTownhouse\\\\n\\\\n4\\\\n\\\\n3.5\\\\n\\\\n3,60\\\\n0\\\\n\\\\nRoof deck with city\\\\nviews, open floor\\\\nplan, family-friendly\\\\n\\\\n1000 Cole\\\\nStreet\\\\n\\\\nCole Valley\\\\n\\\\nCraftsman\\\\nBungalow\\\\n\\\\n3\\\\n\\\\n2\\\\n\\\\n2,00\\\\n0\\\\n\\\\nCharming details,\\\\nupdated kitchen,\\\\nprivate garden\\\\n\\\\n5000\\\\nDiamond\\\\nHeights Blvd\\\\n\\\\nDiamond\\\\nHeights\\\\n\\\\nView Condo\\\\n\\\\n2\\\\n\\\\n2\\\\n\\\\n1,80\\\\n0\\\\n\\\\nPanoramic city\\\\nviews, private\\\\nbalcony, pool\\\\n\\\\n6000\\\\nArguello Blvd\\\\nInner Sunset Single-Family\\\\nHome\\\\n\\\\n4\\\\n\\\\n2.5\\\\n\\\\n2,80\\\\n0\\\\n\\\\nFamily-friendly, quiet\\\\nstreet, updated\\\\nkitchen\\\\n\\\\n7000 Lake\\\\nStreet\\\\n\\\\nSea Cliff\\\\n\\\\nHistoric Estate 8\\\\n\\\\n6\\\\n\\\\n7,50\\\\n0\\\\n\\\\nOcean views, grand\\\\ninteriors, expansive\\\\ngardens\\\\n\\\\n8000 Twin\\\\nPeaks Blvd\\\\n\\\\nTwin Peaks\\\\n\\\\nMid-Century\\\\nModern\\\\n\\\\n3\\\\n\\\\n2\\\\n\\\\n2,50\\\\n0\\\\n\\\\nPanoramic city\\\\nviews, open floor\\\\nplan, private deck\\\\n\\\\ndrive_spreadsheetExport to Sheets\\\\nAdditional Off-Market Opportunities:\\\\n\\\\n● Pre-Probate Properties: Several estates in Pacific Heights and Sea Cliff are expected\\\\nto come to market soon.\\\\n● Pocket Listings: We have exclusive access to luxury condos in SOMA and a charming\\\\nEdwardian in Noe Valley.\\\\n● Investment Properties: Multi-unit buildings with potential for renovation and rental\\\\nincome available in the Mission and Bernal Heights.\\\\nContact: For more information or to schedule a private showing, please contact your Cymbal\\\\nReal Estate Group agent.\\\",\\\"Disclaimer: This information is confidential and intended for Cymbal Real Estate Group clients\\\\nonly. All information is deemed reliable but not guaranteed.\\\",\\\"Cymbal Real Estate Group | Exclusive Off-Market Listing in May\\\\nConfidential - For Cymbal Clients Only\\\\nDate: May 10, 2024\\\\nCurrent Market Snapshot: San Francisco\\'s real estate market remains incredibly competitive,\\\\nwith low inventory and high demand. These off-market listings offer our discerning clients an\\\\nexclusive opportunity to secure desirable properties before they become publicly available.\\\\n\\\\nAddress\\\\n\\\\nNeighborhoo\\\\nd\\\\n\\\\nProperty Type Bed\\\\n\\\\ns\\\\n\\\\nBath\\\\ns\\\\n\\\\nSq.\\\\nFt.\\\\n\\\\nHighlights\\\\n\\\\n1234 Green\\\\nStreet\\\\n\\\\nRussian Hill\\\\n\\\\nRenovated\\\\nVictorian\\\\n\\\\n4\\\\n\\\\n3.5\\\\n\\\\n3,80\\\\n0\\\\n\\\\nBay views, chef\\'s\\\\nkitchen, private\\\\ngarden oasis\\\\n\\\\n5678\\\\nLombard\\\\nStreet\\\\n\\\\nMarina/Cow\\\\nHollow\\\\n\\\\nContemporary\\\\nTownhouse\\\\n\\\\n3\\\\n\\\\n2.5\\\\n\\\\n2,70\\\\n0\\\\n\\\\nRoof deck with city\\\\nviews, open floor\\\\nplan, EV charger\\\\n\\\\n9012 Mission\\\\nStreet\\\\n\\\\nMission\\\\nDolores\\\\n\\\\nEdwardian Flat 2\\\\n\\\\n1\\\\n\\\\n1,50\\\\n0\\\\n\\\\nHigh ceilings, period\\\\ndetails, walk to\\\\nDolores Park\\\\n\\\\n3456\\\\nCalifornia\\\\nStreet\\\\n\\\\nPacific Heights Luxury\\\\nPenthouse\\\\n\\\\n4\\\\n\\\\n3.5\\\\n\\\\n5,00\\\\n0\\\\n\\\\n360-degree city\\\\nviews, private\\\\nelevator, rooftop\\\\nterrace\\\\n\\\\n7890 Geary\\\\nBoulevard\\\\n\\\\nInner\\\\nRichmond\\\\n\\\\nSpanish\\\\nMediterranean\\\\n\\\\n5\\\\n\\\\n4\\\\n\\\\n4,20\\\\n0\\\\n\\\\nUpdated kitchen,\\\\nspacious backyard,\\\\nGolden Gate Park\\\\nviews\\\\n\\\\n2468 Fulton\\\\nStreet\\\\n\\\\nRichmond\\\\n\\\\nMid-Century\\\\nModern\\\\n\\\\n3\\\\n\\\\n2\\\\n\\\\n2,60\\\\n0\\\\n\\\\nOpen floor plan,\\\\nbackyard oasis, near\\\\nGolden Gate Park\\\\n\\\\n1357\\\\nFillmore\\\\nStreet\\\\n\\\\nPacific Heights Grand Victorian 6\\\\n\\\\n5\\\\n\\\\n6,50\\\\n0\\\\n\\\\nPreserved period\\\\ndetails, ballroom,\\\\nchef\\'s kitchen\\\"],\\\"link\\\":\\\"gs://msubasioglu-genai-sa-cymbal-offmarket-list/offmarket_data_pdfs/invest1.pdf\\\",\\\"title\\\":\\\"Cymbal Real Estate Group | Exclusive Off-Market Listing-05/10/24\\\"},{\\\"extractive_answers\\\":[\\\"Contact: For more information or to schedule a private showing, please contact your Cymbal Real Estate Group agent.\\\"],\\\"extractive_segments\\\":[\\\"1000\\\\nLeavenworth\\\\nStreet\\\\n\\\\nNob Hill\\\\n\\\\nBeaux-Arts\\\\nCondo\\\\n\\\\n2\\\\n\\\\n2\\\\n\\\\n2,20\\\\n0\\\\n\\\\nHigh ceilings, period\\\\ndetails, walk to\\\\nUnion Square\\\\n\\\\n500 Kirkham\\\\nStreet\\\\n\\\\nSunset\\\\n\\\\nSingle-Family\\\\nHome\\\\n\\\\n4\\\\n\\\\n3\\\\n\\\\n3,20\\\\n0\\\\n\\\\nOcean views, large\\\\nbackyard, potential\\\\nfor ADU\\\\n\\\\n1800\\\\nDivisadero\\\\nStreet\\\\n\\\\nNOPA\\\\n\\\\nMid-Century\\\\nModern\\\\n\\\\n3\\\\n\\\\n2\\\\n\\\\n2,10\\\\n0\\\\n\\\\nOpen floor plan,\\\\nupdated kitchen,\\\\nclose to Golden\\\\nGate Park\\\\n\\\\n700 Shotwell\\\\nStreet\\\\n\\\\nMission\\\\n\\\\nVictorian Flat\\\\n\\\\n2\\\\n\\\\n1\\\\n\\\\n1,20\\\\n0\\\\n\\\\nHigh ceilings, period\\\\ndetails, walk to\\\\nDolores Park\\\\n\\\\n2500\\\\nBroadway\\\\nStreet\\\\n\\\\nPacific Heights Mediterranean\\\\nVilla\\\\n\\\\n6\\\\n\\\\n5.5\\\\n\\\\n7,00\\\\n0\\\\n\\\\nPool, expansive\\\\ngardens, separate\\\\nguest house\\\\n\\\\n1600\\\\nMontgomery\\\\nStreet\\\\n\\\\nTelegraph Hill\\\\n\\\\nHistoric Condo 1\\\\n\\\\n1\\\\n\\\\n900 Coit Tower views,\\\\ncharming details,\\\\nwalk to North Beach\\\\n\\\\n800 Bush\\\\nStreet\\\\n\\\\nDowntown\\\\n\\\\nLuxury Condo 2\\\\n\\\\n2.5\\\\n\\\\n2,50\\\\n0\\\\n\\\\nHigh-rise living,\\\\nmodern finishes,\\\\nconcierge services\\\\n\\\\n1900 Jackson\\\\nStreet\\\\n\\\\nPacific Heights Contemporary\\\\nTownhouse\\\\n\\\\n4\\\\n\\\\n3.5\\\\n\\\\n3,80\\\\n0\\\\n\\\\nRoof deck with city\\\\nviews, gourmet\\\\nkitchen, 2 car\\\\nparking\\\\n\\\\ndrive_spreadsheetExport to Sheets\\\\nAdditional Off-Market Opportunities:\\\\n\\\\n● Pre-MLS Listings: We have several properties coming soon to market in Noe Valley,\\\\nBernal Heights, and the Marina.\\\\n● Pocket Listings: We have exclusive access to luxury condos in SOMA and a historic\\\\nhome in Sea Cliff.\\\\n● Investment Properties: Multi-unit buildings with potential for renovation and rental\\\\n\\\\nincome available in the Mission and the Castro.\\\\n\\\\nContact: For more information or to schedule a private showing, please contact your Cymbal\\\\nReal Estate Group agent.\\\",\\\"Cymbal Real Estate Group | Exclusive Off-Market Listing in April\\\\nConfidential - For Cymbal Clients Only\\\\nDate: April 10, 2024\\\\nCurrent Market Snapshot: San Francisco\\'s real estate market continues its upward trajectory,\\\\nwith low inventory and strong buyer demand pushing prices higher. These exclusive off-market\\\\nlistings offer our clients a strategic advantage in securing desirable properties before they\\\\nbecome publicly available.\\\\n\\\\nAddress\\\\n\\\\nNeighborhoo\\\\nd\\\\n\\\\nProperty Type Bed\\\\n\\\\ns\\\\n\\\\nBath\\\\ns\\\\n\\\\nSq.\\\\nFt.\\\\n\\\\nHighlights\\\\n\\\\n1560 Pacific\\\\nAvenue\\\\n\\\\nRussian Hill\\\\n\\\\nEdwardian\\\\nCondo\\\\n\\\\n3\\\\n\\\\n2.5\\\\n\\\\n2,80\\\\n0\\\\n\\\\nBay views, period\\\\ndetails, updated\\\\nkitchen, 2 car\\\\nparking\\\\n\\\\n925 Ashbury\\\\nStreet\\\\n\\\\nHaight-Ashbur\\\\ny\\\\n\\\\nQueen Anne\\\\nVictorian\\\\n\\\\n5\\\\n\\\\n3.5\\\\n\\\\n4,50\\\\n0\\\\n\\\\nPeriod details, large\\\\ngarden, income\\\\npotential\\\\n\\\\n3400\\\\nWashington\\\\nStreet\\\\n\\\\nPresidio\\\\nHeights\\\\n\\\\nModern\\\\nMansion\\\\n\\\\n7\\\\n\\\\n6\\\\n\\\\n8,50\\\\n0\\\\n\\\\nPanoramic city\\\\nviews, infinity pool,\\\\nsmart home\\\\ntechnology\\\\n\\\\n1250 Clay\\\\nStreet\\\\n\\\\nNob Hill\\\\n\\\\nPenthouse\\\\nCondo\\\\n\\\\n4\\\\n\\\\n4\\\\n\\\\n5,20\\\\n0\\\\n\\\\n360-degree views,\\\\nprivate terrace,\\\\nluxury building\\\\n\\\\n2300 Bryant\\\\nStreet\\\\n\\\\nMission\\\\n\\\\nLive/Work Loft 2\\\\n\\\\n2\\\\n\\\\n3,00\\\\n0\\\\n\\\\nExposed brick, high\\\\nceilings, private\\\\nrooftop deck\\\\n\\\\n600 Steiner\\\\nStreet\\\\n\\\\nLower Pacific\\\\nHeights\\\\n\\\\nRenovated Flat 2\\\\n\\\\n1.5\\\\n\\\\n1,60\\\\n0\\\\n\\\\nModern finishes,\\\\nhardwood floors,\\\\nshared garden\\\\n\\\\n444 De Haro\\\\nStreet\\\\n\\\\nPotrero Hill\\\\n\\\\nContemporary\\\\nHome\\\\n\\\\n3\\\\n\\\\n2.5\\\\n\\\\n2,80\\\\n0\\\\n\\\\nOpen floor plan,\\\\nbackyard oasis,\\\\ndowntown views\\\"],\\\"link\\\":\\\"gs://msubasioglu-genai-sa-cymbal-offmarket-list/offmarket_data_pdfs/invest2.pdf\\\",\\\"title\\\":\\\"Cymbal Real Estate Group | Exclusive Off-Market Listing-4/10/24\\\"}]\"\n",
              "        }\n",
              "      }\n",
              "    }\n",
              "  }\n",
              "  create_time {\n",
              "    seconds: 1721036184\n",
              "    nanos: 388932000\n",
              "  }\n",
              "  turn: 4\n",
              "}\n",
              "actions {\n",
              "  tool_use {\n",
              "    extension_invocation {\n",
              "      extension_name: \"projects/742157128610/locations/us-central1/extensions/8327701068775424000\"\n",
              "      operation_id: \"browse\"\n",
              "    }\n",
              "    input_parameters {\n",
              "      fields {\n",
              "        key: \"url\"\n",
              "        value {\n",
              "          string_value: \"https://www.bcre.co/blog-news/navigating-the-market-discovering-the-most-promising-neighbourhoods-for-real-estate-investment-in-san-francisco/?\"\n",
              "        }\n",
              "      }\n",
              "      fields {\n",
              "        key: \"query\"\n",
              "        value {\n",
              "          string_value: \"Can you summarize Noe Valley real estate investment opportunities from this page\"\n",
              "        }\n",
              "      }\n",
              "    }\n",
              "    output_parameters {\n",
              "      fields {\n",
              "        key: \"url\"\n",
              "        value {\n",
              "          string_value: \"https://www.bcre.co/blog-news/navigating-the-market-discovering-the-most-promising-neighbourhoods-for-real-estate-investment-in-san-francisco/?\"\n",
              "        }\n",
              "      }\n",
              "      fields {\n",
              "        key: \"title\"\n",
              "        value {\n",
              "          string_value: \"Navigating the Market: Discovering the Most Promising ...\"\n",
              "        }\n",
              "      }\n",
              "      fields {\n",
              "        key: \"content\"\n",
              "        value {\n",
              "          string_value: \"Navigating the Market: Discovering the Most Promising Neighbourhoods for Real Estate Investment in San Francisco - Baniqued Commercial Real Estate  Menu  Menu  About UsOpen submenu Join Us BuyOpen submenu Sell Brokers Invest SmartOpen submenu Blogs Contact Us  Close submenuAbout Us  What We Do Podcast  Close submenuBuy  Commercial Residential  Close submenuInvest Smart  Invest Smart – English Invest Smart – हिंदी  Skip to content  baniqued commercial real estate logo-Baniqued Commercial Real Estate  Primary Menu  About Us  What We Do Podcast  Join Us Buy  Commercial Residential  Sell Brokers Invest Smart  Invest Smart – English Invest Smart – हिंदी  Blogs Contact Us  Investment in real estate in San Francisco  Navigating the Market: Discovering the Most Promising Neighbourhoods for Real Estate Investment in San Francisco  ‍Introduction to Real Estate Investment in San Francisco  San Francisco has long been a hotbed for real estate investment, attracting both seasoned investors and newcomers alike. With its booming tech industry, vibrant culture, and picturesque landscapes, it\\'s no wonder that the San Francisco real estate market continues to thrive. But with so many options available, how can investors navigate this competitive landscape and find the most promising neighborhoods for their investments?  Factors to Consider When Investing in Real Estate in San Francisco  Before diving into the specifics of the San Francisco real estate market, it\\'s important to understand the key factors that can influence the success of your investment. One crucial aspect to consider is the local economy. San Francisco\\'s tech industry, with giants like Google and Facebook calling the area home, has fueled a strong job market and contributed to the city\\'s rapid growth. Additionally, factors such as population growth, infrastructure development, and proximity to amenities like schools and public transportation can significantly impact property values.  Another crucial consideration is the overall market conditions. Understanding the current trends, both in terms of supply and demand, can help you make informed decisions. For instance, a high demand for housing coupled with limited supply can drive up prices and create a competitive market. Conversely, an oversupply of properties can lead to lower prices and increased opportunities for investment. By keeping a pulse on these market conditions, investors can identify areas with the most potential for growth.  Market Trends and Statistics in the San Francisco Real Estate Market  To gain a deeper understanding of the San Francisco real estate market, it\\'s essential to examine the latest market trends and statistics. According to recent data, the median home price in San Francisco stands at a staggering $1.4 million, making it one of the most expensive housing markets in the country. However, despite the high prices, the market continues to show resilience and potential for growth.  One key trend to note is the rising popularity of condominiums and multi-unit buildings. With space at a premium in the city, developers are focusing on constructing vertical housing options to accommodate the growing population. This trend presents an opportunity for investors to tap into the demand for smaller, more affordable units.  Another trend worth mentioning is the increasing interest in sustainable and energy-efficient properties. San Francisco has always been at the forefront of environmental consciousness, and this extends to the real estate market. Properties with green features, such as solar panels and energy-efficient appliances, are in high demand and can command higher prices.  The Most Promising Neighborhoods for Real Estate Investment in San Francisco  Now that we have explored the key factors and market trends, let\\'s delve into the most promising neighborhoods for real estate investment in San Francisco. It\\'s important to note that while these neighborhoods show great potential, thorough research, and due diligence are essential before making any investment decisions.  1. Mission District: Known for its vibrant culture and diverse community, the Mission District has experienced significant growth in recent years. With its proximity to downtown San Francisco and excellent public transportation options, this neighborhood offers a prime location for real estate investment. The Mission District is also home to numerous tech startups, attracting young professionals who are looking for convenient housing options.  2. Dogpatch: Once an industrial area, Dogpatch has undergone a transformation in recent years and has emerged as a trendy neighborhood for real estate investment. With its charming Victorian homes and proximity to the waterfront, Dogpatch offers a unique blend of history and modernity. The neighborhood has also seen an influx of new businesses, including art galleries, cafes, and boutique shops, making it an attractive destination for both residents and investors.  3. Noe Valley: Situated in the heart of San Francisco, Noe Valley is a highly sought-after neighborhood known for its picturesque streets and family-friendly atmosphere. The area boasts a tight-knit community and excellent schools, making it a top choice for families. With its well-maintained Victorian and Edwardian homes, Noe Valley offers a classic San Francisco charm combined with a high potential for return on investment.  Exploring the Best Places to Buy Real Estate in California  While San Francisco offers numerous opportunities for real estate investment, it\\'s also worth exploring other cities in California that provide attractive options. One such city is Los Angeles, which boasts a diverse real estate market with a range of property types and price points. From the luxury homes of Beverly Hills to the up-and-coming neighborhoods of Downtown LA, there is something for every investor in the City of Angels.  Another city to consider is San Diego, known for its beautiful beaches, thriving downtown area, and strong military presence. With its growing population and strong job market, San Diego offers a stable real estate market with opportunities for long-term growth. Additionally, the city\\'s proximity to the Mexican border makes it an attractive location for cross-border investors.  The Cheapest Cities in the Bay Area for Real Estate Investment  While San Francisco and its surrounding areas may be known for their high real estate prices, there are still affordable options within the Bay Area. One such city is Oakland, which has seen a resurgence in recent years. With its diverse population, vibrant arts scene, and close proximity to San Francisco, Oakland offers a more affordable alternative for real estate investors. The city has also seen significant infrastructure improvements, including the revitalization of its downtown area, making it an attractive destination for both residents and investors.  Another affordable option is Vallejo, located in Solano County. Vallejo has experienced a renaissance in recent years, attracting investors with its affordable housing prices and potential for growth. With its waterfront location and access to major highways, Vallejo offers a convenient location for commuters working in both San Francisco and Sacramento.  Where to Live in San Francisco: Neighborhoods with High Potential for Investment  While real estate investors may focus primarily on return on investment, it\\'s also essential to consider the livability and desirability of a neighborhood. After all, a thriving community with strong amenities can attract quality tenants and ensure long-term success. Here are a few neighborhoods in San Francisco that offer both investment potential and a high quality of life:  1. Pacific Heights: Known for its stunning views of the Golden Gate Bridge and the Bay, Pacific Heights is one of San Francisco\\'s most prestigious neighborhoods. With its tree-lined streets, Victorian mansions, and proximity to parks and shops, Pacific Heights offers a luxurious and desirable living experience. The neighborhood also boasts excellent schools, making it a top choice for families.  2. Russian Hill: Situated on one of San Francisco\\'s famous hills, Russian Hill offers breathtaking views of the city and the bay. The neighborhood is known for its charming streets, historic cable cars, and proximity to popular destinations like Fisherman\\'s Wharf and Ghirardelli Square. Russian Hill offers a mix of architectural styles, ranging from classic Victorian homes to modern condominiums, making it an attractive option for a wide range of residents.  3. Inner Sunset: Located next to Golden Gate Park, Inner Sunset offers a laid-back atmosphere and a close-knit community. The neighborhood is known for its diverse dining options, independent bookstores, and local shops. With its proximity to the park, residents of Inner Sunset can enjoy outdoor activities and a peaceful retreat from the bustling city. The neighborhood also offers a range of housing options, from single-family homes to multi-unit buildings, providing opportunities for various types of investments.  Analyzing Home Prices in the San Francisco Bay Area  When considering real estate investment in the San Francisco Bay Area, it\\'s important to analyze the home prices and trends in the region. As mentioned earlier, the median home price in San Francisco is $1.4 million, making it one of the most expensive cities in the country. However, prices can vary significantly depending on the specific neighborhood and property type.  In general, neighborhoods closer to downtown San Francisco tend to have higher home prices, while those further away offer more affordable options. For example, the median home price in Pacific Heights is around $4 million, while in neighborhoods like Bayview and Excelsior, it can be as low as $800,000. By analyzing these price differentials, investors can identify neighborhoods that align with their budget and investment goals.  Expert Tips for Successful Real Estate Investment in San Francisco  To ensure a successful real estate investment in San Francisco, it\\'s important to heed the advice of industry experts. Here are a few tips to help you navigate the market:  Do your research: Thoroughly research the neighborhoods you are considering, including their historical trends, current market conditions, and future development plans. This will help you make informed decisions and identify areas with the most potential for growth. Work with a local real estate agent: Partnering with a knowledgeable local real estate agent can provide invaluable insights and guidance throughout the investment process. They can help you navigate the local market, negotiate deals, and connect you with other professionals, such as property managers and contractors. Diversify your portfolio: Consider diversifying your real estate portfolio by investing in different types of properties and neighborhoods. This can help mitigate risk and maximize potential returns. Stay updated on market trends: Continuously monitor the market trends and conditions to identify emerging opportunities and adjust your investment strategy accordingly. This includes keeping track of factors such as interest rates, job growth, and housing supply.  Conclusion: Making Informed Decisions in the San Francisco Real Estate Market  Investing in real estate in San Francisco can be a lucrative endeavor, but it requires careful consideration and thorough research. By understanding the key factors, market trends, and potential neighborhoods, investors can make informed decisions that align with their financial goals. Whether you choose to invest in the most promising neighborhoods within San Francisco or explore other cities in California, the key to success lies in analyzing the market, staying updated on trends, and working with industry professionals. So, take the first step towards your new investment journey and contact us for a free consultation today.  Relevant Posts  Owning Your Piece of the Golden State: Benefits of Homeownership in California (and How to Navigate the Journey)  May 23, 2024 No Comments  Read More »  Finding good neighborhood for living in California  Finding the Right Neighborhood in California: Your Guide to a Perfect Fit  May 17, 2024 No Comments  Read More »  Living cost in California  California Dreamin\\' on a Budget: Unveiling the Cost of Living in Major Cities  May 17, 2024 No Comments  Read More »  How to buy a home in California  Conquering the Golden State: Your Guide to Buying a Home in California  May 17, 2024 No Comments  Read More »  Living in San Francisco  Living in San Francisco: From Foggy Mornings to Golden Gate Dreams  April 13, 2024 No Comments  Read More »  COVID impact on San Francisco Real estate  San Francisco\\'s Housing Market: A Pandemic Plot Twist  April 13, 2024 No Comments  Read More »  Investment in San Francisco Real estate  Conquering the Golden Gate: A Guide to Real Estate Investment in San Francisco  April 13, 2024 No Comments  Read More »  Sell your property in San Francisco  Selling Your San Francisco Dream property: A Comprehensive Guide  April 13, 2024 No Comments  Read More »  Real estate market in 2024  Major Changes in the Real Estate Market in 2024: What You Need to Know  March 19, 2024 No Comments  Read More »  find real estate agent in san Francisco-Baniqued Commercial Real Estate  Working with Real Estate Agents in San Francisco: All You Need to Know  March 13, 2024 No Comments  Read More »  Real estate Trends in San Francisco  Demystifying the San Francisco Market: Trends, Opportunities, and Future Forecast  March 2, 2024 No Comments  Read More »  Guide for renting house in San Francisco  Navigating the Rental Landscape: Your Guide to Renting in San Francisco  March 2, 2024 No Comments  Read More »  baniqued commercial real estate logo-Baniqued Commercial Real Estate  CA DRE License: 01430309  Main: 510-222-0900  Fax: 510-743-4114  OFFICES  East Bay  2801 Pinole Valley Road Suite 210  Pinole, CA 94564  San Francisco  580 California Street, 16th Floor  San Francisco, CA 94104  QUICK LINKS  Home About Us What We Do Buy Sell  Listings Join Us Brokers Contact Us  SISTER COMPANIES  bgam logo-Baniqued Commercial Real Estate  rcc logo-Baniqued Commercial Real Estate  © Copyright 2024. All Rights Reserved.  Real Estate Web Design by Thomas Digital  About Us  What We Do Podcast  Join Us Buy  Commercial Residential  Sell Brokers Invest Smart  Invest Smart – English Invest Smart – हिंदी  Blogs Contact Us  Close menu \"\n",
              "        }\n",
              "      }\n",
              "    }\n",
              "  }\n",
              "  create_time {\n",
              "    seconds: 1721036184\n",
              "    nanos: 388932000\n",
              "  }\n",
              "  turn: 4\n",
              "}\n",
              "actions {\n",
              "  message {\n",
              "    role: \"model\"\n",
              "    parts {\n",
              "      text: \"Noe Valley is a desirable neighborhood for families due to its excellent schools, tight-knit community, and picturesque streets. It\\'s known for well-maintained Victorian and Edwardian homes and offers a high potential for return on investment. Cymbal Exclusive Off-Market Listings has a modern townhouse in Noe Valley with 4 beds, 3.5 baths, a roof deck, an open floor plan, and an EV charger. There are also several upcoming properties in Noe Valley. For more detailed information, reach out to Cymbal Real Estate Group.\\n\"\n",
              "    }\n",
              "  }\n",
              "  create_time {\n",
              "    seconds: 1721036184\n",
              "    nanos: 388932000\n",
              "  }\n",
              "  turn: 4\n",
              "}\n",
              "actions {\n",
              "  message {\n",
              "    role: \"user\"\n",
              "    parts {\n",
              "      text: \"What\\'s the best way to save for retirement?\"\n",
              "    }\n",
              "  }\n",
              "  create_time {\n",
              "    seconds: 1721036196\n",
              "    nanos: 640305000\n",
              "  }\n",
              "  turn: 5\n",
              "}\n",
              "actions {\n",
              "  message {\n",
              "    role: \"model\"\n",
              "    parts {\n",
              "      text: \"I am an expert in real estate investments. I am not qualified to answer your question on retirement savings.\\n\"\n",
              "    }\n",
              "  }\n",
              "  create_time {\n",
              "    seconds: 1721036196\n",
              "    nanos: 640305000\n",
              "  }\n",
              "  turn: 5\n",
              "}\n",
              "actions {\n",
              "  message {\n",
              "    role: \"user\"\n",
              "    parts {\n",
              "      text: \"Can you summarize real estate investment discussion from reddit? Here is the URL:\\nhttps://www.reddit.com/r/BayAreaRealEstate/?\"\n",
              "    }\n",
              "  }\n",
              "  create_time {\n",
              "    seconds: 1721036211\n",
              "    nanos: 399209000\n",
              "  }\n",
              "  turn: 6\n",
              "}\n",
              "actions {\n",
              "  tool_use {\n",
              "    extension_invocation {\n",
              "      extension_name: \"projects/742157128610/locations/us-central1/extensions/8327701068775424000\"\n",
              "      operation_id: \"browse\"\n",
              "    }\n",
              "    input_parameters {\n",
              "      fields {\n",
              "        key: \"url\"\n",
              "        value {\n",
              "          string_value: \"https://www.reddit.com/r/BayAreaRealEstate/?\"\n",
              "        }\n",
              "      }\n",
              "      fields {\n",
              "        key: \"query\"\n",
              "        value {\n",
              "          string_value: \"Can you summarize real estate investment discussion from this page\"\n",
              "        }\n",
              "      }\n",
              "    }\n",
              "    output_parameters {\n",
              "      fields {\n",
              "        key: \"url\"\n",
              "        value {\n",
              "          string_value: \"https://www.reddit.com/r/BayAreaRealEstate/?\"\n",
              "        }\n",
              "      }\n",
              "      fields {\n",
              "        key: \"title\"\n",
              "        value {\n",
              "          string_value: \"Bay Area Real Estate - Reddit\"\n",
              "        }\n",
              "      }\n",
              "      fields {\n",
              "        key: \"content\"\n",
              "        value {\n",
              "          string_value: \"Bay Area Real Estate Skip to main content  Bay Area Real Estate  &nbsp;  RECENT  r/BayAreaRealEstate  TOPICS  Internet Culture (Viral)  Amazing Animals & Pets Cringe & Facepalm Funny Interesting Memes Oddly Satisfying Reddit Meta Wholesome & Heartwarming  Games  Action Games Adventure Games Esports Gaming Consoles & Gear Gaming News & Discussion Mobile Games Other Games Role-Playing Games Simulation Games Sports & Racing Games Strategy Games Tabletop Games  Q&As  Q&As Stories & Confessions  Technology  3D Printing Artificial Intelligence & Machine Learning Computers & Hardware Consumer Electronics DIY Electronics Programming Software & Apps Streaming Services Tech News & Discussion Virtual & Augmented Reality  Pop Culture  Celebrities Creators & Influencers Generations & Nostalgia Podcasts Streamers Tarot & Astrology  Movies & TV  Action Movies & Series Animated Movies & Series Comedy Movies & Series Crime, Mystery, & Thriller Movies & Series Documentary Movies & Series Drama Movies & Series Fantasy Movies & Series Horror Movies & Series Movie News & Discussion Reality TV Romance Movies & Series Sci-Fi Movies & Series Superhero Movies & Series TV News & Discussion  RESOURCES  About Reddit Advertise Help Blog Careers Press  Communities Best of Reddit Topics  Content Policy Privacy Policy User Agreement  Log In / Sign Up Advertise on Reddit Shop Collectible Avatars  Reddit, Inc. © 2024. All rights reserved.  Open menu  Expand search Expand user menu  Log In / Sign Up Advertise on Reddit Shop Collectible Avatars  Request failed  r/BayAreaRealEstate icon  r/BayAreaRealEstate  21K members  25 online  Create a post  Join  Skip to Navigation Skip to Right Sidebar  Feed About  Hot  Sort by  Hot New Top Rising  View  Card Compact  Feed  Suggestions for this subreddit  u/Remy_Buddha avatar u/Remy_Buddha  ADMIN MOD • 2mo ago  Options  Report  Suggestions for this subreddit  Discussion  Hello  r/BayAreaRealEstate  ,  Mod here. Thank you all for contributing to this growing community. Our subreddit is currently the 20th Real Estate subreddit with over 14k subscribers and rapidly growing!  I hope to continue to grow our community with quality posts that you find useful and avoid spammy low quality clickbait.  With that vibe, please provide honest and constructive feedback with comments on how this subreddit can improve. DMs welcome.  Thank you!  Upvote 12 Downvote 4 comments 0 awards Share  What question would you like to see in our subreddit poll?  u/Remy_Buddha avatar u/Remy_Buddha  ADMIN MOD • 20d ago  Options  Report  What question would you like to see in our subreddit poll?  Discussion  Hi Awesome members of the subreddit! We are limited to 6 questions in the poll. Besides the obvious Age/Gender/Location/Industry/Income what other questions should be asked to provide some useful context?  Upvote 1 Downvote 0 comments 0 awards Share  Owner wants to raise the rent by 33% for our mother in law staying with us for 2 months (CA)  u/MoreSolid5839 avatar u/MoreSolid5839  ADMIN MOD • 4h ago  Options  Report  Owner wants to raise the rent by 33% for our mother in law staying with us for 2 months (CA)  We are renting a 2 bedroom unit, which is part of a multiunit house with one other 2 bedroom unit, which he rents to a different family. My mother in law travelled from India to stay with us to help us with our premature infant. I didn\\'t think it was necessary to let my landlord know since it was a family member staying with us temporarily. This was also a foresight with all the stress of raising a premature infant.  My landlord called me last week to ask me about the \\\"family\\\" that is living with us. Upon finding out that my mother in law will be with us for the next two months, he freaked out and told me that our water usage has increased by about $50 a month. I apologized and agreed to pay him the difference every month. I pay for all the utilities except water, because it is shared with the other tenants. He told me that is not enough since he leased to only two people (my wife and I), and now that there is a 3rd person, they needed to be added to the lease for \\\"liability\\\" reasons. Now the rent is going to be 1.5 times. I told him that is unfair as the house didn\\'t magically grow an additional bedroom. He then said that we have been great tenants, so he will reduce it to an increase of $1000 a month (33% increase) for the months my mother in law stays with us. What is my recourse here?  I also read our entire lease a few times and there is no mention of guests only being allowed to stay for 7 days, like he claims. This is because our owner is a cheap ass who has been reusing the same lease document with printed new names for over a decade. He is 85 years old that owns his own business and drives a Porsche. The $1000 is not going to make any difference to his life whatsoever. Sorry that this also turned into a rant.  Renting  Upvote 18 Downvote 42 comments 0 awards Share  Hardwood flooring costs?  u/Sea_Examination_2470 avatar u/Sea_Examination_2470  ADMIN MOD • in 2m  Options  Report  Hardwood flooring costs?  Can anyone share approximate cost (all in - so material + labor+ anything else ) for traditional oak hardwood flooring install for a 1,500-2,000 square foot house?  Also, any companies/ contractors you\\'d recommend?  I\\'m house hunting and have come across a lot of places I like but they either have carpet or laminate flooring… so I\\'d like to factor hardwood floor install costs into my budget.  I\\'m not very familiar with this process, so would also appreciate any advice re: other things I should keep in mind… as I may be naive in thinking I can simply hire someone to remove carpet/ laminate and “simply” install wood.  Thanks in advance!  Home Improvement/General Contractor  Upvote 4 Downvote 8 comments 0 awards Share  Is Submitting Multiple Offers against the law?  u/CivEngine avatar u/CivEngine  ADMIN MOD • in 1h  Options  Report  Is Submitting Multiple Offers against the law?  I am house hunting in the bay area. Looking for a SFH. There are a couple of homes that peeked my interest. I asked my agent to submit an offer to both of them. She said she cannot submit multiple offers. It is against the law. She did mention it was common practice, but no more. I looked online, and couldn\\'t find any legal language. Is it part of the upcoming law changes?  I am not planning to buy both homes, just submit an offer and see which gets accepted. If both get accepted then I will pick the one I like. Anyone in here have more experience with this?  Buying  Upvote 2 Downvote 23 comments 0 awards Share  Subterranean termite treatment regulations on zero lot line property  u/gudda_bhoota avatar u/gudda_bhoota  ADMIN MOD • 52m ago  Options  Report  Subterranean termite treatment regulations on zero lot line property  I am a homeowner of a single family home in Fremont and I am considering performing subterranean treatment on the wall of my house that borders my neighbor\\'s yard. My property is a zero lot line property, and there is no homeowners association (HOA) or easement affecting my lot.  Before proceeding, I want to ensure that I comply with all local regulations and obtain any necessary permissions. Could anybody here provide guidance on the following:  Are there any specific regulations or permits required for subterranean treatment on a zero lot line property in Fremont?  Do I need to obtain permission from my neighbor to perform this treatment, given that the wall borders their yard?  If my neighbor declines the subterranean treatment due to concerns about the impact on their plants, what alternative options are available to me to effectively treat and protect my property from subterranean termites?  Are there any other considerations or steps I should be aware of before undertaking this treatment?  Homeowner  Upvote 2 Downvote 0 comments 0 awards Share  Becoming a RE agent in bay area  u/Adorable-Lemon4412 avatar u/Adorable-Lemon4412  ADMIN MOD • 51m ago  Options  Report  Becoming a RE agent in bay area  Has anyone gotten started as an agent in the Bay Area recently? Thinking about getting into this field as a second career.  Realtor/Agent  Upvote 1 Downvote 3 comments 0 awards Share  How many people have purchased second home cabins outside of the Bay?  u/seattleswiss2 avatar u/seattleswiss2  ADMIN MOD • 1d ago  Options  Report  How many people have purchased second home cabins outside of the Bay?  I\\'ve been in the market for a $1.7-2.2M first SFH in the Bay for some time but have been renting in the interim as rates have still not come down. I\\'m beginning to think it will make better sense to buy a small house in the $600-750K range in Sonoma as a place to live that is reasonably payoff-able with savings if I get laid off and also serves as a nice weekend and remote work (I work remotely 2-3 days a week) home. Buying a condo around here just doesn\\'t make sense... While this might not be as practical as buying a SFH here and then refinancing, I\\'m very tempted to get something small that presents minimal mortgage liability in the event of a layoff, which working in tech is now a risk for me. Buying this now before a layoff makes sense as it will be easier to get a mortgage with a good tech job, and putting 40% down would be much more doable than a Bay SFH.  Has anyone here done anything similar, and is my logic/thinking about this sound at all? Would appreciate any recommendations?  Buying  Upvote 42 Downvote 67 comments 0 awards Share  Closing costs and realtor/lender fees  u/Kanino2 avatar u/Kanino2  ADMIN MOD • 9h ago  Options  Report  Closing costs and realtor/lender fees  We\\'re looking to purchase our first home in the Bay Area. Around 750k. What should we expect to pay in fees? What should we know? Can we ask the seller to cover them? Any other tips? Thanks  Buying  Upvote 2 Downvote 6 comments 0 awards Share  Internet in Los Gatos  u/Weekly_Tomatillo_313 avatar u/Weekly_Tomatillo_313  ADMIN MOD • 2h ago  Options  Report  Internet in Los Gatos  We are looking at renting homes in Los Gatos Rinconada gated community and also in Willow Glen.  I need high speed reliable internet for work.  House in Los Gatos gets Xfinity up to 1200 Mbps and the one in WG gets AT & T fiber 1 gig +.  Any experience with either of these areas and Internet plans?  Area/City Specific  Upvote 0 Downvote 7 comments 0 awards Share  Seller wants to cancel contract  u/regressor123 avatar u/regressor123  ADMIN MOD • 1d ago  Options  Report  Seller wants to cancel contract  I\\'m in contract for a SFH that has some issues with plumbing. The seller\\'s accepted the offer with a contingency of him fixing the plumbing issue or putting money in escrow so that I can fix it, according to the rate that I get from contractors. The issue is larger than what the seller thought and costs around 80-150k to fix it (I got three quotes). The seller now doesn\\'t want to fix it himself and doesn\\'t want to pay 100k, offers 10k. He says he\\'ll try to sell it to someone else if I don\\'t agree. But he agrees that it\\'s more work than he thought initially. The contingency is in the contract. I paid the deposit. I want the house and I don\\'t want to pay for fixing the issue.  What are my options?  Buying  Upvote 20 Downvote 132 comments 0 awards Share  Just closed on a duplex that I\\'ll stay in and I want to rent out the other unit. Aside from starting a business account, is there anything else I should do?  u/forbiscuit avatar u/forbiscuit  ADMIN MOD • 23h ago  Options  Report  Just closed on a duplex that I\\'ll stay in and I want to rent out the other unit. Aside from starting a business account, is there anything else I should do?  I tried to find more information within  r/realestateinvesting  and  r/BayAreaRealEstate  , but there\\'s no easy checklist or guideline on how to navigate this.  Currently the duplex is not occupied by any tenant (which my realtor said I\\'m very fortunate that it\\'s the case), and I have to make a lot of purchases - such appliances. I also have to do a fumigation, but not sure how that works out for a duplex (whether that\\'s a business expense or not considering it also benefits my private space).  So far, from what I\\'ve gathered from my research:  Separate out personal vs. rental expense/income  Consider using property management services like Stessa or Zillow to rent and vent tenants  LLC is not important for a single duplex, and an umbrella policy is better  Would appreciate any checklist/guidance on what are things to do.  Renting  Upvote 5 Downvote 3 comments 0 awards Share  Why isn\\'t this selling in Palo Alto?  u/lljc00 avatar u/lljc00  ADMIN MOD • 1d ago  Options  Report  Why isn\\'t this selling in Palo Alto?  https://www.redfin.com/CA/Palo-Alto/421-Kipling-St-94301/home/190866018  Victorian in downtown PA for $3m, sitting for almost 2 months. I get that this is not configured in the standard SFH, the yard is set up commercial, and there is only 1.5 bathrooms, but surely you could spend a little to carve out maybe two additional bathroom out of this.  More generally, I cant seem to find it, but there was another multi-family, pre-WW2 downtown PA listing that seemed to take a while to sell despite it being priced reasonably. We all know the math doesn\\'t math on rental properties in the Bay Area, but is there some sort of softening of the real estate market in PA?  Buying  Upvote 4 Downvote 7 comments 0 awards Share  What should I expect from my (Buyers) agent as a first time buyer  u/londonparis209 avatar u/londonparis209  ADMIN MOD • 1d ago  Options  Report  What should I expect from my (Buyers) agent as a first time buyer  I am a first time buyer and going to start looking into single family homes in bay area (San Jose/San Francisco). I wanted to understand what to expect from buyers agent and how to go about selecting one?  The first 2-3 viewings, my agent organized the viewings and shared the disclosures. but during viewing they...\"\n",
              "        }\n",
              "      }\n",
              "    }\n",
              "  }\n",
              "  create_time {\n",
              "    seconds: 1721036211\n",
              "    nanos: 399209000\n",
              "  }\n",
              "  turn: 6\n",
              "}\n",
              "actions {\n",
              "  message {\n",
              "    role: \"model\"\n",
              "    parts {\n",
              "      text: \"This Reddit page is for real estate discussion in the Bay Area. Recent discussions include topics such as rent increase disputes, hardwood flooring costs, submitting multiple offers, termite treatment regulations, and becoming a real estate agent in the Bay Area. \\n\\n\\n\"\n",
              "    }\n",
              "  }\n",
              "  create_time {\n",
              "    seconds: 1721036211\n",
              "    nanos: 399209000\n",
              "  }\n",
              "  turn: 6\n",
              "}\n",
              "actions {\n",
              "  message {\n",
              "    role: \"user\"\n",
              "    parts {\n",
              "      text: \"Can you tell me more about one topic from this reddit disuccsion?\"\n",
              "    }\n",
              "  }\n",
              "  create_time {\n",
              "    seconds: 1721036224\n",
              "    nanos: 214840000\n",
              "  }\n",
              "  turn: 7\n",
              "}\n",
              "actions {\n",
              "  message {\n",
              "    role: \"model\"\n",
              "    parts {\n",
              "      text: \"One of the recent discussions on r/BayAreaRealEstate is about a landlord attempting to increase rent by 33% because the tenant\\'s mother-in-law is staying with them for two months to help with their premature infant. \\n\\nThe landlord claims the increase is due to higher water usage and liability concerns, wanting to add the mother-in-law to the lease. The tenant argues this is unfair, especially since there\\'s no mention of guest stay limitations in the lease. \\n\\nThe discussion revolves around tenant rights, lease agreements, and the legality of the landlord\\'s actions. Many users are offering advice and sharing their experiences with similar situations. \\n\"\n",
              "    }\n",
              "  }\n",
              "  create_time {\n",
              "    seconds: 1721036224\n",
              "    nanos: 214840000\n",
              "  }\n",
              "  turn: 7\n",
              "}\n",
              "actions {\n",
              "  message {\n",
              "    role: \"user\"\n",
              "    parts {\n",
              "      text: \"Can you retrieve top 1 sales records from property sale records?\"\n",
              "    }\n",
              "  }\n",
              "  create_time {\n",
              "    seconds: 1721036229\n",
              "    nanos: 13410000\n",
              "  }\n",
              "  turn: 8\n",
              "}\n",
              "actions {\n",
              "  tool_use {\n",
              "    function_invocation {\n",
              "      function_name: \"extract_property_sale_records\"\n",
              "    }\n",
              "    input_parameters {\n",
              "      fields {\n",
              "        key: \"records\"\n",
              "        value {\n",
              "          list_value {\n",
              "            values {\n",
              "              struct_value {\n",
              "                fields {\n",
              "                  key: \"total_amount\"\n",
              "                  value {\n",
              "                    number_value: 1000000\n",
              "                  }\n",
              "                }\n",
              "                fields {\n",
              "                  key: \"id\"\n",
              "                  value {\n",
              "                    number_value: 1\n",
              "                  }\n",
              "                }\n",
              "                fields {\n",
              "                  key: \"date\"\n",
              "                  value {\n",
              "                    string_value: \"031023\"\n",
              "                  }\n",
              "                }\n",
              "              }\n",
              "            }\n",
              "            values {\n",
              "              struct_value {\n",
              "                fields {\n",
              "                  key: \"total_amount\"\n",
              "                  value {\n",
              "                    number_value: 1500000\n",
              "                  }\n",
              "                }\n",
              "                fields {\n",
              "                  key: \"id\"\n",
              "                  value {\n",
              "                    number_value: 2\n",
              "                  }\n",
              "                }\n",
              "                fields {\n",
              "                  key: \"date\"\n",
              "                  value {\n",
              "                    string_value: \"031123\"\n",
              "                  }\n",
              "                }\n",
              "              }\n",
              "            }\n",
              "            values {\n",
              "              struct_value {\n",
              "                fields {\n",
              "                  key: \"total_amount\"\n",
              "                  value {\n",
              "                    number_value: 1200000\n",
              "                  }\n",
              "                }\n",
              "                fields {\n",
              "                  key: \"id\"\n",
              "                  value {\n",
              "                    number_value: 3\n",
              "                  }\n",
              "                }\n",
              "                fields {\n",
              "                  key: \"date\"\n",
              "                  value {\n",
              "                    string_value: \"031223\"\n",
              "                  }\n",
              "                }\n",
              "              }\n",
              "            }\n",
              "          }\n",
              "        }\n",
              "      }\n",
              "    }\n",
              "    output_parameters {\n",
              "      fields {\n",
              "        key: \"records_response\"\n",
              "        value {\n",
              "          string_value: \"\\nAddress: 5678 Divisadero St, San Francisco, CA 94117\\nSale Date: May 10, 2024\\nSale Price: $10,525,000\\nProperty Type: 2-unit building\\nBedrooms: 10 (total)\\nBathrooms: 8 (total)\\nLot Size: 18,000 sq ft\\n\"\n",
              "        }\n",
              "      }\n",
              "    }\n",
              "  }\n",
              "  create_time {\n",
              "    seconds: 1721036229\n",
              "    nanos: 13410000\n",
              "  }\n",
              "  turn: 8\n",
              "}\n",
              "actions {\n",
              "  message {\n",
              "    role: \"model\"\n",
              "    parts {\n",
              "      text: \"Address: 5678 Divisadero St, San Francisco, CA 94117\\nSale Date: May 10, 2024\\nSale Price: $10,525,000\\nProperty Type: 2-unit building\\nBedrooms: 10 (total)\\nBathrooms: 8 (total)\\nLot Size: 18,000 sq ft\\n\"\n",
              "    }\n",
              "  }\n",
              "  create_time {\n",
              "    seconds: 1721036296\n",
              "    nanos: 998289000\n",
              "  }\n",
              "  turn: 8\n",
              "}\n",
              "create_time {\n",
              "  seconds: 1721036041\n",
              "  nanos: 301260000\n",
              "}\n",
              "update_time {\n",
              "  seconds: 1721036296\n",
              "  nanos: 998289000\n",
              "}"
            ]
          },
          "metadata": {},
          "execution_count": 42
        }
      ]
    },
    {
      "cell_type": "markdown",
      "source": [
        "#Cleanup\n",
        "\n",
        "Clean up resources created in this notebook.\n",
        "\n"
      ],
      "metadata": {
        "id": "fjCPA4Nvysu5"
      }
    },
    {
      "cell_type": "markdown",
      "source": [
        "When your print out session, you will see - name: \"xxxxx\". That \"xxxxx\" is the session id. For example, for me, session id is \"projects/742157128610/locations/us-central1/apps/5703597821832200192/sessions/8374492435362873344\""
      ],
      "metadata": {
        "id": "fzAF1gbEFAoL"
      }
    },
    {
      "cell_type": "code",
      "source": [
        "session"
      ],
      "metadata": {
        "id": "Ef0TDvCwzWVu"
      },
      "execution_count": null,
      "outputs": []
    },
    {
      "cell_type": "markdown",
      "source": [
        "To delete Session, uncomment and run:"
      ],
      "metadata": {
        "id": "OnsquSUFFgwz"
      }
    },
    {
      "cell_type": "code",
      "source": [
        "#app.delete_session('You session id') #Follow the instruction above to find your session id."
      ],
      "metadata": {
        "id": "9AHX-qgAOqK4",
        "collapsed": true
      },
      "execution_count": null,
      "outputs": []
    },
    {
      "cell_type": "markdown",
      "source": [
        "To delete agent, uncomment and run. Using either the display name or the fully qualified resource name, you can delete a specific agent under the App."
      ],
      "metadata": {
        "id": "ITlBn56Eyju5"
      }
    },
    {
      "cell_type": "code",
      "source": [
        "#app.delete_agent('Cymbal Real Estate Research Agent')"
      ],
      "metadata": {
        "id": "SQihs5HIyju5"
      },
      "execution_count": null,
      "outputs": []
    },
    {
      "cell_type": "markdown",
      "source": [
        "To delete your app, uncomment and run:\n"
      ],
      "metadata": {
        "id": "0ickTrbv3NU0"
      }
    },
    {
      "cell_type": "code",
      "source": [
        "#app.delete(app.app_name)"
      ],
      "metadata": {
        "id": "cX8O3JuvkFZM"
      },
      "execution_count": null,
      "outputs": []
    },
    {
      "cell_type": "markdown",
      "source": [
        "To delete both extensions you used in the notebook, uncomment and run:"
      ],
      "metadata": {
        "id": "f9cklkMRd9Ce"
      }
    },
    {
      "cell_type": "code",
      "source": [
        "# webpage_browser_extension.delete()\n",
        "# search_extension.delete()"
      ],
      "metadata": {
        "id": "FTy04HZEd8GO"
      },
      "execution_count": null,
      "outputs": []
    },
    {
      "cell_type": "markdown",
      "source": [
        "To delete the GCS bucket, uncomment and run:"
      ],
      "metadata": {
        "id": "JsY1q1VOeHVm"
      }
    },
    {
      "cell_type": "code",
      "source": [
        "# Delete contents of the bucket and the bucket\n",
        "#!gsutil -m rm -r gs://$GCS_BUCKET"
      ],
      "metadata": {
        "id": "a5j3rNxMeGAr"
      },
      "execution_count": null,
      "outputs": []
    },
    {
      "cell_type": "markdown",
      "source": [
        "Don't forget to delete any other created assets if you don't need them, e.g. the Vertex AI data store and search app (you need to delete them from the Google Cloud Console).\n",
        "\n",
        "Your Vertex AI Search app: https://console.cloud.google.com/gen-app-builder/engines\n",
        "Your Vertex AI Search data store: https://console.cloud.google.com/gen-app-builder/data-stores"
      ],
      "metadata": {
        "id": "dmhkt9R6eVNY"
      }
    }
  ]
}