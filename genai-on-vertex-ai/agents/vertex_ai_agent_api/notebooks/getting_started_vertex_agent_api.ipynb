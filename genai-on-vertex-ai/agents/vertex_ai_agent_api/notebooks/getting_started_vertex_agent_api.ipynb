{
  "cells": [
    {
      "cell_type": "code",
      "execution_count": null,
      "metadata": {
        "id": "Js_h8jjWM1mu"
      },
      "outputs": [],
      "source": [
        "# Copyright 2024 Google LLC\n",
        "#\n",
        "# Licensed under the Apache License, Version 2.0 (the \"License\");\n",
        "# you may not use this file except in compliance with the License.\n",
        "# You may obtain a copy of the License at\n",
        "#\n",
        "#     https://www.apache.org/licenses/LICENSE-2.0\n",
        "#\n",
        "# Unless required by applicable law or agreed to in writing, software\n",
        "# distributed under the License is distributed on an \"AS IS\" BASIS,\n",
        "# WITHOUT WARRANTIES OR CONDITIONS OF ANY KIND, either express or implied.\n",
        "# See the License for the specific language governing permissions and\n",
        "# limitations under the License."
      ]
    },
    {
      "cell_type": "markdown",
      "metadata": {
        "id": "ZJ5caKL2Ff2B"
      },
      "source": [
        "# Getting Started with the Vertex AI Agent API\n"
      ]
    },
    {
      "cell_type": "markdown",
      "metadata": {
        "id": "5Qj-TzSNGUii"
      },
      "source": [
        "<table align=\"left\">\n",
        "  <td style=\"text-align: center\">\n",
        "    <a href=\"https://colab.research.google.com/github/GoogleCloudPlatform/applied-ai-engineering-samples/blob/agents-api-notebooks/genai-on-vertex-ai/agents/vertex_ai_agent_api/notebooks/getting_started_vertex_agent_api.ipynb\">\n",
        "      <img width=\"32px\" src=\"https://www.gstatic.com/pantheon/images/bigquery/welcome_page/colab-logo.svg\" alt=\"Google Colaboratory logo\"><br> Open in Colab\n",
        "    </a>\n",
        "  </td>\n",
        "  <td style=\"text-align: center\">\n",
        "    <a href=\"https://console.cloud.google.com/vertex-ai/colab/import/https:%2F%2Fraw.githubusercontent.com%2FGoogleCloudPlatform%2Fapplied-ai-engineering-samples%2Fagents-api-notebooks%2Fgenai-on-vertex-ai%2Fagents%2Fvertex_ai_agent_api%2Fnotebooks%2Fgetting_started_vertex_agent_api.ipynb\">\n",
        "      <img width=\"32px\" src=\"https://lh3.googleusercontent.com/JmcxdQi-qOpctIvWKgPtrzZdJJK-J3sWE1RsfjZNwshCFgE_9fULcNpuXYTilIR2hjwN\" alt=\"Google Cloud Colab Enterprise logo\"><br> Open in Colab Enterprise\n",
        "    </a>\n",
        "  </td>\n",
        "  <td style=\"text-align: center\">\n",
        "    <a href=\"https://console.cloud.google.com/vertex-ai/workbench/deploy-notebook?download_url=https://raw.githubusercontent.com/GoogleCloudPlatform/applied-ai-engineering-samples/agents-api-notebooks/genai-on-vertex-ai/agents/vertex_ai_agent_api/notebooks/getting_started_vertex_agent_api.ipynb\">\n",
        "      <img src=\"https://www.gstatic.com/images/branding/gcpiconscolors/vertexai/v1/32px.svg\" alt=\"Vertex AI logo\"><br> Open in Vertex AI Workbench\n",
        "    </a>\n",
        "  </td>\n",
        "  <td style=\"text-align: center\">\n",
        "    <a href=\"https://github.com/GoogleCloudPlatform/applied-ai-engineering-samples/blob/agents-api-notebooks/genai-on-vertex-ai/agents/vertex_ai_agent_api/notebooks/getting_started_vertex_agent_api.ipynb\">\n",
        "      <img width=\"32px\" src=\"https://upload.wikimedia.org/wikipedia/commons/9/91/Octicons-mark-github.svg\" alt=\"GitHub logo\"><br> View on GitHub\n",
        "    </a>\n",
        "  </td>\n",
        "</table>"
      ]
    },
    {
      "cell_type": "markdown",
      "metadata": {
        "id": "FlkJDD0nGUij"
      },
      "source": [
        "# Overview\n",
        "\n",
        "This notebooks show how to use the [Vertex AI Agent API](https://cloud.google.com/vertex-ai/generative-ai/docs/agent-api/overview).\n",
        "\n",
        "The Vertex AI Agent API is a low-code way to build interactive AI agents.\n",
        "\n",
        "In this notebook you will learn how to do the following:\n",
        "- Create an agent.\n",
        "- Interact with an agent.\n",
        "- Add an [extension](https://cloud.google.com/vertex-ai/generative-ai/docs/extensions/overview) tool to an agent.\n",
        "- Add a [function calling](https://cloud.google.com/vertex-ai/generative-ai/docs/multimodal/function-calling) tool to an agent.\n",
        "- Handle an agent's request to call a function.\n",
        "\n"
      ]
    },
    {
      "cell_type": "markdown",
      "metadata": {
        "id": "KUXzlvfpn513"
      },
      "source": [
        " ## Vertex AI Agent API\n",
        "\n",
        " The [Vertex AI Agent API](https://cloud.google.com/vertex-ai/generative-ai/docs/agent-api/overview) is an API for creating and managing generative AI systems called \"agents\" that can  reason, plan, and act to perform specific tasks.\n",
        "\n",
        "Vertex AI Agent API offers the following benefits:\n",
        "\n",
        "* **Faster time to market**: Agent API lets you get your AI agents up and running quickly with minimal effort. Agent development requires just a few lines of code.\n",
        "* **Flexibility and customization**: Agent API provides you with the flexibility to tune and customize your agents.\n",
        "* **Managed orchestration**: Agent API handles the complex orchestration of agent actions and state management, ensuring optimal performance and reliability.\n",
        "* **Google-backed reliability**: Agent API provides you with the benefits of Google's expertise in building scalable, reliable AI systems.\n",
        "* **Scalable platform advantages**: Agent API provides you with the benefits of Google Cloud's infrastructure to scale in a secure and responsible way.\n",
        "* **Seamless integration**: Agent API leverages the product portfolio available through integrations with Vertex AI, Google Cloud properties, and cross-Google products."
      ]
    },
    {
      "cell_type": "markdown",
      "metadata": {
        "id": "uNriTZl70OdV"
      },
      "source": [
        "## Using This Notebook\n",
        "\n",
        "Colab is recommended for running this notebook, but it can run in any iPython environment where you can connect to Google Cloud, install pip packages, etc.\n",
        "\n",
        "If you're running outside of Colab, depending on your environment you may need to install pip packages that are included in the Colab environment by default but are not part of the Python Standard Library--try pipping the library name of any imports that fail.\n",
        "\n",
        "This tutorial uses the following Google Cloud services and resources:\n",
        "\n",
        "* [Vertex AI Agent API](https://cloud.google.com/vertex-ai/generative-ai/docs/agent-api/overview)\n",
        "\n",
        "This notebook has been tested in the following environment:\n",
        "\n",
        "* Python version = 3.10.12\n",
        "* [google-cloud-aiplatform](https://pypi.org/project/google-cloud-aiplatform/) version = 1.70"
      ]
    },
    {
      "cell_type": "markdown",
      "metadata": {
        "id": "Ar0aDcql1dxl"
      },
      "source": [
        "## Useful Tips\n",
        "\n",
        "1. This notebook uses Generative AI cababilities. Re-running a cell that uses Generative AI capabilities may produce similar but not identical results.\n",
        "2. Because of #1, it is possible that an output produces errors. If that happens re-run the cell that produced the error. The re-run will likely be bug free.\n",
        "3. The use of Generative AI capabilities is subject to service quotas. Running the notebook using \"Run All\" may exceed your queries per minute (QPM) limitations. Run the notebook manually and if you get a quota error pause for up to 1 minute before retrying that cell. The Vertex AI Agent API defaults to Gemini on the backend and is subject to the Gemini quotas, <a href=\"https://console.cloud.google.com/iam-admin/quotas?pageState=(%22allQuotasTable%22:(%22f%22:%22%255B%257B_22k_22_3A_22_22_2C_22t_22_3A10_2C_22v_22_3A_22_5C_22base_model_5C_22_22%257D_2C%257B_22k_22_3A_22_22_2C_22t_22_3A10_2C_22v_22_3A_22_5C_22gemini_5C_22_22%257D%255D%22%29%29&e=13802955&mods=logs_tg_staging\">view your Gemini quotas here</a>.\n"
      ]
    },
    {
      "cell_type": "markdown",
      "metadata": {
        "id": "PO_tnShTGUik"
      },
      "source": [
        "# Getting Started\n",
        "\n",
        "The following steps are necessary to run this notebook, no matter what notebook environment you're using.\n",
        "\n",
        "If you're entirely new to Google Cloud, [get started here](https://cloud.google.com/docs/get-started)."
      ]
    },
    {
      "cell_type": "markdown",
      "metadata": {
        "id": "XLf5oGqHn_DH"
      },
      "source": [
        "## Google Cloud Project Setup\n",
        "\n",
        "1. [Select or create a Google Cloud project](https://console.cloud.google.com/cloud-resource-manager). When you first create an account, you get a $300 free credit towards your compute/storage costs.\n",
        "1. [Make sure that billing is enabled for your project](https://cloud.google.com/billing/docs/how-to/modify-project).\n",
        "1. [Enable the Vertex AI API](https://console.cloud.google.com/flows/enableapi?apiid=aiplatform.googleapis.com)."
      ]
    },
    {
      "cell_type": "markdown",
      "metadata": {
        "id": "PTuXDJ2qn-8W"
      },
      "source": [
        "## Google Cloud Permissions\n",
        "Make sure you have been [granted the following roles](https://cloud.google.com/iam/docs/granting-changing-revoking-access) for the GCP project you'll access from this notebook:\n",
        "* [`roles/aiplatform.user`](https://cloud.google.com/vertex-ai/docs/general/access-control#aiplatform.user)"
      ]
    },
    {
      "cell_type": "markdown",
      "metadata": {
        "id": "YE5wS2uzoDsk"
      },
      "source": [
        "## Outside of Colab: Install the Google Cloud CLI\n",
        "\n",
        "If you are running this notebook in your own environment, you need to install the [Cloud SDK](https://cloud.google.com/sdk) (aka `gcloud`)."
      ]
    },
    {
      "cell_type": "markdown",
      "metadata": {
        "id": "7plalcaLGUik"
      },
      "source": [
        "## Authenticate\n",
        "\n",
        "If you're using Colab, run the code in the next cell. Follow the popups and authenticate with an account that has access to your Google Cloud [project](https://cloud.google.com/resource-manager/docs/creating-managing-projects#identifying_projects).\n",
        "\n",
        "If you're running this notebook somewhere besides Colab, make sure your environment has the right Google Cloud access. If that's a new concept to you, consider looking into [Application Default Credentials for your local environment](https://cloud.google.com/docs/authentication/provide-credentials-adc#local-dev) and [initializing the Google Cloud CLI](https://cloud.google.com/docs/authentication/gcloud). In many cases, running `gcloud auth application-default login` and/or `gcloud auth login` in a shell on the machine running the notebook kernel is sufficient.\n",
        "\n",
        "More authentication options are discussed [here](https://cloud.google.com/docs/authentication)."
      ]
    },
    {
      "cell_type": "code",
      "execution_count": null,
      "metadata": {
        "id": "THYfMKWMGUil"
      },
      "outputs": [],
      "source": [
        "# Colab authentication.\n",
        "import sys\n",
        "\n",
        "if \"google.colab\" in sys.modules:\n",
        "    from google.colab import auth\n",
        "    auth.authenticate_user()\n",
        "    print(\"Authenticated\")"
      ]
    },
    {
      "cell_type": "markdown",
      "metadata": {
        "id": "JdU-qMmbpR8r"
      },
      "source": [
        "## Install the Google Cloud Vertex AI Python SDK\n",
        "\n",
        "Install the Google Cloud Vertex AI Python SDK, and if you already have the Google Cloud Vertex AI Python SDK installed, upgrade to the latest version."
      ]
    },
    {
      "cell_type": "code",
      "execution_count": null,
      "metadata": {
        "id": "VoKp1ul32YkS"
      },
      "outputs": [],
      "source": [
        "from google.colab import auth\n",
        "auth.authenticate_user()\n",
        "# Outside of colab, gcloud auth login"
      ]
    },
    {
      "cell_type": "code",
      "execution_count": null,
      "metadata": {
        "id": "NqdWVG9Wo3qL"
      },
      "outputs": [],
      "source": [
        "# Install gcloud\n",
        "!pip install --quiet google-cloud\n",
        "\n",
        "WHL_FILEPATH = \"gs://vertex_sdk_private_releases/agents_v2/google_cloud_aiplatform-1.71.dev20241017+vertex.agents.v2-py2.py3-none-any.whl\"\n",
        "!gsutil cp {WHL_FILEPATH} .\n",
        "\n",
        "# Install the private SDK\n",
        "!pip install --quiet {WHL_FILEPATH.split(\"/\")[-1]} \"numpy<2.0.0\" --force-reinstall"
      ]
    },
    {
      "cell_type": "markdown",
      "metadata": {
        "id": "R5Xep4W9lq-Z"
      },
      "source": [
        "### Restart Runtime\n",
        "\n",
        "You may need to restart your notebook runtime to use the Vertex AI SDK. You can do this by running the cell below, which restarts the current kernel.\n",
        "\n",
        "You may see the restart reported as a crash, but it is working as-intended -- you are merely restarting the runtime.\n",
        "\n",
        "The restart might take a minute or longer. After its restarted, continue to the next step."
      ]
    },
    {
      "cell_type": "code",
      "execution_count": null,
      "metadata": {
        "id": "XRvKdaPDTznN"
      },
      "outputs": [],
      "source": [
        "import IPython\n",
        "\n",
        "app = IPython.Application.instance()\n",
        "app.kernel.do_shutdown(True)"
      ]
    },
    {
      "cell_type": "markdown",
      "metadata": {
        "id": "SbmM4z7FOBpM"
      },
      "source": [
        "<div class=\"alert alert-block alert-warning\">\n",
        "<b>⚠️ The kernel is going to restart. Please wait until it is finished before continuing to the next step. ⚠️</b>\n",
        "</div>\n"
      ]
    },
    {
      "cell_type": "markdown",
      "metadata": {
        "id": "mCG23ih_sJr9"
      },
      "source": [
        "If you're using Colab, as long the notebook runtime isn't deleted (even if it restarts) you don't need to re-run the previous cell.\n",
        "\n",
        "If you're running this notebook in your own environment you shouldn't need to run the above pip cell again unless you delete your IPython kernel."
      ]
    },
    {
      "cell_type": "markdown",
      "metadata": {
        "id": "init_aip:mbsdk,all"
      },
      "source": [
        "# Initialize the Google Cloud Vertex AI Python SDK\n",
        "\n",
        "Start here if your Notebook kernel restarts (but isn't deleted), though if it's been a few hours you may need to run the Authentication steps above again.\n",
        "\n",
        "To initialize the SDK, you need to set your Google Cloud project ID and region.\n",
        "\n",
        "If you don't know your project  ID, try the [Google Cloud CLI](https://cloud.google.com/sdk) commands [`gcloud config list`](https://cloud.google.com/sdk/gcloud/reference/config/list) or [`gcloud projects list`](https://cloud.google.com/sdk/gcloud/reference/projects/list). See the support page [Locate the project ID](https://support.google.com/googleapi/answer/7014113) for more information.\n"
      ]
    },
    {
      "cell_type": "markdown",
      "metadata": {
        "id": "WReHDGG5g0XY"
      },
      "source": [
        "### Set Your Project ID\n",
        "\n"
      ]
    },
    {
      "cell_type": "code",
      "execution_count": null,
      "metadata": {
        "id": "oM1iC_MfAts1"
      },
      "outputs": [],
      "source": [
        "PROJECT_ID = \"YOUR_PROJECT_ID_HERE\"  # @param {type:\"string\"}\n",
        "\n",
        "# Set the project for CLI commands.\n",
        "# !gcloud config set project {PROJECT_ID}"
      ]
    },
    {
      "cell_type": "markdown",
      "metadata": {
        "id": "region"
      },
      "source": [
        "### Set the Region\n",
        "\n",
        "You can also change the `REGION` variable used by Vertex AI. Learn more about [Vertex AI regions](https://cloud.google.com/vertex-ai/docs/general/locations)."
      ]
    },
    {
      "cell_type": "code",
      "execution_count": null,
      "metadata": {
        "id": "Cg9uNa6rlyWx"
      },
      "outputs": [],
      "source": [
        "REGION = \"us-central1\"  # @param {type: \"string\"}"
      ]
    },
    {
      "cell_type": "markdown",
      "metadata": {
        "id": "6-NbHLWtu-iW"
      },
      "source": [
        "### Import and Initialize the Vertex AI Python SDK"
      ]
    },
    {
      "cell_type": "code",
      "execution_count": null,
      "metadata": {
        "id": "SnLyU9No5g0t"
      },
      "outputs": [],
      "source": [
        "import vertexai\n",
        "from google.cloud.aiplatform.private_preview.vertex_agents_v2 import agents,sessions\n",
        "from vertexai.generative_models import FunctionDeclaration, Part\n",
        "from vertexai.preview.extensions import Extension\n",
        "\n",
        "vertexai.init(project=PROJECT_ID, location=REGION)"
      ]
    },
    {
      "cell_type": "markdown",
      "metadata": {
        "id": "BhsMXHMqrFSd"
      },
      "source": [
        "# Step 1: Create an Agent\n",
        "\n",
        "An AI agent reasons, plans, and takes actions. The agent takes actions via access to **tools**, deciding how and when to invoke a tool. The agent also manages orchestration, creating a plan for answering a user query and adapting to responses that aren't quite correct.\n",
        "\n",
        "Agent **tools** are either [Vertex AI Extensions](https://cloud.google.com/vertex-ai/generative-ai/docs/extensions/overview) or functions (set up using [function calling](https://cloud.google.com/vertex-ai/generative-ai/docs/multimodal/function-calling)).\n",
        "\n",
        "Create a simple agent. An agent requires two things: a display name and a set of instructions. The instructions should be detailed, making it clear exactly how the agent should behave.\n",
        "\n"
      ]
    },
    {
      "cell_type": "code",
      "execution_count": null,
      "metadata": {
        "id": "YI8rLzj4FvB2"
      },
      "outputs": [],
      "source": [
        "DISPLAY_NAME = \"Dice Machine\"\n",
        "INSTRUCTIONS = \"\"\"\n",
        "You roll dice and answer questions about the outcome of the dice roll.\n",
        "You can roll dice of different sizes.\n",
        "The only things you do are roll dice for the user and discuss the outcomes.\n",
        "It is ok to discuss previous dice roles, and comment on the dice rolls.\n",
        "Do not do anything else.\n",
        "\"\"\"\n",
        "\n",
        "dice_agent = agents.create(\n",
        "    display_name=DISPLAY_NAME,\n",
        "    instruction=INSTRUCTIONS,\n",
        "    model=\"gemini-1.5-pro\")"
      ]
    },
    {
      "cell_type": "markdown",
      "metadata": {
        "id": "wuWv51F6Gybz"
      },
      "source": [
        "## Interact with an Agent\n",
        "\n",
        "To interact with the agent, create a session and then use `run` to send your inputs."
      ]
    },
    {
      "cell_type": "code",
      "execution_count": null,
      "metadata": {
        "id": "ehc5kUq3F3G5"
      },
      "outputs": [],
      "source": [
        "dice_session = sessions.create(display_name=\"dice-session\")"
      ]
    },
    {
      "cell_type": "markdown",
      "metadata": {
        "id": "MK9oMoVdWLvT"
      },
      "source": [
        "Keep using `.create_run` to have a conversation with the agent."
      ]
    },
    {
      "cell_type": "code",
      "execution_count": null,
      "metadata": {
        "id": "1ysu0ybwWLec"
      },
      "outputs": [],
      "source": [
        "run = dice_session.create_run(agent=dice_agent, content=\"Roll an 8 sided die.\")\n",
        "run"
      ]
    },
    {
      "cell_type": "code",
      "execution_count": null,
      "metadata": {
        "id": "JZQTPAzvXXbZ"
      },
      "outputs": [],
      "source": [
        "run = dice_session.create_run(agent=dice_agent, content=\"Roll an 6 sided die.\")\n",
        "run"
      ]
    },
    {
      "cell_type": "code",
      "execution_count": null,
      "metadata": {
        "id": "8Hw08KwkXblp"
      },
      "outputs": [],
      "source": [
        "run = dice_session.create_run(agent=dice_agent, content=\"Add up all the dice I've rolled.\")\n",
        "run"
      ]
    },
    {
      "cell_type": "code",
      "execution_count": null,
      "metadata": {
        "id": "hXwz0KV8YB7Y"
      },
      "outputs": [],
      "source": [
        "run = dice_session.create_run(agent=dice_agent, content=\"Do you think my rolls are lucky?\")\n",
        "run"
      ]
    },
    {
      "cell_type": "code",
      "execution_count": null,
      "metadata": {
        "id": "5nH1xnK2YHsv"
      },
      "outputs": [],
      "source": [
        "run = dice_session.create_run(agent=dice_agent, content=\"Are any of my dice prime numbers?\")\n",
        "run"
      ]
    },
    {
      "cell_type": "markdown",
      "metadata": {
        "id": "m_Il74ykT0-b"
      },
      "source": [
        "Everything passed to the session using `.create_run` along with agent's responses responses is remembered."
      ]
    },
    {
      "cell_type": "code",
      "execution_count": null,
      "metadata": {
        "id": "s1WPHsrBT4R1"
      },
      "outputs": [],
      "source": [
        "dice_session.list_runs()"
      ]
    },
    {
      "cell_type": "markdown",
      "metadata": {
        "id": "YLASw2FLYBvR"
      },
      "source": [
        "The agent works, but it's not ideal to have the agent generating the dice rolls on its own (it may not be random), and it's also not a best practice to rely on an LLM to do math.\n",
        "\n",
        "To fix these problems, give the agent a dice rolling tool that rolls random numbers along with a code execution tool to do math."
      ]
    },
    {
      "cell_type": "markdown",
      "metadata": {
        "id": "xljD7DMuXXFN"
      },
      "source": [
        "## Create an Extension\n",
        "\n",
        "The Vertex AI Agent API supports extensions by Google and custom extensions.\n",
        "\n",
        " You will use the Google-provided [Code Interpreter extension](https://cloud.google.com/vertex-ai/generative-ai/docs/extensions/code-interpreter) from Google as a tool for the agent to do math.\n",
        "\n",
        " To create an extension by Google for use with your agent, use the `Extension.from_hub()` method.\n"
      ]
    },
    {
      "cell_type": "code",
      "execution_count": null,
      "metadata": {
        "id": "u3X3XwDOaCv9"
      },
      "outputs": [],
      "source": [
        "code_interpreter_extension = Extension.from_hub(\"code_interpreter\")"
      ]
    },
    {
      "cell_type": "markdown",
      "metadata": {
        "id": "wxLBe8mzWcVR"
      },
      "source": [
        "To create a [custom extension](https://cloud.devsite.corp.google.com/vertex-ai/generative-ai/docs/extensions/create-extension#define-import-request) for use with your agent, use [Extension.create](https://cloud.google.com/vertex-ai/generative-ai/docs/model-reference/extension#python).\n"
      ]
    },
    {
      "cell_type": "markdown",
      "metadata": {
        "id": "zP7WDwaHgXYg"
      },
      "source": [
        "## Declare a Function for Function Calling\n",
        "\n",
        "Use [function calling](https://cloud.google.com/vertex-ai/generative-ai/docs/multimodal/function-calling) to give your agent a dice rolling tool.\n",
        "\n",
        "First, create a method that returns a random integer between 1 and the number of sides of the die:\n",
        "\n"
      ]
    },
    {
      "cell_type": "code",
      "execution_count": null,
      "metadata": {
        "id": "doEO4Q_WjMzU"
      },
      "outputs": [],
      "source": [
        "import random\n",
        "def roll_die(sides):\n",
        "  \"\"\"Roll a die of any number of sides.\n",
        "\n",
        "  Args:\n",
        "    sides: An integer of the number of sides of the die.\n",
        "\n",
        "  Returns:\n",
        "    An integer of the result of rolling the die.\n",
        "  \"\"\"\n",
        "  return random.randint(1, sides)\n",
        "\n",
        "roll_die(4)"
      ]
    },
    {
      "cell_type": "markdown",
      "metadata": {
        "id": "UnOqgru7l0R7"
      },
      "source": [
        "Next, create a [`FunctionDeclaration`](https://cloud.devsite.corp.google.com/vertex-ai/generative-ai/docs/multimodal/function-calling#how-works) for `roll_die`.\n",
        "\n",
        "When creating the `FunctionDeclaration`, it's important to provide a good name and description, along with well-named parameters and clear descriptions of the parameters. The model behind the agent will use this content to reason about how to use this function.\n",
        "\n",
        "If the declaration is not clear, the model will not be able to use the function correctly."
      ]
    },
    {
      "cell_type": "code",
      "execution_count": null,
      "metadata": {
        "id": "7YvKmCcBkiTB"
      },
      "outputs": [],
      "source": [
        "die_function_declaration = FunctionDeclaration(\n",
        "    name=\"roll_die\",\n",
        "    description=\"Get the result from rolling a die of any number of sides.\",\n",
        "    parameters={\n",
        "        \"type\": \"OBJECT\",\n",
        "        \"properties\": {\n",
        "            \"sides\" : {\n",
        "                \"type\": \"INTEGER\",\n",
        "                \"description\": \"The number of sides of the die.\"\n",
        "            },\n",
        "        },\n",
        "        \"required\": [\n",
        "            \"sides\"\n",
        "        ]\n",
        "    },\n",
        ")"
      ]
    },
    {
      "cell_type": "markdown",
      "metadata": {
        "id": "GZZ6pNO1oHPD"
      },
      "source": [
        "## Create an Agent to Add Tools\n",
        "\n",
        "Before the agent can use the extension and function, you need to provide the agent instructions and specify the function and extension.\n",
        "\n",
        "It's important when giving the agent instructions that you **describe when to use a function/extension and mention the function/extension by name**.\n",
        "\n",
        "If you reference an extension or function in the instructions, you must include an extension/function with the same display name in the extensions/functions lists."
      ]
    },
    {
      "cell_type": "code",
      "execution_count": null,
      "metadata": {
        "id": "6fySedBhCn6J"
      },
      "outputs": [],
      "source": [
        "INSTRUCTIONS = \"\"\"\n",
        "You roll dice and answer questions about the outcome of the dice rolls.\n",
        "You can roll dice of different sizes.\n",
        "The only things you do are roll dice for the user and discuss the outcomes.\n",
        "It is ok to discuss previous dice roles, and comment on the dice rolls.\n",
        "When rolling a die, call die_function_declaration.\n",
        "You can only roll one die at a time.\n",
        "When doing math, use code_interpreter_extension and formulate a natural language response for the user that's more than just the number.\n",
        "\"\"\"\n",
        "\n",
        "dice_agent_update = agents.create(\n",
        "    display_name=\"Multiple tools agent for die\",\n",
        "    instruction=INSTRUCTIONS,\n",
        "    model=\"gemini-1.5-pro\",\n",
        "    generation_config={\"temperature\": 0.7,\"top_p\":0.95},\n",
        "    tools=[code_interpreter_extension,die_function_declaration])\n",
        "\n"
      ]
    },
    {
      "cell_type": "markdown",
      "metadata": {
        "id": "6H7rIS9dmaZf"
      },
      "source": [
        "Now take a look at your agent to see everything you've added:"
      ]
    },
    {
      "cell_type": "markdown",
      "metadata": {
        "id": "2VtRwqvN5ZC6"
      },
      "source": [
        "# Step 3: Handle Function Calls\n",
        "\n",
        "Now that your agent has tools, try to get your agent to use a tool. Notice that the response looks different than it did when you were chatting with your agent earlier."
      ]
    },
    {
      "cell_type": "code",
      "execution_count": null,
      "metadata": {
        "id": "drMsOeFdqrjT"
      },
      "outputs": [],
      "source": [
        "run_session_response = dice_session.create_run(agent=dice_agent_update, content=\"Roll a 10 sided die.\")\n",
        "run_session_response\n",
        "print(run_session_response.steps)"
      ]
    },
    {
      "cell_type": "code",
      "execution_count": null,
      "metadata": {
        "id": "kJGZjbE6wzXD"
      },
      "outputs": [],
      "source": [
        "for content_part in run_session_response.steps:\n",
        "  text = content_part.content.parts[0].text\n",
        "  print(f\"{content_part.content.role}: {text}\")"
      ]
    },
    {
      "cell_type": "code",
      "execution_count": null,
      "metadata": {
        "id": "5w2w9OnI82vo"
      },
      "outputs": [],
      "source": [
        "print(text)"
      ]
    },
    {
      "cell_type": "markdown",
      "metadata": {
        "id": "Ticlj6xmxuap"
      },
      "source": [
        "To help automate making the function call for the model, this code snippet inspects the response and makes the function call if necessary before returning the response to the user."
      ]
    },
    {
      "cell_type": "code",
      "execution_count": null,
      "metadata": {
        "id": "rVKqHG_cx3IZ"
      },
      "outputs": [],
      "source": [
        "def agent_with_dice(input_text):\n",
        "  response = dice_session.create_run(agent=dice_agent_update,content=input_text)\n",
        "  response\n",
        "  for content_part in response.steps:\n",
        "   text = content_part.content.parts[0].text\n",
        "  return text"
      ]
    },
    {
      "cell_type": "markdown",
      "metadata": {
        "id": "4tZ_9AaW88Rh"
      },
      "source": [
        "The agent then takes the result of the function call that you provided and finishes the conversational turn. We create a new session to test this out"
      ]
    },
    {
      "cell_type": "code",
      "execution_count": null,
      "metadata": {
        "id": "gBePxOvtOxh2"
      },
      "outputs": [],
      "source": [
        "print(agent_with_dice(\"Roll a 6 sided die.\"))"
      ]
    },
    {
      "cell_type": "code",
      "execution_count": null,
      "metadata": {
        "id": "TGg0oqQySZjt"
      },
      "outputs": [],
      "source": [
        "print(agent_with_dice(\"Do you think that's a good roll?\"))"
      ]
    },
    {
      "cell_type": "code",
      "execution_count": null,
      "metadata": {
        "id": "MQmfgAYBUHO4"
      },
      "outputs": [],
      "source": [
        "print(agent_with_dice(\"Roll another 6 sided die.\"))"
      ]
    },
    {
      "cell_type": "code",
      "execution_count": null,
      "metadata": {
        "id": "7hl8HubfUKpZ"
      },
      "outputs": [],
      "source": [
        "print(agent_with_dice(\"Roll another 6 sided die and tell me which of my rolls was prime.\"))"
      ]
    },
    {
      "cell_type": "code",
      "execution_count": null,
      "metadata": {
        "id": "ggaGr48S9I2D"
      },
      "outputs": [],
      "source": [
        "print(agent_with_dice(\"What's the sum of my rolls divided by 2?\"))"
      ]
    },
    {
      "cell_type": "markdown",
      "metadata": {
        "id": "jBl-OeT7n3HN"
      },
      "source": [
        "You may have noticed that the agent does math without requiring you to manually interact with the extension, vs. function calling where you have to call the function and then provide the result to the agent.\n",
        "\n",
        "This is an important difference between these two approaches--with an extension, everything is managed by the extension."
      ]
    },
    {
      "cell_type": "markdown",
      "metadata": {
        "id": "oTD9Vof_ViPx"
      },
      "source": [
        "# Step 4: Learn More\n",
        "\n",
        "You can learn more about the Vertex AI Agent API [in the docs](https://cloud.google.com/vertex-ai/generative-ai/docs/agent-api/overview), including management features (list, delete, update, etc.) for apps, agents, and sessions along with more information about using functions and extensions. What amazing thing will you build??"
      ]
    },
    {
      "cell_type": "markdown",
      "metadata": {
        "id": "figw2zZ7MmO4"
      },
      "source": [
        "# Cleaning Up\n",
        "In this tutorial we showed basic usage of the Vertex AI Agent API, including creating an app and agent and adding tools to the agent.\n"
      ]
    },
    {
      "cell_type": "markdown",
      "metadata": {
        "id": "iaaHgGIYbK0L"
      },
      "source": [
        "You  created an Code Interpter extension in this notebook, if you want to delete it uncomment and run:"
      ]
    },
    {
      "cell_type": "code",
      "execution_count": null,
      "metadata": {
        "id": "G6y9BgeyQuXj"
      },
      "outputs": [],
      "source": [
        "# code_interpreter_extension.delete()"
      ]
    },
    {
      "cell_type": "markdown",
      "metadata": {
        "id": "HuSYP8VbbTQZ"
      },
      "source": [
        "If you restarted the notebook, you may have additional apps and extensions that need cleaning up.\n"
      ]
    },
    {
      "cell_type": "markdown",
      "metadata": {
        "id": "K1pyDrUuSOg8"
      },
      "source": [
        "You can run the next cell to get a list of all Vertex AI Extensions Instances in your environment:"
      ]
    },
    {
      "cell_type": "code",
      "execution_count": null,
      "metadata": {
        "id": "GWNvVKjBtiWY"
      },
      "outputs": [],
      "source": [
        "from vertexai.preview import extensions\n",
        "extensions.Extension.list()"
      ]
    },
    {
      "cell_type": "markdown",
      "metadata": {
        "id": "sGnmwXF1eLUC"
      },
      "source": [
        "If you see extensions that you don't want, look for the `resource name` values (they look like `projects/PROJECT_NUMBER/locations/LOCATION/extensions/EXTENSION_NUMBER`) and use the following line of code to delete them manually:"
      ]
    },
    {
      "cell_type": "code",
      "execution_count": null,
      "metadata": {
        "id": "oyydObUueLAZ"
      },
      "outputs": [],
      "source": [
        "extension = extensions.Extension(\"projects/PROJECT_NUMBER/locations/LOCATION/extensions/EXTENSION_NUMBER\")\n",
        "extension.delete()"
      ]
    },
    {
      "cell_type": "markdown",
      "metadata": {
        "id": "dhQTFpbGDwqh"
      },
      "source": [
        "You can run the next cell to delete the session created in this notebook"
      ]
    },
    {
      "cell_type": "code",
      "execution_count": null,
      "metadata": {
        "id": "cedoDHQIDxcq"
      },
      "outputs": [],
      "source": [
        "dice_session.delete()"
      ]
    },
    {
      "cell_type": "markdown",
      "metadata": {
        "id": "ICaNHRRdD0TX"
      },
      "source": [
        "You can run the next cell to delete the agents created in this notebook"
      ]
    },
    {
      "cell_type": "code",
      "execution_count": null,
      "metadata": {
        "id": "ymiBeU-PD3IS"
      },
      "outputs": [],
      "source": [
        "dice_agent.delete()\n",
        "dice_agent_update.delete()"
      ]
    },
    {
      "cell_type": "markdown",
      "metadata": {
        "id": "JJYDZZlVD5T4"
      },
      "source": [
        "To confirm if there are any agents / sessions active"
      ]
    },
    {
      "cell_type": "code",
      "execution_count": null,
      "metadata": {
        "id": "h7uMQv6nD8LM"
      },
      "outputs": [],
      "source": [
        "sessions.list()\n",
        "agents.list()"
      ]
    }
  ],
  "metadata": {
    "colab": {
      "provenance": []
    },
    "kernelspec": {
      "display_name": "Python 3 (ipykernel)",
      "language": "python",
      "name": "python3"
    },
    "language_info": {
      "codemirror_mode": {
        "name": "ipython",
        "version": 3
      },
      "file_extension": ".py",
      "mimetype": "text/x-python",
      "name": "python",
      "nbconvert_exporter": "python",
      "pygments_lexer": "ipython3",
      "version": "3.11.4"
    }
  },
  "nbformat": 4,
  "nbformat_minor": 0
}
