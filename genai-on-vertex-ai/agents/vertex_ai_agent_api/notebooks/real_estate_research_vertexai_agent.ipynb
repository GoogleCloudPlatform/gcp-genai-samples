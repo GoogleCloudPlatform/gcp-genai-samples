{
  "cells": [
    {
      "cell_type": "code",
      "execution_count": null,
      "metadata": {
        "id": "nCLHXnfFn4WI"
      },
      "outputs": [],
      "source": [
        "# Copyright 2024 Google LLC\n",
        "#\n",
        "# Licensed under the Apache License, Version 2.0 (the \"License\");\n",
        "# you may not use this file except in compliance with the License.\n",
        "# You may obtain a copy of the License at\n",
        "#\n",
        "#     https://www.apache.org/licenses/LICENSE-2.0\n",
        "#\n",
        "# Unless required by applicable law or agreed to in writing, software\n",
        "# distributed under the License is distributed on an \"AS IS\" BASIS,\n",
        "# WITHOUT WARRANTIES OR CONDITIONS OF ANY KIND, either express or implied.\n",
        "# See the License for the specific language governing permissions and\n",
        "# limitations under the License."
      ]
    },
    {
      "cell_type": "markdown",
      "metadata": {
        "id": "WHtLTE3ksNDP"
      },
      "source": [
        "#Research Agent for Housing Investment Opportunities Using the Vertex AI Agent API\n",
        "\n",
        "<table align=\"left\">\n",
        "  <td style=\"text-align: center\">\n",
        "    <a href=\"https://art-analytics.appspot.com/r.html?uaid=G-FHXEFWTT4E&utm_source=aRT-res_agapi_notebook-from_notebook-colab&utm_medium=aRT-clicks&utm_campaign=res_agapi_notebook-from_notebook-colab&destination=res_agapi_notebook-from_notebook-colab&url=https%3A%2F%2Fcolab.research.google.com%2Fgithub%2FGoogleCloudPlatform%2Fapplied-ai-engineering-samples%2Fblob%2Fagents-api-notebooks%2Fgenai-on-vertex-ai%2Fagents%2Fvertex_ai_agent_api%2Fnotebooks%2Freal_estate_research_vertexai_agent.ipynb\">\n",
        "      <img src=\"https://cloud.google.com/ml-engine/images/colab-logo-32px.png\" alt=\"Google Colaboratory logo\"><br> Open in Colab\n",
        "    </a>\n",
        "  </td>\n",
        "  <td style=\"text-align: center\">\n",
        "    <a href=\"https://art-analytics.appspot.com/r.html?uaid=G-FHXEFWTT4E&utm_source=aRT-res_agapi_notebook-from_notebook-colab_ent&utm_medium=aRT-clicks&utm_campaign=res_agapi_notebook-from_notebook-colab_ent&destination=res_agapi_notebook-from_notebook-colab_ent&url=https%3A%2F%2Fconsole.cloud.google.com%2Fvertex-ai%2Fcolab%2Fimport%2Fhttps%3A%252F%252Fraw.githubusercontent.com%252FGoogleCloudPlatform%252Fapplied-ai-engineering-samples%252Fagents-api-notebooks%252Fgenai-on-vertex-ai%252Fagents%252Fvertex_ai_agent_api%252Fnotebooks%252Freal_estate_research_vertexai_agent.ipynb\">\n",
        "      <img width=\"32px\" src=\"https://lh3.googleusercontent.com/JmcxdQi-qOpctIvWKgPtrzZdJJK-J3sWE1RsfjZNwshCFgE_9fULcNpuXYTilIR2hjwN\" alt=\"Google Cloud Colab Enterprise logo\"><br> Open in Colab Enterprise\n",
        "    </a>\n",
        "  </td>    \n",
        "  <td style=\"text-align: center\">\n",
        "    <a href=\"https://art-analytics.appspot.com/r.html?uaid=G-FHXEFWTT4E&utm_source=aRT-res_agapi_notebook-from_notebook-vai_workbench&utm_medium=aRT-clicks&utm_campaign=res_agapi_notebook-from_notebook-vai_workbench&destination=res_agapi_notebook-from_notebook-vai_workbench&url=https%3A%2F%2Fconsole.cloud.google.com%2Fvertex-ai%2Fworkbench%2Fdeploy-notebook%3Fdownload_url%3Dhttps%3A%2F%2Fraw.githubusercontent.com%2FGoogleCloudPlatform%2Fapplied-ai-engineering-samples%2Fagents-api-notebooks%2Fgenai-on-vertex-ai%2Fagents%2Fvertex_ai_agent_api%2Fnotebooks%2Freal_estate_research_vertexai_agent.ipynb\">\n",
        "      <img src=\"https://lh3.googleusercontent.com/UiNooY4LUgW_oTvpsNhPpQzsstV5W8F7rYgxgGBD85cWJoLmrOzhVs_ksK_vgx40SHs7jCqkTkCk=e14-rj-sc0xffffff-h130-w32\" alt=\"Vertex AI logo\"><br> Open in Workbench\n",
        "    </a>\n",
        "  </td>\n",
        "  <td style=\"text-align: center\">\n",
        "    <a href=\"https://art-analytics.appspot.com/r.html?uaid=G-FHXEFWTT4E&utm_source=aRT-res_agapi_notebook-from_notebook-github&utm_medium=aRT-clicks&utm_campaign=res_agapi_notebook-from_notebook-github&destination=res_agapi_notebook-from_notebook-github&url=https%3A%2F%2Fgithub.com%2FGoogleCloudPlatform%2Fapplied-ai-engineering-samples%2Fblob%2Fagents-api-notebooks%2Fgenai-on-vertex-ai%2Fagents%2Fvertex_ai_agent_api%2Fnotebooks%2Freal_estate_research_vertexai_agent.ipynb\">\n",
        "      <img src=\"https://cloud.google.com/ml-engine/images/github-logo-32px.png\" alt=\"GitHub logo\"><br> View on GitHub\n",
        "    </a>\n",
        "  </td>\n",
        "</table>\n"
      ]
    },
    {
      "cell_type": "markdown",
      "metadata": {
        "id": "MGwjcyJkb78K"
      },
      "source": [
        "| | |\n",
        "|----------|-------------|\n",
        "| Author(s)   | [Lei Pan](https://github.com/genaimagician), Driti Singh\n",
        "| Reviewers(s) | Christos Aniftos , Anand Iyer, Danhao Guo, Hanfei Sun, Michael Sherman|\n",
        "| Last updated | 2024 10 18: Migrated to Agents SDK v2|"
      ]
    },
    {
      "cell_type": "markdown",
      "metadata": {
        "id": "JAPoU8Sm5E6e"
      },
      "source": [
        "# Overview\n",
        "\n",
        "In this notebook, we will show you how to use the [Vertex AI Agent API](https://cloud.google.com/vertex-ai/generative-ai/docs/agent-api/overview) with Vertex AI Search Extension and Webpage Browser Extension tools to complete housing investment opportunities research for business stakeholders. You will perform the following steps:\n",
        "\n",
        "- Create a Vertex AI search extension, webpage browser extension and function call tools\n",
        "- Create an agent and add instructions & extension & function call tools to it\n",
        "- Asking the agent housing investment opportunities questions.\n",
        "\n",
        "In addition to Vertex AI Agent API, this notebook uses [Vertex AI Search](https://cloud.google.com/generative-ai-app-builder/docs/enterprise-search-introduction), [Vertex AI Search extension](https://cloud.google.com/vertex-ai/generative-ai/docs/extensions/vertex-ai-search), [ Function Calling](https://cloud.google.com/vertex-ai/generative-ai/docs/multimodal/function-calling), and Webpage Browser Extension."
      ]
    },
    {
      "cell_type": "markdown",
      "metadata": {
        "id": "KUXzlvfpn513"
      },
      "source": [
        " ## Vertex AI Agent API\n",
        "\n",
        "[Vertex AI Agent API](https://cloud.google.com/vertex-ai/generative-ai/docs/agent-api/overview) is an API for creating and managing Generative AI systems called \"agents\" that can  reason, plan, and act to perform specific tasks.\n",
        "\n",
        " Vertex AI Agent API offers faster time to market than building agents from scratch while still being flexible and customizable. It handles orchestraction and state management, gives you the benefits of Google's expertise in building reliable AI systems, scales in a secure and responsible way, and seamlessly integrates with other Vertex AI and Google Cloud products."
      ]
    },
    {
      "cell_type": "markdown",
      "metadata": {
        "id": "uNriTZl70OdV"
      },
      "source": [
        "## Using This Notebook\n",
        "\n",
        "Colab is recommended for running this notebook, but it can run in any iPython environment where you can connect to Google Cloud, install pip packages, etc.\n",
        "\n",
        "If you're new to Google Cloud, Vertex AI, or the Vertex AI Agent API you may want to look at the [Getting Started with Vertex AI Agent notebook](https://github.com/GoogleCloudPlatform/applied-ai-engineering-samples/blob/agents-api-notebooks/genai-on-vertex-ai/agents/vertex_ai_agent_api/notebooks/getting_started_vertex_agent_api.ipynb), which contains an overview of how to use Vertex AI Agent through a basic agent example, and troubleshooting tips.\n",
        "\n",
        "This tutorial uses the following Google Cloud services and resources:\n",
        "\n",
        "* [Vertex AI Agent API](https://cloud.google.com/vertex-ai/generative-ai/docs/agent-api/overview)\n",
        "* [Cloud Storage API](https://cloud.google.com/storage/docs/apis)\n",
        "* [Vertex AI API](https://cloud.google.com/vertex-ai/docs/reference/rest)\n",
        "* [Agent Builder API](https://cloud.google.com/vertex-ai/generative-ai/docs/agent-api/overview)\n",
        "* [Vertex AI Search Extension](https://cloud.google.com/vertex-ai/generative-ai/docs/extensions/vertex-ai-search) and Webpage Broswer Extensions\n",
        "\n"
      ]
    },
    {
      "cell_type": "markdown",
      "metadata": {
        "id": "Ar0aDcql1dxl"
      },
      "source": [
        "## Useful Tips\n",
        "\n",
        "1. This notebook uses Generative AI cababilities. Re-running a cell that uses Generative AI capabilities may produce similar but not identical results.\n",
        "2. Because of #1, it is possible that an output produces errors. If that happens re-run the cell that produced the error. The re-run will likely be bug free.\n",
        "3. The use of Generative AI capabilities is subject to service quotas. Running the notebook using \"Run All\" may exceed your queries per minute (QPM) limitations. Run the notebook manually and if you get a quota error pause for up to 1 minute before retrying that cell. The Vertex AI Agent API defaults to Gemini on the backend and is subject to the Gemini quotas, <a href=\"https://console.cloud.google.com/iam-admin/quotas?pageState=(%22allQuotasTable%22:(%22f%22:%22%255B%257B_22k_22_3A_22_22_2C_22t_22_3A10_2C_22v_22_3A_22_5C_22base_model_5C_22_22%257D_2C%257B_22k_22_3A_22_22_2C_22t_22_3A10_2C_22v_22_3A_22_5C_22gemini_5C_22_22%257D%255D%22%29%29&e=13802955&mods=logs_tg_staging\" >view your Gemini quotas here</a>.\n"
      ]
    },
    {
      "cell_type": "markdown",
      "metadata": {
        "id": "PO_tnShTGUik"
      },
      "source": [
        "# Setup"
      ]
    },
    {
      "cell_type": "markdown",
      "metadata": {
        "id": "XLf5oGqHn_DH"
      },
      "source": [
        "## Enable APIs and Set Permissions\n",
        "1. [Select or create a Google Cloud project](https://console.cloud.google.com/cloud-resource-manager). When you first create an account, you get a $300 free credit towards your compute/storage costs.\n",
        "1. [Make sure that billing is enabled for your project](https://cloud.google.com/billing/docs/how-to/modify-project).\n",
        "1. [Enable the Service Usage API](https://console.cloud.google.com/apis/library/serviceusage.googleapis.com)\n",
        "1. [Enable the Vertex AI API](https://console.cloud.google.com/flows/enableapi?apiid=aiplatform.googleapis.com).\n",
        "1. [Enable the Cloud Storage API](https://console.cloud.google.com/flows/enableapi?apiid=storage.googleapis.com).\n",
        "1. [Enable the Discovery Engine API for your project](https://console.cloud.google.com/marketplace/product/google/discoveryengine.googleapis.com)\n",
        "1. [Enable the Agent Builder API](https://console.cloud.google.com/gen-app-builder/start)\n",
        "\n",
        "**To run the complete Notebook, including the optional section, you will need to have the [Owner role](https://cloud.google.com/iam/docs/understanding-roles) for your project.**\n",
        "\n",
        "If you want to skip the optional section, you need at least the following [roles](https://cloud.google.com/iam/docs/granting-changing-revoking-access):\n",
        "* **`roles/serviceusage.serviceUsageAdmin`** to enable APIs\n",
        "* **`roles/iam.serviceAccountAdmin`** to modify service agent permissions\n",
        "* **`roles/discoveryengine.admin`** to modify discoveryengine assets\n",
        "* **`roles/aiplatform.user`** to use AI Platform components\n",
        "* **`roles/storage.objectAdmin`** to modify and delete GCS buckets\n",
        "\n"
      ]
    },
    {
      "cell_type": "markdown",
      "metadata": {
        "id": "SfNhErJDVmk5"
      },
      "source": [
        "##Authenticate Google Colab environment."
      ]
    },
    {
      "cell_type": "code",
      "execution_count": null,
      "metadata": {
        "id": "JZGytImrziVA"
      },
      "outputs": [],
      "source": [
        "# Colab authentication.\n",
        "import sys\n",
        "\n",
        "if \"google.colab\" in sys.modules:\n",
        "    from google.colab import auth\n",
        "    auth.authenticate_user()\n",
        "    print(\"Authenticated\")"
      ]
    },
    {
      "cell_type": "markdown",
      "metadata": {
        "id": "JdU-qMmbpR8r"
      },
      "source": [
        "## Install the Google Cloud Vertex AI Python SDK\n",
        "\n",
        "TODO: Update to public pip and retest notebook (in and out of colab) at public preview.\n",
        "\n",
        "The code blocks below download and install the Vertex AI Agent API Python SDK."
      ]
    },
    {
      "cell_type": "code",
      "execution_count": null,
      "metadata": {
        "id": "y_hS2w2G3gaD"
      },
      "outputs": [],
      "source": [
        "# Install gcloud\n",
        "#!pip install --quiet google-cloud\n",
        "\n",
        "WHL_FILEPATH = \"gs://vertex_sdk_private_releases/agents_v2/google_cloud_aiplatform-1.71.dev20241017+vertex.agents.v2-py2.py3-none-any.whl\"\n",
        "!gsutil cp {WHL_FILEPATH} .\n",
        "\n",
        "# Install the private SDK\n",
        "!pip install --quiet {WHL_FILEPATH.split(\"/\")[-1]} \"numpy<2.0.0\" --force-reinstall"
      ]
    },
    {
      "cell_type": "markdown",
      "metadata": {
        "id": "wiqIqsgzV3G0"
      },
      "source": [
        "# Install Required Libraries"
      ]
    },
    {
      "cell_type": "code",
      "execution_count": null,
      "metadata": {
        "id": "9SQmtzKKYciO"
      },
      "outputs": [],
      "source": [
        "!pip install google-cloud-discoveryengine --upgrade\n"
      ]
    },
    {
      "cell_type": "markdown",
      "metadata": {
        "id": "R5Xep4W9lq-Z"
      },
      "source": [
        "### Restart Runtime\n",
        "\n",
        "You may need to restart your notebook runtime to use the Vertex AI SDK. You can do this by running the cell below, which restarts the current kernel.\n",
        "\n",
        "You may see the restart reported as a crash, but it is working as-intended -- you are merely restarting the runtime.\n",
        "\n",
        "The restart might take a minute or longer. After its restarted, continue to the next step."
      ]
    },
    {
      "cell_type": "code",
      "execution_count": null,
      "metadata": {
        "id": "XRvKdaPDTznN"
      },
      "outputs": [],
      "source": [
        "import IPython\n",
        "\n",
        "app = IPython.Application.instance()\n",
        "app.kernel.do_shutdown(True)"
      ]
    },
    {
      "cell_type": "markdown",
      "metadata": {
        "id": "init_aip:mbsdk,all"
      },
      "source": [
        "# Initialize the Google Cloud Vertex AI Python SDK\n",
        "\n"
      ]
    },
    {
      "cell_type": "markdown",
      "metadata": {
        "id": "WReHDGG5g0XY"
      },
      "source": [
        "### Set Your Project ID\n",
        "\n"
      ]
    },
    {
      "cell_type": "code",
      "execution_count": null,
      "metadata": {
        "id": "oM1iC_MfAts1",
        "tags": []
      },
      "outputs": [],
      "source": [
        "PROJECT_ID = \"YOUR_PROJECT_ID_HERE\"  # @param {type:\"string\"}\n",
        "\n",
        "!gcloud config set project {PROJECT_ID}"
      ]
    },
    {
      "cell_type": "markdown",
      "metadata": {
        "id": "region"
      },
      "source": [
        "### Set the Region"
      ]
    },
    {
      "cell_type": "code",
      "execution_count": null,
      "metadata": {
        "id": "Cg9uNa6rlyWx",
        "tags": []
      },
      "outputs": [],
      "source": [
        "REGION = \"us-central1\"  # @param {type: \"string\"}"
      ]
    },
    {
      "cell_type": "markdown",
      "metadata": {
        "id": "9hjKgo7nj9cp"
      },
      "source": [
        "### Authenticate your Colab environment with your specific Google Cloud project"
      ]
    },
    {
      "cell_type": "code",
      "execution_count": null,
      "metadata": {
        "id": "MOyT_yrdj8Gi"
      },
      "outputs": [],
      "source": [
        "import sys\n",
        "if \"google.colab\" in sys.modules:\n",
        "    from google.colab import auth\n",
        "    auth.authenticate_user(project_id=PROJECT_ID)\n",
        "    print(\"Authenticated\")"
      ]
    },
    {
      "cell_type": "markdown",
      "metadata": {
        "id": "6-NbHLWtu-iW"
      },
      "source": [
        "### Import and Initialize the Vertex AI Python SDK"
      ]
    },
    {
      "cell_type": "code",
      "execution_count": null,
      "metadata": {
        "id": "KhnzTqS8iOJC",
        "tags": []
      },
      "outputs": [],
      "source": [
        "import vertexai\n",
        "vertexai.init(project=PROJECT_ID, location=REGION)"
      ]
    },
    {
      "cell_type": "markdown",
      "metadata": {
        "id": "wWso7BK7egeY"
      },
      "source": [
        "# Cymbal Real Estate Research Agent - Search and Webpage Browser Tools"
      ]
    },
    {
      "cell_type": "markdown",
      "metadata": {
        "id": "44ikqwKQpEms"
      },
      "source": [
        "## Step 1: Create Vertex Search Extension Tool with Proprietary Cymbal Datasource\n",
        "\n",
        "In this section, we do the following tasks:\n",
        "\n",
        "- Create Vertex AI Search App with 3 PDFs ([PDF1](https://drive.google.com/file/d/1sqGmjqDOLtBMEJkGRAhcTYVbZXkKPAWJ/view?usp=sharing), [PDF2](https://drive.google.com/file/d/1M2Uk5ABMlLix1Nxg7LEWmW4ioZ_SxhkU/view?usp=drive_link), [PDF3](https://drive.google.com/file/d/19kUrpUv9AKIebHRja_RcyP7JTPMyKmkV/view?usp=drive_link)) for Search Extension.\n",
        "- Create Vertex AI Search Extension using the Search App\n",
        "\n",
        "Note: 3 PDFs include Synthesized Exclusive San Francisco Off-Market Property Listings for Cymbal Real Estate Group"
      ]
    },
    {
      "cell_type": "markdown",
      "metadata": {
        "id": "ei9fJCWfFafT"
      },
      "source": [
        "#### Permissions Setup\n",
        "\n",
        "If you have already set up the permission, feel free to skip this step.\n",
        "\n",
        "For using the Vertex AI Search Extension, please grant the [Vertex AI Extension Service agent](https://cloud.google.com/vertex-ai/docs/general/access-control#service-agents) the [permission needed](https://cloud.google.com/vertex-ai/docs/general/access-control#home-project). In this case, you need permissions to run discovery engine. You can set it in the UI: https://console.cloud.google.com/iam-admin/iam"
      ]
    },
    {
      "cell_type": "markdown",
      "metadata": {
        "id": "eLSvcJrRBa0P"
      },
      "source": [
        "#### Create a Vertex AI Search App for the Vertex AI Search Extension in 4 Steps\n",
        "\n",
        "To create a search app for Vertex AI Search Extension to use, you can either do that manually by following [those docs](https://cloud.google.com/generative-ai-app-builder/docs/create-datastore-ingest) or run the 4 steps below. If you already have a vertex AI search appp set up, feel free to skip those 4 steps and go to set up vertex AI search extension section."
      ]
    },
    {
      "cell_type": "markdown",
      "metadata": {
        "id": "IBcXf2rdBASy"
      },
      "source": [
        "##### 1) Download PDFs and Ingest Into GCS Bucket\n",
        "\n",
        "If you don't have gdown and gsutil, please install them. !pip install gdown, !pip install gsutil"
      ]
    },
    {
      "cell_type": "code",
      "execution_count": null,
      "metadata": {
        "id": "atQYciFDc_Bk"
      },
      "outputs": [],
      "source": [
        "GCS_BUCKET = f\"{PROJECT_ID}-cymbal-offmarket-list\"\n",
        "folder_path = \"offmarket_data_pdfs/\" #Default sub folder name in your gcs bucket. You can use this one."
      ]
    },
    {
      "cell_type": "code",
      "execution_count": null,
      "metadata": {
        "id": "WW5qTX3zdCPa"
      },
      "outputs": [],
      "source": [
        "from google.cloud import storage\n",
        "import gdown\n",
        "def upload_blob(bucket_name, source_file_name, destination_blob_name):\n",
        "    \"\"\"Uploads a file to the bucket.\"\"\"\n",
        "    storage_client = storage.Client()\n",
        "    bucket = storage_client.bucket(bucket_name)\n",
        "    blob = bucket.blob(destination_blob_name)\n",
        "    generation_match_precondition = None\n",
        "    blob.upload_from_filename(source_file_name, if_generation_match=generation_match_precondition)\n",
        "    print(f\"File {source_file_name} uploaded to {destination_blob_name}.\")\n",
        "\n",
        "# Create a GCS bucket if you don't have one\n",
        "! set -x && gsutil mb -p $PROJECT_ID -l us-central1 gs://$GCS_BUCKET\n",
        "\n",
        "# Download the pdfs and ingest them to the GCS bucket\n",
        "url_list = [\"https://drive.google.com/uc?id=1sqGmjqDOLtBMEJkGRAhcTYVbZXkKPAWJ\",\n",
        "\"https://drive.google.com/uc?id=1M2Uk5ABMlLix1Nxg7LEWmW4ioZ_SxhkU\",\n",
        "\"https://drive.google.com/uc?id=19kUrpUv9AKIebHRja_RcyP7JTPMyKmkV\"]\n",
        "i=1\n",
        "for url in url_list:\n",
        "  gdown.download(url, f\"invest{i}.pdf\")\n",
        "  upload_blob(GCS_BUCKET,f\"invest{i}.pdf\",f\"{folder_path}invest{i}.pdf\")\n",
        "  i+=1"
      ]
    },
    {
      "cell_type": "markdown",
      "metadata": {
        "id": "VsZUGcCSgMFw"
      },
      "source": [
        "##### 2) Create a Vertex AI Search Data Store\n",
        "The Vertex AI Search extension needs a [**Data Store** and **Vertex AI Search App**](https://cloud.google.com/generative-ai-app-builder/docs/create-datastore-ingest) to run. After creating the data store using the cell below, You can inspect it under: https://console.cloud.google.com/gen-app-builder/data-stores"
      ]
    },
    {
      "cell_type": "code",
      "execution_count": 76,
      "metadata": {
        "id": "tvY_if0CW2oy"
      },
      "outputs": [],
      "source": [
        "# Specify name, id, location for your datastore & Search engine id\n",
        "DATA_STORE_NAME = \"cymbal-offmarket-datastore\" # @param {type:\"string\"}\n",
        "DATA_STORE_ID = \"cymbal-offmarket-datastore-id\" # @param {type:\"string\"}\n",
        "DATA_STORE_LOCATION = \"global\" #@param {type:\"string\"}\n",
        "\n",
        "SEARCH_APP_ID = \"cymbal-offmarket-datastore-engine\" # @param {type:\"string\"}\n",
        "SEARCH_APP_REGION = \"global\" # @param {type:\"string\"}"
      ]
    },
    {
      "cell_type": "code",
      "execution_count": null,
      "metadata": {
        "id": "8nWpY-DmWcu7"
      },
      "outputs": [],
      "source": [
        "from google.cloud import discoveryengine_v1 as discoveryengine\n",
        "from google.api_core.client_options import ClientOptions\n",
        "\n",
        "def create_data_store(\n",
        "    project_id: str,\n",
        "    location: str,\n",
        "    data_store_name: str,\n",
        "    data_store_id: str\n",
        "):\n",
        "    # Create a client\n",
        "    client_options = (\n",
        "        ClientOptions(api_endpoint=f\"{location}-discoveryengine.googleapis.com\")\n",
        "        if location != \"global\"\n",
        "        else None\n",
        "    )\n",
        "    client = discoveryengine.DataStoreServiceClient(client_options=client_options)\n",
        "\n",
        "    # Initialize request argument(s)\n",
        "    data_store = discoveryengine.DataStore(\n",
        "        display_name=data_store_name,\n",
        "        industry_vertical=discoveryengine.IndustryVertical.GENERIC,\n",
        "        solution_types=[discoveryengine.SolutionType.SOLUTION_TYPE_SEARCH],\n",
        "        content_config=discoveryengine.DataStore.ContentConfig.CONTENT_REQUIRED,\n",
        "    )\n",
        "\n",
        "    request = discoveryengine.CreateDataStoreRequest(\n",
        "        parent=client.collection_path(\n",
        "            project_id, location, \"default_collection\"\n",
        "        ),\n",
        "        data_store=data_store,\n",
        "        data_store_id=data_store_id,\n",
        "    )\n",
        "\n",
        "    operation = client.create_data_store(request=request)\n",
        "\n",
        "    # Make the request\n",
        "    # The try block is necessary to prevent execution from halting due to an error being thrown when the datastore takes a while to instantiate\n",
        "    try:\n",
        "        response = operation.result(timeout=90)\n",
        "        print(response)\n",
        "    except:\n",
        "        print(\"long-running operation\")\n",
        "\n",
        "create_data_store(PROJECT_ID, DATA_STORE_LOCATION, DATA_STORE_NAME, DATA_STORE_ID) # datastore name can only contain lowercase letters, numbers, and hyphens"
      ]
    },
    {
      "cell_type": "markdown",
      "metadata": {
        "id": "jc2zLUA6BMsa"
      },
      "source": [
        "##### 3) Ingest PDF Files in the GCS bucket into the Vertex AI Search Data Store"
      ]
    },
    {
      "cell_type": "code",
      "execution_count": null,
      "metadata": {
        "id": "MT6vj3nr6T8e"
      },
      "outputs": [],
      "source": [
        "from google.api_core.client_options import ClientOptions\n",
        "from typing import Optional\n",
        "\n",
        "def import_documents(\n",
        "    project_id: str,\n",
        "    location: str,\n",
        "    data_store_id: str,\n",
        "    gcs_uri: Optional[str] = None) -> str:\n",
        "    \"\"\"Imports documents into a Vertex AI data store from GCS.\n",
        "    This function imports documents into a specified data store within Vertex AI\n",
        "    Agent Builder from a GCS bucket.\n",
        "    \"\"\"\n",
        "    client_options = (\n",
        "        ClientOptions(api_endpoint=f\"{location}-discoveryengine.googleapis.com\")\n",
        "        if location != \"global\"\n",
        "        else None\n",
        "    )\n",
        "    client = discoveryengine.DocumentServiceClient(client_options=client_options)\n",
        "    # The full resource name of the search engine branch.\n",
        "    parent = client.branch_path(\n",
        "        project=project_id,\n",
        "        location=location,\n",
        "        data_store=data_store_id,\n",
        "        branch=\"default_branch\",)\n",
        "\n",
        "    request = discoveryengine.ImportDocumentsRequest(\n",
        "        parent=parent,\n",
        "        gcs_source=discoveryengine.GcsSource(\n",
        "            input_uris=[gcs_uri], data_schema=\"content\"\n",
        "        ),\n",
        "        # Options: `FULL`, `INCREMENTAL`\n",
        "        reconciliation_mode=discoveryengine.ImportDocumentsRequest.ReconciliationMode.INCREMENTAL,)\n",
        "    # Make the request\n",
        "    operation = client.import_documents(request=request)\n",
        "    print(f\"Waiting for operation to complete: {operation.operation.name}\")\n",
        "    response = operation.result()\n",
        "    # Once the operation is complete, get information from operation metadata.\n",
        "    metadata = discoveryengine.ImportDocumentsMetadata(operation.metadata)\n",
        "    # Handle the response.\n",
        "    print(response)\n",
        "    print(metadata)\n",
        "    return operation.operation.name\n",
        "\n",
        "# Ingest pdfs in the GCS bucket to the data store\n",
        "GCS_URI = f\"gs://{GCS_BUCKET}/{folder_path}*.pdf\"\n",
        "import_documents(PROJECT_ID, \"global\", DATA_STORE_ID, GCS_URI)"
      ]
    },
    {
      "cell_type": "markdown",
      "metadata": {
        "id": "xwcBGeljauNR"
      },
      "source": [
        "##### 4) Create a Vertex Search App and Connect it to the Data Store\n",
        "The following cell lets you create a Vertex AI Search App to ✨**connect**✨ to your newly created data store. Need to enable searchTier and searchAddOns for the Vertex AI Search Extension to work as shown in the cell below. Read more about [Advanced Features](https://cloud.google.com/generative-ai-app-builder/docs/about-advanced-features)"
      ]
    },
    {
      "cell_type": "code",
      "execution_count": null,
      "metadata": {
        "id": "Xjh7V7N0Y7Ah"
      },
      "outputs": [],
      "source": [
        "def create_engine(\n",
        "    project_id: str, location: str, data_store_id: str, search_engine_id: str\n",
        "):\n",
        "    # Create a client\n",
        "    client_options = (\n",
        "        ClientOptions(api_endpoint=f\"{location}-discoveryengine.googleapis.com\")\n",
        "        if location != \"global\"\n",
        "        else None\n",
        "    )\n",
        "    client = discoveryengine.EngineServiceClient(client_options=client_options)\n",
        "\n",
        "    # Initialize request argument(s)\n",
        "    config = discoveryengine.Engine.SearchEngineConfig(\n",
        "        search_tier=\"SEARCH_TIER_ENTERPRISE\", search_add_ons=[\"SEARCH_ADD_ON_LLM\"]\n",
        "    )\n",
        "\n",
        "    engine = discoveryengine.Engine(\n",
        "        display_name=search_engine_id,\n",
        "        solution_type=\"SOLUTION_TYPE_SEARCH\",\n",
        "        industry_vertical=\"GENERIC\",\n",
        "        data_store_ids=[data_store_id],\n",
        "        search_engine_config=config,\n",
        "    )\n",
        "\n",
        "    request = discoveryengine.CreateEngineRequest(\n",
        "        parent=discoveryengine.DataStoreServiceClient.collection_path(\n",
        "            project_id, location, \"default_collection\"\n",
        "        ),\n",
        "        engine=engine,\n",
        "        engine_id=engine.display_name,\n",
        "    )\n",
        "\n",
        "    # Make the request\n",
        "    operation = client.create_engine(request=request)\n",
        "    response = operation.result(timeout=90)\n",
        "    print(response)\n",
        "\n",
        "create_engine(PROJECT_ID, DATA_STORE_LOCATION, DATA_STORE_ID, SEARCH_APP_ID)"
      ]
    },
    {
      "cell_type": "markdown",
      "metadata": {
        "id": "Nlke0khsO5cg"
      },
      "source": [
        "### Set Up the Vertex AI Search Extension  & Webpage Browser extension Tool"
      ]
    },
    {
      "cell_type": "code",
      "execution_count": null,
      "metadata": {
        "id": "Ocb87qrtPS6S"
      },
      "outputs": [],
      "source": [
        "from vertexai.preview.extensions import Extension"
      ]
    },
    {
      "cell_type": "markdown",
      "metadata": {
        "id": "E6yMqcvBPFRB"
      },
      "source": [
        "#### Set Up the Vertex AI Search Extension Tool"
      ]
    },
    {
      "cell_type": "markdown",
      "metadata": {
        "id": "1TaNXRnqL1Lu"
      },
      "source": [
        "\n",
        "\n",
        "After you create the search app, you can use search extension to connect to it to extract the key housing research information. Below cells show you how to get the information using search extension. You can read more about search extension [here](https://cloud.google.com/vertex-ai/generative-ai/docs/extensions/vertex-ai-search)."
      ]
    },
    {
      "cell_type": "code",
      "execution_count": null,
      "metadata": {
        "id": "l_hqJnawdayL"
      },
      "outputs": [],
      "source": [
        "SEARCH_CONFIG  = \"projects/{project_id}/locations/{search_app_region}/collections/default_collection/engines/{search_app_id}/servingConfigs/default_search\".format(\n",
        "    project_id=PROJECT_ID,\n",
        "    search_app_region=SEARCH_APP_REGION,\n",
        "    search_app_id=SEARCH_APP_ID)"
      ]
    },
    {
      "cell_type": "code",
      "execution_count": null,
      "metadata": {
        "collapsed": true,
        "id": "zXggbziVKPC2"
      },
      "outputs": [],
      "source": [
        "search_extension = Extension.from_hub(\n",
        "    \"vertex_ai_search\",\n",
        "    runtime_config={\n",
        "        \"vertex_ai_search_runtime_config\": {\n",
        "            \"serving_config_name\": SEARCH_CONFIG,\n",
        "        }\n",
        "    })"
      ]
    },
    {
      "cell_type": "markdown",
      "metadata": {
        "id": "-GyFwhSxnO5d"
      },
      "source": [
        "## Step 2: Create Webpage Browser Extension Tool\n"
      ]
    },
    {
      "cell_type": "code",
      "execution_count": null,
      "metadata": {
        "id": "O7YkBV8P0xQI"
      },
      "outputs": [],
      "source": [
        "webpage_browser_extension = Extension.from_hub(\n",
        "    \"webpage_browser\"\n",
        ")"
      ]
    },
    {
      "cell_type": "markdown",
      "metadata": {
        "id": "mq2h-_LEMr9L"
      },
      "source": [
        "## Step 3: Function Call Tool\n",
        "\n",
        "n order for your agent to call a function, you need to provide some information about the function to call. Use the FunctionDeclaration class to construct the function declaration you wish to use, and add the FunctionDeclaration to your Agent app when you create or update it. You can read more on function calling here."
      ]
    },
    {
      "cell_type": "code",
      "execution_count": null,
      "metadata": {
        "id": "TTXeavD9sc8C"
      },
      "outputs": [],
      "source": [
        "from vertexai.generative_models import FunctionDeclaration, Part\n",
        "\n",
        "function_declaration = FunctionDeclaration(\n",
        "  name=\"extract_property_sale_records\",\n",
        "  description=\"Extract property sale records from a document.\",\n",
        "  parameters={\n",
        "      \"type\": \"object\",\n",
        "      \"properties\": {\n",
        "          \"records\": {\n",
        "              \"type\": \"array\",\n",
        "              \"description\": \"A list of sale records\",\n",
        "              \"items\": {\n",
        "                  \"description\": \"Data for a sale record\",\n",
        "                  \"type\": \"object\",\n",
        "                  \"properties\": {\n",
        "        \"id\": {\"type\": \"integer\", \"description\": \"The unique id of the sale.\"},\n",
        "                      \"date\": {\"type\": \"string\", \"description\": \"Date of the sale, in the format of MMDDYY, e.g., 031023\"},\n",
        "                      \"total_amount\": {\"type\": \"number\", \"description\": \"The total amount of the sale.\"},\n",
        "                      \"customer_name\": {\"type\": \"string\", \"description\": \"The name of the customer, including first name and last name.\"},\n",
        "                      \"customer_contact\": {\"type\": \"string\", \"description\": \"The phone number of the customer, e.g., 650-123-4567.\"},\n",
        "                  },\n",
        "                  \"required\": [\"id\", \"date\", \"total_amount\"],\n",
        "              },\n",
        "          },\n",
        "      },\n",
        "      \"required\": [\"records\"],\n",
        "  },\n",
        ")"
      ]
    },
    {
      "cell_type": "markdown",
      "metadata": {
        "id": "GALEckKxxfa_"
      },
      "source": [
        "# Create Cymbal Real Estate Research Agent with Instructions on Tools\n",
        "In this section we will create a Real Estate Research Agent with vertex search, Webpage Browser extension, & function calling tool. Agent will follow the instructions to call necessary tools."
      ]
    },
    {
      "cell_type": "code",
      "execution_count": null,
      "metadata": {
        "id": "AWf1s9XPQkDO"
      },
      "outputs": [],
      "source": [
        "from google.cloud.aiplatform.private_preview.vertex_agents_v2 import agents,sessions"
      ]
    },
    {
      "cell_type": "code",
      "execution_count": null,
      "metadata": {
        "id": "1ImG4cDJhIgY"
      },
      "outputs": [],
      "source": [
        "INSTRUCTIONS = \"\"\"\n",
        "You are an expert who answers the user's housing investment opportunities questions with the most relevant datasource.\n",
        "\n",
        "Depending on the question using the following guides\n",
        "\n",
        "Sales Record Question:\n",
        "  - If the user asks you questions about sales records, call extract_property_sale_records function to extract the information.\n",
        "\n",
        "Listings Question:\n",
        "  - If the user asks you questions about offmarket listing at Cymbal Real Estate Group, call vertex_ai_search tool to search relevant information.\n",
        "  - If the user asks you a questions and provides a URL, then call webpage_browser tool with the URL to search relevant information and answer the question.\n",
        "  - If the user asks you search online to anwser the housing investment questions, please ask the user to provide URLs if the user didn't give you any URLs. After you get the URLs, call webpage_browser tool to search relevant information.\n",
        "\n",
        "If the user asks you to use both tools to answer the questions, you can use both tools and combine the information to answer the question.\n",
        "\n",
        "Please only answer real estate investment related questions. For all other questions, please respond with \"I can only assist with real estate investment related questions\".\n",
        "\n",
        "Only respond based on the response of the tool. Do not create your own answers.\n",
        "\"\"\""
      ]
    },
    {
      "cell_type": "code",
      "execution_count": null,
      "metadata": {
        "id": "5KIvXZovhPCZ"
      },
      "outputs": [],
      "source": [
        "agent = agents.create(\n",
        "    display_name=\"Cymbal Real Estate Research Agent\",\n",
        "    instruction= INSTRUCTIONS,\n",
        "    model=\"gemini-1.5-pro\",\n",
        "    tools=[webpage_browser_extension,function_declaration, search_extension ],\n",
        ")\n"
      ]
    },
    {
      "cell_type": "markdown",
      "metadata": {
        "id": "1lXg2ysxR_ke"
      },
      "source": [
        "## Start a new Session"
      ]
    },
    {
      "cell_type": "code",
      "execution_count": null,
      "metadata": {
        "id": "8H_M2G2gqEg4"
      },
      "outputs": [],
      "source": [
        "session = sessions.create(display_name=\"real-estate-session\")"
      ]
    },
    {
      "cell_type": "markdown",
      "metadata": {
        "id": "ZQuzU8VMqEg4"
      },
      "source": [
        "## Example 1: Ask Cymbal Agent to Retrieve info from Cymbal San Francisco Exclusive Off-Market Listings"
      ]
    },
    {
      "cell_type": "markdown",
      "metadata": {
        "id": "qLHxQsO24m7l"
      },
      "source": [
        "In this example, we ask the agent to answer question from off-market listings datasource."
      ]
    },
    {
      "cell_type": "code",
      "execution_count": null,
      "metadata": {
        "id": "U2DcTEzs05XG"
      },
      "outputs": [],
      "source": [
        "response = session.create_run(agent=agent, content=\"Can you summarize property information around Noe Valley from Cymbal Exclusive Off-Market Listings?\")"
      ]
    },
    {
      "cell_type": "code",
      "execution_count": null,
      "metadata": {
        "id": "H41M1FXa1HNC"
      },
      "outputs": [],
      "source": [
        "response.steps[-1].content.parts[0].text"
      ]
    },
    {
      "cell_type": "markdown",
      "metadata": {
        "id": "K3CI5yymUOKN"
      },
      "source": [
        "## Example 2: Ask for URLs and use webpage browser extension to retrieve information from the websites\n",
        "\n",
        "In this example, we ask the agent to answer questions by using webpage browser extension tool. As you can see in the response below, it called the webpage browser extension. Output_parameters[\"content\"] includes all the content the agent retrived using the webpage browser extension."
      ]
    },
    {
      "cell_type": "code",
      "execution_count": null,
      "metadata": {
        "id": "MLRScdrYT8tT"
      },
      "outputs": [],
      "source": [
        "response = session.create_run(agent=agent, content=\"\"\"Can you summarize Noe Valley real estate investment opportunities from here:\n",
        "https://www.bcre.co/blog-news/navigating-the-market-discovering-the-most-promising-neighbourhoods-for-real-estate-investment-in-san-francisco/?\"\"\")\n"
      ]
    },
    {
      "cell_type": "code",
      "execution_count": null,
      "metadata": {
        "id": "z1B_GGD97WLW"
      },
      "outputs": [],
      "source": [
        "response.steps[-1].content.parts[0].text"
      ]
    },
    {
      "cell_type": "markdown",
      "metadata": {
        "id": "rFi2UeH5VisX"
      },
      "source": [
        "## Example 3: Use both extensions to do research\n",
        "\n",
        "In this example, we ask the agent to call both tools to do the research. As you can see in the response below, it called both vertex AI search and webpage browser extension tools. Output_parameters[\"content\"] includes all the content the agent retrived using both extensions."
      ]
    },
    {
      "cell_type": "code",
      "execution_count": null,
      "metadata": {
        "id": "ThMdHyom2TWU"
      },
      "outputs": [],
      "source": [
        "response = session.create_run(agent=agent, content=\"\"\"Can you summarize Noe Valley real estate investment opportunities from Cymbal Exclusive Off-Market Listings and here:\n",
        "https://www.bcre.co/blog-news/navigating-the-market-discovering-the-most-promising-neighbourhoods-for-real-estate-investment-in-san-francisco/?\"\"\")"
      ]
    },
    {
      "cell_type": "code",
      "execution_count": null,
      "metadata": {
        "id": "1W_9DbZc7xj6"
      },
      "outputs": [],
      "source": [
        "response.steps[-1].content.parts[0].text"
      ]
    },
    {
      "cell_type": "markdown",
      "metadata": {
        "id": "R-CkmB69i10s"
      },
      "source": [
        "## Example 4: Ask non real estate related question\n",
        "\n",
        "In this example, we ask the agent non real estate related question and see if it follows our instructions. As you can see in the response below, the agent followed the instruction and refused to answer the question."
      ]
    },
    {
      "cell_type": "code",
      "execution_count": null,
      "metadata": {
        "id": "UoZ2ruMj8h-_"
      },
      "outputs": [],
      "source": [
        "response = session.create_run(agent=agent, content=\"\"\"What's the best way to save for retirement?\"\"\")"
      ]
    },
    {
      "cell_type": "code",
      "execution_count": null,
      "metadata": {
        "id": "YS1yFnL_3zZa"
      },
      "outputs": [],
      "source": [
        "response.steps[-1].content.parts[0].text"
      ]
    },
    {
      "cell_type": "markdown",
      "metadata": {
        "id": "sjpnsIT75JIb"
      },
      "source": [
        "##Example 5: Agent remembers the information it retrieved earlier\n",
        "\n",
        "In this example, we ask the agent to go deeper in the topics we discussed before to see if the agent remembers previous discussion. As you can see in the response, the agent remembered the info it retrieved before and used the info for the follow-up question."
      ]
    },
    {
      "cell_type": "code",
      "execution_count": null,
      "metadata": {
        "id": "an5MFpUY6UjC"
      },
      "outputs": [],
      "source": [
        "response = session.create_run(agent=agent, content=\"\"\"Can you summarize real estate investment opportunities from this listing:\n",
        "https://www.bcre.co/blog-news/navigating-the-market-discovering-the-most-promising-neighbourhoods-for-real-estate-investment-in-san-francisco/?\"\"\")"
      ]
    },
    {
      "cell_type": "code",
      "execution_count": null,
      "metadata": {
        "id": "gDR0GfPTCi3g"
      },
      "outputs": [],
      "source": [
        "response.steps[-1].content.parts[0].text"
      ]
    },
    {
      "cell_type": "code",
      "execution_count": null,
      "metadata": {
        "id": "agdq_08t6a2L"
      },
      "outputs": [],
      "source": [
        "response = session.create_run(agent=agent, content=\"\"\"Can you tell me more about Vallejo from the previous listing\"\"\")"
      ]
    },
    {
      "cell_type": "code",
      "execution_count": null,
      "metadata": {
        "id": "HJ5bW47HByPG"
      },
      "outputs": [],
      "source": [
        "response.steps[-1].content.parts[0].text"
      ]
    },
    {
      "cell_type": "markdown",
      "metadata": {
        "id": "Y76F0SHKbN02"
      },
      "source": [
        "## Example 6: Agent uses sales record function call to answer questions\n",
        "\n",
        "In this example, we ask the agent to use function call to answer proerty sales records question. For the simplicity of the example, we don't want to call a real API call. In order for the agent to use the function call, we need a mock response.\n",
        "\n",
        "For this function, the goal is to retreive a sale record, we added \"records_response\" field with a mockup sale record in the response for the agent to use. The name of this field and content don't matter that much. The agent uses whatever response you feed it to respond to the user.\n",
        "\n",
        "You can read [the function calling doc](https://cloud.google.com/vertex-ai/generative-ai/docs/multimodal/function-calling#text-samples) to learn more about how to set up response and how use to mocks."
      ]
    },
    {
      "cell_type": "code",
      "execution_count": null,
      "metadata": {
        "collapsed": true,
        "id": "Y_Zk9tYrbakU"
      },
      "outputs": [],
      "source": [
        "response = session.create_run(agent=agent, content=\"\"\"Can you retrieve top 1 sales records from property sale records?\"\"\")"
      ]
    },
    {
      "cell_type": "code",
      "execution_count": null,
      "metadata": {
        "collapsed": true,
        "id": "tik_jMrLMY_c"
      },
      "outputs": [],
      "source": [
        "response"
      ]
    },
    {
      "cell_type": "code",
      "execution_count": null,
      "metadata": {
        "id": "3JXnVpYvM-aq"
      },
      "outputs": [],
      "source": [
        "# Mock Response for the API Call\n",
        "response = session.resume_run(run = response, content= Part.from_function_response(name=\"extract_property_sale_records\", response={\"records_response\": \"\"\"\n",
        "Address: 5678 Divisadero St, San Francisco, CA 94117\n",
        "Sale Date: May 10, 2024\n",
        "Sale Price: $10,525,000\n",
        "Property Type: 2-unit building\n",
        "Bedrooms: 10 (total)\n",
        "Bathrooms: 8 (total)\n",
        "Lot Size: 18,000 sq ft\n",
        "\"\"\"}))"
      ]
    },
    {
      "cell_type": "code",
      "execution_count": null,
      "metadata": {
        "collapsed": true,
        "id": "dAT9yDj7OGPZ"
      },
      "outputs": [],
      "source": [
        "response"
      ]
    },
    {
      "cell_type": "code",
      "execution_count": null,
      "metadata": {
        "id": "PQpBZFbR59fk"
      },
      "outputs": [],
      "source": [
        "response.steps[-1].content.parts[0].text"
      ]
    },
    {
      "cell_type": "markdown",
      "metadata": {
        "id": "OrLmMtfuuTHR"
      },
      "source": [
        "## List Runs\n",
        "\n",
        "You can view the entire conversation history by using `session.list_runs()`"
      ]
    },
    {
      "cell_type": "code",
      "execution_count": null,
      "metadata": {
        "collapsed": true,
        "id": "gvUfTiVNOpDx"
      },
      "outputs": [],
      "source": [
        "session.list_runs()"
      ]
    },
    {
      "cell_type": "markdown",
      "metadata": {
        "id": "ttZ190-aPzZa"
      },
      "source": [
        "#Cleanup\n",
        "\n",
        "Clean up resources created in this notebook.\n",
        "\n",
        "\n",
        "To delete Session, uncomment and run:\n"
      ]
    },
    {
      "cell_type": "code",
      "execution_count": null,
      "metadata": {
        "id": "bTx7ANlPPzZb"
      },
      "outputs": [],
      "source": [
        "#session.delete()"
      ]
    },
    {
      "cell_type": "markdown",
      "metadata": {
        "id": "fktZ7p2GPzZb"
      },
      "source": [
        "To delete agent, uncomment and run. Using either the display name or the fully qualified resource name, you can delete a specific agent under the App."
      ]
    },
    {
      "cell_type": "code",
      "execution_count": null,
      "metadata": {
        "id": "pdIRkzAJPzZb"
      },
      "outputs": [],
      "source": [
        "#agent.delete()"
      ]
    },
    {
      "cell_type": "markdown",
      "metadata": {
        "id": "dG2EP5fyPzZb"
      },
      "source": [
        "To delete both extensions you used in the notebook, uncomment and run:"
      ]
    },
    {
      "cell_type": "code",
      "execution_count": null,
      "metadata": {
        "id": "fgCKTwhjPzZb"
      },
      "outputs": [],
      "source": [
        "#webpage_browser_extension.delete()"
      ]
    },
    {
      "cell_type": "markdown",
      "metadata": {
        "id": "onLrGFkzPzZb"
      },
      "source": [
        "To delete the GCS bucket, uncomment and run:"
      ]
    },
    {
      "cell_type": "code",
      "execution_count": null,
      "metadata": {
        "id": "oayTNjkZPzZc"
      },
      "outputs": [],
      "source": [
        "# Delete contents of the bucket and the bucket\n",
        "#!gsutil -m rm -r gs://$GCS_BUCKET"
      ]
    },
    {
      "cell_type": "markdown",
      "metadata": {
        "id": "31OK9R-3PzZc"
      },
      "source": [
        "Don't forget to delete any other created assets if you don't need them, e.g. the Vertex AI data store and search app (you need to delete them from the Google Cloud Console).\n",
        "\n",
        "Your Vertex AI Search app: https://console.cloud.google.com/gen-app-builder/apps\n",
        "Your Vertex AI Search data store: https://console.cloud.google.com/gen-app-builder/data-stores"
      ]
    },
    {
      "cell_type": "markdown",
      "metadata": {
        "id": "bQqf4bjraIL9"
      },
      "source": [
        "## Delete Vertex Search App\n",
        "\n",
        "To delete a datstore connected to a app you first need to delete the app and then the datastore."
      ]
    },
    {
      "cell_type": "code",
      "execution_count": null,
      "metadata": {
        "id": "WuOdRKWnYbb3"
      },
      "outputs": [],
      "source": [
        "def delete_engine_sample(\n",
        "    project_id: str,\n",
        "    location: str,\n",
        "    engine_id: str,\n",
        ") -> str:\n",
        "    #  For more information, refer to:\n",
        "    # https://cloud.google.com/generative-ai-app-builder/docs/locations#specify_a_multi-region_for_your_data_store\n",
        "    client_options = (\n",
        "        ClientOptions(api_endpoint=f\"{location}-discoveryengine.googleapis.com\")\n",
        "        if location != \"global\"\n",
        "        else None\n",
        "    )\n",
        "\n",
        "    # Create a client\n",
        "    client = discoveryengine.EngineServiceClient(client_options=client_options)\n",
        "\n",
        "    # The full resource name of the engine\n",
        "    # e.g. projects/{project}/locations/{location}/collections/default_collection/engines/{engine_id}\n",
        "    name = client.engine_path(\n",
        "        project=project_id,\n",
        "        location=location,\n",
        "        collection=\"default_collection\",\n",
        "        engine=engine_id,\n",
        "    )\n",
        "\n",
        "    # Make the request\n",
        "    operation = client.delete_engine(name=name)\n",
        "\n",
        "    print(f\"Operation: {operation.operation.name}\")\n",
        "\n",
        "    return operation.operation.name\n",
        "\n",
        "delete_engine_sample(PROJECT_ID, SEARCH_APP_REGION, SEARCH_APP_ID)"
      ]
    },
    {
      "cell_type": "markdown",
      "metadata": {
        "id": "Dg6dTjQWiDxO"
      },
      "source": [
        "## Delete the Data Store\n",
        "It can take a couple of hours for the data store id to be released. If you are going to rerun the notebook, Either use a different id, or wait for a couple of hours, or completely skip creating the datastore again and use the alredy created one."
      ]
    },
    {
      "cell_type": "code",
      "execution_count": null,
      "metadata": {
        "id": "_e7x1ZyeZvFC"
      },
      "outputs": [],
      "source": [
        "def delete_data_store(\n",
        "    project_id: str,\n",
        "    location: str,\n",
        "    data_store_id: str,\n",
        ") -> str:\n",
        "    #  For more information, refer to:\n",
        "    # https://cloud.google.com/generative-ai-app-builder/docs/locations#specify_a_multi-region_for_your_data_store\n",
        "    client_options = (\n",
        "        ClientOptions(api_endpoint=f\"{location}-discoveryengine.googleapis.com\")\n",
        "        if location != \"global\"\n",
        "        else None\n",
        "    )\n",
        "\n",
        "    # Create a client\n",
        "    client = discoveryengine.DataStoreServiceClient(client_options=client_options)\n",
        "\n",
        "    request = discoveryengine.DeleteDataStoreRequest(\n",
        "        # The full resource name of the data store\n",
        "        name=client.data_store_path(project_id, location, data_store_id)\n",
        "    )\n",
        "\n",
        "    # Make the request\n",
        "    operation = client.delete_data_store(request=request)\n",
        "\n",
        "    print(f\"Operation: {operation.operation.name}\")\n",
        "\n",
        "    return operation.operation.name\n",
        "delete_data_store(PROJECT_ID,DATA_STORE_LOCATION, DATA_STORE_ID)"
      ]
    }
  ],
  "metadata": {
    "colab": {
      "provenance": []
    },
    "kernelspec": {
      "display_name": "Python 3",
      "name": "python3"
    },
    "language_info": {
      "name": "python"
    }
  },
  "nbformat": 4,
  "nbformat_minor": 0
}
