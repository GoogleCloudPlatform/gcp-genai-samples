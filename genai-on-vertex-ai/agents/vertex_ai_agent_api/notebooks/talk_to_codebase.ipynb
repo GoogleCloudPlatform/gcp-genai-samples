{
  "nbformat": 4,
  "nbformat_minor": 0,
  "metadata": {
    "colab": {
      "provenance": []
    },
    "kernelspec": {
      "name": "python3",
      "display_name": "Python 3"
    },
    "language_info": {
      "name": "python"
    }
  },
  "cells": [
    {
      "cell_type": "code",
      "execution_count": null,
      "metadata": {
        "id": "M0ZY7AewpA-Y"
      },
      "outputs": [],
      "source": [
        "# Copyright 2024 Google LLC\n",
        "#\n",
        "# Licensed under the Apache License, Version 2.0 (the \"License\");\n",
        "# you may not use this file except in compliance with the License.\n",
        "# You may obtain a copy of the License at\n",
        "#\n",
        "#     https://www.apache.org/licenses/LICENSE-2.0\n",
        "#\n",
        "# Unless required by applicable law or agreed to in writing, software\n",
        "# distributed under the License is distributed on an \"AS IS\" BASIS,\n",
        "# WITHOUT WARRANTIES OR CONDITIONS OF ANY KIND, either express or implied.\n",
        "# See the License for the specific language governing permissions and\n",
        "# limitations under the License."
      ]
    },
    {
      "cell_type": "markdown",
      "source": [
        "<table align=\"left\">\n",
        "  <td style=\"text-align: center\">\n",
        "    <a href=\"https://colab.research.google.com/github/GoogleCloudPlatform/applied-ai-engineering-samples/blob/agents-api-notebooks/genai-on-vertex-ai/agents/vertex_ai_agent_api/notebooks/talk_to_codebase.ipynb\">\n",
        "      <img width=\"32px\" src=\"https://www.gstatic.com/pantheon/images/bigquery/welcome_page/colab-logo.svg\" alt=\"Google Colaboratory logo\"><br> Open in Colab\n",
        "    </a>\n",
        "  </td>\n",
        "  <td style=\"text-align: center\">\n",
        "    <a href=\"https://console.cloud.google.com/vertex-ai/colab/import/https:%2F%2Fraw.githubusercontent.com%2FGoogleCloudPlatform%2Fapplied-ai-engineering-samples%2Fagents-api-notebooks%2Fgenai-on-vertex-ai%2Fagents%2Fvertex_ai_agent_api%2Fnotebooks%2Ftalk_to_codebase.ipynb\">\n",
        "      <img width=\"32px\" src=\"https://lh3.googleusercontent.com/JmcxdQi-qOpctIvWKgPtrzZdJJK-J3sWE1RsfjZNwshCFgE_9fULcNpuXYTilIR2hjwN\" alt=\"Google Cloud Colab Enterprise logo\"><br> Open in Colab Enterprise\n",
        "    </a>\n",
        "  </td>\n",
        "  <td style=\"text-align: center\">\n",
        "    <a href=\"https://console.cloud.google.com/vertex-ai/workbench/deploy-notebook?download_url=https://raw.githubusercontent.com/GoogleCloudPlatform/applied-ai-engineering-samples/agents-api-notebooks/genai-on-vertex-ai/agents/vertex_ai_agent_api/notebooks/talk_to_codebase.ipynb\">\n",
        "      <img src=\"https://www.gstatic.com/images/branding/gcpiconscolors/vertexai/v1/32px.svg\" alt=\"Vertex AI logo\"><br> Open in Vertex AI Workbench\n",
        "    </a>\n",
        "  </td>\n",
        "  <td style=\"text-align: center\">\n",
        "    <a href=\"https://github.com/GoogleCloudPlatform/applied-ai-engineering-samples/blob/agents-api-notebooks/genai-on-vertex-ai/agents/vertex_ai_agent_api/notebooks/talk_to_codebase.ipynb\">\n",
        "      <img width=\"32px\" src=\"https://upload.wikimedia.org/wikipedia/commons/9/91/Octicons-mark-github.svg\" alt=\"GitHub logo\"><br> View on GitHub\n",
        "    </a>\n",
        "  </td>\n",
        "</table>"
      ],
      "metadata": {
        "id": "vnYGs4tQpc8T"
      }
    },
    {
      "cell_type": "markdown",
      "source": [
        "| | |\n",
        "|-|-|\n",
        "|Author(s) | [Shivam Somani](https://github.com/somanishivam) |\n",
        "| | [Driti Singh](https://github.com/dritisingh) |\n",
        "| | [Christos Aniftos](https://github.com/anifort) |\n",
        "|Reviewer(s) | [Meltem Subasioglu](https://github.com/5y5tem) |\n",
        "|Last updated | October 24, 2024 |"
      ],
      "metadata": {
        "id": "mSRiftwLpwaL"
      }
    },
    {
      "cell_type": "markdown",
      "source": [
        "# Overview\n",
        "In this notebook, we will show you how to chat with your codebase, webpage with code bugs and feature requests, and your documents such as code style guidelines using Agent API.\n",
        "\n",
        "We will be setting up the following:\n",
        "1. Codebase Ingestion into Gemini's Long Context\n",
        "2. Web Browser Extension for finding reported code issues\n",
        "3. Search Extension for Code Style document search\n",
        "\n",
        "\n",
        "\n"
      ],
      "metadata": {
        "id": "mBrVXtMQ0Tc4"
      }
    },
    {
      "cell_type": "markdown",
      "source": [
        " ## Vertex AI Agent API\n",
        "\n",
        "[Vertex AI Agent API](https://cloud.google.com/vertex-ai/generative-ai/docs/agent-api/overview) is an API for creating and managing Generative AI systems called \"agents\" that can  reason, plan, and act to perform specific tasks.\n",
        "\n",
        " Vertex AI Agent API offers faster time to market than building agents from scratch while still being flexible and customizable. It handles orchestraction and state management, gives you the benefits of Google's expertise in building reliable AI systems, scales in a secure and responsible way, and seamlessly integrates with other Vertex AI and Google Cloud products."
      ],
      "metadata": {
        "id": "L-Hmybm1rrXy"
      }
    },
    {
      "cell_type": "markdown",
      "source": [
        "## Using This Notebook\n",
        "\n",
        "Colab is recommended for running this notebook, but it can run in any iPython environment where you can connect to Google Cloud, install pip packages, etc.\n",
        "\n",
        "If you're running outside of Colab and encountering issues, the [Getting Started with Vertex AI Agent notebook](https://github.com/GoogleCloudPlatform/applied-ai-engineering-samples/blob/agents-api-notebooks/genai-on-vertex-ai/agents/vertex_ai_agent_api/notebooks/getting_started_vertex_agent_api.ipynb) has some troubleshooting tips.\n",
        "\n",
        "This tutorial uses the following Google Cloud services and resources:\n",
        "\n",
        "* [Vertex AI Agent API](https://cloud.google.com/vertex-ai/generative-ai/docs/agent-api/overview)\n",
        "* Cloud Storage API\n",
        "* Vertex AI API\n",
        "* Vertex AI Search API and Webpage Broswer Extensions\n",
        "\n",
        "This notebook has been tested in the following environment:\n",
        "\n",
        "* Python version = 3.10.12\n",
        "* [google-cloud-aiplatform](https://pypi.org/project/google-cloud-aiplatform/) version = 1.5.5\n",
        "\n",
        "**Note:** Vertex AI Extensions requires google-cloud-aiplatform version >= 1.47.0"
      ],
      "metadata": {
        "id": "x3wbiIrNrzrf"
      }
    },
    {
      "cell_type": "markdown",
      "source": [
        "## Useful Tips\n",
        "\n",
        "1. This notebook uses Generative AI cababilities. Re-running a cell that uses Generative AI capabilities may produce similar but not identical results.\n",
        "2. Because of #1, it is possible that an output produces errors. If that happens re-run the cell that produced the error. The re-run will likely be bug free.\n",
        "3. The use of Generative AI capabilities is subject to service quotas. Running the notebook using \"Run All\" may exceed your queries per minute (QPM) limitations. Run the notebook manually and if you get a quota error pause for up to 1 minute before retrying that cell. The Vertex AI Agent API defaults to Gemini on the backend and is subject to the Gemini quotas, <a href=\"https://console.cloud.google.com/iam-admin/quotas?pageState=(%22allQuotasTable%22:(%22f%22:%22%255B%257B_22k_22_3A_22_22_2C_22t_22_3A10_2C_22v_22_3A_22_5C_22base_model_5C_22_22%257D_2C%257B_22k_22_3A_22_22_2C_22t_22_3A10_2C_22v_22_3A_22_5C_22gemini_5C_22_22%257D%255D%22%29%29&e=13802955&mods=logs_tg_staging\" >view your Gemini quotas here</a>.\n"
      ],
      "metadata": {
        "id": "4EF0nAR2_3UA"
      }
    },
    {
      "cell_type": "markdown",
      "source": [
        "# Setup"
      ],
      "metadata": {
        "id": "c_gG-aiptD4g"
      }
    },
    {
      "cell_type": "markdown",
      "source": [
        "## Enable APIs and Set Permissions\n",
        "1. [Select or create a Google Cloud project](https://console.cloud.google.com/cloud-resource-manager). When you first create an account, you get a $300 free credit towards your compute/storage costs.\n",
        "1. [Make sure that billing is enabled for your project](https://cloud.google.com/billing/docs/how-to/modify-project).\n",
        "1. [Enable the Service Usage API](https://console.cloud.google.com/apis/library/serviceusage.googleapis.com)\n",
        "1. [Enable the Vertex AI API](https://console.cloud.google.com/flows/enableapi?apiid=aiplatform.googleapis.com).\n",
        "1. [Enable the Cloud Storage API](https://console.cloud.google.com/flows/enableapi?apiid=storage.googleapis.com).\n",
        "1. [Enable the Discovery Engine API for your project](https://console.cloud.google.com/marketplace/product/google/discoveryengine.googleapis.com)\n",
        "1. [Enable the Agent Builder API](https://console.cloud.google.com/gen-app-builder/start)\n",
        "\n",
        "To run the complete Notebook, you will need to have the following [roles](https://cloud.google.com/iam/docs/granting-changing-revoking-access) for your project:\n",
        "\n",
        "* **`roles/serviceusage.serviceUsageAdmin`** to enable APIs\n",
        "* **`roles/iam.serviceAccountAdmin`** to modify service agent permissions\n",
        "* **`roles/discoveryengine.admin`** to modify discoveryengine assets\n",
        "* **`roles/aiplatform.admin`** to create and use AI Platform components\n",
        "* **`roles/storage.objectAdmin`** to modify and delete GCS buckets\n",
        "\n"
      ],
      "metadata": {
        "id": "B0YR1OX5sB5U"
      }
    },
    {
      "cell_type": "markdown",
      "source": [
        "### Authenticating your notebook environment\n",
        "\n",
        "TODO: Remove for Public Preview"
      ],
      "metadata": {
        "id": "PmUabSyPs4tV"
      }
    },
    {
      "cell_type": "code",
      "source": [
        "import sys\n",
        "\n",
        "if \"google.colab\" in sys.modules:\n",
        "    from google.colab import auth as google_auth\n",
        "    google_auth.authenticate_user()\n",
        "    print(\"authenticated\")"
      ],
      "metadata": {
        "id": "DmRYnnybpj1t"
      },
      "execution_count": null,
      "outputs": []
    },
    {
      "cell_type": "markdown",
      "source": [
        "## Install the Google Cloud Vertex AI Python SDK\n",
        "\n",
        "TODO: Update to public pip and retest notebook (in and out of colab) at public preview.\n",
        "\n",
        "The code blocks below download and install the Vertex AI Agent API Python SDK."
      ],
      "metadata": {
        "id": "rfy4qTEDtJk0"
      }
    },
    {
      "cell_type": "code",
      "source": [
        "WHL_FILEPATH = \"gs://vertex_sdk_private_releases/agents_v2/google_cloud_aiplatform-1.71.dev20241017+vertex.agents.v2-py2.py3-none-any.whl\"\n",
        "!gsutil cp {WHL_FILEPATH} .\n",
        "\n",
        "# Install the private SDK\n",
        "!pip install --quiet {WHL_FILEPATH.split(\"/\")[-1]} \"numpy<2.0.0\" --force-reinstall"
      ],
      "metadata": {
        "id": "w3y1E5uAAUMx"
      },
      "execution_count": null,
      "outputs": []
    },
    {
      "cell_type": "code",
      "source": [
        "#%pip install --quiet --upgrade google-auth\n",
        "#%%pip install --quiet -U \"pandas==2.2.2\"\n",
        "%pip install google-cloud-discoveryengine --upgrade"
      ],
      "metadata": {
        "id": "WF45ie0BtNDy"
      },
      "execution_count": null,
      "outputs": []
    },
    {
      "cell_type": "markdown",
      "source": [
        "### Restart Runtime\n",
        "\n",
        "You may need to restart your notebook runtime to use the Vertex AI SDK. You can do this by running the cell below, which restarts the current kernel.\n",
        "\n",
        "You may see the restart reported as a crash, but it is working as-intended -- you are merely restarting the runtime.\n",
        "\n",
        "The restart might take a minute or longer. After its restarted, continue to the next step."
      ],
      "metadata": {
        "id": "2UVupcGMtanN"
      }
    },
    {
      "cell_type": "code",
      "source": [
        "# Restart kernel after installs so that your environment can access the new packages\n",
        "import IPython\n",
        "\n",
        "app = IPython.Application.instance()\n",
        "app.kernel.do_shutdown(True)"
      ],
      "metadata": {
        "id": "1A4fhfJNtcxQ"
      },
      "execution_count": null,
      "outputs": []
    },
    {
      "cell_type": "markdown",
      "source": [
        "# Initialize the Google Cloud Vertex AI Python SDK\n",
        "\n",
        "To get started using Vertex AI, you must have an existing Google Cloud project and [enable the Vertex AI API](https://console.cloud.google.com/flows/enableapi?apiid=aiplatform.googleapis.com).\n",
        "\n",
        "Learn more about [setting up a project and a development environment](https://cloud.google.com/vertex-ai/docs/start/cloud-environment).\n"
      ],
      "metadata": {
        "id": "HqeFu4nDtx3f"
      }
    },
    {
      "cell_type": "markdown",
      "source": [
        "### Set Your Project ID"
      ],
      "metadata": {
        "id": "lpvJOCahCBiC"
      }
    },
    {
      "cell_type": "code",
      "source": [
        "PROJECT_ID = \"YOUR_PROJECT_ID_HERE\"  # @param {type:\"string\"}"
      ],
      "metadata": {
        "id": "8rngQ1_hCAfr"
      },
      "execution_count": null,
      "outputs": []
    },
    {
      "cell_type": "markdown",
      "source": [
        "### Set the Region"
      ],
      "metadata": {
        "id": "LbBBX0YkCNmj"
      }
    },
    {
      "cell_type": "code",
      "source": [
        "REGION = \"us-central1\"  # @param {type: \"string\"}"
      ],
      "metadata": {
        "id": "U5j8EkSICJmM"
      },
      "execution_count": null,
      "outputs": []
    },
    {
      "cell_type": "markdown",
      "source": [
        "### Authenticate your notebook environment (Colab only)\n",
        "\n",
        "If you are running this notebook on Google Colab, run the following cell to authenticate your environment. This step is not required if you are using [Vertex AI Workbench](https://cloud.google.com/vertex-ai-workbench).\n",
        "\n",
        "If you outside of Colab and are having problems authenticating, see the Authentication section in the [Getting Started with the Vertex AI Agent API](https://github.com/GoogleCloudPlatform/applied-ai-engineering-samples/blob/agents-api-notebooks/genai-on-vertex-ai/vertex_ai_agent_api/notebooks/getting_started_vertex_agent_api.ipynb) notebook."
      ],
      "metadata": {
        "id": "Lhi54hHyti4H"
      }
    },
    {
      "cell_type": "code",
      "source": [
        "import sys\n",
        "\n",
        "# Additional authentication is required for Google Colab\n",
        "if \"google.colab\" in sys.modules:\n",
        "    # Authenticate user to Google Cloud\n",
        "    from google.colab import auth\n",
        "\n",
        "    auth.authenticate_user(project_id=PROJECT_ID)"
      ],
      "metadata": {
        "id": "8Q6RFNr6tjgF"
      },
      "execution_count": null,
      "outputs": []
    },
    {
      "cell_type": "markdown",
      "source": [
        "### Import and Initialize the Vertex AI Python SDK"
      ],
      "metadata": {
        "id": "8AUXhZ5tCTsZ"
      }
    },
    {
      "cell_type": "code",
      "source": [
        "import vertexai\n",
        "vertexai.init(project=PROJECT_ID, location=REGION)"
      ],
      "metadata": {
        "id": "BRI5RvxnucE-"
      },
      "execution_count": null,
      "outputs": []
    },
    {
      "cell_type": "markdown",
      "source": [
        "# Setup Codebase context and Function tool for answering questions"
      ],
      "metadata": {
        "id": "2kNZN8WXSj6w"
      }
    },
    {
      "cell_type": "markdown",
      "source": [
        "## Step 1: Load Codebase as Context Caching for the LLM"
      ],
      "metadata": {
        "id": "BmfnxvysUeR4"
      }
    },
    {
      "cell_type": "markdown",
      "source": [
        "This step ingests and parses codebase in long context.\n",
        "\n",
        "Load codebase from a public github link.\n",
        "By default in this demo we use the [Bank of Anthos](https://github.com/GoogleCloudPlatform/bank-of-anthos) but you can change the default git repo link to something else. As we do not use authentication with github in this notebook the githup link should be public.\n",
        "\n",
        "The steos executed below are:\n",
        "1. Create a bucket if it does not exists to upload the based code\n",
        "1. Clone the git repo to the local storage where this notebook runs\n",
        "1. Upload the code from local to the created bucket\n"
      ],
      "metadata": {
        "id": "fAL23nf_TDsg"
      }
    },
    {
      "cell_type": "code",
      "source": [
        "GIT_REPO = \"https://github.com/GoogleCloudPlatform/bank-of-anthos\" # @param {type:\"string\"}\n",
        "CODE_FOLDER = GIT_REPO.split('/')[-1] #Default sub folder name in your gcs bucket. You can use this one."
      ],
      "metadata": {
        "id": "_0lgGhBu512_"
      },
      "execution_count": null,
      "outputs": []
    },
    {
      "cell_type": "code",
      "source": [
        "GUIDELINES_BUCKET = f\"{PROJECT_ID}-coding-guidelines\""
      ],
      "metadata": {
        "id": "xbxkrsRtEtm3"
      },
      "execution_count": null,
      "outputs": []
    },
    {
      "cell_type": "code",
      "source": [
        "# Create a GCS bucket if you don't have one\n",
        "! set -x && gsutil mb -p $PROJECT_ID -l us-central1 gs://$GUIDELINES_BUCKET"
      ],
      "metadata": {
        "id": "EA4O5q_N7df5"
      },
      "execution_count": null,
      "outputs": []
    },
    {
      "cell_type": "code",
      "source": [
        "!git clone {GIT_REPO} && rm -rf ./{CODE_FOLDER}/.git"
      ],
      "metadata": {
        "id": "kmSqcsOhADqz"
      },
      "execution_count": null,
      "outputs": []
    },
    {
      "cell_type": "markdown",
      "source": [
        "## Step 2: Parse code files"
      ],
      "metadata": {
        "id": "YkekLRjRUqFC"
      }
    },
    {
      "cell_type": "markdown",
      "source": [
        "In this step we process the code files and we append them together to create a long context string. Non text base file types such as images will benerate a warning. You can ingnore those warning as our context should a consolidation of the text files found in the repository"
      ],
      "metadata": {
        "id": "L_9B_k7VSqVy"
      }
    },
    {
      "cell_type": "code",
      "source": [
        "import glob, os\n",
        "\n",
        "codebase = \"\"\n",
        "id_counter = 1\n",
        "for filename in glob.iglob(CODE_FOLDER + '**/**', recursive=True):\n",
        "  if os.path.isfile(filename):\n",
        "    try:\n",
        "      with open(filename) as f:\n",
        "        codebase += f\"{filename}:\\n{ f.read()}\\nEOF\\n\\n\"\n",
        "        id_counter += 1\n",
        "    except UnicodeDecodeError as e:\n",
        "        print(f\"Warning decoding {filename}: {e}\")\n",
        "\n",
        "print(f\"\\n #{id_counter} files processed. \\nContext length of {len(codebase)}\")\n"
      ],
      "metadata": {
        "id": "AWEdO5QE1yNA"
      },
      "execution_count": null,
      "outputs": []
    },
    {
      "cell_type": "markdown",
      "source": [
        "## Step 3: Create model with long context window and caching with a 30 minute TTL\n",
        "\n",
        "Aleternative to vector store, and having availability of large token context, We will be creating a long context using [Context Caching](https://cloud.google.com/vertex-ai/generative-ai/docs/context-cache/context-cache-overview). Cached context items, such as a large amount of text, an audio file, or a video file, can be used in prompt requests to the Gemini API to generate output\n",
        "\n",
        "**RAG would be preferable in case of [supported files](https://cloud.google.com/vertex-ai/generative-ai/docs/rag-overview#supported-doc-types). Since codebase have many different doc types RAG is not used here."
      ],
      "metadata": {
        "id": "_h6MWBJxTTm8"
      }
    },
    {
      "cell_type": "code",
      "source": [
        "import datetime\n",
        "from vertexai.preview import caching\n",
        "from vertexai.preview.generative_models import (\n",
        "    #Content,\n",
        "    FunctionDeclaration,\n",
        "    GenerativeModel,\n",
        "    Part,\n",
        "    #Tool,\n",
        ")"
      ],
      "metadata": {
        "id": "lPqzWPOHU65T"
      },
      "execution_count": null,
      "outputs": []
    },
    {
      "cell_type": "code",
      "source": [
        "MODEL_NAME = 'gemini-1.5-flash-002' # @param {type:\"string\"}"
      ],
      "metadata": {
        "id": "5jkB1BoIFZ-h"
      },
      "execution_count": null,
      "outputs": []
    },
    {
      "cell_type": "code",
      "source": [
        "\"\"\"creates cache content object\"\"\"\n",
        "\n",
        "SYSTEM_INSTRUCTION = (\n",
        "    'You are an expert on a codebase, and your job is to answer '\n",
        "    'the user\\'s query based on the codebase you have access to'\n",
        ")\n",
        "\n",
        "cached_content = caching.CachedContent.create(\n",
        "    model_name=MODEL_NAME,\n",
        "    system_instruction=SYSTEM_INSTRUCTION,\n",
        "    contents=[codebase],\n",
        "    ttl=datetime.timedelta(minutes=30),\n",
        ")"
      ],
      "metadata": {
        "id": "NFDE8SrOTUtY"
      },
      "execution_count": null,
      "outputs": []
    },
    {
      "cell_type": "markdown",
      "source": [
        "Create model reference with cached content"
      ],
      "metadata": {
        "id": "BQptW9rAXvIN"
      }
    },
    {
      "cell_type": "code",
      "source": [
        "model_with_cache = GenerativeModel.from_cached_content(cached_content=cached_content)"
      ],
      "metadata": {
        "id": "yPeYTDLbT4j2"
      },
      "execution_count": null,
      "outputs": []
    },
    {
      "cell_type": "markdown",
      "source": [
        "## Step 4: Defining Tool for Codebase answers using Function Declaration"
      ],
      "metadata": {
        "id": "ChpU49PS6AZF"
      }
    },
    {
      "cell_type": "markdown",
      "source": [
        "In this section we are creating and defining a function that the agents can use to answer codebase queries.\n",
        "\n",
        "In order for your agent to call a function, you need to provide some information about the function to call. You can use the FunctionDeclaration class to construct the function declaration you wish to use, and add this to your app when you create or update. You can read more on [function calling here.](https://cloud.google.com/vertex-ai/generative-ai/docs/multimodal/function-calling)"
      ],
      "metadata": {
        "id": "GaDJXXWcUPr1"
      }
    },
    {
      "cell_type": "markdown",
      "source": [
        "First lets creating the function  for answering codebase queries using the model_with_cache that we created in the previous step."
      ],
      "metadata": {
        "id": "YJZL-uCFT6JC"
      }
    },
    {
      "cell_type": "code",
      "source": [
        "def talk_to_codebase(user_query: str):\n",
        "\n",
        "    prompt= f\"\"\"\n",
        "You are an AI assistant helping the users with their questions on a codebase.\n",
        "Rules:\n",
        "1. Give detailed information for the questions asked by users.\n",
        "2. Do not make up the answer.\n",
        "3. If the question is not related to the codebase, respond with a polite message that you can not help with the query and ask user if they have any question related to the codebase.\n",
        "\n",
        "Question: {user_query}\n",
        "    \"\"\"\n",
        "    response = model_with_cache.generate_content([prompt]).text\n",
        "    return {\"context\": response}"
      ],
      "metadata": {
        "id": "pWsx5McIT_v4"
      },
      "execution_count": null,
      "outputs": []
    },
    {
      "cell_type": "markdown",
      "source": [
        "Now we must create a function declaration. this declaration describes the function purpose and the interface (parameters it accepts). This way the agents know how to use this function. We will later pass this funciton declaration object to our agent"
      ],
      "metadata": {
        "id": "BteB2Y2UPrUY"
      }
    },
    {
      "cell_type": "code",
      "source": [
        "talk_to_codebase_declaration = FunctionDeclaration(\n",
        "    name=\"talk_to_codebase\",\n",
        "    description=\"Queries the Gemini model to answer questions about a codebase, providing detailed information and adhering to specific rules.\",\n",
        "    parameters={\n",
        "        \"type\": \"OBJECT\",\n",
        "        \"properties\": {\n",
        "            \"user_query\": {\n",
        "                \"type\": \"STRING\",\n",
        "                \"description\": \"The user's question about the codebase.\"\n",
        "            }\n",
        "        },\n",
        "        \"required\": [\n",
        "            \"user_query\"\n",
        "        ]\n",
        "    },\n",
        ")"
      ],
      "metadata": {
        "id": "l8XMCzk1Ucip"
      },
      "execution_count": null,
      "outputs": []
    },
    {
      "cell_type": "markdown",
      "source": [
        "# Setup Document Search with coding Style Guides\n",
        "\n",
        "In this part we are going to create a Vertex AI search engine which will be populated with coding style guides for 3 languages, Java, Python and Objective C.\n",
        "\n",
        "For more information check our public documentation on [how to set up unstructured data store in vertex ai search](https://cloud.google.com/generative-ai-app-builder/docs/create-data-store-es#cloud-storage)"
      ],
      "metadata": {
        "id": "5rRiqWLR6F6j"
      }
    },
    {
      "cell_type": "markdown",
      "source": [
        "#### 1) Download PDFs and Ingest Into GCS Bucket\n",
        "\n",
        "If you don't have gdown and gsutil, please install them. !pip install gdown, !pip install gsutil"
      ],
      "metadata": {
        "id": "JFMk2GJgIle1"
      }
    },
    {
      "cell_type": "code",
      "source": [
        "from google.cloud import storage\n",
        "import gdown\n",
        "def upload_blob(bucket_name, source_file_name, destination_blob_name):\n",
        "    \"\"\"Uploads a file to the bucket.\"\"\"\n",
        "    storage_client = storage.Client()\n",
        "    bucket = storage_client.bucket(bucket_name)\n",
        "    blob = bucket.blob(destination_blob_name)\n",
        "    generation_match_precondition = None\n",
        "    blob.upload_from_filename(source_file_name, if_generation_match=generation_match_precondition)\n",
        "    print(f\"File {source_file_name} uploaded to {destination_blob_name}.\")\n",
        "\n",
        "# Create a GCS bucket if you don't have one\n",
        "\n",
        "\n",
        "# Download the pdfs and ingest them to the GCS bucket\n",
        "base_url = \"https://raw.githubusercontent.com/GoogleCloudPlatform/applied-ai-engineering-samples/main/genai-on-vertex-ai/developer_productivity_with_genai/pdfs\"\n",
        "url_list = [\n",
        "  f\"{base_url}/Google%20Java%20Style%20Guide.pdf\",\n",
        "  f\"{base_url}/Google%20Objective-C%20Style%20Guide.pdf\",\n",
        "  f\"{base_url}/Google%20Python%20Style%20Guide.pdf\"]\n",
        "\n",
        "i=1\n",
        "for url in url_list:\n",
        "  filename_ = url.split('/')[-1].replace(\"%20\",\"_\")\n",
        "  gdown.download(url, filename_)\n",
        "  upload_blob(GUIDELINES_BUCKET,filename_,filename_)\n",
        "  i+=1"
      ],
      "metadata": {
        "id": "derp5q5FHR6p"
      },
      "execution_count": null,
      "outputs": []
    },
    {
      "cell_type": "markdown",
      "source": [
        "#### 2) Create a Vertex AI Search Data Store\n",
        "The Vertex AI Search extension needs a [Data Store and Vertex AI Search App](https://cloud.google.com/generative-ai-app-builder/docs/create-datastore-ingest) to run. After creating the data store using the cell below, You can inspect it under: https://console.cloud.google.com/gen-app-builder/data-stores"
      ],
      "metadata": {
        "id": "7W7ZfEa9ew3y"
      }
    },
    {
      "cell_type": "code",
      "source": [
        "# Specify name, id, location for your datastore & Search engine id\n",
        "DATA_STORE_NAME = \"code-guidelines-datastore\" # @param {type:\"string\"}\n",
        "DATA_STORE_ID = \"code-guidelines-datastore-id\" # @param {type:\"string\"}\n",
        "DATA_STORE_LOCATION = \"global\" #@param {type:\"string\"}"
      ],
      "metadata": {
        "id": "CTmfue1nGlww"
      },
      "execution_count": null,
      "outputs": []
    },
    {
      "cell_type": "code",
      "source": [
        "from google.cloud import discoveryengine_v1 as discoveryengine\n",
        "from google.api_core.client_options import ClientOptions\n",
        "from google.api_core.exceptions import AlreadyExists\n",
        "\n",
        "def create_data_store(\n",
        "    project_id: str,\n",
        "    location: str,\n",
        "    data_store_name: str,\n",
        "    data_store_id: str\n",
        "):\n",
        "    # Create a client\n",
        "    client_options = (\n",
        "        ClientOptions(api_endpoint=f\"{location}-discoveryengine.googleapis.com\")\n",
        "        if location != \"global\"\n",
        "        else None\n",
        "    )\n",
        "    client = discoveryengine.DataStoreServiceClient(client_options=client_options)\n",
        "\n",
        "    # Initialize request argument(s)\n",
        "    data_store = discoveryengine.DataStore(\n",
        "        display_name=data_store_name,\n",
        "        industry_vertical=discoveryengine.IndustryVertical.GENERIC,\n",
        "        solution_types=[discoveryengine.SolutionType.SOLUTION_TYPE_SEARCH],\n",
        "        content_config=discoveryengine.DataStore.ContentConfig.CONTENT_REQUIRED,\n",
        "    )\n",
        "    parent=client.collection_path(\n",
        "            project_id, location, \"default_collection\"\n",
        "        )\n",
        "\n",
        "    request = discoveryengine.CreateDataStoreRequest(\n",
        "        parent=parent,\n",
        "        data_store=data_store,\n",
        "        data_store_id=data_store_id,\n",
        "    )\n",
        "\n",
        "\n",
        "\n",
        "    try:\n",
        "      operation = client.create_data_store(request=request)\n",
        "      # Make the request\n",
        "      # The try block is necessary to prevent execution from halting due to an error being thrown when the datastore takes a while to instantiate\n",
        "      try:\n",
        "          response = operation.result(timeout=90)\n",
        "          print(response)\n",
        "      except:\n",
        "          print(\"long-running operation\")\n",
        "    except AlreadyExists as e:\n",
        "      print(f\"Datastore {data_store_name} under {parent} already exist.\\nSkipping create opperation\")\n",
        "\n",
        "\n",
        "create_data_store(PROJECT_ID, DATA_STORE_LOCATION, DATA_STORE_NAME, DATA_STORE_ID) # datastore name can only contain lowercase letters, numbers, and hyphens"
      ],
      "metadata": {
        "id": "hZzJ2bmWfCeV"
      },
      "execution_count": null,
      "outputs": []
    },
    {
      "cell_type": "markdown",
      "source": [
        "#### 3) Ingest PDF Files in the GCS bucket into the Vertex AI Search Data Store"
      ],
      "metadata": {
        "id": "BpRZ6JQTIi4m"
      }
    },
    {
      "cell_type": "code",
      "source": [
        "from google.api_core.client_options import ClientOptions\n",
        "from typing import Optional\n",
        "\n",
        "def import_documents(\n",
        "    project_id: str,\n",
        "    location: str,\n",
        "    data_store_id: str,\n",
        "    gcs_uri: Optional[str] = None) -> str:\n",
        "    \"\"\"Imports documents into a Vertex AI data store from GCS.\n",
        "    This function imports documents into a specified data store within Vertex AI\n",
        "    Agent Builder from a GCS bucket.\n",
        "    \"\"\"\n",
        "    client_options = (\n",
        "        ClientOptions(api_endpoint=f\"{location}-discoveryengine.googleapis.com\")\n",
        "        if location != \"global\"\n",
        "        else None\n",
        "    )\n",
        "    client = discoveryengine.DocumentServiceClient(client_options=client_options)\n",
        "    # The full resource name of the search engine branch.\n",
        "    parent = client.branch_path(\n",
        "        project=project_id,\n",
        "        location=location,\n",
        "        data_store=data_store_id,\n",
        "        branch=\"default_branch\",)\n",
        "\n",
        "    request = discoveryengine.ImportDocumentsRequest(\n",
        "        parent=parent,\n",
        "        gcs_source=discoveryengine.GcsSource(\n",
        "            input_uris=[gcs_uri], data_schema=\"content\"\n",
        "        ),\n",
        "        # Options: `FULL`, `INCREMENTAL`\n",
        "        reconciliation_mode=discoveryengine.ImportDocumentsRequest.ReconciliationMode.INCREMENTAL,)\n",
        "    # Make the request\n",
        "    operation = client.import_documents(request=request)\n",
        "    print(f\"Waiting for operation to complete: {operation.operation.name}\\nDepending on data size, this might take few minutes\")\n",
        "    response = operation.result()\n",
        "    # Once the operation is complete, get information from operation metadata.\n",
        "    metadata = discoveryengine.ImportDocumentsMetadata(operation.metadata)\n",
        "    # Handle the response.\n",
        "    print(response)\n",
        "    print(metadata)\n",
        "    return operation.operation.name\n",
        "\n",
        "# Ingest pdfs in the GCS bucket to the data store\n",
        "GCS_URI = f\"gs://{GUIDELINES_BUCKET}/*.pdf\"\n",
        "import_documents(PROJECT_ID, \"global\", DATA_STORE_ID, GCS_URI)"
      ],
      "metadata": {
        "id": "VWvJpBCngqzK"
      },
      "execution_count": null,
      "outputs": []
    },
    {
      "cell_type": "markdown",
      "source": [
        "#### 4) Create a Vertex Search App and Connect it to the Data Store\n",
        "The following cell lets you create a Vertex AI Search App to ✨**connect**✨ to your newly created data store. Need to enable searchTier and searchAddOns for the Vertex AI Search Extension to work as shown in the cell below. Read more about [Advanced Features](https://cloud.google.com/generative-ai-app-builder/docs/about-advanced-features)\n"
      ],
      "metadata": {
        "id": "5zx94_ppHba-"
      }
    },
    {
      "cell_type": "code",
      "source": [
        "SEARCH_APP_ID = \"code-guidelines-datastore-engine\" # @param {type:\"string\"}\n",
        "SEARCH_APP_REGION = DATA_STORE_LOCATION"
      ],
      "metadata": {
        "id": "7uoATvSKH4IH"
      },
      "execution_count": null,
      "outputs": []
    },
    {
      "cell_type": "code",
      "source": [
        "def create_engine(\n",
        "    project_id: str, location: str, data_store_id: str, search_engine_id: str\n",
        "):\n",
        "    # Create a client\n",
        "    client_options = (\n",
        "        ClientOptions(api_endpoint=f\"{location}-discoveryengine.googleapis.com\")\n",
        "        if location != \"global\"\n",
        "        else None\n",
        "    )\n",
        "    client = discoveryengine.EngineServiceClient(client_options=client_options)\n",
        "\n",
        "    # Initialize request argument(s)\n",
        "    config = discoveryengine.Engine.SearchEngineConfig(\n",
        "        search_tier=discoveryengine.SearchTier.SEARCH_TIER_ENTERPRISE, search_add_ons=[discoveryengine.SearchAddOn.SEARCH_ADD_ON_LLM]\n",
        "    )\n",
        "\n",
        "    engine = discoveryengine.Engine(\n",
        "        display_name=search_engine_id,\n",
        "        solution_type=discoveryengine.SolutionType.SOLUTION_TYPE_SEARCH,\n",
        "        industry_vertical=discoveryengine.IndustryVertical.GENERIC,\n",
        "        data_store_ids=[data_store_id],\n",
        "        search_engine_config=config,\n",
        "    )\n",
        "    parent=discoveryengine.DataStoreServiceClient.collection_path(\n",
        "              project_id, location, \"default_collection\"\n",
        "    )\n",
        "    try:\n",
        "      request = discoveryengine.CreateEngineRequest(\n",
        "          parent=parent,\n",
        "          engine=engine,\n",
        "          engine_id=engine.display_name,\n",
        "      )\n",
        "      # Make the request\n",
        "      operation = client.create_engine(request=request)\n",
        "      response = operation.result(timeout=90)\n",
        "      print(response)\n",
        "\n",
        "    except AlreadyExists as e:\n",
        "      print(f\"Search Engine {search_engine_id} under {parent} already exist.\\nSkipping create opperation\")\n",
        "\n",
        "\n",
        "create_engine(PROJECT_ID, SEARCH_APP_REGION, DATA_STORE_ID, SEARCH_APP_ID)"
      ],
      "metadata": {
        "id": "7oZ4NEcnHe8J"
      },
      "execution_count": null,
      "outputs": []
    },
    {
      "cell_type": "markdown",
      "source": [
        "After you create the search app, you can use search extension to connect to it to extract the coding best pracitces. Below cells show you how to get the information using search extension. You can read more about search extension [here](https://cloud.google.com/vertex-ai/generative-ai/docs/extensions/vertex-ai-search)."
      ],
      "metadata": {
        "id": "8b6hVoSWfveb"
      }
    },
    {
      "cell_type": "code",
      "source": [
        "from google.cloud.aiplatform.private_preview.vertex_agents_v2.extensions import Extension\n",
        "\n",
        "SEARCH_CONFIG  = f\"projects/{PROJECT_ID}/locations/{SEARCH_APP_REGION}/collections/default_collection/engines/{SEARCH_APP_ID}/servingConfigs/default_search\"\n",
        "search_extension = Extension.from_hub(\n",
        "    \"vertex_ai_search\",\n",
        "    runtime_config={\n",
        "        \"vertex_ai_search_runtime_config\": {\n",
        "            \"serving_config_name\": SEARCH_CONFIG,\n",
        "        }\n",
        "    })"
      ],
      "metadata": {
        "id": "C6Qr1WQd67JG"
      },
      "execution_count": null,
      "outputs": []
    },
    {
      "cell_type": "markdown",
      "source": [
        "## Setting up Web Search for code issues\n",
        "In this step we will be creating Web browser extension provided by Google. Webpage browser extension downloads information from the URL you specifcy in the prompt. We will use `Extension.from_hub(...)` to set up the extension.\n",
        "\n",
        "We will specify in our prompt instructions that we want to only search the URL below which contains issues within the Bank of Anthos repository"
      ],
      "metadata": {
        "id": "UN6sJQF57NEN"
      }
    },
    {
      "cell_type": "code",
      "source": [
        "ISSUES_URL = \"https://github.com/GoogleCloudPlatform/bank-of-anthos/issues\" # @param {type:\"string\"}\n",
        "webpage_browser_extension = Extension.from_hub(\n",
        "\"webpage_browser\",\n",
        ")"
      ],
      "metadata": {
        "id": "9B9m6Kz07anJ"
      },
      "execution_count": null,
      "outputs": []
    },
    {
      "cell_type": "markdown",
      "source": [
        "##Create an Agent with tools\n",
        "\n",
        "In this section we will create ah Agent with vertex search, Webpage Browser extension, & function calling tool for talk-to-codebase. Agent will follow the instructions to call necessary tools."
      ],
      "metadata": {
        "id": "_daempgu6Eur"
      }
    },
    {
      "cell_type": "code",
      "source": [
        "from google.cloud.aiplatform.private_preview.vertex_agents_v2 import agents,sessions\n",
        "\n",
        "DISPLAY_NAME = \"Developer Assist Agent\"\n",
        "\n",
        "INSTRUCTIONS = f\"\"\"\n",
        "You are an expert developer assistant, who helps developer understand and answer question on codebase, search for relevant code issues and guide developer with coding style guide questions using only the\n",
        "tools and extensions available to you.\n",
        "\n",
        "Instructions:\n",
        "1. Identify if question is asking about any issues or bugs or feature requests, if yes use the url: {ISSUES_URL} and send the question and url to the web browser extension.  Use the extension response to answer the question\n",
        "2. Idenitfy if question is regarding a coding style, if yes Search using Search Extension. Use the extension response to answer the question\n",
        "3. Identify if question is to understand or get information on codebase, then use talk_to_codebase extension. Use the extension response to answer the question\n",
        "4. If question is unreleated to above, professionaly decline and tell you can only help with codebase, reported issues and coding style guides.\n",
        "\n",
        "DO NOT MAKE UP ANSWERS ON YOUR OWN, ALWAYS USE TOOLS TO RETRIEVE INFORMATION BASED ON ABOVE INSTRUCTIONS AND CONSTRUCT ANSWER BASED ON INFORMATION\"\"\"\n",
        "\n",
        "agent = agents.create(\n",
        "    display_name=DISPLAY_NAME,\n",
        "    instruction= INSTRUCTIONS,\n",
        "    model=\"gemini-1.5-pro\",\n",
        "    tools=[\n",
        "        webpage_browser_extension,\n",
        "        talk_to_codebase_declaration,\n",
        "        search_extension\n",
        "    ],\n",
        ")\n"
      ],
      "metadata": {
        "id": "ZBDns1Tt2imp"
      },
      "execution_count": null,
      "outputs": []
    },
    {
      "cell_type": "markdown",
      "source": [
        "A session represents a sequence of interactions between a user and an agent. Each conversation turn is composed of the following:\n",
        "\n",
        "* A user action, in which the user provides the prompt.\n",
        "* An agent action, in which the agent provides the response.\n",
        "* Zero or more tool use actions, in which a tool is invoked."
      ],
      "metadata": {
        "id": "CFMYYxujqFgX"
      }
    },
    {
      "cell_type": "code",
      "source": [
        "session = sessions.create(display_name=\"codebase-agent-session\")"
      ],
      "metadata": {
        "id": "MY2wAcYE6eJM"
      },
      "execution_count": null,
      "outputs": []
    },
    {
      "cell_type": "markdown",
      "source": [
        "### Example #1. Search for issues and featrure requests using `webpage_browser_extension` tool"
      ],
      "metadata": {
        "id": "KwawTf2cdaNA"
      }
    },
    {
      "cell_type": "code",
      "source": [
        "session_response = session.create_run(agent=agent, content= \"Describe the first 2 listed bugs of the bank of anthos repo?\")\n",
        "session_response"
      ],
      "metadata": {
        "id": "dW94yUZDc1cv"
      },
      "execution_count": null,
      "outputs": []
    },
    {
      "cell_type": "code",
      "source": [
        "print(str(session_response.steps[-1].content.parts[0].text))"
      ],
      "metadata": {
        "id": "xrNr9wJER1MA"
      },
      "execution_count": null,
      "outputs": []
    },
    {
      "cell_type": "code",
      "source": [
        "session_response = session.create_run(\n",
        "    agent=agent,\n",
        "    content= \"\"\"\n",
        "List all issues grouped by type. for example\n",
        "\n",
        "Bugs:\n",
        "1. detailed description of the bug...\n",
        "2...\n",
        "\n",
        "Feature Requests:\n",
        "...\n",
        "etc\n",
        "\n",
        "\"\"\")\n",
        "\n",
        "print(str(session_response.steps[-1].content.parts[0].text))"
      ],
      "metadata": {
        "id": "AoDmsVtEn9A_"
      },
      "execution_count": null,
      "outputs": []
    },
    {
      "cell_type": "markdown",
      "source": [
        "### Example #2. Query your codebase using `talk_to_codebase_declaration` tool"
      ],
      "metadata": {
        "id": "5cqmNzgcdkth"
      }
    },
    {
      "cell_type": "code",
      "source": [
        "session_response = session.create_run(agent=agent, content= \"What are the python library requirements in codebase? list them in a requirements.txt format\")\n",
        "session_response"
      ],
      "metadata": {
        "id": "eufvJBUMEUK6"
      },
      "execution_count": null,
      "outputs": []
    },
    {
      "cell_type": "markdown",
      "source": [
        "Agent here predicted a function call to talk_to_codebase with user_query parameter, lets call this function on client side and send back response to agent"
      ],
      "metadata": {
        "id": "sRCp5XWLEyFK"
      }
    },
    {
      "cell_type": "code",
      "source": [
        "if session_response.state == \"RUN_ACTION_REQUIRED\":\n",
        "  fc_content_parts = []\n",
        "  for content_part in session_response.steps:\n",
        "    fc = content_part.content.parts[0].to_dict().get(\"function_call\", None)\n",
        "    if fc is not None:\n",
        "      print(f\"calling function {fc['name']} with {fc['args']}\")\n",
        "      fc_content_parts.append(Part.from_function_response(\n",
        "          name=fc[\"name\"],\n",
        "          response=locals()[fc[\"name\"]](**fc[\"args\"])))\n",
        "\n",
        "  # continue the incomplete session run with the function calling reponses\n",
        "  if len(fc_content_parts)>0:\n",
        "    session_response = session.resume_run(\n",
        "        run = session_response,\n",
        "        content= fc_content_parts)\n",
        "\n",
        "session_response"
      ],
      "metadata": {
        "id": "vGVcDBDjSXcg"
      },
      "execution_count": null,
      "outputs": []
    },
    {
      "cell_type": "code",
      "source": [
        "print(str(session_response.steps[-1].content.parts[0].text))"
      ],
      "metadata": {
        "id": "KsPfYZZIVOv8"
      },
      "execution_count": null,
      "outputs": []
    },
    {
      "cell_type": "markdown",
      "source": [
        "Perfect! Now that we have an understanding on how function calling is triggered, lets pack the triggering of functions with the model call in a helper function. This function detects the need of function call and if needed, it will perform this action automatically and then return the final response. If there is no need for function calling it will simply return the initial model response. By combining the call and the processing and resuming the agent action we ensure that all our interactions with the agent reach a completed state."
      ],
      "metadata": {
        "id": "eNzf2FgufGrA"
      }
    },
    {
      "cell_type": "code",
      "source": [
        "def get_content_with_function_call(agent, content):\n",
        "  session_response = session.create_run(agent=agent, content=content)\n",
        "\n",
        "  if session_response.state == \"RUN_ACTION_REQUIRED\":\n",
        "    fc_content_parts = []\n",
        "    for content_part in session_response.steps:\n",
        "      fc = content_part.content.parts[0].to_dict().get(\"function_call\", None)\n",
        "      if fc is not None:\n",
        "        fc_content_parts.append(Part.from_function_response(\n",
        "            name=fc[\"name\"],\n",
        "            response=globals()[fc[\"name\"]](**fc[\"args\"])))\n",
        "\n",
        "    # continue the incomplete session run with the function calling reponses\n",
        "    if len(fc_content_parts)>0:\n",
        "      session_response = session.resume_run(\n",
        "          run = session_response,\n",
        "          content= fc_content_parts)\n",
        "\n",
        "  return session_response\n"
      ],
      "metadata": {
        "id": "XKTP3EdgeAsy"
      },
      "execution_count": null,
      "outputs": []
    },
    {
      "cell_type": "markdown",
      "source": [
        "Let's now ask few more questions"
      ],
      "metadata": {
        "id": "JiUiJqCTqu4r"
      }
    },
    {
      "cell_type": "code",
      "source": [
        "session_response = get_content_with_function_call(agent=agent, content= \"what is this codebase about?\")\n",
        "session_response.steps[-1].content.parts[0].text"
      ],
      "metadata": {
        "id": "QDNQY8oZedmh"
      },
      "execution_count": null,
      "outputs": []
    },
    {
      "cell_type": "code",
      "source": [
        "session_response = get_content_with_function_call(\n",
        "    agent=agent,\n",
        "    content= \"looking into the basecode, which backend API returns the account balance\")\n",
        "\n",
        "print(str(session_response.steps[-1].content.parts[0].text))"
      ],
      "metadata": {
        "id": "0cWQCrEKf6TU"
      },
      "execution_count": null,
      "outputs": []
    },
    {
      "cell_type": "code",
      "source": [
        "session_response = get_content_with_function_call(\n",
        "    agent=agent,\n",
        "    content= \"\"\"\n",
        "I want to add a warning in the login page to educate the user that the password should never be shared.\n",
        "Which file or files do i need to change in the codebase?\n",
        "can you suggest how the final code should be with the suggested changes?\n",
        "\"\"\")\n",
        "\n",
        "print(str(session_response.steps[-1].content.parts[0].text))"
      ],
      "metadata": {
        "id": "7O0yev67gtLM"
      },
      "execution_count": null,
      "outputs": []
    },
    {
      "cell_type": "markdown",
      "source": [
        "### Example #3. Query for code style guidance using search_extension (Vertex AI Search) Tool"
      ],
      "metadata": {
        "id": "gfQSmPoid1ZK"
      }
    },
    {
      "cell_type": "code",
      "source": [
        "session_response = session.create_run(agent=agent, content= \"Tell me more about the best java style according to the java coding style guide?\")\n",
        "session_response"
      ],
      "metadata": {
        "id": "BzRwlr3kd8Ld"
      },
      "execution_count": null,
      "outputs": []
    },
    {
      "cell_type": "code",
      "source": [
        "print(str(session_response.steps[-1].content.parts[0].text))"
      ],
      "metadata": {
        "id": "wbm-20Igjw3U"
      },
      "execution_count": null,
      "outputs": []
    },
    {
      "cell_type": "code",
      "source": [
        "session_response = session.create_run(agent=agent, content= \"In java and in python, how do I name my methods? give me examples for a method called 'adding up numbers'\")\n",
        "print(str(session_response.steps[-1].content.parts[0].text))"
      ],
      "metadata": {
        "id": "962CN7xijj_2"
      },
      "execution_count": null,
      "outputs": []
    },
    {
      "cell_type": "markdown",
      "source": [
        "#Cleanup\n",
        "\n",
        "Clean up resources created in this notebook.\n",
        "\n",
        "\n",
        "To delete Session, uncomment and run:\n"
      ],
      "metadata": {
        "id": "fjCPA4Nvysu5"
      }
    },
    {
      "cell_type": "code",
      "source": [
        "# app.delete_session('<Session Name>')"
      ],
      "metadata": {
        "id": "9AHX-qgAOqK4"
      },
      "execution_count": null,
      "outputs": []
    },
    {
      "cell_type": "markdown",
      "source": [
        "To delete agent, uncomment and run. Using either the display name or the fully qualified resource name, you can delete a specific agent under the App."
      ],
      "metadata": {
        "id": "ITlBn56Eyju5"
      }
    },
    {
      "cell_type": "code",
      "source": [
        "# app.delete_agent('Cymbal Real Estate Research Agent')"
      ],
      "metadata": {
        "id": "SQihs5HIyju5"
      },
      "execution_count": null,
      "outputs": []
    },
    {
      "cell_type": "markdown",
      "source": [
        "To delete your app, uncomment and run:\n"
      ],
      "metadata": {
        "id": "0ickTrbv3NU0"
      }
    },
    {
      "cell_type": "code",
      "source": [
        "# app.delete(app.app_name)"
      ],
      "metadata": {
        "id": "cX8O3JuvkFZM"
      },
      "execution_count": null,
      "outputs": []
    },
    {
      "cell_type": "markdown",
      "source": [
        "To delete both extensions you used in the notebook, uncomment and run:"
      ],
      "metadata": {
        "id": "f9cklkMRd9Ce"
      }
    },
    {
      "cell_type": "code",
      "source": [
        "# webpage_browser_extension.delete()\n",
        "# rag_extension.delete()"
      ],
      "metadata": {
        "id": "FTy04HZEd8GO"
      },
      "execution_count": null,
      "outputs": []
    },
    {
      "cell_type": "markdown",
      "source": [
        "To delete the GCS bucket, uncomment and run:"
      ],
      "metadata": {
        "id": "JsY1q1VOeHVm"
      }
    },
    {
      "cell_type": "code",
      "source": [],
      "metadata": {
        "id": "H5tF3FFJkNzI"
      },
      "execution_count": null,
      "outputs": []
    },
    {
      "cell_type": "code",
      "source": [
        "# Delete contents of the bucket and the bucket\n",
        "#!gsutil -m rm -r gs://$GCS_BUCKET"
      ],
      "metadata": {
        "id": "a5j3rNxMeGAr"
      },
      "execution_count": null,
      "outputs": []
    },
    {
      "cell_type": "markdown",
      "source": [
        "## Delete Vertex Search App\n",
        "\n",
        "To delete a datstore connected to a app you first need to delete the app and then the datastore."
      ],
      "metadata": {
        "id": "wKBVptP9kO5f"
      }
    },
    {
      "cell_type": "code",
      "source": [
        "# def delete_engine_sample(\n",
        "#     project_id: str,\n",
        "#     location: str,\n",
        "#     engine_id: str,\n",
        "# ) -> str:\n",
        "#     #  For more information, refer to:\n",
        "#     # https://cloud.google.com/generative-ai-app-builder/docs/locations#specify_a_multi-region_for_your_data_store\n",
        "#     client_options = (\n",
        "#         ClientOptions(api_endpoint=f\"{location}-discoveryengine.googleapis.com\")\n",
        "#         if location != \"global\"\n",
        "#         else None\n",
        "#     )\n",
        "\n",
        "#     # Create a client\n",
        "#     client = discoveryengine.EngineServiceClient(client_options=client_options)\n",
        "\n",
        "#     # The full resource name of the engine\n",
        "#     # e.g. projects/{project}/locations/{location}/collections/default_collection/engines/{engine_id}\n",
        "#     name = client.engine_path(\n",
        "#         project=project_id,\n",
        "#         location=location,\n",
        "#         collection=\"default_collection\",\n",
        "#         engine=engine_id,\n",
        "#     )\n",
        "\n",
        "#     # Make the request\n",
        "#     operation = client.delete_engine(name=name)\n",
        "\n",
        "#     print(f\"Operation: {operation.operation.name}\")\n",
        "\n",
        "#     return operation.operation.name\n",
        "\n",
        "# delete_engine_sample(PROJECT_ID, SEARCH_APP_REGION, SEARCH_APP_ID)"
      ],
      "metadata": {
        "id": "bZ_zsS-rkGkg"
      },
      "execution_count": null,
      "outputs": []
    },
    {
      "cell_type": "markdown",
      "source": [
        "## Delete the Data Store\n",
        "It can take a couple of hours for the data store id to be released. If you are going to rerun the notebook, Either use a different id, or wait for a couple of hours, or completely skip creating the datastore again and use the alredy created one."
      ],
      "metadata": {
        "id": "LQmDVETIkY1F"
      }
    },
    {
      "cell_type": "code",
      "source": [
        "# def delete_data_store(\n",
        "#     project_id: str,\n",
        "#     location: str,\n",
        "#     data_store_id: str,\n",
        "# ) -> str:\n",
        "#     #  For more information, refer to:\n",
        "#     # https://cloud.google.com/generative-ai-app-builder/docs/locations#specify_a_multi-region_for_your_data_store\n",
        "#     client_options = (\n",
        "#         ClientOptions(api_endpoint=f\"{location}-discoveryengine.googleapis.com\")\n",
        "#         if location != \"global\"\n",
        "#         else None\n",
        "#     )\n",
        "\n",
        "#     # Create a client\n",
        "#     client = discoveryengine.DataStoreServiceClient(client_options=client_options)\n",
        "\n",
        "#     request = discoveryengine.DeleteDataStoreRequest(\n",
        "#         # The full resource name of the data store\n",
        "#         name=client.data_store_path(project_id, location, data_store_id)\n",
        "#     )\n",
        "\n",
        "#     # Make the request\n",
        "#     operation = client.delete_data_store(request=request)\n",
        "\n",
        "#     print(f\"Operation: {operation.operation.name}\")\n",
        "\n",
        "#     return operation.operation.name\n",
        "\n",
        "\n",
        "# delete_data_store(PROJECT_ID,DATA_STORE_LOCATION, DATA_STORE_ID)"
      ],
      "metadata": {
        "id": "IAw3kMsIkUaf"
      },
      "execution_count": null,
      "outputs": []
    },
    {
      "cell_type": "code",
      "source": [],
      "metadata": {
        "id": "bzNJyVTokcxF"
      },
      "execution_count": null,
      "outputs": []
    }
  ]
}