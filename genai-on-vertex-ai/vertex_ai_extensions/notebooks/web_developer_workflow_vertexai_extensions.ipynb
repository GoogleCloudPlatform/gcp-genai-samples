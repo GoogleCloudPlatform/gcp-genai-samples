{
  "cells": [
    {
      "cell_type": "code",
      "execution_count": null,
      "metadata": {
        "id": "8iYCg6gJVk66"
      },
      "outputs": [],
      "source": [
        "# Copyright 2024 Google LLC\n",
        "#\n",
        "# Licensed under the Apache License, Version 2.0 (the \"License\");\n",
        "# you may not use this file except in compliance with the License.\n",
        "# You may obtain a copy of the License at\n",
        "#\n",
        "#     https://www.apache.org/licenses/LICENSE-2.0\n",
        "#\n",
        "# Unless required by applicable law or agreed to in writing, software\n",
        "# distributed under the License is distributed on an \"AS IS\" BASIS,\n",
        "# WITHOUT WARRANTIES OR CONDITIONS OF ANY KIND, either express or implied.\n",
        "# See the License for the specific language governing permissions and\n",
        "# limitations under the License."
      ]
    },
    {
      "cell_type": "markdown",
      "metadata": {
        "id": "x0q6qjyLbCG5"
      },
      "source": [
        "# Web Developer Workflow with Vertex AI Extensions\n",
        "\n",
        "<table align=\"left\">\n",
        "  <td style=\"text-align: center\">\n",
        "    <a href=\"https://colab.research.google.com/github/GoogleCloudPlatform/applied-ai-engineering-samples/blob/main/genai-on-vertex-ai/vertex_ai_extensions/notebooks/web_developer_workflow_vertexai_extensions.ipynb\">\n",
        "      <img src=\"https://cloud.google.com/ml-engine/images/colab-logo-32px.png\" alt=\"Google Colaboratory logo\"><br> Open in Colab\n",
        "    </a>\n",
        "  </td>\n",
        "  <td style=\"text-align: center\">\n",
        "    <a href=\"https://console.cloud.google.com/vertex-ai/colab/import/https:%2F%2Fraw.githubusercontent.com%2FGoogleCloudPlatform%2Fapplied-ai-engineering-samples%2Fmain%2Fgenai-on-vertex-ai%2Fvertex_ai_extensions%2Fnotebooks%2Fweb_developer_workflow_vertexai_extensions.ipynb\">\n",
        "      <img width=\"32px\" src=\"https://lh3.googleusercontent.com/JmcxdQi-qOpctIvWKgPtrzZdJJK-J3sWE1RsfjZNwshCFgE_9fULcNpuXYTilIR2hjwN\" alt=\"Google Cloud Colab Enterprise logo\"><br> Open in Colab Enterprise\n",
        "    </a>\n",
        "  </td>    \n",
        "  <td style=\"text-align: center\">\n",
        "    <a href=\"https://console.cloud.google.com/vertex-ai/workbench/deploy-notebook?download_url=https://raw.githubusercontent.com/GoogleCloudPlatform/applied-ai-engineering-samples/main/genai-on-vertex-ai/vertex_ai_extensions/notebooks/web_developer_workflow_vertexai_extensions.ipynb\">\n",
        "      <img src=\"https://lh3.googleusercontent.com/UiNooY4LUgW_oTvpsNhPpQzsstV5W8F7rYgxgGBD85cWJoLmrOzhVs_ksK_vgx40SHs7jCqkTkCk=e14-rj-sc0xffffff-h130-w32\" alt=\"Vertex AI logo\"><br> Open in Workbench\n",
        "    </a>\n",
        "  </td>\n",
        "  <td style=\"text-align: center\">\n",
        "    <a href=\"https://github.com/GoogleCloudPlatform/applied-ai-engineering-samples/tree/main/genai-on-vertex-ai/vertex_ai_extensions/notebooks/web_developer_workflow_vertexai_extensions.ipynb\">\n",
        "      <img src=\"https://cloud.google.com/ml-engine/images/github-logo-32px.png\" alt=\"GitHub logo\"><br> View on GitHub\n",
        "    </a>\n",
        "  </td>\n",
        "</table>"
      ]
    },
    {
      "cell_type": "markdown",
      "metadata": {
        "id": "zegJQ_d_lWRa"
      },
      "source": [
        "| | |\n",
        "|----------|-------------|\n",
        "| Author(s)   | [Lei Pan](https://github.com/genaimagician)|\n",
        "| Reviewers(s) | [Meltem Subasioglu](https://github.com/5Y5TEM), Michael W. Sherman|\n",
        "| Last updated | 2024-04-30: Review and Cleanup |\n",
        "| | 2024-04-25: Initial Publication |"
      ]
    },
    {
      "cell_type": "markdown",
      "metadata": {
        "id": "_D7HcoxpVk68"
      },
      "source": [
        "## Overview\n",
        "\n",
        "In this notebook, you will learn how to use the Vertex AI Extensions Code Interpreter Extension to build and deploy a static web application by following these steps:\n",
        "\n",
        "- Generate PRD using Gemini API\n",
        "- Registering the pre-built Code Interpreter extension in your project\n",
        "- Using Code Interpreter to build up the website according to the PRD\n",
        "- Using GCS API to deploy the website"
      ]
    },
    {
      "cell_type": "markdown",
      "metadata": {
        "id": "4S23-EwCumCU"
      },
      "source": [
        "▶ If you're already familiar with Google Cloud and the Vertex Extensions Code Interpreter Extension, you can skip reading between here and the \"**Getting Started**\" section."
      ]
    },
    {
      "cell_type": "markdown",
      "metadata": {
        "id": "KUXzlvfpn513"
      },
      "source": [
        "### Vertex AI Extensions\n",
        "\n",
        "[Vertex AI Extensions](https://cloud.google.com/vertex-ai/generative-ai/docs/extensions/overview) is a platform for creating and managing extensions that connect large language models to external systems via APIs. These external systems can provide LLMs with real-time data and perform data processing actions on their behalf. You can use pre-built or third-party extensions in Vertex AI Extensions."
      ]
    },
    {
      "cell_type": "markdown",
      "metadata": {
        "id": "3r29fUEFn8JH"
      },
      "source": [
        "### Vertex AI Extensions Code Interpreter Extension\n",
        "\n",
        "The [Code Interpreter](https://console.cloud.google.com/vertex-ai/generative-ai/docs/extensions/google-extensions.md#google_code_interpreter_extension) extension provides access to a Python interpreter with a sandboxed, secure execution environment. It lets you generate and execute Python code to:\n",
        "\n",
        "* Analyze, clean, transform, and reshape your datasets\n",
        "* Visualize data in charts and graphs\n",
        "* Execute calculations"
      ]
    },
    {
      "cell_type": "markdown",
      "metadata": {
        "id": "uNriTZl70OdV"
      },
      "source": [
        "### Using this Notebook\n",
        "\n",
        "Colab is recommended for running this notebook, but it can run in any iPython environment where you can connect to Google Cloud, install pip packages, etc.\n",
        "\n",
        "If you're running outside of Colab, depending on your environment you may need to install pip packages that are included in the Colab environment by default but are not part of the Python Standard Library. Outside of Colab you'll also notice comments in code cells that look like #@something, these trigger special Colab functionality but don't change the behavior of the notebook.\n",
        "\n",
        "\n",
        "This tutorial uses the following Google Cloud services and resources:\n",
        "\n",
        "* Vertex AI Extensions\n",
        "* Google Cloud Storage Client\n",
        "  - If you don't have a bucket, you can follow [this doc](https://cloud.google.com/storage/docs/creating-buckets) to create one or follow the code provided in this notebook later.\n",
        "\n",
        "This notebook has been tested in the following environment:\n",
        "\n",
        "* Python version = 3.10.12\n",
        "* [google-cloud-aiplatform](https://pypi.org/project/google-cloud-aiplatform/) version = 1.4.7"
      ]
    },
    {
      "cell_type": "markdown",
      "metadata": {
        "id": "Ar0aDcql1dxl"
      },
      "source": [
        "### Useful Tips\n",
        "\n",
        "1. This notebook uses Generative AI cababilities. Re-running a cell that uses Generative AI capabilities may produce similar but not identical results.\n",
        "2. Because of #1, it is possible that an output from Code Interpreter producess errors. If that happens re-run the cell that produced the coding error. The different generated code will likely be bug free. The `run_code_interpreter` method below helps automate this.\n",
        "3. The use of Extensions and other Generative AI capabilities is subject to service quotas. Running the notebook using \"Run All\" may exceed  your Queries per minute (QPM) limitations. Run the notebook manually and if you get a quota error pause for up to 1 minute before retrying that cell. Code Interpreter uses Gemini on the backend and is subject to the Gemini quotas, [view your Gemini quotas here](https://console.cloud.google.com/iam-admin/quotas?pageState=(%22allQuotasTable%22:(%22f%22:%22%255B%257B_22k_22_3A_22_22_2C_22t_22_3A10_2C_22v_22_3A_22_5C_22base_model_5C_22_22%257D_2C%257B_22k_22_3A_22_22_2C_22t_22_3A10_2C_22v_22_3A_22_5C_22gemini_5C_22_22%257D%255D%22%29%29&e=13802955&mods=logs_tg_staging).\n",
        "4. The Code Interpreter Extension is stateless and therefore every request to Code Interpreter does not have knowledge of previous operations nor files injested or produced in previous steps. Therefore, with any request to Code Interpreter you need to submit all files and instructions for that request to complete successfully.\n"
      ]
    },
    {
      "cell_type": "markdown",
      "metadata": {
        "id": "PO_tnShTGUik"
      },
      "source": [
        "## Getting Started\n",
        "\n",
        "The following steps are necessary to run this notebook, no matter what notebook environment you're using.\n",
        "\n",
        "If you're entirely new to Google Cloud, [get started here](https://cloud.google.com/docs/get-started)."
      ]
    },
    {
      "cell_type": "markdown",
      "metadata": {
        "id": "dq30xzDj-dkW"
      },
      "source": [
        "### Google Cloud Project Setup\n",
        "\n",
        "1. [Select or create a Google Cloud project](https://console.cloud.google.com/cloud-resource-manager). When you first create an account, you get a $300 free credit towards your compute/storage costs.\n",
        "1. [Make sure that billing is enabled for your project](https://cloud.google.com/billing/docs/how-to/modify-project).\n",
        "1. [Enable the Service Usage API](https://console.cloud.google.com/apis/library/serviceusage.googleapis.com)\n",
        "1. [Enable the Vertex AI API](https://console.cloud.google.com/flows/enableapi?apiid=aiplatform.googleapis.com).\n",
        "1. [Enable the Cloud Storage API](https://console.cloud.google.com/flows/enableapi?apiid=storage.googleapis.com)."
      ]
    },
    {
      "cell_type": "markdown",
      "metadata": {
        "id": "PTuXDJ2qn-8W"
      },
      "source": [
        "### Google Cloud Permissions\n",
        "\n",
        "**To run the complete Notebook, including the optional section, you will need to have the [Owner role](https://cloud.google.com/iam/docs/understanding-roles) for your project.**\n",
        "\n",
        "If you want to skip the optional section, you need at least the following [roles](https://cloud.google.com/iam/docs/granting-changing-revoking-access):\n",
        "* **`roles/aiplatform.user`** to use Vertex AI components\n",
        "* **`roles/storage.objectAdmin`** to modify and delete GCS buckets"
      ]
    },
    {
      "cell_type": "markdown",
      "metadata": {
        "id": "4flyjsPnVk68"
      },
      "source": [
        "### Install Vertex AI SDK and other required packages\n"
      ]
    },
    {
      "cell_type": "code",
      "execution_count": null,
      "metadata": {
        "id": "AoNGuRTHUl2p",
        "tags": []
      },
      "outputs": [],
      "source": [
        "!pip install google-cloud-aiplatform --upgrade\n",
        "# Note -- this may not work in some non-Colab environments. If you get errors\n",
        "# when running 'import vertexai' below, you'll need to find another way to\n",
        "# install the latest google-cloud-aiplatform package into your notebook kernel.\n",
        "# In some kernel setups running \"%pip install google-cloud-aiplatform --upgrade\"\n",
        "# in a code cell works if \"!pip install ....\" doesn't.\n",
        "\n",
        "## If you're running outside of colab, make sure to install the following modules as well:\n",
        "!pip install Pillow"
      ]
    },
    {
      "cell_type": "markdown",
      "metadata": {
        "id": "R5Xep4W9lq-Z"
      },
      "source": [
        "### Restart runtime\n",
        "\n",
        "To use the newly installed packages in this Jupyter runtime, you must restart the runtime. You can do this by running the cell below, which restarts the current kernel.\n",
        "\n",
        "You may see the restart reported as a crash, but it is working as-intended -- you are merely restarting the runtime.\n",
        "\n",
        "The restart might take a minute or longer. After it's restarted, continue to the next step."
      ]
    },
    {
      "cell_type": "code",
      "execution_count": null,
      "metadata": {
        "colab": {
          "base_uri": "https://localhost:8080/"
        },
        "id": "XRvKdaPDTznN",
        "outputId": "ffbc8163-a69f-45c3-d188-0e7b54bc9c3b",
        "tags": []
      },
      "outputs": [
        {
          "data": {
            "text/plain": [
              "{'status': 'ok', 'restart': True}"
            ]
          },
          "execution_count": 3,
          "metadata": {},
          "output_type": "execute_result"
        }
      ],
      "source": [
        "import IPython\n",
        "\n",
        "app = IPython.Application.instance()\n",
        "app.kernel.do_shutdown(True)"
      ]
    },
    {
      "cell_type": "markdown",
      "metadata": {
        "id": "SbmM4z7FOBpM"
      },
      "source": [
        "<div class=\"alert alert-block alert-warning\">\n",
        "<b>⚠️ The kernel is going to restart. Please wait until it is finished before continuing to the next step. ⚠️</b>\n",
        "</div>\n"
      ]
    },
    {
      "cell_type": "markdown",
      "metadata": {
        "id": "-vk8FYRBekhR"
      },
      "source": [
        "### Authenticate your notebook environment\n",
        "\n",
        "If you are running this notebook on Google Colab, run the cell below to authenticate your environment."
      ]
    },
    {
      "cell_type": "code",
      "execution_count": null,
      "metadata": {
        "id": "JAihqmEKetF9",
        "tags": []
      },
      "outputs": [],
      "source": [
        "import sys\n",
        "\n",
        "if \"google.colab\" in sys.modules:\n",
        "    from google.colab import auth\n",
        "\n",
        "    auth.authenticate_user()"
      ]
    },
    {
      "cell_type": "markdown",
      "metadata": {
        "id": "pNcfOA7Ne0kP"
      },
      "source": [
        "### Set Google Cloud project information and initialize Vertex AI SDK\n",
        "\n",
        "To get started using Vertex AI, you must have an existing Google Cloud project and [enable the Vertex AI API](https://console.cloud.google.com/flows/enableapi?apiid=aiplatform.googleapis.com).\n",
        "\n",
        "Learn more about [setting up a project and a development environment](https://cloud.google.com/vertex-ai/docs/start/cloud-environment).\n",
        "\n",
        "Make sure to change `PROJECT_ID` in the next cell. You can leave the values for `REGION` and `API_ENV` unless you have a specific reason to change them."
      ]
    },
    {
      "cell_type": "code",
      "execution_count": null,
      "metadata": {
        "id": "gL6f3bqGVk69",
        "tags": []
      },
      "outputs": [],
      "source": [
        "import vertexai\n",
        "\n",
        "PROJECT_ID = \"your project ID\"  # @param {type:\"string\"}\n",
        "REGION = \"us-central1\"  # @param {type: \"string\"}\n",
        "API_ENV = \"aiplatform.googleapis.com\"  # @param {type:\"string\"}\n",
        "\n",
        "vertexai.init(\n",
        "    project=PROJECT_ID,\n",
        "    location=REGION,\n",
        "    api_endpoint=f\"{REGION}-{API_ENV}\",\n",
        ")"
      ]
    },
    {
      "cell_type": "markdown",
      "metadata": {
        "id": "yMSvnCXwV3Za"
      },
      "source": [
        "## Using Extensions to Build and Deploy a Static Web Application Tutorial"
      ]
    },
    {
      "cell_type": "markdown",
      "metadata": {
        "id": "9MFqpF8pfWPJ"
      },
      "source": [
        "### Import libraries"
      ]
    },
    {
      "cell_type": "code",
      "execution_count": null,
      "metadata": {
        "id": "Tl4tmS4WWEI7",
        "tags": []
      },
      "outputs": [],
      "source": [
        "import base64\n",
        "from google.cloud import storage\n",
        "from google.protobuf import json_format\n",
        "from google.protobuf.struct_pb2 import Struct\n",
        "import io\n",
        "from IPython.display import display\n",
        "from IPython.display import Markdown\n",
        "import json\n",
        "from PIL import Image\n",
        "import pprint\n",
        "import textwrap\n",
        "from vertexai.generative_models import GenerativeModel\n",
        "from vertexai.preview import extensions"
      ]
    },
    {
      "cell_type": "markdown",
      "metadata": {
        "id": "-SBZl8Z9lhev"
      },
      "source": [
        "### Step 1: Generate a PRD using Gemini API\n",
        "\n",
        "In step 1, we use Gemini to generate a PRD. We will use the PRD to generate the web app in step 3."
      ]
    },
    {
      "cell_type": "code",
      "execution_count": null,
      "metadata": {
        "id": "TAzE7QawllZh",
        "tags": []
      },
      "outputs": [],
      "source": [
        "vertexai.init(project=PROJECT_ID, location=REGION)\n",
        "model = GenerativeModel(model_name=\"gemini-1.0-pro\")\n",
        "\n",
        "response = model.generate_content(\"\"\"Write a simple website log-in page product\n",
        "requirement document with 2 features including 1) use html, css, and javascript\n",
        "to make a login page. The login button should be red. Javascript should validate\n",
        "login username as \"test_login_user\", password as \"test1234\". 2) deploy this html,\n",
        "css, javascript file to GCS bucket as a static web hosting.\"\"\")"
      ]
    },
    {
      "cell_type": "code",
      "execution_count": null,
      "metadata": {
        "id": "aJQPcAMLtApg",
        "tags": []
      },
      "outputs": [],
      "source": [
        "def to_markdown(text):\n",
        "  \"\"\"Converts the given text to a Markdown-formatted blockquote.\n",
        "\n",
        "  This function replaces all bullet points ('•') with markdown list markers ('  *')\n",
        "  and indents each line with a '>' character to create a blockquote.\n",
        "\n",
        "  Args:\n",
        "    text: The text to be converted to Markdown.\n",
        "\n",
        "  Returns:\n",
        "    A Markdown object representing the converted text as a blockquote.\n",
        "  \"\"\"\n",
        "  text = text.replace('•', '  *')\n",
        "  return Markdown(textwrap.indent(text, '> ', predicate=lambda _: True))"
      ]
    },
    {
      "cell_type": "code",
      "execution_count": null,
      "metadata": {
        "colab": {
          "base_uri": "https://localhost:8080/",
          "height": 942
        },
        "id": "bAgz7pcEs-B0",
        "outputId": "ce8ec788-c40f-435c-a990-73b73ef28e76",
        "tags": []
      },
      "outputs": [
        {
          "data": {
            "text/markdown": [
              "> ## Product Requirement Document: Simple Website Login Page\n",
              "> \n",
              "> ### 1. Introduction\n",
              "> \n",
              "> This document outlines the requirements for a simple website login page. The login page will be built using HTML, CSS, and Javascript and deployed to a GCS bucket as a static web hosting solution.\n",
              "> \n",
              "> ### 2. Features\n",
              "> \n",
              "> **2.1 Login Form:**\n",
              "> \n",
              "> * The login page will feature a form with two input fields:\n",
              ">     * Username\n",
              ">     * Password\n",
              "> * The login button will be red.\n",
              "> * Javascript will validate the entered username and password.\n",
              "> * Valid credentials:\n",
              ">     * Username: \"test_login_user\"\n",
              ">     * Password: \"test1234\"\n",
              "> \n",
              "> **2.2 Validation:**\n",
              "> \n",
              "> * Javascript will handle the validation logic on the client-side.\n",
              "> * If the username or password is invalid, an error message will be displayed.\n",
              "> * On successful login, a success message will be displayed.\n",
              "> \n",
              "> ### 3. Technical Requirements\n",
              "> \n",
              "> **3.1 Development Tools:**\n",
              "> \n",
              "> * HTML\n",
              "> * CSS\n",
              "> * Javascript\n",
              "> \n",
              "> **3.2 Hosting:**\n",
              "> \n",
              "> * GCS Bucket (configured for static website hosting)\n",
              "> \n",
              "> ### 4. User Interface\n",
              "> \n",
              "> **4.1 Design:**\n",
              "> \n",
              "> * The login page will have a clean and simple design.\n",
              "> * The layout will be responsive and optimized for different screen sizes.\n",
              "> \n",
              "> **4.2 Language:**\n",
              "> \n",
              "> * English\n",
              "> \n",
              "> ### 5. Success Criteria\n",
              "> \n",
              "> * The login page successfully validates user credentials.\n",
              "> * Valid credentials redirect the user to the intended destination (e.g., dashboard).\n",
              "> * Invalid credentials display an appropriate error message.\n",
              "> * The page is responsive and functions correctly on different devices.\n",
              "> \n",
              "> ### 6. Non-Functional Requirements\n",
              "> \n",
              "> **6.1 Performance:**\n",
              "> \n",
              "> * The login page should load quickly and perform well on different network speeds.\n",
              "> \n",
              "> **6.2 Security:**\n",
              "> \n",
              "> * User credentials should be securely transmitted to the server using HTTPS.\n",
              "> \n",
              "> ### 7. Open Issues\n",
              "> \n",
              "> * None\n",
              "> \n",
              "> ### 8. Dependencies\n",
              "> \n",
              "> * GCS bucket with static website hosting enabled\n",
              "> \n",
              "> ### 9. Assumptions\n",
              "> \n",
              "> * Users have a basic understanding of web browsing.\n",
              "> \n",
              "> ### 10. Approvals\n",
              "> \n",
              "> * This document requires approval from the development team and project manager.\n",
              "> \n",
              "> ## Additional Notes\n",
              "> \n",
              "> * This document serves as a high-level overview of the product requirements. More detailed design specifications and implementation details will be defined in separate documents.\n",
              "> * User interface mocks and detailed API documentation will be developed in subsequent phases.\n",
              "> \n",
              "> Please let me know if you have any questions or require further information."
            ],
            "text/plain": [
              "<IPython.core.display.Markdown object>"
            ]
          },
          "execution_count": 8,
          "metadata": {},
          "output_type": "execute_result"
        }
      ],
      "source": [
        "to_markdown(response.text)"
      ]
    },
    {
      "cell_type": "markdown",
      "metadata": {
        "id": "tgTdZdjBzrEN"
      },
      "source": [
        "### Step 2: Create a Code Interpreter Extension\n",
        "\n",
        "Now you can create the extension itself. The following cell uses the Python SDK to import the extension (thereby creating it) in Vertex AI Extensions."
      ]
    },
    {
      "cell_type": "code",
      "execution_count": null,
      "metadata": {
        "id": "dZ_vC0E7lyWy",
        "tags": []
      },
      "outputs": [],
      "source": [
        "extension_code_interpreter = extensions.Extension.from_hub(\"code_interpreter\")\n",
        "extension_code_interpreter"
      ]
    },
    {
      "cell_type": "markdown",
      "metadata": {
        "id": "yKCjnPm_lyWz"
      },
      "source": [
        "### Step 3: Use Code Interpreter to Build the Web App\n",
        "\n",
        "We use only a portion of the mini PRD when generating the web application because we want to focus solely on the generation of a runnable index.html file.\n",
        "\n",
        "The complete mini PRD encompasses specifications for both web development (such as the index.html) and deployment instructions. Since our immediate goal was to obtain a functional index.html file without any manual modifications, we opted to exclude the deployment details.\n",
        "\n",
        "Including the entire PRD would have resulted in the model attaching deployment instructions as plain text to the generated index.html. These instructions, while informative, wouldn't be directly executable and would require separate handling.\n"
      ]
    },
    {
      "cell_type": "code",
      "execution_count": null,
      "metadata": {
        "id": "CjnOWke4lTML",
        "tags": []
      },
      "outputs": [],
      "source": [
        "prompt = \"\"\"\n",
        "You are asked to generate an index.html page for the feature below:\n",
        "\n",
        "<feature>\n",
        "Log-In Page Interface:\n",
        "Use HTML, CSS, and JavaScript to create a log-in page.\n",
        "The log-in form should include fields for username and password.\n",
        "The login button should be red.\n",
        "Implement JavaScript validation to ensure that the username is \"test_login_user\" and the password is \"test1234\".\n",
        "</feature>\n",
        "\n",
        "Generate the index.html file now.\n",
        "\"\"\"\n",
        "\n",
        "response = extension_code_interpreter.execute(\n",
        "    operation_id = \"generate_and_execute\",\n",
        "    operation_params = {\"query\": prompt},\n",
        ")\n",
        "\n",
        "pprint.pprint(response)"
      ]
    },
    {
      "cell_type": "markdown",
      "metadata": {
        "id": "v6y-6A_iPu3T"
      },
      "source": [
        "The next cell parses response from the extension and saves the index.html generated by Code Interpreter to the working directory."
      ]
    },
    {
      "cell_type": "code",
      "execution_count": null,
      "metadata": {
        "id": "uRvUI_oOi_LC",
        "tags": []
      },
      "outputs": [],
      "source": [
        "# Helper function to parse Code Interpreter output.\n",
        "def parse_output_files(outputFiles):\n",
        "    \"\"\"Parses and displays the contents of output files generated by a process.\n",
        "\n",
        "    This function iterates through a list of output files, decodes their contents\n",
        "    from base64, and prints the file name and contents to the console.\n",
        "    The output is sorted so that image files are displayed first.\n",
        "\n",
        "    Args:\n",
        "      outputFiles: A list of dictionaries, where each dictionary represents\n",
        "                  an output file and contains the following keys:\n",
        "        - \"name\": The name of the file.\n",
        "        - \"contents\": The base64-encoded contents of the file.\n",
        "\n",
        "    Returns:\n",
        "      The decoded contents of the last file processed as a string.\n",
        "    \"\"\"\n",
        "    IMAGE_FILE_EXTENSIONS = set([\"jpg\", \"jpeg\", \"png\"])\n",
        "    # Sort the output_files so images are displayed before other files such as JSON.\n",
        "    for output_file in sorted(\n",
        "        outputFiles,\n",
        "        key=lambda x: x[\"name\"].split(\".\")[-1] not in IMAGE_FILE_EXTENSIONS,\n",
        "    ):\n",
        "        file_name = output_file.get(\"name\")\n",
        "        file_contents = base64.b64decode(output_file.get(\"contents\"))\n",
        "        print(\"Output Files: \\n=======================\\n\")\n",
        "        print(f\"File Name: {file_name}\\n\")\n",
        "\n",
        "        if file_name.endswith(\".html\"):\n",
        "          pprint.pprint(file_contents.decode(), compact=False, width=160)\n",
        "        else:\n",
        "          print(f\"File Contents: {file_contents.decode()}\\n\")\n",
        "    return file_contents.decode()"
      ]
    },
    {
      "cell_type": "code",
      "source": [
        "index_page = parse_output_files(response[\"output_files\"])"
      ],
      "metadata": {
        "colab": {
          "base_uri": "https://localhost:8080/"
        },
        "outputId": "010f60e7-e3a2-4228-bc8c-3d5fffe01b4c",
        "id": "g4WM-oP83__i"
      },
      "execution_count": null,
      "outputs": [
        {
          "output_type": "stream",
          "name": "stdout",
          "text": [
            "Output Files: \n",
            "=======================\n",
            "\n",
            "File Name: index.html\n",
            "\n",
            "('\\n'\n",
            " '<!DOCTYPE html>\\n'\n",
            " '<html lang=\"en\">\\n'\n",
            " '<head>\\n'\n",
            " '    <meta charset=\"UTF-8\">\\n'\n",
            " '    <meta name=\"viewport\" content=\"width=device-width, initial-scale=1.0\">\\n'\n",
            " '    <title>Log-In Page</title>\\n'\n",
            " '    <style>\\n'\n",
            " '        body {\\n'\n",
            " '            font-family: Arial, sans-serif;\\n'\n",
            " '            background-color: #f4f4f4;\\n'\n",
            " '            margin: 0;\\n'\n",
            " '            padding: 0;\\n'\n",
            " '        }\\n'\n",
            " '\\n'\n",
            " '        .container {\\n'\n",
            " '            width: 300px;\\n'\n",
            " '            margin: 50px auto;\\n'\n",
            " '            padding: 20px;\\n'\n",
            " '            border: 1px solid #ccc;\\n'\n",
            " '            background-color: #fff;\\n'\n",
            " '            border-radius: 5px;\\n'\n",
            " '        }\\n'\n",
            " '\\n'\n",
            " '        h2 {\\n'\n",
            " '            text-align: center;\\n'\n",
            " '            margin-bottom: 20px;\\n'\n",
            " '        }\\n'\n",
            " '\\n'\n",
            " '        input[type=\"text\"],\\n'\n",
            " '        input[type=\"password\"] {\\n'\n",
            " '            width: 100%;\\n'\n",
            " '            padding: 10px;\\n'\n",
            " '            margin: 10px 0;\\n'\n",
            " '            border: 1px solid #ccc;\\n'\n",
            " '            border-radius: 3px;\\n'\n",
            " '        }\\n'\n",
            " '\\n'\n",
            " '        button {\\n'\n",
            " '            background-color: red;\\n'\n",
            " '            color: white;\\n'\n",
            " '            padding: 10px 20px;\\n'\n",
            " '            border: none;\\n'\n",
            " '            border-radius: 3px;\\n'\n",
            " '            cursor: pointer;\\n'\n",
            " '        }\\n'\n",
            " '    </style>\\n'\n",
            " '</head>\\n'\n",
            " '<body>\\n'\n",
            " '    <div class=\"container\">\\n'\n",
            " '        <h2>Log In</h2>\\n'\n",
            " '        <form id=\"login-form\">\\n'\n",
            " '            <label for=\"username\">Username:</label>\\n'\n",
            " '            <input type=\"text\" id=\"username\" name=\"username\" required>\\n'\n",
            " '\\n'\n",
            " '            <label for=\"password\">Password:</label>\\n'\n",
            " '            <input type=\"password\" id=\"password\" name=\"password\" required>\\n'\n",
            " '\\n'\n",
            " '            <button type=\"submit\">Log In</button>\\n'\n",
            " '        </form>\\n'\n",
            " '    </div>\\n'\n",
            " '\\n'\n",
            " '    <script>\\n'\n",
            " \"        const form = document.getElementById('login-form');\\n\"\n",
            " '\\n'\n",
            " \"        form.addEventListener('submit', (event) => {\\n\"\n",
            " '            event.preventDefault();\\n'\n",
            " '\\n'\n",
            " \"            const username = document.getElementById('username').value;\\n\"\n",
            " \"            const password = document.getElementById('password').value;\\n\"\n",
            " '\\n'\n",
            " \"            if (username === 'test_login_user' && password === 'test1234') {\\n\"\n",
            " '                // Successful login\\n'\n",
            " \"                alert('Login successful!');\\n\"\n",
            " '            } else {\\n'\n",
            " '                // Invalid credentials\\n'\n",
            " \"                alert('Invalid username or password.');\\n\"\n",
            " '            }\\n'\n",
            " '        });\\n'\n",
            " '    </script>\\n'\n",
            " '</body>\\n'\n",
            " '</html>\\n')\n"
          ]
        }
      ]
    },
    {
      "cell_type": "code",
      "source": [
        "def write_file(filename, content):\n",
        "    \"\"\"Writes the specified content to a file.\n",
        "\n",
        "    This function opens the file with the given filename in write mode (\"w\") and\n",
        "    writes the provided content to it. If the file already exists, its contents\n",
        "    will be overwritten.\n",
        "\n",
        "    Args:\n",
        "      filename (str): The name of the file to write to.\n",
        "      content (str): The content to be written to the file.\n",
        "\n",
        "    Raises:\n",
        "      IOError: If there is an error opening or writing to the file.\n",
        "    \"\"\"\n",
        "    with open(filename, \"w\") as f:\n",
        "        f.write(content)"
      ],
      "metadata": {
        "id": "nbYGax8p4hm9"
      },
      "execution_count": null,
      "outputs": []
    },
    {
      "cell_type": "code",
      "source": [
        "write_file(\"index.html\", index_page)"
      ],
      "metadata": {
        "id": "gRnjn3Zr4hm-"
      },
      "execution_count": null,
      "outputs": []
    },
    {
      "cell_type": "markdown",
      "metadata": {
        "id": "a_9_VWVllTgm"
      },
      "source": [
        "### Step 4: Use GCS API to Deploy the Web App\n",
        "\n",
        "For a static web page, you can just upload the html file to a GCS bucket. You will be able to view it via URL after you upload index.html."
      ]
    },
    {
      "cell_type": "code",
      "execution_count": null,
      "metadata": {
        "id": "sDre8cG33PL4",
        "tags": [],
        "outputId": "087d3e2b-0029-47ad-d8d0-36a7a1e854ca"
      },
      "outputs": [
        {
          "name": "stdout",
          "output_type": "stream",
          "text": [
            "+ gsutil mb -p mws-playground -l us-central1 gs://mws-playground-web-dev\n",
            "Creating gs://mws-playground-web-dev/...\n"
          ]
        }
      ],
      "source": [
        "# Create a GCS bucket if you don't have one.\n",
        "GCS_BUCKET = f\"{PROJECT_ID}-web-dev\"\n",
        "! set -x && gsutil mb -p $PROJECT_ID -l us-central1 gs://$GCS_BUCKET"
      ]
    },
    {
      "cell_type": "code",
      "execution_count": null,
      "metadata": {
        "id": "M37hyrajlXKE",
        "tags": []
      },
      "outputs": [],
      "source": [
        "def upload_blob(bucket_name, source_file_name, destination_blob_name):\n",
        "    \"\"\"Uploads a file to a Google Cloud Storage bucket.\n",
        "\n",
        "    Args:\n",
        "        bucket_name: The name of the bucket to upload the file to.\n",
        "        source_file_name: The name of the file to upload.\n",
        "        destination_blob_name: The name of the blob in the bucket.\n",
        "    \"\"\"\n",
        "    storage_client = storage.Client()\n",
        "    bucket = storage_client.bucket(bucket_name)\n",
        "    blob = bucket.blob(destination_blob_name)\n",
        "\n",
        "    generation_match_precondition = None\n",
        "\n",
        "    blob.upload_from_filename(source_file_name, if_generation_match=generation_match_precondition)\n",
        "\n",
        "    print(\n",
        "        f\"File {source_file_name} uploaded to {destination_blob_name}.\"\n",
        "    )"
      ]
    },
    {
      "cell_type": "markdown",
      "metadata": {
        "id": "olU8gbIc2-9w"
      },
      "source": [
        "If you already have a GCS bucket, specify the GCS bucket you will use to store index.html before running `upload_blob` in the next cell."
      ]
    },
    {
      "cell_type": "code",
      "execution_count": null,
      "metadata": {
        "colab": {
          "base_uri": "https://localhost:8080/"
        },
        "id": "D5UetmHzMQBn",
        "outputId": "b06cc542-2c18-4aab-8dfd-b6dbe2c7d256",
        "tags": []
      },
      "outputs": [
        {
          "name": "stdout",
          "output_type": "stream",
          "text": [
            "File index.html uploaded to index.html.\n"
          ]
        }
      ],
      "source": [
        "# GCS_BUCKET = \"\"\n",
        "upload_blob(GCS_BUCKET,\"index.html\",\"index.html\")"
      ]
    },
    {
      "cell_type": "markdown",
      "metadata": {
        "id": "n1o6kHqTkbWk"
      },
      "source": [
        "Click the Authenticated URL of the index.html file in your GCS bucket to check out the live update."
      ]
    },
    {
      "cell_type": "markdown",
      "metadata": {
        "id": "0oeOBfCiYVaj"
      },
      "source": [
        "![Screenshot 2024-04-18 at 3.43.34 PM.png](data:image/png;base64,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)"
      ]
    },
    {
      "cell_type": "markdown",
      "metadata": {
        "id": "zS8aPJeugMzf"
      },
      "source": [
        "# 🧹 Cleaning up\n",
        "\n",
        "Clean up resources created in this notebook."
      ]
    },
    {
      "cell_type": "markdown",
      "metadata": {
        "id": "qo2UYWl_dC55"
      },
      "source": [
        "Remove the extensions instances created in this notebook by running the cell below:  "
      ]
    },
    {
      "cell_type": "code",
      "execution_count": null,
      "metadata": {
        "colab": {
          "base_uri": "https://localhost:8080/"
        },
        "id": "nl0ephMroHQX",
        "outputId": "c34e21c6-6b0e-4b06-ea19-f0a76113b43e"
      },
      "outputs": [
        {
          "name": "stderr",
          "output_type": "stream",
          "text": [
            "INFO:google.cloud.aiplatform.base:Deleting Extension : projects/certain-haiku-391918/locations/us-central1/extensions/2441443579244052480\n",
            "INFO:google.cloud.aiplatform.base:Delete Extension  backing LRO: projects/656421903914/locations/us-central1/operations/7221688063104122880\n",
            "INFO:google.cloud.aiplatform.base:Extension deleted. . Resource name: projects/certain-haiku-391918/locations/us-central1/extensions/2441443579244052480\n"
          ]
        }
      ],
      "source": [
        "extension_code_interpreter.delete()"
      ]
    },
    {
      "cell_type": "markdown",
      "metadata": {
        "id": "K1pyDrUuSOg8"
      },
      "source": [
        "You can run the next cell to get a list of all other remaining Vertex AI Extension Instances in your environment:"
      ]
    },
    {
      "cell_type": "code",
      "execution_count": null,
      "metadata": {
        "id": "GTEgYGhFQfTW"
      },
      "outputs": [],
      "source": [
        "extensions.Extension.list()"
      ]
    },
    {
      "cell_type": "markdown",
      "metadata": {
        "id": "ihJEWJvNSfc9"
      },
      "source": [
        "Optionally, you can uncomment the following code block to delete all active extensions in your project, by using the IDs above to clean up:"
      ]
    },
    {
      "cell_type": "code",
      "execution_count": null,
      "metadata": {
        "id": "CsPKKv-USmi-"
      },
      "outputs": [],
      "source": [
        "#clean_ids = []\n",
        "\n",
        "#for element in extensions.Extension.list():\n",
        "    #clean_ids.append(str(element).split(\"extensions/\")[1])\n",
        "\n",
        "#for id in clean_ids:\n",
        "   #extension = extensions.Extension(id)\n",
        "   #extension.delete()"
      ]
    },
    {
      "cell_type": "markdown",
      "metadata": {
        "id": "nOaXVcpzhBI3"
      },
      "source": [
        "Uncomment below to delete your GCS Bucket by first deleting all files in it, then deleting the bucket itself:\n",
        "\n",
        "❗❗❗ Only run the below cells if you created a new bucket just for this notebook ❗❗❗"
      ]
    },
    {
      "cell_type": "code",
      "execution_count": null,
      "metadata": {
        "id": "BR891aucg72e"
      },
      "outputs": [],
      "source": [
        "# Delete contents of the bucket and the bucket\n",
        "#! gsutil -m rm -r gs://$GCS_BUCKET"
      ]
    },
    {
      "cell_type": "markdown",
      "metadata": {
        "id": "3w8tg9O6rBmx"
      },
      "source": [
        "Delete your Google Cloud CLI ADC Configuration, if you no longer need it, by running:\n",
        "\n",
        "`$ gcloud config configurations delete CONFIG_NAME`\n"
      ]
    },
    {
      "cell_type": "markdown",
      "metadata": {
        "id": "SuJs4q0oThE3"
      },
      "source": [
        "❗❗❗ Don't forget to delete any other created assets if you don't need them."
      ]
    }
  ],
  "metadata": {
    "colab": {
      "provenance": [],
      "toc_visible": true
    },
    "environment": {
      "kernel": "webdev",
      "name": "workbench-notebooks.m119",
      "type": "gcloud",
      "uri": "us-docker.pkg.dev/deeplearning-platform-release/gcr.io/workbench-notebooks:m119"
    },
    "kernelspec": {
      "display_name": "webdev (Local)",
      "language": "python",
      "name": "webdev"
    },
    "language_info": {
      "codemirror_mode": {
        "name": "ipython",
        "version": 3
      },
      "file_extension": ".py",
      "mimetype": "text/x-python",
      "name": "python",
      "nbconvert_exporter": "python",
      "pygments_lexer": "ipython3",
      "version": "3.10.14"
    }
  },
  "nbformat": 4,
  "nbformat_minor": 0
}