{
  "cells": [
    {
      "cell_type": "code",
      "execution_count": null,
      "metadata": {
        "id": "Js_h8jjWM1mu"
      },
      "outputs": [],
      "source": [
        "# Copyright 2024 Google LLC\n",
        "#\n",
        "# Licensed under the Apache License, Version 2.0 (the \"License\");\n",
        "# you may not use this file except in compliance with the License.\n",
        "# You may obtain a copy of the License at\n",
        "#\n",
        "#     https://www.apache.org/licenses/LICENSE-2.0\n",
        "#\n",
        "# Unless required by applicable law or agreed to in writing, software\n",
        "# distributed under the License is distributed on an \"AS IS\" BASIS,\n",
        "# WITHOUT WARRANTIES OR CONDITIONS OF ANY KIND, either express or implied.\n",
        "# See the License for the specific language governing permissions and\n",
        "# limitations under the License."
      ]
    },
    {
      "cell_type": "markdown",
      "source": [
        "See [Google Cloud Marketplace](https://console.cloud.google.com/marketplace/product/city-of-new-york/nyc-311) for terms of use of the dataset featured in this notebook."
      ],
      "metadata": {
        "id": "si1MarbUIZ_k"
      }
    },
    {
      "cell_type": "markdown",
      "source": [
        "# Working with Pandas Using the Vertex AI Extensions Code Interpreter Extension\n"
      ],
      "metadata": {
        "id": "ZJ5caKL2Ff2B"
      }
    },
    {
      "cell_type": "markdown",
      "source": [
        "<table align=\"left\">\n",
        "  <td style=\"text-align: center\">\n",
        "    <a href=\"https://colab.research.google.com/github/GoogleCloudPlatform/applied-ai-engineering-samples/blob/main/genai-on-vertex-ai/vertex_ai_extensions/notebooks/pandas_code_interpreter.ipynb\">\n",
        "      <img src=\"https://cloud.google.com/ml-engine/images/colab-logo-32px.png\" alt=\"Google Colaboratory logo\"><br> Open in Colab\n",
        "    </a>\n",
        "  </td>\n",
        "  <td style=\"text-align: center\">\n",
        "    <a href=\"https://console.cloud.google.com/vertex-ai/colab/import/https:%2F%2Fraw.githubusercontent.com%2FGoogleCloudPlatform%2Fapplied-ai-engineering-samples%2Fblob%2Fmain%2Fgenai-on-vertex-ai%2Fvertex_ai_extensions%2Fnotebooks%2Fpandas_code_interpreter.ipynb\">\n",
        "      <img width=\"32px\" src=\"https://lh3.googleusercontent.com/JmcxdQi-qOpctIvWKgPtrzZdJJK-J3sWE1RsfjZNwshCFgE_9fULcNpuXYTilIR2hjwN\" alt=\"Google Cloud Colab Enterprise logo\"><br> Open in Colab Enterprise\n",
        "    </a>\n",
        "  </td>    \n",
        "  <td style=\"text-align: center\">\n",
        "    <a href=\"https://console.cloud.google.com/vertex-ai/workbench/deploy-notebook?download_url=https://raw.githubusercontent.com/GoogleCloudPlatform/applied-ai-engineering-samples/blob/main/genai-on-vertex-ai/vertex_ai_extensions/notebooks/pandas_code_interpreter.ipynb\">\n",
        "      <img src=\"https://lh3.googleusercontent.com/UiNooY4LUgW_oTvpsNhPpQzsstV5W8F7rYgxgGBD85cWJoLmrOzhVs_ksK_vgx40SHs7jCqkTkCk=e14-rj-sc0xffffff-h130-w32\" alt=\"Vertex AI logo\"><br> Open in Vertex AI Workbench\n",
        "    </a>\n",
        "  </td>\n",
        "  <td style=\"text-align: center\">\n",
        "    <a href=\"https://github.com/GoogleCloudPlatform/applied-ai-engineering-samples/blob/main/genai-on-vertex-ai/vertex_ai_extensions/notebooks/pandas_code_interpreter.ipynb\">\n",
        "      <img src=\"https://cloud.google.com/ml-engine/images/github-logo-32px.png\" alt=\"GitHub logo\"><br> View on GitHub\n",
        "    </a>\n",
        "  </td>\n",
        "</table>"
      ],
      "metadata": {
        "id": "5Qj-TzSNGUii"
      }
    },
    {
      "cell_type": "markdown",
      "source": [
        "| | |\n",
        "|----------|-------------|\n",
        "| Author(s)   | Michael W. Sherman |\n",
        "| Reviewers(s) | Yan Sun |\n",
        "| Last updated | 2024 03 28: Initial examples |\n",
        "| | 2024 04 10: Complete draft |"
      ],
      "metadata": {
        "id": "ocycMnwJGUii"
      }
    },
    {
      "cell_type": "markdown",
      "source": [
        "# Overview\n",
        "\n",
        "This notebook shows how to use the [Vertex AI Extensions](https://cloud.google.com/vertex-ai/generative-ai/docs/extensions/overview) Google-provided [Code Interpreter Extension](https://console.cloud.google.com/vertex-ai/generative-ai/docs/extensions/google-extensions.md#google_code_interpreter_extension) with [pandas](https://pandas.pydata.org/pandas-docs/stable/index.html) DataFrame.\n",
        "\n",
        "When your datasets is small, you can send the entire dataset to Code Interpreter by attaching a file. But what if your dataset is too large?\n",
        "\n",
        "One workaround is to send Code Interpreter relevant information about your dataset and then ask it to generate pandas code. Pandas DataFrames are only limited in size by the memory of your working environment, and [other frameworks](https://cloud.google.com/python/docs/reference/bigframes/latest) that support pandas code let you work with even larger datasets.\n",
        "\n",
        "In this notebook you will work with a real-world pandas dataset of tens of thousands of rows and use the Vertex AI Extensions Code Interpreter Extension to:\n",
        "- Set the types of pandas dataframe.\n",
        "- Remove rows based on a conditional test.\n",
        "- Augment the data with additional rows.\n",
        "- Sample the data.\n",
        "- Perform data analysis and generate plots."
      ],
      "metadata": {
        "id": "FlkJDD0nGUij"
      }
    },
    {
      "cell_type": "markdown",
      "source": [
        "**If you're already familiar with Google Cloud and the Vertex Extensions Code Interpreter Extension**, you can skip reading between here and the \"Step 1: Retrieve the Data\" section, but make sure to run the code cells."
      ],
      "metadata": {
        "id": "ZIBXCGNGfPKL"
      }
    },
    {
      "cell_type": "markdown",
      "source": [
        "## Vertex AI Extensions\n",
        "\n",
        "[Vertex AI Extensions](https://cloud.google.com/vertex-ai/generative-ai/docs/extensions/overview) is a platform for creating and managing extensions that connect large language models to external systems via APIs. These external systems can provide LLMs with real-time data and perform data processing actions on their behalf. You can use pre-built or third-party extensions in Vertex AI Extensions."
      ],
      "metadata": {
        "id": "KUXzlvfpn513"
      }
    },
    {
      "cell_type": "markdown",
      "source": [
        "## Vertex AI Extensions Code Interpreter Extension\n",
        "\n",
        "The [Code Interpreter](https://console.cloud.google.com/vertex-ai/generative-ai/docs/extensions/google-extensions.md#google_code_interpreter_extension) extension provides access to a Python interpreter with a sandboxed, secure execution environment that can be used with any model in the Vertex AI Model Garden. This extension can generate and execute code in response to a user query or workflow. It allows the user or LLM agent to perform various tasks such as data analysis and visualization on new or existing data files.\n",
        "\n",
        "You can use the Code Interpreter extension to:\n",
        "\n",
        "* Generate and execute code.\n",
        "* Perform a wide variety of mathematical calculations.\n",
        "* Sort, filter, select the top results, and otherwise analyze data (including data acquired from other tools and APIs).\n",
        "* Create visualizations, plot charts, draw graphs, shapes, print results, etc."
      ],
      "metadata": {
        "id": "3r29fUEFn8JH"
      }
    },
    {
      "cell_type": "markdown",
      "source": [
        "## Using this Notebook\n",
        "\n",
        "Colab is recommended for running this notebook, but it can run in any iPython environment where you can connect to Google Cloud, install pip packages, etc.\n",
        "\n",
        "If you're running outside of Colab, depending on your environment you may need to install pip packages (like pandas) that are included in the Colab environment by default but are not part of the Python Standard Library. You'll also notice some comments in code cells that look like #@something -- these may contain informative text\n",
        "\n",
        "This tutorial uses the following Google Cloud services and resources:\n",
        "\n",
        "* Vertex AI Extensions\n",
        "* BigQuery\n",
        "\n",
        "This notebook has been tested in the following environment:\n",
        "\n",
        "* Python version = 3.10.12\n",
        "* [pandas](https://pypi.org/project/pandas/2.0.3/) version = 2.0.3\n",
        "* [google-cloud-aiplatform](https://pypi.org/project/google-cloud-aiplatform/) version = 1.47.0"
      ],
      "metadata": {
        "id": "uNriTZl70OdV"
      }
    },
    {
      "cell_type": "markdown",
      "source": [
        "## Useful Tips\n",
        "\n",
        "1. This notebook uses Generative AI cababilities. Re-running a cell that uses Generative AI capabilities may produce similar but not identical results. You'll almost certainly have to rerun some cells in this notebook that produce executable code but miss some of the complex instructions.\n",
        "2. Because of #1, it is possible that an output from Code Interpreter producess errors. If that happens re-run the cell that produced the coding error. The different generated code will likely be bug free. The `run_code_interpreter` method below helps automate this.\n",
        "3. The use of Extensions and other Generative AI capabilities is subject to service quotas. Running the notebook using \"Run All\" may exceed  your Queries per minute (QPM) limitations. Run the notebook manually and if you get a quota error pause for up to 1 minute before retrying that cell. Code Interpreter uses Gemini on the backend and is subject to the Gemini quotas, [view your Gemini quotas here](https://console.cloud.google.com/iam-admin/quotas?pageState=(%22allQuotasTable%22:(%22f%22:%22%255B%257B_22k_22_3A_22_22_2C_22t_22_3A10_2C_22v_22_3A_22_5C_22base_model_5C_22_22%257D_2C%257B_22k_22_3A_22_22_2C_22t_22_3A10_2C_22v_22_3A_22_5C_22gemini_5C_22_22%257D%255D%22%29%29&e=13802955&mods=logs_tg_staging).\n",
        "4. The Code Interpreter Extension is stateless and therefore every request to Code Interpreter does not have knowledge of previous operations nor files injested or produced in previous steps. Therefore, with any request to Code Interpreter you need to submit all files and instructions for that request to complete successfully.\n",
        "5. If you're sending data prepared in non-standard ways to Code Interpreter, you'll have to provide Code Interpreter information on how to use that data. For example, as later in this notebook, if you're sending data compressed with a specific compression algorithm, you have to let Code Interpreter know how to uncompress the data.\n",
        "6. Common ways of using the pandas library generate a lot of warnings. Related to number 2 above, you'll want to make sure you don't necessarily automatically rerun code that generates warnings. One way to handle this is to instruct Code Interpreter to use the Python `warnings` library to supress warnings."
      ],
      "metadata": {
        "id": "Ar0aDcql1dxl"
      }
    },
    {
      "cell_type": "markdown",
      "source": [
        "# Getting Started\n",
        "\n",
        "The following steps are necessary to run this notebook, no matter what notebook environment you're using.\n",
        "\n",
        "If you're entirely new to Google Cloud, [get started here](https://cloud.google.com/docs/get-started)."
      ],
      "metadata": {
        "id": "PO_tnShTGUik"
      }
    },
    {
      "cell_type": "markdown",
      "source": [
        "## Google Cloud Project Setup\n",
        "\n",
        "1. [Select or create a Google Cloud project](https://console.cloud.google.com/cloud-resource-manager). When you first create an account, you get a $300 free credit towards your compute/storage costs.\n",
        "1. [Make sure that billing is enabled for your project](https://cloud.google.com/billing/docs/how-to/modify-project).\n",
        "1. [Enable the Vertex AI API](https://console.cloud.google.com/flows/enableapi?apiid=aiplatform.googleapis.com).\n",
        "1. [Enable the BigQuery API](https://console.cloud.google.com/apis/library/bigquery.googleapis.com)."
      ],
      "metadata": {
        "id": "XLf5oGqHn_DH"
      }
    },
    {
      "cell_type": "markdown",
      "source": [
        "## Google Cloud Permissions\n",
        "Make sure you have been [granted the following roles](https://cloud.google.com/iam/docs/granting-changing-revoking-access) for the GCP project you'll access from this notebook:\n",
        "* [`roles/aiplatform.user`](https://cloud.google.com/vertex-ai/docs/general/access-control#aiplatform.user)\n",
        "* [`roles/bigquery.jobUser`](https://cloud.google.com/bigquery/docs/access-control#bigquery.jobUser) or [`roles/bigquery.User`](https://cloud.google.com/bigquery/docs/access-control#bigquery.user)"
      ],
      "metadata": {
        "id": "PTuXDJ2qn-8W"
      }
    },
    {
      "cell_type": "markdown",
      "source": [
        "## Outside of Colab: Install the Google Cloud CLI\n",
        "\n",
        "If you are running this notebook in your own environment, you need to install the [Cloud SDK](https://cloud.google.com/sdk) (aka `gcloud`)."
      ],
      "metadata": {
        "id": "YE5wS2uzoDsk"
      }
    },
    {
      "cell_type": "markdown",
      "source": [
        "## Install the Google Cloud Vertex AI Python SDK\n",
        "\n",
        "If you already have the Google Cloud Vertex AI Python SDK installed, upgrade to the latest version."
      ],
      "metadata": {
        "id": "JdU-qMmbpR8r"
      }
    },
    {
      "cell_type": "code",
      "source": [
        "!pip install google-cloud-aiplatform --upgrade"
      ],
      "metadata": {
        "colab": {
          "base_uri": "https://localhost:8080/"
        },
        "id": "lHEI7wZMhZPd",
        "outputId": "651b32bf-6dc0-492d-9d0e-01fadff2d258"
      },
      "execution_count": 1,
      "outputs": [
        {
          "output_type": "stream",
          "name": "stdout",
          "text": [
            "Requirement already satisfied: google-cloud-aiplatform in /usr/local/lib/python3.10/dist-packages (1.47.0)\n",
            "Requirement already satisfied: google-api-core[grpc]!=2.0.*,!=2.1.*,!=2.2.*,!=2.3.*,!=2.4.*,!=2.5.*,!=2.6.*,!=2.7.*,<3.0.0dev,>=1.34.1 in /usr/local/lib/python3.10/dist-packages (from google-cloud-aiplatform) (2.11.1)\n",
            "Requirement already satisfied: google-auth<3.0.0dev,>=2.14.1 in /usr/local/lib/python3.10/dist-packages (from google-cloud-aiplatform) (2.27.0)\n",
            "Requirement already satisfied: proto-plus<2.0.0dev,>=1.22.0 in /usr/local/lib/python3.10/dist-packages (from google-cloud-aiplatform) (1.23.0)\n",
            "Requirement already satisfied: protobuf!=3.20.0,!=3.20.1,!=4.21.0,!=4.21.1,!=4.21.2,!=4.21.3,!=4.21.4,!=4.21.5,<5.0.0dev,>=3.19.5 in /usr/local/lib/python3.10/dist-packages (from google-cloud-aiplatform) (3.20.3)\n",
            "Requirement already satisfied: packaging>=14.3 in /usr/local/lib/python3.10/dist-packages (from google-cloud-aiplatform) (24.0)\n",
            "Requirement already satisfied: google-cloud-storage<3.0.0dev,>=1.32.0 in /usr/local/lib/python3.10/dist-packages (from google-cloud-aiplatform) (2.8.0)\n",
            "Requirement already satisfied: google-cloud-bigquery!=3.20.0,<4.0.0dev,>=1.15.0 in /usr/local/lib/python3.10/dist-packages (from google-cloud-aiplatform) (3.12.0)\n",
            "Requirement already satisfied: google-cloud-resource-manager<3.0.0dev,>=1.3.3 in /usr/local/lib/python3.10/dist-packages (from google-cloud-aiplatform) (1.12.3)\n",
            "Requirement already satisfied: shapely<3.0.0dev in /usr/local/lib/python3.10/dist-packages (from google-cloud-aiplatform) (2.0.3)\n",
            "Requirement already satisfied: pydantic<3 in /usr/local/lib/python3.10/dist-packages (from google-cloud-aiplatform) (2.6.4)\n",
            "Requirement already satisfied: docstring-parser<1 in /usr/local/lib/python3.10/dist-packages (from google-cloud-aiplatform) (0.16)\n",
            "Requirement already satisfied: googleapis-common-protos<2.0.dev0,>=1.56.2 in /usr/local/lib/python3.10/dist-packages (from google-api-core[grpc]!=2.0.*,!=2.1.*,!=2.2.*,!=2.3.*,!=2.4.*,!=2.5.*,!=2.6.*,!=2.7.*,<3.0.0dev,>=1.34.1->google-cloud-aiplatform) (1.63.0)\n",
            "Requirement already satisfied: requests<3.0.0.dev0,>=2.18.0 in /usr/local/lib/python3.10/dist-packages (from google-api-core[grpc]!=2.0.*,!=2.1.*,!=2.2.*,!=2.3.*,!=2.4.*,!=2.5.*,!=2.6.*,!=2.7.*,<3.0.0dev,>=1.34.1->google-cloud-aiplatform) (2.31.0)\n",
            "Requirement already satisfied: grpcio<2.0dev,>=1.33.2 in /usr/local/lib/python3.10/dist-packages (from google-api-core[grpc]!=2.0.*,!=2.1.*,!=2.2.*,!=2.3.*,!=2.4.*,!=2.5.*,!=2.6.*,!=2.7.*,<3.0.0dev,>=1.34.1->google-cloud-aiplatform) (1.62.1)\n",
            "Requirement already satisfied: grpcio-status<2.0.dev0,>=1.33.2 in /usr/local/lib/python3.10/dist-packages (from google-api-core[grpc]!=2.0.*,!=2.1.*,!=2.2.*,!=2.3.*,!=2.4.*,!=2.5.*,!=2.6.*,!=2.7.*,<3.0.0dev,>=1.34.1->google-cloud-aiplatform) (1.48.2)\n",
            "Requirement already satisfied: cachetools<6.0,>=2.0.0 in /usr/local/lib/python3.10/dist-packages (from google-auth<3.0.0dev,>=2.14.1->google-cloud-aiplatform) (5.3.3)\n",
            "Requirement already satisfied: pyasn1-modules>=0.2.1 in /usr/local/lib/python3.10/dist-packages (from google-auth<3.0.0dev,>=2.14.1->google-cloud-aiplatform) (0.4.0)\n",
            "Requirement already satisfied: rsa<5,>=3.1.4 in /usr/local/lib/python3.10/dist-packages (from google-auth<3.0.0dev,>=2.14.1->google-cloud-aiplatform) (4.9)\n",
            "Requirement already satisfied: google-cloud-core<3.0.0dev,>=1.6.0 in /usr/local/lib/python3.10/dist-packages (from google-cloud-bigquery!=3.20.0,<4.0.0dev,>=1.15.0->google-cloud-aiplatform) (2.3.3)\n",
            "Requirement already satisfied: google-resumable-media<3.0dev,>=0.6.0 in /usr/local/lib/python3.10/dist-packages (from google-cloud-bigquery!=3.20.0,<4.0.0dev,>=1.15.0->google-cloud-aiplatform) (2.7.0)\n",
            "Requirement already satisfied: python-dateutil<3.0dev,>=2.7.2 in /usr/local/lib/python3.10/dist-packages (from google-cloud-bigquery!=3.20.0,<4.0.0dev,>=1.15.0->google-cloud-aiplatform) (2.8.2)\n",
            "Requirement already satisfied: grpc-google-iam-v1<1.0.0dev,>=0.12.4 in /usr/local/lib/python3.10/dist-packages (from google-cloud-resource-manager<3.0.0dev,>=1.3.3->google-cloud-aiplatform) (0.13.0)\n",
            "Requirement already satisfied: annotated-types>=0.4.0 in /usr/local/lib/python3.10/dist-packages (from pydantic<3->google-cloud-aiplatform) (0.6.0)\n",
            "Requirement already satisfied: pydantic-core==2.16.3 in /usr/local/lib/python3.10/dist-packages (from pydantic<3->google-cloud-aiplatform) (2.16.3)\n",
            "Requirement already satisfied: typing-extensions>=4.6.1 in /usr/local/lib/python3.10/dist-packages (from pydantic<3->google-cloud-aiplatform) (4.11.0)\n",
            "Requirement already satisfied: numpy<2,>=1.14 in /usr/local/lib/python3.10/dist-packages (from shapely<3.0.0dev->google-cloud-aiplatform) (1.25.2)\n",
            "Requirement already satisfied: google-crc32c<2.0dev,>=1.0 in /usr/local/lib/python3.10/dist-packages (from google-resumable-media<3.0dev,>=0.6.0->google-cloud-bigquery!=3.20.0,<4.0.0dev,>=1.15.0->google-cloud-aiplatform) (1.5.0)\n",
            "Requirement already satisfied: pyasn1<0.7.0,>=0.4.6 in /usr/local/lib/python3.10/dist-packages (from pyasn1-modules>=0.2.1->google-auth<3.0.0dev,>=2.14.1->google-cloud-aiplatform) (0.6.0)\n",
            "Requirement already satisfied: six>=1.5 in /usr/local/lib/python3.10/dist-packages (from python-dateutil<3.0dev,>=2.7.2->google-cloud-bigquery!=3.20.0,<4.0.0dev,>=1.15.0->google-cloud-aiplatform) (1.16.0)\n",
            "Requirement already satisfied: charset-normalizer<4,>=2 in /usr/local/lib/python3.10/dist-packages (from requests<3.0.0.dev0,>=2.18.0->google-api-core[grpc]!=2.0.*,!=2.1.*,!=2.2.*,!=2.3.*,!=2.4.*,!=2.5.*,!=2.6.*,!=2.7.*,<3.0.0dev,>=1.34.1->google-cloud-aiplatform) (3.3.2)\n",
            "Requirement already satisfied: idna<4,>=2.5 in /usr/local/lib/python3.10/dist-packages (from requests<3.0.0.dev0,>=2.18.0->google-api-core[grpc]!=2.0.*,!=2.1.*,!=2.2.*,!=2.3.*,!=2.4.*,!=2.5.*,!=2.6.*,!=2.7.*,<3.0.0dev,>=1.34.1->google-cloud-aiplatform) (3.6)\n",
            "Requirement already satisfied: urllib3<3,>=1.21.1 in /usr/local/lib/python3.10/dist-packages (from requests<3.0.0.dev0,>=2.18.0->google-api-core[grpc]!=2.0.*,!=2.1.*,!=2.2.*,!=2.3.*,!=2.4.*,!=2.5.*,!=2.6.*,!=2.7.*,<3.0.0dev,>=1.34.1->google-cloud-aiplatform) (2.0.7)\n",
            "Requirement already satisfied: certifi>=2017.4.17 in /usr/local/lib/python3.10/dist-packages (from requests<3.0.0.dev0,>=2.18.0->google-api-core[grpc]!=2.0.*,!=2.1.*,!=2.2.*,!=2.3.*,!=2.4.*,!=2.5.*,!=2.6.*,!=2.7.*,<3.0.0dev,>=1.34.1->google-cloud-aiplatform) (2024.2.2)\n"
          ]
        }
      ]
    },
    {
      "cell_type": "markdown",
      "metadata": {
        "id": "R5Xep4W9lq-Z"
      },
      "source": [
        "### Restart runtime\n",
        "\n",
        "You may need to restart your notebook runtime to use the Vertex AI SDK. You can do this by running the cell below, which restarts the current kernel.\n",
        "\n",
        "You may see the restart reported as a crash, but it is working as-intended -- you are merely restarting the runtime.\n",
        "\n",
        "The restart might take a minute or longer. After its restarted, continue to the next step."
      ]
    },
    {
      "cell_type": "code",
      "execution_count": 2,
      "metadata": {
        "id": "XRvKdaPDTznN",
        "colab": {
          "base_uri": "https://localhost:8080/"
        },
        "outputId": "a2d9ab80-5904-464d-c12b-267d93ff9faf"
      },
      "outputs": [
        {
          "output_type": "execute_result",
          "data": {
            "text/plain": [
              "{'status': 'ok', 'restart': True}"
            ]
          },
          "metadata": {},
          "execution_count": 2
        }
      ],
      "source": [
        "import IPython\n",
        "\n",
        "app = IPython.Application.instance()\n",
        "app.kernel.do_shutdown(True)"
      ]
    },
    {
      "cell_type": "markdown",
      "metadata": {
        "id": "SbmM4z7FOBpM"
      },
      "source": [
        "<div class=\"alert alert-block alert-warning\">\n",
        "<b>⚠️ The kernel is going to restart. Please wait until it is finished before continuing to the next step. ⚠️</b>\n",
        "</div>\n"
      ]
    },
    {
      "cell_type": "markdown",
      "source": [
        "If you're using Colab, as long the notebook runtime isn't deleted (even if it restarts) you don't need to re-run the previous cell.\n",
        "\n",
        "If you're running this notebook in your own environment you shouldn't need to run the previous cell again unless you delete your IPython kernel."
      ],
      "metadata": {
        "id": "mCG23ih_sJr9"
      }
    },
    {
      "cell_type": "markdown",
      "source": [
        "## Authenticate\n",
        "\n",
        "If you're using Colab, run the code in the next cell. Follow the popups and authenticate with an account that has access to your Google Cloud [project](https://cloud.google.com/resource-manager/docs/creating-managing-projects#identifying_projects).\n",
        "\n",
        "If you're running this notebook somewhere besides Colab, make sure your environment has the right Google Cloud access. If that's a new concept to you, consider looking into [Application Default Credentials for your local environment](https://cloud.google.com/docs/authentication/provide-credentials-adc#local-dev) and [initializing the Google Cloud CLI](https://cloud.google.com/docs/authentication/gcloud). More authentication options are discussed [here](https://cloud.google.com/docs/authentication)."
      ],
      "metadata": {
        "id": "7plalcaLGUik"
      }
    },
    {
      "cell_type": "code",
      "source": [
        "# Colab authentication.\n",
        "import sys\n",
        "\n",
        "if \"google.colab\" in sys.modules:\n",
        "    from google.colab import auth\n",
        "    auth.authenticate_user()\n",
        "    print('Authenticated')"
      ],
      "metadata": {
        "colab": {
          "base_uri": "https://localhost:8080/"
        },
        "outputId": "00d3b364-215c-4086-e6ec-201b731c3465",
        "id": "THYfMKWMGUil"
      },
      "execution_count": 1,
      "outputs": [
        {
          "output_type": "stream",
          "name": "stdout",
          "text": [
            "Authenticated\n"
          ]
        }
      ]
    },
    {
      "cell_type": "markdown",
      "metadata": {
        "id": "init_aip:mbsdk,all"
      },
      "source": [
        "# Initialize the Google Cloud Vertex AI Python SDK\n",
        "\n",
        "Start here if your Notebook kernel restarts (but isn't deleted), though if it's been a few hours you may need to run the Authentication steps above again.\n",
        "\n",
        "To initialize the SDK, you need to set your Google Cloud project ID and region.\n",
        "\n",
        "If you don't know your project  ID, try the [Google Cloud CLI](https://cloud.google.com/sdk) commands [`gcloud config list`](https://cloud.google.com/sdk/gcloud/reference/config/list) or [`gcloud projects list`](https://cloud.google.com/sdk/gcloud/reference/projects/list). See the support page [Locate the project ID](https://support.google.com/googleapi/answer/7014113) for more information.\n"
      ]
    },
    {
      "cell_type": "markdown",
      "metadata": {
        "id": "WReHDGG5g0XY"
      },
      "source": [
        "### Set Your Project ID\n",
        "\n"
      ]
    },
    {
      "cell_type": "code",
      "execution_count": 1,
      "metadata": {
        "id": "oM1iC_MfAts1"
      },
      "outputs": [],
      "source": [
        "PROJECT_ID = \"YOUR_PROJECT_ID_ HERE\"  # @param {type:\"string\"}"
      ]
    },
    {
      "cell_type": "markdown",
      "metadata": {
        "id": "region"
      },
      "source": [
        "### Set the Region\n",
        "\n",
        "You can also change the `REGION` variable used by Vertex AI. Learn more about [Vertex AI regions](https://cloud.google.com/vertex-ai/docs/general/locations)."
      ]
    },
    {
      "cell_type": "code",
      "execution_count": 2,
      "metadata": {
        "id": "Cg9uNa6rlyWx"
      },
      "outputs": [],
      "source": [
        "REGION = \"us-central1\"  # @param {type: \"string\"}"
      ]
    },
    {
      "cell_type": "markdown",
      "source": [
        "### Import the Vertex AI Python SDK"
      ],
      "metadata": {
        "id": "6-NbHLWtu-iW"
      }
    },
    {
      "cell_type": "code",
      "source": [
        "import vertexai\n",
        "from vertexai.preview import extensions\n",
        "\n",
        "vertexai.init(\n",
        "    project=PROJECT_ID,\n",
        "    location=REGION\n",
        ")"
      ],
      "metadata": {
        "id": "KhnzTqS8iOJC"
      },
      "execution_count": 3,
      "outputs": []
    },
    {
      "cell_type": "markdown",
      "source": [
        "# Import Additional Libraries"
      ],
      "metadata": {
        "id": "i1acCewrgFgY"
      }
    },
    {
      "cell_type": "code",
      "source": [
        "import pandas as pd\n",
        "pd.set_option('display.max_columns', None)\n",
        "import pprint  # For better formatting when printing raw Code Intepreter output."
      ],
      "metadata": {
        "id": "lfobYRV1gEVm"
      },
      "execution_count": 4,
      "outputs": []
    },
    {
      "cell_type": "markdown",
      "source": [
        "# Setup and Test the Code Interpreter Extension\n",
        "\n",
        "Code Interpreter is provided by Google, so you can load it directly."
      ],
      "metadata": {
        "id": "NIZnIItkxeb-"
      }
    },
    {
      "cell_type": "code",
      "source": [
        "extension_code_interpreter = extensions.Extension.from_hub(\"code_interpreter\")\n",
        "extension_code_interpreter"
      ],
      "metadata": {
        "id": "6zAMy-Ndinbz"
      },
      "execution_count": null,
      "outputs": []
    },
    {
      "cell_type": "markdown",
      "metadata": {
        "id": "oXzY2nqRlyWy"
      },
      "source": [
        "Confirm your Code Interpreter extension is registered:"
      ]
    },
    {
      "cell_type": "code",
      "execution_count": null,
      "metadata": {
        "id": "nPSe7IQtlyWz"
      },
      "outputs": [],
      "source": [
        "print(\"Name:\", extension_code_interpreter.gca_resource.name)\n",
        "print(\"Display Name:\", extension_code_interpreter.gca_resource.display_name)\n",
        "print(\"Description:\", extension_code_interpreter.gca_resource.description)"
      ]
    },
    {
      "cell_type": "markdown",
      "source": [
        "## Test Code Interpreter\n",
        "\n",
        "To test Code Interpreter, ask it to generate a basic plot from a small dataset. If you're already familiar with Code Interpreter you can skip this section."
      ],
      "metadata": {
        "id": "MejOedOYxc1O"
      }
    },
    {
      "cell_type": "code",
      "execution_count": null,
      "metadata": {
        "id": "QkgY1Ji-lyWz"
      },
      "outputs": [],
      "source": [
        "QUERY = \"\"\"\n",
        "Using the data below, construct a bar chart that includes only the height values with different colors for the bars:\n",
        "\n",
        "tree_heights_prices = {\n",
        "  \\\"Pine\\\": {\\\"height\\\": 100, \\\"price\\\": 100},\n",
        "  \\\"Oak\\\": {\\\"height\\\": 65, \\\"price\\\": 135},\n",
        "  \\\"Birch\\\": {\\\"height\\\": 45, \\\"price\\\": 80},\n",
        "  \\\"Redwood\\\": {\\\"height\\\": 200, \\\"price\\\": 200},\n",
        "  \\\"Fir\\\": {\\\"height\\\": 180, \\\"price\\\": 162},\n",
        "}\n",
        "\n",
        "Please include the data in the generated code.\n",
        "\"\"\"\n",
        "\n",
        "response = extension_code_interpreter.execute(\n",
        "    operation_id = \"generate_and_execute\",\n",
        "    operation_params = {\"query\": QUERY},\n",
        ")\n",
        "\n",
        "print(response)"
      ]
    },
    {
      "cell_type": "markdown",
      "source": [
        "Now, dig deeper into the returned `response` object. `pprint` more clearly shows the generated code:"
      ],
      "metadata": {
        "id": "9zfhZvJrzh8F"
      }
    },
    {
      "cell_type": "code",
      "source": [
        "pprint.pprint(response)"
      ],
      "metadata": {
        "id": "eEwauD0Xyzru"
      },
      "execution_count": null,
      "outputs": []
    },
    {
      "cell_type": "markdown",
      "source": [
        "You'll notice the `response` object has an `output_files` object that contains files you'll want to extract.\n",
        "\n",
        "In the next section you'll create some helper functions that make it easier to work with Code Interpreter's `response` object."
      ],
      "metadata": {
        "id": "aZB4ZDEmyzLm"
      }
    },
    {
      "cell_type": "markdown",
      "source": [
        "# Code Interpreter Helper Functions\n",
        "\n",
        "These functions are optional when using Code Interpreter but make it easier to inspect Code Interpreter's output, assemble Code Interprer requests, and run generated code."
      ],
      "metadata": {
        "id": "NLE3wb5VfhJv"
      }
    },
    {
      "cell_type": "markdown",
      "source": [
        "## `process_response`\n",
        "\n",
        "`process_response` displays the generated code and any output files, shows the output from code execution, surfaces code execution errors, and saves output files.\n",
        "\n",
        "**To use this functionality** call `process_response(response)` \\\n",
        "where `response` is the Code Interpreter `response` object.\n"
      ],
      "metadata": {
        "id": "9NnhQmFLAHXs"
      }
    },
    {
      "cell_type": "code",
      "source": [
        "import base64\n",
        "import json\n",
        "import pprint\n",
        "import pandas\n",
        "import sys\n",
        "import IPython\n",
        "if sys.version_info[0] < 3:\n",
        "    from StringIO import StringIO\n",
        "else:\n",
        "    from io import StringIO\n",
        "\n",
        "css_styles = \"\"\"\n",
        "<style>\n",
        ".main_summary {\n",
        "  font-weight: bold;\n",
        "  font-size: 14px; color: #4285F4;\n",
        "  background-color:rgba(221, 221, 221, 0.5); padding:8px;}\n",
        ".main_summary:hover {background-color: rgba(221, 221, 221, 1);}\n",
        "details {\n",
        "  background-color:#fff;\n",
        "  border: 1px solid #E8EAED;\n",
        "  padding:0px;\n",
        "  margin-bottom:2px; }\n",
        "details img {width:50%}\n",
        "details > div {padding:10px; }\n",
        "div#left > * > div {\n",
        "    overflow:auto;\n",
        "    max-height:400px; }\n",
        "\n",
        "div#right > pre {\n",
        "    overflow:auto;\n",
        "    max-height:600px;\n",
        "    background-color: ghostwhite;\n",
        "    padding: 10px; }\n",
        "details details > div { overflow: scroll; max-height:400px}\n",
        "details details {\n",
        "  background-color:rgba(246, 231, 217, 0.2);\n",
        "  border: 1px solid #FBBC04;}\n",
        "details details > summary {\n",
        "  padding: 8px;\n",
        "  background-color:rgba(255, 228, 196, 0.6); }\n",
        "details details > summary:hover { background-color:rgba(255, 228, 196, 0.9); }\n",
        "div#left {width: 64%; padding:0 1%;  }\n",
        "div#right {\n",
        "  border-left: 1px solid silver;\n",
        "  width: 30%;\n",
        "  float: right;\n",
        "  padding:0 1%; }\n",
        "body {color: #000; background-color: white; padding:10px 10px 40px 10px; }\n",
        "#main { border: 1px solid #FBBC04; padding:10px 0; display: flow-root; }\n",
        "h3 {color: #000; }\n",
        "code  { font-family: monospace; color: #900; padding: 0 2px; font-size: 105%; }\n",
        "</style>\n",
        "        \"\"\"\n",
        "\n",
        "# Parser to visualise the content of returned files as HTML.\n",
        "def parse_files_to_html(outputFiles, save_files_locally = True):\n",
        "    IMAGE_FILE_EXTENSIONS = set([\"jpg\", \"jpeg\", \"png\"])\n",
        "    file_list = []\n",
        "    details_tml = \"\"\"<details><summary>{name}</summary><div>{html_content}</div></details>\"\"\"\n",
        "\n",
        "    if not outputFiles:\n",
        "      return \"No Files generated from the code\"\n",
        "    # Sort output_files so images are displayed before other files such as JSON.\n",
        "    for output_file in sorted(\n",
        "        outputFiles,\n",
        "        key=lambda x: x[\"name\"].split(\".\")[-1] not in IMAGE_FILE_EXTENSIONS,\n",
        "    ):\n",
        "        file_name = output_file.get(\"name\")\n",
        "        file_contents = base64.b64decode(output_file.get(\"contents\"))\n",
        "        if save_files_locally:\n",
        "          open(file_name,\"wb\").write(file_contents)\n",
        "\n",
        "        if file_name.split(\".\")[-1] in IMAGE_FILE_EXTENSIONS:\n",
        "            # Render Image\n",
        "            file_html_content = ('<img src=\"data:image/png;base64, '\n",
        "                                f'{output_file.get(\"contents\")}\" />')\n",
        "        elif file_name.endswith(\".json\"):\n",
        "            # Pretty print JSON\n",
        "            json_pp = pprint.pformat(\n",
        "                        json.loads(file_contents.decode()),\n",
        "                        compact=False,\n",
        "                        width=160)\n",
        "            file_html_content =  (f'<span>{json_pp}</span>')\n",
        "        elif file_name.endswith(\".csv\"):\n",
        "            # CSV\n",
        "            csv_md = pandas.read_csv(\n",
        "                  StringIO(file_contents.decode())).to_markdown(index=False)\n",
        "            file_html_content = f'<span>{csv_md}</span>'\n",
        "        elif file_name.endswith(\".pkl\"):\n",
        "            # PKL\n",
        "            file_html_content = f'<span>Preview N/A</span>'\n",
        "        else:\n",
        "            file_html_content = f\"<span>{file_contents.decode()}</span>\"\n",
        "\n",
        "        file_list.append({'name': file_name, \"html_content\": file_html_content})\n",
        "\n",
        "    buffer_html = [ details_tml.format(**_file) for _file in file_list ]\n",
        "    return \"\".join(buffer_html)\n",
        "\n",
        "# Processing code interpreter response to html visualization.\n",
        "def process_response(response: dict, save_files_locally = True) -> None:\n",
        "\n",
        "  result_template = \"\"\"\n",
        "  <details open>\n",
        "    <summary class='main_summary'>{summary}:</summary>\n",
        "    <div><pre>{content}</pre></div>\n",
        "  </details>\n",
        "  \"\"\"\n",
        "\n",
        "  result = \"\"\n",
        "  code = response.get('generated_code')\n",
        "  if 'execution_result' in response and response['execution_result']!=\"\":\n",
        "    result = result_template.format(\n",
        "        summary=\"Executed Code Output\",\n",
        "        content=response.get('execution_result'))\n",
        "  else:\n",
        "    result = result_template.format(\n",
        "      summary=\"Executed Code Output\",\n",
        "      content=\"Code does not produce printable output.\")\n",
        "\n",
        "  if response.get('execution_error', None):\n",
        "    result += result_template.format(\n",
        "        summary=\"Generated Code Raised a (Possibly Non-Fatal) Exception\",\n",
        "        content=response.get('execution_error', None))\n",
        "\n",
        "  result += result_template.format(\n",
        "    summary=\"Files Created <u>(Click on filename to view content)</u>\",\n",
        "    content=parse_files_to_html(\n",
        "        response.get('output_files', []),\n",
        "        save_files_locally = True))\n",
        "\n",
        "  display(\n",
        "      IPython.display.HTML(\n",
        "        ( f\"{css_styles}\"\n",
        "f\"\"\"\n",
        "<div id='main'>\n",
        "    <div id=\"right\">\n",
        "      <h3>Generated Code by Code Interpreter</h3>\n",
        "      <pre><code>{code}</code></pre>\n",
        "    </div>\n",
        "    <div id=\"left\">\n",
        "      <h3>Code Execution Results</h3>\n",
        "      {result}\n",
        "    </div>\n",
        "</div>\n",
        "\"\"\"\n",
        "        )\n",
        "      )\n",
        "  )"
      ],
      "metadata": {
        "id": "Md76P2cH_qMO"
      },
      "execution_count": 9,
      "outputs": []
    },
    {
      "cell_type": "markdown",
      "source": [
        "## `run_code_interpreter`\n",
        "`run_code_interpreter` eases calling Code Interpreter by encoding files to base 64 (a Code Interpreter requirement) and submitting the files alongside the instructions. It also automates retries (5 by default) if the generated code doesn't execute or if Code Interpreter fails due to exceeding Gemini (time-based) quotas. Additionally, a global `CODE_INTERPRETER_WRITTEN_FILES` variable is populated by `run_code_interpreter` to aid with cleaning up files created by code intprereter.\n",
        "\n",
        "**To use this functionality**  call `run_code_interpreter(instructions, filenames, retry_num)`\n",
        "where `instructions` is the prompt for Code Interpreter, `filenames` is a list of local files in the working directory to submit to Code Interpreter, and optionally `retry_num` if you want to change the default number of retries from 5 and `retry_wait_time` if you want to change the default 15 second wait between retries."
      ],
      "metadata": {
        "id": "9UYWV1OYEYz2"
      }
    },
    {
      "cell_type": "code",
      "source": [
        "from time import sleep\n",
        "\n",
        "global CODE_INTERPRETER_WRITTEN_FILES\n",
        "CODE_INTERPRETER_WRITTEN_FILES = []\n",
        "\n",
        "def run_code_interpreter(instructions: str,\n",
        "                         filenames: list[dict] = [],\n",
        "                         retry_num: int = 5,\n",
        "                         retry_wait_time: int = 15) -> dict['str', 'str']:\n",
        "\n",
        "  global CODE_INTERPRETER_WRITTEN_FILES\n",
        "\n",
        "  file_arr = [\n",
        "      {\n",
        "          \"name\": filename,\n",
        "          \"contents\":  base64.b64encode(open(filename, \"rb\").read()).decode()\n",
        "      }\n",
        "      for filename in filenames\n",
        "  ]\n",
        "\n",
        "  attempts = 0\n",
        "  res = {}\n",
        "\n",
        "  while attempts <= retry_num:\n",
        "    attempts += 1\n",
        "\n",
        "    res = extension_code_interpreter.execute(\n",
        "        operation_id = \"generate_and_execute\",\n",
        "        operation_params = {\n",
        "            \"query\": instructions,\n",
        "            \"files\": file_arr\n",
        "        },\n",
        "    )\n",
        "\n",
        "    CODE_INTERPRETER_WRITTEN_FILES.extend(\n",
        "        [item['name'] for item in res['output_files']])\n",
        "\n",
        "    if not res.get('execution_error', None):\n",
        "      return res\n",
        "    elif attempts <= retry_num:\n",
        "      print(f\"The generated code produced an error {res.get('execution_error')}\"\n",
        "            f\" -Automatic retry attempt # {attempts}/{retry_num}\")"
      ],
      "metadata": {
        "id": "L2xJ63r2EZGU"
      },
      "execution_count": 10,
      "outputs": []
    },
    {
      "cell_type": "markdown",
      "source": [
        "## `run_locally`\n",
        "`run_locally` executes code generated by Code Interpreter.\n",
        "\n",
        "**To use this functionality**  call `run_locally(response)` with the `response` object returned by Code Interpreter.\n",
        "\n",
        "Note, while issues with Code Interpreter code are unlikely, to avoid unexpected issues you should always inspect generated code before you run it locally.\n"
      ],
      "metadata": {
        "id": "s-T0SwZbNxmL"
      }
    },
    {
      "cell_type": "code",
      "source": [
        "def run_locally(response):\n",
        "  my_code = \"\\n\".join(response['generated_code'].split('\\n')[1:-1])\n",
        "  exec(my_code)\n"
      ],
      "metadata": {
        "id": "m6pn9muMNx6L"
      },
      "execution_count": 11,
      "outputs": []
    },
    {
      "cell_type": "markdown",
      "source": [
        "## Using the Helper Functions\n",
        "\n",
        "To demonstrate the helper functions, write a CSV of data, send the CSV with a prompt to Code Interpreter, examine the response, and run the code locally."
      ],
      "metadata": {
        "id": "Wq71jPJ7dMOd"
      }
    },
    {
      "cell_type": "code",
      "source": [
        "import csv\n",
        "\n",
        "tree_heights_prices = {\n",
        "  \"Pine\": {\"height\": 100, \"price\": 100},\n",
        "  \"Oak\": {\"height\": 65, \"price\": 135},\n",
        "  \"Birch\": {\"height\": 45, \"price\": 80},\n",
        "  \"Redwood\": {\"height\": 200, \"price\": 200},\n",
        "  \"Fir\": {\"height\": 180, \"price\": 162},\n",
        "}\n",
        "\n",
        "with open('tree_data.csv', 'w', newline='') as csvfile:\n",
        "    fieldnames = ['Tree', 'Height', 'Price']\n",
        "    writer = csv.DictWriter(csvfile, fieldnames=fieldnames)\n",
        "\n",
        "    writer.writeheader()\n",
        "    for tree, data in tree_heights_prices.items():\n",
        "        writer.writerow({'Tree': tree, 'Height': data['height'], 'Price': data['price']})"
      ],
      "metadata": {
        "id": "4FQ1s3YxfL4f"
      },
      "execution_count": 12,
      "outputs": []
    },
    {
      "cell_type": "code",
      "source": [
        "response = run_code_interpreter(\"Make a bar chart of the heights of the trees.\",\n",
        "                                ['tree_data.csv'])"
      ],
      "metadata": {
        "id": "ZEIADEAXjMuY"
      },
      "execution_count": 13,
      "outputs": []
    },
    {
      "cell_type": "code",
      "source": [
        "process_response(response)"
      ],
      "metadata": {
        "colab": {
          "base_uri": "https://localhost:8080/",
          "height": 469
        },
        "id": "MaLwhE6kjrQL",
        "outputId": "d25f72ba-a503-45e8-b1f9-21920bd5313d"
      },
      "execution_count": 14,
      "outputs": [
        {
          "output_type": "display_data",
          "data": {
            "text/plain": [
              "<IPython.core.display.HTML object>"
            ],
            "text/html": [
              "\n",
              "<style>\n",
              ".main_summary {\n",
              "  font-weight: bold;\n",
              "  font-size: 14px; color: #4285F4;\n",
              "  background-color:rgba(221, 221, 221, 0.5); padding:8px;}\n",
              ".main_summary:hover {background-color: rgba(221, 221, 221, 1);}\n",
              "details {\n",
              "  background-color:#fff;\n",
              "  border: 1px solid #E8EAED;\n",
              "  padding:0px;\n",
              "  margin-bottom:2px; }\n",
              "details img {width:50%}\n",
              "details > div {padding:10px; }\n",
              "div#left > * > div {\n",
              "    overflow:auto;\n",
              "    max-height:400px; }\n",
              "\n",
              "div#right > pre {\n",
              "    overflow:auto;\n",
              "    max-height:600px;\n",
              "    background-color: ghostwhite;\n",
              "    padding: 10px; }\n",
              "details details > div { overflow: scroll; max-height:400px}\n",
              "details details {\n",
              "  background-color:rgba(246, 231, 217, 0.2);\n",
              "  border: 1px solid #FBBC04;}\n",
              "details details > summary {\n",
              "  padding: 8px;\n",
              "  background-color:rgba(255, 228, 196, 0.6); }\n",
              "details details > summary:hover { background-color:rgba(255, 228, 196, 0.9); }\n",
              "div#left {width: 64%; padding:0 1%;  }\n",
              "div#right {\n",
              "  border-left: 1px solid silver;\n",
              "  width: 30%;\n",
              "  float: right;\n",
              "  padding:0 1%; }\n",
              "body {color: #000; background-color: white; padding:10px 10px 40px 10px; }\n",
              "#main { border: 1px solid #FBBC04; padding:10px 0; display: flow-root; }\n",
              "h3 {color: #000; }\n",
              "code  { font-family: monospace; color: #900; padding: 0 2px; font-size: 105%; }\n",
              "</style>\n",
              "        \n",
              "<div id='main'>\n",
              "    <div id=\"right\">\n",
              "      <h3>Generated Code by Code Interpreter</h3>\n",
              "      <pre><code>```python\n",
              "import pandas as pd\n",
              "import matplotlib.pyplot as plt\n",
              "\n",
              "# Read the data from the CSV file\n",
              "data = pd.read_csv('tree_data.csv')\n",
              "\n",
              "# Create a bar chart of the heights of the trees\n",
              "data.plot.bar(x='Tree', y='Height')\n",
              "\n",
              "# Add a title and labels to the chart\n",
              "plt.title('Heights of Trees')\n",
              "plt.xlabel('Tree')\n",
              "plt.ylabel('Height')\n",
              "\n",
              "# Display the chart\n",
              "plt.show()\n",
              "```</code></pre>\n",
              "    </div>\n",
              "    <div id=\"left\">\n",
              "      <h3>Code Execution Results</h3>\n",
              "      \n",
              "  <details open>\n",
              "    <summary class='main_summary'>Executed Code Output:</summary>\n",
              "    <div><pre>Code does not produce printable output.</pre></div>\n",
              "  </details>\n",
              "  \n",
              "  <details open>\n",
              "    <summary class='main_summary'>Files Created <u>(Click on filename to view content)</u>:</summary>\n",
              "    <div><pre><details><summary>code_execution_image_1_SFsXZqilNt_L2ukPoqW-mA8.png</summary><div><img src=\"data:image/png;base64, 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\" /></div></details></pre></div>\n",
              "  </details>\n",
              "  \n",
              "    </div>\n",
              "</div>\n"
            ]
          },
          "metadata": {}
        }
      ]
    },
    {
      "cell_type": "markdown",
      "source": [
        "One of the features of Code Interpreter is that it executes the code remotely, but Code Interpreter returns the generated code should you wish to run the code in you local environment."
      ],
      "metadata": {
        "id": "ZYPGX2uz0ijb"
      }
    },
    {
      "cell_type": "code",
      "source": [
        "run_locally(response)"
      ],
      "metadata": {
        "colab": {
          "base_uri": "https://localhost:8080/",
          "height": 521
        },
        "id": "pxC6iec0jzSl",
        "outputId": "b810096c-2cf0-44b1-bd5b-d7e757eb63ee"
      },
      "execution_count": 15,
      "outputs": [
        {
          "output_type": "display_data",
          "data": {
            "text/plain": [
              "<Figure size 640x480 with 1 Axes>"
            ],
            "image/png": "[encoded data removed]"
          },
          "metadata": {}
        }
      ]
    },
    {
      "cell_type": "markdown",
      "source": [
        "# Step 1: Retrieve the Data\n",
        "\n",
        "You'll be using the New York City 311 dataset, which contains citizen [complaints and reports](https://portal.311.nyc.gov/report-problems/) of non-emergency issues (e.g., illegal parking, noise, parties, leaking fire hydrants, damaged buildings, broken streetlights, etc.).\n",
        "\n",
        "This data is [hosted publicly on BigQuery](https://console.cloud.google.com/marketplace/product/city-of-new-york/nyc-311). Using the BigQuery API, download a sample of the dataset:"
      ],
      "metadata": {
        "id": "AmHlKV61v72l"
      }
    },
    {
      "cell_type": "code",
      "source": [
        "from google.cloud import bigquery\n",
        "\n",
        "client = bigquery.Client(project=PROJECT_ID)\n",
        "\n",
        "QUERY = (\"\"\"\n",
        "  SELECT\n",
        "    unique_key,\n",
        "    created_date,\n",
        "    closed_date,\n",
        "    agency,\n",
        "    agency_name,\n",
        "    complaint_type,\n",
        "    descriptor,\n",
        "    location_type,\n",
        "    incident_zip,\n",
        "    incident_address,\n",
        "    street_name,\n",
        "    cross_street_1,\n",
        "    cross_street_2,\n",
        "    intersection_street_1,\n",
        "    intersection_street_2,\n",
        "    address_type,\n",
        "    status,\n",
        "    resolution_description,\n",
        "    community_board,\n",
        "    borough,\n",
        "    park_facility_name,\n",
        "    open_data_channel_type,\n",
        "    taxi_pickup_location,\n",
        "    bridge_highway_name,\n",
        "    bridge_highway_direction,\n",
        "    bridge_highway_segment\n",
        "  FROM `bigquery-public-data.new_york_311.311_service_requests`\n",
        "  WHERE rand() < .0015\n",
        "  \"\"\")\n",
        "query_job = client.query(QUERY)\n",
        "df_311 = query_job.to_dataframe()"
      ],
      "metadata": {
        "id": "IG-hJqUYqxQN"
      },
      "execution_count": 16,
      "outputs": []
    },
    {
      "cell_type": "markdown",
      "source": [
        "Check how many rows you sampled and take a peek at the data."
      ],
      "metadata": {
        "id": "UKUCS_Os2dvj"
      }
    },
    {
      "cell_type": "code",
      "source": [
        "len(df_311)"
      ],
      "metadata": {
        "colab": {
          "base_uri": "https://localhost:8080/"
        },
        "id": "jU3DQm8gfDlS",
        "outputId": "5534af3e-b21d-431a-c77d-53356422a930"
      },
      "execution_count": 17,
      "outputs": [
        {
          "output_type": "execute_result",
          "data": {
            "text/plain": [
              "40759"
            ]
          },
          "metadata": {},
          "execution_count": 17
        }
      ]
    },
    {
      "cell_type": "code",
      "source": [
        "df_311.head()"
      ],
      "metadata": {
        "colab": {
          "base_uri": "https://localhost:8080/",
          "height": 399
        },
        "id": "oyu0_y5G9K5N",
        "outputId": "5a165305-8e9f-4d3b-9a4c-9c5a699d3e6d"
      },
      "execution_count": 18,
      "outputs": [
        {
          "output_type": "execute_result",
          "data": {
            "text/plain": [
              "   unique_key              created_date               closed_date agency  \\\n",
              "0    50402079 2021-04-27 14:27:31+00:00 2021-04-27 15:59:46+00:00    DHS   \n",
              "1    23984984 2012-09-08 16:31:00+00:00 2012-09-08 17:20:00+00:00    DOT   \n",
              "2    24947716 2013-02-06 00:00:00+00:00 2013-02-08 00:00:00+00:00    HPD   \n",
              "3    32202753 2015-12-10 14:17:16+00:00 2015-12-11 13:00:00+00:00    DOT   \n",
              "4    24999144 2013-02-13 07:24:12+00:00 2013-02-13 13:29:00+00:00    DOT   \n",
              "\n",
              "                                         agency_name  \\\n",
              "0                    Department of Homeless Services   \n",
              "1                       Department of Transportation   \n",
              "2  Department of Housing Preservation and Develop...   \n",
              "3                       Department of Transportation   \n",
              "4                       Department of Transportation   \n",
              "\n",
              "             complaint_type descriptor         location_type incident_zip  \\\n",
              "0                Encampment        N/A                  None        10024   \n",
              "1  Traffic Signal Condition       Door                  None         None   \n",
              "2           PAINT - PLASTER      WALLS  RESIDENTIAL BUILDING         None   \n",
              "3          Street Condition    Pothole                  None         None   \n",
              "4          Street Condition    Pothole                  None         None   \n",
              "\n",
              "      incident_address       street_name   cross_street_1    cross_street_2  \\\n",
              "0             BROADWAY          BROADWAY         BROADWAY  WEST   86 STREET   \n",
              "1                 None              None             None              None   \n",
              "2  709 FAIRMOUNT PLACE   FAIRMOUNT PLACE             None              None   \n",
              "3                 None              None             None              None   \n",
              "4     EAST  222 STREET  EAST  222 STREET  BRONX BOULEVARD  CARPENTER AVENUE   \n",
              "\n",
              "  intersection_street_1 intersection_street_2  address_type  status  \\\n",
              "0              BROADWAY      WEST   86 STREET          None  Closed   \n",
              "1                 8 AVE               34 ST W  INTERSECTION  Closed   \n",
              "2                  None                  None          None  Closed   \n",
              "3        HALLECK STREET     FOOD CENTER DRIVE  INTERSECTION  Closed   \n",
              "4                  None                  None          None  Closed   \n",
              "\n",
              "                              resolution_description        community_board  \\\n",
              "0  The Department of Homeless Services (DHS) revi...           07 MANHATTAN   \n",
              "1  Service Request status for this request is ava...  Unspecified MANHATTAN   \n",
              "2  The Department of Housing Preservation and Dev...      Unspecified BRONX   \n",
              "3  The Department of Transportation inspected thi...      Unspecified BRONX   \n",
              "4  The Department of Transportation inspected thi...      Unspecified BRONX   \n",
              "\n",
              "     borough park_facility_name open_data_channel_type taxi_pickup_location  \\\n",
              "0  MANHATTAN        Unspecified                  PHONE                 None   \n",
              "1  MANHATTAN        Unspecified                UNKNOWN                 None   \n",
              "2      BRONX        Unspecified                  PHONE                 None   \n",
              "3      BRONX        Unspecified                UNKNOWN                 None   \n",
              "4      BRONX        Unspecified                UNKNOWN                 None   \n",
              "\n",
              "  bridge_highway_name bridge_highway_direction bridge_highway_segment  \n",
              "0                None                     None                   None  \n",
              "1                None                     None                   None  \n",
              "2                None                     None                   None  \n",
              "3                None                     None                   None  \n",
              "4                None                     None                   None  "
            ],
            "text/html": [
              "\n",
              "  <div id=\"df-169cb52d-9ebe-47c0-ab41-f5134c5b7101\" class=\"colab-df-container\">\n",
              "    <div>\n",
              "<style scoped>\n",
              "    .dataframe tbody tr th:only-of-type {\n",
              "        vertical-align: middle;\n",
              "    }\n",
              "\n",
              "    .dataframe tbody tr th {\n",
              "        vertical-align: top;\n",
              "    }\n",
              "\n",
              "    .dataframe thead th {\n",
              "        text-align: right;\n",
              "    }\n",
              "</style>\n",
              "<table border=\"1\" class=\"dataframe\">\n",
              "  <thead>\n",
              "    <tr style=\"text-align: right;\">\n",
              "      <th></th>\n",
              "      <th>unique_key</th>\n",
              "      <th>created_date</th>\n",
              "      <th>closed_date</th>\n",
              "      <th>agency</th>\n",
              "      <th>agency_name</th>\n",
              "      <th>complaint_type</th>\n",
              "      <th>descriptor</th>\n",
              "      <th>location_type</th>\n",
              "      <th>incident_zip</th>\n",
              "      <th>incident_address</th>\n",
              "      <th>street_name</th>\n",
              "      <th>cross_street_1</th>\n",
              "      <th>cross_street_2</th>\n",
              "      <th>intersection_street_1</th>\n",
              "      <th>intersection_street_2</th>\n",
              "      <th>address_type</th>\n",
              "      <th>status</th>\n",
              "      <th>resolution_description</th>\n",
              "      <th>community_board</th>\n",
              "      <th>borough</th>\n",
              "      <th>park_facility_name</th>\n",
              "      <th>open_data_channel_type</th>\n",
              "      <th>taxi_pickup_location</th>\n",
              "      <th>bridge_highway_name</th>\n",
              "      <th>bridge_highway_direction</th>\n",
              "      <th>bridge_highway_segment</th>\n",
              "    </tr>\n",
              "  </thead>\n",
              "  <tbody>\n",
              "    <tr>\n",
              "      <th>0</th>\n",
              "      <td>50402079</td>\n",
              "      <td>2021-04-27 14:27:31+00:00</td>\n",
              "      <td>2021-04-27 15:59:46+00:00</td>\n",
              "      <td>DHS</td>\n",
              "      <td>Department of Homeless Services</td>\n",
              "      <td>Encampment</td>\n",
              "      <td>N/A</td>\n",
              "      <td>None</td>\n",
              "      <td>10024</td>\n",
              "      <td>BROADWAY</td>\n",
              "      <td>BROADWAY</td>\n",
              "      <td>BROADWAY</td>\n",
              "      <td>WEST   86 STREET</td>\n",
              "      <td>BROADWAY</td>\n",
              "      <td>WEST   86 STREET</td>\n",
              "      <td>None</td>\n",
              "      <td>Closed</td>\n",
              "      <td>The Department of Homeless Services (DHS) revi...</td>\n",
              "      <td>07 MANHATTAN</td>\n",
              "      <td>MANHATTAN</td>\n",
              "      <td>Unspecified</td>\n",
              "      <td>PHONE</td>\n",
              "      <td>None</td>\n",
              "      <td>None</td>\n",
              "      <td>None</td>\n",
              "      <td>None</td>\n",
              "    </tr>\n",
              "    <tr>\n",
              "      <th>1</th>\n",
              "      <td>23984984</td>\n",
              "      <td>2012-09-08 16:31:00+00:00</td>\n",
              "      <td>2012-09-08 17:20:00+00:00</td>\n",
              "      <td>DOT</td>\n",
              "      <td>Department of Transportation</td>\n",
              "      <td>Traffic Signal Condition</td>\n",
              "      <td>Door</td>\n",
              "      <td>None</td>\n",
              "      <td>None</td>\n",
              "      <td>None</td>\n",
              "      <td>None</td>\n",
              "      <td>None</td>\n",
              "      <td>None</td>\n",
              "      <td>8 AVE</td>\n",
              "      <td>34 ST W</td>\n",
              "      <td>INTERSECTION</td>\n",
              "      <td>Closed</td>\n",
              "      <td>Service Request status for this request is ava...</td>\n",
              "      <td>Unspecified MANHATTAN</td>\n",
              "      <td>MANHATTAN</td>\n",
              "      <td>Unspecified</td>\n",
              "      <td>UNKNOWN</td>\n",
              "      <td>None</td>\n",
              "      <td>None</td>\n",
              "      <td>None</td>\n",
              "      <td>None</td>\n",
              "    </tr>\n",
              "    <tr>\n",
              "      <th>2</th>\n",
              "      <td>24947716</td>\n",
              "      <td>2013-02-06 00:00:00+00:00</td>\n",
              "      <td>2013-02-08 00:00:00+00:00</td>\n",
              "      <td>HPD</td>\n",
              "      <td>Department of Housing Preservation and Develop...</td>\n",
              "      <td>PAINT - PLASTER</td>\n",
              "      <td>WALLS</td>\n",
              "      <td>RESIDENTIAL BUILDING</td>\n",
              "      <td>None</td>\n",
              "      <td>709 FAIRMOUNT PLACE</td>\n",
              "      <td>FAIRMOUNT PLACE</td>\n",
              "      <td>None</td>\n",
              "      <td>None</td>\n",
              "      <td>None</td>\n",
              "      <td>None</td>\n",
              "      <td>None</td>\n",
              "      <td>Closed</td>\n",
              "      <td>The Department of Housing Preservation and Dev...</td>\n",
              "      <td>Unspecified BRONX</td>\n",
              "      <td>BRONX</td>\n",
              "      <td>Unspecified</td>\n",
              "      <td>PHONE</td>\n",
              "      <td>None</td>\n",
              "      <td>None</td>\n",
              "      <td>None</td>\n",
              "      <td>None</td>\n",
              "    </tr>\n",
              "    <tr>\n",
              "      <th>3</th>\n",
              "      <td>32202753</td>\n",
              "      <td>2015-12-10 14:17:16+00:00</td>\n",
              "      <td>2015-12-11 13:00:00+00:00</td>\n",
              "      <td>DOT</td>\n",
              "      <td>Department of Transportation</td>\n",
              "      <td>Street Condition</td>\n",
              "      <td>Pothole</td>\n",
              "      <td>None</td>\n",
              "      <td>None</td>\n",
              "      <td>None</td>\n",
              "      <td>None</td>\n",
              "      <td>None</td>\n",
              "      <td>None</td>\n",
              "      <td>HALLECK STREET</td>\n",
              "      <td>FOOD CENTER DRIVE</td>\n",
              "      <td>INTERSECTION</td>\n",
              "      <td>Closed</td>\n",
              "      <td>The Department of Transportation inspected thi...</td>\n",
              "      <td>Unspecified BRONX</td>\n",
              "      <td>BRONX</td>\n",
              "      <td>Unspecified</td>\n",
              "      <td>UNKNOWN</td>\n",
              "      <td>None</td>\n",
              "      <td>None</td>\n",
              "      <td>None</td>\n",
              "      <td>None</td>\n",
              "    </tr>\n",
              "    <tr>\n",
              "      <th>4</th>\n",
              "      <td>24999144</td>\n",
              "      <td>2013-02-13 07:24:12+00:00</td>\n",
              "      <td>2013-02-13 13:29:00+00:00</td>\n",
              "      <td>DOT</td>\n",
              "      <td>Department of Transportation</td>\n",
              "      <td>Street Condition</td>\n",
              "      <td>Pothole</td>\n",
              "      <td>None</td>\n",
              "      <td>None</td>\n",
              "      <td>EAST  222 STREET</td>\n",
              "      <td>EAST  222 STREET</td>\n",
              "      <td>BRONX BOULEVARD</td>\n",
              "      <td>CARPENTER AVENUE</td>\n",
              "      <td>None</td>\n",
              "      <td>None</td>\n",
              "      <td>None</td>\n",
              "      <td>Closed</td>\n",
              "      <td>The Department of Transportation inspected thi...</td>\n",
              "      <td>Unspecified BRONX</td>\n",
              "      <td>BRONX</td>\n",
              "      <td>Unspecified</td>\n",
              "      <td>UNKNOWN</td>\n",
              "      <td>None</td>\n",
              "      <td>None</td>\n",
              "      <td>None</td>\n",
              "      <td>None</td>\n",
              "    </tr>\n",
              "  </tbody>\n",
              "</table>\n",
              "</div>\n",
              "    <div class=\"colab-df-buttons\">\n",
              "\n",
              "  <div class=\"colab-df-container\">\n",
              "    <button class=\"colab-df-convert\" onclick=\"convertToInteractive('df-169cb52d-9ebe-47c0-ab41-f5134c5b7101')\"\n",
              "            title=\"Convert this dataframe to an interactive table.\"\n",
              "            style=\"display:none;\">\n",
              "\n",
              "  <svg xmlns=\"http://www.w3.org/2000/svg\" height=\"24px\" viewBox=\"0 -960 960 960\">\n",
              "    <path d=\"M120-120v-720h720v720H120Zm60-500h600v-160H180v160Zm220 220h160v-160H400v160Zm0 220h160v-160H400v160ZM180-400h160v-160H180v160Zm440 0h160v-160H620v160ZM180-180h160v-160H180v160Zm440 0h160v-160H620v160Z\"/>\n",
              "  </svg>\n",
              "    </button>\n",
              "\n",
              "  <style>\n",
              "    .colab-df-container {\n",
              "      display:flex;\n",
              "      gap: 12px;\n",
              "    }\n",
              "\n",
              "    .colab-df-convert {\n",
              "      background-color: #E8F0FE;\n",
              "      border: none;\n",
              "      border-radius: 50%;\n",
              "      cursor: pointer;\n",
              "      display: none;\n",
              "      fill: #1967D2;\n",
              "      height: 32px;\n",
              "      padding: 0 0 0 0;\n",
              "      width: 32px;\n",
              "    }\n",
              "\n",
              "    .colab-df-convert:hover {\n",
              "      background-color: #E2EBFA;\n",
              "      box-shadow: 0px 1px 2px rgba(60, 64, 67, 0.3), 0px 1px 3px 1px rgba(60, 64, 67, 0.15);\n",
              "      fill: #174EA6;\n",
              "    }\n",
              "\n",
              "    .colab-df-buttons div {\n",
              "      margin-bottom: 4px;\n",
              "    }\n",
              "\n",
              "    [theme=dark] .colab-df-convert {\n",
              "      background-color: #3B4455;\n",
              "      fill: #D2E3FC;\n",
              "    }\n",
              "\n",
              "    [theme=dark] .colab-df-convert:hover {\n",
              "      background-color: #434B5C;\n",
              "      box-shadow: 0px 1px 3px 1px rgba(0, 0, 0, 0.15);\n",
              "      filter: drop-shadow(0px 1px 2px rgba(0, 0, 0, 0.3));\n",
              "      fill: #FFFFFF;\n",
              "    }\n",
              "  </style>\n",
              "\n",
              "    <script>\n",
              "      const buttonEl =\n",
              "        document.querySelector('#df-169cb52d-9ebe-47c0-ab41-f5134c5b7101 button.colab-df-convert');\n",
              "      buttonEl.style.display =\n",
              "        google.colab.kernel.accessAllowed ? 'block' : 'none';\n",
              "\n",
              "      async function convertToInteractive(key) {\n",
              "        const element = document.querySelector('#df-169cb52d-9ebe-47c0-ab41-f5134c5b7101');\n",
              "        const dataTable =\n",
              "          await google.colab.kernel.invokeFunction('convertToInteractive',\n",
              "                                                    [key], {});\n",
              "        if (!dataTable) return;\n",
              "\n",
              "        const docLinkHtml = 'Like what you see? Visit the ' +\n",
              "          '<a target=\"_blank\" href=https://colab.research.google.com/notebooks/data_table.ipynb>data table notebook</a>'\n",
              "          + ' to learn more about interactive tables.';\n",
              "        element.innerHTML = '';\n",
              "        dataTable['output_type'] = 'display_data';\n",
              "        await google.colab.output.renderOutput(dataTable, element);\n",
              "        const docLink = document.createElement('div');\n",
              "        docLink.innerHTML = docLinkHtml;\n",
              "        element.appendChild(docLink);\n",
              "      }\n",
              "    </script>\n",
              "  </div>\n",
              "\n",
              "\n",
              "<div id=\"df-3565be20-541c-4238-9e45-0e41834895e6\">\n",
              "  <button class=\"colab-df-quickchart\" onclick=\"quickchart('df-3565be20-541c-4238-9e45-0e41834895e6')\"\n",
              "            title=\"Suggest charts\"\n",
              "            style=\"display:none;\">\n",
              "\n",
              "<svg xmlns=\"http://www.w3.org/2000/svg\" height=\"24px\"viewBox=\"0 0 24 24\"\n",
              "     width=\"24px\">\n",
              "    <g>\n",
              "        <path d=\"M19 3H5c-1.1 0-2 .9-2 2v14c0 1.1.9 2 2 2h14c1.1 0 2-.9 2-2V5c0-1.1-.9-2-2-2zM9 17H7v-7h2v7zm4 0h-2V7h2v10zm4 0h-2v-4h2v4z\"/>\n",
              "    </g>\n",
              "</svg>\n",
              "  </button>\n",
              "\n",
              "<style>\n",
              "  .colab-df-quickchart {\n",
              "      --bg-color: #E8F0FE;\n",
              "      --fill-color: #1967D2;\n",
              "      --hover-bg-color: #E2EBFA;\n",
              "      --hover-fill-color: #174EA6;\n",
              "      --disabled-fill-color: #AAA;\n",
              "      --disabled-bg-color: #DDD;\n",
              "  }\n",
              "\n",
              "  [theme=dark] .colab-df-quickchart {\n",
              "      --bg-color: #3B4455;\n",
              "      --fill-color: #D2E3FC;\n",
              "      --hover-bg-color: #434B5C;\n",
              "      --hover-fill-color: #FFFFFF;\n",
              "      --disabled-bg-color: #3B4455;\n",
              "      --disabled-fill-color: #666;\n",
              "  }\n",
              "\n",
              "  .colab-df-quickchart {\n",
              "    background-color: var(--bg-color);\n",
              "    border: none;\n",
              "    border-radius: 50%;\n",
              "    cursor: pointer;\n",
              "    display: none;\n",
              "    fill: var(--fill-color);\n",
              "    height: 32px;\n",
              "    padding: 0;\n",
              "    width: 32px;\n",
              "  }\n",
              "\n",
              "  .colab-df-quickchart:hover {\n",
              "    background-color: var(--hover-bg-color);\n",
              "    box-shadow: 0 1px 2px rgba(60, 64, 67, 0.3), 0 1px 3px 1px rgba(60, 64, 67, 0.15);\n",
              "    fill: var(--button-hover-fill-color);\n",
              "  }\n",
              "\n",
              "  .colab-df-quickchart-complete:disabled,\n",
              "  .colab-df-quickchart-complete:disabled:hover {\n",
              "    background-color: var(--disabled-bg-color);\n",
              "    fill: var(--disabled-fill-color);\n",
              "    box-shadow: none;\n",
              "  }\n",
              "\n",
              "  .colab-df-spinner {\n",
              "    border: 2px solid var(--fill-color);\n",
              "    border-color: transparent;\n",
              "    border-bottom-color: var(--fill-color);\n",
              "    animation:\n",
              "      spin 1s steps(1) infinite;\n",
              "  }\n",
              "\n",
              "  @keyframes spin {\n",
              "    0% {\n",
              "      border-color: transparent;\n",
              "      border-bottom-color: var(--fill-color);\n",
              "      border-left-color: var(--fill-color);\n",
              "    }\n",
              "    20% {\n",
              "      border-color: transparent;\n",
              "      border-left-color: var(--fill-color);\n",
              "      border-top-color: var(--fill-color);\n",
              "    }\n",
              "    30% {\n",
              "      border-color: transparent;\n",
              "      border-left-color: var(--fill-color);\n",
              "      border-top-color: var(--fill-color);\n",
              "      border-right-color: var(--fill-color);\n",
              "    }\n",
              "    40% {\n",
              "      border-color: transparent;\n",
              "      border-right-color: var(--fill-color);\n",
              "      border-top-color: var(--fill-color);\n",
              "    }\n",
              "    60% {\n",
              "      border-color: transparent;\n",
              "      border-right-color: var(--fill-color);\n",
              "    }\n",
              "    80% {\n",
              "      border-color: transparent;\n",
              "      border-right-color: var(--fill-color);\n",
              "      border-bottom-color: var(--fill-color);\n",
              "    }\n",
              "    90% {\n",
              "      border-color: transparent;\n",
              "      border-bottom-color: var(--fill-color);\n",
              "    }\n",
              "  }\n",
              "</style>\n",
              "\n",
              "  <script>\n",
              "    async function quickchart(key) {\n",
              "      const quickchartButtonEl =\n",
              "        document.querySelector('#' + key + ' button');\n",
              "      quickchartButtonEl.disabled = true;  // To prevent multiple clicks.\n",
              "      quickchartButtonEl.classList.add('colab-df-spinner');\n",
              "      try {\n",
              "        const charts = await google.colab.kernel.invokeFunction(\n",
              "            'suggestCharts', [key], {});\n",
              "      } catch (error) {\n",
              "        console.error('Error during call to suggestCharts:', error);\n",
              "      }\n",
              "      quickchartButtonEl.classList.remove('colab-df-spinner');\n",
              "      quickchartButtonEl.classList.add('colab-df-quickchart-complete');\n",
              "    }\n",
              "    (() => {\n",
              "      let quickchartButtonEl =\n",
              "        document.querySelector('#df-3565be20-541c-4238-9e45-0e41834895e6 button');\n",
              "      quickchartButtonEl.style.display =\n",
              "        google.colab.kernel.accessAllowed ? 'block' : 'none';\n",
              "    })();\n",
              "  </script>\n",
              "</div>\n",
              "\n",
              "    </div>\n",
              "  </div>\n"
            ],
            "application/vnd.google.colaboratory.intrinsic+json": {
              "type": "dataframe",
              "variable_name": "df_311"
            }
          },
          "metadata": {},
          "execution_count": 18
        }
      ]
    },
    {
      "cell_type": "markdown",
      "source": [
        "As mentioned earlier in this notebook under Useful Tips, Code Interpreter is stateless. This means that you have to provide your data to Code Interpreter with each call.\n",
        "\n",
        "To facilitate this, we'll pickle and compress our DataFrame, making it smaller and more portable."
      ],
      "metadata": {
        "id": "uyoXUBet2hT0"
      }
    },
    {
      "cell_type": "code",
      "source": [
        "df_311.to_pickle('311_dataframe.pkl', compression=\"zip\")"
      ],
      "metadata": {
        "id": "jbzKXz-gqWU6"
      },
      "execution_count": 19,
      "outputs": []
    },
    {
      "cell_type": "markdown",
      "source": [
        "Note that when using Code Interpreter with data files prepared in a specific way, you have to tell Code Interpreter how to access the data. You'll see this in the rest of this notebook, where we instruct Code Interpreter on how to decompress the pickled DataFrame."
      ],
      "metadata": {
        "id": "RNs-_cB_5llH"
      }
    },
    {
      "cell_type": "markdown",
      "source": [
        "# Step 2: Clean the Data\n",
        "\n",
        "The 311 data is relatively clean, but there are still some issues you'll want to address."
      ],
      "metadata": {
        "id": "IAG5AbcD3RZS"
      }
    },
    {
      "cell_type": "markdown",
      "source": [
        "## Assign Column Types\n",
        "\n",
        "Take a look at the column types pandas assumed when generating a DataFrame from the imported data:"
      ],
      "metadata": {
        "id": "-uCRG5q_5GiK"
      }
    },
    {
      "cell_type": "code",
      "source": [
        "df_311.dtypes"
      ],
      "metadata": {
        "colab": {
          "base_uri": "https://localhost:8080/"
        },
        "id": "hr3Jk7oXspTq",
        "outputId": "89039fa3-7555-482f-b326-b7d7ec7f1bb4"
      },
      "execution_count": 20,
      "outputs": [
        {
          "output_type": "execute_result",
          "data": {
            "text/plain": [
              "unique_key                                Int64\n",
              "created_date                datetime64[us, UTC]\n",
              "closed_date                 datetime64[us, UTC]\n",
              "agency                                   object\n",
              "agency_name                              object\n",
              "complaint_type                           object\n",
              "descriptor                               object\n",
              "location_type                            object\n",
              "incident_zip                             object\n",
              "incident_address                         object\n",
              "street_name                              object\n",
              "cross_street_1                           object\n",
              "cross_street_2                           object\n",
              "intersection_street_1                    object\n",
              "intersection_street_2                    object\n",
              "address_type                             object\n",
              "status                                   object\n",
              "resolution_description                   object\n",
              "community_board                          object\n",
              "borough                                  object\n",
              "park_facility_name                       object\n",
              "open_data_channel_type                   object\n",
              "taxi_pickup_location                     object\n",
              "bridge_highway_name                      object\n",
              "bridge_highway_direction                 object\n",
              "bridge_highway_segment                   object\n",
              "dtype: object"
            ]
          },
          "metadata": {},
          "execution_count": 20
        }
      ]
    },
    {
      "cell_type": "markdown",
      "source": [
        "Most of these columns are text, but many are categorical. And while having them as a pandas objects (which are pointers to strings) won't break anything, it's suboptimal. To save space and ease working with the data, we'll use Code Interpreter to assign more appropriate types based on the BigQuery schema.\n",
        "\n",
        "First, retrieve the BigQuery schema and save it locally as `schema.json`:"
      ],
      "metadata": {
        "id": "zy2GG5wN3jgp"
      }
    },
    {
      "cell_type": "code",
      "source": [
        "table = client.get_table('bigquery-public-data.new_york_311.311_service_requests')\n",
        "schema_file = open(\"schema.json\", \"w\")\n",
        "client.schema_to_json(table.schema, schema_file)\n",
        "schema_file.close()"
      ],
      "metadata": {
        "id": "q--7DA9InfO7"
      },
      "execution_count": 21,
      "outputs": []
    },
    {
      "cell_type": "markdown",
      "source": [
        "The BigQuery schema file is a JSON with field names and types:"
      ],
      "metadata": {
        "id": "TFDJ2-rC5WzJ"
      }
    },
    {
      "cell_type": "code",
      "source": [
        "!head -30 schema.json"
      ],
      "metadata": {
        "colab": {
          "base_uri": "https://localhost:8080/"
        },
        "id": "pO7AK0v55K1r",
        "outputId": "b60ba357-7ad3-4903-b911-252e7783b308"
      },
      "execution_count": 22,
      "outputs": [
        {
          "output_type": "stream",
          "name": "stdout",
          "text": [
            "[\n",
            "  {\n",
            "    \"description\": \"\",\n",
            "    \"mode\": \"NULLABLE\",\n",
            "    \"name\": \"unique_key\",\n",
            "    \"type\": \"INTEGER\"\n",
            "  },\n",
            "  {\n",
            "    \"description\": \"\",\n",
            "    \"mode\": \"NULLABLE\",\n",
            "    \"name\": \"created_date\",\n",
            "    \"type\": \"TIMESTAMP\"\n",
            "  },\n",
            "  {\n",
            "    \"description\": \"\",\n",
            "    \"mode\": \"NULLABLE\",\n",
            "    \"name\": \"closed_date\",\n",
            "    \"type\": \"TIMESTAMP\"\n",
            "  },\n",
            "  {\n",
            "    \"description\": \"\",\n",
            "    \"mode\": \"NULLABLE\",\n",
            "    \"name\": \"agency\",\n",
            "    \"type\": \"STRING\"\n",
            "  },\n",
            "  {\n",
            "    \"description\": \"\",\n",
            "    \"mode\": \"NULLABLE\",\n",
            "    \"name\": \"agency_name\",\n",
            "    \"type\": \"STRING\"\n"
          ]
        }
      ]
    },
    {
      "cell_type": "markdown",
      "source": [
        "Send the `schema.json` file to Code Interpreter along with the pickled DataFrame, and provide Code Interpreter instructions on:\n",
        "1. How to uncompress the DataFrame.\n",
        "2. How to use the included schema JSON.\n",
        "3. How you'd like to decide between categorical columns and regular strings.\n",
        "4. How you'd like BigQuery data types cast (in this case, we want to use StringDtype explictly, pandas defaults to `object` for columns cast to string)."
      ],
      "metadata": {
        "id": "qEJwMZnU5bcj"
      }
    },
    {
      "cell_type": "code",
      "source": [
        "QUERY = \"\"\"\n",
        "The attached pkl file has a DataFrame where some of the column types are wrong.\n",
        "First, load the pickled DataFrame. The pickled DataFrame was saved with the compression set to zip.\n",
        "Use the attached BigQuery schema JSON file to set the columns to the correct pandas dtype.\n",
        "The JSON is a list of columns, where the 'name' field is the name of the column and the 'type' field is the BigQuery type.\n",
        "Not all columns in the schema are in the dataframe, do not set the types of columns not in the dataframe.\n",
        "Set string columns explicitly to pandas pd.StringDType.\n",
        "Set string columns with fewer than 200 unique values as the category type.\n",
        "Return a pickle of the DataFrame in a file called \"311_dataframe_typed.pkl\".\n",
        "Save the pickled DataFrame with zip compression.\n",
        "\"\"\"\n",
        "response = run_code_interpreter(QUERY, ['311_dataframe.pkl', 'schema.json'])\n",
        "process_response(response)"
      ],
      "metadata": {
        "colab": {
          "base_uri": "https://localhost:8080/",
          "height": 732
        },
        "id": "cnFS6bJs7dLA",
        "outputId": "7baffbc2-be70-46c9-909d-b14f4bba1409"
      },
      "execution_count": 23,
      "outputs": [
        {
          "output_type": "display_data",
          "data": {
            "text/plain": [
              "<IPython.core.display.HTML object>"
            ],
            "text/html": [
              "\n",
              "<style>\n",
              ".main_summary {\n",
              "  font-weight: bold;\n",
              "  font-size: 14px; color: #4285F4;\n",
              "  background-color:rgba(221, 221, 221, 0.5); padding:8px;}\n",
              ".main_summary:hover {background-color: rgba(221, 221, 221, 1);}\n",
              "details {\n",
              "  background-color:#fff;\n",
              "  border: 1px solid #E8EAED;\n",
              "  padding:0px;\n",
              "  margin-bottom:2px; }\n",
              "details img {width:50%}\n",
              "details > div {padding:10px; }\n",
              "div#left > * > div {\n",
              "    overflow:auto;\n",
              "    max-height:400px; }\n",
              "\n",
              "div#right > pre {\n",
              "    overflow:auto;\n",
              "    max-height:600px;\n",
              "    background-color: ghostwhite;\n",
              "    padding: 10px; }\n",
              "details details > div { overflow: scroll; max-height:400px}\n",
              "details details {\n",
              "  background-color:rgba(246, 231, 217, 0.2);\n",
              "  border: 1px solid #FBBC04;}\n",
              "details details > summary {\n",
              "  padding: 8px;\n",
              "  background-color:rgba(255, 228, 196, 0.6); }\n",
              "details details > summary:hover { background-color:rgba(255, 228, 196, 0.9); }\n",
              "div#left {width: 64%; padding:0 1%;  }\n",
              "div#right {\n",
              "  border-left: 1px solid silver;\n",
              "  width: 30%;\n",
              "  float: right;\n",
              "  padding:0 1%; }\n",
              "body {color: #000; background-color: white; padding:10px 10px 40px 10px; }\n",
              "#main { border: 1px solid #FBBC04; padding:10px 0; display: flow-root; }\n",
              "h3 {color: #000; }\n",
              "code  { font-family: monospace; color: #900; padding: 0 2px; font-size: 105%; }\n",
              "</style>\n",
              "        \n",
              "<div id='main'>\n",
              "    <div id=\"right\">\n",
              "      <h3>Generated Code by Code Interpreter</h3>\n",
              "      <pre><code>```python\n",
              "import pandas as pd\n",
              "import json\n",
              "import pickle\n",
              "\n",
              "# Load the pickled DataFrame\n",
              "df = pd.read_pickle(\"311_dataframe.pkl\", compression=\"zip\")\n",
              "\n",
              "# Load the BigQuery schema JSON file\n",
              "with open(\"schema.json\", \"r\") as f:\n",
              "    schema = json.load(f)\n",
              "\n",
              "# Set the columns to the correct pandas dtype\n",
              "for column in schema:\n",
              "    name = column[\"name\"]\n",
              "    if name in df.columns:\n",
              "        if column[\"type\"] == \"STRING\":\n",
              "            df[name] = df[name].astype(pd.StringDtype())\n",
              "        elif column[\"type\"] == \"INTEGER\":\n",
              "            df[name] = df[name].astype(pd.Int64Dtype())\n",
              "        elif column[\"type\"] == \"FLOAT\":\n",
              "            df[name] = df[name].astype(pd.Float64Dtype())\n",
              "        elif column[\"type\"] == \"BOOLEAN\":\n",
              "            df[name] = df[name].astype(pd.BooleanDtype())\n",
              "        elif column[\"type\"] == \"DATE\":\n",
              "            df[name] = df[name].astype(pd.TimestampDtype())\n",
              "        elif column[\"type\"] == \"DATETIME\":\n",
              "            df[name] = df[name].astype(pd.TimestampDtype())\n",
              "        elif column[\"type\"] == \"TIME\":\n",
              "            df[name] = df[name].astype(pd.TimedeltaDtype())\n",
              "        elif column[\"type\"] == \"GEOGRAPHY\":\n",
              "            df[name] = df[name].astype(pd.StringDtype())\n",
              "        elif column[\"type\"] == \"NUMERIC\":\n",
              "            df[name] = df[name].astype(pd.Float64Dtype())\n",
              "        elif column[\"type\"] == \"BIGNUMERIC\":\n",
              "            df[name] = df[name].astype(pd.Float64Dtype())\n",
              "        elif column[\"type\"] == \"BYTES\":\n",
              "            df[name] = df[name].astype(pd.StringDtype())\n",
              "\n",
              "# Set string columns with fewer than 200 unique values as the category type\n",
              "for column in df.columns:\n",
              "    if df[column].dtype == pd.StringDtype() and df[column].nunique() < 200:\n",
              "        df[column] = df[column].astype(\"category\")\n",
              "\n",
              "# Save the pickled DataFrame\n",
              "df.to_pickle(\"311_dataframe_typed.pkl\", compression=\"zip\")\n",
              "```</code></pre>\n",
              "    </div>\n",
              "    <div id=\"left\">\n",
              "      <h3>Code Execution Results</h3>\n",
              "      \n",
              "  <details open>\n",
              "    <summary class='main_summary'>Executed Code Output:</summary>\n",
              "    <div><pre>Code does not produce printable output.</pre></div>\n",
              "  </details>\n",
              "  \n",
              "  <details open>\n",
              "    <summary class='main_summary'>Files Created <u>(Click on filename to view content)</u>:</summary>\n",
              "    <div><pre><details><summary>311_dataframe_typed.pkl</summary><div><span>Preview N/A</span></div></details></pre></div>\n",
              "  </details>\n",
              "  \n",
              "    </div>\n",
              "</div>\n"
            ]
          },
          "metadata": {}
        }
      ]
    },
    {
      "cell_type": "markdown",
      "source": [
        "Now compare the new column types to the original types you saw above.\n",
        "\n",
        "To do this, load the `311_dataframe_typed.pkl` file Code Interpreter returned (saved automatically by the `run_code_interpreter` helper function) and inspect the types:"
      ],
      "metadata": {
        "id": "6aSVbAYMZ3HD"
      }
    },
    {
      "cell_type": "code",
      "source": [
        "df_311_typed = pd.read_pickle('311_dataframe_typed.pkl', compression='zip')\n",
        "df_311_typed.dtypes"
      ],
      "metadata": {
        "id": "1Yyv3mfCdbyB",
        "colab": {
          "base_uri": "https://localhost:8080/"
        },
        "outputId": "02409236-24fd-426d-a2c0-89b359a1a6e8"
      },
      "execution_count": 24,
      "outputs": [
        {
          "output_type": "execute_result",
          "data": {
            "text/plain": [
              "unique_key                                Int64\n",
              "created_date                datetime64[us, UTC]\n",
              "closed_date                 datetime64[us, UTC]\n",
              "agency                                 category\n",
              "agency_name                            category\n",
              "complaint_type                   string[python]\n",
              "descriptor                       string[python]\n",
              "location_type                          category\n",
              "incident_zip                     string[python]\n",
              "incident_address                 string[python]\n",
              "street_name                      string[python]\n",
              "cross_street_1                   string[python]\n",
              "cross_street_2                   string[python]\n",
              "intersection_street_1            string[python]\n",
              "intersection_street_2            string[python]\n",
              "address_type                           category\n",
              "status                                 category\n",
              "resolution_description           string[python]\n",
              "community_board                        category\n",
              "borough                                category\n",
              "park_facility_name               string[python]\n",
              "open_data_channel_type                 category\n",
              "taxi_pickup_location                   category\n",
              "bridge_highway_name                    category\n",
              "bridge_highway_direction               category\n",
              "bridge_highway_segment                 category\n",
              "dtype: object"
            ]
          },
          "metadata": {},
          "execution_count": 24
        }
      ]
    },
    {
      "cell_type": "markdown",
      "source": [
        "You can see the types are now hopefully closer to the actual data. Do note that it's possible Code Interpreter misses some conversions--you'll want to rerun the code if you don't see a handful of category types and string types, and it's very important that the `created_date` and `closed_date` fields are datetime64 types."
      ],
      "metadata": {
        "id": "yCwAy18dacNq"
      }
    },
    {
      "cell_type": "markdown",
      "source": [
        "## Clean Up `created_date`\n",
        "\n",
        "Take a look at a plot showing the distribution of times that 311 issues are filed:"
      ],
      "metadata": {
        "id": "64uqs3e3BjQN"
      }
    },
    {
      "cell_type": "code",
      "source": [
        "QUERY = \"\"\"\n",
        "First, load the pickled DataFrame. The pickled Dataframe was saved with the compression set to zip.\n",
        "Create a line graph showing the distribution of complaints by hour the of day.\n",
        "The 'created_date' field contains the datetime value the complaint was created.\n",
        "The Y axis is the count of complaints.\n",
        "The X axis is the hour of the day.\n",
        "Title the plot and the axes.\n",
        "\"\"\"\n",
        "response = run_code_interpreter(QUERY,['311_dataframe_typed.pkl'])\n",
        "process_response(response)"
      ],
      "metadata": {
        "colab": {
          "base_uri": "https://localhost:8080/",
          "height": 525
        },
        "id": "gxmahV5QBkzm",
        "outputId": "4b70b449-ee5a-422d-d740-6b5f34aaeb42"
      },
      "execution_count": 25,
      "outputs": [
        {
          "output_type": "display_data",
          "data": {
            "text/plain": [
              "<IPython.core.display.HTML object>"
            ],
            "text/html": [
              "\n",
              "<style>\n",
              ".main_summary {\n",
              "  font-weight: bold;\n",
              "  font-size: 14px; color: #4285F4;\n",
              "  background-color:rgba(221, 221, 221, 0.5); padding:8px;}\n",
              ".main_summary:hover {background-color: rgba(221, 221, 221, 1);}\n",
              "details {\n",
              "  background-color:#fff;\n",
              "  border: 1px solid #E8EAED;\n",
              "  padding:0px;\n",
              "  margin-bottom:2px; }\n",
              "details img {width:50%}\n",
              "details > div {padding:10px; }\n",
              "div#left > * > div {\n",
              "    overflow:auto;\n",
              "    max-height:400px; }\n",
              "\n",
              "div#right > pre {\n",
              "    overflow:auto;\n",
              "    max-height:600px;\n",
              "    background-color: ghostwhite;\n",
              "    padding: 10px; }\n",
              "details details > div { overflow: scroll; max-height:400px}\n",
              "details details {\n",
              "  background-color:rgba(246, 231, 217, 0.2);\n",
              "  border: 1px solid #FBBC04;}\n",
              "details details > summary {\n",
              "  padding: 8px;\n",
              "  background-color:rgba(255, 228, 196, 0.6); }\n",
              "details details > summary:hover { background-color:rgba(255, 228, 196, 0.9); }\n",
              "div#left {width: 64%; padding:0 1%;  }\n",
              "div#right {\n",
              "  border-left: 1px solid silver;\n",
              "  width: 30%;\n",
              "  float: right;\n",
              "  padding:0 1%; }\n",
              "body {color: #000; background-color: white; padding:10px 10px 40px 10px; }\n",
              "#main { border: 1px solid #FBBC04; padding:10px 0; display: flow-root; }\n",
              "h3 {color: #000; }\n",
              "code  { font-family: monospace; color: #900; padding: 0 2px; font-size: 105%; }\n",
              "</style>\n",
              "        \n",
              "<div id='main'>\n",
              "    <div id=\"right\">\n",
              "      <h3>Generated Code by Code Interpreter</h3>\n",
              "      <pre><code>```python\n",
              "import pandas as pd\n",
              "import matplotlib.pyplot as plt\n",
              "\n",
              "# Load the pickled DataFrame\n",
              "df = pd.read_pickle(\"311_dataframe_typed.pkl\", compression=\"zip\")\n",
              "\n",
              "# Create a line graph showing the distribution of complaints by hour of the day\n",
              "df['created_date'] = pd.to_datetime(df['created_date'])\n",
              "df['hour'] = df['created_date'].dt.hour\n",
              "complaint_counts = df.groupby('hour').size()\n",
              "complaint_counts.plot(kind='line', title='Distribution of Complaints by Hour of the Day', xlabel='Hour of the Day', ylabel='Count of Complaints')\n",
              "\n",
              "# Show the plot\n",
              "plt.show()\n",
              "```</code></pre>\n",
              "    </div>\n",
              "    <div id=\"left\">\n",
              "      <h3>Code Execution Results</h3>\n",
              "      \n",
              "  <details open>\n",
              "    <summary class='main_summary'>Executed Code Output:</summary>\n",
              "    <div><pre>Code does not produce printable output.</pre></div>\n",
              "  </details>\n",
              "  \n",
              "  <details open>\n",
              "    <summary class='main_summary'>Files Created <u>(Click on filename to view content)</u>:</summary>\n",
              "    <div><pre><details><summary>code_execution_image_1_sFsXZpOXNf6BybgP8Z-NwAU.png</summary><div><img src=\"data:image/png;base64, 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\" /></div></details></pre></div>\n",
              "  </details>\n",
              "  \n",
              "    </div>\n",
              "</div>\n"
            ]
          },
          "metadata": {}
        }
      ]
    },
    {
      "cell_type": "markdown",
      "source": [
        "There's a very high number of 311 issue created during the first hour of the day, this is because issues created a certain way are assigned a time of midnight. Ask Code Interpreter to remove these 311 issues created exactly at midnight."
      ],
      "metadata": {
        "id": "UqhHCSSjbg5v"
      }
    },
    {
      "cell_type": "code",
      "source": [
        "QUERY = \"\"\"\n",
        "First, load the pickled DataFrame. The pickled DataFrame was saved with the compression set to zip.\n",
        "Print the number of rows of the DataFrame.\n",
        "Remove all rows created exactly at midnight (to the second).\n",
        "The test for midnight is rows with an hour of 0, minute of 0, and second of 0.\n",
        "Meaning, a row needs either an hour not 0, a minute not 0, or a second not 0 to be kept.\n",
        "The column 'created_date' holds the creation time.\n",
        "Print the number of rows of the DataFrame.\n",
        "Then return a pickle of the DataFrame in a file called '311_dataframe_nomidnight.pkl'.\n",
        "Save the new DataFrame pickle with zip compression.\n",
        "\"\"\"\n",
        "response = run_code_interpreter(QUERY,['311_dataframe_typed.pkl'])\n",
        "process_response(response)"
      ],
      "metadata": {
        "colab": {
          "base_uri": "https://localhost:8080/",
          "height": 469
        },
        "id": "H4J7vORvBuiV",
        "outputId": "fb8eec8e-f379-46cc-8e15-8d6446e6de50"
      },
      "execution_count": 26,
      "outputs": [
        {
          "output_type": "display_data",
          "data": {
            "text/plain": [
              "<IPython.core.display.HTML object>"
            ],
            "text/html": [
              "\n",
              "<style>\n",
              ".main_summary {\n",
              "  font-weight: bold;\n",
              "  font-size: 14px; color: #4285F4;\n",
              "  background-color:rgba(221, 221, 221, 0.5); padding:8px;}\n",
              ".main_summary:hover {background-color: rgba(221, 221, 221, 1);}\n",
              "details {\n",
              "  background-color:#fff;\n",
              "  border: 1px solid #E8EAED;\n",
              "  padding:0px;\n",
              "  margin-bottom:2px; }\n",
              "details img {width:50%}\n",
              "details > div {padding:10px; }\n",
              "div#left > * > div {\n",
              "    overflow:auto;\n",
              "    max-height:400px; }\n",
              "\n",
              "div#right > pre {\n",
              "    overflow:auto;\n",
              "    max-height:600px;\n",
              "    background-color: ghostwhite;\n",
              "    padding: 10px; }\n",
              "details details > div { overflow: scroll; max-height:400px}\n",
              "details details {\n",
              "  background-color:rgba(246, 231, 217, 0.2);\n",
              "  border: 1px solid #FBBC04;}\n",
              "details details > summary {\n",
              "  padding: 8px;\n",
              "  background-color:rgba(255, 228, 196, 0.6); }\n",
              "details details > summary:hover { background-color:rgba(255, 228, 196, 0.9); }\n",
              "div#left {width: 64%; padding:0 1%;  }\n",
              "div#right {\n",
              "  border-left: 1px solid silver;\n",
              "  width: 30%;\n",
              "  float: right;\n",
              "  padding:0 1%; }\n",
              "body {color: #000; background-color: white; padding:10px 10px 40px 10px; }\n",
              "#main { border: 1px solid #FBBC04; padding:10px 0; display: flow-root; }\n",
              "h3 {color: #000; }\n",
              "code  { font-family: monospace; color: #900; padding: 0 2px; font-size: 105%; }\n",
              "</style>\n",
              "        \n",
              "<div id='main'>\n",
              "    <div id=\"right\">\n",
              "      <h3>Generated Code by Code Interpreter</h3>\n",
              "      <pre><code>```python\n",
              "import pandas as pd\n",
              "\n",
              "# Load the pickled DataFrame\n",
              "df = pd.read_pickle(\"311_dataframe_typed.pkl\", compression=\"zip\")\n",
              "\n",
              "# Print the number of rows of the DataFrame\n",
              "print(f\"Original number of rows: {df.shape[0]}\")\n",
              "\n",
              "# Remove all rows created exactly at midnight (to the second)\n",
              "df = df[(df[\"created_date\"].dt.hour != 0) | (df[\"created_date\"].dt.minute != 0) | (df[\"created_date\"].dt.second != 0)]\n",
              "\n",
              "# Print the number of rows of the DataFrame\n",
              "print(f\"Number of rows after removing midnight rows: {df.shape[0]}\")\n",
              "\n",
              "# Save the new DataFrame pickle with zip compression\n",
              "df.to_pickle(\"311_dataframe_nomidnight.pkl\", compression=\"zip\")\n",
              "```</code></pre>\n",
              "    </div>\n",
              "    <div id=\"left\">\n",
              "      <h3>Code Execution Results</h3>\n",
              "      \n",
              "  <details open>\n",
              "    <summary class='main_summary'>Executed Code Output:</summary>\n",
              "    <div><pre>Original number of rows: 40759\n",
              "Number of rows after removing midnight rows: 35326\n",
              "</pre></div>\n",
              "  </details>\n",
              "  \n",
              "  <details open>\n",
              "    <summary class='main_summary'>Files Created <u>(Click on filename to view content)</u>:</summary>\n",
              "    <div><pre><details><summary>311_dataframe_nomidnight.pkl</summary><div><span>Preview N/A</span></div></details></pre></div>\n",
              "  </details>\n",
              "  \n",
              "    </div>\n",
              "</div>\n"
            ]
          },
          "metadata": {}
        }
      ]
    },
    {
      "cell_type": "markdown",
      "source": [
        "To make sure the cleaning worked, take a look at the distribution of issue creation times in the new DataFrame."
      ],
      "metadata": {
        "id": "lumotfZec2Wr"
      }
    },
    {
      "cell_type": "code",
      "source": [
        "QUERY = \"\"\"\n",
        "First, load the pickled DataFrame. The pickled Dataframe was saved with the compression set to zip.\n",
        "Create a line graph showing the distribution of complaints by hour the of day.\n",
        "The 'created_date' field contains the datetime value the complaint was created.\n",
        "The Y axis is the count of complaints.\n",
        "The X axis is the hour of the day.\n",
        "Title the plot and the axes.\n",
        "\"\"\"\n",
        "response = run_code_interpreter(QUERY,['311_dataframe_nomidnight.pkl'])\n",
        "process_response(response)"
      ],
      "metadata": {
        "colab": {
          "base_uri": "https://localhost:8080/",
          "height": 525
        },
        "id": "__07p6v1cwB0",
        "outputId": "d9c20775-f5ae-45c4-c22b-016e9b6d7844"
      },
      "execution_count": 27,
      "outputs": [
        {
          "output_type": "display_data",
          "data": {
            "text/plain": [
              "<IPython.core.display.HTML object>"
            ],
            "text/html": [
              "\n",
              "<style>\n",
              ".main_summary {\n",
              "  font-weight: bold;\n",
              "  font-size: 14px; color: #4285F4;\n",
              "  background-color:rgba(221, 221, 221, 0.5); padding:8px;}\n",
              ".main_summary:hover {background-color: rgba(221, 221, 221, 1);}\n",
              "details {\n",
              "  background-color:#fff;\n",
              "  border: 1px solid #E8EAED;\n",
              "  padding:0px;\n",
              "  margin-bottom:2px; }\n",
              "details img {width:50%}\n",
              "details > div {padding:10px; }\n",
              "div#left > * > div {\n",
              "    overflow:auto;\n",
              "    max-height:400px; }\n",
              "\n",
              "div#right > pre {\n",
              "    overflow:auto;\n",
              "    max-height:600px;\n",
              "    background-color: ghostwhite;\n",
              "    padding: 10px; }\n",
              "details details > div { overflow: scroll; max-height:400px}\n",
              "details details {\n",
              "  background-color:rgba(246, 231, 217, 0.2);\n",
              "  border: 1px solid #FBBC04;}\n",
              "details details > summary {\n",
              "  padding: 8px;\n",
              "  background-color:rgba(255, 228, 196, 0.6); }\n",
              "details details > summary:hover { background-color:rgba(255, 228, 196, 0.9); }\n",
              "div#left {width: 64%; padding:0 1%;  }\n",
              "div#right {\n",
              "  border-left: 1px solid silver;\n",
              "  width: 30%;\n",
              "  float: right;\n",
              "  padding:0 1%; }\n",
              "body {color: #000; background-color: white; padding:10px 10px 40px 10px; }\n",
              "#main { border: 1px solid #FBBC04; padding:10px 0; display: flow-root; }\n",
              "h3 {color: #000; }\n",
              "code  { font-family: monospace; color: #900; padding: 0 2px; font-size: 105%; }\n",
              "</style>\n",
              "        \n",
              "<div id='main'>\n",
              "    <div id=\"right\">\n",
              "      <h3>Generated Code by Code Interpreter</h3>\n",
              "      <pre><code>```python\n",
              "import pandas as pd\n",
              "import matplotlib.pyplot as plt\n",
              "\n",
              "# Load the pickled DataFrame\n",
              "df = pd.read_pickle(\"311_dataframe_nomidnight.pkl\", compression=\"zip\")\n",
              "\n",
              "# Create a line graph showing the distribution of complaints by hour the of day\n",
              "df['created_date'] = pd.to_datetime(df['created_date'])\n",
              "df['hour'] = df['created_date'].dt.hour\n",
              "df.groupby('hour').size().plot()\n",
              "\n",
              "# Set the title and labels for the plot\n",
              "plt.title(\"Distribution of Complaints by Hour of Day\")\n",
              "plt.xlabel(\"Hour of Day\")\n",
              "plt.ylabel(\"Count of Complaints\")\n",
              "\n",
              "# Display the plot\n",
              "plt.show()\n",
              "```</code></pre>\n",
              "    </div>\n",
              "    <div id=\"left\">\n",
              "      <h3>Code Execution Results</h3>\n",
              "      \n",
              "  <details open>\n",
              "    <summary class='main_summary'>Executed Code Output:</summary>\n",
              "    <div><pre>Code does not produce printable output.</pre></div>\n",
              "  </details>\n",
              "  \n",
              "  <details open>\n",
              "    <summary class='main_summary'>Files Created <u>(Click on filename to view content)</u>:</summary>\n",
              "    <div><pre><details><summary>code_execution_image_1_vlsXZtaoHJqM2ukP0syUyAY.png</summary><div><img src=\"data:image/png;base64, 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\" /></div></details></pre></div>\n",
              "  </details>\n",
              "  \n",
              "    </div>\n",
              "</div>\n"
            ]
          },
          "metadata": {}
        }
      ]
    },
    {
      "cell_type": "markdown",
      "source": [
        "# Step 3: Augment the Data\n",
        "\n",
        "Code Interpreter can also help with augmenting pandas data."
      ],
      "metadata": {
        "id": "Uy7kH-CefoJ-"
      }
    },
    {
      "cell_type": "code",
      "source": [
        "QUERY = \"\"\"\n",
        "The attached pkl file has a DataFrame of citizen complaints.\n",
        "The DataFrame will be used to analyze timing around complaint creation and resolution.\n",
        "To make this easier, create additional columns breaking the time fields down.\n",
        "First, load the pickled DataFrame. The pickled DataFrame was saved with the compression set to zip.\n",
        "From the 'created_date' datetime column, create new columns for the year, month, day, hour, minute, and second.\n",
        "These columns should be named like 'created_year', 'created_month', etc.\n",
        "Do the same for the 'closed_date' column.\n",
        "Then return a pickle of the DataFrame in a file called '311_dataframe_augmented.pkl'.\n",
        "Save the new DataFrame pickle with zip compression.\n",
        "\"\"\"\n",
        "response = run_code_interpreter(QUERY, ['311_dataframe_nomidnight.pkl'])\n",
        "process_response(response)"
      ],
      "metadata": {
        "colab": {
          "base_uri": "https://localhost:8080/",
          "height": 601
        },
        "id": "ljJmsQvegbma",
        "outputId": "c378f07d-89e1-4cc6-9c22-e2ae5ba5610f"
      },
      "execution_count": 28,
      "outputs": [
        {
          "output_type": "display_data",
          "data": {
            "text/plain": [
              "<IPython.core.display.HTML object>"
            ],
            "text/html": [
              "\n",
              "<style>\n",
              ".main_summary {\n",
              "  font-weight: bold;\n",
              "  font-size: 14px; color: #4285F4;\n",
              "  background-color:rgba(221, 221, 221, 0.5); padding:8px;}\n",
              ".main_summary:hover {background-color: rgba(221, 221, 221, 1);}\n",
              "details {\n",
              "  background-color:#fff;\n",
              "  border: 1px solid #E8EAED;\n",
              "  padding:0px;\n",
              "  margin-bottom:2px; }\n",
              "details img {width:50%}\n",
              "details > div {padding:10px; }\n",
              "div#left > * > div {\n",
              "    overflow:auto;\n",
              "    max-height:400px; }\n",
              "\n",
              "div#right > pre {\n",
              "    overflow:auto;\n",
              "    max-height:600px;\n",
              "    background-color: ghostwhite;\n",
              "    padding: 10px; }\n",
              "details details > div { overflow: scroll; max-height:400px}\n",
              "details details {\n",
              "  background-color:rgba(246, 231, 217, 0.2);\n",
              "  border: 1px solid #FBBC04;}\n",
              "details details > summary {\n",
              "  padding: 8px;\n",
              "  background-color:rgba(255, 228, 196, 0.6); }\n",
              "details details > summary:hover { background-color:rgba(255, 228, 196, 0.9); }\n",
              "div#left {width: 64%; padding:0 1%;  }\n",
              "div#right {\n",
              "  border-left: 1px solid silver;\n",
              "  width: 30%;\n",
              "  float: right;\n",
              "  padding:0 1%; }\n",
              "body {color: #000; background-color: white; padding:10px 10px 40px 10px; }\n",
              "#main { border: 1px solid #FBBC04; padding:10px 0; display: flow-root; }\n",
              "h3 {color: #000; }\n",
              "code  { font-family: monospace; color: #900; padding: 0 2px; font-size: 105%; }\n",
              "</style>\n",
              "        \n",
              "<div id='main'>\n",
              "    <div id=\"right\">\n",
              "      <h3>Generated Code by Code Interpreter</h3>\n",
              "      <pre><code>```python\n",
              "import pandas as pd\n",
              "\n",
              "# Load the pickled DataFrame\n",
              "df = pd.read_pickle('311_dataframe_nomidnight.pkl', compression='zip')\n",
              "\n",
              "# Create new columns for the created_date datetime column\n",
              "df['created_year'] = df['created_date'].dt.year\n",
              "df['created_month'] = df['created_date'].dt.month\n",
              "df['created_day'] = df['created_date'].dt.day\n",
              "df['created_hour'] = df['created_date'].dt.hour\n",
              "df['created_minute'] = df['created_date'].dt.minute\n",
              "df['created_second'] = df['created_date'].dt.second\n",
              "\n",
              "# Create new columns for the closed_date datetime column\n",
              "df['closed_year'] = df['closed_date'].dt.year\n",
              "df['closed_month'] = df['closed_date'].dt.month\n",
              "df['closed_day'] = df['closed_date'].dt.day\n",
              "df['closed_hour'] = df['closed_date'].dt.hour\n",
              "df['closed_minute'] = df['closed_date'].dt.minute\n",
              "df['closed_second'] = df['closed_date'].dt.second\n",
              "\n",
              "# Save the new DataFrame pickle with zip compression\n",
              "df.to_pickle('311_dataframe_augmented.pkl', compression='zip')\n",
              "```</code></pre>\n",
              "    </div>\n",
              "    <div id=\"left\">\n",
              "      <h3>Code Execution Results</h3>\n",
              "      \n",
              "  <details open>\n",
              "    <summary class='main_summary'>Executed Code Output:</summary>\n",
              "    <div><pre>Code does not produce printable output.</pre></div>\n",
              "  </details>\n",
              "  \n",
              "  <details open>\n",
              "    <summary class='main_summary'>Files Created <u>(Click on filename to view content)</u>:</summary>\n",
              "    <div><pre><details><summary>311_dataframe_augmented.pkl</summary><div><span>Preview N/A</span></div></details></pre></div>\n",
              "  </details>\n",
              "  \n",
              "    </div>\n",
              "</div>\n"
            ]
          },
          "metadata": {}
        }
      ]
    },
    {
      "cell_type": "markdown",
      "source": [
        "# Step 4: Sample the Data\n",
        "\n",
        "Sometimes you may want to sample your data. Code Interpreter can help with this as well."
      ],
      "metadata": {
        "id": "M0vSAFr65LHw"
      }
    },
    {
      "cell_type": "code",
      "source": [
        "QUERY = \"\"\"\n",
        "First, load the pickled DataFrame. The pickled DataFrame was saved with the compression set to zip.\n",
        "Randomly sample 20% of the dataset.\n",
        "Then return a pickle of the DataFrame in a file called '311_dataframe_sampled.pkl'.\n",
        "Save the new DataFrame pickle with zip compression.\n",
        "\"\"\"\n",
        "response = run_code_interpreter(QUERY, ['311_dataframe_augmented.pkl'])\n",
        "process_response(response)"
      ],
      "metadata": {
        "colab": {
          "base_uri": "https://localhost:8080/",
          "height": 357
        },
        "id": "Ws6hE9jW5Jbt",
        "outputId": "42e44e41-38cc-4898-ad36-6e61515965d1"
      },
      "execution_count": 29,
      "outputs": [
        {
          "output_type": "display_data",
          "data": {
            "text/plain": [
              "<IPython.core.display.HTML object>"
            ],
            "text/html": [
              "\n",
              "<style>\n",
              ".main_summary {\n",
              "  font-weight: bold;\n",
              "  font-size: 14px; color: #4285F4;\n",
              "  background-color:rgba(221, 221, 221, 0.5); padding:8px;}\n",
              ".main_summary:hover {background-color: rgba(221, 221, 221, 1);}\n",
              "details {\n",
              "  background-color:#fff;\n",
              "  border: 1px solid #E8EAED;\n",
              "  padding:0px;\n",
              "  margin-bottom:2px; }\n",
              "details img {width:50%}\n",
              "details > div {padding:10px; }\n",
              "div#left > * > div {\n",
              "    overflow:auto;\n",
              "    max-height:400px; }\n",
              "\n",
              "div#right > pre {\n",
              "    overflow:auto;\n",
              "    max-height:600px;\n",
              "    background-color: ghostwhite;\n",
              "    padding: 10px; }\n",
              "details details > div { overflow: scroll; max-height:400px}\n",
              "details details {\n",
              "  background-color:rgba(246, 231, 217, 0.2);\n",
              "  border: 1px solid #FBBC04;}\n",
              "details details > summary {\n",
              "  padding: 8px;\n",
              "  background-color:rgba(255, 228, 196, 0.6); }\n",
              "details details > summary:hover { background-color:rgba(255, 228, 196, 0.9); }\n",
              "div#left {width: 64%; padding:0 1%;  }\n",
              "div#right {\n",
              "  border-left: 1px solid silver;\n",
              "  width: 30%;\n",
              "  float: right;\n",
              "  padding:0 1%; }\n",
              "body {color: #000; background-color: white; padding:10px 10px 40px 10px; }\n",
              "#main { border: 1px solid #FBBC04; padding:10px 0; display: flow-root; }\n",
              "h3 {color: #000; }\n",
              "code  { font-family: monospace; color: #900; padding: 0 2px; font-size: 105%; }\n",
              "</style>\n",
              "        \n",
              "<div id='main'>\n",
              "    <div id=\"right\">\n",
              "      <h3>Generated Code by Code Interpreter</h3>\n",
              "      <pre><code>```python\n",
              "import pandas as pd\n",
              "\n",
              "# Load the pickled DataFrame\n",
              "df = pd.read_pickle('311_dataframe_augmented.pkl', compression='zip')\n",
              "\n",
              "# Randomly sample 20% of the dataset\n",
              "df_sampled = df.sample(frac=0.2)\n",
              "\n",
              "# Save the new DataFrame pickle with zip compression\n",
              "df_sampled.to_pickle('311_dataframe_sampled.pkl', compression='zip')\n",
              "```</code></pre>\n",
              "    </div>\n",
              "    <div id=\"left\">\n",
              "      <h3>Code Execution Results</h3>\n",
              "      \n",
              "  <details open>\n",
              "    <summary class='main_summary'>Executed Code Output:</summary>\n",
              "    <div><pre>Code does not produce printable output.</pre></div>\n",
              "  </details>\n",
              "  \n",
              "  <details open>\n",
              "    <summary class='main_summary'>Files Created <u>(Click on filename to view content)</u>:</summary>\n",
              "    <div><pre><details><summary>311_dataframe_sampled.pkl</summary><div><span>Preview N/A</span></div></details></pre></div>\n",
              "  </details>\n",
              "  \n",
              "    </div>\n",
              "</div>\n"
            ]
          },
          "metadata": {}
        }
      ]
    },
    {
      "cell_type": "markdown",
      "source": [
        "Look at the length of the DataFrames to see the impact of the sampling"
      ],
      "metadata": {
        "id": "VjzpqWYCjlID"
      }
    },
    {
      "cell_type": "code",
      "source": [
        "df_311_clean = pd.read_pickle(\"311_dataframe_augmented.pkl\", compression=\"zip\")\n",
        "len(df_311_clean)"
      ],
      "metadata": {
        "colab": {
          "base_uri": "https://localhost:8080/"
        },
        "id": "dwZfi5xw5xai",
        "outputId": "6f6d88fa-6c76-4cf3-a61d-40346c047670"
      },
      "execution_count": 30,
      "outputs": [
        {
          "output_type": "execute_result",
          "data": {
            "text/plain": [
              "35326"
            ]
          },
          "metadata": {},
          "execution_count": 30
        }
      ]
    },
    {
      "cell_type": "code",
      "source": [
        "df_311_sampled = pd.read_pickle('311_dataframe_sampled.pkl', compression='zip')\n",
        "len(df_311_sampled)"
      ],
      "metadata": {
        "colab": {
          "base_uri": "https://localhost:8080/"
        },
        "id": "WwEQVs1H5yco",
        "outputId": "322947a1-4d73-42ed-e8f9-91239ee2a072"
      },
      "execution_count": 31,
      "outputs": [
        {
          "output_type": "execute_result",
          "data": {
            "text/plain": [
              "7065"
            ]
          },
          "metadata": {},
          "execution_count": 31
        }
      ]
    },
    {
      "cell_type": "markdown",
      "source": [
        "## More Complex Sampling\n",
        "\n",
        "Code Interpreter can also handle more complex sampling requests. Though the more complex the request (and the more complex pandas operations required) the more likely Code Interpreter needs a few retries--remember, the more difficult it would be for a person to\n",
        "\n",
        "You'll see in the example below that Code Interpreter is instructed to ignore FutureWarnings and DeprecationWarnings. This is because Code Interpreter favors pandas `groupby` to sample, and there's future pandas changes that will break common ways of using `groupby`. The `run_code_interpreter` method will retry code that throws errors, but since the pandas warnings are non-fatal we don't want to retry code that only has warnings in this particular case."
      ],
      "metadata": {
        "id": "tCxUGXBF54MR"
      }
    },
    {
      "cell_type": "code",
      "source": [
        "QUERY = \"\"\"\n",
        "Use the warnings library to supress all category=FutureWarning and DeprecationWarning.\n",
        "Load the pickled DataFrame. The pickled DataFrame was saved with the compression set to zip.\n",
        "Create a sample of about 1000 rows.\n",
        "The sample should have a roughly equal number of rows for each unique value in the 'borough' column.\n",
        "Count the unique values in the 'borough' column and use that to determine how many rows to sample from each borough.\n",
        "Then return a pickle of the DataFrame in a file called '311_dataframe_borough_sample.pkl'.\n",
        "Save the new DataFrame pickle with zip compression.\n",
        "\"\"\"\n",
        "response = run_code_interpreter(QUERY, ['311_dataframe_augmented.pkl'])\n",
        "process_response(response)"
      ],
      "metadata": {
        "colab": {
          "base_uri": "https://localhost:8080/",
          "height": 507
        },
        "id": "AlaQ5FFU5_g3",
        "outputId": "6d6b6a17-9369-4dff-80dc-c1e5b2fd9399"
      },
      "execution_count": 38,
      "outputs": [
        {
          "output_type": "display_data",
          "data": {
            "text/plain": [
              "<IPython.core.display.HTML object>"
            ],
            "text/html": [
              "\n",
              "<style>\n",
              ".main_summary {\n",
              "  font-weight: bold;\n",
              "  font-size: 14px; color: #4285F4;\n",
              "  background-color:rgba(221, 221, 221, 0.5); padding:8px;}\n",
              ".main_summary:hover {background-color: rgba(221, 221, 221, 1);}\n",
              "details {\n",
              "  background-color:#fff;\n",
              "  border: 1px solid #E8EAED;\n",
              "  padding:0px;\n",
              "  margin-bottom:2px; }\n",
              "details img {width:50%}\n",
              "details > div {padding:10px; }\n",
              "div#left > * > div {\n",
              "    overflow:auto;\n",
              "    max-height:400px; }\n",
              "\n",
              "div#right > pre {\n",
              "    overflow:auto;\n",
              "    max-height:600px;\n",
              "    background-color: ghostwhite;\n",
              "    padding: 10px; }\n",
              "details details > div { overflow: scroll; max-height:400px}\n",
              "details details {\n",
              "  background-color:rgba(246, 231, 217, 0.2);\n",
              "  border: 1px solid #FBBC04;}\n",
              "details details > summary {\n",
              "  padding: 8px;\n",
              "  background-color:rgba(255, 228, 196, 0.6); }\n",
              "details details > summary:hover { background-color:rgba(255, 228, 196, 0.9); }\n",
              "div#left {width: 64%; padding:0 1%;  }\n",
              "div#right {\n",
              "  border-left: 1px solid silver;\n",
              "  width: 30%;\n",
              "  float: right;\n",
              "  padding:0 1%; }\n",
              "body {color: #000; background-color: white; padding:10px 10px 40px 10px; }\n",
              "#main { border: 1px solid #FBBC04; padding:10px 0; display: flow-root; }\n",
              "h3 {color: #000; }\n",
              "code  { font-family: monospace; color: #900; padding: 0 2px; font-size: 105%; }\n",
              "</style>\n",
              "        \n",
              "<div id='main'>\n",
              "    <div id=\"right\">\n",
              "      <h3>Generated Code by Code Interpreter</h3>\n",
              "      <pre><code>```python\n",
              "import pandas as pd\n",
              "import warnings\n",
              "\n",
              "# Suppress FutureWarning and DeprecationWarning\n",
              "warnings.simplefilter(action='ignore', category=FutureWarning)\n",
              "warnings.simplefilter(action='ignore', category=DeprecationWarning)\n",
              "\n",
              "# Load the pickled DataFrame\n",
              "df = pd.read_pickle('311_dataframe_augmented.pkl', compression='zip')\n",
              "\n",
              "# Create a sample of about 1000 rows\n",
              "borough_counts = df['borough'].value_counts()\n",
              "sample_size = 1000\n",
              "sample_per_borough = sample_size / borough_counts.size\n",
              "df_sample = df.groupby('borough').apply(lambda x: x.sample(int(sample_per_borough)))  # Fix: Convert sample_per_borough to int\n",
              "\n",
              "# Return a pickle of the DataFrame\n",
              "df_sample.to_pickle('311_dataframe_borough_sample.pkl', compression='zip')\n",
              "```</code></pre>\n",
              "    </div>\n",
              "    <div id=\"left\">\n",
              "      <h3>Code Execution Results</h3>\n",
              "      \n",
              "  <details open>\n",
              "    <summary class='main_summary'>Executed Code Output:</summary>\n",
              "    <div><pre>Code does not produce printable output.</pre></div>\n",
              "  </details>\n",
              "  \n",
              "  <details open>\n",
              "    <summary class='main_summary'>Files Created <u>(Click on filename to view content)</u>:</summary>\n",
              "    <div><pre><details><summary>311_dataframe_borough_sample.pkl</summary><div><span>Preview N/A</span></div></details></pre></div>\n",
              "  </details>\n",
              "  \n",
              "    </div>\n",
              "</div>\n"
            ]
          },
          "metadata": {}
        }
      ]
    },
    {
      "cell_type": "markdown",
      "source": [
        "Make some plots showing how the sample changed the distribution of boroughs in the dataset. First, look at the data before sampling:"
      ],
      "metadata": {
        "id": "X1N2ScfImUcm"
      }
    },
    {
      "cell_type": "code",
      "source": [
        "QUERY = \"\"\"\n",
        "First, load the pickled DataFrame. The pickled Dataframe was saved with the compression set to zip.\n",
        "Create a horizontal bar graph showing the distribution of complaints by the 'borough' field.\n",
        "The Y axis is the borough.\n",
        "The X axis is the number of complaints.\n",
        "Title the plot and the X axis.\n",
        "Do not title the Y axis.\n",
        "Make sure the plot is wide enough to show the Y axis labels.\n",
        "\"\"\"\n",
        "response = run_code_interpreter(QUERY, ['311_dataframe_augmented.pkl'])\n",
        "process_response(response)"
      ],
      "metadata": {
        "colab": {
          "base_uri": "https://localhost:8080/",
          "height": 488
        },
        "id": "paqfTM__RRYl",
        "outputId": "72d9107a-6ff7-4e21-cbba-181bdf1b4dde"
      },
      "execution_count": 39,
      "outputs": [
        {
          "output_type": "display_data",
          "data": {
            "text/plain": [
              "<IPython.core.display.HTML object>"
            ],
            "text/html": [
              "\n",
              "<style>\n",
              ".main_summary {\n",
              "  font-weight: bold;\n",
              "  font-size: 14px; color: #4285F4;\n",
              "  background-color:rgba(221, 221, 221, 0.5); padding:8px;}\n",
              ".main_summary:hover {background-color: rgba(221, 221, 221, 1);}\n",
              "details {\n",
              "  background-color:#fff;\n",
              "  border: 1px solid #E8EAED;\n",
              "  padding:0px;\n",
              "  margin-bottom:2px; }\n",
              "details img {width:50%}\n",
              "details > div {padding:10px; }\n",
              "div#left > * > div {\n",
              "    overflow:auto;\n",
              "    max-height:400px; }\n",
              "\n",
              "div#right > pre {\n",
              "    overflow:auto;\n",
              "    max-height:600px;\n",
              "    background-color: ghostwhite;\n",
              "    padding: 10px; }\n",
              "details details > div { overflow: scroll; max-height:400px}\n",
              "details details {\n",
              "  background-color:rgba(246, 231, 217, 0.2);\n",
              "  border: 1px solid #FBBC04;}\n",
              "details details > summary {\n",
              "  padding: 8px;\n",
              "  background-color:rgba(255, 228, 196, 0.6); }\n",
              "details details > summary:hover { background-color:rgba(255, 228, 196, 0.9); }\n",
              "div#left {width: 64%; padding:0 1%;  }\n",
              "div#right {\n",
              "  border-left: 1px solid silver;\n",
              "  width: 30%;\n",
              "  float: right;\n",
              "  padding:0 1%; }\n",
              "body {color: #000; background-color: white; padding:10px 10px 40px 10px; }\n",
              "#main { border: 1px solid #FBBC04; padding:10px 0; display: flow-root; }\n",
              "h3 {color: #000; }\n",
              "code  { font-family: monospace; color: #900; padding: 0 2px; font-size: 105%; }\n",
              "</style>\n",
              "        \n",
              "<div id='main'>\n",
              "    <div id=\"right\">\n",
              "      <h3>Generated Code by Code Interpreter</h3>\n",
              "      <pre><code>```python\n",
              "import pandas as pd\n",
              "import matplotlib.pyplot as plt\n",
              "\n",
              "# Load the pickled DataFrame\n",
              "df = pd.read_pickle(\"311_dataframe_augmented.pkl\", compression='zip')\n",
              "\n",
              "# Create a horizontal bar graph showing the distribution of complaints by the 'borough' field\n",
              "df['borough'].value_counts().sort_values(ascending=True).plot.barh(title='Distribution of Complaints by Borough', figsize=(10, 5))\n",
              "\n",
              "# Set the X axis label\n",
              "plt.xlabel('Number of Complaints')\n",
              "\n",
              "# Remove the Y axis label\n",
              "plt.gca().axes.get_yaxis().set_visible(False)\n",
              "\n",
              "# Show the plot\n",
              "plt.show()\n",
              "```</code></pre>\n",
              "    </div>\n",
              "    <div id=\"left\">\n",
              "      <h3>Code Execution Results</h3>\n",
              "      \n",
              "  <details open>\n",
              "    <summary class='main_summary'>Executed Code Output:</summary>\n",
              "    <div><pre>Code does not produce printable output.</pre></div>\n",
              "  </details>\n",
              "  \n",
              "  <details open>\n",
              "    <summary class='main_summary'>Files Created <u>(Click on filename to view content)</u>:</summary>\n",
              "    <div><pre><details><summary>code_execution_image_1_SVwXZtHnEZWP2ukPlYenkAE.png</summary><div><img src=\"data:image/png;base64, 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\" /></div></details></pre></div>\n",
              "  </details>\n",
              "  \n",
              "    </div>\n",
              "</div>\n"
            ]
          },
          "metadata": {}
        }
      ]
    },
    {
      "cell_type": "markdown",
      "source": [
        "Now look at the distribution of boroughs in the sample:"
      ],
      "metadata": {
        "id": "moilzutknJ9F"
      }
    },
    {
      "cell_type": "code",
      "source": [
        "QUERY = \"\"\"\n",
        "First, load the pickled DataFrame. The pickled Dataframe was saved with the compression set to zip.\n",
        "Create a horizontal bar graph showing the distribution of complaints by the 'borough' field.\n",
        "The Y axis is the borough.\n",
        "The X axis is the number of complaints.\n",
        "Title the plot and the X axis.\n",
        "Do not title the Y axis.\n",
        "Make sure the plot is wide enough to show the Y axis labels.\n",
        "\"\"\"\n",
        "response = run_code_interpreter(QUERY, ['311_dataframe_borough_sample.pkl'])\n",
        "process_response(response)"
      ],
      "metadata": {
        "colab": {
          "base_uri": "https://localhost:8080/",
          "height": 525
        },
        "outputId": "a88db840-d3aa-4a6b-8186-cfe9bb5f6748",
        "id": "XA23I5KQT2a-"
      },
      "execution_count": 40,
      "outputs": [
        {
          "output_type": "display_data",
          "data": {
            "text/plain": [
              "<IPython.core.display.HTML object>"
            ],
            "text/html": [
              "\n",
              "<style>\n",
              ".main_summary {\n",
              "  font-weight: bold;\n",
              "  font-size: 14px; color: #4285F4;\n",
              "  background-color:rgba(221, 221, 221, 0.5); padding:8px;}\n",
              ".main_summary:hover {background-color: rgba(221, 221, 221, 1);}\n",
              "details {\n",
              "  background-color:#fff;\n",
              "  border: 1px solid #E8EAED;\n",
              "  padding:0px;\n",
              "  margin-bottom:2px; }\n",
              "details img {width:50%}\n",
              "details > div {padding:10px; }\n",
              "div#left > * > div {\n",
              "    overflow:auto;\n",
              "    max-height:400px; }\n",
              "\n",
              "div#right > pre {\n",
              "    overflow:auto;\n",
              "    max-height:600px;\n",
              "    background-color: ghostwhite;\n",
              "    padding: 10px; }\n",
              "details details > div { overflow: scroll; max-height:400px}\n",
              "details details {\n",
              "  background-color:rgba(246, 231, 217, 0.2);\n",
              "  border: 1px solid #FBBC04;}\n",
              "details details > summary {\n",
              "  padding: 8px;\n",
              "  background-color:rgba(255, 228, 196, 0.6); }\n",
              "details details > summary:hover { background-color:rgba(255, 228, 196, 0.9); }\n",
              "div#left {width: 64%; padding:0 1%;  }\n",
              "div#right {\n",
              "  border-left: 1px solid silver;\n",
              "  width: 30%;\n",
              "  float: right;\n",
              "  padding:0 1%; }\n",
              "body {color: #000; background-color: white; padding:10px 10px 40px 10px; }\n",
              "#main { border: 1px solid #FBBC04; padding:10px 0; display: flow-root; }\n",
              "h3 {color: #000; }\n",
              "code  { font-family: monospace; color: #900; padding: 0 2px; font-size: 105%; }\n",
              "</style>\n",
              "        \n",
              "<div id='main'>\n",
              "    <div id=\"right\">\n",
              "      <h3>Generated Code by Code Interpreter</h3>\n",
              "      <pre><code>```python\n",
              "import pandas as pd\n",
              "import matplotlib.pyplot as plt\n",
              "\n",
              "# Load the pickled DataFrame\n",
              "df = pd.read_pickle('311_dataframe_borough_sample.pkl', compression='zip')\n",
              "\n",
              "# Create a horizontal bar graph showing the distribution of complaints by the 'borough' field\n",
              "df['borough'].value_counts().sort_values(ascending=False).plot.barh(title='Distribution of Complaints by Borough', xlabel='Number of Complaints')\n",
              "\n",
              "# Make sure the plot is wide enough to show the Y axis labels\n",
              "plt.tight_layout()\n",
              "\n",
              "# Show the plot\n",
              "plt.show()\n",
              "```</code></pre>\n",
              "    </div>\n",
              "    <div id=\"left\">\n",
              "      <h3>Code Execution Results</h3>\n",
              "      \n",
              "  <details open>\n",
              "    <summary class='main_summary'>Executed Code Output:</summary>\n",
              "    <div><pre>Code does not produce printable output.</pre></div>\n",
              "  </details>\n",
              "  \n",
              "  <details open>\n",
              "    <summary class='main_summary'>Files Created <u>(Click on filename to view content)</u>:</summary>\n",
              "    <div><pre><details><summary>code_execution_image_1_T1wXZpOjEt_L2ukPoqW-mA8.png</summary><div><img src=\"data:image/png;base64, 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\" /></div></details></pre></div>\n",
              "  </details>\n",
              "  \n",
              "    </div>\n",
              "</div>\n"
            ]
          },
          "metadata": {}
        }
      ]
    },
    {
      "cell_type": "markdown",
      "source": [
        "# Step 5: Analyze the Data\n",
        "\n",
        "Next, use Code Interpreter to generate some plots.\n",
        "\n",
        "To make this easier, you'll provide Code Interpreter with an example of the data and other additional information about the data as necessary.\n",
        "\n",
        "The pandas `head` method makes it easy to output a few pandas rows, but if your dataframe is wide pandas won't show some columns. To get around this, set pandas `display.max_columns` to not skip columns when printing:"
      ],
      "metadata": {
        "id": "okzVZhXNTpEJ"
      }
    },
    {
      "cell_type": "code",
      "source": [
        "pd.set_option('display.max_columns', None)"
      ],
      "metadata": {
        "id": "htrnPGkT9cLR"
      },
      "execution_count": 35,
      "outputs": []
    },
    {
      "cell_type": "markdown",
      "source": [
        "Use Code Interpreter to create a plot of the most common complaint types. To help Code Interpreter do this, provide the `head` of the DataFrame along with the unique complaint types."
      ],
      "metadata": {
        "id": "LeThShXsqtrO"
      }
    },
    {
      "cell_type": "code",
      "source": [
        "df_311_augmented = pd.read_pickle('311_dataframe_augmented.pkl', compression='zip')"
      ],
      "metadata": {
        "id": "n7sK_Bhhr7Es"
      },
      "execution_count": 36,
      "outputs": []
    },
    {
      "cell_type": "code",
      "source": [
        "QUERY = \"\"\"\n",
        "The attached pkl file is a DataFrame of citizen complaints.\n",
        "First, load the pickled DataFrame. The pickled Dataframe was saved with the compression set to zip.\n",
        "Create a horizontal bar plot showing the most common complaint types.\n",
        "Your plot should only show about 10 types.\n",
        "Don't show raw compliant counts, show as a percentage of total compliants.\n",
        "Title the plot and the X axis.\n",
        "The compliant types should be on the Y axis.\n",
        "Make sure the image is wide enough to show all the Y axis labels.\n",
        "Here is the head() of the DataFrame:\\n {}\\n\n",
        "Here are the unique complaint types: {}\n",
        "\"\"\".format(df_311_augmented.head(),\n",
        "           df_311_augmented['complaint_type'].unique().tolist())\n",
        "response = run_code_interpreter(QUERY, ['311_dataframe_augmented.pkl'])\n",
        "process_response(response)"
      ],
      "metadata": {
        "colab": {
          "base_uri": "https://localhost:8080/",
          "height": 526
        },
        "id": "1L-RO1tS0Dtp",
        "outputId": "5ad127df-2dca-4536-afd8-974ca0c13dc3"
      },
      "execution_count": 41,
      "outputs": [
        {
          "output_type": "display_data",
          "data": {
            "text/plain": [
              "<IPython.core.display.HTML object>"
            ],
            "text/html": [
              "\n",
              "<style>\n",
              ".main_summary {\n",
              "  font-weight: bold;\n",
              "  font-size: 14px; color: #4285F4;\n",
              "  background-color:rgba(221, 221, 221, 0.5); padding:8px;}\n",
              ".main_summary:hover {background-color: rgba(221, 221, 221, 1);}\n",
              "details {\n",
              "  background-color:#fff;\n",
              "  border: 1px solid #E8EAED;\n",
              "  padding:0px;\n",
              "  margin-bottom:2px; }\n",
              "details img {width:50%}\n",
              "details > div {padding:10px; }\n",
              "div#left > * > div {\n",
              "    overflow:auto;\n",
              "    max-height:400px; }\n",
              "\n",
              "div#right > pre {\n",
              "    overflow:auto;\n",
              "    max-height:600px;\n",
              "    background-color: ghostwhite;\n",
              "    padding: 10px; }\n",
              "details details > div { overflow: scroll; max-height:400px}\n",
              "details details {\n",
              "  background-color:rgba(246, 231, 217, 0.2);\n",
              "  border: 1px solid #FBBC04;}\n",
              "details details > summary {\n",
              "  padding: 8px;\n",
              "  background-color:rgba(255, 228, 196, 0.6); }\n",
              "details details > summary:hover { background-color:rgba(255, 228, 196, 0.9); }\n",
              "div#left {width: 64%; padding:0 1%;  }\n",
              "div#right {\n",
              "  border-left: 1px solid silver;\n",
              "  width: 30%;\n",
              "  float: right;\n",
              "  padding:0 1%; }\n",
              "body {color: #000; background-color: white; padding:10px 10px 40px 10px; }\n",
              "#main { border: 1px solid #FBBC04; padding:10px 0; display: flow-root; }\n",
              "h3 {color: #000; }\n",
              "code  { font-family: monospace; color: #900; padding: 0 2px; font-size: 105%; }\n",
              "</style>\n",
              "        \n",
              "<div id='main'>\n",
              "    <div id=\"right\">\n",
              "      <h3>Generated Code by Code Interpreter</h3>\n",
              "      <pre><code>```python\n",
              "import pandas as pd\n",
              "import matplotlib.pyplot as plt\n",
              "import seaborn as sns\n",
              "\n",
              "# Load the pickled DataFrame\n",
              "df = pd.read_pickle(\"311_dataframe_augmented.pkl\", compression=\"zip\")\n",
              "\n",
              "# Create a horizontal bar plot showing the most common complaint types\n",
              "# as a percentage of total complaints\n",
              "top_10_complaints = df[\"complaint_type\"].value_counts().head(10)\n",
              "top_10_complaints_percent = (top_10_complaints / df[\"complaint_type\"].count()) * 100\n",
              "\n",
              "plt.figure(figsize=(12, 6))\n",
              "sns.barplot(x=top_10_complaints_percent, y=top_10_complaints.index, orient=\"h\")\n",
              "plt.xlabel(\"Percentage of Total Complaints\")\n",
              "plt.ylabel(\"Complaint Type\")\n",
              "plt.title(\"Most Common Complaint Types\")\n",
              "plt.tight_layout()\n",
              "plt.show()\n",
              "```</code></pre>\n",
              "    </div>\n",
              "    <div id=\"left\">\n",
              "      <h3>Code Execution Results</h3>\n",
              "      \n",
              "  <details open>\n",
              "    <summary class='main_summary'>Executed Code Output:</summary>\n",
              "    <div><pre>Code does not produce printable output.</pre></div>\n",
              "  </details>\n",
              "  \n",
              "  <details open>\n",
              "    <summary class='main_summary'>Files Created <u>(Click on filename to view content)</u>:</summary>\n",
              "    <div><pre><details><summary>code_execution_image_1_Z1wXZs2XNpWP2ukPlYenkAE.png</summary><div><img src=\"data:image/png;base64, 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\" /></div></details></pre></div>\n",
              "  </details>\n",
              "  \n",
              "    </div>\n",
              "</div>\n"
            ]
          },
          "metadata": {}
        }
      ]
    },
    {
      "cell_type": "markdown",
      "source": [
        "Next, let's do some analysis of complaints having to do with \"vermin\". Let code interpreter decide what complaint categories correspond to vermin."
      ],
      "metadata": {
        "id": "U9ACn0I_t7j7"
      }
    },
    {
      "cell_type": "code",
      "source": [
        "QUERY = \"\"\"\n",
        "The attached pkl file is a DataFrame of citizen complaints.\n",
        "Use the warnings library to supress all category=FutureWarning.\n",
        "First, load the pickled DataFrame. The pickled Dataframe was saved with the compression set to zip.\n",
        "You are going to do analysis of complaints related to vermin.\n",
        "Consider the different kinds of complaints, and determine the complaint types that have to do with vermin. Here are the unique complaint types:{}\n",
        "Be generous with your definition of vermin, there are multiple relevant complaint types.\n",
        "Print the number of complaints that have to do with vermin.\n",
        "Then, create a horizontal bar plot showing the counts of the different vermin-related complaint types.\n",
        "Title the plot and the X axis.\n",
        "The compliant types should be on the Y axis.\n",
        "Make sure the image is wide enough to show all the Y axis labels.\n",
        "Here is the head() of the dataframe {}:\n",
        "\"\"\".format(\n",
        "    df_311_augmented['complaint_type'].unique().tolist(),\n",
        "    df_311_augmented.head())\n",
        "response = run_code_interpreter(QUERY, ['311_dataframe_augmented.pkl'])\n",
        "process_response(response)"
      ],
      "metadata": {
        "colab": {
          "base_uri": "https://localhost:8080/",
          "height": 732
        },
        "id": "WckAVsuqUwdJ",
        "outputId": "abe78c87-4c17-4cdb-ffb4-db661d6baeca"
      },
      "execution_count": 47,
      "outputs": [
        {
          "output_type": "display_data",
          "data": {
            "text/plain": [
              "<IPython.core.display.HTML object>"
            ],
            "text/html": [
              "\n",
              "<style>\n",
              ".main_summary {\n",
              "  font-weight: bold;\n",
              "  font-size: 14px; color: #4285F4;\n",
              "  background-color:rgba(221, 221, 221, 0.5); padding:8px;}\n",
              ".main_summary:hover {background-color: rgba(221, 221, 221, 1);}\n",
              "details {\n",
              "  background-color:#fff;\n",
              "  border: 1px solid #E8EAED;\n",
              "  padding:0px;\n",
              "  margin-bottom:2px; }\n",
              "details img {width:50%}\n",
              "details > div {padding:10px; }\n",
              "div#left > * > div {\n",
              "    overflow:auto;\n",
              "    max-height:400px; }\n",
              "\n",
              "div#right > pre {\n",
              "    overflow:auto;\n",
              "    max-height:600px;\n",
              "    background-color: ghostwhite;\n",
              "    padding: 10px; }\n",
              "details details > div { overflow: scroll; max-height:400px}\n",
              "details details {\n",
              "  background-color:rgba(246, 231, 217, 0.2);\n",
              "  border: 1px solid #FBBC04;}\n",
              "details details > summary {\n",
              "  padding: 8px;\n",
              "  background-color:rgba(255, 228, 196, 0.6); }\n",
              "details details > summary:hover { background-color:rgba(255, 228, 196, 0.9); }\n",
              "div#left {width: 64%; padding:0 1%;  }\n",
              "div#right {\n",
              "  border-left: 1px solid silver;\n",
              "  width: 30%;\n",
              "  float: right;\n",
              "  padding:0 1%; }\n",
              "body {color: #000; background-color: white; padding:10px 10px 40px 10px; }\n",
              "#main { border: 1px solid #FBBC04; padding:10px 0; display: flow-root; }\n",
              "h3 {color: #000; }\n",
              "code  { font-family: monospace; color: #900; padding: 0 2px; font-size: 105%; }\n",
              "</style>\n",
              "        \n",
              "<div id='main'>\n",
              "    <div id=\"right\">\n",
              "      <h3>Generated Code by Code Interpreter</h3>\n",
              "      <pre><code>```python\n",
              "import warnings\n",
              "import pandas as pd\n",
              "import matplotlib.pyplot as plt\n",
              "\n",
              "# Supress all category=FutureWarning warnings\n",
              "warnings.simplefilter(action='ignore', category=FutureWarning)\n",
              "\n",
              "# Load the pickled DataFrame\n",
              "df = pd.read_pickle(\"311_dataframe_augmented.pkl\", compression='zip')\n",
              "\n",
              "# Consider the different kinds of complaints, and determine the complaint types that have to do with vermin\n",
              "vermin_complaint_types = [\n",
              "    'Rodent',\n",
              "    'UNSANITARY CONDITION',\n",
              "    'Dirty Conditions',\n",
              "    'Unsanitary Animal Pvt Property',\n",
              "    'Unsanitary Animal Facility',\n",
              "    'Unsanitary Pigeon Condition'\n",
              "]\n",
              "\n",
              "# Print the number of complaints that have to do with vermin\n",
              "print(f\"Number of complaints that have to do with vermin: {df[df['complaint_type'].isin(vermin_complaint_types)].shape[0]}\")\n",
              "\n",
              "# Create a horizontal bar plot showing the counts of the different vermin-related complaint types\n",
              "vermin_complaints = df[df['complaint_type'].isin(vermin_complaint_types)]\n",
              "vermin_complaints.groupby('complaint_type').size().to_frame('count').reset_index().sort_values('count', ascending=False).plot.barh(x='complaint_type', y='count', figsize=(10, 5))\n",
              "plt.xlabel('Count')\n",
              "plt.ylabel('Complaint Type')\n",
              "plt.title('Vermin-Related Complaints')\n",
              "plt.tight_layout()\n",
              "plt.show()\n",
              "```</code></pre>\n",
              "    </div>\n",
              "    <div id=\"left\">\n",
              "      <h3>Code Execution Results</h3>\n",
              "      \n",
              "  <details open>\n",
              "    <summary class='main_summary'>Executed Code Output:</summary>\n",
              "    <div><pre>Number of complaints that have to do with vermin: 1536\n",
              "</pre></div>\n",
              "  </details>\n",
              "  \n",
              "  <details open>\n",
              "    <summary class='main_summary'>Files Created <u>(Click on filename to view content)</u>:</summary>\n",
              "    <div><pre><details><summary>code_execution_image_1_91wXZsWaFJWP2ukPlYenkAE.png</summary><div><img src=\"data:image/png;base64, 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\" /></div></details></pre></div>\n",
              "  </details>\n",
              "  \n",
              "    </div>\n",
              "</div>\n"
            ]
          },
          "metadata": {}
        }
      ]
    },
    {
      "cell_type": "markdown",
      "source": [
        "You may find it interesting to rerun the prompt above and see how Code Interpreter's idea of \"vermin\" changes.\n",
        "\n",
        "Finally, let's use our augmented time fields to do some analysis of complaint creation times."
      ],
      "metadata": {
        "id": "p_AaQ4Xtu_V0"
      }
    },
    {
      "cell_type": "code",
      "source": [
        "QUERY = \"\"\"\n",
        "The attached pkl file is a DataFrame of citizen complaints.\n",
        "Use the warnings library to supress all category=FutureWarning.\n",
        "First, load the pickled DataFrame. The pickled Dataframe was saved with the compression set to zip.\n",
        "You are going to do analysis of the most common complaints by hour of the day, using the 'created_hour' field.\n",
        "For each hour of the day, determine the most common complaint type.\n",
        "Print out a report.\n",
        "Here is the head() of the dataframe {}:\n",
        "\"\"\".format(df_311_augmented.head())\n",
        "response = run_code_interpreter(QUERY, ['311_dataframe_augmented.pkl'])\n",
        "process_response(response)"
      ],
      "metadata": {
        "colab": {
          "base_uri": "https://localhost:8080/",
          "height": 643
        },
        "id": "5hSKyhizywvN",
        "outputId": "6334f024-a66a-4611-d05e-1743ff9fb8de"
      },
      "execution_count": 49,
      "outputs": [
        {
          "output_type": "display_data",
          "data": {
            "text/plain": [
              "<IPython.core.display.HTML object>"
            ],
            "text/html": [
              "\n",
              "<style>\n",
              ".main_summary {\n",
              "  font-weight: bold;\n",
              "  font-size: 14px; color: #4285F4;\n",
              "  background-color:rgba(221, 221, 221, 0.5); padding:8px;}\n",
              ".main_summary:hover {background-color: rgba(221, 221, 221, 1);}\n",
              "details {\n",
              "  background-color:#fff;\n",
              "  border: 1px solid #E8EAED;\n",
              "  padding:0px;\n",
              "  margin-bottom:2px; }\n",
              "details img {width:50%}\n",
              "details > div {padding:10px; }\n",
              "div#left > * > div {\n",
              "    overflow:auto;\n",
              "    max-height:400px; }\n",
              "\n",
              "div#right > pre {\n",
              "    overflow:auto;\n",
              "    max-height:600px;\n",
              "    background-color: ghostwhite;\n",
              "    padding: 10px; }\n",
              "details details > div { overflow: scroll; max-height:400px}\n",
              "details details {\n",
              "  background-color:rgba(246, 231, 217, 0.2);\n",
              "  border: 1px solid #FBBC04;}\n",
              "details details > summary {\n",
              "  padding: 8px;\n",
              "  background-color:rgba(255, 228, 196, 0.6); }\n",
              "details details > summary:hover { background-color:rgba(255, 228, 196, 0.9); }\n",
              "div#left {width: 64%; padding:0 1%;  }\n",
              "div#right {\n",
              "  border-left: 1px solid silver;\n",
              "  width: 30%;\n",
              "  float: right;\n",
              "  padding:0 1%; }\n",
              "body {color: #000; background-color: white; padding:10px 10px 40px 10px; }\n",
              "#main { border: 1px solid #FBBC04; padding:10px 0; display: flow-root; }\n",
              "h3 {color: #000; }\n",
              "code  { font-family: monospace; color: #900; padding: 0 2px; font-size: 105%; }\n",
              "</style>\n",
              "        \n",
              "<div id='main'>\n",
              "    <div id=\"right\">\n",
              "      <h3>Generated Code by Code Interpreter</h3>\n",
              "      <pre><code>```python\n",
              "import warnings\n",
              "import pandas as pd\n",
              "\n",
              "# Suppress all category=FutureWarning\n",
              "warnings.simplefilter(action=\"ignore\", category=FutureWarning)\n",
              "\n",
              "# Load the pickled DataFrame\n",
              "df = pd.read_pickle(\"311_dataframe_augmented.pkl\", compression=\"zip\")\n",
              "\n",
              "# Group the data by hour of the day and count the number of complaints for each complaint type\n",
              "grouped = df.groupby(\"created_hour\")[\"complaint_type\"].value_counts()\n",
              "\n",
              "# Get the most common complaint type for each hour of the day\n",
              "most_common = grouped.groupby(level=0).idxmax()\n",
              "\n",
              "# Print out a report\n",
              "print(\"Most common complaint type for each hour of the day:\")\n",
              "print(most_common)\n",
              "```</code></pre>\n",
              "    </div>\n",
              "    <div id=\"left\">\n",
              "      <h3>Code Execution Results</h3>\n",
              "      \n",
              "  <details open>\n",
              "    <summary class='main_summary'>Executed Code Output:</summary>\n",
              "    <div><pre>Most common complaint type for each hour of the day:\n",
              "created_hour\n",
              "0         (0, Noise - Residential)\n",
              "1         (1, Noise - Residential)\n",
              "2         (2, Noise - Residential)\n",
              "3         (3, Noise - Residential)\n",
              "4         (4, Noise - Residential)\n",
              "5         (5, Noise - Residential)\n",
              "6              (6, HEAT/HOT WATER)\n",
              "7            (7, Street Condition)\n",
              "8             (8, Illegal Parking)\n",
              "9      (9, Street Light Condition)\n",
              "10    (10, Street Light Condition)\n",
              "11    (11, Street Light Condition)\n",
              "12         (12, Derelict Vehicles)\n",
              "13          (13, Street Condition)\n",
              "14          (14, Street Condition)\n",
              "15          (15, Street Condition)\n",
              "16       (16, Noise - Residential)\n",
              "17       (17, Noise - Residential)\n",
              "18       (18, Noise - Residential)\n",
              "19       (19, Noise - Residential)\n",
              "20       (20, Noise - Residential)\n",
              "21       (21, Noise - Residential)\n",
              "22       (22, Noise - Residential)\n",
              "23       (23, Noise - Residential)\n",
              "Name: count, dtype: object\n",
              "</pre></div>\n",
              "  </details>\n",
              "  \n",
              "  <details open>\n",
              "    <summary class='main_summary'>Files Created <u>(Click on filename to view content)</u>:</summary>\n",
              "    <div><pre>No Files generated from the code</pre></div>\n",
              "  </details>\n",
              "  \n",
              "    </div>\n",
              "</div>\n"
            ]
          },
          "metadata": {}
        }
      ]
    },
    {
      "cell_type": "markdown",
      "source": [
        "# Cleaning Up\n",
        "In this tutorial you used Code Interpreter from Vertex AI Extensions to work with a Pandas DataFrame. You set data types, cleaned the data, augemented the data, explored ways to sample the data, and did some data analysis."
      ],
      "metadata": {
        "id": "figw2zZ7MmO4"
      }
    },
    {
      "cell_type": "markdown",
      "source": [
        "## Cleaning Up Extensions\n",
        "\n",
        "Run the next code block to remove the extension you registered in this notebook."
      ],
      "metadata": {
        "id": "SSwaXG-zq-Zs"
      }
    },
    {
      "cell_type": "code",
      "source": [
        "extension_code_interpreter.delete()"
      ],
      "metadata": {
        "id": "G6y9BgeyQuXj"
      },
      "execution_count": null,
      "outputs": []
    },
    {
      "cell_type": "markdown",
      "source": [
        "If you restarted the notebook runtime, you may have some stray registered Extensions. This next line of code shows you all the Extensions registered in your project:"
      ],
      "metadata": {
        "id": "-DjFqPctqxg8"
      }
    },
    {
      "cell_type": "code",
      "source": [
        "extensions.Extension.list()"
      ],
      "metadata": {
        "id": "GTEgYGhFQfTW"
      },
      "execution_count": null,
      "outputs": []
    },
    {
      "cell_type": "markdown",
      "source": [
        "You can use the [Google Cloud Console](https://console.cloud.google.com/vertex-ai/extensions) to view and delete any stray registered Extensions.\n",
        "\n",
        "If you cant to delete all the extensions in your project, uncomment and run this code block. **WARNING**: This cannot be undone!"
      ],
      "metadata": {
        "id": "ihJEWJvNSfc9"
      }
    },
    {
      "cell_type": "code",
      "source": [
        "\"\"\"\n",
        "clean_ids = []\n",
        "\n",
        "for element in extensions.Extension.list():\n",
        "  clean_ids.append(str(element).split(\"extensions/\")[1])\n",
        "\n",
        "for id in clean_ids:\n",
        "  extension = extensions.Extension(id)\n",
        "  extension.delete()\n",
        "\"\"\""
      ],
      "metadata": {
        "id": "CsPKKv-USmi-"
      },
      "execution_count": null,
      "outputs": []
    },
    {
      "cell_type": "markdown",
      "source": [
        "## Cleaning Up Local Files"
      ],
      "metadata": {
        "id": "jUkl6FE-tXGC"
      }
    },
    {
      "cell_type": "markdown",
      "source": [
        "If you used the `run_code_interpreter` helper function, you can quickly cleanup the files created by Code Interpreter. First, take a look at the file names created:"
      ],
      "metadata": {
        "id": "dyM_NM-cPciW"
      }
    },
    {
      "cell_type": "code",
      "source": [
        "print(set(CODE_INTERPRETER_WRITTEN_FILES))"
      ],
      "metadata": {
        "id": "KKIcuYjMQYmY"
      },
      "execution_count": null,
      "outputs": []
    },
    {
      "cell_type": "markdown",
      "source": [
        "If you don't want to keep any of these files, uncomment and run the next code block. **WARNING**: These files will all be deleted, and this cannot be undone."
      ],
      "metadata": {
        "id": "nbcEVKPAQcX5"
      }
    },
    {
      "cell_type": "code",
      "source": [
        "# import os\n",
        "# _ = [os.remove(filename) for filename in set(CODE_INTERPRETER_WRITTEN_FILES)]# import os\n",
        "# _ = [os.remove(filename) for filename in set(CODE_INTERPRETER_WRITTEN_FILES)]"
      ],
      "metadata": {
        "id": "SrK4sJCiPtkg"
      },
      "execution_count": null,
      "outputs": []
    }
  ],
  "metadata": {
    "colab": {
      "provenance": [],
      "toc_visible": true
    },
    "kernelspec": {
      "display_name": "Python 3 (ipykernel)",
      "language": "python",
      "name": "python3"
    },
    "language_info": {
      "codemirror_mode": {
        "name": "ipython",
        "version": 3
      },
      "file_extension": ".py",
      "mimetype": "text/x-python",
      "name": "python",
      "nbconvert_exporter": "python",
      "pygments_lexer": "ipython3",
      "version": "3.11.4"
    }
  },
  "nbformat": 4,
  "nbformat_minor": 0
}
