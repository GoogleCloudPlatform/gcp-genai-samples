{
 "cells": [
  {
   "cell_type": "markdown",
   "id": "bbc99d01-078e-422d-a505-6a05f2fce23c",
   "metadata": {},
   "source": [
    "# Create Needle In A Haystack Visualization\n",
    "\n",
    "Let's run through how to create the visualization for the Needle In A Hackstack Test."
   ]
  },
  {
   "cell_type": "markdown",
   "id": "ffe5705c",
   "metadata": {},
   "source": [
    "### Install Dependencies"
   ]
  },
  {
   "cell_type": "code",
   "execution_count": null,
   "id": "59f0dd8c",
   "metadata": {},
   "outputs": [],
   "source": [
    "!pip install pandas seaborn"
   ]
  },
  {
   "cell_type": "markdown",
   "id": "99ac0074",
   "metadata": {},
   "source": [
    "### Restart Runtime\n",
    "\n",
    "To use the newly installed packages in this Jupyter runtime, you must restart the runtime. You can do this by running the cell below, which will restart the current kernel."
   ]
  },
  {
   "cell_type": "code",
   "execution_count": null,
   "id": "10f37c25",
   "metadata": {},
   "outputs": [],
   "source": [
    "# Restart kernel after installs so that your environment can access the new packages\n",
    "import IPython\n",
    "\n",
    "app = IPython.Application.instance()\n",
    "app.kernel.do_shutdown(True)"
   ]
  },
  {
   "cell_type": "markdown",
   "id": "a9322fdc",
   "metadata": {},
   "source": [
    "### Imports"
   ]
  },
  {
   "cell_type": "code",
   "execution_count": 1,
   "id": "69dfbae3-2020-436d-8e6f-4b2c6e6f7135",
   "metadata": {},
   "outputs": [],
   "source": [
    "import pandas as pd\n",
    "import seaborn as sns\n",
    "import matplotlib.pyplot as plt\n",
    "from matplotlib.colors import LinearSegmentedColormap\n",
    "import pandas as pd\n",
    "import json\n",
    "import glob"
   ]
  },
  {
   "cell_type": "markdown",
   "id": "9321e1a4-a01d-4549-9ffd-b016b4e8ccf2",
   "metadata": {},
   "source": [
    "## Load Data\n",
    "\n",
    "Change the `folder_path` location to where your results are stored."
   ]
  },
  {
   "cell_type": "code",
   "execution_count": null,
   "id": "c8db69cd-abbb-47be-b757-f1e0383007f0",
   "metadata": {},
   "outputs": [],
   "source": [
    "# Path to the directory containing JSON results\n",
    "folder_path = '../results'  # Replace with your folder path\n",
    "\n",
    "# Using glob to find all json files in the directory\n",
    "json_files = glob.glob(f\"{folder_path}/*.json\")\n",
    "\n",
    "# List to hold the data\n",
    "data = []\n",
    "\n",
    "# Iterating through each file and extract the 3 columns we need\n",
    "for file in json_files:\n",
    "    with open(file, 'r') as f:\n",
    "        json_data = json.load(f)\n",
    "        # Extracting the required fields\n",
    "        document_depth = json_data.get(\"depth_percent\", None)\n",
    "        context_length = json_data.get(\"context_length\", None)\n",
    "        score = json_data.get(\"score\", None)\n",
    "        # Appending to the list\n",
    "        data.append({\n",
    "            \"Document Depth\": document_depth,\n",
    "            \"Context Length\": context_length,\n",
    "            \"Score\": score\n",
    "        })\n",
    "\n",
    "# Creating a DataFrame\n",
    "df = pd.DataFrame(data)\n",
    "\n",
    "print (df.head())\n",
    "print (f\"You have {len(df)} rows\")"
   ]
  },
  {
   "cell_type": "markdown",
   "id": "3b3c8567-6452-4557-bf79-b73ee2ace150",
   "metadata": {},
   "source": [
    "Then let's create a pivot table. If you just ran the test once, then this step isn't needed (but it can be done anyway). If you ran the test multiple times then this will average out your scores."
   ]
  },
  {
   "cell_type": "markdown",
   "id": "8b81f85c-df25-4bf9-b23d-a1995ebe6f11",
   "metadata": {},
   "source": [
    "## Pivot Data"
   ]
  },
  {
   "cell_type": "code",
   "execution_count": null,
   "id": "a784de41-f317-4dd4-a97f-a73c02f7039e",
   "metadata": {},
   "outputs": [],
   "source": [
    "pivot_table = pd.pivot_table(df, values='Score', index=['Document Depth', 'Context Length'], aggfunc='mean').reset_index() # This will aggregate\n",
    "pivot_table = pivot_table.pivot(index=\"Document Depth\", columns=\"Context Length\", values=\"Score\") # This will turn into a proper pivot\n",
    "pivot_table.iloc[:5, :5]"
   ]
  },
  {
   "cell_type": "markdown",
   "id": "da837457-a886-47da-962b-d74cc6bea017",
   "metadata": {},
   "source": [
    "## Make Visualization"
   ]
  },
  {
   "cell_type": "code",
   "execution_count": null,
   "id": "5a0ff1a1-e8fc-4e89-a08b-69ca8cfe3cfa",
   "metadata": {},
   "outputs": [],
   "source": [
    "# Create a custom colormap. Go to https://coolors.co/ and pick cool colors\n",
    "cmap = LinearSegmentedColormap.from_list(\"custom_cmap\", [\"#F0496E\", \"#EBB839\", \"#0CD79F\"])\n",
    "\n",
    "# Create the heatmap with better aesthetics\n",
    "plt.figure(figsize=(17.5, 8))  # Can adjust these dimensions as needed\n",
    "sns.heatmap(\n",
    "    pivot_table,\n",
    "    # annot=True,\n",
    "    fmt=\"g\",\n",
    "    cmap=cmap,\n",
    "    cbar_kws={'label': 'Score'}\n",
    ")\n",
    "\n",
    "# More aesthetics\n",
    "plt.title('Pressure Testing Gemini Context\\nFact Retrieval Across Context Lengths (\"Needle In A HayStack\")')  # Adds a title\n",
    "plt.xlabel('Token Limit')  # X-axis label\n",
    "plt.ylabel('Depth Percent')  # Y-axis label\n",
    "plt.xticks(rotation=45)  # Rotates the x-axis labels to prevent overlap\n",
    "plt.yticks(rotation=0)  # Ensures the y-axis labels are horizontal\n",
    "plt.tight_layout()  # Fits everything neatly into the figure area\n",
    "\n",
    "# Show the plot\n",
    "plt.show()"
   ]
  }
 ],
 "metadata": {
  "kernelspec": {
   "display_name": "Python 3 (ipykernel)",
   "language": "python",
   "name": "python3"
  }
 },
 "nbformat": 4,
 "nbformat_minor": 5
}
