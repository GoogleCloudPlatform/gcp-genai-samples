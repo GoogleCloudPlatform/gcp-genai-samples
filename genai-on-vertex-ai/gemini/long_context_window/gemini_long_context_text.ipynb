{
  "cells": [
    {
      "cell_type": "code",
      "execution_count": null,
      "metadata": {
        "id": "FX2wUzd3gjTc"
      },
      "outputs": [],
      "source": [
        "# Copyright 2024 Google LLC\n",
        "#\n",
        "# Licensed under the Apache License, Version 2.0 (the \"License\");\n",
        "# you may not use this file except in compliance with the License.\n",
        "# You may obtain a copy of the License at\n",
        "#\n",
        "#     https://www.apache.org/licenses/LICENSE-2.0\n",
        "#\n",
        "# Unless required by applicable law or agreed to in writing, software\n",
        "# distributed under the License is distributed on an \"AS IS\" BASIS,\n",
        "# WITHOUT WARRANTIES OR CONDITIONS OF ANY KIND, either express or implied.\n",
        "# See the License for the specific language governing permissions and\n",
        "# limitations under the License."
      ]
    },
    {
      "cell_type": "markdown",
      "metadata": {
        "id": "yk0wepCDBa-d"
      },
      "source": [
        "# Using Gemini Long Context Window for Text\n",
        "\n",
        "<table align=\"left\">\n",
        "  <td style=\"text-align: center\">\n",
        "    <a href=\"https://colab.research.google.com/github/GoogleCloudPlatform/applied-ai-engineering-samples/blob/main/genai-on-vertex-ai/gemini/long_context_window/gemini_long_context_text.ipynb\">\n",
        "      <img width=\"32px\" src=\"https://www.gstatic.com/pantheon/images/bigquery/welcome_page/colab-logo.svg\" alt=\"Google Colaboratory logo\"><br> Open in Colab\n",
        "    </a>\n",
        "  </td>\n",
        "  <td style=\"text-align: center\">\n",
        "    <a href=\"https://console.cloud.google.com/vertex-ai/colab/import/https:%2F%2Fraw.githubusercontent.com%2FGoogleCloudPlatform%2Fapplied-ai-engineering-samples%2Fmain%2Fgenai-on-vertex-ai%2Fgemini%2Flong_context_window%2Fgemini_long_context_text.ipynb\">\n",
        "      <img width=\"32px\" src=\"https://lh3.googleusercontent.com/JmcxdQi-qOpctIvWKgPtrzZdJJK-J3sWE1RsfjZNwshCFgE_9fULcNpuXYTilIR2hjwN\" alt=\"Google Cloud Colab Enterprise logo\"><br> Open in Colab Enterprise\n",
        "    </a>\n",
        "  </td>\n",
        "  <td style=\"text-align: center\">\n",
        "    <a href=\"https://console.cloud.google.com/vertex-ai/workbench/deploy-notebook?download_url=https://raw.githubusercontent.com/GoogleCloudPlatform/applied-ai-engineering-samples/main/genai-on-vertex-ai/gemini/long_context_window/gemini_long_context_text.ipynb\">\n",
        "      <img src=\"https://www.gstatic.com/images/branding/gcpiconscolors/vertexai/v1/32px.svg\" alt=\"Vertex AI logo\"><br> Open in Vertex AI Workbench\n",
        "    </a>\n",
        "  </td>\n",
        "  <td style=\"text-align: center\">\n",
        "    <a href=\"https://github.com/GoogleCloudPlatform/applied-ai-engineering-samples/blob/main/genai-on-vertex-ai/gemini/long_context_window/gemini_long_context_text.ipynb\">\n",
        "      <img width=\"32px\" src=\"https://upload.wikimedia.org/wikipedia/commons/9/91/Octicons-mark-github.svg\" alt=\"GitHub logo\"><br> View on GitHub\n",
        "    </a>\n",
        "  </td>\n",
        "</table>"
      ]
    },
    {
      "cell_type": "markdown",
      "metadata": {
        "id": "2222be4842e7"
      },
      "source": [
        "| | |\n",
        "|-|-|\n",
        "| Author(s) | [Vijay Reddy](https://github.com/vijaykyr) |\n",
        "| Reviewer(s) | [Rajesh Thallam](https://github.com/rthallam), [Skander Hannachi](https://github.com/skanderhn)  |"
      ]
    },
    {
      "cell_type": "markdown",
      "metadata": {
        "id": "b53Y2SxXdjAR"
      },
      "source": [
        "# Overview\n",
        "\n",
        "---\n",
        "\n",
        "Gemini 1.5 Pro supports up to 2 Million input tokens. This is the equivalent of roughly:\n",
        "- ~2000 pages of text\n",
        "- ~19 hours of audio\n",
        "- ~2 hours of video\n",
        "- ~60K lines of code\n",
        "\n",
        "This [long context window](https://cloud.google.com/vertex-ai/generative-ai/docs/long-context) (LCW) opens up possibilities for prompting on large contexts that previously could only be approximated using pre-processing steps such as Retrieval Augmented Generation (RAG). Long context windows in LLMs are enabling new use cases and optimizing standard use cases such as:\n",
        "- Summarizing, analyzing and question-answering on large documents\n",
        "- Analyzing large code repositories\n",
        "- Agentic workflows for keeping the state of agents\n",
        "- [Many-shot in-context learning](https://arxiv.org/pdf/2404.11018) providing examples at the scale of hundreds or thousands leading to performance comparable to fine-tuned models.\n",
        "\n",
        "---\n",
        "\n",
        "In this notebook we will demonstrate long context window (LCW) using the text modality*. We will demonstrate 3 approaches to long context prompting and compare each of these approaches along the following dimensions of accuracy, latency and cost.\n",
        "\n",
        "Below is the summary of results observed at the time these experiments were run. Continue on for a detailed analysis of each.\n",
        "\n",
        "| Trial | Accuracy | Latency | Cost |\n",
        "|---|---|---|---|\n",
        "| **Baseline** | 43% (3/7) | 0.4 min | \\$0.004 |\n",
        "| **LCW - Naive** | 100% (7/7) | 3 min | \\$17.24 |\n",
        "| **LCW - Batched** | 100% (7/7) | 0.6 min | \\$2.47 |\n",
        "| **LCW - Cached** | 100% (7/7) | 2.2 min | \\$1.60 |\n",
        "\n",
        "\n",
        "<div class=\"alert alert-block alert-info\">\n",
        "* For example of other modality see the companion <a href=\"https://github.com/GoogleCloudPlatform/applied-ai-engineering-samples/blob/main/genai-on-vertex-ai/gemini/long_context_window/gemini_long_context_video.ipynb\">video notebook</a>.\n",
        "</div>\n"
      ]
    },
    {
      "cell_type": "markdown",
      "metadata": {
        "id": "oOy2p5tQS5PV"
      },
      "source": [
        "# Getting Started\n",
        "\n",
        "The following steps are necessary to run this notebook, no matter what notebook environment you're using.\n",
        "\n",
        "If you're entirely new to Google Cloud, [get started here](https://cloud.google.com/docs/get-started)."
      ]
    },
    {
      "cell_type": "markdown",
      "metadata": {
        "id": "546f03289832"
      },
      "source": [
        "## Google Cloud Project Setup\n",
        "\n",
        "1. [Select or create a Google Cloud project](https://console.cloud.google.com/cloud-resource-manager). When you first create an account, you get a $300 free credit towards your compute/storage costs.\n",
        "1. [Make sure that billing is enabled for your project](https://cloud.google.com/billing/docs/how-to/modify-project).\n",
        "1. [Enable the Service Usage API](https://console.cloud.google.com/apis/library/serviceusage.googleapis.com)\n",
        "1. [Enable the Vertex AI API](https://console.cloud.google.com/flows/enableapi?apiid=aiplatform.googleapis.com).\n",
        "1. [Enable the Cloud Storage API](https://console.cloud.google.com/flows/enableapi?apiid=storage.googleapis.com)."
      ]
    },
    {
      "cell_type": "markdown",
      "metadata": {
        "id": "66caf6693c7f"
      },
      "source": [
        "## Google Cloud Permissions\n",
        "\n",
        "**To run the complete Notebook, including the optional section, you will need to have the [Owner role](https://cloud.google.com/iam/docs/understanding-roles) for your project.**\n",
        "\n",
        "If you want to skip the optional section, you need at least the following [roles](https://cloud.google.com/iam/docs/granting-changing-revoking-access):\n",
        "* **`roles/serviceusage.serviceUsageAdmin`** to enable APIs\n",
        "* **`roles/iam.serviceAccountAdmin`** to modify service agent permissions\n",
        "* **`roles/aiplatform.user`** to use AI Platform components\n",
        "* **`roles/storage.objectAdmin`** to modify and delete GCS buckets"
      ]
    },
    {
      "cell_type": "markdown",
      "metadata": {
        "id": "PxjiHKjmS90b"
      },
      "source": [
        "## Install Vertex AI SDK for Python and other dependencies (If Needed)\n",
        "\n",
        "The list `packages` contains tuples of package import names and install names. If the import name is not found then the install name is used to install quitely for the current user."
      ]
    },
    {
      "cell_type": "code",
      "execution_count": null,
      "metadata": {
        "id": "4o3hnMgWTDh3"
      },
      "outputs": [],
      "source": [
        "! pip install pandas google-cloud-aiplatform --upgrade --quiet --user"
      ]
    },
    {
      "cell_type": "markdown",
      "metadata": {
        "id": "qd4wqoojTd1Q"
      },
      "source": [
        "## Restart Runtime\n",
        "\n",
        "To use the newly installed packages in this Jupyter runtime, you must restart the runtime. You can do this by running the cell below, which will restart the current kernel."
      ]
    },
    {
      "cell_type": "code",
      "execution_count": null,
      "metadata": {
        "id": "BqTCKVIrTgMD"
      },
      "outputs": [],
      "source": [
        "# Restart kernel after installs so that your environment can access the new packages\n",
        "import IPython\n",
        "\n",
        "app = IPython.Application.instance()\n",
        "app.kernel.do_shutdown(True)"
      ]
    },
    {
      "cell_type": "markdown",
      "metadata": {
        "id": "PlTYFeIAbaSZ"
      },
      "source": [
        "## Authenticate\n",
        "\n",
        "If you're using Colab, run the code in the next cell. Follow the popups and authenticate with an account that has access to your Google Cloud [project](https://cloud.google.com/resource-manager/docs/creating-managing-projects#identifying_projects).\n",
        "\n",
        "If you're running this notebook somewhere besides Colab, make sure your environment has the right Google Cloud access. If that's a new concept to you, consider looking into [Application Default Credentials for your local environment](https://cloud.google.com/docs/authentication/provide-credentials-adc#local-dev) and [initializing the Google Cloud CLI](https://cloud.google.com/docs/authentication/gcloud). In many cases, running `gcloud auth application-default login` in a shell on the machine running the notebook kernel is sufficient.\n",
        "\n",
        "More authentication options are discussed [here](https://cloud.google.com/docs/authentication)."
      ]
    },
    {
      "cell_type": "code",
      "execution_count": null,
      "metadata": {
        "id": "x-wkI7tebdOd"
      },
      "outputs": [],
      "source": [
        "# Colab authentication.\n",
        "import sys\n",
        "\n",
        "if \"google.colab\" in sys.modules:\n",
        "    from google.colab import auth\n",
        "\n",
        "    auth.authenticate_user()\n",
        "    print(\"Authenticated\")"
      ]
    },
    {
      "cell_type": "markdown",
      "metadata": {
        "id": "6JUY_QXRcqLJ"
      },
      "source": [
        "## Set Google Cloud project information and Initialize Vertex AI SDK\n",
        "\n",
        "To get started using Vertex AI, you must have an existing Google Cloud project and [enable the Vertex AI API](https://console.cloud.google.com/flows/enableapi?apiid=aiplatform.googleapis.com).\n",
        "\n",
        "Learn more about [setting up a project and a development environment](https://cloud.google.com/vertex-ai/docs/start/cloud-environment).\n",
        "\n",
        "Make sure to change `PROJECT_ID` in the next cell. You can leave the values for `REGION` unless you have a specific reason to change them."
      ]
    },
    {
      "cell_type": "code",
      "execution_count": null,
      "metadata": {
        "id": "voBgOrpgcnPD"
      },
      "outputs": [
        {
          "name": "stdout",
          "output_type": "stream",
          "text": [
            "Vertex AI SDK initialized.\n",
            "Vertex AI SDK version = 1.64.0\n"
          ]
        }
      ],
      "source": [
        "import vertexai\n",
        "\n",
        "PROJECT_ID = \"[your-project-id]\"  # @param {type:\"string\"}\n",
        "REGION = \"us-central1\"  # @param {type:\"string\"}\n",
        "\n",
        "vertexai.init(project=PROJECT_ID, location=REGION)\n",
        "print(\"Vertex AI SDK initialized.\")\n",
        "print(f\"Vertex AI SDK version = {vertexai.__version__}\")"
      ]
    },
    {
      "cell_type": "markdown",
      "metadata": {
        "id": "M3T9vgcFH1Cg"
      },
      "source": [
        "## Import Libraries"
      ]
    },
    {
      "cell_type": "code",
      "execution_count": null,
      "metadata": {
        "id": "YVAqvXSiHv6L"
      },
      "outputs": [],
      "source": [
        "import datetime\n",
        "\n",
        "import pandas as pd\n",
        "from IPython.display import Markdown\n",
        "from vertexai.generative_models import (GenerativeModel, HarmBlockThreshold,\n",
        "                                        HarmCategory, Part)\n",
        "\n",
        "pd.set_option(\"display.max_colwidth\", None)"
      ]
    },
    {
      "cell_type": "markdown",
      "metadata": {
        "id": "f03757456595"
      },
      "source": [
        " ## Initialize Gemini"
      ]
    },
    {
      "cell_type": "code",
      "execution_count": null,
      "metadata": {
        "id": "df302efdd7b1"
      },
      "outputs": [],
      "source": [
        "# Gemini Config\n",
        "GENERATION_CONFIG = dict(temperature=0)\n",
        "SAFETY_CONFIG = {\n",
        "    HarmCategory.HARM_CATEGORY_HATE_SPEECH: HarmBlockThreshold.BLOCK_NONE,\n",
        "    HarmCategory.HARM_CATEGORY_HARASSMENT: HarmBlockThreshold.BLOCK_NONE,\n",
        "    HarmCategory.HARM_CATEGORY_DANGEROUS_CONTENT: HarmBlockThreshold.BLOCK_NONE,\n",
        "    HarmCategory.HARM_CATEGORY_SEXUALLY_EXPLICIT: HarmBlockThreshold.BLOCK_NONE,\n",
        "}\n",
        "\n",
        "gemini_pro_model = GenerativeModel(\n",
        "    model_name=\"gemini-1.5-pro-001\",\n",
        "    generation_config=GENERATION_CONFIG,\n",
        "    safety_settings=SAFETY_CONFIG,\n",
        ")"
      ]
    },
    {
      "cell_type": "markdown",
      "metadata": {
        "id": "rcXoABv0ibFJ"
      },
      "source": [
        "# Long Context for Question and Answering\n",
        "\n",
        "To demonstrate Gemini's long context capabilities in the text modality we will do Questions and Answer about the novel [David Copperfield](https://www.gutenberg.org/cache/epub/43111/pg43111) by Charles Dickens. It is ~360K words and ~506K tokens, sufficiently long to evaluate long context capabilities of Gemini.\n",
        "\n",
        "The questions were sourced manually from the novel, without any prior knowledge of how they would perform in the various tests. The answers for these questions are roughly evenly distributed throughout the source material (beginning, middle, end) so as to evaluate performance across the full context window."
      ]
    },
    {
      "cell_type": "code",
      "execution_count": null,
      "metadata": {
        "id": "726e3e3abfcf"
      },
      "outputs": [],
      "source": [
        "questions = [\n",
        "    \"What are the first objects that David can recall from his infancy?\",\n",
        "    \"At the inn where the mail stops, what is painted on the door?\",\n",
        "    \"What name does David's aunt suggest to Mr. Dick they call him by?\",\n",
        "    \"Describe the room in which Mr. Copperfield meets Steerforth for breakfast.\",\n",
        "    \"After his engagement to Dora, David write Agnes a letter. What is the letter about?\",\n",
        "    \"What does David find in the hotel where Mr. Micawber requested him to meet in the middle of the night?\",\n",
        "    \"Who are David's final thoughts about in the book?\",\n",
        "]\n",
        "\n",
        "answers = [\n",
        "    \"His mother with her pretty hair, and Peggotty.\",\n",
        "    \"DOLPHIN\",\n",
        "    \"Trotwood Copperfield\",\n",
        "    \"A snug private apartment, red-curtained and Turkey-carpeted, where the fire burnt bright, and a fine hot breakfast was set forth on a table covered with a clean cloth; and a cheerful miniature of the room, the fire, the breakfast, Steerforth, and all, was shining in the little round mirror over the sideboard.\",\n",
        "    \"He writes to Agnes to assure her of his deep love for Agnes and that this was not a passing fancy or hasty decision.\",\n",
        "    \"A letter stating that he would appear in the morning at half past nine.\",\n",
        "    \"Agnes\",\n",
        "]"
      ]
    },
    {
      "cell_type": "markdown",
      "metadata": {
        "id": "da26f542ab84"
      },
      "source": [
        "## Baseline Behavior: Without adding any context\n",
        "\n",
        "As David Copperfield is a popular classic novel, it is likely Gemini already knows something about it from its internal knowledge. So that we can later measure how adding the novel explicitly as context helps, let's first ask our sample questions without any added context (aka zero-shot)."
      ]
    },
    {
      "cell_type": "code",
      "execution_count": null,
      "metadata": {
        "id": "c11354a135e1"
      },
      "outputs": [],
      "source": [
        "prompt_template = \"Answer the following question about {context}: {question}\"\n",
        "context = \"the book 'David Copperfield' by Charles Dickens\"\n",
        "\n",
        "\n",
        "def evaluate(\n",
        "    questions, answers, prompt_template, context, model, is_context_cached=False\n",
        "):\n",
        "    df = pd.DataFrame(\n",
        "        columns=[\n",
        "            \"question\",\n",
        "            \"ground_truth\",\n",
        "            \"model_response\",\n",
        "            \"input_token_count\",\n",
        "            \"output_token_count\",\n",
        "        ]\n",
        "    )\n",
        "    for i in range(len(questions)):\n",
        "        if is_context_cached:\n",
        "            prompt = prompt_template.format(question=questions[i])\n",
        "        else:\n",
        "            prompt = prompt_template.format(context=context, question=questions[i])\n",
        "        response = model.generate_content(prompt)\n",
        "        res = response.text\n",
        "        input_token_count = 0\n",
        "        output_token_count = 0\n",
        "        if response.usage_metadata:\n",
        "            input_token_count = response.usage_metadata.prompt_token_count\n",
        "            output_token_count = response.usage_metadata.candidates_token_count\n",
        "\n",
        "        df.loc[len(df)] = {\n",
        "            \"question\": questions[i],\n",
        "            \"model_response\": res,\n",
        "            \"ground_truth\": answers[i],\n",
        "            \"input_token_count\": input_token_count,\n",
        "            \"output_token_count\": output_token_count,\n",
        "        }\n",
        "    return df"
      ]
    },
    {
      "cell_type": "code",
      "execution_count": null,
      "metadata": {
        "id": "bff69b6a88db"
      },
      "outputs": [
        {
          "name": "stdout",
          "output_type": "stream",
          "text": [
            "CPU times: user 110 ms, sys: 4.49 ms, total: 114 ms\n",
            "Wall time: 33.4 s\n"
          ]
        },
        {
          "data": {
            "text/html": [
              "<div>\n",
              "<style scoped>\n",
              "    .dataframe tbody tr th:only-of-type {\n",
              "        vertical-align: middle;\n",
              "    }\n",
              "\n",
              "    .dataframe tbody tr th {\n",
              "        vertical-align: top;\n",
              "    }\n",
              "\n",
              "    .dataframe thead th {\n",
              "        text-align: right;\n",
              "    }\n",
              "</style>\n",
              "<table border=\"1\" class=\"dataframe\">\n",
              "  <thead>\n",
              "    <tr style=\"text-align: right;\">\n",
              "      <th></th>\n",
              "      <th>question</th>\n",
              "      <th>ground_truth</th>\n",
              "      <th>model_response</th>\n",
              "      <th>input_token_count</th>\n",
              "      <th>output_token_count</th>\n",
              "    </tr>\n",
              "  </thead>\n",
              "  <tbody>\n",
              "    <tr>\n",
              "      <th>0</th>\n",
              "      <td>What are the first objects that David can recall from his infancy?</td>\n",
              "      <td>His mother with her pretty hair, and Peggotty.</td>\n",
              "      <td>The first objects David Copperfield remembers from his infancy are:\\n\\n* **The hand of his mother:** He describes it as a \"soft hand\" that he used to \"fancy was always holding mine.\"\\n* **The sparkling objects on his mother's dress:** He remembers them as \"twinkling\" and \"shining\" and associates them with the loving presence of his mother.\\n\\nThese early memories, though fragmented, highlight the importance of his mother and the sense of security she provided in his early childhood. \\n</td>\n",
              "      <td>29</td>\n",
              "      <td>105</td>\n",
              "    </tr>\n",
              "    <tr>\n",
              "      <th>1</th>\n",
              "      <td>At the inn where the mail stops, what is painted on the door?</td>\n",
              "      <td>DOLPHIN</td>\n",
              "      <td>At the inn where the mail stops in \"David Copperfield,\" the door features a painting of a **large cheese**. \\n\\nThis detail is mentioned in Chapter 5, when young David is traveling by coach to Yarmouth. The image of the cheese is described as being so poorly painted that it's difficult to discern what it is supposed to be, highlighting the shabbiness of the inn. \\n</td>\n",
              "      <td>31</td>\n",
              "      <td>82</td>\n",
              "    </tr>\n",
              "    <tr>\n",
              "      <th>2</th>\n",
              "      <td>What name does David's aunt suggest to Mr. Dick they call him by?</td>\n",
              "      <td>Trotwood Copperfield</td>\n",
              "      <td>David's aunt, Betsey Trotwood, suggests that Mr. Dick call David by the name **\"Trotwood\"**. \\n\\nShe dislikes the name \"David\" because it was her deceased fiancé's name, and she associates it with bad luck. She believes that calling David \"Trotwood\" will help to distance him from any potential misfortune. \\n</td>\n",
              "      <td>33</td>\n",
              "      <td>76</td>\n",
              "    </tr>\n",
              "    <tr>\n",
              "      <th>3</th>\n",
              "      <td>Describe the room in which Mr. Copperfield meets Steerforth for breakfast.</td>\n",
              "      <td>A snug private apartment, red-curtained and Turkey-carpeted, where the fire burnt bright, and a fine hot breakfast was set forth on a table covered with a clean cloth; and a cheerful miniature of the room, the fire, the breakfast, Steerforth, and all, was shining in the little round mirror over the sideboard.</td>\n",
              "      <td>While the specific details of the breakfast room where Mr. Copperfield (David) meets Steerforth aren't extensively described in \"David Copperfield,\" we can glean some information from the text to paint a picture. \\n\\nThe meeting takes place at the residence of Steerforth's mother in Highgate. Considering their social standing and Steerforth's somewhat arrogant nature, we can assume the following:\\n\\n* **The room would be spacious and well-appointed:**  It likely reflects the wealth and status of Steerforth's family. Expect high ceilings, large windows, and possibly a fireplace.\\n* **The furnishings would be elegant and likely somewhat traditional:** Think polished wood furniture, perhaps mahogany, with plush upholstery and tasteful decorations. \\n* **The breakfast setting itself would be lavish:**  A white tablecloth, silverware, fine china, and a spread of breakfast delicacies would be the norm for a family like Steerforth's. \\n\\nHowever, Dickens doesn't dwell on the physical details of the room. He's more interested in the social dynamics and the contrast between David's awe of Steerforth and the latter's somewhat condescending demeanor. \\n\\nTherefore, while we can infer the general opulence of the setting, the specific details are left to the reader's imagination. \\n</td>\n",
              "      <td>31</td>\n",
              "      <td>266</td>\n",
              "    </tr>\n",
              "    <tr>\n",
              "      <th>4</th>\n",
              "      <td>After his engagement to Dora, David write Agnes a letter. What is the letter about?</td>\n",
              "      <td>He writes to Agnes to assure her of his deep love for Agnes and that this was not a passing fancy or hasty decision.</td>\n",
              "      <td>In Charles Dickens's \"David Copperfield,\" after David becomes engaged to Dora Spenlow, he does indeed write a letter to his dear friend Agnes Wickfield. This letter is full of turmoil and reveals David's inner conflict about his engagement. \\n\\nHere's a breakdown of the letter's content:\\n\\n* **Expressing Doubt:** David confides in Agnes his growing doubts about his relationship with Dora. He acknowledges that while Dora is beautiful and charming, he sees her more as a \"child-wife\" who needs constant care and may not possess the depth of character he truly desires in a life partner.\\n* **Seeking Validation:**  He seeks validation from Agnes, hoping she will reassure him that he's doing the right thing. Deep down, he craves her approval and perhaps even secretly wishes for a different future with her.\\n* **Acknowledging Agnes's Qualities:**  The letter implicitly contrasts Dora's childlike innocence with Agnes's maturity, intelligence, and steadfastness. He praises her virtues, further highlighting his internal conflict.\\n* **Fear of Causing Pain:**  David expresses his fear of hurting Dora by breaking off the engagement. He feels trapped by his own sense of obligation and his desire to protect her from pain.\\n\\nIn essence, the letter to Agnes is a cry for help, a confession of David's growing unease about his impending marriage. It reveals his emotional dependence on Agnes and foreshadows the challenges and heartache that lie ahead in his relationship with Dora. \\n</td>\n",
              "      <td>34</td>\n",
              "      <td>312</td>\n",
              "    </tr>\n",
              "    <tr>\n",
              "      <th>5</th>\n",
              "      <td>What does David find in the hotel where Mr. Micawber requested him to meet in the middle of the night?</td>\n",
              "      <td>A letter stating that he would appear in the morning at half past nine.</td>\n",
              "      <td>David finds Mr. Micawber in a state of emotional distress, having already consumed a significant amount of punch. He's about to expose the villainy of his employer, Uriah Heep. \\n\\nWhile the prompt mentions finding something \"in the hotel,\" it's more accurate to say David finds a situation unfolding rather than a physical object. \\n</td>\n",
              "      <td>40</td>\n",
              "      <td>74</td>\n",
              "    </tr>\n",
              "    <tr>\n",
              "      <th>6</th>\n",
              "      <td>Who are David's final thoughts about in the book?</td>\n",
              "      <td>Agnes</td>\n",
              "      <td>In the closing lines of \"David Copperfield,\" David's final thoughts are about **Agnes Wickfield**. \\n\\nHe reflects on their shared past, her unwavering love and support, and the happiness they have found together. He acknowledges her profound influence on his life, stating that \"The light of the fire is upon your face, and the light of the last confidences I have ever to make, my dearest wife, is upon it also.\" \\n\\nThis ending emphasizes the importance of Agnes as the anchor and true love of David's life, bringing the novel to a close on a note of peace and fulfillment. \\n</td>\n",
              "      <td>28</td>\n",
              "      <td>127</td>\n",
              "    </tr>\n",
              "  </tbody>\n",
              "</table>\n",
              "</div>"
            ],
            "text/plain": [
              "                                                                                                 question  \\\n",
              "0                                      What are the first objects that David can recall from his infancy?   \n",
              "1                                           At the inn where the mail stops, what is painted on the door?   \n",
              "2                                       What name does David's aunt suggest to Mr. Dick they call him by?   \n",
              "3                              Describe the room in which Mr. Copperfield meets Steerforth for breakfast.   \n",
              "4                     After his engagement to Dora, David write Agnes a letter. What is the letter about?   \n",
              "5  What does David find in the hotel where Mr. Micawber requested him to meet in the middle of the night?   \n",
              "6                                                       Who are David's final thoughts about in the book?   \n",
              "\n",
              "                                                                                                                                                                                                                                                                                                             ground_truth  \\\n",
              "0                                                                                                                                                                                                                                                                          His mother with her pretty hair, and Peggotty.   \n",
              "1                                                                                                                                                                                                                                                                                                                 DOLPHIN   \n",
              "2                                                                                                                                                                                                                                                                                                    Trotwood Copperfield   \n",
              "3  A snug private apartment, red-curtained and Turkey-carpeted, where the fire burnt bright, and a fine hot breakfast was set forth on a table covered with a clean cloth; and a cheerful miniature of the room, the fire, the breakfast, Steerforth, and all, was shining in the little round mirror over the sideboard.   \n",
              "4                                                                                                                                                                                                    He writes to Agnes to assure her of his deep love for Agnes and that this was not a passing fancy or hasty decision.   \n",
              "5                                                                                                                                                                                                                                                 A letter stating that he would appear in the morning at half past nine.   \n",
              "6                                                                                                                                                                                                                                                                                                                   Agnes   \n",
              "\n",
              "                                                                                                                                                                                                                                                                                                                                                                                                                                                                                                                                                                                                                                                                                                                                                                                                                                                                                                                                                                                                                                                                                                                                                                                                                                                                                                                                                                                                                                                                                                                                      model_response  \\\n",
              "0                                                                                                                                                                                                                                                                                                                                                                                                                                                                                                                                                                                                                                                                                                                                                                                                                                                                                                                                                                                                                                         The first objects David Copperfield remembers from his infancy are:\\n\\n* **The hand of his mother:** He describes it as a \"soft hand\" that he used to \"fancy was always holding mine.\"\\n* **The sparkling objects on his mother's dress:** He remembers them as \"twinkling\" and \"shining\" and associates them with the loving presence of his mother.\\n\\nThese early memories, though fragmented, highlight the importance of his mother and the sense of security she provided in his early childhood. \\n   \n",
              "1                                                                                                                                                                                                                                                                                                                                                                                                                                                                                                                                                                                                                                                                                                                                                                                                                                                                                                                                                                                                                                                                                                                                                                    At the inn where the mail stops in \"David Copperfield,\" the door features a painting of a **large cheese**. \\n\\nThis detail is mentioned in Chapter 5, when young David is traveling by coach to Yarmouth. The image of the cheese is described as being so poorly painted that it's difficult to discern what it is supposed to be, highlighting the shabbiness of the inn. \\n   \n",
              "2                                                                                                                                                                                                                                                                                                                                                                                                                                                                                                                                                                                                                                                                                                                                                                                                                                                                                                                                                                                                                                                                                                                                                                                                                              David's aunt, Betsey Trotwood, suggests that Mr. Dick call David by the name **\"Trotwood\"**. \\n\\nShe dislikes the name \"David\" because it was her deceased fiancé's name, and she associates it with bad luck. She believes that calling David \"Trotwood\" will help to distance him from any potential misfortune. \\n   \n",
              "3                                                                                                                                                                                                         While the specific details of the breakfast room where Mr. Copperfield (David) meets Steerforth aren't extensively described in \"David Copperfield,\" we can glean some information from the text to paint a picture. \\n\\nThe meeting takes place at the residence of Steerforth's mother in Highgate. Considering their social standing and Steerforth's somewhat arrogant nature, we can assume the following:\\n\\n* **The room would be spacious and well-appointed:**  It likely reflects the wealth and status of Steerforth's family. Expect high ceilings, large windows, and possibly a fireplace.\\n* **The furnishings would be elegant and likely somewhat traditional:** Think polished wood furniture, perhaps mahogany, with plush upholstery and tasteful decorations. \\n* **The breakfast setting itself would be lavish:**  A white tablecloth, silverware, fine china, and a spread of breakfast delicacies would be the norm for a family like Steerforth's. \\n\\nHowever, Dickens doesn't dwell on the physical details of the room. He's more interested in the social dynamics and the contrast between David's awe of Steerforth and the latter's somewhat condescending demeanor. \\n\\nTherefore, while we can infer the general opulence of the setting, the specific details are left to the reader's imagination. \\n   \n",
              "4  In Charles Dickens's \"David Copperfield,\" after David becomes engaged to Dora Spenlow, he does indeed write a letter to his dear friend Agnes Wickfield. This letter is full of turmoil and reveals David's inner conflict about his engagement. \\n\\nHere's a breakdown of the letter's content:\\n\\n* **Expressing Doubt:** David confides in Agnes his growing doubts about his relationship with Dora. He acknowledges that while Dora is beautiful and charming, he sees her more as a \"child-wife\" who needs constant care and may not possess the depth of character he truly desires in a life partner.\\n* **Seeking Validation:**  He seeks validation from Agnes, hoping she will reassure him that he's doing the right thing. Deep down, he craves her approval and perhaps even secretly wishes for a different future with her.\\n* **Acknowledging Agnes's Qualities:**  The letter implicitly contrasts Dora's childlike innocence with Agnes's maturity, intelligence, and steadfastness. He praises her virtues, further highlighting his internal conflict.\\n* **Fear of Causing Pain:**  David expresses his fear of hurting Dora by breaking off the engagement. He feels trapped by his own sense of obligation and his desire to protect her from pain.\\n\\nIn essence, the letter to Agnes is a cry for help, a confession of David's growing unease about his impending marriage. It reveals his emotional dependence on Agnes and foreshadows the challenges and heartache that lie ahead in his relationship with Dora. \\n   \n",
              "5                                                                                                                                                                                                                                                                                                                                                                                                                                                                                                                                                                                                                                                                                                                                                                                                                                                                                                                                                                                                                                                                                                                                                                                                     David finds Mr. Micawber in a state of emotional distress, having already consumed a significant amount of punch. He's about to expose the villainy of his employer, Uriah Heep. \\n\\nWhile the prompt mentions finding something \"in the hotel,\" it's more accurate to say David finds a situation unfolding rather than a physical object. \\n   \n",
              "6                                                                                                                                                                                                                                                                                                                                                                                                                                                                                                                                                                                                                                                                                                                                                                                                                                                                                                                                                In the closing lines of \"David Copperfield,\" David's final thoughts are about **Agnes Wickfield**. \\n\\nHe reflects on their shared past, her unwavering love and support, and the happiness they have found together. He acknowledges her profound influence on his life, stating that \"The light of the fire is upon your face, and the light of the last confidences I have ever to make, my dearest wife, is upon it also.\" \\n\\nThis ending emphasizes the importance of Agnes as the anchor and true love of David's life, bringing the novel to a close on a note of peace and fulfillment. \\n   \n",
              "\n",
              "   input_token_count  output_token_count  \n",
              "0                 29                 105  \n",
              "1                 31                  82  \n",
              "2                 33                  76  \n",
              "3                 31                 266  \n",
              "4                 34                 312  \n",
              "5                 40                  74  \n",
              "6                 28                 127  "
            ]
          },
          "execution_count": null,
          "metadata": {},
          "output_type": "execute_result"
        }
      ],
      "source": [
        "%%time\n",
        "df_zeroshot = evaluate(questions, answers, prompt_template, context, gemini_pro_model)\n",
        "df_zeroshot"
      ]
    },
    {
      "cell_type": "markdown",
      "metadata": {
        "id": "1425e1815dec"
      },
      "source": [
        "### Analysis\n",
        "\n",
        "- Latency: 25 seconds\n",
        "- Cost: $0.004\n",
        "- Accuracy: 3/7\n",
        "\n",
        "Accuracy is determined manually by comparing the ground truth to the model response. There is some subjectivity in this evaluation, and at the time of this writing Gemini is non-deterministic, so your results may vary slightly. \n",
        "\n",
        "In our analysis only 2 answers are unambigiously correct, and another two we  consider close enough to give partial credit, for a total of 1+1+0.5+0.5=3 out of 7, or 43% accuracy.\n",
        "\n",
        "The cost is negligable."
      ]
    },
    {
      "cell_type": "markdown",
      "metadata": {
        "id": "75c7df7ee57c"
      },
      "source": [
        "## Long Context Window\n",
        "\n",
        "Now tet's take advantage of the 2M context window with Gemini 1.5 Pro and see if accuracy improves by feeding the entire novel text as context. "
      ]
    },
    {
      "cell_type": "markdown",
      "metadata": {
        "id": "f70d86b4bd4e"
      },
      "source": [
        "### Download Novel"
      ]
    },
    {
      "cell_type": "code",
      "execution_count": null,
      "metadata": {
        "id": "cf74f159824a"
      },
      "outputs": [],
      "source": [
        "import requests\n",
        "\n",
        "url = \"https://www.gutenberg.org/ebooks/766.txt.utf-8\"\n",
        "try:\n",
        "    response = requests.get(url)\n",
        "    response.raise_for_status()  # Raise an exception for bad status codes (4xx and 5xx)\n",
        "except requests.exceptions.RequestException as e:\n",
        "    print(f\"Error downloading file: {e}\")\n",
        "\n",
        "novel = response.text"
      ]
    },
    {
      "cell_type": "markdown",
      "metadata": {
        "id": "646840d53d26"
      },
      "source": [
        "### Naive approach\n",
        "\n",
        "We will first construct our prompt in a naive way by stuffing the entirety of the novel into the prompt and asking it one question at a time.\n",
        "\n",
        "<div class=\"alert alert-block alert-info\">\n",
        "\n",
        "💡 <b>TIP</b> </br>\n",
        "<hr/>\n",
        "\n",
        "When working with a long context prompts, you can follow a few prompting strategies: </br>\n",
        "\n",
        "<ol>\n",
        "    <li>It’s important to structure your prompt separating out input data (documents) from the instructions. In the prompt template, we are using XML tags to separate out document and instructions. This helps Gemini 1.5 Pro to disambiguate data from instructions and process the prompt optimally.</li></br>\n",
        "    <li>Location of instruction and user input matters! Documents are added first followed by instructions and user input/question. This placement helps the model to address the question better.</li>\n",
        "</ol>\n",
        "</div>"
      ]
    },
    {
      "cell_type": "code",
      "execution_count": null,
      "metadata": {
        "id": "4940ce45711d"
      },
      "outputs": [
        {
          "name": "stdout",
          "output_type": "stream",
          "text": [
            "CPU times: user 10.7 s, sys: 93.8 ms, total: 10.8 s\n",
            "Wall time: 3min 8s\n"
          ]
        },
        {
          "data": {
            "text/html": [
              "<div>\n",
              "<style scoped>\n",
              "    .dataframe tbody tr th:only-of-type {\n",
              "        vertical-align: middle;\n",
              "    }\n",
              "\n",
              "    .dataframe tbody tr th {\n",
              "        vertical-align: top;\n",
              "    }\n",
              "\n",
              "    .dataframe thead th {\n",
              "        text-align: right;\n",
              "    }\n",
              "</style>\n",
              "<table border=\"1\" class=\"dataframe\">\n",
              "  <thead>\n",
              "    <tr style=\"text-align: right;\">\n",
              "      <th></th>\n",
              "      <th>question</th>\n",
              "      <th>ground_truth</th>\n",
              "      <th>model_response</th>\n",
              "      <th>input_token_count</th>\n",
              "      <th>output_token_count</th>\n",
              "    </tr>\n",
              "  </thead>\n",
              "  <tbody>\n",
              "    <tr>\n",
              "      <th>0</th>\n",
              "      <td>What are the first objects that David can recall from his infancy?</td>\n",
              "      <td>His mother with her pretty hair, and Peggotty.</td>\n",
              "      <td>The first objects David Copperfield remembers from his infancy are his mother, with her pretty hair and youthful shape, and Peggotty, with \"no shape at all\" and dark eyes, red cheeks, and hard arms. \\n</td>\n",
              "      <td>539714</td>\n",
              "      <td>48</td>\n",
              "    </tr>\n",
              "    <tr>\n",
              "      <th>1</th>\n",
              "      <td>At the inn where the mail stops, what is painted on the door?</td>\n",
              "      <td>DOLPHIN</td>\n",
              "      <td>The door has **DOLPHIN** painted on it. \\n</td>\n",
              "      <td>539716</td>\n",
              "      <td>14</td>\n",
              "    </tr>\n",
              "    <tr>\n",
              "      <th>2</th>\n",
              "      <td>What name does David's aunt suggest to Mr. Dick they call him by?</td>\n",
              "      <td>Trotwood Copperfield</td>\n",
              "      <td>David's aunt suggests to Mr. Dick that they call him \"Trotwood\". \\n</td>\n",
              "      <td>539718</td>\n",
              "      <td>20</td>\n",
              "    </tr>\n",
              "    <tr>\n",
              "      <th>3</th>\n",
              "      <td>Describe the room in which Mr. Copperfield meets Steerforth for breakfast.</td>\n",
              "      <td>A snug private apartment, red-curtained and Turkey-carpeted, where the fire burnt bright, and a fine hot breakfast was set forth on a table covered with a clean cloth; and a cheerful miniature of the room, the fire, the breakfast, Steerforth, and all, was shining in the little round mirror over the sideboard.</td>\n",
              "      <td>The room where David Copperfield meets Steerforth for breakfast is described as a \"snug private apartment,\" a welcome contrast to the \"little loft over a stable\" David had been initially assigned. It is decorated with red curtains and has a Turkey carpet. A bright fire burns in the fireplace, and a \"fine hot breakfast\" is laid out on a table covered with a clean tablecloth. A \"cheerful miniature\" of the room, including the fire and breakfast, is reflected in a small, round mirror over the sideboard. \\n</td>\n",
              "      <td>539716</td>\n",
              "      <td>107</td>\n",
              "    </tr>\n",
              "    <tr>\n",
              "      <th>4</th>\n",
              "      <td>After his engagement to Dora, David write Agnes a letter. What is the letter about?</td>\n",
              "      <td>He writes to Agnes to assure her of his deep love for Agnes and that this was not a passing fancy or hasty decision.</td>\n",
              "      <td>After David gets engaged to Dora, he writes Agnes a long letter telling her how happy he is and how wonderful Dora is. He describes his love for Dora as profound and unlike anything ever known, trying to convince Agnes that this is not a passing fancy like his childhood infatuations. He wants her to understand the depth and seriousness of his feelings for Dora. \\n</td>\n",
              "      <td>539719</td>\n",
              "      <td>73</td>\n",
              "    </tr>\n",
              "    <tr>\n",
              "      <th>5</th>\n",
              "      <td>What does David find in the hotel where Mr. Micawber requested him to meet in the middle of the night?</td>\n",
              "      <td>A letter stating that he would appear in the morning at half past nine.</td>\n",
              "      <td>In the hotel where Mr. Micawber requested to meet David in the middle of the night, David finds a **letter**. \\n\\nThis letter informs David that Mr. Micawber will be appearing in the morning at precisely half past nine. \\n</td>\n",
              "      <td>539725</td>\n",
              "      <td>52</td>\n",
              "    </tr>\n",
              "    <tr>\n",
              "      <th>6</th>\n",
              "      <td>Who are David's final thoughts about in the book?</td>\n",
              "      <td>Agnes</td>\n",
              "      <td>At the end of the book, David's final thoughts are about **Agnes**. He reflects on their journey together through life, surrounded by their children and friends. He acknowledges her unwavering support and guidance through his darkest times, and expresses his enduring love for her. He sees her as a guiding light, a source of strength and inspiration, and hopes that her face will be the last thing he sees before he dies. \\n</td>\n",
              "      <td>539713</td>\n",
              "      <td>86</td>\n",
              "    </tr>\n",
              "  </tbody>\n",
              "</table>\n",
              "</div>"
            ],
            "text/plain": [
              "                                                                                                 question  \\\n",
              "0                                      What are the first objects that David can recall from his infancy?   \n",
              "1                                           At the inn where the mail stops, what is painted on the door?   \n",
              "2                                       What name does David's aunt suggest to Mr. Dick they call him by?   \n",
              "3                              Describe the room in which Mr. Copperfield meets Steerforth for breakfast.   \n",
              "4                     After his engagement to Dora, David write Agnes a letter. What is the letter about?   \n",
              "5  What does David find in the hotel where Mr. Micawber requested him to meet in the middle of the night?   \n",
              "6                                                       Who are David's final thoughts about in the book?   \n",
              "\n",
              "                                                                                                                                                                                                                                                                                                             ground_truth  \\\n",
              "0                                                                                                                                                                                                                                                                          His mother with her pretty hair, and Peggotty.   \n",
              "1                                                                                                                                                                                                                                                                                                                 DOLPHIN   \n",
              "2                                                                                                                                                                                                                                                                                                    Trotwood Copperfield   \n",
              "3  A snug private apartment, red-curtained and Turkey-carpeted, where the fire burnt bright, and a fine hot breakfast was set forth on a table covered with a clean cloth; and a cheerful miniature of the room, the fire, the breakfast, Steerforth, and all, was shining in the little round mirror over the sideboard.   \n",
              "4                                                                                                                                                                                                    He writes to Agnes to assure her of his deep love for Agnes and that this was not a passing fancy or hasty decision.   \n",
              "5                                                                                                                                                                                                                                                 A letter stating that he would appear in the morning at half past nine.   \n",
              "6                                                                                                                                                                                                                                                                                                                   Agnes   \n",
              "\n",
              "                                                                                                                                                                                                                                                                                                                                                                                                                                                                                                                model_response  \\\n",
              "0                                                                                                                                                                                                                                                                                                                    The first objects David Copperfield remembers from his infancy are his mother, with her pretty hair and youthful shape, and Peggotty, with \"no shape at all\" and dark eyes, red cheeks, and hard arms. \\n   \n",
              "1                                                                                                                                                                                                                                                                                                                                                                                                                                                                                   The door has **DOLPHIN** painted on it. \\n   \n",
              "2                                                                                                                                                                                                                                                                                                                                                                                                                                                          David's aunt suggests to Mr. Dick that they call him \"Trotwood\". \\n   \n",
              "3  The room where David Copperfield meets Steerforth for breakfast is described as a \"snug private apartment,\" a welcome contrast to the \"little loft over a stable\" David had been initially assigned. It is decorated with red curtains and has a Turkey carpet. A bright fire burns in the fireplace, and a \"fine hot breakfast\" is laid out on a table covered with a clean tablecloth. A \"cheerful miniature\" of the room, including the fire and breakfast, is reflected in a small, round mirror over the sideboard. \\n   \n",
              "4                                                                                                                                               After David gets engaged to Dora, he writes Agnes a long letter telling her how happy he is and how wonderful Dora is. He describes his love for Dora as profound and unlike anything ever known, trying to convince Agnes that this is not a passing fancy like his childhood infatuations. He wants her to understand the depth and seriousness of his feelings for Dora. \\n   \n",
              "5                                                                                                                                                                                                                                                                                               In the hotel where Mr. Micawber requested to meet David in the middle of the night, David finds a **letter**. \\n\\nThis letter informs David that Mr. Micawber will be appearing in the morning at precisely half past nine. \\n   \n",
              "6                                                                                    At the end of the book, David's final thoughts are about **Agnes**. He reflects on their journey together through life, surrounded by their children and friends. He acknowledges her unwavering support and guidance through his darkest times, and expresses his enduring love for her. He sees her as a guiding light, a source of strength and inspiration, and hopes that her face will be the last thing he sees before he dies. \\n   \n",
              "\n",
              "   input_token_count  output_token_count  \n",
              "0             539714                  48  \n",
              "1             539716                  14  \n",
              "2             539718                  20  \n",
              "3             539716                 107  \n",
              "4             539719                  73  \n",
              "5             539725                  52  \n",
              "6             539713                  86  "
            ]
          },
          "execution_count": null,
          "metadata": {},
          "output_type": "execute_result"
        }
      ],
      "source": [
        "%%time\n",
        "prompt_template = \"\"\"\n",
        "Your task is to read the full text of the novel David Copperfield and then answer the questions below. \n",
        "\n",
        "<document>\n",
        "{context}\n",
        "</document>\n",
        "\n",
        "Based on the novel text provided, answer the following: \n",
        "{question}\n",
        "\"\"\"\n",
        "\n",
        "df_noncache = evaluate(questions, answers, prompt_template, novel, gemini_pro_model)\n",
        "df_noncache"
      ]
    },
    {
      "cell_type": "markdown",
      "metadata": {
        "id": "54034d18751b"
      },
      "source": [
        "#### Analysis\n",
        "\n",
        "- Latency: ~3 minutes\n",
        "- Cost: \\$17.24\n",
        "- Accuracy: 7/7\n",
        "\n",
        "Unsuprisingly latency is much greater since we're increasing our prompt size by 500K tokens. \n",
        "\n",
        "Cost is also significantly increased. At the time of this writing (refer to the [pricing](https://cloud.google.com/vertex-ai/generative-ai/pricing) for latest) Gemini 1.5 Pro costs $0.00125/1k input characters. The novel is 1,970,730 characters which amounts to \\$2.46 per invocation.\n",
        "\n",
        "However we now have 100% accuracy."
      ]
    },
    {
      "cell_type": "markdown",
      "metadata": {
        "id": "141231129252"
      },
      "source": [
        "### Batching multiple questions\n",
        "\n",
        "One way to save on cost and latency when dealing with long contexts is by batching multiple questions into one prompt. Let's try asking all 7 of our questions at once."
      ]
    },
    {
      "cell_type": "code",
      "execution_count": null,
      "metadata": {
        "id": "50e0634268dd"
      },
      "outputs": [
        {
          "name": "stdout",
          "output_type": "stream",
          "text": [
            "CPU times: user 1.54 s, sys: 16.6 ms, total: 1.56 s\n",
            "Wall time: 36.3 s\n"
          ]
        },
        {
          "data": {
            "text/markdown": [
              "Here are the answers to your questions, based on the provided text of *David Copperfield*:\n",
              "\n",
              "1. **What are the first objects that David can recall from his infancy?**  The first objects David remembers are his mother, with her pretty hair and youthful shape, and Peggotty, with her dark eyes and hard, red cheeks and arms.\n",
              "\n",
              "2. **At the inn where the mail stops, what is painted on the door?** The door of David's room at the inn has a DOLPHIN painted on it.\n",
              "\n",
              "3. **What name does David's aunt suggest to Mr. Dick they call him by?** David's aunt suggests they call him Trotwood, which later gets shortened to Trot.\n",
              "\n",
              "4. **Describe the room in which Mr. Copperfield meets Steerforth for breakfast.** Steerforth and David have breakfast in a 'snug private apartment, red-curtained and Turkey-carpeted, where the fire burnt bright, and a fine hot breakfast was set forth on a table covered with a clean cloth'. A miniature of the room is reflected in a 'little round mirror over the sideboard'.\n",
              "\n",
              "5. **After his engagement to Dora, David writes Agnes a letter. What is the letter about?** David writes to tell Agnes about his engagement to Dora, trying to convey how deeply in love he is and how wonderful Dora is. He also mentions the sadness at Yarmouth over Emily's disappearance, saying it is a double wound for him due to the circumstances. He doesn't mention Steerforth by name.\n",
              "\n",
              "6. **What does David find in the hotel where Mr. Micawber requested him to meet in the middle of the night?** David finds a letter from Mr. Micawber stating that there is no hope of the remittance he was expecting and that he is financially ruined. The letter is written in a melodramatic style, typical of Mr. Micawber.\n",
              "\n",
              "7. **Who are David's final thoughts about in the book?** David's final thoughts are about Agnes, his wife. He reflects on how she has always been his guiding light and how much he loves her. He expresses his hope that her face will be with him when he dies. \n"
            ],
            "text/plain": [
              "<IPython.core.display.Markdown object>"
            ]
          },
          "execution_count": null,
          "metadata": {},
          "output_type": "execute_result"
        }
      ],
      "source": [
        "%%time\n",
        "prompt_template = \"\"\"\n",
        "Your task is to read the full text of the novel David Copperfield and then answer the questions below. \n",
        "\n",
        "<document>\n",
        "{context}\n",
        "</document>\n",
        "\n",
        "Based on the novel text provided, answer the following: \n",
        "{question}\n",
        "\"\"\"\n",
        "\n",
        "prompt = prompt_template.format(context=novel, question=questions)\n",
        "response = gemini_pro_model.generate_content(prompt).text\n",
        "Markdown(response)"
      ]
    },
    {
      "cell_type": "markdown",
      "metadata": {
        "id": "90ba3100fac0"
      },
      "source": [
        "#### Analysis\n",
        "\n",
        "- Latency: 37 seconds\n",
        "- Cost: $2.47\n",
        "- Accuracy: 6/7\n",
        "\n",
        "While we save considerably on latency and cost, it now hallucinates the answer for question 6. Asking several questions in a single prompt, while cost and latency efficient, can sacrifice accuracy. \n",
        "\n",
        "You can treat the number of questions per prompt as a sort of hyperparameter, reducing it to prioritize accuracy and increasing it prioritize cost and/or latency. "
      ]
    },
    {
      "cell_type": "markdown",
      "metadata": {
        "id": "7049c7bd8a13"
      },
      "source": [
        "### Context Caching\n",
        "\n",
        "In cases where we anticipate multiple model invocations about the same long context, instead of passing the whole context in the prompt each time we can take advantage of [context caching](https://cloud.google.com/vertex-ai/generative-ai/docs/context-cache/context-cache-overview).\n",
        "\n",
        "Caching can be combined with batching to further reduce cost and latency. For example if you have 100 questions, ask in 10 batches of 10 questions. However in this case for the sake of comparison we will forgo batching and ask only one question per prompt.\n",
        "\n",
        "A few things to note with context caching:\n",
        "- The minimum size of a context cache is 32K tokens.\n",
        "- By default, each context cache has a expiration time of 60min, which can be updated either at or after cache creation."
      ]
    },
    {
      "cell_type": "code",
      "execution_count": null,
      "metadata": {
        "id": "a13d4c328088"
      },
      "outputs": [],
      "source": [
        "from vertexai.preview import caching\n",
        "from vertexai.preview.generative_models import GenerativeModel\n",
        "\n",
        "system_instruction = \"\"\"\n",
        "Your task is to read the full text of the novel David Copperfield and then answer the questions below. \n",
        "\"\"\"\n",
        "\n",
        "contents = [Part.from_text(novel)]\n",
        "\n",
        "cached_content = caching.CachedContent.create(\n",
        "    model_name=\"gemini-1.5-pro-001\",\n",
        "    system_instruction=system_instruction,\n",
        "    contents=contents,\n",
        "    ttl=datetime.timedelta(minutes=10),\n",
        ")\n",
        "cached_content = caching.CachedContent(cached_content_name=cached_content.name)\n",
        "\n",
        "model_cached = GenerativeModel.from_cached_content(\n",
        "    cached_content=cached_content,\n",
        "    generation_config=GENERATION_CONFIG,\n",
        "    safety_settings=SAFETY_CONFIG,\n",
        ")"
      ]
    },
    {
      "cell_type": "code",
      "execution_count": null,
      "metadata": {
        "id": "b8aa47962ff4"
      },
      "outputs": [
        {
          "name": "stdout",
          "output_type": "stream",
          "text": [
            "CPU times: user 90.7 ms, sys: 21.3 ms, total: 112 ms\n",
            "Wall time: 58.5 s\n"
          ]
        },
        {
          "data": {
            "text/html": [
              "<div>\n",
              "<style scoped>\n",
              "    .dataframe tbody tr th:only-of-type {\n",
              "        vertical-align: middle;\n",
              "    }\n",
              "\n",
              "    .dataframe tbody tr th {\n",
              "        vertical-align: top;\n",
              "    }\n",
              "\n",
              "    .dataframe thead th {\n",
              "        text-align: right;\n",
              "    }\n",
              "</style>\n",
              "<table border=\"1\" class=\"dataframe\">\n",
              "  <thead>\n",
              "    <tr style=\"text-align: right;\">\n",
              "      <th></th>\n",
              "      <th>question</th>\n",
              "      <th>ground_truth</th>\n",
              "      <th>model_response</th>\n",
              "      <th>input_token_count</th>\n",
              "      <th>output_token_count</th>\n",
              "    </tr>\n",
              "  </thead>\n",
              "  <tbody>\n",
              "    <tr>\n",
              "      <th>0</th>\n",
              "      <td>What are the first objects that David can recall from his infancy?</td>\n",
              "      <td>His mother with her pretty hair, and Peggotty.</td>\n",
              "      <td>The first objects David Copperfield remembers from his infancy are his mother, with her pretty hair and youthful shape, and Peggotty, with \"no shape at all\" and dark eyes, red cheeks, and hard arms. \\n</td>\n",
              "      <td>539701</td>\n",
              "      <td>48</td>\n",
              "    </tr>\n",
              "    <tr>\n",
              "      <th>1</th>\n",
              "      <td>At the inn where the mail stops, what is painted on the door?</td>\n",
              "      <td>DOLPHIN</td>\n",
              "      <td>The door has **DOLPHIN** painted on it. \\n</td>\n",
              "      <td>539703</td>\n",
              "      <td>14</td>\n",
              "    </tr>\n",
              "    <tr>\n",
              "      <th>2</th>\n",
              "      <td>What name does David's aunt suggest to Mr. Dick they call him by?</td>\n",
              "      <td>Trotwood Copperfield</td>\n",
              "      <td>David's aunt suggests to Mr. Dick that they call David \"Trotwood\". \\n</td>\n",
              "      <td>539705</td>\n",
              "      <td>20</td>\n",
              "    </tr>\n",
              "    <tr>\n",
              "      <th>3</th>\n",
              "      <td>Describe the room in which Mr. Copperfield meets Steerforth for breakfast.</td>\n",
              "      <td>A snug private apartment, red-curtained and Turkey-carpeted, where the fire burnt bright, and a fine hot breakfast was set forth on a table covered with a clean cloth; and a cheerful miniature of the room, the fire, the breakfast, Steerforth, and all, was shining in the little round mirror over the sideboard.</td>\n",
              "      <td>Mr. Copperfield describes the room where he has breakfast with Steerforth as a \"snug private apartment.\" It is decorated with red curtains and has a Turkey carpet. A bright fire burns in the fireplace, and a hot breakfast is laid out on a table covered with a clean tablecloth. The narrator notes that a miniature reflection of the cozy scene, including the fire, breakfast, and Steerforth himself, is visible in the small, round mirror hanging over the sideboard. \\n</td>\n",
              "      <td>539703</td>\n",
              "      <td>96</td>\n",
              "    </tr>\n",
              "    <tr>\n",
              "      <th>4</th>\n",
              "      <td>After his engagement to Dora, David write Agnes a letter. What is the letter about?</td>\n",
              "      <td>He writes to Agnes to assure her of his deep love for Agnes and that this was not a passing fancy or hasty decision.</td>\n",
              "      <td>After getting engaged to Dora, David writes a long letter to Agnes telling her about his engagement and how blissful he is. He describes how much he adores Dora and tries to convince Agnes that this love is different from the boyish fancies they used to joke about, claiming its depth is unfathomable. He avoids mentioning Steerforth and only tells her about the sadness in Yarmouth due to Emily's flight, which has caused him additional pain because of the circumstances surrounding it. \\n</td>\n",
              "      <td>539706</td>\n",
              "      <td>98</td>\n",
              "    </tr>\n",
              "    <tr>\n",
              "      <th>5</th>\n",
              "      <td>What does David find in the hotel where Mr. Micawber requested him to meet in the middle of the night?</td>\n",
              "      <td>A letter stating that he would appear in the morning at half past nine.</td>\n",
              "      <td>David finds a letter from Mr. Micawber stating that he will appear in the morning at half past nine. \\n</td>\n",
              "      <td>539712</td>\n",
              "      <td>25</td>\n",
              "    </tr>\n",
              "    <tr>\n",
              "      <th>6</th>\n",
              "      <td>Who are David's final thoughts about in the book?</td>\n",
              "      <td>Agnes</td>\n",
              "      <td>At the end of the book, David's final thoughts are about **Agnes**. He reflects on their journey together through life, surrounded by their children and friends. He acknowledges her unwavering support and guidance, and expresses his enduring love for her. He sees her as a guiding light, a source of solace and inspiration, and hopes that her presence will remain with him until the end of his life. \\n</td>\n",
              "      <td>539700</td>\n",
              "      <td>82</td>\n",
              "    </tr>\n",
              "  </tbody>\n",
              "</table>\n",
              "</div>"
            ],
            "text/plain": [
              "                                                                                                 question  \\\n",
              "0                                      What are the first objects that David can recall from his infancy?   \n",
              "1                                           At the inn where the mail stops, what is painted on the door?   \n",
              "2                                       What name does David's aunt suggest to Mr. Dick they call him by?   \n",
              "3                              Describe the room in which Mr. Copperfield meets Steerforth for breakfast.   \n",
              "4                     After his engagement to Dora, David write Agnes a letter. What is the letter about?   \n",
              "5  What does David find in the hotel where Mr. Micawber requested him to meet in the middle of the night?   \n",
              "6                                                       Who are David's final thoughts about in the book?   \n",
              "\n",
              "                                                                                                                                                                                                                                                                                                             ground_truth  \\\n",
              "0                                                                                                                                                                                                                                                                          His mother with her pretty hair, and Peggotty.   \n",
              "1                                                                                                                                                                                                                                                                                                                 DOLPHIN   \n",
              "2                                                                                                                                                                                                                                                                                                    Trotwood Copperfield   \n",
              "3  A snug private apartment, red-curtained and Turkey-carpeted, where the fire burnt bright, and a fine hot breakfast was set forth on a table covered with a clean cloth; and a cheerful miniature of the room, the fire, the breakfast, Steerforth, and all, was shining in the little round mirror over the sideboard.   \n",
              "4                                                                                                                                                                                                    He writes to Agnes to assure her of his deep love for Agnes and that this was not a passing fancy or hasty decision.   \n",
              "5                                                                                                                                                                                                                                                 A letter stating that he would appear in the morning at half past nine.   \n",
              "6                                                                                                                                                                                                                                                                                                                   Agnes   \n",
              "\n",
              "                                                                                                                                                                                                                                                                                                                                                                                                                                                                                               model_response  \\\n",
              "0                                                                                                                                                                                                                                                                                                   The first objects David Copperfield remembers from his infancy are his mother, with her pretty hair and youthful shape, and Peggotty, with \"no shape at all\" and dark eyes, red cheeks, and hard arms. \\n   \n",
              "1                                                                                                                                                                                                                                                                                                                                                                                                                                                                  The door has **DOLPHIN** painted on it. \\n   \n",
              "2                                                                                                                                                                                                                                                                                                                                                                                                                                       David's aunt suggests to Mr. Dick that they call David \"Trotwood\". \\n   \n",
              "3                         Mr. Copperfield describes the room where he has breakfast with Steerforth as a \"snug private apartment.\" It is decorated with red curtains and has a Turkey carpet. A bright fire burns in the fireplace, and a hot breakfast is laid out on a table covered with a clean tablecloth. The narrator notes that a miniature reflection of the cozy scene, including the fire, breakfast, and Steerforth himself, is visible in the small, round mirror hanging over the sideboard. \\n   \n",
              "4  After getting engaged to Dora, David writes a long letter to Agnes telling her about his engagement and how blissful he is. He describes how much he adores Dora and tries to convince Agnes that this love is different from the boyish fancies they used to joke about, claiming its depth is unfathomable. He avoids mentioning Steerforth and only tells her about the sadness in Yarmouth due to Emily's flight, which has caused him additional pain because of the circumstances surrounding it. \\n   \n",
              "5                                                                                                                                                                                                                                                                                                                                                                                                     David finds a letter from Mr. Micawber stating that he will appear in the morning at half past nine. \\n   \n",
              "6                                                                                          At the end of the book, David's final thoughts are about **Agnes**. He reflects on their journey together through life, surrounded by their children and friends. He acknowledges her unwavering support and guidance, and expresses his enduring love for her. He sees her as a guiding light, a source of solace and inspiration, and hopes that her presence will remain with him until the end of his life. \\n   \n",
              "\n",
              "   input_token_count  output_token_count  \n",
              "0             539701                  48  \n",
              "1             539703                  14  \n",
              "2             539705                  20  \n",
              "3             539703                  96  \n",
              "4             539706                  98  \n",
              "5             539712                  25  \n",
              "6             539700                  82  "
            ]
          },
          "execution_count": null,
          "metadata": {},
          "output_type": "execute_result"
        }
      ],
      "source": [
        "%%time\n",
        "cached_prompt_template = \"Answer the following question from the full text: {question}\"\n",
        "\n",
        "df_cache = evaluate(\n",
        "    questions,\n",
        "    answers,\n",
        "    cached_prompt_template,\n",
        "    novel,\n",
        "    model_cached,\n",
        "    is_context_cached=True,\n",
        ")\n",
        "df_cache"
      ]
    },
    {
      "cell_type": "markdown",
      "metadata": {
        "id": "711d552f2b71"
      },
      "source": [
        "### Analysis\n",
        "\n",
        "- Latency: 2.2 minutes\n",
        "- Cost: \\$1.60 (\\$1.23 query cost + \\$0.37 storage for 10 minutes)\n",
        "- Accuracy: 7/7\n",
        "\n",
        "\n",
        "Cached input is almost 10x discounted at \\$0.000625/1k input characters (> 128K context window), plus a storage charge of \\$0.001125/1k characters/hour. \n",
        "\n",
        "The more often you query, the more the caching approach saves. There is a latency improvement from caching and accuracy is back at 100%."
      ]
    },
    {
      "cell_type": "markdown",
      "metadata": {
        "id": "OJ2KpkZ0hLm0"
      },
      "source": [
        "# Conclusion"
      ]
    },
    {
      "cell_type": "markdown",
      "metadata": {
        "id": "d017fc06e485"
      },
      "source": [
        "| Trial | Accuracy | Latency | Cost |\n",
        "|---|---|---|---|\n",
        "| **Baseline** | 43% (3/7) | 0.4 min | \\$0.004 |\n",
        "| **LCW - Naive** | 100% (7/7) | 3 min | \\$17.24 |\n",
        "| **LCW - Batched** | 100% (7/7) | 0.6 min | \\$2.47 |\n",
        "| **LCW - Cached** | 100% (7/7) | 2.2 min | \\$1.60 |\n",
        "\n",
        "We have demonstrated various approaches to long context prompting and compared them across the dimensions of latency, cost and accuracy. \n",
        "\n",
        "Whenever using the same long context across multiple prompts, caching is a great option to reduce cost. You can amplify the cost savings and reduce latency by batching, but be careful as batching too many questions will start to negatively impact accuracy."
      ]
    }
  ],
  "metadata": {
    "colab": {
      "name": "gemini_long_context_text.ipynb",
      "toc_visible": true
    },
    "kernelspec": {
      "display_name": "Python 3",
      "name": "python3"
    }
  },
  "nbformat": 4,
  "nbformat_minor": 0
}
